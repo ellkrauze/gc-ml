{
 "cells": [
  {
   "cell_type": "markdown",
   "metadata": {},
   "source": [
    "# ParallelGC Flags Recommendation"
   ]
  },
  {
   "cell_type": "markdown",
   "metadata": {},
   "source": [
    "## Introduction"
   ]
  },
  {
   "cell_type": "markdown",
   "metadata": {},
   "source": [
    "The primary objective is to recommend JVM flag values that influence the ParallelGC configuration, based on pertinent metrics extracted from a Garbage Collector logging file.\n",
    "\n",
    "Our approach involves identifying crucial **GC log metrics** that provide significant insights into the user's performance tuning **objectives**. We will focus on tuning **JVM flags** that can directly impact these identified metrics. Essentially, we aim to analyze the input GC metrics, identify problematic metrics that can be addressed through flag tuning, and propose suitable flag values to align with the user's goals.\n",
    "\n",
    "Thus, we can frame our task as follows: \"Given a set of `metrics`, adjust the `flags` to optimize the `goal`.\""
   ]
  },
  {
   "cell_type": "markdown",
   "metadata": {},
   "source": [
    "### 1. Metrics\n",
    "Metrics, extracted from GC logging files, such as those analyzed using [GCViewer](https://github.com/chewiebug/GCViewer), provide valuable insights into our application's garbage collection process. They offer a deeper understanding of our application's behavior in relation to garbage collection.\n",
    "\n",
    "Below are some key metrics that we need to consider:\n",
    "| # | Name | Description |\n",
    "| ------ | ----- | --- |\n",
    "| 1 | fullGCPause | Sum of all pauses due to full collections. |\n",
    "| 2 | avgPause | Average length of a GC pause of any kind. |\n",
    "| 3 | fullGcPauseCount | Count of all pauses due to full collections. |\n",
    "| 4 | footprint | Maximal amount of memory allocated. |\n",
    "| 5 | gcPerformance | Performance of minor collections. These are collections that are not full according to the definition above. |\n",
    "| 6 | totalTenuredUsedMax | Total memory usage in tenured space. |\n",
    "| 7 | avgPromotion | Avg promotion shows the average amount of memory that is promoted from young to tenured with each young collection. |\n",
    "| 8 | fullGCPerformance | Performance of full collections. Note that all collections that include a collection of the tenured generation or are marked with \"Full GC\" are considered Full GC. |\n"
   ]
  },
  {
   "cell_type": "markdown",
   "metadata": {},
   "source": [
    "### 2. Flags\n",
    "The JVM offers numerous configuration options, but for our focus on ParallelGC, we'll emphasize essential options.\n",
    "\n",
    "By default, the JVM should be configured with `-XX:-UseParallelGC`. Here are the other options we'll consider tuning:\n",
    "\n",
    "| # | Name | Description |\n",
    "| ------ | ----- | --- |\n",
    "| 1 | ParallelGCThreads | The number of threads used for parallel garbage collection. This parameter influences the parallelism of the garbage collection process. |\n",
    "| 2 | MaxTenuringThreshold | The maximum age threshold for objects in the young generation before they are promoted to the old generation. This parameter influences when objects are promoted to the old generation during garbage collection. |\n",
    "| 3 | Xmx | The maximum heap size that the JVM can allocate for the Java application. |\n",
    "| 4 | Xms | The initial heap size that the JVM allocates for the Java application. |\n",
    "| 5 | Xmn | The initial and maximum size of the heap for the young generation. |\n",
    "| 6 | SurvivorRatio | The ratio of eden space to survivor space in the young generation. For example, if SurvivorRatio is 4, then eden space is one-fifth of the young generation, and each survivor space is one-twentieth of the young generation. |\n",
    "| 7 | TargetSurvivorRatio | The desired survivor space ratio after minor garbage collection. It's used to calculate the desired size of survivor spaces. |\n"
   ]
  },
  {
   "cell_type": "markdown",
   "metadata": {},
   "source": [
    "### 3. Goal\n",
    "\n",
    "The primary goal is to optimize the user's performance metric, which can include `footprint`, `throughput`, `totalTime`, or any other metric extracted from the GC logging file. \n",
    "> While tuning a single user's objective at a time is the simplest approach, exploring multi-objective tuning is also valuable for future research."
   ]
  },
  {
   "cell_type": "markdown",
   "metadata": {},
   "source": [
    "## 1. PPO"
   ]
  },
  {
   "cell_type": "code",
   "execution_count": null,
   "metadata": {},
   "outputs": [],
   "source": []
  }
 ],
 "metadata": {
  "kernelspec": {
   "display_name": "gc-ml-env",
   "language": "python",
   "name": "python3"
  },
  "language_info": {
   "name": "python",
   "version": "3.8.18"
  }
 },
 "nbformat": 4,
 "nbformat_minor": 2
}
