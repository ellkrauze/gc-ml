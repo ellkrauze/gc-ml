{
 "cells": [
  {
   "cell_type": "markdown",
   "metadata": {},
   "source": [
    "# GC Logs Clustering"
   ]
  },
  {
   "cell_type": "code",
   "execution_count": 4,
   "metadata": {},
   "outputs": [
    {
     "name": "stdout",
     "output_type": "stream",
     "text": [
      "Collecting yellowbrick\n",
      "  Downloading yellowbrick-1.5-py3-none-any.whl (282 kB)\n",
      "\u001b[2K     \u001b[90m━━━━━━━━━━━━━━━━━━━━━━━━━━━━━━━━━━━━━━━\u001b[0m \u001b[32m282.6/282.6 kB\u001b[0m \u001b[31m6.2 MB/s\u001b[0m eta \u001b[36m0:00:00\u001b[0m00:01\u001b[0m\n",
      "\u001b[?25hRequirement already satisfied: matplotlib!=3.0.0,>=2.0.2 in ./gc-ml/gc-ml-env/lib/python3.8/site-packages (from yellowbrick) (3.7.2)\n",
      "Requirement already satisfied: scipy>=1.0.0 in ./gc-ml/gc-ml-env/lib/python3.8/site-packages (from yellowbrick) (1.10.1)\n",
      "Requirement already satisfied: scikit-learn>=1.0.0 in ./gc-ml/gc-ml-env/lib/python3.8/site-packages (from yellowbrick) (1.3.2)\n",
      "Requirement already satisfied: numpy>=1.16.0 in ./gc-ml/gc-ml-env/lib/python3.8/site-packages (from yellowbrick) (1.24.3)\n",
      "Requirement already satisfied: cycler>=0.10.0 in ./gc-ml/gc-ml-env/lib/python3.8/site-packages (from yellowbrick) (0.11.0)\n",
      "Requirement already satisfied: contourpy>=1.0.1 in ./gc-ml/gc-ml-env/lib/python3.8/site-packages (from matplotlib!=3.0.0,>=2.0.2->yellowbrick) (1.1.0)\n",
      "Requirement already satisfied: fonttools>=4.22.0 in ./gc-ml/gc-ml-env/lib/python3.8/site-packages (from matplotlib!=3.0.0,>=2.0.2->yellowbrick) (4.42.1)\n",
      "Requirement already satisfied: kiwisolver>=1.0.1 in ./gc-ml/gc-ml-env/lib/python3.8/site-packages (from matplotlib!=3.0.0,>=2.0.2->yellowbrick) (1.4.4)\n",
      "Requirement already satisfied: packaging>=20.0 in ./gc-ml/gc-ml-env/lib/python3.8/site-packages (from matplotlib!=3.0.0,>=2.0.2->yellowbrick) (23.2)\n",
      "Requirement already satisfied: pillow>=6.2.0 in ./gc-ml/gc-ml-env/lib/python3.8/site-packages (from matplotlib!=3.0.0,>=2.0.2->yellowbrick) (10.0.0)\n",
      "Requirement already satisfied: pyparsing<3.1,>=2.3.1 in ./gc-ml/gc-ml-env/lib/python3.8/site-packages (from matplotlib!=3.0.0,>=2.0.2->yellowbrick) (3.0.9)\n",
      "Requirement already satisfied: python-dateutil>=2.7 in ./gc-ml/gc-ml-env/lib/python3.8/site-packages (from matplotlib!=3.0.0,>=2.0.2->yellowbrick) (2.8.2)\n",
      "Requirement already satisfied: importlib-resources>=3.2.0 in ./gc-ml/gc-ml-env/lib/python3.8/site-packages (from matplotlib!=3.0.0,>=2.0.2->yellowbrick) (6.0.1)\n",
      "Requirement already satisfied: joblib>=1.1.1 in ./gc-ml/gc-ml-env/lib/python3.8/site-packages (from scikit-learn>=1.0.0->yellowbrick) (1.3.2)\n",
      "Requirement already satisfied: threadpoolctl>=2.0.0 in ./gc-ml/gc-ml-env/lib/python3.8/site-packages (from scikit-learn>=1.0.0->yellowbrick) (3.2.0)\n",
      "Requirement already satisfied: zipp>=3.1.0 in ./gc-ml/gc-ml-env/lib/python3.8/site-packages (from importlib-resources>=3.2.0->matplotlib!=3.0.0,>=2.0.2->yellowbrick) (3.17.0)\n",
      "Requirement already satisfied: six>=1.5 in ./gc-ml/gc-ml-env/lib/python3.8/site-packages (from python-dateutil>=2.7->matplotlib!=3.0.0,>=2.0.2->yellowbrick) (1.16.0)\n",
      "Installing collected packages: yellowbrick\n",
      "Successfully installed yellowbrick-1.5\n",
      "\n",
      "\u001b[1m[\u001b[0m\u001b[34;49mnotice\u001b[0m\u001b[1;39;49m]\u001b[0m\u001b[39;49m A new release of pip is available: \u001b[0m\u001b[31;49m23.3.1\u001b[0m\u001b[39;49m -> \u001b[0m\u001b[32;49m24.0\u001b[0m\n",
      "\u001b[1m[\u001b[0m\u001b[34;49mnotice\u001b[0m\u001b[1;39;49m]\u001b[0m\u001b[39;49m To update, run: \u001b[0m\u001b[32;49mpip install --upgrade pip\u001b[0m\n"
     ]
    }
   ],
   "source": [
    "! pip install yellowbrick xgboost"
   ]
  },
  {
   "cell_type": "code",
   "execution_count": 1,
   "metadata": {},
   "outputs": [
    {
     "name": "stdout",
     "output_type": "stream",
     "text": [
      "/Users/ellkrauze/projects/gc-ml\n"
     ]
    },
    {
     "name": "stderr",
     "output_type": "stream",
     "text": [
      "/var/folders/dn/p1_3j9fs78g4wn8r0hcrqks40000gn/T/ipykernel_55591/1348600749.py:23: MatplotlibDeprecationWarning:\n",
      "\n",
      "The seaborn styles shipped by Matplotlib are deprecated since 3.6, as they no longer correspond to the styles shipped by seaborn. However, they will remain available as 'seaborn-v0_8-<style>'. Alternatively, directly use the seaborn API instead.\n",
      "\n"
     ]
    },
    {
     "data": {
      "text/html": [
       "        <script type=\"text/javascript\">\n",
       "        window.PlotlyConfig = {MathJaxConfig: 'local'};\n",
       "        if (window.MathJax && window.MathJax.Hub && window.MathJax.Hub.Config) {window.MathJax.Hub.Config({SVG: {font: \"STIX-Web\"}});}\n",
       "        if (typeof require !== 'undefined') {\n",
       "        require.undef(\"plotly\");\n",
       "        requirejs.config({\n",
       "            paths: {\n",
       "                'plotly': ['https://cdn.plot.ly/plotly-2.27.0.min']\n",
       "            }\n",
       "        });\n",
       "        require(['plotly'], function(Plotly) {\n",
       "            window._Plotly = Plotly;\n",
       "        });\n",
       "        }\n",
       "        </script>\n",
       "        "
      ]
     },
     "metadata": {},
     "output_type": "display_data"
    }
   ],
   "source": [
    "%cd ..\n",
    "import os\n",
    "import glob \n",
    "\n",
    "import pandas as pd\n",
    "import numpy as np\n",
    "import matplotlib.pyplot as plt\n",
    "import seaborn as sns\n",
    "import xgboost as xgb\n",
    "from sklearn.cluster import KMeans\n",
    "from sklearn.decomposition import PCA\n",
    "from sklearn.preprocessing import MinMaxScaler\n",
    "from sklearn.model_selection import train_test_split\n",
    "from sklearn.inspection import permutation_importance\n",
    "\n",
    "from yellowbrick.cluster import KElbowVisualizer\n",
    "import plotly as py\n",
    "import plotly.graph_objs as go\n",
    "from plotly.offline import download_plotlyjs, init_notebook_mode, plot, iplot\n",
    "\n",
    "from util.dataset_util import get_data_from_csv\n",
    "\n",
    "plt.style.use(\"seaborn-whitegrid\")\n",
    "plt.rc(\"figure\", autolayout=True)\n",
    "plt.rc(\n",
    "    \"axes\",\n",
    "    labelweight=\"bold\",\n",
    "    labelsize=\"large\",\n",
    "    titleweight=\"bold\",\n",
    "    titlesize=14,\n",
    "    titlepad=10,\n",
    ")\n",
    "\n",
    "scaler = MinMaxScaler()\n",
    "\n",
    "#This is needed so we can display plotly plots properly\n",
    "init_notebook_mode(connected=True)"
   ]
  },
  {
   "cell_type": "code",
   "execution_count": 77,
   "metadata": {},
   "outputs": [],
   "source": [
    "def get_data(path, goals):\n",
    "    \"\"\"Read summaries from a folder,\n",
    "    create Dataframe from it with metrics set.\n",
    "\n",
    "    Args:\n",
    "        path (str): Path to the summaries to read.\n",
    "        goals (list[str]): Summaries fields that define target variable.\n",
    "    \n",
    "    Returns:\n",
    "        (pd.DataFrame) Summary dataframe\n",
    "    \"\"\"\n",
    "    assert os.path.exists(path), f\"Path {path} does not exist!\"\n",
    "    assert len(goals) != 0, \"Metric fields cannot be empty!\"\n",
    "    \n",
    "    dfs = []\n",
    "    for df_path in glob.glob(os.path.join(path,\"*.csv\")):\n",
    "        xmx = int(df_path.split('_')[-3])\n",
    "        x, y, z =  get_data_from_csv(df_path, goals)\n",
    "        \n",
    "        # print(z)\n",
    "        # assert len(z) == len(goals), f\"Got {len(z)} values, {len(goals)} expected\"\n",
    "        # print(f\"Got {len(z)} \")\n",
    "        df = pd.DataFrame({\n",
    "            # \"MaxTenuringThreshold\": y,\n",
    "            # \"ParallelGCThreads\": x,\n",
    "            # \"Xmx\": xmx,\n",
    "        })\n",
    "        df[goals] = z\n",
    "        dfs.append(df)\n",
    "    result_df = pd.concat(dfs)\n",
    "    \n",
    "    return result_df.copy()"
   ]
  },
  {
   "cell_type": "markdown",
   "metadata": {},
   "source": [
    "## 1. Read Data"
   ]
  },
  {
   "cell_type": "code",
   "execution_count": 78,
   "metadata": {},
   "outputs": [
    {
     "data": {
      "text/plain": [
       "array(['totalHeapUsedMax', 'totalHeapUsedMaxpc', 'totalTenuredAllocMax',\n",
       "       'totalTenuredUsedMax', 'totalTenuredUsedMaxpc',\n",
       "       'totalYoungAllocMax', 'totalYoungUsedMax', 'totalYoungUsedMaxpc',\n",
       "       'totalPermAllocMax', 'totalPermUsedMax', 'totalPermUsedMaxpc',\n",
       "       'avgfootprintAfterFullGC', 'avgfootprintAfterFullGCσ',\n",
       "       'freedMemoryByFullGC', 'freedMemoryByFullGCpc',\n",
       "       'avgFreedMemoryByFullGC', 'avgFreedMemoryByFullGCσ',\n",
       "       'slopeAfterFullGC', 'avgRelativePostFullGCInc',\n",
       "       'avgfootprintAfterGC', 'avgfootprintAfterGCσ', 'slopeAfterGC',\n",
       "       'avgRelativePostGCInc', 'freedMemoryByGC', 'freedMemoryByGCpc',\n",
       "       'avgFreedMemoryByGC', 'avgFreedMemoryByGCσ', 'avgPromotion',\n",
       "       'promotionTotal', 'pauseCount', 'avgPause', 'avgPauseσ',\n",
       "       'minPause', 'maxPause', 'gcPauseCount', 'avgGCPause',\n",
       "       'avgGCPauseσ', 'fullGcPauseCount', 'avgFullGCPause',\n",
       "       'avgFullGCPauseσ', 'minFullGCPause', 'maxFullGCPause',\n",
       "       'accumPause', 'fullGCPause', 'fullGCPausePc', 'gcPause',\n",
       "       'gcPausePc', 'footprint', 'freedMemory', 'throughput', 'totalTime',\n",
       "       'freedMemoryPerMin', 'gcPerformance', 'fullGCPerformance'],\n",
       "      dtype=object)"
      ]
     },
     "execution_count": 78,
     "metadata": {},
     "output_type": "execute_result"
    }
   ],
   "source": [
    "sample_path = os.path.join(\"summaries_avrora/summary_gc_avrora_2_4_1.csv\")\n",
    "\n",
    "# Get columns that are not boolean.\n",
    "sample_df = pd.read_csv(sample_path, sep=';')\n",
    "sample_df = sample_df[(sample_df.iloc[:, 2] != \" bool\")]\n",
    "summary_fields = sample_df.T.iloc[0, 1:].values\n",
    "summary_fields"
   ]
  },
  {
   "cell_type": "code",
   "execution_count": 79,
   "metadata": {},
   "outputs": [
    {
     "data": {
      "text/plain": [
       "54"
      ]
     },
     "execution_count": 79,
     "metadata": {},
     "output_type": "execute_result"
    }
   ],
   "source": [
    "len(summary_fields)"
   ]
  },
  {
   "cell_type": "code",
   "execution_count": 80,
   "metadata": {},
   "outputs": [
    {
     "name": "stdout",
     "output_type": "stream",
     "text": [
      "Size:  19440\n",
      "Shape:  (360, 54)\n",
      "Rows:  360\n"
     ]
    },
    {
     "data": {
      "text/html": [
       "<div>\n",
       "<style scoped>\n",
       "    .dataframe tbody tr th:only-of-type {\n",
       "        vertical-align: middle;\n",
       "    }\n",
       "\n",
       "    .dataframe tbody tr th {\n",
       "        vertical-align: top;\n",
       "    }\n",
       "\n",
       "    .dataframe thead th {\n",
       "        text-align: right;\n",
       "    }\n",
       "</style>\n",
       "<table border=\"1\" class=\"dataframe\">\n",
       "  <thead>\n",
       "    <tr style=\"text-align: right;\">\n",
       "      <th></th>\n",
       "      <th>totalHeapUsedMax</th>\n",
       "      <th>totalHeapUsedMaxpc</th>\n",
       "      <th>totalTenuredAllocMax</th>\n",
       "      <th>totalTenuredUsedMax</th>\n",
       "      <th>totalTenuredUsedMaxpc</th>\n",
       "      <th>totalYoungAllocMax</th>\n",
       "      <th>totalYoungUsedMax</th>\n",
       "      <th>totalYoungUsedMaxpc</th>\n",
       "      <th>totalPermAllocMax</th>\n",
       "      <th>totalPermUsedMax</th>\n",
       "      <th>...</th>\n",
       "      <th>fullGCPausePc</th>\n",
       "      <th>gcPause</th>\n",
       "      <th>gcPausePc</th>\n",
       "      <th>footprint</th>\n",
       "      <th>freedMemory</th>\n",
       "      <th>throughput</th>\n",
       "      <th>totalTime</th>\n",
       "      <th>freedMemoryPerMin</th>\n",
       "      <th>gcPerformance</th>\n",
       "      <th>fullGCPerformance</th>\n",
       "    </tr>\n",
       "  </thead>\n",
       "  <tbody>\n",
       "    <tr>\n",
       "      <th>0</th>\n",
       "      <td>131.0</td>\n",
       "      <td>8.7</td>\n",
       "      <td>1008.0</td>\n",
       "      <td>3355.0</td>\n",
       "      <td>0.3</td>\n",
       "      <td>500.5</td>\n",
       "      <td>129.220993</td>\n",
       "      <td>25.799999</td>\n",
       "      <td>0.0</td>\n",
       "      <td>0.0</td>\n",
       "      <td>...</td>\n",
       "      <td>89.900002</td>\n",
       "      <td>0.04</td>\n",
       "      <td>10.1</td>\n",
       "      <td>1508.0</td>\n",
       "      <td>560.0</td>\n",
       "      <td>99.699997</td>\n",
       "      <td>124.0</td>\n",
       "      <td>269.230988</td>\n",
       "      <td>14920.583984</td>\n",
       "      <td>6134.620117</td>\n",
       "    </tr>\n",
       "    <tr>\n",
       "      <th>0</th>\n",
       "      <td>161.0</td>\n",
       "      <td>10.7</td>\n",
       "      <td>1008.0</td>\n",
       "      <td>3355.0</td>\n",
       "      <td>0.3</td>\n",
       "      <td>500.5</td>\n",
       "      <td>159.041000</td>\n",
       "      <td>31.799999</td>\n",
       "      <td>0.0</td>\n",
       "      <td>0.0</td>\n",
       "      <td>...</td>\n",
       "      <td>91.400002</td>\n",
       "      <td>0.04</td>\n",
       "      <td>8.6</td>\n",
       "      <td>1508.0</td>\n",
       "      <td>582.0</td>\n",
       "      <td>99.639999</td>\n",
       "      <td>125.0</td>\n",
       "      <td>278.984985</td>\n",
       "      <td>14959.634766</td>\n",
       "      <td>4953.667969</td>\n",
       "    </tr>\n",
       "    <tr>\n",
       "      <th>0</th>\n",
       "      <td>161.0</td>\n",
       "      <td>10.7</td>\n",
       "      <td>1008.0</td>\n",
       "      <td>3409.0</td>\n",
       "      <td>0.3</td>\n",
       "      <td>500.5</td>\n",
       "      <td>159.039993</td>\n",
       "      <td>31.799999</td>\n",
       "      <td>0.0</td>\n",
       "      <td>0.0</td>\n",
       "      <td>...</td>\n",
       "      <td>91.699997</td>\n",
       "      <td>0.04</td>\n",
       "      <td>8.3</td>\n",
       "      <td>1508.0</td>\n",
       "      <td>587.0</td>\n",
       "      <td>99.709999</td>\n",
       "      <td>151.0</td>\n",
       "      <td>232.098007</td>\n",
       "      <td>16238.272461</td>\n",
       "      <td>5117.300781</td>\n",
       "    </tr>\n",
       "    <tr>\n",
       "      <th>0</th>\n",
       "      <td>161.0</td>\n",
       "      <td>10.7</td>\n",
       "      <td>1008.0</td>\n",
       "      <td>3355.0</td>\n",
       "      <td>0.3</td>\n",
       "      <td>500.5</td>\n",
       "      <td>159.041000</td>\n",
       "      <td>31.799999</td>\n",
       "      <td>0.0</td>\n",
       "      <td>0.0</td>\n",
       "      <td>...</td>\n",
       "      <td>90.800003</td>\n",
       "      <td>0.04</td>\n",
       "      <td>9.2</td>\n",
       "      <td>1508.0</td>\n",
       "      <td>579.0</td>\n",
       "      <td>99.699997</td>\n",
       "      <td>155.0</td>\n",
       "      <td>223.451004</td>\n",
       "      <td>13366.382812</td>\n",
       "      <td>4824.204102</td>\n",
       "    </tr>\n",
       "    <tr>\n",
       "      <th>0</th>\n",
       "      <td>154.0</td>\n",
       "      <td>10.2</td>\n",
       "      <td>1008.0</td>\n",
       "      <td>3354.0</td>\n",
       "      <td>0.3</td>\n",
       "      <td>500.5</td>\n",
       "      <td>151.585999</td>\n",
       "      <td>30.299999</td>\n",
       "      <td>0.0</td>\n",
       "      <td>0.0</td>\n",
       "      <td>...</td>\n",
       "      <td>91.699997</td>\n",
       "      <td>0.04</td>\n",
       "      <td>8.3</td>\n",
       "      <td>1508.0</td>\n",
       "      <td>573.0</td>\n",
       "      <td>99.669998</td>\n",
       "      <td>152.0</td>\n",
       "      <td>225.132004</td>\n",
       "      <td>13693.045898</td>\n",
       "      <td>4424.913086</td>\n",
       "    </tr>\n",
       "  </tbody>\n",
       "</table>\n",
       "<p>5 rows × 54 columns</p>\n",
       "</div>"
      ],
      "text/plain": [
       "   totalHeapUsedMax  totalHeapUsedMaxpc  totalTenuredAllocMax  \\\n",
       "0             131.0                 8.7                1008.0   \n",
       "0             161.0                10.7                1008.0   \n",
       "0             161.0                10.7                1008.0   \n",
       "0             161.0                10.7                1008.0   \n",
       "0             154.0                10.2                1008.0   \n",
       "\n",
       "   totalTenuredUsedMax  totalTenuredUsedMaxpc  totalYoungAllocMax  \\\n",
       "0               3355.0                    0.3               500.5   \n",
       "0               3355.0                    0.3               500.5   \n",
       "0               3409.0                    0.3               500.5   \n",
       "0               3355.0                    0.3               500.5   \n",
       "0               3354.0                    0.3               500.5   \n",
       "\n",
       "   totalYoungUsedMax  totalYoungUsedMaxpc  totalPermAllocMax  \\\n",
       "0         129.220993            25.799999                0.0   \n",
       "0         159.041000            31.799999                0.0   \n",
       "0         159.039993            31.799999                0.0   \n",
       "0         159.041000            31.799999                0.0   \n",
       "0         151.585999            30.299999                0.0   \n",
       "\n",
       "   totalPermUsedMax  ...  fullGCPausePc  gcPause  gcPausePc  footprint  \\\n",
       "0               0.0  ...      89.900002     0.04       10.1     1508.0   \n",
       "0               0.0  ...      91.400002     0.04        8.6     1508.0   \n",
       "0               0.0  ...      91.699997     0.04        8.3     1508.0   \n",
       "0               0.0  ...      90.800003     0.04        9.2     1508.0   \n",
       "0               0.0  ...      91.699997     0.04        8.3     1508.0   \n",
       "\n",
       "   freedMemory  throughput  totalTime  freedMemoryPerMin  gcPerformance  \\\n",
       "0        560.0   99.699997      124.0         269.230988   14920.583984   \n",
       "0        582.0   99.639999      125.0         278.984985   14959.634766   \n",
       "0        587.0   99.709999      151.0         232.098007   16238.272461   \n",
       "0        579.0   99.699997      155.0         223.451004   13366.382812   \n",
       "0        573.0   99.669998      152.0         225.132004   13693.045898   \n",
       "\n",
       "   fullGCPerformance  \n",
       "0        6134.620117  \n",
       "0        4953.667969  \n",
       "0        5117.300781  \n",
       "0        4824.204102  \n",
       "0        4424.913086  \n",
       "\n",
       "[5 rows x 54 columns]"
      ]
     },
     "execution_count": 80,
     "metadata": {},
     "output_type": "execute_result"
    }
   ],
   "source": [
    "df = pd.concat(\n",
    "    [\n",
    "        get_data(\"summaries_avrora\", summary_fields),\n",
    "        get_data(\"summaries_kafka\", summary_fields)\n",
    "    ]\n",
    ")\n",
    "\n",
    "print(\"Size: \", df.size)\n",
    "print(\"Shape: \", df.shape)\n",
    "print(\"Rows: \", len(df))\n",
    "df.head(5)"
   ]
  },
  {
   "cell_type": "code",
   "execution_count": 81,
   "metadata": {},
   "outputs": [
    {
     "name": "stdout",
     "output_type": "stream",
     "text": [
      "X - columns: (360, 54)\n",
      "Y - target columns: (360,)\n"
     ]
    }
   ],
   "source": [
    "target = \"fullGCPause\"\n",
    "X = df\n",
    "# X = df[df.columns[~df.columns.isin([target])]]\n",
    "Y = df[target]\n",
    "\n",
    "print(\"X - columns:\", X.shape)\n",
    "print(\"Y - target columns:\", Y.shape)"
   ]
  },
  {
   "cell_type": "markdown",
   "metadata": {},
   "source": [
    "### 1.1. EDA"
   ]
  },
  {
   "cell_type": "code",
   "execution_count": 82,
   "metadata": {},
   "outputs": [
    {
     "data": {
      "text/plain": [
       "<Axes: >"
      ]
     },
     "execution_count": 82,
     "metadata": {},
     "output_type": "execute_result"
    },
    {
     "data": {
      "image/png": "[encoded data removed]",
      "text/plain": [
       "<Figure size 800x550 with 1 Axes>"
      ]
     },
     "metadata": {},
     "output_type": "display_data"
    }
   ],
   "source": [
    "df[target].hist()"
   ]
  },
  {
   "cell_type": "markdown",
   "metadata": {},
   "source": [
    "## 2. Preprocess data"
   ]
  },
  {
   "cell_type": "markdown",
   "metadata": {},
   "source": [
    "Now, before we get into clustering our data, we just need to do one more thing: feature-scale our numerical variables.\n",
    "\n",
    "We need to do this because, while each of our categorical variables hold values of either 0 or 1, some of our numerical variables hold values like 2596 and 2785. If we were to leave our data like this, then K-Means Clustering would not give us such a nice result, since K-Means Clustering measures the euclidean distance between data-points. This means that, if we were to leave our numeical variables un-scaled, then most of the distance measured between points would be attributed to the larger numerical variables, rather than any of the categorical variables.\n",
    "\n",
    "To fix this problem we will scale all of our numerical variables through the use of sklearn's StandardScaler tool. This tool allows us to scale each numerical variable such that each numerical variable's mean becomes 0, and it's variance becomes 1. This is a good way to make sure that all of the numerical variables are on roughly the same scale that the categorical (binary) variables are on."
   ]
  },
  {
   "cell_type": "code",
   "execution_count": 83,
   "metadata": {},
   "outputs": [
    {
     "name": "stderr",
     "output_type": "stream",
     "text": [
      "/Users/ellkrauze/projects/gc-ml/gc-ml-env/lib/python3.8/site-packages/sklearn/preprocessing/_data.py:480: RuntimeWarning:\n",
      "\n",
      "All-NaN slice encountered\n",
      "\n",
      "/Users/ellkrauze/projects/gc-ml/gc-ml-env/lib/python3.8/site-packages/sklearn/preprocessing/_data.py:481: RuntimeWarning:\n",
      "\n",
      "All-NaN slice encountered\n",
      "\n"
     ]
    }
   ],
   "source": [
    "cols = X.columns\n",
    "X = scaler.fit_transform(X)\n",
    "\n",
    "X = pd.DataFrame(X, columns=[cols])\n",
    "X = X.dropna(axis=1)  # drop columns with missing values "
   ]
  },
  {
   "cell_type": "code",
   "execution_count": 100,
   "metadata": {},
   "outputs": [
    {
     "data": {
      "text/html": [
       "<div>\n",
       "<style scoped>\n",
       "    .dataframe tbody tr th:only-of-type {\n",
       "        vertical-align: middle;\n",
       "    }\n",
       "\n",
       "    .dataframe tbody tr th {\n",
       "        vertical-align: top;\n",
       "    }\n",
       "\n",
       "    .dataframe thead tr th {\n",
       "        text-align: left;\n",
       "    }\n",
       "</style>\n",
       "<table border=\"1\" class=\"dataframe\">\n",
       "  <thead>\n",
       "    <tr>\n",
       "      <th></th>\n",
       "      <th>totalHeapUsedMax</th>\n",
       "      <th>totalHeapUsedMaxpc</th>\n",
       "      <th>totalTenuredAllocMax</th>\n",
       "      <th>totalTenuredUsedMax</th>\n",
       "      <th>totalTenuredUsedMaxpc</th>\n",
       "      <th>totalYoungAllocMax</th>\n",
       "      <th>totalYoungUsedMax</th>\n",
       "      <th>totalYoungUsedMaxpc</th>\n",
       "      <th>totalPermAllocMax</th>\n",
       "      <th>totalPermUsedMax</th>\n",
       "      <th>...</th>\n",
       "      <th>fullGCPausePc</th>\n",
       "      <th>gcPause</th>\n",
       "      <th>gcPausePc</th>\n",
       "      <th>footprint</th>\n",
       "      <th>freedMemory</th>\n",
       "      <th>throughput</th>\n",
       "      <th>totalTime</th>\n",
       "      <th>freedMemoryPerMin</th>\n",
       "      <th>gcPerformance</th>\n",
       "      <th>fullGCPerformance</th>\n",
       "    </tr>\n",
       "  </thead>\n",
       "  <tbody>\n",
       "    <tr>\n",
       "      <th>0</th>\n",
       "      <td>0.000000</td>\n",
       "      <td>0.000000</td>\n",
       "      <td>0.0</td>\n",
       "      <td>0.688107</td>\n",
       "      <td>0.0</td>\n",
       "      <td>0.0</td>\n",
       "      <td>0.000000</td>\n",
       "      <td>0.00000</td>\n",
       "      <td>0.0</td>\n",
       "      <td>0.0</td>\n",
       "      <td>...</td>\n",
       "      <td>0.352518</td>\n",
       "      <td>0.214286</td>\n",
       "      <td>0.647482</td>\n",
       "      <td>0.0</td>\n",
       "      <td>0.003474</td>\n",
       "      <td>0.978819</td>\n",
       "      <td>0.054388</td>\n",
       "      <td>0.004605</td>\n",
       "      <td>0.022846</td>\n",
       "      <td>0.601201</td>\n",
       "    </tr>\n",
       "    <tr>\n",
       "      <th>1</th>\n",
       "      <td>0.010084</td>\n",
       "      <td>0.033113</td>\n",
       "      <td>0.0</td>\n",
       "      <td>0.688107</td>\n",
       "      <td>0.0</td>\n",
       "      <td>0.0</td>\n",
       "      <td>0.010608</td>\n",
       "      <td>0.07772</td>\n",
       "      <td>0.0</td>\n",
       "      <td>0.0</td>\n",
       "      <td>...</td>\n",
       "      <td>0.460432</td>\n",
       "      <td>0.214286</td>\n",
       "      <td>0.539568</td>\n",
       "      <td>0.0</td>\n",
       "      <td>0.006530</td>\n",
       "      <td>0.974281</td>\n",
       "      <td>0.054845</td>\n",
       "      <td>0.004784</td>\n",
       "      <td>0.022955</td>\n",
       "      <td>0.485268</td>\n",
       "    </tr>\n",
       "    <tr>\n",
       "      <th>2</th>\n",
       "      <td>0.010084</td>\n",
       "      <td>0.033113</td>\n",
       "      <td>0.0</td>\n",
       "      <td>0.699730</td>\n",
       "      <td>0.0</td>\n",
       "      <td>0.0</td>\n",
       "      <td>0.010608</td>\n",
       "      <td>0.07772</td>\n",
       "      <td>0.0</td>\n",
       "      <td>0.0</td>\n",
       "      <td>...</td>\n",
       "      <td>0.482014</td>\n",
       "      <td>0.214286</td>\n",
       "      <td>0.517986</td>\n",
       "      <td>0.0</td>\n",
       "      <td>0.007225</td>\n",
       "      <td>0.979576</td>\n",
       "      <td>0.066728</td>\n",
       "      <td>0.003921</td>\n",
       "      <td>0.026522</td>\n",
       "      <td>0.501332</td>\n",
       "    </tr>\n",
       "    <tr>\n",
       "      <th>3</th>\n",
       "      <td>0.010084</td>\n",
       "      <td>0.033113</td>\n",
       "      <td>0.0</td>\n",
       "      <td>0.688107</td>\n",
       "      <td>0.0</td>\n",
       "      <td>0.0</td>\n",
       "      <td>0.010608</td>\n",
       "      <td>0.07772</td>\n",
       "      <td>0.0</td>\n",
       "      <td>0.0</td>\n",
       "      <td>...</td>\n",
       "      <td>0.417266</td>\n",
       "      <td>0.214286</td>\n",
       "      <td>0.582734</td>\n",
       "      <td>0.0</td>\n",
       "      <td>0.006114</td>\n",
       "      <td>0.978819</td>\n",
       "      <td>0.068556</td>\n",
       "      <td>0.003762</td>\n",
       "      <td>0.018511</td>\n",
       "      <td>0.472559</td>\n",
       "    </tr>\n",
       "    <tr>\n",
       "      <th>4</th>\n",
       "      <td>0.007731</td>\n",
       "      <td>0.024834</td>\n",
       "      <td>0.0</td>\n",
       "      <td>0.687892</td>\n",
       "      <td>0.0</td>\n",
       "      <td>0.0</td>\n",
       "      <td>0.007956</td>\n",
       "      <td>0.05829</td>\n",
       "      <td>0.0</td>\n",
       "      <td>0.0</td>\n",
       "      <td>...</td>\n",
       "      <td>0.482014</td>\n",
       "      <td>0.214286</td>\n",
       "      <td>0.517986</td>\n",
       "      <td>0.0</td>\n",
       "      <td>0.005280</td>\n",
       "      <td>0.976550</td>\n",
       "      <td>0.067185</td>\n",
       "      <td>0.003793</td>\n",
       "      <td>0.019422</td>\n",
       "      <td>0.433361</td>\n",
       "    </tr>\n",
       "  </tbody>\n",
       "</table>\n",
       "<p>5 rows × 51 columns</p>\n",
       "</div>"
      ],
      "text/plain": [
       "  totalHeapUsedMax totalHeapUsedMaxpc totalTenuredAllocMax  \\\n",
       "0         0.000000           0.000000                  0.0   \n",
       "1         0.010084           0.033113                  0.0   \n",
       "2         0.010084           0.033113                  0.0   \n",
       "3         0.010084           0.033113                  0.0   \n",
       "4         0.007731           0.024834                  0.0   \n",
       "\n",
       "  totalTenuredUsedMax totalTenuredUsedMaxpc totalYoungAllocMax  \\\n",
       "0            0.688107                   0.0                0.0   \n",
       "1            0.688107                   0.0                0.0   \n",
       "2            0.699730                   0.0                0.0   \n",
       "3            0.688107                   0.0                0.0   \n",
       "4            0.687892                   0.0                0.0   \n",
       "\n",
       "  totalYoungUsedMax totalYoungUsedMaxpc totalPermAllocMax totalPermUsedMax  \\\n",
       "0          0.000000             0.00000               0.0              0.0   \n",
       "1          0.010608             0.07772               0.0              0.0   \n",
       "2          0.010608             0.07772               0.0              0.0   \n",
       "3          0.010608             0.07772               0.0              0.0   \n",
       "4          0.007956             0.05829               0.0              0.0   \n",
       "\n",
       "   ... fullGCPausePc   gcPause gcPausePc footprint freedMemory throughput  \\\n",
       "0  ...      0.352518  0.214286  0.647482       0.0    0.003474   0.978819   \n",
       "1  ...      0.460432  0.214286  0.539568       0.0    0.006530   0.974281   \n",
       "2  ...      0.482014  0.214286  0.517986       0.0    0.007225   0.979576   \n",
       "3  ...      0.417266  0.214286  0.582734       0.0    0.006114   0.978819   \n",
       "4  ...      0.482014  0.214286  0.517986       0.0    0.005280   0.976550   \n",
       "\n",
       "  totalTime freedMemoryPerMin gcPerformance fullGCPerformance  \n",
       "0  0.054388          0.004605      0.022846          0.601201  \n",
       "1  0.054845          0.004784      0.022955          0.485268  \n",
       "2  0.066728          0.003921      0.026522          0.501332  \n",
       "3  0.068556          0.003762      0.018511          0.472559  \n",
       "4  0.067185          0.003793      0.019422          0.433361  \n",
       "\n",
       "[5 rows x 51 columns]"
      ]
     },
     "execution_count": 100,
     "metadata": {},
     "output_type": "execute_result"
    }
   ],
   "source": [
    "X.head()"
   ]
  },
  {
   "cell_type": "markdown",
   "metadata": {},
   "source": [
    "## 3. K-Means Clustering"
   ]
  },
  {
   "cell_type": "markdown",
   "metadata": {},
   "source": [
    "### 3.1. KElbowVisualizer"
   ]
  },
  {
   "cell_type": "markdown",
   "metadata": {},
   "source": [
    "Elbow Method to determine the number of clusters to be formed:"
   ]
  },
  {
   "cell_type": "code",
   "execution_count": 101,
   "metadata": {},
   "outputs": [
    {
     "name": "stderr",
     "output_type": "stream",
     "text": [
      "/Users/ellkrauze/projects/gc-ml/gc-ml-env/lib/python3.8/site-packages/sklearn/cluster/_kmeans.py:1416: FutureWarning:\n",
      "\n",
      "The default value of `n_init` will change from 10 to 'auto' in 1.4. Set the value of `n_init` explicitly to suppress the warning\n",
      "\n",
      "/Users/ellkrauze/projects/gc-ml/gc-ml-env/lib/python3.8/site-packages/sklearn/cluster/_kmeans.py:1416: FutureWarning:\n",
      "\n",
      "The default value of `n_init` will change from 10 to 'auto' in 1.4. Set the value of `n_init` explicitly to suppress the warning\n",
      "\n",
      "/Users/ellkrauze/projects/gc-ml/gc-ml-env/lib/python3.8/site-packages/sklearn/cluster/_kmeans.py:1416: FutureWarning:\n",
      "\n",
      "The default value of `n_init` will change from 10 to 'auto' in 1.4. Set the value of `n_init` explicitly to suppress the warning\n",
      "\n",
      "/Users/ellkrauze/projects/gc-ml/gc-ml-env/lib/python3.8/site-packages/sklearn/cluster/_kmeans.py:1416: FutureWarning:\n",
      "\n",
      "The default value of `n_init` will change from 10 to 'auto' in 1.4. Set the value of `n_init` explicitly to suppress the warning\n",
      "\n",
      "/Users/ellkrauze/projects/gc-ml/gc-ml-env/lib/python3.8/site-packages/sklearn/cluster/_kmeans.py:1416: FutureWarning:\n",
      "\n",
      "The default value of `n_init` will change from 10 to 'auto' in 1.4. Set the value of `n_init` explicitly to suppress the warning\n",
      "\n",
      "/Users/ellkrauze/projects/gc-ml/gc-ml-env/lib/python3.8/site-packages/sklearn/cluster/_kmeans.py:1416: FutureWarning:\n",
      "\n",
      "The default value of `n_init` will change from 10 to 'auto' in 1.4. Set the value of `n_init` explicitly to suppress the warning\n",
      "\n",
      "/Users/ellkrauze/projects/gc-ml/gc-ml-env/lib/python3.8/site-packages/sklearn/cluster/_kmeans.py:1416: FutureWarning:\n",
      "\n",
      "The default value of `n_init` will change from 10 to 'auto' in 1.4. Set the value of `n_init` explicitly to suppress the warning\n",
      "\n",
      "/Users/ellkrauze/projects/gc-ml/gc-ml-env/lib/python3.8/site-packages/sklearn/cluster/_kmeans.py:1416: FutureWarning:\n",
      "\n",
      "The default value of `n_init` will change from 10 to 'auto' in 1.4. Set the value of `n_init` explicitly to suppress the warning\n",
      "\n"
     ]
    },
    {
     "data": {
      "image/png": "[encoded data removed]",
      "text/plain": [
       "<Figure size 800x550 with 2 Axes>"
      ]
     },
     "metadata": {},
     "output_type": "display_data"
    },
    {
     "data": {
      "text/plain": [
       "<Axes: title={'center': 'Silhouette Score Elbow for KMeans Clustering'}, xlabel='k', ylabel='silhouette score'>"
      ]
     },
     "execution_count": 101,
     "metadata": {},
     "output_type": "execute_result"
    }
   ],
   "source": [
    "Elbow_M = KElbowVisualizer(\n",
    "    KMeans(), \n",
    "    k = (2, 10), \n",
    "    locate_elbow=True, \n",
    "    metric = 'silhouette'\n",
    ")\n",
    "Elbow_M.fit(X)\n",
    "Elbow_M.show()"
   ]
  },
  {
   "cell_type": "markdown",
   "metadata": {},
   "source": [
    "### 3.2. K-means clusters"
   ]
  },
  {
   "cell_type": "code",
   "execution_count": 131,
   "metadata": {},
   "outputs": [],
   "source": [
    "# num_clusters = Elbow_M.elbow_value_\n",
    "\n",
    "num_clusters = 3\n",
    "# num_clusters = 4\n",
    "\n",
    "\n",
    "km = KMeans(\n",
    "    n_clusters=num_clusters, \n",
    "    init='random',\n",
    "    n_init=10,\n",
    "    max_iter=300,\n",
    "    tol=1e-04,\n",
    "    random_state=0\n",
    ")\n",
    "\n",
    "km_predict = km.fit_predict(X)"
   ]
  },
  {
   "cell_type": "code",
   "execution_count": 132,
   "metadata": {},
   "outputs": [],
   "source": [
    "new_X = X.copy()\n",
    "new_X[\"cluster\"] = km_predict\n",
    "df[\"cluster\"] = km_predict"
   ]
  },
  {
   "cell_type": "code",
   "execution_count": 133,
   "metadata": {},
   "outputs": [
    {
     "data": {
      "text/html": [
       "<div>\n",
       "<style scoped>\n",
       "    .dataframe tbody tr th:only-of-type {\n",
       "        vertical-align: middle;\n",
       "    }\n",
       "\n",
       "    .dataframe tbody tr th {\n",
       "        vertical-align: top;\n",
       "    }\n",
       "\n",
       "    .dataframe thead th {\n",
       "        text-align: right;\n",
       "    }\n",
       "</style>\n",
       "<table border=\"1\" class=\"dataframe\">\n",
       "  <thead>\n",
       "    <tr style=\"text-align: right;\">\n",
       "      <th></th>\n",
       "      <th>totalHeapUsedMax</th>\n",
       "      <th>totalHeapUsedMaxpc</th>\n",
       "      <th>totalTenuredAllocMax</th>\n",
       "      <th>totalTenuredUsedMax</th>\n",
       "      <th>totalTenuredUsedMaxpc</th>\n",
       "      <th>totalYoungAllocMax</th>\n",
       "      <th>totalYoungUsedMax</th>\n",
       "      <th>totalYoungUsedMaxpc</th>\n",
       "      <th>totalPermAllocMax</th>\n",
       "      <th>totalPermUsedMax</th>\n",
       "      <th>...</th>\n",
       "      <th>gcPause</th>\n",
       "      <th>gcPausePc</th>\n",
       "      <th>footprint</th>\n",
       "      <th>freedMemory</th>\n",
       "      <th>throughput</th>\n",
       "      <th>totalTime</th>\n",
       "      <th>freedMemoryPerMin</th>\n",
       "      <th>gcPerformance</th>\n",
       "      <th>fullGCPerformance</th>\n",
       "      <th>cluster</th>\n",
       "    </tr>\n",
       "  </thead>\n",
       "  <tbody>\n",
       "    <tr>\n",
       "      <th>0</th>\n",
       "      <td>131.0</td>\n",
       "      <td>8.7</td>\n",
       "      <td>1008.0</td>\n",
       "      <td>3355.0</td>\n",
       "      <td>0.3</td>\n",
       "      <td>500.5</td>\n",
       "      <td>129.220993</td>\n",
       "      <td>25.799999</td>\n",
       "      <td>0.0</td>\n",
       "      <td>0.0</td>\n",
       "      <td>...</td>\n",
       "      <td>0.04</td>\n",
       "      <td>10.1</td>\n",
       "      <td>1508.0</td>\n",
       "      <td>560.0</td>\n",
       "      <td>99.699997</td>\n",
       "      <td>124.0</td>\n",
       "      <td>269.230988</td>\n",
       "      <td>14920.583984</td>\n",
       "      <td>6134.620117</td>\n",
       "      <td>0</td>\n",
       "    </tr>\n",
       "    <tr>\n",
       "      <th>0</th>\n",
       "      <td>161.0</td>\n",
       "      <td>10.7</td>\n",
       "      <td>1008.0</td>\n",
       "      <td>3355.0</td>\n",
       "      <td>0.3</td>\n",
       "      <td>500.5</td>\n",
       "      <td>159.041000</td>\n",
       "      <td>31.799999</td>\n",
       "      <td>0.0</td>\n",
       "      <td>0.0</td>\n",
       "      <td>...</td>\n",
       "      <td>0.04</td>\n",
       "      <td>8.6</td>\n",
       "      <td>1508.0</td>\n",
       "      <td>582.0</td>\n",
       "      <td>99.639999</td>\n",
       "      <td>125.0</td>\n",
       "      <td>278.984985</td>\n",
       "      <td>14959.634766</td>\n",
       "      <td>4953.667969</td>\n",
       "      <td>0</td>\n",
       "    </tr>\n",
       "    <tr>\n",
       "      <th>0</th>\n",
       "      <td>161.0</td>\n",
       "      <td>10.7</td>\n",
       "      <td>1008.0</td>\n",
       "      <td>3409.0</td>\n",
       "      <td>0.3</td>\n",
       "      <td>500.5</td>\n",
       "      <td>159.039993</td>\n",
       "      <td>31.799999</td>\n",
       "      <td>0.0</td>\n",
       "      <td>0.0</td>\n",
       "      <td>...</td>\n",
       "      <td>0.04</td>\n",
       "      <td>8.3</td>\n",
       "      <td>1508.0</td>\n",
       "      <td>587.0</td>\n",
       "      <td>99.709999</td>\n",
       "      <td>151.0</td>\n",
       "      <td>232.098007</td>\n",
       "      <td>16238.272461</td>\n",
       "      <td>5117.300781</td>\n",
       "      <td>0</td>\n",
       "    </tr>\n",
       "    <tr>\n",
       "      <th>0</th>\n",
       "      <td>161.0</td>\n",
       "      <td>10.7</td>\n",
       "      <td>1008.0</td>\n",
       "      <td>3355.0</td>\n",
       "      <td>0.3</td>\n",
       "      <td>500.5</td>\n",
       "      <td>159.041000</td>\n",
       "      <td>31.799999</td>\n",
       "      <td>0.0</td>\n",
       "      <td>0.0</td>\n",
       "      <td>...</td>\n",
       "      <td>0.04</td>\n",
       "      <td>9.2</td>\n",
       "      <td>1508.0</td>\n",
       "      <td>579.0</td>\n",
       "      <td>99.699997</td>\n",
       "      <td>155.0</td>\n",
       "      <td>223.451004</td>\n",
       "      <td>13366.382812</td>\n",
       "      <td>4824.204102</td>\n",
       "      <td>0</td>\n",
       "    </tr>\n",
       "    <tr>\n",
       "      <th>0</th>\n",
       "      <td>154.0</td>\n",
       "      <td>10.2</td>\n",
       "      <td>1008.0</td>\n",
       "      <td>3354.0</td>\n",
       "      <td>0.3</td>\n",
       "      <td>500.5</td>\n",
       "      <td>151.585999</td>\n",
       "      <td>30.299999</td>\n",
       "      <td>0.0</td>\n",
       "      <td>0.0</td>\n",
       "      <td>...</td>\n",
       "      <td>0.04</td>\n",
       "      <td>8.3</td>\n",
       "      <td>1508.0</td>\n",
       "      <td>573.0</td>\n",
       "      <td>99.669998</td>\n",
       "      <td>152.0</td>\n",
       "      <td>225.132004</td>\n",
       "      <td>13693.045898</td>\n",
       "      <td>4424.913086</td>\n",
       "      <td>0</td>\n",
       "    </tr>\n",
       "    <tr>\n",
       "      <th>0</th>\n",
       "      <td>154.0</td>\n",
       "      <td>10.2</td>\n",
       "      <td>1008.0</td>\n",
       "      <td>3411.0</td>\n",
       "      <td>0.3</td>\n",
       "      <td>500.5</td>\n",
       "      <td>151.585999</td>\n",
       "      <td>30.299999</td>\n",
       "      <td>0.0</td>\n",
       "      <td>0.0</td>\n",
       "      <td>...</td>\n",
       "      <td>0.05</td>\n",
       "      <td>9.9</td>\n",
       "      <td>1508.0</td>\n",
       "      <td>580.0</td>\n",
       "      <td>99.690002</td>\n",
       "      <td>149.0</td>\n",
       "      <td>232.186996</td>\n",
       "      <td>12382.707031</td>\n",
       "      <td>4840.542969</td>\n",
       "      <td>0</td>\n",
       "    </tr>\n",
       "    <tr>\n",
       "      <th>0</th>\n",
       "      <td>154.0</td>\n",
       "      <td>10.2</td>\n",
       "      <td>1008.0</td>\n",
       "      <td>3408.0</td>\n",
       "      <td>0.3</td>\n",
       "      <td>500.5</td>\n",
       "      <td>151.585999</td>\n",
       "      <td>30.299999</td>\n",
       "      <td>0.0</td>\n",
       "      <td>0.0</td>\n",
       "      <td>...</td>\n",
       "      <td>0.05</td>\n",
       "      <td>10.0</td>\n",
       "      <td>1508.0</td>\n",
       "      <td>573.0</td>\n",
       "      <td>99.680000</td>\n",
       "      <td>145.0</td>\n",
       "      <td>235.531998</td>\n",
       "      <td>12098.226562</td>\n",
       "      <td>4819.890137</td>\n",
       "      <td>0</td>\n",
       "    </tr>\n",
       "    <tr>\n",
       "      <th>0</th>\n",
       "      <td>184.0</td>\n",
       "      <td>12.2</td>\n",
       "      <td>1008.0</td>\n",
       "      <td>4747.0</td>\n",
       "      <td>0.5</td>\n",
       "      <td>500.5</td>\n",
       "      <td>181.406006</td>\n",
       "      <td>36.200001</td>\n",
       "      <td>0.0</td>\n",
       "      <td>0.0</td>\n",
       "      <td>...</td>\n",
       "      <td>0.05</td>\n",
       "      <td>10.4</td>\n",
       "      <td>1508.0</td>\n",
       "      <td>693.0</td>\n",
       "      <td>99.699997</td>\n",
       "      <td>152.0</td>\n",
       "      <td>272.174988</td>\n",
       "      <td>14609.667969</td>\n",
       "      <td>7560.319824</td>\n",
       "      <td>0</td>\n",
       "    </tr>\n",
       "    <tr>\n",
       "      <th>0</th>\n",
       "      <td>154.0</td>\n",
       "      <td>10.2</td>\n",
       "      <td>1008.0</td>\n",
       "      <td>3411.0</td>\n",
       "      <td>0.3</td>\n",
       "      <td>500.5</td>\n",
       "      <td>151.585999</td>\n",
       "      <td>30.299999</td>\n",
       "      <td>0.0</td>\n",
       "      <td>0.0</td>\n",
       "      <td>...</td>\n",
       "      <td>0.05</td>\n",
       "      <td>10.4</td>\n",
       "      <td>1508.0</td>\n",
       "      <td>573.0</td>\n",
       "      <td>99.720001</td>\n",
       "      <td>156.0</td>\n",
       "      <td>220.128998</td>\n",
       "      <td>12418.443359</td>\n",
       "      <td>5154.275879</td>\n",
       "      <td>0</td>\n",
       "    </tr>\n",
       "    <tr>\n",
       "      <th>0</th>\n",
       "      <td>154.0</td>\n",
       "      <td>10.2</td>\n",
       "      <td>1008.0</td>\n",
       "      <td>3355.0</td>\n",
       "      <td>0.3</td>\n",
       "      <td>500.5</td>\n",
       "      <td>151.585999</td>\n",
       "      <td>30.299999</td>\n",
       "      <td>0.0</td>\n",
       "      <td>0.0</td>\n",
       "      <td>...</td>\n",
       "      <td>0.03</td>\n",
       "      <td>8.3</td>\n",
       "      <td>1508.0</td>\n",
       "      <td>576.0</td>\n",
       "      <td>99.650002</td>\n",
       "      <td>115.0</td>\n",
       "      <td>300.088989</td>\n",
       "      <td>17210.361328</td>\n",
       "      <td>5593.961914</td>\n",
       "      <td>0</td>\n",
       "    </tr>\n",
       "    <tr>\n",
       "      <th>0</th>\n",
       "      <td>184.0</td>\n",
       "      <td>12.2</td>\n",
       "      <td>1008.0</td>\n",
       "      <td>4804.0</td>\n",
       "      <td>0.5</td>\n",
       "      <td>500.5</td>\n",
       "      <td>181.406998</td>\n",
       "      <td>36.200001</td>\n",
       "      <td>0.0</td>\n",
       "      <td>0.0</td>\n",
       "      <td>...</td>\n",
       "      <td>0.06</td>\n",
       "      <td>11.6</td>\n",
       "      <td>1508.0</td>\n",
       "      <td>696.0</td>\n",
       "      <td>99.680000</td>\n",
       "      <td>148.0</td>\n",
       "      <td>280.427002</td>\n",
       "      <td>12325.228516</td>\n",
       "      <td>9601.634766</td>\n",
       "      <td>0</td>\n",
       "    </tr>\n",
       "    <tr>\n",
       "      <th>0</th>\n",
       "      <td>154.0</td>\n",
       "      <td>10.2</td>\n",
       "      <td>1008.0</td>\n",
       "      <td>3374.0</td>\n",
       "      <td>0.3</td>\n",
       "      <td>500.5</td>\n",
       "      <td>151.585999</td>\n",
       "      <td>30.299999</td>\n",
       "      <td>0.0</td>\n",
       "      <td>0.0</td>\n",
       "      <td>...</td>\n",
       "      <td>0.05</td>\n",
       "      <td>10.8</td>\n",
       "      <td>1508.0</td>\n",
       "      <td>580.0</td>\n",
       "      <td>99.690002</td>\n",
       "      <td>153.0</td>\n",
       "      <td>226.255005</td>\n",
       "      <td>11365.871094</td>\n",
       "      <td>4886.299805</td>\n",
       "      <td>0</td>\n",
       "    </tr>\n",
       "    <tr>\n",
       "      <th>0</th>\n",
       "      <td>154.0</td>\n",
       "      <td>10.2</td>\n",
       "      <td>1008.0</td>\n",
       "      <td>3408.0</td>\n",
       "      <td>0.3</td>\n",
       "      <td>500.5</td>\n",
       "      <td>151.585999</td>\n",
       "      <td>30.299999</td>\n",
       "      <td>0.0</td>\n",
       "      <td>0.0</td>\n",
       "      <td>...</td>\n",
       "      <td>0.05</td>\n",
       "      <td>9.4</td>\n",
       "      <td>1508.0</td>\n",
       "      <td>580.0</td>\n",
       "      <td>99.669998</td>\n",
       "      <td>151.0</td>\n",
       "      <td>230.210007</td>\n",
       "      <td>12462.267578</td>\n",
       "      <td>4584.485840</td>\n",
       "      <td>0</td>\n",
       "    </tr>\n",
       "    <tr>\n",
       "      <th>0</th>\n",
       "      <td>139.0</td>\n",
       "      <td>9.2</td>\n",
       "      <td>1008.0</td>\n",
       "      <td>3410.0</td>\n",
       "      <td>0.3</td>\n",
       "      <td>500.5</td>\n",
       "      <td>136.675995</td>\n",
       "      <td>27.299999</td>\n",
       "      <td>0.0</td>\n",
       "      <td>0.0</td>\n",
       "      <td>...</td>\n",
       "      <td>0.04</td>\n",
       "      <td>9.6</td>\n",
       "      <td>1508.0</td>\n",
       "      <td>545.0</td>\n",
       "      <td>99.699997</td>\n",
       "      <td>152.0</td>\n",
       "      <td>214.875000</td>\n",
       "      <td>12288.959961</td>\n",
       "      <td>4930.780762</td>\n",
       "      <td>0</td>\n",
       "    </tr>\n",
       "    <tr>\n",
       "      <th>0</th>\n",
       "      <td>161.0</td>\n",
       "      <td>10.7</td>\n",
       "      <td>1008.0</td>\n",
       "      <td>3377.0</td>\n",
       "      <td>0.3</td>\n",
       "      <td>500.5</td>\n",
       "      <td>159.041000</td>\n",
       "      <td>31.799999</td>\n",
       "      <td>0.0</td>\n",
       "      <td>0.0</td>\n",
       "      <td>...</td>\n",
       "      <td>0.08</td>\n",
       "      <td>14.5</td>\n",
       "      <td>1508.0</td>\n",
       "      <td>570.0</td>\n",
       "      <td>98.879997</td>\n",
       "      <td>51.0</td>\n",
       "      <td>657.908020</td>\n",
       "      <td>6730.974121</td>\n",
       "      <td>4129.240234</td>\n",
       "      <td>0</td>\n",
       "    </tr>\n",
       "    <tr>\n",
       "      <th>0</th>\n",
       "      <td>184.0</td>\n",
       "      <td>12.2</td>\n",
       "      <td>1008.0</td>\n",
       "      <td>4720.0</td>\n",
       "      <td>0.5</td>\n",
       "      <td>500.5</td>\n",
       "      <td>181.406006</td>\n",
       "      <td>36.200001</td>\n",
       "      <td>0.0</td>\n",
       "      <td>0.0</td>\n",
       "      <td>...</td>\n",
       "      <td>0.04</td>\n",
       "      <td>8.4</td>\n",
       "      <td>1508.0</td>\n",
       "      <td>693.0</td>\n",
       "      <td>99.720001</td>\n",
       "      <td>152.0</td>\n",
       "      <td>272.584015</td>\n",
       "      <td>19117.810547</td>\n",
       "      <td>7831.280762</td>\n",
       "      <td>0</td>\n",
       "    </tr>\n",
       "    <tr>\n",
       "      <th>0</th>\n",
       "      <td>161.0</td>\n",
       "      <td>10.7</td>\n",
       "      <td>1008.0</td>\n",
       "      <td>3355.0</td>\n",
       "      <td>0.3</td>\n",
       "      <td>500.5</td>\n",
       "      <td>159.041000</td>\n",
       "      <td>31.799999</td>\n",
       "      <td>0.0</td>\n",
       "      <td>0.0</td>\n",
       "      <td>...</td>\n",
       "      <td>0.03</td>\n",
       "      <td>8.3</td>\n",
       "      <td>1508.0</td>\n",
       "      <td>579.0</td>\n",
       "      <td>99.639999</td>\n",
       "      <td>113.0</td>\n",
       "      <td>305.299988</td>\n",
       "      <td>16950.646484</td>\n",
       "      <td>5459.121094</td>\n",
       "      <td>0</td>\n",
       "    </tr>\n",
       "    <tr>\n",
       "      <th>0</th>\n",
       "      <td>161.0</td>\n",
       "      <td>10.7</td>\n",
       "      <td>1008.0</td>\n",
       "      <td>3377.0</td>\n",
       "      <td>0.3</td>\n",
       "      <td>500.5</td>\n",
       "      <td>159.041000</td>\n",
       "      <td>31.799999</td>\n",
       "      <td>0.0</td>\n",
       "      <td>0.0</td>\n",
       "      <td>...</td>\n",
       "      <td>0.05</td>\n",
       "      <td>10.3</td>\n",
       "      <td>1508.0</td>\n",
       "      <td>590.0</td>\n",
       "      <td>99.690002</td>\n",
       "      <td>153.0</td>\n",
       "      <td>230.572998</td>\n",
       "      <td>12060.053711</td>\n",
       "      <td>4827.125977</td>\n",
       "      <td>0</td>\n",
       "    </tr>\n",
       "    <tr>\n",
       "      <th>0</th>\n",
       "      <td>139.0</td>\n",
       "      <td>9.2</td>\n",
       "      <td>1008.0</td>\n",
       "      <td>3355.0</td>\n",
       "      <td>0.3</td>\n",
       "      <td>500.5</td>\n",
       "      <td>136.675995</td>\n",
       "      <td>27.299999</td>\n",
       "      <td>0.0</td>\n",
       "      <td>0.0</td>\n",
       "      <td>...</td>\n",
       "      <td>0.03</td>\n",
       "      <td>8.1</td>\n",
       "      <td>1508.0</td>\n",
       "      <td>565.0</td>\n",
       "      <td>99.730003</td>\n",
       "      <td>147.0</td>\n",
       "      <td>230.113998</td>\n",
       "      <td>17394.259766</td>\n",
       "      <td>5571.606934</td>\n",
       "      <td>0</td>\n",
       "    </tr>\n",
       "    <tr>\n",
       "      <th>0</th>\n",
       "      <td>154.0</td>\n",
       "      <td>10.2</td>\n",
       "      <td>1008.0</td>\n",
       "      <td>3355.0</td>\n",
       "      <td>0.3</td>\n",
       "      <td>500.5</td>\n",
       "      <td>151.585999</td>\n",
       "      <td>30.299999</td>\n",
       "      <td>0.0</td>\n",
       "      <td>0.0</td>\n",
       "      <td>...</td>\n",
       "      <td>0.06</td>\n",
       "      <td>12.6</td>\n",
       "      <td>1508.0</td>\n",
       "      <td>580.0</td>\n",
       "      <td>99.669998</td>\n",
       "      <td>145.0</td>\n",
       "      <td>238.444000</td>\n",
       "      <td>9581.910156</td>\n",
       "      <td>4902.253906</td>\n",
       "      <td>0</td>\n",
       "    </tr>\n",
       "  </tbody>\n",
       "</table>\n",
       "<p>20 rows × 55 columns</p>\n",
       "</div>"
      ],
      "text/plain": [
       "   totalHeapUsedMax  totalHeapUsedMaxpc  totalTenuredAllocMax  \\\n",
       "0             131.0                 8.7                1008.0   \n",
       "0             161.0                10.7                1008.0   \n",
       "0             161.0                10.7                1008.0   \n",
       "0             161.0                10.7                1008.0   \n",
       "0             154.0                10.2                1008.0   \n",
       "0             154.0                10.2                1008.0   \n",
       "0             154.0                10.2                1008.0   \n",
       "0             184.0                12.2                1008.0   \n",
       "0             154.0                10.2                1008.0   \n",
       "0             154.0                10.2                1008.0   \n",
       "0             184.0                12.2                1008.0   \n",
       "0             154.0                10.2                1008.0   \n",
       "0             154.0                10.2                1008.0   \n",
       "0             139.0                 9.2                1008.0   \n",
       "0             161.0                10.7                1008.0   \n",
       "0             184.0                12.2                1008.0   \n",
       "0             161.0                10.7                1008.0   \n",
       "0             161.0                10.7                1008.0   \n",
       "0             139.0                 9.2                1008.0   \n",
       "0             154.0                10.2                1008.0   \n",
       "\n",
       "   totalTenuredUsedMax  totalTenuredUsedMaxpc  totalYoungAllocMax  \\\n",
       "0               3355.0                    0.3               500.5   \n",
       "0               3355.0                    0.3               500.5   \n",
       "0               3409.0                    0.3               500.5   \n",
       "0               3355.0                    0.3               500.5   \n",
       "0               3354.0                    0.3               500.5   \n",
       "0               3411.0                    0.3               500.5   \n",
       "0               3408.0                    0.3               500.5   \n",
       "0               4747.0                    0.5               500.5   \n",
       "0               3411.0                    0.3               500.5   \n",
       "0               3355.0                    0.3               500.5   \n",
       "0               4804.0                    0.5               500.5   \n",
       "0               3374.0                    0.3               500.5   \n",
       "0               3408.0                    0.3               500.5   \n",
       "0               3410.0                    0.3               500.5   \n",
       "0               3377.0                    0.3               500.5   \n",
       "0               4720.0                    0.5               500.5   \n",
       "0               3355.0                    0.3               500.5   \n",
       "0               3377.0                    0.3               500.5   \n",
       "0               3355.0                    0.3               500.5   \n",
       "0               3355.0                    0.3               500.5   \n",
       "\n",
       "   totalYoungUsedMax  totalYoungUsedMaxpc  totalPermAllocMax  \\\n",
       "0         129.220993            25.799999                0.0   \n",
       "0         159.041000            31.799999                0.0   \n",
       "0         159.039993            31.799999                0.0   \n",
       "0         159.041000            31.799999                0.0   \n",
       "0         151.585999            30.299999                0.0   \n",
       "0         151.585999            30.299999                0.0   \n",
       "0         151.585999            30.299999                0.0   \n",
       "0         181.406006            36.200001                0.0   \n",
       "0         151.585999            30.299999                0.0   \n",
       "0         151.585999            30.299999                0.0   \n",
       "0         181.406998            36.200001                0.0   \n",
       "0         151.585999            30.299999                0.0   \n",
       "0         151.585999            30.299999                0.0   \n",
       "0         136.675995            27.299999                0.0   \n",
       "0         159.041000            31.799999                0.0   \n",
       "0         181.406006            36.200001                0.0   \n",
       "0         159.041000            31.799999                0.0   \n",
       "0         159.041000            31.799999                0.0   \n",
       "0         136.675995            27.299999                0.0   \n",
       "0         151.585999            30.299999                0.0   \n",
       "\n",
       "   totalPermUsedMax  ...  gcPause  gcPausePc  footprint  freedMemory  \\\n",
       "0               0.0  ...     0.04       10.1     1508.0        560.0   \n",
       "0               0.0  ...     0.04        8.6     1508.0        582.0   \n",
       "0               0.0  ...     0.04        8.3     1508.0        587.0   \n",
       "0               0.0  ...     0.04        9.2     1508.0        579.0   \n",
       "0               0.0  ...     0.04        8.3     1508.0        573.0   \n",
       "0               0.0  ...     0.05        9.9     1508.0        580.0   \n",
       "0               0.0  ...     0.05       10.0     1508.0        573.0   \n",
       "0               0.0  ...     0.05       10.4     1508.0        693.0   \n",
       "0               0.0  ...     0.05       10.4     1508.0        573.0   \n",
       "0               0.0  ...     0.03        8.3     1508.0        576.0   \n",
       "0               0.0  ...     0.06       11.6     1508.0        696.0   \n",
       "0               0.0  ...     0.05       10.8     1508.0        580.0   \n",
       "0               0.0  ...     0.05        9.4     1508.0        580.0   \n",
       "0               0.0  ...     0.04        9.6     1508.0        545.0   \n",
       "0               0.0  ...     0.08       14.5     1508.0        570.0   \n",
       "0               0.0  ...     0.04        8.4     1508.0        693.0   \n",
       "0               0.0  ...     0.03        8.3     1508.0        579.0   \n",
       "0               0.0  ...     0.05       10.3     1508.0        590.0   \n",
       "0               0.0  ...     0.03        8.1     1508.0        565.0   \n",
       "0               0.0  ...     0.06       12.6     1508.0        580.0   \n",
       "\n",
       "   throughput  totalTime  freedMemoryPerMin  gcPerformance  fullGCPerformance  \\\n",
       "0   99.699997      124.0         269.230988   14920.583984        6134.620117   \n",
       "0   99.639999      125.0         278.984985   14959.634766        4953.667969   \n",
       "0   99.709999      151.0         232.098007   16238.272461        5117.300781   \n",
       "0   99.699997      155.0         223.451004   13366.382812        4824.204102   \n",
       "0   99.669998      152.0         225.132004   13693.045898        4424.913086   \n",
       "0   99.690002      149.0         232.186996   12382.707031        4840.542969   \n",
       "0   99.680000      145.0         235.531998   12098.226562        4819.890137   \n",
       "0   99.699997      152.0         272.174988   14609.667969        7560.319824   \n",
       "0   99.720001      156.0         220.128998   12418.443359        5154.275879   \n",
       "0   99.650002      115.0         300.088989   17210.361328        5593.961914   \n",
       "0   99.680000      148.0         280.427002   12325.228516        9601.634766   \n",
       "0   99.690002      153.0         226.255005   11365.871094        4886.299805   \n",
       "0   99.669998      151.0         230.210007   12462.267578        4584.485840   \n",
       "0   99.699997      152.0         214.875000   12288.959961        4930.780762   \n",
       "0   98.879997       51.0         657.908020    6730.974121        4129.240234   \n",
       "0   99.720001      152.0         272.584015   19117.810547        7831.280762   \n",
       "0   99.639999      113.0         305.299988   16950.646484        5459.121094   \n",
       "0   99.690002      153.0         230.572998   12060.053711        4827.125977   \n",
       "0   99.730003      147.0         230.113998   17394.259766        5571.606934   \n",
       "0   99.669998      145.0         238.444000    9581.910156        4902.253906   \n",
       "\n",
       "   cluster  \n",
       "0        0  \n",
       "0        0  \n",
       "0        0  \n",
       "0        0  \n",
       "0        0  \n",
       "0        0  \n",
       "0        0  \n",
       "0        0  \n",
       "0        0  \n",
       "0        0  \n",
       "0        0  \n",
       "0        0  \n",
       "0        0  \n",
       "0        0  \n",
       "0        0  \n",
       "0        0  \n",
       "0        0  \n",
       "0        0  \n",
       "0        0  \n",
       "0        0  \n",
       "\n",
       "[20 rows x 55 columns]"
      ]
     },
     "execution_count": 133,
     "metadata": {},
     "output_type": "execute_result"
    }
   ],
   "source": [
    "df.head(20)"
   ]
  },
  {
   "cell_type": "markdown",
   "metadata": {},
   "source": [
    "### PCA Visualization"
   ]
  },
  {
   "cell_type": "code",
   "execution_count": 134,
   "metadata": {},
   "outputs": [
    {
     "data": {
      "text/html": [
       "<div>\n",
       "<style scoped>\n",
       "    .dataframe tbody tr th:only-of-type {\n",
       "        vertical-align: middle;\n",
       "    }\n",
       "\n",
       "    .dataframe tbody tr th {\n",
       "        vertical-align: top;\n",
       "    }\n",
       "\n",
       "    .dataframe thead th {\n",
       "        text-align: right;\n",
       "    }\n",
       "</style>\n",
       "<table border=\"1\" class=\"dataframe\">\n",
       "  <thead>\n",
       "    <tr style=\"text-align: right;\">\n",
       "      <th></th>\n",
       "      <th>PC1</th>\n",
       "      <th>PC2</th>\n",
       "      <th>cluster</th>\n",
       "    </tr>\n",
       "  </thead>\n",
       "  <tbody>\n",
       "    <tr>\n",
       "      <th>0</th>\n",
       "      <td>-1.911377</td>\n",
       "      <td>-0.070360</td>\n",
       "      <td>0</td>\n",
       "    </tr>\n",
       "    <tr>\n",
       "      <th>1</th>\n",
       "      <td>-1.816665</td>\n",
       "      <td>-0.120714</td>\n",
       "      <td>0</td>\n",
       "    </tr>\n",
       "    <tr>\n",
       "      <th>2</th>\n",
       "      <td>-1.797809</td>\n",
       "      <td>-0.140107</td>\n",
       "      <td>0</td>\n",
       "    </tr>\n",
       "    <tr>\n",
       "      <th>3</th>\n",
       "      <td>-1.796917</td>\n",
       "      <td>-0.141948</td>\n",
       "      <td>0</td>\n",
       "    </tr>\n",
       "    <tr>\n",
       "      <th>4</th>\n",
       "      <td>-1.785753</td>\n",
       "      <td>-0.185713</td>\n",
       "      <td>0</td>\n",
       "    </tr>\n",
       "    <tr>\n",
       "      <th>...</th>\n",
       "      <td>...</td>\n",
       "      <td>...</td>\n",
       "      <td>...</td>\n",
       "    </tr>\n",
       "    <tr>\n",
       "      <th>355</th>\n",
       "      <td>1.580614</td>\n",
       "      <td>0.855539</td>\n",
       "      <td>1</td>\n",
       "    </tr>\n",
       "    <tr>\n",
       "      <th>356</th>\n",
       "      <td>2.104183</td>\n",
       "      <td>-0.650252</td>\n",
       "      <td>2</td>\n",
       "    </tr>\n",
       "    <tr>\n",
       "      <th>357</th>\n",
       "      <td>1.264011</td>\n",
       "      <td>1.754328</td>\n",
       "      <td>1</td>\n",
       "    </tr>\n",
       "    <tr>\n",
       "      <th>358</th>\n",
       "      <td>2.318171</td>\n",
       "      <td>-1.082292</td>\n",
       "      <td>2</td>\n",
       "    </tr>\n",
       "    <tr>\n",
       "      <th>359</th>\n",
       "      <td>1.597712</td>\n",
       "      <td>1.048746</td>\n",
       "      <td>1</td>\n",
       "    </tr>\n",
       "  </tbody>\n",
       "</table>\n",
       "<p>360 rows × 3 columns</p>\n",
       "</div>"
      ],
      "text/plain": [
       "          PC1       PC2  cluster\n",
       "0   -1.911377 -0.070360        0\n",
       "1   -1.816665 -0.120714        0\n",
       "2   -1.797809 -0.140107        0\n",
       "3   -1.796917 -0.141948        0\n",
       "4   -1.785753 -0.185713        0\n",
       "..        ...       ...      ...\n",
       "355  1.580614  0.855539        1\n",
       "356  2.104183 -0.650252        2\n",
       "357  1.264011  1.754328        1\n",
       "358  2.318171 -1.082292        2\n",
       "359  1.597712  1.048746        1\n",
       "\n",
       "[360 rows x 3 columns]"
      ]
     },
     "execution_count": 134,
     "metadata": {},
     "output_type": "execute_result"
    }
   ],
   "source": [
    "# X, y = df.drop(\"cluster\", axis=1), df[\"cluster\"]\n",
    "# X = X.dropna(axis=1)\n",
    "\n",
    "pca = PCA(n_components=2, random_state=42)\n",
    "reducted_df = pd.DataFrame(pca.fit_transform(X))\n",
    "reducted_df.columns = [\"PC1\", \"PC2\"]\n",
    "reducted_df[\"cluster\"] = km_predict\n",
    "reducted_df"
   ]
  },
  {
   "cell_type": "code",
   "execution_count": 135,
   "metadata": {},
   "outputs": [
    {
     "data": {
      "application/vnd.plotly.v1+json": {
       "config": {
        "plotlyServerURL": "https://plot.ly"
       },
       "data": [
        {
         "hovertemplate": "PC1=%{x}<br>PC2=%{y}<br>cluster=%{marker.color}<extra></extra>",
         "legendgroup": "",
         "marker": {
          "color": [
           0,
           0,
           0,
           0,
           0,
           0,
           0,
           0,
           0,
           0,
           0,
           0,
           0,
           0,
           0,
           0,
           0,
           0,
           0,
           0,
           0,
           0,
           0,
           0,
           0,
           0,
           0,
           0,
           0,
           0,
           0,
           0,
           0,
           0,
           0,
           0,
           0,
           0,
           0,
           0,
           0,
           0,
           0,
           0,
           0,
           0,
           0,
           0,
           0,
           0,
           0,
           0,
           0,
           0,
           0,
           0,
           0,
           0,
           0,
           0,
           0,
           0,
           0,
           0,
           0,
           0,
           0,
           0,
           0,
           0,
           0,
           0,
           0,
           0,
           0,
           0,
           0,
           0,
           0,
           0,
           0,
           0,
           0,
           0,
           0,
           0,
           0,
           0,
           0,
           0,
           0,
           0,
           0,
           0,
           0,
           0,
           0,
           0,
           0,
           0,
           0,
           0,
           0,
           0,
           0,
           0,
           0,
           0,
           0,
           0,
           0,
           0,
           0,
           0,
           0,
           0,
           0,
           0,
           0,
           0,
           0,
           0,
           0,
           0,
           0,
           0,
           0,
           0,
           0,
           0,
           0,
           0,
           0,
           0,
           0,
           0,
           0,
           0,
           0,
           0,
           0,
           0,
           0,
           0,
           0,
           0,
           0,
           0,
           0,
           0,
           0,
           0,
           0,
           0,
           0,
           0,
           0,
           0,
           0,
           0,
           0,
           0,
           0,
           0,
           0,
           0,
           0,
           0,
           0,
           0,
           0,
           0,
           0,
           0,
           0,
           0,
           0,
           0,
           0,
           0,
           2,
           2,
           1,
           2,
           1,
           1,
           2,
           2,
           2,
           2,
           2,
           1,
           2,
           2,
           2,
           2,
           2,
           1,
           2,
           2,
           2,
           2,
           1,
           2,
           2,
           1,
           2,
           1,
           1,
           2,
           1,
           1,
           1,
           2,
           2,
           2,
           2,
           2,
           2,
           2,
           1,
           2,
           2,
           1,
           1,
           1,
           2,
           2,
           2,
           2,
           1,
           2,
           2,
           1,
           1,
           2,
           1,
           1,
           2,
           2,
           2,
           2,
           1,
           1,
           1,
           2,
           2,
           2,
           2,
           1,
           2,
           2,
           1,
           2,
           1,
           2,
           1,
           1,
           2,
           1,
           2,
           2,
           1,
           2,
           2,
           1,
           2,
           2,
           2,
           1,
           1,
           2,
           2,
           2,
           1,
           2,
           2,
           1,
           1,
           2,
           2,
           1,
           1,
           1,
           1,
           2,
           2,
           1,
           2,
           1,
           2,
           2,
           2,
           1,
           1,
           1,
           1,
           2,
           2,
           2,
           1,
           2,
           2,
           1,
           1,
           1,
           2,
           1,
           2,
           2,
           1,
           2,
           2,
           1,
           1,
           2,
           2,
           1,
           2,
           2,
           2,
           1,
           1,
           2,
           2,
           1,
           2,
           2,
           2,
           1,
           1,
           1,
           2,
           2,
           1,
           1,
           2,
           1,
           2,
           1,
           2,
           1,
           2,
           1,
           2,
           1,
           2,
           2,
           1,
           2,
           1,
           2,
           1,
           1,
           2,
           1,
           2,
           1,
           2,
           1
          ],
          "coloraxis": "coloraxis",
          "symbol": "circle"
         },
         "mode": "markers",
         "name": "",
         "orientation": "v",
         "showlegend": false,
         "type": "scatter",
         "x": [
          -1.9113768339157104,
          -1.8166648149490356,
          -1.7978087663650513,
          -1.7969169616699219,
          -1.7857534885406494,
          -1.8501204252243042,
          -1.8310247659683228,
          -2.0362164974212646,
          -1.8477659225463867,
          -1.6692595481872559,
          -2.0483081340789795,
          -1.8520071506500244,
          -1.818983554840088,
          -1.7967804670333862,
          -1.6508121490478516,
          -2.0159056186676025,
          -1.6281017065048218,
          -1.7963417768478394,
          -1.841670274734497,
          -1.8947943449020386,
          -1.922046184539795,
          -1.8216516971588135,
          -1.8452879190444946,
          -2.0125069618225098,
          -1.7030119895935059,
          -1.7885085344314575,
          -1.8164962530136108,
          -1.8224622011184692,
          -2.052100419998169,
          -1.672457218170166,
          -1.8410348892211914,
          -1.8368825912475586,
          -1.9801740646362305,
          -1.762614369392395,
          -2.0588185787200928,
          -1.8139820098876953,
          -1.845612645149231,
          -1.8604334592819214,
          -2.003249406814575,
          -1.6449928283691406,
          -1.83247709274292,
          -1.8298784494400024,
          -1.8456803560256958,
          -1.7903971672058105,
          -1.8872103691101074,
          -1.800808310508728,
          -1.8384780883789062,
          -1.8142563104629517,
          -1.8114203214645386,
          -1.7945760488510132,
          -1.8199248313903809,
          -1.8017998933792114,
          -1.6940488815307617,
          -2.0475566387176514,
          -1.815451979637146,
          -1.8184536695480347,
          -2.0429646968841553,
          -1.8482170104980469,
          -1.7975760698318481,
          -1.8285315036773682,
          -2.0737345218658447,
          -1.822453498840332,
          -1.8159986734390259,
          -1.5451266765594482,
          -1.802217960357666,
          -1.6537652015686035,
          -1.8603675365447998,
          -2.0418202877044678,
          -1.6097482442855835,
          -1.788524866104126,
          -1.7489529848098755,
          -1.8199098110198975,
          -1.7967815399169922,
          -1.8933957815170288,
          -1.8496065139770508,
          -1.8184385299682617,
          -2.06414794921875,
          -1.648516058921814,
          -1.798633337020874,
          -1.8065508604049683,
          -1.8265734910964966,
          -1.8385884761810303,
          -2.02085280418396,
          -1.8291916847229004,
          -1.8105982542037964,
          -1.720513939857483,
          -2.044107437133789,
          -1.785117268562317,
          -1.7823768854141235,
          -1.7836707830429077,
          -1.8341591358184814,
          -2.005605936050415,
          -1.8081673383712769,
          -1.9295674562454224,
          -1.675002932548523,
          -1.7797454595565796,
          -1.7985239028930664,
          -1.8419524431228638,
          -1.7156091928482056,
          -1.8140803575515747,
          -1.7185829877853394,
          -1.784671664237976,
          -1.9264408349990845,
          -1.8011126518249512,
          -1.8080379962921143,
          -1.7877179384231567,
          -1.7655975818634033,
          -2.0205295085906982,
          -1.7882875204086304,
          -1.832135558128357,
          -2.0183730125427246,
          -1.7858669757843018,
          -1.8075659275054932,
          -1.854134202003479,
          -1.8135968446731567,
          -1.8499605655670166,
          -1.8656291961669922,
          -1.818575382232666,
          -1.8248919248580933,
          -1.7662196159362793,
          -1.7897764444351196,
          -1.80260169506073,
          -1.8688939809799194,
          -1.8099747896194458,
          -1.8171247243881226,
          -1.8568414449691772,
          -1.8343509435653687,
          -1.8341346979141235,
          -1.773113489151001,
          -1.7905423641204834,
          -1.884296178817749,
          -1.8312302827835083,
          -1.7704733610153198,
          -1.8170207738876343,
          -1.8220841884613037,
          -1.8072302341461182,
          -1.7847813367843628,
          -1.8512710332870483,
          -1.7797545194625854,
          -1.8296452760696411,
          -1.7847790718078613,
          -1.884584903717041,
          -1.8393772840499878,
          -1.7966712713241577,
          -1.8255890607833862,
          -1.8483012914657593,
          -1.8195242881774902,
          -1.806868314743042,
          -1.824016809463501,
          -1.996108055114746,
          -1.9995805025100708,
          -1.7809152603149414,
          -2.0709996223449707,
          -2.014479637145996,
          -1.9904050827026367,
          -1.825901746749878,
          -1.736789584159851,
          -2.042133331298828,
          -2.030993938446045,
          -1.8558920621871948,
          -1.7963169813156128,
          -1.9984151124954224,
          -2.085685968399048,
          -2.035139322280884,
          -1.8309917449951172,
          -1.8430944681167603,
          -1.8704478740692139,
          -1.736901879310608,
          -2.0125842094421387,
          -2.019643545150757,
          -1.9143314361572266,
          -1.8306046724319458,
          -1.8036351203918457,
          -1.9994686841964722,
          -2.018249988555908,
          -2.057025194168091,
          -1.7925289869308472,
          -1.5845855474472046,
          -1.8135682344436646,
          -1.7346559762954712,
          2.060112953186035,
          1.957035779953003,
          1.2465020418167114,
          2.13978910446167,
          1.162998914718628,
          1.30760657787323,
          2.091780662536621,
          2.136029005050659,
          1.92804753780365,
          2.0386414527893066,
          1.986892819404602,
          1.2106558084487915,
          1.944277286529541,
          2.1076364517211914,
          2.070512294769287,
          1.9987244606018066,
          1.9392619132995605,
          1.535325527191162,
          1.885671615600586,
          1.9649171829223633,
          2.062988042831421,
          1.858722448348999,
          1.235882043838501,
          1.8999193906784058,
          1.9349850416183472,
          1.8453623056411743,
          2.1340410709381104,
          1.2181531190872192,
          1.8735425472259521,
          2.0381932258605957,
          1.5436413288116455,
          1.257789134979248,
          1.249024748802185,
          2.0040314197540283,
          2.0887985229492188,
          2.0401761531829834,
          2.051997661590576,
          2.108323335647583,
          2.037609100341797,
          1.8889085054397583,
          1.2196122407913208,
          1.9563931226730347,
          2.0877084732055664,
          1.6348521709442139,
          1.2015653848648071,
          1.2197728157043457,
          2.214134931564331,
          2.2065422534942627,
          2.11386775970459,
          2.1278607845306396,
          1.176167368888855,
          2.3228602409362793,
          2.2440598011016846,
          1.5893924236297607,
          1.1774934530258179,
          2.123121738433838,
          1.6629101037979126,
          1.6347897052764893,
          2.0221691131591797,
          2.283535957336426,
          2.3938517570495605,
          2.3391270637512207,
          1.6077555418014526,
          1.6508396863937378,
          1.6193581819534302,
          2.132206439971924,
          2.413881778717041,
          2.3628458976745605,
          2.256714105606079,
          1.5442078113555908,
          2.3526315689086914,
          2.32336688041687,
          1.6175596714019775,
          2.3410019874572754,
          1.6003164052963257,
          2.0070064067840576,
          1.6219193935394287,
          1.2467676401138306,
          1.862069010734558,
          1.6190381050109863,
          2.4117767810821533,
          2.304727554321289,
          1.203736424446106,
          2.35819935798645,
          2.201287269592285,
          1.6239739656448364,
          2.318826198577881,
          2.344688892364502,
          2.0452396869659424,
          1.6770702600479126,
          1.2785818576812744,
          2.079094886779785,
          1.9536724090576172,
          2.111626625061035,
          1.1644433736801147,
          2.305353879928589,
          2.307847023010254,
          1.1883437633514404,
          1.6426821947097778,
          1.802111029624939,
          2.0805959701538086,
          1.6727200746536255,
          1.3239212036132812,
          1.1956013441085815,
          1.1907936334609985,
          2.028423547744751,
          2.0785484313964844,
          1.1656177043914795,
          2.2815277576446533,
          1.693975567817688,
          2.2602217197418213,
          1.9296337366104126,
          2.094865560531616,
          1.2428910732269287,
          2.147845983505249,
          1.24321711063385,
          1.9007415771484375,
          2.131263256072998,
          1.7747255563735962,
          2.3267626762390137,
          1.2328951358795166,
          2.2288708686828613,
          2.1217145919799805,
          1.6791841983795166,
          1.1943897008895874,
          1.2441312074661255,
          2.0255208015441895,
          1.2678871154785156,
          2.020918846130371,
          1.9896072149276733,
          1.1565396785736084,
          2.2864041328430176,
          2.181668281555176,
          1.2397249937057495,
          1.6484328508377075,
          2.3089587688446045,
          2.4185194969177246,
          1.3666383028030396,
          2.0160484313964844,
          2.1121668815612793,
          2.0666635036468506,
          1.5796133279800415,
          1.244607925415039,
          2.2981433868408203,
          2.0075113773345947,
          1.644439697265625,
          2.380486488342285,
          2.3219404220581055,
          2.3177778720855713,
          1.484187364578247,
          1.3090733289718628,
          1.5971155166625977,
          1.9937901496887207,
          1.9306793212890625,
          1.2744872570037842,
          1.5537762641906738,
          2.08363676071167,
          1.622935175895691,
          2.381134271621704,
          1.582385778427124,
          2.2988531589508057,
          1.6706937551498413,
          2.0367774963378906,
          1.5828508138656616,
          1.909956693649292,
          1.4774724245071411,
          1.9549356698989868,
          2.387843370437622,
          1.6200462579727173,
          2.317554235458374,
          1.6182026863098145,
          2.4053380489349365,
          1.6191613674163818,
          1.2692954540252686,
          2.2468979358673096,
          1.580614447593689,
          2.1041834354400635,
          1.2640107870101929,
          2.3181707859039307,
          1.5977123975753784
         ],
         "xaxis": "x",
         "y": [
          -0.07035999000072479,
          -0.12071383744478226,
          -0.14010663330554962,
          -0.14194752275943756,
          -0.18571262061595917,
          -0.1685849279165268,
          -0.13412722945213318,
          -0.1281684786081314,
          -0.10727159678936005,
          -0.12489053606987,
          0.0580444298684597,
          -0.16268663108348846,
          -0.1344083994626999,
          -0.0643530786037445,
          0.20344282686710358,
          -0.15590278804302216,
          -0.07539232820272446,
          -0.09615883976221085,
          -0.15562602877616882,
          -0.11242975294589996,
          0.02812722511589527,
          -0.14036712050437927,
          -0.08296317607164383,
          -0.12294108420610428,
          -0.1118185743689537,
          -0.1282949447631836,
          -0.19899073243141174,
          -0.1298791468143463,
          -0.15464556217193604,
          -0.03332570940256119,
          -0.14283312857151031,
          -0.13520783185958862,
          -0.13358627259731293,
          -0.10344535112380981,
          0.02958376705646515,
          -0.07074248790740967,
          -0.08060953766107559,
          -0.16739359498023987,
          -0.13505800068378448,
          -0.03339419141411781,
          -0.152650386095047,
          -0.15851958096027374,
          -0.15486904978752136,
          -0.09587664157152176,
          -0.16873253881931305,
          -0.1175253763794899,
          -0.12946456670761108,
          -0.16028380393981934,
          -0.142229363322258,
          -0.08541055768728256,
          -0.005787955597043037,
          -0.11592397838830948,
          -0.08073265850543976,
          -0.08645246177911758,
          -0.12585866451263428,
          -0.1460391730070114,
          0.027407146990299225,
          -0.20458179712295532,
          -0.1565690040588379,
          -0.09026528894901276,
          -0.20473235845565796,
          -0.17379234731197357,
          -0.009500130079686642,
          -0.013075086288154125,
          -0.1314682960510254,
          -0.04566222056746483,
          -0.11869511753320694,
          -0.16071106493473053,
          0.006159509997814894,
          -0.15240012109279633,
          -0.013686602003872395,
          -0.13003817200660706,
          -0.12786538898944855,
          -0.11032699048519135,
          -0.1164950579404831,
          -0.06508342921733856,
          -0.16287070512771606,
          -0.06351500749588013,
          -0.13893967866897583,
          -0.1732911318540573,
          -0.16670559346675873,
          -0.05273665115237236,
          -0.11102094501256943,
          -0.11158210039138794,
          -0.14518046379089355,
          -0.05280403047800064,
          0.01462563220411539,
          -0.1627815216779709,
          -0.16829761862754822,
          -0.08922532945871353,
          -0.09130267798900604,
          -0.12680374085903168,
          -0.10942617058753967,
          0.060669295489788055,
          -0.005901257041841745,
          -0.09810841828584671,
          -0.0612960122525692,
          -0.13074050843715668,
          0.00669258926063776,
          -0.13017147779464722,
          -0.10308228433132172,
          -0.0629585012793541,
          -0.06542081385850906,
          -0.1377653032541275,
          -0.0837407335639,
          -0.18241791427135468,
          -0.13131320476531982,
          -0.16529648005962372,
          -0.07193925231695175,
          -0.11273940652608871,
          -0.04786495491862297,
          -0.14092835783958435,
          -0.09342504292726517,
          0.08872465044260025,
          -0.12990008294582367,
          -0.042564403265714645,
          -0.0853847861289978,
          -0.14176975190639496,
          -0.12708166241645813,
          -0.12045031040906906,
          -0.11553635448217392,
          -0.18100059032440186,
          -0.16988322138786316,
          -0.1307222694158554,
          -0.042179983109235764,
          -0.18517214059829712,
          -0.1067618802189827,
          -0.12512122094631195,
          -0.15345406532287598,
          -0.15364862978458405,
          0.06933604925870895,
          -0.12839655578136444,
          -0.15851593017578125,
          -0.17754122614860535,
          -0.10594800114631653,
          -0.1268882006406784,
          -0.09734996408224106,
          -0.003307577222585678,
          -0.20775535702705383,
          -0.11485640704631805,
          -0.11533384770154953,
          -0.17235320806503296,
          -0.14596468210220337,
          -0.1506873220205307,
          -0.15176033973693848,
          -0.13902005553245544,
          -0.16410918533802032,
          -0.15310479700565338,
          -0.042523059993982315,
          -0.15993653237819672,
          -0.10997316241264343,
          -0.1478748768568039,
          -0.16745643317699432,
          0.020877527073025703,
          -0.15199050307273865,
          -0.15244486927986145,
          0.0043841139413416386,
          0.024123676121234894,
          -0.16818751394748688,
          -0.10684780031442642,
          -0.11664117127656937,
          -0.2009289413690567,
          0.02930334210395813,
          -0.12303408235311508,
          -0.08614075928926468,
          -0.18001842498779297,
          -0.0689619854092598,
          -0.1182035356760025,
          -0.13143308460712433,
          -0.022226030007004738,
          -0.15188811719417572,
          -0.13501939177513123,
          -0.13259534537792206,
          -0.16677044332027435,
          -0.18655715882778168,
          0.023750146850943565,
          -0.13067083060741425,
          -0.09182193875312805,
          -0.1281919926404953,
          -0.05499038100242615,
          -0.7976415157318115,
          -0.4887538552284241,
          1.7004103660583496,
          -0.6379212141036987,
          1.5748082399368286,
          1.9250327348709106,
          -0.7873988747596741,
          -0.980124294757843,
          -0.6063063144683838,
          -0.8417112231254578,
          -0.803158164024353,
          1.7030302286148071,
          -0.4642331004142761,
          -0.8434004187583923,
          -0.5556297898292542,
          -0.7000758647918701,
          -0.2627800703048706,
          0.7709693908691406,
          -0.7117569446563721,
          -0.6100447177886963,
          -0.7986063957214355,
          -0.5279930830001831,
          1.6531081199645996,
          -0.578240692615509,
          0.2450682669878006,
          0.5638619661331177,
          -0.47382813692092896,
          1.594049096107483,
          0.3234750032424927,
          -0.5634381771087646,
          0.8044478297233582,
          1.8403420448303223,
          1.742836594581604,
          -0.8062223792076111,
          -0.9905441403388977,
          -0.5822465419769287,
          -0.8050212264060974,
          -1.0361579656600952,
          0.14734022319316864,
          -0.20705194771289825,
          1.7642383575439453,
          -0.14164160192012787,
          -0.7354161739349365,
          0.9877156019210815,
          1.6911630630493164,
          1.77628493309021,
          -1.0003825426101685,
          -0.8622322082519531,
          -0.841156005859375,
          -0.9567475914955139,
          1.8614391088485718,
          -1.0113800764083862,
          -1.0992090702056885,
          0.8212907314300537,
          1.7002182006835938,
          -0.7928915619850159,
          0.9509020447731018,
          0.9814152717590332,
          -0.792267382144928,
          -1.1284151077270508,
          -0.9738456606864929,
          -1.1123079061508179,
          0.9264554381370544,
          0.9097785353660583,
          0.9350786209106445,
          -0.7526155114173889,
          -0.7526331543922424,
          -1.0027934312820435,
          -1.0374126434326172,
          0.7461453676223755,
          -1.0037819147109985,
          -0.9386537075042725,
          0.9533959627151489,
          -1.0305519104003906,
          0.9086576700210571,
          -0.8607523441314697,
          0.8802606463432312,
          1.6536072492599487,
          -0.5231238603591919,
          0.9496532678604126,
          -0.9500399827957153,
          -1.0374468564987183,
          1.698441982269287,
          -1.019120216369629,
          -1.0166183710098267,
          1.0175318717956543,
          -1.0532047748565674,
          -1.1028584241867065,
          -0.5104581713676453,
          0.8726871609687805,
          1.5848181247711182,
          -0.5529658198356628,
          0.027789432555437088,
          -0.8019920587539673,
          1.5312206745147705,
          -0.9619611501693726,
          -1.0690873861312866,
          1.6308223009109497,
          0.8729823231697083,
          -0.029613349586725235,
          -0.5335034728050232,
          0.8860203623771667,
          1.7621285915374756,
          1.5370979309082031,
          1.53801429271698,
          0.05399196594953537,
          -0.7971646785736084,
          1.6479638814926147,
          -1.0935149192810059,
          1.027178406715393,
          -1.169891595840454,
          -0.030478961765766144,
          -0.5130132436752319,
          1.7564786672592163,
          0.5794071555137634,
          1.7914375066757202,
          0.3883056938648224,
          -0.9042540192604065,
          0.25433120131492615,
          -0.9523991942405701,
          1.678055763244629,
          -1.0580308437347412,
          -0.7841286659240723,
          0.9053221940994263,
          1.6887658834457397,
          1.693355917930603,
          -0.6248731017112732,
          1.578559160232544,
          -0.5245229005813599,
          -0.6293358206748962,
          1.617221474647522,
          -0.8337484002113342,
          -1.0545659065246582,
          1.6833313703536987,
          1.0790191888809204,
          -0.9838345646858215,
          -1.0313559770584106,
          2.08197021484375,
          -0.6794259548187256,
          -0.708795428276062,
          -0.7266855239868164,
          0.9118945598602295,
          1.684903621673584,
          -1.072876214981079,
          -0.6013133525848389,
          0.9100650548934937,
          -1.0192927122116089,
          -0.9680012464523315,
          -0.9939758777618408,
          0.61223304271698,
          1.8679919242858887,
          0.7770203948020935,
          -0.5580728054046631,
          -0.2835521101951599,
          1.6298072338104248,
          0.8218432664871216,
          -0.5354956388473511,
          0.8542981147766113,
          -0.9630036950111389,
          0.9050285816192627,
          -1.0023003816604614,
          0.869733452796936,
          -0.5809639096260071,
          0.8831574320793152,
          -0.5480836629867554,
          0.6895065903663635,
          -0.5345773100852966,
          -0.9953409433364868,
          0.9155210852622986,
          -1.0171527862548828,
          0.8693041801452637,
          -1.0768522024154663,
          0.8787530064582825,
          1.904586672782898,
          0.08662593364715576,
          0.855538547039032,
          -0.6502518057823181,
          1.7543278932571411,
          -1.082292079925537,
          1.0487462282180786
         ],
         "yaxis": "y"
        }
       ],
       "layout": {
        "coloraxis": {
         "colorbar": {
          "title": {
           "text": "cluster"
          }
         },
         "colorscale": [
          [
           0,
           "#0d0887"
          ],
          [
           0.1111111111111111,
           "#46039f"
          ],
          [
           0.2222222222222222,
           "#7201a8"
          ],
          [
           0.3333333333333333,
           "#9c179e"
          ],
          [
           0.4444444444444444,
           "#bd3786"
          ],
          [
           0.5555555555555556,
           "#d8576b"
          ],
          [
           0.6666666666666666,
           "#ed7953"
          ],
          [
           0.7777777777777778,
           "#fb9f3a"
          ],
          [
           0.8888888888888888,
           "#fdca26"
          ],
          [
           1,
           "#f0f921"
          ]
         ]
        },
        "legend": {
         "tracegroupgap": 0
        },
        "margin": {
         "t": 60
        },
        "template": {
         "data": {
          "bar": [
           {
            "error_x": {
             "color": "#2a3f5f"
            },
            "error_y": {
             "color": "#2a3f5f"
            },
            "marker": {
             "line": {
              "color": "#E5ECF6",
              "width": 0.5
             },
             "pattern": {
              "fillmode": "overlay",
              "size": 10,
              "solidity": 0.2
             }
            },
            "type": "bar"
           }
          ],
          "barpolar": [
           {
            "marker": {
             "line": {
              "color": "#E5ECF6",
              "width": 0.5
             },
             "pattern": {
              "fillmode": "overlay",
              "size": 10,
              "solidity": 0.2
             }
            },
            "type": "barpolar"
           }
          ],
          "carpet": [
           {
            "aaxis": {
             "endlinecolor": "#2a3f5f",
             "gridcolor": "white",
             "linecolor": "white",
             "minorgridcolor": "white",
             "startlinecolor": "#2a3f5f"
            },
            "baxis": {
             "endlinecolor": "#2a3f5f",
             "gridcolor": "white",
             "linecolor": "white",
             "minorgridcolor": "white",
             "startlinecolor": "#2a3f5f"
            },
            "type": "carpet"
           }
          ],
          "choropleth": [
           {
            "colorbar": {
             "outlinewidth": 0,
             "ticks": ""
            },
            "type": "choropleth"
           }
          ],
          "contour": [
           {
            "colorbar": {
             "outlinewidth": 0,
             "ticks": ""
            },
            "colorscale": [
             [
              0,
              "#0d0887"
             ],
             [
              0.1111111111111111,
              "#46039f"
             ],
             [
              0.2222222222222222,
              "#7201a8"
             ],
             [
              0.3333333333333333,
              "#9c179e"
             ],
             [
              0.4444444444444444,
              "#bd3786"
             ],
             [
              0.5555555555555556,
              "#d8576b"
             ],
             [
              0.6666666666666666,
              "#ed7953"
             ],
             [
              0.7777777777777778,
              "#fb9f3a"
             ],
             [
              0.8888888888888888,
              "#fdca26"
             ],
             [
              1,
              "#f0f921"
             ]
            ],
            "type": "contour"
           }
          ],
          "contourcarpet": [
           {
            "colorbar": {
             "outlinewidth": 0,
             "ticks": ""
            },
            "type": "contourcarpet"
           }
          ],
          "heatmap": [
           {
            "colorbar": {
             "outlinewidth": 0,
             "ticks": ""
            },
            "colorscale": [
             [
              0,
              "#0d0887"
             ],
             [
              0.1111111111111111,
              "#46039f"
             ],
             [
              0.2222222222222222,
              "#7201a8"
             ],
             [
              0.3333333333333333,
              "#9c179e"
             ],
             [
              0.4444444444444444,
              "#bd3786"
             ],
             [
              0.5555555555555556,
              "#d8576b"
             ],
             [
              0.6666666666666666,
              "#ed7953"
             ],
             [
              0.7777777777777778,
              "#fb9f3a"
             ],
             [
              0.8888888888888888,
              "#fdca26"
             ],
             [
              1,
              "#f0f921"
             ]
            ],
            "type": "heatmap"
           }
          ],
          "heatmapgl": [
           {
            "colorbar": {
             "outlinewidth": 0,
             "ticks": ""
            },
            "colorscale": [
             [
              0,
              "#0d0887"
             ],
             [
              0.1111111111111111,
              "#46039f"
             ],
             [
              0.2222222222222222,
              "#7201a8"
             ],
             [
              0.3333333333333333,
              "#9c179e"
             ],
             [
              0.4444444444444444,
              "#bd3786"
             ],
             [
              0.5555555555555556,
              "#d8576b"
             ],
             [
              0.6666666666666666,
              "#ed7953"
             ],
             [
              0.7777777777777778,
              "#fb9f3a"
             ],
             [
              0.8888888888888888,
              "#fdca26"
             ],
             [
              1,
              "#f0f921"
             ]
            ],
            "type": "heatmapgl"
           }
          ],
          "histogram": [
           {
            "marker": {
             "pattern": {
              "fillmode": "overlay",
              "size": 10,
              "solidity": 0.2
             }
            },
            "type": "histogram"
           }
          ],
          "histogram2d": [
           {
            "colorbar": {
             "outlinewidth": 0,
             "ticks": ""
            },
            "colorscale": [
             [
              0,
              "#0d0887"
             ],
             [
              0.1111111111111111,
              "#46039f"
             ],
             [
              0.2222222222222222,
              "#7201a8"
             ],
             [
              0.3333333333333333,
              "#9c179e"
             ],
             [
              0.4444444444444444,
              "#bd3786"
             ],
             [
              0.5555555555555556,
              "#d8576b"
             ],
             [
              0.6666666666666666,
              "#ed7953"
             ],
             [
              0.7777777777777778,
              "#fb9f3a"
             ],
             [
              0.8888888888888888,
              "#fdca26"
             ],
             [
              1,
              "#f0f921"
             ]
            ],
            "type": "histogram2d"
           }
          ],
          "histogram2dcontour": [
           {
            "colorbar": {
             "outlinewidth": 0,
             "ticks": ""
            },
            "colorscale": [
             [
              0,
              "#0d0887"
             ],
             [
              0.1111111111111111,
              "#46039f"
             ],
             [
              0.2222222222222222,
              "#7201a8"
             ],
             [
              0.3333333333333333,
              "#9c179e"
             ],
             [
              0.4444444444444444,
              "#bd3786"
             ],
             [
              0.5555555555555556,
              "#d8576b"
             ],
             [
              0.6666666666666666,
              "#ed7953"
             ],
             [
              0.7777777777777778,
              "#fb9f3a"
             ],
             [
              0.8888888888888888,
              "#fdca26"
             ],
             [
              1,
              "#f0f921"
             ]
            ],
            "type": "histogram2dcontour"
           }
          ],
          "mesh3d": [
           {
            "colorbar": {
             "outlinewidth": 0,
             "ticks": ""
            },
            "type": "mesh3d"
           }
          ],
          "parcoords": [
           {
            "line": {
             "colorbar": {
              "outlinewidth": 0,
              "ticks": ""
             }
            },
            "type": "parcoords"
           }
          ],
          "pie": [
           {
            "automargin": true,
            "type": "pie"
           }
          ],
          "scatter": [
           {
            "fillpattern": {
             "fillmode": "overlay",
             "size": 10,
             "solidity": 0.2
            },
            "type": "scatter"
           }
          ],
          "scatter3d": [
           {
            "line": {
             "colorbar": {
              "outlinewidth": 0,
              "ticks": ""
             }
            },
            "marker": {
             "colorbar": {
              "outlinewidth": 0,
              "ticks": ""
             }
            },
            "type": "scatter3d"
           }
          ],
          "scattercarpet": [
           {
            "marker": {
             "colorbar": {
              "outlinewidth": 0,
              "ticks": ""
             }
            },
            "type": "scattercarpet"
           }
          ],
          "scattergeo": [
           {
            "marker": {
             "colorbar": {
              "outlinewidth": 0,
              "ticks": ""
             }
            },
            "type": "scattergeo"
           }
          ],
          "scattergl": [
           {
            "marker": {
             "colorbar": {
              "outlinewidth": 0,
              "ticks": ""
             }
            },
            "type": "scattergl"
           }
          ],
          "scattermapbox": [
           {
            "marker": {
             "colorbar": {
              "outlinewidth": 0,
              "ticks": ""
             }
            },
            "type": "scattermapbox"
           }
          ],
          "scatterpolar": [
           {
            "marker": {
             "colorbar": {
              "outlinewidth": 0,
              "ticks": ""
             }
            },
            "type": "scatterpolar"
           }
          ],
          "scatterpolargl": [
           {
            "marker": {
             "colorbar": {
              "outlinewidth": 0,
              "ticks": ""
             }
            },
            "type": "scatterpolargl"
           }
          ],
          "scatterternary": [
           {
            "marker": {
             "colorbar": {
              "outlinewidth": 0,
              "ticks": ""
             }
            },
            "type": "scatterternary"
           }
          ],
          "surface": [
           {
            "colorbar": {
             "outlinewidth": 0,
             "ticks": ""
            },
            "colorscale": [
             [
              0,
              "#0d0887"
             ],
             [
              0.1111111111111111,
              "#46039f"
             ],
             [
              0.2222222222222222,
              "#7201a8"
             ],
             [
              0.3333333333333333,
              "#9c179e"
             ],
             [
              0.4444444444444444,
              "#bd3786"
             ],
             [
              0.5555555555555556,
              "#d8576b"
             ],
             [
              0.6666666666666666,
              "#ed7953"
             ],
             [
              0.7777777777777778,
              "#fb9f3a"
             ],
             [
              0.8888888888888888,
              "#fdca26"
             ],
             [
              1,
              "#f0f921"
             ]
            ],
            "type": "surface"
           }
          ],
          "table": [
           {
            "cells": {
             "fill": {
              "color": "#EBF0F8"
             },
             "line": {
              "color": "white"
             }
            },
            "header": {
             "fill": {
              "color": "#C8D4E3"
             },
             "line": {
              "color": "white"
             }
            },
            "type": "table"
           }
          ]
         },
         "layout": {
          "annotationdefaults": {
           "arrowcolor": "#2a3f5f",
           "arrowhead": 0,
           "arrowwidth": 1
          },
          "autotypenumbers": "strict",
          "coloraxis": {
           "colorbar": {
            "outlinewidth": 0,
            "ticks": ""
           }
          },
          "colorscale": {
           "diverging": [
            [
             0,
             "#8e0152"
            ],
            [
             0.1,
             "#c51b7d"
            ],
            [
             0.2,
             "#de77ae"
            ],
            [
             0.3,
             "#f1b6da"
            ],
            [
             0.4,
             "#fde0ef"
            ],
            [
             0.5,
             "#f7f7f7"
            ],
            [
             0.6,
             "#e6f5d0"
            ],
            [
             0.7,
             "#b8e186"
            ],
            [
             0.8,
             "#7fbc41"
            ],
            [
             0.9,
             "#4d9221"
            ],
            [
             1,
             "#276419"
            ]
           ],
           "sequential": [
            [
             0,
             "#0d0887"
            ],
            [
             0.1111111111111111,
             "#46039f"
            ],
            [
             0.2222222222222222,
             "#7201a8"
            ],
            [
             0.3333333333333333,
             "#9c179e"
            ],
            [
             0.4444444444444444,
             "#bd3786"
            ],
            [
             0.5555555555555556,
             "#d8576b"
            ],
            [
             0.6666666666666666,
             "#ed7953"
            ],
            [
             0.7777777777777778,
             "#fb9f3a"
            ],
            [
             0.8888888888888888,
             "#fdca26"
            ],
            [
             1,
             "#f0f921"
            ]
           ],
           "sequentialminus": [
            [
             0,
             "#0d0887"
            ],
            [
             0.1111111111111111,
             "#46039f"
            ],
            [
             0.2222222222222222,
             "#7201a8"
            ],
            [
             0.3333333333333333,
             "#9c179e"
            ],
            [
             0.4444444444444444,
             "#bd3786"
            ],
            [
             0.5555555555555556,
             "#d8576b"
            ],
            [
             0.6666666666666666,
             "#ed7953"
            ],
            [
             0.7777777777777778,
             "#fb9f3a"
            ],
            [
             0.8888888888888888,
             "#fdca26"
            ],
            [
             1,
             "#f0f921"
            ]
           ]
          },
          "colorway": [
           "#636efa",
           "#EF553B",
           "#00cc96",
           "#ab63fa",
           "#FFA15A",
           "#19d3f3",
           "#FF6692",
           "#B6E880",
           "#FF97FF",
           "#FECB52"
          ],
          "font": {
           "color": "#2a3f5f"
          },
          "geo": {
           "bgcolor": "white",
           "lakecolor": "white",
           "landcolor": "#E5ECF6",
           "showlakes": true,
           "showland": true,
           "subunitcolor": "white"
          },
          "hoverlabel": {
           "align": "left"
          },
          "hovermode": "closest",
          "mapbox": {
           "style": "light"
          },
          "paper_bgcolor": "white",
          "plot_bgcolor": "#E5ECF6",
          "polar": {
           "angularaxis": {
            "gridcolor": "white",
            "linecolor": "white",
            "ticks": ""
           },
           "bgcolor": "#E5ECF6",
           "radialaxis": {
            "gridcolor": "white",
            "linecolor": "white",
            "ticks": ""
           }
          },
          "scene": {
           "xaxis": {
            "backgroundcolor": "#E5ECF6",
            "gridcolor": "white",
            "gridwidth": 2,
            "linecolor": "white",
            "showbackground": true,
            "ticks": "",
            "zerolinecolor": "white"
           },
           "yaxis": {
            "backgroundcolor": "#E5ECF6",
            "gridcolor": "white",
            "gridwidth": 2,
            "linecolor": "white",
            "showbackground": true,
            "ticks": "",
            "zerolinecolor": "white"
           },
           "zaxis": {
            "backgroundcolor": "#E5ECF6",
            "gridcolor": "white",
            "gridwidth": 2,
            "linecolor": "white",
            "showbackground": true,
            "ticks": "",
            "zerolinecolor": "white"
           }
          },
          "shapedefaults": {
           "line": {
            "color": "#2a3f5f"
           }
          },
          "ternary": {
           "aaxis": {
            "gridcolor": "white",
            "linecolor": "white",
            "ticks": ""
           },
           "baxis": {
            "gridcolor": "white",
            "linecolor": "white",
            "ticks": ""
           },
           "bgcolor": "#E5ECF6",
           "caxis": {
            "gridcolor": "white",
            "linecolor": "white",
            "ticks": ""
           }
          },
          "title": {
           "x": 0.05
          },
          "xaxis": {
           "automargin": true,
           "gridcolor": "white",
           "linecolor": "white",
           "ticks": "",
           "title": {
            "standoff": 15
           },
           "zerolinecolor": "white",
           "zerolinewidth": 2
          },
          "yaxis": {
           "automargin": true,
           "gridcolor": "white",
           "linecolor": "white",
           "ticks": "",
           "title": {
            "standoff": 15
           },
           "zerolinecolor": "white",
           "zerolinewidth": 2
          }
         }
        },
        "xaxis": {
         "anchor": "y",
         "domain": [
          0,
          1
         ],
         "title": {
          "text": "PC1"
         }
        },
        "yaxis": {
         "anchor": "x",
         "domain": [
          0,
          1
         ],
         "title": {
          "text": "PC2"
         }
        }
       }
      },
      "text/html": [
       "<div>                            <div id=\"a689f20b-8473-4bc7-b7c5-7c8dcfab6993\" class=\"plotly-graph-div\" style=\"height:525px; width:100%;\"></div>            <script type=\"text/javascript\">                require([\"plotly\"], function(Plotly) {                    window.PLOTLYENV=window.PLOTLYENV || {};                                    if (document.getElementById(\"a689f20b-8473-4bc7-b7c5-7c8dcfab6993\")) {                    Plotly.newPlot(                        \"a689f20b-8473-4bc7-b7c5-7c8dcfab6993\",                        [{\"hovertemplate\":\"PC1=%{x}\\u003cbr\\u003ePC2=%{y}\\u003cbr\\u003ecluster=%{marker.color}\\u003cextra\\u003e\\u003c\\u002fextra\\u003e\",\"legendgroup\":\"\",\"marker\":{\"color\":[0,0,0,0,0,0,0,0,0,0,0,0,0,0,0,0,0,0,0,0,0,0,0,0,0,0,0,0,0,0,0,0,0,0,0,0,0,0,0,0,0,0,0,0,0,0,0,0,0,0,0,0,0,0,0,0,0,0,0,0,0,0,0,0,0,0,0,0,0,0,0,0,0,0,0,0,0,0,0,0,0,0,0,0,0,0,0,0,0,0,0,0,0,0,0,0,0,0,0,0,0,0,0,0,0,0,0,0,0,0,0,0,0,0,0,0,0,0,0,0,0,0,0,0,0,0,0,0,0,0,0,0,0,0,0,0,0,0,0,0,0,0,0,0,0,0,0,0,0,0,0,0,0,0,0,0,0,0,0,0,0,0,0,0,0,0,0,0,0,0,0,0,0,0,0,0,0,0,0,0,2,2,1,2,1,1,2,2,2,2,2,1,2,2,2,2,2,1,2,2,2,2,1,2,2,1,2,1,1,2,1,1,1,2,2,2,2,2,2,2,1,2,2,1,1,1,2,2,2,2,1,2,2,1,1,2,1,1,2,2,2,2,1,1,1,2,2,2,2,1,2,2,1,2,1,2,1,1,2,1,2,2,1,2,2,1,2,2,2,1,1,2,2,2,1,2,2,1,1,2,2,1,1,1,1,2,2,1,2,1,2,2,2,1,1,1,1,2,2,2,1,2,2,1,1,1,2,1,2,2,1,2,2,1,1,2,2,1,2,2,2,1,1,2,2,1,2,2,2,1,1,1,2,2,1,1,2,1,2,1,2,1,2,1,2,1,2,2,1,2,1,2,1,1,2,1,2,1,2,1],\"coloraxis\":\"coloraxis\",\"symbol\":\"circle\"},\"mode\":\"markers\",\"name\":\"\",\"orientation\":\"v\",\"showlegend\":false,\"x\":[-1.9113768339157104,-1.8166648149490356,-1.7978087663650513,-1.7969169616699219,-1.7857534885406494,-1.8501204252243042,-1.8310247659683228,-2.0362164974212646,-1.8477659225463867,-1.6692595481872559,-2.0483081340789795,-1.8520071506500244,-1.818983554840088,-1.7967804670333862,-1.6508121490478516,-2.0159056186676025,-1.6281017065048218,-1.7963417768478394,-1.841670274734497,-1.8947943449020386,-1.922046184539795,-1.8216516971588135,-1.8452879190444946,-2.0125069618225098,-1.7030119895935059,-1.7885085344314575,-1.8164962530136108,-1.8224622011184692,-2.052100419998169,-1.672457218170166,-1.8410348892211914,-1.8368825912475586,-1.9801740646362305,-1.762614369392395,-2.0588185787200928,-1.8139820098876953,-1.845612645149231,-1.8604334592819214,-2.003249406814575,-1.6449928283691406,-1.83247709274292,-1.8298784494400024,-1.8456803560256958,-1.7903971672058105,-1.8872103691101074,-1.800808310508728,-1.8384780883789062,-1.8142563104629517,-1.8114203214645386,-1.7945760488510132,-1.8199248313903809,-1.8017998933792114,-1.6940488815307617,-2.0475566387176514,-1.815451979637146,-1.8184536695480347,-2.0429646968841553,-1.8482170104980469,-1.7975760698318481,-1.8285315036773682,-2.0737345218658447,-1.822453498840332,-1.8159986734390259,-1.5451266765594482,-1.802217960357666,-1.6537652015686035,-1.8603675365447998,-2.0418202877044678,-1.6097482442855835,-1.788524866104126,-1.7489529848098755,-1.8199098110198975,-1.7967815399169922,-1.8933957815170288,-1.8496065139770508,-1.8184385299682617,-2.06414794921875,-1.648516058921814,-1.798633337020874,-1.8065508604049683,-1.8265734910964966,-1.8385884761810303,-2.02085280418396,-1.8291916847229004,-1.8105982542037964,-1.720513939857483,-2.044107437133789,-1.785117268562317,-1.7823768854141235,-1.7836707830429077,-1.8341591358184814,-2.005605936050415,-1.8081673383712769,-1.9295674562454224,-1.675002932548523,-1.7797454595565796,-1.7985239028930664,-1.8419524431228638,-1.7156091928482056,-1.8140803575515747,-1.7185829877853394,-1.784671664237976,-1.9264408349990845,-1.8011126518249512,-1.8080379962921143,-1.7877179384231567,-1.7655975818634033,-2.0205295085906982,-1.7882875204086304,-1.832135558128357,-2.0183730125427246,-1.7858669757843018,-1.8075659275054932,-1.854134202003479,-1.8135968446731567,-1.8499605655670166,-1.8656291961669922,-1.818575382232666,-1.8248919248580933,-1.7662196159362793,-1.7897764444351196,-1.80260169506073,-1.8688939809799194,-1.8099747896194458,-1.8171247243881226,-1.8568414449691772,-1.8343509435653687,-1.8341346979141235,-1.773113489151001,-1.7905423641204834,-1.884296178817749,-1.8312302827835083,-1.7704733610153198,-1.8170207738876343,-1.8220841884613037,-1.8072302341461182,-1.7847813367843628,-1.8512710332870483,-1.7797545194625854,-1.8296452760696411,-1.7847790718078613,-1.884584903717041,-1.8393772840499878,-1.7966712713241577,-1.8255890607833862,-1.8483012914657593,-1.8195242881774902,-1.806868314743042,-1.824016809463501,-1.996108055114746,-1.9995805025100708,-1.7809152603149414,-2.0709996223449707,-2.014479637145996,-1.9904050827026367,-1.825901746749878,-1.736789584159851,-2.042133331298828,-2.030993938446045,-1.8558920621871948,-1.7963169813156128,-1.9984151124954224,-2.085685968399048,-2.035139322280884,-1.8309917449951172,-1.8430944681167603,-1.8704478740692139,-1.736901879310608,-2.0125842094421387,-2.019643545150757,-1.9143314361572266,-1.8306046724319458,-1.8036351203918457,-1.9994686841964722,-2.018249988555908,-2.057025194168091,-1.7925289869308472,-1.5845855474472046,-1.8135682344436646,-1.7346559762954712,2.060112953186035,1.957035779953003,1.2465020418167114,2.13978910446167,1.162998914718628,1.30760657787323,2.091780662536621,2.136029005050659,1.92804753780365,2.0386414527893066,1.986892819404602,1.2106558084487915,1.944277286529541,2.1076364517211914,2.070512294769287,1.9987244606018066,1.9392619132995605,1.535325527191162,1.885671615600586,1.9649171829223633,2.062988042831421,1.858722448348999,1.235882043838501,1.8999193906784058,1.9349850416183472,1.8453623056411743,2.1340410709381104,1.2181531190872192,1.8735425472259521,2.0381932258605957,1.5436413288116455,1.257789134979248,1.249024748802185,2.0040314197540283,2.0887985229492188,2.0401761531829834,2.051997661590576,2.108323335647583,2.037609100341797,1.8889085054397583,1.2196122407913208,1.9563931226730347,2.0877084732055664,1.6348521709442139,1.2015653848648071,1.2197728157043457,2.214134931564331,2.2065422534942627,2.11386775970459,2.1278607845306396,1.176167368888855,2.3228602409362793,2.2440598011016846,1.5893924236297607,1.1774934530258179,2.123121738433838,1.6629101037979126,1.6347897052764893,2.0221691131591797,2.283535957336426,2.3938517570495605,2.3391270637512207,1.6077555418014526,1.6508396863937378,1.6193581819534302,2.132206439971924,2.413881778717041,2.3628458976745605,2.256714105606079,1.5442078113555908,2.3526315689086914,2.32336688041687,1.6175596714019775,2.3410019874572754,1.6003164052963257,2.0070064067840576,1.6219193935394287,1.2467676401138306,1.862069010734558,1.6190381050109863,2.4117767810821533,2.304727554321289,1.203736424446106,2.35819935798645,2.201287269592285,1.6239739656448364,2.318826198577881,2.344688892364502,2.0452396869659424,1.6770702600479126,1.2785818576812744,2.079094886779785,1.9536724090576172,2.111626625061035,1.1644433736801147,2.305353879928589,2.307847023010254,1.1883437633514404,1.6426821947097778,1.802111029624939,2.0805959701538086,1.6727200746536255,1.3239212036132812,1.1956013441085815,1.1907936334609985,2.028423547744751,2.0785484313964844,1.1656177043914795,2.2815277576446533,1.693975567817688,2.2602217197418213,1.9296337366104126,2.094865560531616,1.2428910732269287,2.147845983505249,1.24321711063385,1.9007415771484375,2.131263256072998,1.7747255563735962,2.3267626762390137,1.2328951358795166,2.2288708686828613,2.1217145919799805,1.6791841983795166,1.1943897008895874,1.2441312074661255,2.0255208015441895,1.2678871154785156,2.020918846130371,1.9896072149276733,1.1565396785736084,2.2864041328430176,2.181668281555176,1.2397249937057495,1.6484328508377075,2.3089587688446045,2.4185194969177246,1.3666383028030396,2.0160484313964844,2.1121668815612793,2.0666635036468506,1.5796133279800415,1.244607925415039,2.2981433868408203,2.0075113773345947,1.644439697265625,2.380486488342285,2.3219404220581055,2.3177778720855713,1.484187364578247,1.3090733289718628,1.5971155166625977,1.9937901496887207,1.9306793212890625,1.2744872570037842,1.5537762641906738,2.08363676071167,1.622935175895691,2.381134271621704,1.582385778427124,2.2988531589508057,1.6706937551498413,2.0367774963378906,1.5828508138656616,1.909956693649292,1.4774724245071411,1.9549356698989868,2.387843370437622,1.6200462579727173,2.317554235458374,1.6182026863098145,2.4053380489349365,1.6191613674163818,1.2692954540252686,2.2468979358673096,1.580614447593689,2.1041834354400635,1.2640107870101929,2.3181707859039307,1.5977123975753784],\"xaxis\":\"x\",\"y\":[-0.07035999000072479,-0.12071383744478226,-0.14010663330554962,-0.14194752275943756,-0.18571262061595917,-0.1685849279165268,-0.13412722945213318,-0.1281684786081314,-0.10727159678936005,-0.12489053606987,0.0580444298684597,-0.16268663108348846,-0.1344083994626999,-0.0643530786037445,0.20344282686710358,-0.15590278804302216,-0.07539232820272446,-0.09615883976221085,-0.15562602877616882,-0.11242975294589996,0.02812722511589527,-0.14036712050437927,-0.08296317607164383,-0.12294108420610428,-0.1118185743689537,-0.1282949447631836,-0.19899073243141174,-0.1298791468143463,-0.15464556217193604,-0.03332570940256119,-0.14283312857151031,-0.13520783185958862,-0.13358627259731293,-0.10344535112380981,0.02958376705646515,-0.07074248790740967,-0.08060953766107559,-0.16739359498023987,-0.13505800068378448,-0.03339419141411781,-0.152650386095047,-0.15851958096027374,-0.15486904978752136,-0.09587664157152176,-0.16873253881931305,-0.1175253763794899,-0.12946456670761108,-0.16028380393981934,-0.142229363322258,-0.08541055768728256,-0.005787955597043037,-0.11592397838830948,-0.08073265850543976,-0.08645246177911758,-0.12585866451263428,-0.1460391730070114,0.027407146990299225,-0.20458179712295532,-0.1565690040588379,-0.09026528894901276,-0.20473235845565796,-0.17379234731197357,-0.009500130079686642,-0.013075086288154125,-0.1314682960510254,-0.04566222056746483,-0.11869511753320694,-0.16071106493473053,0.006159509997814894,-0.15240012109279633,-0.013686602003872395,-0.13003817200660706,-0.12786538898944855,-0.11032699048519135,-0.1164950579404831,-0.06508342921733856,-0.16287070512771606,-0.06351500749588013,-0.13893967866897583,-0.1732911318540573,-0.16670559346675873,-0.05273665115237236,-0.11102094501256943,-0.11158210039138794,-0.14518046379089355,-0.05280403047800064,0.01462563220411539,-0.1627815216779709,-0.16829761862754822,-0.08922532945871353,-0.09130267798900604,-0.12680374085903168,-0.10942617058753967,0.060669295489788055,-0.005901257041841745,-0.09810841828584671,-0.0612960122525692,-0.13074050843715668,0.00669258926063776,-0.13017147779464722,-0.10308228433132172,-0.0629585012793541,-0.06542081385850906,-0.1377653032541275,-0.0837407335639,-0.18241791427135468,-0.13131320476531982,-0.16529648005962372,-0.07193925231695175,-0.11273940652608871,-0.04786495491862297,-0.14092835783958435,-0.09342504292726517,0.08872465044260025,-0.12990008294582367,-0.042564403265714645,-0.0853847861289978,-0.14176975190639496,-0.12708166241645813,-0.12045031040906906,-0.11553635448217392,-0.18100059032440186,-0.16988322138786316,-0.1307222694158554,-0.042179983109235764,-0.18517214059829712,-0.1067618802189827,-0.12512122094631195,-0.15345406532287598,-0.15364862978458405,0.06933604925870895,-0.12839655578136444,-0.15851593017578125,-0.17754122614860535,-0.10594800114631653,-0.1268882006406784,-0.09734996408224106,-0.003307577222585678,-0.20775535702705383,-0.11485640704631805,-0.11533384770154953,-0.17235320806503296,-0.14596468210220337,-0.1506873220205307,-0.15176033973693848,-0.13902005553245544,-0.16410918533802032,-0.15310479700565338,-0.042523059993982315,-0.15993653237819672,-0.10997316241264343,-0.1478748768568039,-0.16745643317699432,0.020877527073025703,-0.15199050307273865,-0.15244486927986145,0.0043841139413416386,0.024123676121234894,-0.16818751394748688,-0.10684780031442642,-0.11664117127656937,-0.2009289413690567,0.02930334210395813,-0.12303408235311508,-0.08614075928926468,-0.18001842498779297,-0.0689619854092598,-0.1182035356760025,-0.13143308460712433,-0.022226030007004738,-0.15188811719417572,-0.13501939177513123,-0.13259534537792206,-0.16677044332027435,-0.18655715882778168,0.023750146850943565,-0.13067083060741425,-0.09182193875312805,-0.1281919926404953,-0.05499038100242615,-0.7976415157318115,-0.4887538552284241,1.7004103660583496,-0.6379212141036987,1.5748082399368286,1.9250327348709106,-0.7873988747596741,-0.980124294757843,-0.6063063144683838,-0.8417112231254578,-0.803158164024353,1.7030302286148071,-0.4642331004142761,-0.8434004187583923,-0.5556297898292542,-0.7000758647918701,-0.2627800703048706,0.7709693908691406,-0.7117569446563721,-0.6100447177886963,-0.7986063957214355,-0.5279930830001831,1.6531081199645996,-0.578240692615509,0.2450682669878006,0.5638619661331177,-0.47382813692092896,1.594049096107483,0.3234750032424927,-0.5634381771087646,0.8044478297233582,1.8403420448303223,1.742836594581604,-0.8062223792076111,-0.9905441403388977,-0.5822465419769287,-0.8050212264060974,-1.0361579656600952,0.14734022319316864,-0.20705194771289825,1.7642383575439453,-0.14164160192012787,-0.7354161739349365,0.9877156019210815,1.6911630630493164,1.77628493309021,-1.0003825426101685,-0.8622322082519531,-0.841156005859375,-0.9567475914955139,1.8614391088485718,-1.0113800764083862,-1.0992090702056885,0.8212907314300537,1.7002182006835938,-0.7928915619850159,0.9509020447731018,0.9814152717590332,-0.792267382144928,-1.1284151077270508,-0.9738456606864929,-1.1123079061508179,0.9264554381370544,0.9097785353660583,0.9350786209106445,-0.7526155114173889,-0.7526331543922424,-1.0027934312820435,-1.0374126434326172,0.7461453676223755,-1.0037819147109985,-0.9386537075042725,0.9533959627151489,-1.0305519104003906,0.9086576700210571,-0.8607523441314697,0.8802606463432312,1.6536072492599487,-0.5231238603591919,0.9496532678604126,-0.9500399827957153,-1.0374468564987183,1.698441982269287,-1.019120216369629,-1.0166183710098267,1.0175318717956543,-1.0532047748565674,-1.1028584241867065,-0.5104581713676453,0.8726871609687805,1.5848181247711182,-0.5529658198356628,0.027789432555437088,-0.8019920587539673,1.5312206745147705,-0.9619611501693726,-1.0690873861312866,1.6308223009109497,0.8729823231697083,-0.029613349586725235,-0.5335034728050232,0.8860203623771667,1.7621285915374756,1.5370979309082031,1.53801429271698,0.05399196594953537,-0.7971646785736084,1.6479638814926147,-1.0935149192810059,1.027178406715393,-1.169891595840454,-0.030478961765766144,-0.5130132436752319,1.7564786672592163,0.5794071555137634,1.7914375066757202,0.3883056938648224,-0.9042540192604065,0.25433120131492615,-0.9523991942405701,1.678055763244629,-1.0580308437347412,-0.7841286659240723,0.9053221940994263,1.6887658834457397,1.693355917930603,-0.6248731017112732,1.578559160232544,-0.5245229005813599,-0.6293358206748962,1.617221474647522,-0.8337484002113342,-1.0545659065246582,1.6833313703536987,1.0790191888809204,-0.9838345646858215,-1.0313559770584106,2.08197021484375,-0.6794259548187256,-0.708795428276062,-0.7266855239868164,0.9118945598602295,1.684903621673584,-1.072876214981079,-0.6013133525848389,0.9100650548934937,-1.0192927122116089,-0.9680012464523315,-0.9939758777618408,0.61223304271698,1.8679919242858887,0.7770203948020935,-0.5580728054046631,-0.2835521101951599,1.6298072338104248,0.8218432664871216,-0.5354956388473511,0.8542981147766113,-0.9630036950111389,0.9050285816192627,-1.0023003816604614,0.869733452796936,-0.5809639096260071,0.8831574320793152,-0.5480836629867554,0.6895065903663635,-0.5345773100852966,-0.9953409433364868,0.9155210852622986,-1.0171527862548828,0.8693041801452637,-1.0768522024154663,0.8787530064582825,1.904586672782898,0.08662593364715576,0.855538547039032,-0.6502518057823181,1.7543278932571411,-1.082292079925537,1.0487462282180786],\"yaxis\":\"y\",\"type\":\"scatter\"}],                        {\"template\":{\"data\":{\"histogram2dcontour\":[{\"type\":\"histogram2dcontour\",\"colorbar\":{\"outlinewidth\":0,\"ticks\":\"\"},\"colorscale\":[[0.0,\"#0d0887\"],[0.1111111111111111,\"#46039f\"],[0.2222222222222222,\"#7201a8\"],[0.3333333333333333,\"#9c179e\"],[0.4444444444444444,\"#bd3786\"],[0.5555555555555556,\"#d8576b\"],[0.6666666666666666,\"#ed7953\"],[0.7777777777777778,\"#fb9f3a\"],[0.8888888888888888,\"#fdca26\"],[1.0,\"#f0f921\"]]}],\"choropleth\":[{\"type\":\"choropleth\",\"colorbar\":{\"outlinewidth\":0,\"ticks\":\"\"}}],\"histogram2d\":[{\"type\":\"histogram2d\",\"colorbar\":{\"outlinewidth\":0,\"ticks\":\"\"},\"colorscale\":[[0.0,\"#0d0887\"],[0.1111111111111111,\"#46039f\"],[0.2222222222222222,\"#7201a8\"],[0.3333333333333333,\"#9c179e\"],[0.4444444444444444,\"#bd3786\"],[0.5555555555555556,\"#d8576b\"],[0.6666666666666666,\"#ed7953\"],[0.7777777777777778,\"#fb9f3a\"],[0.8888888888888888,\"#fdca26\"],[1.0,\"#f0f921\"]]}],\"heatmap\":[{\"type\":\"heatmap\",\"colorbar\":{\"outlinewidth\":0,\"ticks\":\"\"},\"colorscale\":[[0.0,\"#0d0887\"],[0.1111111111111111,\"#46039f\"],[0.2222222222222222,\"#7201a8\"],[0.3333333333333333,\"#9c179e\"],[0.4444444444444444,\"#bd3786\"],[0.5555555555555556,\"#d8576b\"],[0.6666666666666666,\"#ed7953\"],[0.7777777777777778,\"#fb9f3a\"],[0.8888888888888888,\"#fdca26\"],[1.0,\"#f0f921\"]]}],\"heatmapgl\":[{\"type\":\"heatmapgl\",\"colorbar\":{\"outlinewidth\":0,\"ticks\":\"\"},\"colorscale\":[[0.0,\"#0d0887\"],[0.1111111111111111,\"#46039f\"],[0.2222222222222222,\"#7201a8\"],[0.3333333333333333,\"#9c179e\"],[0.4444444444444444,\"#bd3786\"],[0.5555555555555556,\"#d8576b\"],[0.6666666666666666,\"#ed7953\"],[0.7777777777777778,\"#fb9f3a\"],[0.8888888888888888,\"#fdca26\"],[1.0,\"#f0f921\"]]}],\"contourcarpet\":[{\"type\":\"contourcarpet\",\"colorbar\":{\"outlinewidth\":0,\"ticks\":\"\"}}],\"contour\":[{\"type\":\"contour\",\"colorbar\":{\"outlinewidth\":0,\"ticks\":\"\"},\"colorscale\":[[0.0,\"#0d0887\"],[0.1111111111111111,\"#46039f\"],[0.2222222222222222,\"#7201a8\"],[0.3333333333333333,\"#9c179e\"],[0.4444444444444444,\"#bd3786\"],[0.5555555555555556,\"#d8576b\"],[0.6666666666666666,\"#ed7953\"],[0.7777777777777778,\"#fb9f3a\"],[0.8888888888888888,\"#fdca26\"],[1.0,\"#f0f921\"]]}],\"surface\":[{\"type\":\"surface\",\"colorbar\":{\"outlinewidth\":0,\"ticks\":\"\"},\"colorscale\":[[0.0,\"#0d0887\"],[0.1111111111111111,\"#46039f\"],[0.2222222222222222,\"#7201a8\"],[0.3333333333333333,\"#9c179e\"],[0.4444444444444444,\"#bd3786\"],[0.5555555555555556,\"#d8576b\"],[0.6666666666666666,\"#ed7953\"],[0.7777777777777778,\"#fb9f3a\"],[0.8888888888888888,\"#fdca26\"],[1.0,\"#f0f921\"]]}],\"mesh3d\":[{\"type\":\"mesh3d\",\"colorbar\":{\"outlinewidth\":0,\"ticks\":\"\"}}],\"scatter\":[{\"fillpattern\":{\"fillmode\":\"overlay\",\"size\":10,\"solidity\":0.2},\"type\":\"scatter\"}],\"parcoords\":[{\"type\":\"parcoords\",\"line\":{\"colorbar\":{\"outlinewidth\":0,\"ticks\":\"\"}}}],\"scatterpolargl\":[{\"type\":\"scatterpolargl\",\"marker\":{\"colorbar\":{\"outlinewidth\":0,\"ticks\":\"\"}}}],\"bar\":[{\"error_x\":{\"color\":\"#2a3f5f\"},\"error_y\":{\"color\":\"#2a3f5f\"},\"marker\":{\"line\":{\"color\":\"#E5ECF6\",\"width\":0.5},\"pattern\":{\"fillmode\":\"overlay\",\"size\":10,\"solidity\":0.2}},\"type\":\"bar\"}],\"scattergeo\":[{\"type\":\"scattergeo\",\"marker\":{\"colorbar\":{\"outlinewidth\":0,\"ticks\":\"\"}}}],\"scatterpolar\":[{\"type\":\"scatterpolar\",\"marker\":{\"colorbar\":{\"outlinewidth\":0,\"ticks\":\"\"}}}],\"histogram\":[{\"marker\":{\"pattern\":{\"fillmode\":\"overlay\",\"size\":10,\"solidity\":0.2}},\"type\":\"histogram\"}],\"scattergl\":[{\"type\":\"scattergl\",\"marker\":{\"colorbar\":{\"outlinewidth\":0,\"ticks\":\"\"}}}],\"scatter3d\":[{\"type\":\"scatter3d\",\"line\":{\"colorbar\":{\"outlinewidth\":0,\"ticks\":\"\"}},\"marker\":{\"colorbar\":{\"outlinewidth\":0,\"ticks\":\"\"}}}],\"scattermapbox\":[{\"type\":\"scattermapbox\",\"marker\":{\"colorbar\":{\"outlinewidth\":0,\"ticks\":\"\"}}}],\"scatterternary\":[{\"type\":\"scatterternary\",\"marker\":{\"colorbar\":{\"outlinewidth\":0,\"ticks\":\"\"}}}],\"scattercarpet\":[{\"type\":\"scattercarpet\",\"marker\":{\"colorbar\":{\"outlinewidth\":0,\"ticks\":\"\"}}}],\"carpet\":[{\"aaxis\":{\"endlinecolor\":\"#2a3f5f\",\"gridcolor\":\"white\",\"linecolor\":\"white\",\"minorgridcolor\":\"white\",\"startlinecolor\":\"#2a3f5f\"},\"baxis\":{\"endlinecolor\":\"#2a3f5f\",\"gridcolor\":\"white\",\"linecolor\":\"white\",\"minorgridcolor\":\"white\",\"startlinecolor\":\"#2a3f5f\"},\"type\":\"carpet\"}],\"table\":[{\"cells\":{\"fill\":{\"color\":\"#EBF0F8\"},\"line\":{\"color\":\"white\"}},\"header\":{\"fill\":{\"color\":\"#C8D4E3\"},\"line\":{\"color\":\"white\"}},\"type\":\"table\"}],\"barpolar\":[{\"marker\":{\"line\":{\"color\":\"#E5ECF6\",\"width\":0.5},\"pattern\":{\"fillmode\":\"overlay\",\"size\":10,\"solidity\":0.2}},\"type\":\"barpolar\"}],\"pie\":[{\"automargin\":true,\"type\":\"pie\"}]},\"layout\":{\"autotypenumbers\":\"strict\",\"colorway\":[\"#636efa\",\"#EF553B\",\"#00cc96\",\"#ab63fa\",\"#FFA15A\",\"#19d3f3\",\"#FF6692\",\"#B6E880\",\"#FF97FF\",\"#FECB52\"],\"font\":{\"color\":\"#2a3f5f\"},\"hovermode\":\"closest\",\"hoverlabel\":{\"align\":\"left\"},\"paper_bgcolor\":\"white\",\"plot_bgcolor\":\"#E5ECF6\",\"polar\":{\"bgcolor\":\"#E5ECF6\",\"angularaxis\":{\"gridcolor\":\"white\",\"linecolor\":\"white\",\"ticks\":\"\"},\"radialaxis\":{\"gridcolor\":\"white\",\"linecolor\":\"white\",\"ticks\":\"\"}},\"ternary\":{\"bgcolor\":\"#E5ECF6\",\"aaxis\":{\"gridcolor\":\"white\",\"linecolor\":\"white\",\"ticks\":\"\"},\"baxis\":{\"gridcolor\":\"white\",\"linecolor\":\"white\",\"ticks\":\"\"},\"caxis\":{\"gridcolor\":\"white\",\"linecolor\":\"white\",\"ticks\":\"\"}},\"coloraxis\":{\"colorbar\":{\"outlinewidth\":0,\"ticks\":\"\"}},\"colorscale\":{\"sequential\":[[0.0,\"#0d0887\"],[0.1111111111111111,\"#46039f\"],[0.2222222222222222,\"#7201a8\"],[0.3333333333333333,\"#9c179e\"],[0.4444444444444444,\"#bd3786\"],[0.5555555555555556,\"#d8576b\"],[0.6666666666666666,\"#ed7953\"],[0.7777777777777778,\"#fb9f3a\"],[0.8888888888888888,\"#fdca26\"],[1.0,\"#f0f921\"]],\"sequentialminus\":[[0.0,\"#0d0887\"],[0.1111111111111111,\"#46039f\"],[0.2222222222222222,\"#7201a8\"],[0.3333333333333333,\"#9c179e\"],[0.4444444444444444,\"#bd3786\"],[0.5555555555555556,\"#d8576b\"],[0.6666666666666666,\"#ed7953\"],[0.7777777777777778,\"#fb9f3a\"],[0.8888888888888888,\"#fdca26\"],[1.0,\"#f0f921\"]],\"diverging\":[[0,\"#8e0152\"],[0.1,\"#c51b7d\"],[0.2,\"#de77ae\"],[0.3,\"#f1b6da\"],[0.4,\"#fde0ef\"],[0.5,\"#f7f7f7\"],[0.6,\"#e6f5d0\"],[0.7,\"#b8e186\"],[0.8,\"#7fbc41\"],[0.9,\"#4d9221\"],[1,\"#276419\"]]},\"xaxis\":{\"gridcolor\":\"white\",\"linecolor\":\"white\",\"ticks\":\"\",\"title\":{\"standoff\":15},\"zerolinecolor\":\"white\",\"automargin\":true,\"zerolinewidth\":2},\"yaxis\":{\"gridcolor\":\"white\",\"linecolor\":\"white\",\"ticks\":\"\",\"title\":{\"standoff\":15},\"zerolinecolor\":\"white\",\"automargin\":true,\"zerolinewidth\":2},\"scene\":{\"xaxis\":{\"backgroundcolor\":\"#E5ECF6\",\"gridcolor\":\"white\",\"linecolor\":\"white\",\"showbackground\":true,\"ticks\":\"\",\"zerolinecolor\":\"white\",\"gridwidth\":2},\"yaxis\":{\"backgroundcolor\":\"#E5ECF6\",\"gridcolor\":\"white\",\"linecolor\":\"white\",\"showbackground\":true,\"ticks\":\"\",\"zerolinecolor\":\"white\",\"gridwidth\":2},\"zaxis\":{\"backgroundcolor\":\"#E5ECF6\",\"gridcolor\":\"white\",\"linecolor\":\"white\",\"showbackground\":true,\"ticks\":\"\",\"zerolinecolor\":\"white\",\"gridwidth\":2}},\"shapedefaults\":{\"line\":{\"color\":\"#2a3f5f\"}},\"annotationdefaults\":{\"arrowcolor\":\"#2a3f5f\",\"arrowhead\":0,\"arrowwidth\":1},\"geo\":{\"bgcolor\":\"white\",\"landcolor\":\"#E5ECF6\",\"subunitcolor\":\"white\",\"showland\":true,\"showlakes\":true,\"lakecolor\":\"white\"},\"title\":{\"x\":0.05},\"mapbox\":{\"style\":\"light\"}}},\"xaxis\":{\"anchor\":\"y\",\"domain\":[0.0,1.0],\"title\":{\"text\":\"PC1\"}},\"yaxis\":{\"anchor\":\"x\",\"domain\":[0.0,1.0],\"title\":{\"text\":\"PC2\"}},\"coloraxis\":{\"colorbar\":{\"title\":{\"text\":\"cluster\"}},\"colorscale\":[[0.0,\"#0d0887\"],[0.1111111111111111,\"#46039f\"],[0.2222222222222222,\"#7201a8\"],[0.3333333333333333,\"#9c179e\"],[0.4444444444444444,\"#bd3786\"],[0.5555555555555556,\"#d8576b\"],[0.6666666666666666,\"#ed7953\"],[0.7777777777777778,\"#fb9f3a\"],[0.8888888888888888,\"#fdca26\"],[1.0,\"#f0f921\"]]},\"legend\":{\"tracegroupgap\":0},\"margin\":{\"t\":60}},                        {\"responsive\": true}                    ).then(function(){\n",
       "                            \n",
       "var gd = document.getElementById('a689f20b-8473-4bc7-b7c5-7c8dcfab6993');\n",
       "var x = new MutationObserver(function (mutations, observer) {{\n",
       "        var display = window.getComputedStyle(gd).display;\n",
       "        if (!display || display === 'none') {{\n",
       "            console.log([gd, 'removed!']);\n",
       "            Plotly.purge(gd);\n",
       "            observer.disconnect();\n",
       "        }}\n",
       "}});\n",
       "\n",
       "// Listen for the removal of the full notebook cells\n",
       "var notebookContainer = gd.closest('#notebook-container');\n",
       "if (notebookContainer) {{\n",
       "    x.observe(notebookContainer, {childList: true});\n",
       "}}\n",
       "\n",
       "// Listen for the clearing of the current output cell\n",
       "var outputEl = gd.closest('.output');\n",
       "if (outputEl) {{\n",
       "    x.observe(outputEl, {childList: true});\n",
       "}}\n",
       "\n",
       "                        })                };                });            </script>        </div>"
      ]
     },
     "metadata": {},
     "output_type": "display_data"
    }
   ],
   "source": [
    "import plotly.express as px\n",
    "\n",
    "fig = px.scatter(reducted_df,\n",
    "        x=\"PC1\",\n",
    "        y=\"PC2\",\n",
    "        color = \"cluster\",\n",
    ")\n",
    "\n",
    "fig.show()"
   ]
  },
  {
   "cell_type": "code",
   "execution_count": 136,
   "metadata": {},
   "outputs": [
    {
     "data": {
      "application/vnd.plotly.v1+json": {
       "config": {
        "plotlyServerURL": "https://plot.ly"
       },
       "data": [
        {
         "hovertemplate": "x=%{x}<br>y=%{y}<br>color=%{marker.color}<extra></extra>",
         "legendgroup": "",
         "marker": {
          "color": [
           0,
           0,
           0,
           0,
           0,
           0,
           0,
           0,
           0,
           0,
           0,
           0,
           0,
           0,
           0,
           0,
           0,
           0,
           0,
           0,
           0,
           0,
           0,
           0,
           0,
           0,
           0,
           0,
           0,
           0,
           0,
           0,
           0,
           0,
           0,
           0,
           0,
           0,
           0,
           0,
           0,
           0,
           0,
           0,
           0,
           0,
           0,
           0,
           0,
           0,
           0,
           0,
           0,
           0,
           0,
           0,
           0,
           0,
           0,
           0,
           0,
           0,
           0,
           0,
           0,
           0,
           0,
           0,
           0,
           0,
           0,
           0,
           0,
           0,
           0,
           0,
           0,
           0,
           0,
           0,
           0,
           0,
           0,
           0,
           0,
           0,
           0,
           0,
           0,
           0,
           0,
           0,
           0,
           0,
           0,
           0,
           0,
           0,
           0,
           0,
           0,
           0,
           0,
           0,
           0,
           0,
           0,
           0,
           0,
           0,
           0,
           0,
           0,
           0,
           0,
           0,
           0,
           0,
           0,
           0,
           0,
           0,
           0,
           0,
           0,
           0,
           0,
           0,
           0,
           0,
           0,
           0,
           0,
           0,
           0,
           0,
           0,
           0,
           0,
           0,
           0,
           0,
           0,
           0,
           0,
           0,
           0,
           0,
           0,
           0,
           0,
           0,
           0,
           0,
           0,
           0,
           0,
           0,
           0,
           0,
           0,
           0,
           0,
           0,
           0,
           0,
           0,
           0,
           0,
           0,
           0,
           0,
           0,
           0,
           0,
           0,
           0,
           0,
           0,
           0,
           2,
           2,
           1,
           2,
           1,
           1,
           2,
           2,
           2,
           2,
           2,
           1,
           2,
           2,
           2,
           2,
           2,
           1,
           2,
           2,
           2,
           2,
           1,
           2,
           2,
           1,
           2,
           1,
           1,
           2,
           1,
           1,
           1,
           2,
           2,
           2,
           2,
           2,
           2,
           2,
           1,
           2,
           2,
           1,
           1,
           1,
           2,
           2,
           2,
           2,
           1,
           2,
           2,
           1,
           1,
           2,
           1,
           1,
           2,
           2,
           2,
           2,
           1,
           1,
           1,
           2,
           2,
           2,
           2,
           1,
           2,
           2,
           1,
           2,
           1,
           2,
           1,
           1,
           2,
           1,
           2,
           2,
           1,
           2,
           2,
           1,
           2,
           2,
           2,
           1,
           1,
           2,
           2,
           2,
           1,
           2,
           2,
           1,
           1,
           2,
           2,
           1,
           1,
           1,
           1,
           2,
           2,
           1,
           2,
           1,
           2,
           2,
           2,
           1,
           1,
           1,
           1,
           2,
           2,
           2,
           1,
           2,
           2,
           1,
           1,
           1,
           2,
           1,
           2,
           2,
           1,
           2,
           2,
           1,
           1,
           2,
           2,
           1,
           2,
           2,
           2,
           1,
           1,
           2,
           2,
           1,
           2,
           2,
           2,
           1,
           1,
           1,
           2,
           2,
           1,
           1,
           2,
           1,
           2,
           1,
           2,
           1,
           2,
           1,
           2,
           1,
           2,
           2,
           1,
           2,
           1,
           2,
           1,
           1,
           2,
           1,
           2,
           1,
           2,
           1
          ],
          "coloraxis": "coloraxis",
          "symbol": "circle"
         },
         "mode": "markers",
         "name": "",
         "orientation": "v",
         "showlegend": false,
         "type": "scatter",
         "x": [
          0.10413223505020142,
          0.11900824308395386,
          0.08925619721412659,
          0.16749310493469238,
          0.1515151560306549,
          0.20661160349845886,
          0.21212121844291687,
          0.2126721441745758,
          0.1988981068134308,
          0.05950412154197693,
          0.3107438385486603,
          0.2523415982723236,
          0.20330575108528137,
          0.17906337976455688,
          0.6220386028289795,
          0.08980715274810791,
          0.067217618227005,
          0.22920110821723938,
          0.04848483204841614,
          0.356473833322525,
          0.16033059358596802,
          0.21101930737495422,
          0.12451788783073425,
          0.22920110821723938,
          0.06942147016525269,
          0.2303030788898468,
          0.10137742757797241,
          0.14765840768814087,
          0.12176305055618286,
          0.05785122513771057,
          0.18622589111328125,
          0.1625344157218933,
          0.15592285990715027,
          0.14104682207107544,
          0.2672176659107208,
          0.1983470618724823,
          0.24022039771080017,
          0.2016529142856598,
          0.019834697246551514,
          0.14655646681785583,
          0.09972450137138367,
          0.22809919714927673,
          0.18402200937271118,
          0.18677687644958496,
          0.19724521040916443,
          0.2462809979915619,
          0.20826444029808044,
          0.14490360021591187,
          0.0727272629737854,
          0.25399449467658997,
          0.22369149327278137,
          0.07878786325454712,
          0.03250688314437866,
          0.19779613614082336,
          0.15041321516036987,
          0.08870521187782288,
          0.2523415982723236,
          0.012121200561523438,
          0.17741045355796814,
          0.23746559023857117,
          0.1432507038116455,
          0.16363635659217834,
          0.24297520518302917,
          0.13608813285827637,
          0.1090908944606781,
          0.0446280837059021,
          0.2831955850124359,
          0.1338842809200287,
          0.2975206673145294,
          0.041322290897369385,
          0.12727269530296326,
          0.08815425634384155,
          0.19449034333229065,
          0.18292012810707092,
          0.2826445996761322,
          0.18787875771522522,
          0.1939394176006317,
          0.05564737319946289,
          0.07217627763748169,
          0.06336086988449097,
          0.17906337976455688,
          0.20275482535362244,
          0.11900824308395386,
          0.17520663142204285,
          0.09366390109062195,
          0.18732783198356628,
          0.2573002874851227,
          0.04297518730163574,
          0.03856748342514038,
          0.2501377761363983,
          0.30633607506752014,
          0.15261709690093994,
          0.2501377761363983,
          0.190633624792099,
          0.08099174499511719,
          0.2528925836086273,
          0.2550964057445526,
          0.1118457019329071,
          0.10853993892669678,
          0.18677687644958496,
          0.09256196022033691,
          0.29090914130210876,
          0.33553722500801086,
          0.06831952929496765,
          0.1432507038116455,
          0.20881542563438416,
          0.24848482012748718,
          0.14159777760505676,
          0.28980717062950134,
          0.20275482535362244,
          0.20275482535362244,
          0.16088154911994934,
          0.18071624636650085,
          0.3977961838245392,
          0.11680439114570618,
          0.25950416922569275,
          0.16749310493469238,
          0.20385679602622986,
          0.25619831681251526,
          0.08980715274810791,
          0.09972450137138367,
          0.09035810828208923,
          0.2352617084980011,
          0.07988980412483215,
          0.35702481865882874,
          0.23415979743003845,
          0.1460055112838745,
          0.13774102926254272,
          0.03360879421234131,
          0.06666666269302368,
          0.5179064273834229,
          0.07933881878852844,
          0.058402180671691895,
          0.0947658121585846,
          0.21157023310661316,
          0.10688704252243042,
          0.1344352662563324,
          0.2600550949573517,
          0.02093660831451416,
          0.09862256050109863,
          0.033057838678359985,
          0.18787875771522522,
          0.21157023310661316,
          0.08870521187782288,
          0.15592285990715027,
          0.20495864748954773,
          0.11239668726921082,
          0.16308540105819702,
          0.20936641097068787,
          0.04352617263793945,
          0.20055094361305237,
          0.15922865271568298,
          0.11845728754997253,
          0.24352619051933289,
          0.07107436656951904,
          0.1426997184753418,
          0.14765840768814087,
          0.2473829686641693,
          0.06280991435050964,
          0.08815425634384155,
          0.1741046905517578,
          0,
          0.2997244894504547,
          0.09090909361839294,
          0.16418731212615967,
          0.18402200937271118,
          0.2187328040599823,
          0.16143247485160828,
          0.08429750800132751,
          0.16694217920303345,
          0.10578510165214539,
          0.14710742235183716,
          0.2517906129360199,
          0.03856748342514038,
          0.06446278095245361,
          0.24793389439582825,
          0.1487603485584259,
          0.16418731212615967,
          0.17741045355796814,
          0.07382920384407043,
          0.31515154242515564,
          0.3895317018032074,
          0.24517908692359924,
          0.28154274821281433,
          0.15757572650909424,
          0.1741046905517578,
          0.3245179355144501,
          0.21983471512794495,
          0.30688706040382385,
          0.30688706040382385,
          0.2159779965877533,
          0.36363640427589417,
          0.44958677887916565,
          0.4126721918582916,
          0.17134985327720642,
          0.23746559023857117,
          0.3157024681568146,
          0.15041321516036987,
          0.2991735637187958,
          0.2528925836086273,
          0.36363640427589417,
          0.28650137782096863,
          0.40275487303733826,
          0.3201102316379547,
          0.5878788232803345,
          0.3360881507396698,
          0.33388426899909973,
          0.16473829746246338,
          0.35977962613105774,
          0.1460055112838745,
          0.23966941237449646,
          0.2523415982723236,
          0.15482091903686523,
          0.25123968720436096,
          0.19504132866859436,
          0.24352619051933289,
          0.3140495717525482,
          0.30082646012306213,
          0.3256198465824127,
          0.37796148657798767,
          0.2694214880466461,
          0.33774104714393616,
          0.1515151560306549,
          0.3272727429866791,
          0.2099173367023468,
          0.23085400462150574,
          0.24077138304710388,
          0.2947658598423004,
          0.2809917628765106,
          0.3134986460208893,
          0.38292011618614197,
          0.27382925152778625,
          0.2672176659107208,
          0.2776859700679779,
          0.17575755715370178,
          0.3730027973651886,
          0.2154269516468048,
          0.24297520518302917,
          0.3327823579311371,
          0.11900824308395386,
          0.3531680405139923,
          0.18402200937271118,
          0.3278237283229828,
          0.3030303418636322,
          0.19779613614082336,
          0.5476584434509277,
          0.1763085424900055,
          0.2997244894504547,
          0.26115700602531433,
          0.37134990096092224,
          0.26776859164237976,
          0.2798897922039032,
          0.23746559023857117,
          0.22865012288093567,
          0.3443526327610016,
          0.3118457496166229,
          0.30137744545936584,
          0.15647384524345398,
          0.4060606062412262,
          0.27603307366371155,
          0.38236913084983826,
          0.2969696819782257,
          0.2016529142856598,
          0.22203853726387024,
          0.1432507038116455,
          0.4214876592159271,
          0.26501378417015076,
          0.2495867908000946,
          0.2154269516468048,
          0.19228652119636536,
          0.10192835330963135,
          0.22809919714927673,
          0.1763085424900055,
          0.21432504057884216,
          0.18292012810707092,
          0.40771350264549255,
          0.34600552916526794,
          0.11349862813949585,
          0.26170799136161804,
          0.47272732853889465,
          0.24132230877876282,
          0.2269972264766693,
          0.23195591568946838,
          0.24297520518302917,
          0.24297520518302917,
          0.20330575108528137,
          0.31239673495292664,
          0.2501377761363983,
          0.2716253697872162,
          0.22369149327278137,
          0.196143239736557,
          0.4380165636539459,
          0.3157024681568146,
          0.22038570046424866,
          0.521212100982666,
          0.2501377761363983,
          0.4280991852283478,
          0.2887052595615387,
          0.7950414419174194,
          0.41322311758995056,
          0.14214876294136047,
          0.2655647099018097,
          0.2710743844509125,
          0.24022039771080017,
          0.16473829746246338,
          0.08980715274810791,
          0.24407711625099182,
          0.16694217920303345,
          0.33388426899909973,
          0.18842977285385132,
          0.24187323451042175,
          0.3085399568080902,
          0.2358126938343048,
          0.22809919714927673,
          0.2798897922039032,
          0.3724518120288849,
          0.19449034333229065,
          0.3085399568080902,
          0.4600551426410675,
          0.22203853726387024,
          0.18567493557929993,
          0.25399449467658997,
          0.17741045355796814,
          0.2721762955188751,
          0.2242424190044403,
          0.25895312428474426,
          0.21212121844291687,
          0.24242427945137024,
          0.3305785357952118,
          0.22479334473609924,
          0.2914600670337677,
          0.18126720190048218,
          0.19118458032608032,
          0.3250689208507538,
          0.21377411484718323,
          0.2694214880466461,
          0.23415979743003845,
          0.2633608877658844,
          0.3399449288845062,
          0.28705236315727234,
          0.29256197810173035,
          0.20771345496177673,
          0.2550964057445526,
          0.3002754747867584,
          0.2942148745059967,
          0.2325069010257721,
          0.2975206673145294,
          0.28484848141670227,
          0.19944903254508972,
          0.2837465703487396,
          0.2380165159702301,
          0.18953168392181396,
          0.18512395024299622,
          0.32121214270591736,
          1.0000001192092896,
          0.25123968720436096,
          0.2584021985530853,
          0.14380165934562683,
          0.20550963282585144,
          0.29862257838249207
         ],
         "xaxis": "x",
         "y": [
          0.003503367304801941,
          0.006586328148841858,
          0.0072869956493377686,
          0.006165921688079834,
          0.005325116217136383,
          0.006306059658527374,
          0.005325116217136383,
          0.022001124918460846,
          0.005325116217136383,
          0.00574551522731781,
          0.02228139340877533,
          0.006306059658527374,
          0.006306059658527374,
          0.0014013499021530151,
          0.004904709756374359,
          0.022001124918460846,
          0.006165921688079834,
          0.0077074021100997925,
          0.0042040348052978516,
          0.006306059658527374,
          0.022841930389404297,
          0.005325116217136383,
          0.0037836357951164246,
          0.022001124918460846,
          0.005325116217136383,
          0.0072869956493377686,
          0.006306059658527374,
          0.006165921688079834,
          0.02214125543832779,
          0.003503367304801941,
          0.003503367304801941,
          0.006306059658527374,
          0.022982068359851837,
          0.006165921688079834,
          0.02326233685016632,
          0.0016816183924674988,
          0.003082960844039917,
          0.006306059658527374,
          0.013733185827732086,
          0.006165921688079834,
          0.005325116217136383,
          0.006306059658527374,
          0.006726458668708801,
          0.006586328148841858,
          0.006306059658527374,
          0.0077074021100997925,
          0.0072869956493377686,
          0.0072869956493377686,
          0,
          0.006165921688079834,
          0.007146865129470825,
          0.006165921688079834,
          0.006306059658527374,
          0.022982068359851837,
          0.0007006749510765076,
          0.006726458668708801,
          0.02326233685016632,
          0.006306059658527374,
          0.0072869956493377686,
          0.006165921688079834,
          0.02312219887971878,
          0.006306059658527374,
          0.0014013499021530151,
          0.0021020174026489258,
          0.0072869956493377686,
          0.0025224238634109497,
          0.0072869956493377686,
          0.022001124918460846,
          0.00574551522731781,
          0.006165921688079834,
          0.006586328148841858,
          0.0072869956493377686,
          0.0072869956493377686,
          0.006165921688079834,
          0.0072869956493377686,
          0.006586328148841858,
          0.02214125543832779,
          0,
          0.006165921688079834,
          0.005325116217136383,
          0.0068665966391563416,
          0.0009809434413909912,
          0.023402467370033264,
          0.003082960844039917,
          0.0072869956493377686,
          0.0072869956493377686,
          0.012051574885845184,
          0.0072869956493377686,
          0.005325116217136383,
          0.006165921688079834,
          0.0072869956493377686,
          0.022982068359851837,
          0.00574551522731781,
          0.022841930389404297,
          0.0016816183924674988,
          0.006165921688079834,
          0.006165921688079834,
          0.0072869956493377686,
          0.003082960844039917,
          0.0072869956493377686,
          0.006306059658527374,
          0.0004204064607620239,
          0.022982068359851837,
          0.006165921688079834,
          0.0009809434413909912,
          0.006306059658527374,
          0.0072869956493377686,
          0.02214125543832779,
          0.006306059658527374,
          0.005325116217136383,
          0.012892380356788635,
          0.0072869956493377686,
          0.006165921688079834,
          0.006025783717632294,
          0.005325116217136383,
          0.006165921688079834,
          0.0032230988144874573,
          0.005325116217136383,
          0.0072869956493377686,
          0.006586328148841858,
          0.006586328148841858,
          0.006306059658527374,
          0.006306059658527374,
          0.0072869956493377686,
          0.006165921688079834,
          0.0072869956493377686,
          0.0007006749510765076,
          0.007146865129470825,
          0.006165921688079834,
          0.0072869956493377686,
          0.0021020174026489258,
          0.0072869956493377686,
          0.00574551522731781,
          0.006306059658527374,
          0.006165921688079834,
          0.0072869956493377686,
          0.006165921688079834,
          0.005184978246688843,
          0.006306059658527374,
          0.0072869956493377686,
          0.00028026849031448364,
          0.006306059658527374,
          0.0072869956493377686,
          0.0072869956493377686,
          0.006726458668708801,
          0.0072869956493377686,
          0.006726458668708801,
          0.005325116217136383,
          0.0021020174026489258,
          0.022982068359851837,
          0.022982068359851837,
          0.005325116217136383,
          0.013452917337417603,
          0.022841930389404297,
          0.022982068359851837,
          0.006726458668708801,
          0.00028026849031448364,
          0.022841930389404297,
          0.02242153137922287,
          0.0007006749510765076,
          0.006165921688079834,
          0.022561661899089813,
          0.022001124918460846,
          0.022982068359851837,
          0.006165921688079834,
          0.006306059658527374,
          0.003082960844039917,
          0.006306059658527374,
          0.022982068359851837,
          0.021860986948013306,
          0.006306059658527374,
          0.0072869956493377686,
          0.00574551522731781,
          0.02242153137922287,
          0.022001124918460846,
          0.02228139340877533,
          0.0077074021100997925,
          0.005325116217136383,
          0.0077074021100997925,
          0.006586328148841858,
          0.5483464598655701,
          0.5625,
          0.8487948775291443,
          0.5612388253211975,
          0.8584641814231873,
          0.8549607992172241,
          0.5753924250602722,
          0.5881446599960327,
          0.5710482001304626,
          0.5776345729827881,
          0.5627803206443787,
          0.7899383902549744,
          0.5728699564933777,
          0.6067825555801392,
          0.5809977650642395,
          0.5455437302589417,
          0.5668441653251648,
          0.7329035997390747,
          0.5657231211662292,
          0.581558346748352,
          0.5674047470092773,
          0.5678251385688782,
          0.8014293909072876,
          0.5508688688278198,
          0.5723094344139099,
          0.544562816619873,
          0.5580157041549683,
          0.8593049645423889,
          0.564461886882782,
          0.5622197389602661,
          0.7567265033721924,
          1.0000001192092896,
          0.8464125990867615,
          0.5655829906463623,
          0.5807175040245056,
          0.560538113117218,
          0.5770739912986755,
          0.581698477268219,
          0.5616592168807983,
          0.5525504946708679,
          0.851457417011261,
          0.5634809732437134,
          0.5752522945404053,
          0.7411715388298035,
          0.8440303206443787,
          0.8818666338920593,
          0.6221973299980164,
          0.6212164163589478,
          0.5965527296066284,
          0.5737107992172241,
          0.7801289558410645,
          0.6816143989562988,
          0.30493274331092834,
          0.7415919899940491,
          0.8302971124649048,
          0.5964125990867615,
          0.7490190863609314,
          0.7344450950622559,
          0.5772141218185425,
          0.322029173374176,
          0.7089406251907349,
          0.7247757911682129,
          0.7516816258430481,
          0.7420123815536499,
          0.743694007396698,
          0.6156110167503357,
          0.5849215388298035,
          0.691283643245697,
          0.6809136867523193,
          0.7331838607788086,
          0.706698477268219,
          0.675448477268219,
          0.7427130341529846,
          0.6919843554496765,
          0.7308015823364258,
          0.5725896954536438,
          0.7188901901245117,
          0.8992432951927185,
          0.5568946599960327,
          0.7698991298675537,
          0.6918442249298096,
          0.31235986948013306,
          0.8871917724609375,
          0.7107623815536499,
          0.28545403480529785,
          0.7330437302589417,
          0.706558346748352,
          0.722673773765564,
          0.5695067644119263,
          0.7312220335006714,
          0.7816704511642456,
          0.5711883902549744,
          0.5783352255821228,
          0.568385660648346,
          0.864910364151001,
          0.7121636867523193,
          0.6943666338920593,
          0.8584641814231873,
          0.7764854431152344,
          0.5490471124649048,
          0.5762332081794739,
          0.7408912777900696,
          0.8733184337615967,
          0.7938621640205383,
          0.798486590385437,
          0.5894058346748352,
          0.5695067644119263,
          0.8724775910377502,
          0.31530269980430603,
          0.7317825555801392,
          0.3249719738960266,
          0.5633408427238464,
          0.5766535997390747,
          0.8420684337615967,
          0.5661435127258301,
          0.9187220335006714,
          0.5623598694801331,
          0.5613789558410645,
          0.8835482597351074,
          0.6771301031112671,
          0.8776625990867615,
          0.315442830324173,
          0.5786154866218567,
          0.7294002771377563,
          0.855381190776825,
          0.8429092168807983,
          0.5822589993476868,
          0.8849495649337769,
          0.560538113117218,
          0.5660033822059631,
          0.8695347905158997,
          0.6957679390907288,
          0.3031109869480133,
          0.8769619464874268,
          0.7387892603874207,
          0.6832959651947021,
          0.6924047470092773,
          0.95095294713974,
          0.5632007122039795,
          0.5676850080490112,
          0.5692265033721924,
          0.7250561118125916,
          0.859164834022522,
          0.3297365605831146,
          0.57595294713974,
          0.7285594344139099,
          0.6967489123344421,
          0.6852578520774841,
          0.6839966773986816,
          0.7323430776596069,
          0.8031110167503357,
          0.743694007396698,
          0.5615190863609314,
          0.5672646164894104,
          0.8110986948013306,
          0.7275785207748413,
          0.5725896954536438,
          0.7501401901245117,
          0.7169283032417297,
          0.7240751385688782,
          0.6866592168807983,
          0.7508408427238464,
          0.5622197389602661,
          0.7498598694801331,
          0.5653027296066284,
          0.7315022945404053,
          0.5612388253211975,
          0.7232343554496765,
          0.7316424250602722,
          0.6869394779205322,
          0.7372477650642395,
          0.31712445616722107,
          0.7230942249298096,
          0.806194007396698,
          0.5575953125953674,
          0.7334641814231873,
          0.5529708862304688,
          0.8646301031112671,
          0.31362107396125793,
          0.7491592168807983
         ],
         "yaxis": "y"
        }
       ],
       "layout": {
        "coloraxis": {
         "colorbar": {
          "title": {
           "text": "color"
          }
         },
         "colorscale": [
          [
           0,
           "#0d0887"
          ],
          [
           0.1111111111111111,
           "#46039f"
          ],
          [
           0.2222222222222222,
           "#7201a8"
          ],
          [
           0.3333333333333333,
           "#9c179e"
          ],
          [
           0.4444444444444444,
           "#bd3786"
          ],
          [
           0.5555555555555556,
           "#d8576b"
          ],
          [
           0.6666666666666666,
           "#ed7953"
          ],
          [
           0.7777777777777778,
           "#fb9f3a"
          ],
          [
           0.8888888888888888,
           "#fdca26"
          ],
          [
           1,
           "#f0f921"
          ]
         ]
        },
        "legend": {
         "tracegroupgap": 0
        },
        "margin": {
         "t": 60
        },
        "template": {
         "data": {
          "bar": [
           {
            "error_x": {
             "color": "#2a3f5f"
            },
            "error_y": {
             "color": "#2a3f5f"
            },
            "marker": {
             "line": {
              "color": "#E5ECF6",
              "width": 0.5
             },
             "pattern": {
              "fillmode": "overlay",
              "size": 10,
              "solidity": 0.2
             }
            },
            "type": "bar"
           }
          ],
          "barpolar": [
           {
            "marker": {
             "line": {
              "color": "#E5ECF6",
              "width": 0.5
             },
             "pattern": {
              "fillmode": "overlay",
              "size": 10,
              "solidity": 0.2
             }
            },
            "type": "barpolar"
           }
          ],
          "carpet": [
           {
            "aaxis": {
             "endlinecolor": "#2a3f5f",
             "gridcolor": "white",
             "linecolor": "white",
             "minorgridcolor": "white",
             "startlinecolor": "#2a3f5f"
            },
            "baxis": {
             "endlinecolor": "#2a3f5f",
             "gridcolor": "white",
             "linecolor": "white",
             "minorgridcolor": "white",
             "startlinecolor": "#2a3f5f"
            },
            "type": "carpet"
           }
          ],
          "choropleth": [
           {
            "colorbar": {
             "outlinewidth": 0,
             "ticks": ""
            },
            "type": "choropleth"
           }
          ],
          "contour": [
           {
            "colorbar": {
             "outlinewidth": 0,
             "ticks": ""
            },
            "colorscale": [
             [
              0,
              "#0d0887"
             ],
             [
              0.1111111111111111,
              "#46039f"
             ],
             [
              0.2222222222222222,
              "#7201a8"
             ],
             [
              0.3333333333333333,
              "#9c179e"
             ],
             [
              0.4444444444444444,
              "#bd3786"
             ],
             [
              0.5555555555555556,
              "#d8576b"
             ],
             [
              0.6666666666666666,
              "#ed7953"
             ],
             [
              0.7777777777777778,
              "#fb9f3a"
             ],
             [
              0.8888888888888888,
              "#fdca26"
             ],
             [
              1,
              "#f0f921"
             ]
            ],
            "type": "contour"
           }
          ],
          "contourcarpet": [
           {
            "colorbar": {
             "outlinewidth": 0,
             "ticks": ""
            },
            "type": "contourcarpet"
           }
          ],
          "heatmap": [
           {
            "colorbar": {
             "outlinewidth": 0,
             "ticks": ""
            },
            "colorscale": [
             [
              0,
              "#0d0887"
             ],
             [
              0.1111111111111111,
              "#46039f"
             ],
             [
              0.2222222222222222,
              "#7201a8"
             ],
             [
              0.3333333333333333,
              "#9c179e"
             ],
             [
              0.4444444444444444,
              "#bd3786"
             ],
             [
              0.5555555555555556,
              "#d8576b"
             ],
             [
              0.6666666666666666,
              "#ed7953"
             ],
             [
              0.7777777777777778,
              "#fb9f3a"
             ],
             [
              0.8888888888888888,
              "#fdca26"
             ],
             [
              1,
              "#f0f921"
             ]
            ],
            "type": "heatmap"
           }
          ],
          "heatmapgl": [
           {
            "colorbar": {
             "outlinewidth": 0,
             "ticks": ""
            },
            "colorscale": [
             [
              0,
              "#0d0887"
             ],
             [
              0.1111111111111111,
              "#46039f"
             ],
             [
              0.2222222222222222,
              "#7201a8"
             ],
             [
              0.3333333333333333,
              "#9c179e"
             ],
             [
              0.4444444444444444,
              "#bd3786"
             ],
             [
              0.5555555555555556,
              "#d8576b"
             ],
             [
              0.6666666666666666,
              "#ed7953"
             ],
             [
              0.7777777777777778,
              "#fb9f3a"
             ],
             [
              0.8888888888888888,
              "#fdca26"
             ],
             [
              1,
              "#f0f921"
             ]
            ],
            "type": "heatmapgl"
           }
          ],
          "histogram": [
           {
            "marker": {
             "pattern": {
              "fillmode": "overlay",
              "size": 10,
              "solidity": 0.2
             }
            },
            "type": "histogram"
           }
          ],
          "histogram2d": [
           {
            "colorbar": {
             "outlinewidth": 0,
             "ticks": ""
            },
            "colorscale": [
             [
              0,
              "#0d0887"
             ],
             [
              0.1111111111111111,
              "#46039f"
             ],
             [
              0.2222222222222222,
              "#7201a8"
             ],
             [
              0.3333333333333333,
              "#9c179e"
             ],
             [
              0.4444444444444444,
              "#bd3786"
             ],
             [
              0.5555555555555556,
              "#d8576b"
             ],
             [
              0.6666666666666666,
              "#ed7953"
             ],
             [
              0.7777777777777778,
              "#fb9f3a"
             ],
             [
              0.8888888888888888,
              "#fdca26"
             ],
             [
              1,
              "#f0f921"
             ]
            ],
            "type": "histogram2d"
           }
          ],
          "histogram2dcontour": [
           {
            "colorbar": {
             "outlinewidth": 0,
             "ticks": ""
            },
            "colorscale": [
             [
              0,
              "#0d0887"
             ],
             [
              0.1111111111111111,
              "#46039f"
             ],
             [
              0.2222222222222222,
              "#7201a8"
             ],
             [
              0.3333333333333333,
              "#9c179e"
             ],
             [
              0.4444444444444444,
              "#bd3786"
             ],
             [
              0.5555555555555556,
              "#d8576b"
             ],
             [
              0.6666666666666666,
              "#ed7953"
             ],
             [
              0.7777777777777778,
              "#fb9f3a"
             ],
             [
              0.8888888888888888,
              "#fdca26"
             ],
             [
              1,
              "#f0f921"
             ]
            ],
            "type": "histogram2dcontour"
           }
          ],
          "mesh3d": [
           {
            "colorbar": {
             "outlinewidth": 0,
             "ticks": ""
            },
            "type": "mesh3d"
           }
          ],
          "parcoords": [
           {
            "line": {
             "colorbar": {
              "outlinewidth": 0,
              "ticks": ""
             }
            },
            "type": "parcoords"
           }
          ],
          "pie": [
           {
            "automargin": true,
            "type": "pie"
           }
          ],
          "scatter": [
           {
            "fillpattern": {
             "fillmode": "overlay",
             "size": 10,
             "solidity": 0.2
            },
            "type": "scatter"
           }
          ],
          "scatter3d": [
           {
            "line": {
             "colorbar": {
              "outlinewidth": 0,
              "ticks": ""
             }
            },
            "marker": {
             "colorbar": {
              "outlinewidth": 0,
              "ticks": ""
             }
            },
            "type": "scatter3d"
           }
          ],
          "scattercarpet": [
           {
            "marker": {
             "colorbar": {
              "outlinewidth": 0,
              "ticks": ""
             }
            },
            "type": "scattercarpet"
           }
          ],
          "scattergeo": [
           {
            "marker": {
             "colorbar": {
              "outlinewidth": 0,
              "ticks": ""
             }
            },
            "type": "scattergeo"
           }
          ],
          "scattergl": [
           {
            "marker": {
             "colorbar": {
              "outlinewidth": 0,
              "ticks": ""
             }
            },
            "type": "scattergl"
           }
          ],
          "scattermapbox": [
           {
            "marker": {
             "colorbar": {
              "outlinewidth": 0,
              "ticks": ""
             }
            },
            "type": "scattermapbox"
           }
          ],
          "scatterpolar": [
           {
            "marker": {
             "colorbar": {
              "outlinewidth": 0,
              "ticks": ""
             }
            },
            "type": "scatterpolar"
           }
          ],
          "scatterpolargl": [
           {
            "marker": {
             "colorbar": {
              "outlinewidth": 0,
              "ticks": ""
             }
            },
            "type": "scatterpolargl"
           }
          ],
          "scatterternary": [
           {
            "marker": {
             "colorbar": {
              "outlinewidth": 0,
              "ticks": ""
             }
            },
            "type": "scatterternary"
           }
          ],
          "surface": [
           {
            "colorbar": {
             "outlinewidth": 0,
             "ticks": ""
            },
            "colorscale": [
             [
              0,
              "#0d0887"
             ],
             [
              0.1111111111111111,
              "#46039f"
             ],
             [
              0.2222222222222222,
              "#7201a8"
             ],
             [
              0.3333333333333333,
              "#9c179e"
             ],
             [
              0.4444444444444444,
              "#bd3786"
             ],
             [
              0.5555555555555556,
              "#d8576b"
             ],
             [
              0.6666666666666666,
              "#ed7953"
             ],
             [
              0.7777777777777778,
              "#fb9f3a"
             ],
             [
              0.8888888888888888,
              "#fdca26"
             ],
             [
              1,
              "#f0f921"
             ]
            ],
            "type": "surface"
           }
          ],
          "table": [
           {
            "cells": {
             "fill": {
              "color": "#EBF0F8"
             },
             "line": {
              "color": "white"
             }
            },
            "header": {
             "fill": {
              "color": "#C8D4E3"
             },
             "line": {
              "color": "white"
             }
            },
            "type": "table"
           }
          ]
         },
         "layout": {
          "annotationdefaults": {
           "arrowcolor": "#2a3f5f",
           "arrowhead": 0,
           "arrowwidth": 1
          },
          "autotypenumbers": "strict",
          "coloraxis": {
           "colorbar": {
            "outlinewidth": 0,
            "ticks": ""
           }
          },
          "colorscale": {
           "diverging": [
            [
             0,
             "#8e0152"
            ],
            [
             0.1,
             "#c51b7d"
            ],
            [
             0.2,
             "#de77ae"
            ],
            [
             0.3,
             "#f1b6da"
            ],
            [
             0.4,
             "#fde0ef"
            ],
            [
             0.5,
             "#f7f7f7"
            ],
            [
             0.6,
             "#e6f5d0"
            ],
            [
             0.7,
             "#b8e186"
            ],
            [
             0.8,
             "#7fbc41"
            ],
            [
             0.9,
             "#4d9221"
            ],
            [
             1,
             "#276419"
            ]
           ],
           "sequential": [
            [
             0,
             "#0d0887"
            ],
            [
             0.1111111111111111,
             "#46039f"
            ],
            [
             0.2222222222222222,
             "#7201a8"
            ],
            [
             0.3333333333333333,
             "#9c179e"
            ],
            [
             0.4444444444444444,
             "#bd3786"
            ],
            [
             0.5555555555555556,
             "#d8576b"
            ],
            [
             0.6666666666666666,
             "#ed7953"
            ],
            [
             0.7777777777777778,
             "#fb9f3a"
            ],
            [
             0.8888888888888888,
             "#fdca26"
            ],
            [
             1,
             "#f0f921"
            ]
           ],
           "sequentialminus": [
            [
             0,
             "#0d0887"
            ],
            [
             0.1111111111111111,
             "#46039f"
            ],
            [
             0.2222222222222222,
             "#7201a8"
            ],
            [
             0.3333333333333333,
             "#9c179e"
            ],
            [
             0.4444444444444444,
             "#bd3786"
            ],
            [
             0.5555555555555556,
             "#d8576b"
            ],
            [
             0.6666666666666666,
             "#ed7953"
            ],
            [
             0.7777777777777778,
             "#fb9f3a"
            ],
            [
             0.8888888888888888,
             "#fdca26"
            ],
            [
             1,
             "#f0f921"
            ]
           ]
          },
          "colorway": [
           "#636efa",
           "#EF553B",
           "#00cc96",
           "#ab63fa",
           "#FFA15A",
           "#19d3f3",
           "#FF6692",
           "#B6E880",
           "#FF97FF",
           "#FECB52"
          ],
          "font": {
           "color": "#2a3f5f"
          },
          "geo": {
           "bgcolor": "white",
           "lakecolor": "white",
           "landcolor": "#E5ECF6",
           "showlakes": true,
           "showland": true,
           "subunitcolor": "white"
          },
          "hoverlabel": {
           "align": "left"
          },
          "hovermode": "closest",
          "mapbox": {
           "style": "light"
          },
          "paper_bgcolor": "white",
          "plot_bgcolor": "#E5ECF6",
          "polar": {
           "angularaxis": {
            "gridcolor": "white",
            "linecolor": "white",
            "ticks": ""
           },
           "bgcolor": "#E5ECF6",
           "radialaxis": {
            "gridcolor": "white",
            "linecolor": "white",
            "ticks": ""
           }
          },
          "scene": {
           "xaxis": {
            "backgroundcolor": "#E5ECF6",
            "gridcolor": "white",
            "gridwidth": 2,
            "linecolor": "white",
            "showbackground": true,
            "ticks": "",
            "zerolinecolor": "white"
           },
           "yaxis": {
            "backgroundcolor": "#E5ECF6",
            "gridcolor": "white",
            "gridwidth": 2,
            "linecolor": "white",
            "showbackground": true,
            "ticks": "",
            "zerolinecolor": "white"
           },
           "zaxis": {
            "backgroundcolor": "#E5ECF6",
            "gridcolor": "white",
            "gridwidth": 2,
            "linecolor": "white",
            "showbackground": true,
            "ticks": "",
            "zerolinecolor": "white"
           }
          },
          "shapedefaults": {
           "line": {
            "color": "#2a3f5f"
           }
          },
          "ternary": {
           "aaxis": {
            "gridcolor": "white",
            "linecolor": "white",
            "ticks": ""
           },
           "baxis": {
            "gridcolor": "white",
            "linecolor": "white",
            "ticks": ""
           },
           "bgcolor": "#E5ECF6",
           "caxis": {
            "gridcolor": "white",
            "linecolor": "white",
            "ticks": ""
           }
          },
          "title": {
           "x": 0.05
          },
          "xaxis": {
           "automargin": true,
           "gridcolor": "white",
           "linecolor": "white",
           "ticks": "",
           "title": {
            "standoff": 15
           },
           "zerolinecolor": "white",
           "zerolinewidth": 2
          },
          "yaxis": {
           "automargin": true,
           "gridcolor": "white",
           "linecolor": "white",
           "ticks": "",
           "title": {
            "standoff": 15
           },
           "zerolinecolor": "white",
           "zerolinewidth": 2
          }
         }
        },
        "xaxis": {
         "anchor": "y",
         "domain": [
          0,
          1
         ],
         "title": {
          "text": "avgGCPause"
         }
        },
        "yaxis": {
         "anchor": "x",
         "domain": [
          0,
          1
         ],
         "title": {
          "text": "freedMemoryByGC"
         }
        }
       }
      },
      "text/html": [
       "<div>                            <div id=\"91cded6a-1f17-488c-8cbc-040ebf81be7e\" class=\"plotly-graph-div\" style=\"height:525px; width:100%;\"></div>            <script type=\"text/javascript\">                require([\"plotly\"], function(Plotly) {                    window.PLOTLYENV=window.PLOTLYENV || {};                                    if (document.getElementById(\"91cded6a-1f17-488c-8cbc-040ebf81be7e\")) {                    Plotly.newPlot(                        \"91cded6a-1f17-488c-8cbc-040ebf81be7e\",                        [{\"hovertemplate\":\"x=%{x}\\u003cbr\\u003ey=%{y}\\u003cbr\\u003ecolor=%{marker.color}\\u003cextra\\u003e\\u003c\\u002fextra\\u003e\",\"legendgroup\":\"\",\"marker\":{\"color\":[0,0,0,0,0,0,0,0,0,0,0,0,0,0,0,0,0,0,0,0,0,0,0,0,0,0,0,0,0,0,0,0,0,0,0,0,0,0,0,0,0,0,0,0,0,0,0,0,0,0,0,0,0,0,0,0,0,0,0,0,0,0,0,0,0,0,0,0,0,0,0,0,0,0,0,0,0,0,0,0,0,0,0,0,0,0,0,0,0,0,0,0,0,0,0,0,0,0,0,0,0,0,0,0,0,0,0,0,0,0,0,0,0,0,0,0,0,0,0,0,0,0,0,0,0,0,0,0,0,0,0,0,0,0,0,0,0,0,0,0,0,0,0,0,0,0,0,0,0,0,0,0,0,0,0,0,0,0,0,0,0,0,0,0,0,0,0,0,0,0,0,0,0,0,0,0,0,0,0,0,2,2,1,2,1,1,2,2,2,2,2,1,2,2,2,2,2,1,2,2,2,2,1,2,2,1,2,1,1,2,1,1,1,2,2,2,2,2,2,2,1,2,2,1,1,1,2,2,2,2,1,2,2,1,1,2,1,1,2,2,2,2,1,1,1,2,2,2,2,1,2,2,1,2,1,2,1,1,2,1,2,2,1,2,2,1,2,2,2,1,1,2,2,2,1,2,2,1,1,2,2,1,1,1,1,2,2,1,2,1,2,2,2,1,1,1,1,2,2,2,1,2,2,1,1,1,2,1,2,2,1,2,2,1,1,2,2,1,2,2,2,1,1,2,2,1,2,2,2,1,1,1,2,2,1,1,2,1,2,1,2,1,2,1,2,1,2,2,1,2,1,2,1,1,2,1,2,1,2,1],\"coloraxis\":\"coloraxis\",\"symbol\":\"circle\"},\"mode\":\"markers\",\"name\":\"\",\"orientation\":\"v\",\"showlegend\":false,\"x\":[0.10413223505020142,0.11900824308395386,0.08925619721412659,0.16749310493469238,0.1515151560306549,0.20661160349845886,0.21212121844291687,0.2126721441745758,0.1988981068134308,0.05950412154197693,0.3107438385486603,0.2523415982723236,0.20330575108528137,0.17906337976455688,0.6220386028289795,0.08980715274810791,0.067217618227005,0.22920110821723938,0.04848483204841614,0.356473833322525,0.16033059358596802,0.21101930737495422,0.12451788783073425,0.22920110821723938,0.06942147016525269,0.2303030788898468,0.10137742757797241,0.14765840768814087,0.12176305055618286,0.05785122513771057,0.18622589111328125,0.1625344157218933,0.15592285990715027,0.14104682207107544,0.2672176659107208,0.1983470618724823,0.24022039771080017,0.2016529142856598,0.019834697246551514,0.14655646681785583,0.09972450137138367,0.22809919714927673,0.18402200937271118,0.18677687644958496,0.19724521040916443,0.2462809979915619,0.20826444029808044,0.14490360021591187,0.0727272629737854,0.25399449467658997,0.22369149327278137,0.07878786325454712,0.03250688314437866,0.19779613614082336,0.15041321516036987,0.08870521187782288,0.2523415982723236,0.012121200561523438,0.17741045355796814,0.23746559023857117,0.1432507038116455,0.16363635659217834,0.24297520518302917,0.13608813285827637,0.1090908944606781,0.0446280837059021,0.2831955850124359,0.1338842809200287,0.2975206673145294,0.041322290897369385,0.12727269530296326,0.08815425634384155,0.19449034333229065,0.18292012810707092,0.2826445996761322,0.18787875771522522,0.1939394176006317,0.05564737319946289,0.07217627763748169,0.06336086988449097,0.17906337976455688,0.20275482535362244,0.11900824308395386,0.17520663142204285,0.09366390109062195,0.18732783198356628,0.2573002874851227,0.04297518730163574,0.03856748342514038,0.2501377761363983,0.30633607506752014,0.15261709690093994,0.2501377761363983,0.190633624792099,0.08099174499511719,0.2528925836086273,0.2550964057445526,0.1118457019329071,0.10853993892669678,0.18677687644958496,0.09256196022033691,0.29090914130210876,0.33553722500801086,0.06831952929496765,0.1432507038116455,0.20881542563438416,0.24848482012748718,0.14159777760505676,0.28980717062950134,0.20275482535362244,0.20275482535362244,0.16088154911994934,0.18071624636650085,0.3977961838245392,0.11680439114570618,0.25950416922569275,0.16749310493469238,0.20385679602622986,0.25619831681251526,0.08980715274810791,0.09972450137138367,0.09035810828208923,0.2352617084980011,0.07988980412483215,0.35702481865882874,0.23415979743003845,0.1460055112838745,0.13774102926254272,0.03360879421234131,0.06666666269302368,0.5179064273834229,0.07933881878852844,0.058402180671691895,0.0947658121585846,0.21157023310661316,0.10688704252243042,0.1344352662563324,0.2600550949573517,0.02093660831451416,0.09862256050109863,0.033057838678359985,0.18787875771522522,0.21157023310661316,0.08870521187782288,0.15592285990715027,0.20495864748954773,0.11239668726921082,0.16308540105819702,0.20936641097068787,0.04352617263793945,0.20055094361305237,0.15922865271568298,0.11845728754997253,0.24352619051933289,0.07107436656951904,0.1426997184753418,0.14765840768814087,0.2473829686641693,0.06280991435050964,0.08815425634384155,0.1741046905517578,0.0,0.2997244894504547,0.09090909361839294,0.16418731212615967,0.18402200937271118,0.2187328040599823,0.16143247485160828,0.08429750800132751,0.16694217920303345,0.10578510165214539,0.14710742235183716,0.2517906129360199,0.03856748342514038,0.06446278095245361,0.24793389439582825,0.1487603485584259,0.16418731212615967,0.17741045355796814,0.07382920384407043,0.31515154242515564,0.3895317018032074,0.24517908692359924,0.28154274821281433,0.15757572650909424,0.1741046905517578,0.3245179355144501,0.21983471512794495,0.30688706040382385,0.30688706040382385,0.2159779965877533,0.36363640427589417,0.44958677887916565,0.4126721918582916,0.17134985327720642,0.23746559023857117,0.3157024681568146,0.15041321516036987,0.2991735637187958,0.2528925836086273,0.36363640427589417,0.28650137782096863,0.40275487303733826,0.3201102316379547,0.5878788232803345,0.3360881507396698,0.33388426899909973,0.16473829746246338,0.35977962613105774,0.1460055112838745,0.23966941237449646,0.2523415982723236,0.15482091903686523,0.25123968720436096,0.19504132866859436,0.24352619051933289,0.3140495717525482,0.30082646012306213,0.3256198465824127,0.37796148657798767,0.2694214880466461,0.33774104714393616,0.1515151560306549,0.3272727429866791,0.2099173367023468,0.23085400462150574,0.24077138304710388,0.2947658598423004,0.2809917628765106,0.3134986460208893,0.38292011618614197,0.27382925152778625,0.2672176659107208,0.2776859700679779,0.17575755715370178,0.3730027973651886,0.2154269516468048,0.24297520518302917,0.3327823579311371,0.11900824308395386,0.3531680405139923,0.18402200937271118,0.3278237283229828,0.3030303418636322,0.19779613614082336,0.5476584434509277,0.1763085424900055,0.2997244894504547,0.26115700602531433,0.37134990096092224,0.26776859164237976,0.2798897922039032,0.23746559023857117,0.22865012288093567,0.3443526327610016,0.3118457496166229,0.30137744545936584,0.15647384524345398,0.4060606062412262,0.27603307366371155,0.38236913084983826,0.2969696819782257,0.2016529142856598,0.22203853726387024,0.1432507038116455,0.4214876592159271,0.26501378417015076,0.2495867908000946,0.2154269516468048,0.19228652119636536,0.10192835330963135,0.22809919714927673,0.1763085424900055,0.21432504057884216,0.18292012810707092,0.40771350264549255,0.34600552916526794,0.11349862813949585,0.26170799136161804,0.47272732853889465,0.24132230877876282,0.2269972264766693,0.23195591568946838,0.24297520518302917,0.24297520518302917,0.20330575108528137,0.31239673495292664,0.2501377761363983,0.2716253697872162,0.22369149327278137,0.196143239736557,0.4380165636539459,0.3157024681568146,0.22038570046424866,0.521212100982666,0.2501377761363983,0.4280991852283478,0.2887052595615387,0.7950414419174194,0.41322311758995056,0.14214876294136047,0.2655647099018097,0.2710743844509125,0.24022039771080017,0.16473829746246338,0.08980715274810791,0.24407711625099182,0.16694217920303345,0.33388426899909973,0.18842977285385132,0.24187323451042175,0.3085399568080902,0.2358126938343048,0.22809919714927673,0.2798897922039032,0.3724518120288849,0.19449034333229065,0.3085399568080902,0.4600551426410675,0.22203853726387024,0.18567493557929993,0.25399449467658997,0.17741045355796814,0.2721762955188751,0.2242424190044403,0.25895312428474426,0.21212121844291687,0.24242427945137024,0.3305785357952118,0.22479334473609924,0.2914600670337677,0.18126720190048218,0.19118458032608032,0.3250689208507538,0.21377411484718323,0.2694214880466461,0.23415979743003845,0.2633608877658844,0.3399449288845062,0.28705236315727234,0.29256197810173035,0.20771345496177673,0.2550964057445526,0.3002754747867584,0.2942148745059967,0.2325069010257721,0.2975206673145294,0.28484848141670227,0.19944903254508972,0.2837465703487396,0.2380165159702301,0.18953168392181396,0.18512395024299622,0.32121214270591736,1.0000001192092896,0.25123968720436096,0.2584021985530853,0.14380165934562683,0.20550963282585144,0.29862257838249207],\"xaxis\":\"x\",\"y\":[0.003503367304801941,0.006586328148841858,0.0072869956493377686,0.006165921688079834,0.005325116217136383,0.006306059658527374,0.005325116217136383,0.022001124918460846,0.005325116217136383,0.00574551522731781,0.02228139340877533,0.006306059658527374,0.006306059658527374,0.0014013499021530151,0.004904709756374359,0.022001124918460846,0.006165921688079834,0.0077074021100997925,0.0042040348052978516,0.006306059658527374,0.022841930389404297,0.005325116217136383,0.0037836357951164246,0.022001124918460846,0.005325116217136383,0.0072869956493377686,0.006306059658527374,0.006165921688079834,0.02214125543832779,0.003503367304801941,0.003503367304801941,0.006306059658527374,0.022982068359851837,0.006165921688079834,0.02326233685016632,0.0016816183924674988,0.003082960844039917,0.006306059658527374,0.013733185827732086,0.006165921688079834,0.005325116217136383,0.006306059658527374,0.006726458668708801,0.006586328148841858,0.006306059658527374,0.0077074021100997925,0.0072869956493377686,0.0072869956493377686,0.0,0.006165921688079834,0.007146865129470825,0.006165921688079834,0.006306059658527374,0.022982068359851837,0.0007006749510765076,0.006726458668708801,0.02326233685016632,0.006306059658527374,0.0072869956493377686,0.006165921688079834,0.02312219887971878,0.006306059658527374,0.0014013499021530151,0.0021020174026489258,0.0072869956493377686,0.0025224238634109497,0.0072869956493377686,0.022001124918460846,0.00574551522731781,0.006165921688079834,0.006586328148841858,0.0072869956493377686,0.0072869956493377686,0.006165921688079834,0.0072869956493377686,0.006586328148841858,0.02214125543832779,0.0,0.006165921688079834,0.005325116217136383,0.0068665966391563416,0.0009809434413909912,0.023402467370033264,0.003082960844039917,0.0072869956493377686,0.0072869956493377686,0.012051574885845184,0.0072869956493377686,0.005325116217136383,0.006165921688079834,0.0072869956493377686,0.022982068359851837,0.00574551522731781,0.022841930389404297,0.0016816183924674988,0.006165921688079834,0.006165921688079834,0.0072869956493377686,0.003082960844039917,0.0072869956493377686,0.006306059658527374,0.0004204064607620239,0.022982068359851837,0.006165921688079834,0.0009809434413909912,0.006306059658527374,0.0072869956493377686,0.02214125543832779,0.006306059658527374,0.005325116217136383,0.012892380356788635,0.0072869956493377686,0.006165921688079834,0.006025783717632294,0.005325116217136383,0.006165921688079834,0.0032230988144874573,0.005325116217136383,0.0072869956493377686,0.006586328148841858,0.006586328148841858,0.006306059658527374,0.006306059658527374,0.0072869956493377686,0.006165921688079834,0.0072869956493377686,0.0007006749510765076,0.007146865129470825,0.006165921688079834,0.0072869956493377686,0.0021020174026489258,0.0072869956493377686,0.00574551522731781,0.006306059658527374,0.006165921688079834,0.0072869956493377686,0.006165921688079834,0.005184978246688843,0.006306059658527374,0.0072869956493377686,0.00028026849031448364,0.006306059658527374,0.0072869956493377686,0.0072869956493377686,0.006726458668708801,0.0072869956493377686,0.006726458668708801,0.005325116217136383,0.0021020174026489258,0.022982068359851837,0.022982068359851837,0.005325116217136383,0.013452917337417603,0.022841930389404297,0.022982068359851837,0.006726458668708801,0.00028026849031448364,0.022841930389404297,0.02242153137922287,0.0007006749510765076,0.006165921688079834,0.022561661899089813,0.022001124918460846,0.022982068359851837,0.006165921688079834,0.006306059658527374,0.003082960844039917,0.006306059658527374,0.022982068359851837,0.021860986948013306,0.006306059658527374,0.0072869956493377686,0.00574551522731781,0.02242153137922287,0.022001124918460846,0.02228139340877533,0.0077074021100997925,0.005325116217136383,0.0077074021100997925,0.006586328148841858,0.5483464598655701,0.5625,0.8487948775291443,0.5612388253211975,0.8584641814231873,0.8549607992172241,0.5753924250602722,0.5881446599960327,0.5710482001304626,0.5776345729827881,0.5627803206443787,0.7899383902549744,0.5728699564933777,0.6067825555801392,0.5809977650642395,0.5455437302589417,0.5668441653251648,0.7329035997390747,0.5657231211662292,0.581558346748352,0.5674047470092773,0.5678251385688782,0.8014293909072876,0.5508688688278198,0.5723094344139099,0.544562816619873,0.5580157041549683,0.8593049645423889,0.564461886882782,0.5622197389602661,0.7567265033721924,1.0000001192092896,0.8464125990867615,0.5655829906463623,0.5807175040245056,0.560538113117218,0.5770739912986755,0.581698477268219,0.5616592168807983,0.5525504946708679,0.851457417011261,0.5634809732437134,0.5752522945404053,0.7411715388298035,0.8440303206443787,0.8818666338920593,0.6221973299980164,0.6212164163589478,0.5965527296066284,0.5737107992172241,0.7801289558410645,0.6816143989562988,0.30493274331092834,0.7415919899940491,0.8302971124649048,0.5964125990867615,0.7490190863609314,0.7344450950622559,0.5772141218185425,0.322029173374176,0.7089406251907349,0.7247757911682129,0.7516816258430481,0.7420123815536499,0.743694007396698,0.6156110167503357,0.5849215388298035,0.691283643245697,0.6809136867523193,0.7331838607788086,0.706698477268219,0.675448477268219,0.7427130341529846,0.6919843554496765,0.7308015823364258,0.5725896954536438,0.7188901901245117,0.8992432951927185,0.5568946599960327,0.7698991298675537,0.6918442249298096,0.31235986948013306,0.8871917724609375,0.7107623815536499,0.28545403480529785,0.7330437302589417,0.706558346748352,0.722673773765564,0.5695067644119263,0.7312220335006714,0.7816704511642456,0.5711883902549744,0.5783352255821228,0.568385660648346,0.864910364151001,0.7121636867523193,0.6943666338920593,0.8584641814231873,0.7764854431152344,0.5490471124649048,0.5762332081794739,0.7408912777900696,0.8733184337615967,0.7938621640205383,0.798486590385437,0.5894058346748352,0.5695067644119263,0.8724775910377502,0.31530269980430603,0.7317825555801392,0.3249719738960266,0.5633408427238464,0.5766535997390747,0.8420684337615967,0.5661435127258301,0.9187220335006714,0.5623598694801331,0.5613789558410645,0.8835482597351074,0.6771301031112671,0.8776625990867615,0.315442830324173,0.5786154866218567,0.7294002771377563,0.855381190776825,0.8429092168807983,0.5822589993476868,0.8849495649337769,0.560538113117218,0.5660033822059631,0.8695347905158997,0.6957679390907288,0.3031109869480133,0.8769619464874268,0.7387892603874207,0.6832959651947021,0.6924047470092773,0.95095294713974,0.5632007122039795,0.5676850080490112,0.5692265033721924,0.7250561118125916,0.859164834022522,0.3297365605831146,0.57595294713974,0.7285594344139099,0.6967489123344421,0.6852578520774841,0.6839966773986816,0.7323430776596069,0.8031110167503357,0.743694007396698,0.5615190863609314,0.5672646164894104,0.8110986948013306,0.7275785207748413,0.5725896954536438,0.7501401901245117,0.7169283032417297,0.7240751385688782,0.6866592168807983,0.7508408427238464,0.5622197389602661,0.7498598694801331,0.5653027296066284,0.7315022945404053,0.5612388253211975,0.7232343554496765,0.7316424250602722,0.6869394779205322,0.7372477650642395,0.31712445616722107,0.7230942249298096,0.806194007396698,0.5575953125953674,0.7334641814231873,0.5529708862304688,0.8646301031112671,0.31362107396125793,0.7491592168807983],\"yaxis\":\"y\",\"type\":\"scatter\"}],                        {\"template\":{\"data\":{\"histogram2dcontour\":[{\"type\":\"histogram2dcontour\",\"colorbar\":{\"outlinewidth\":0,\"ticks\":\"\"},\"colorscale\":[[0.0,\"#0d0887\"],[0.1111111111111111,\"#46039f\"],[0.2222222222222222,\"#7201a8\"],[0.3333333333333333,\"#9c179e\"],[0.4444444444444444,\"#bd3786\"],[0.5555555555555556,\"#d8576b\"],[0.6666666666666666,\"#ed7953\"],[0.7777777777777778,\"#fb9f3a\"],[0.8888888888888888,\"#fdca26\"],[1.0,\"#f0f921\"]]}],\"choropleth\":[{\"type\":\"choropleth\",\"colorbar\":{\"outlinewidth\":0,\"ticks\":\"\"}}],\"histogram2d\":[{\"type\":\"histogram2d\",\"colorbar\":{\"outlinewidth\":0,\"ticks\":\"\"},\"colorscale\":[[0.0,\"#0d0887\"],[0.1111111111111111,\"#46039f\"],[0.2222222222222222,\"#7201a8\"],[0.3333333333333333,\"#9c179e\"],[0.4444444444444444,\"#bd3786\"],[0.5555555555555556,\"#d8576b\"],[0.6666666666666666,\"#ed7953\"],[0.7777777777777778,\"#fb9f3a\"],[0.8888888888888888,\"#fdca26\"],[1.0,\"#f0f921\"]]}],\"heatmap\":[{\"type\":\"heatmap\",\"colorbar\":{\"outlinewidth\":0,\"ticks\":\"\"},\"colorscale\":[[0.0,\"#0d0887\"],[0.1111111111111111,\"#46039f\"],[0.2222222222222222,\"#7201a8\"],[0.3333333333333333,\"#9c179e\"],[0.4444444444444444,\"#bd3786\"],[0.5555555555555556,\"#d8576b\"],[0.6666666666666666,\"#ed7953\"],[0.7777777777777778,\"#fb9f3a\"],[0.8888888888888888,\"#fdca26\"],[1.0,\"#f0f921\"]]}],\"heatmapgl\":[{\"type\":\"heatmapgl\",\"colorbar\":{\"outlinewidth\":0,\"ticks\":\"\"},\"colorscale\":[[0.0,\"#0d0887\"],[0.1111111111111111,\"#46039f\"],[0.2222222222222222,\"#7201a8\"],[0.3333333333333333,\"#9c179e\"],[0.4444444444444444,\"#bd3786\"],[0.5555555555555556,\"#d8576b\"],[0.6666666666666666,\"#ed7953\"],[0.7777777777777778,\"#fb9f3a\"],[0.8888888888888888,\"#fdca26\"],[1.0,\"#f0f921\"]]}],\"contourcarpet\":[{\"type\":\"contourcarpet\",\"colorbar\":{\"outlinewidth\":0,\"ticks\":\"\"}}],\"contour\":[{\"type\":\"contour\",\"colorbar\":{\"outlinewidth\":0,\"ticks\":\"\"},\"colorscale\":[[0.0,\"#0d0887\"],[0.1111111111111111,\"#46039f\"],[0.2222222222222222,\"#7201a8\"],[0.3333333333333333,\"#9c179e\"],[0.4444444444444444,\"#bd3786\"],[0.5555555555555556,\"#d8576b\"],[0.6666666666666666,\"#ed7953\"],[0.7777777777777778,\"#fb9f3a\"],[0.8888888888888888,\"#fdca26\"],[1.0,\"#f0f921\"]]}],\"surface\":[{\"type\":\"surface\",\"colorbar\":{\"outlinewidth\":0,\"ticks\":\"\"},\"colorscale\":[[0.0,\"#0d0887\"],[0.1111111111111111,\"#46039f\"],[0.2222222222222222,\"#7201a8\"],[0.3333333333333333,\"#9c179e\"],[0.4444444444444444,\"#bd3786\"],[0.5555555555555556,\"#d8576b\"],[0.6666666666666666,\"#ed7953\"],[0.7777777777777778,\"#fb9f3a\"],[0.8888888888888888,\"#fdca26\"],[1.0,\"#f0f921\"]]}],\"mesh3d\":[{\"type\":\"mesh3d\",\"colorbar\":{\"outlinewidth\":0,\"ticks\":\"\"}}],\"scatter\":[{\"fillpattern\":{\"fillmode\":\"overlay\",\"size\":10,\"solidity\":0.2},\"type\":\"scatter\"}],\"parcoords\":[{\"type\":\"parcoords\",\"line\":{\"colorbar\":{\"outlinewidth\":0,\"ticks\":\"\"}}}],\"scatterpolargl\":[{\"type\":\"scatterpolargl\",\"marker\":{\"colorbar\":{\"outlinewidth\":0,\"ticks\":\"\"}}}],\"bar\":[{\"error_x\":{\"color\":\"#2a3f5f\"},\"error_y\":{\"color\":\"#2a3f5f\"},\"marker\":{\"line\":{\"color\":\"#E5ECF6\",\"width\":0.5},\"pattern\":{\"fillmode\":\"overlay\",\"size\":10,\"solidity\":0.2}},\"type\":\"bar\"}],\"scattergeo\":[{\"type\":\"scattergeo\",\"marker\":{\"colorbar\":{\"outlinewidth\":0,\"ticks\":\"\"}}}],\"scatterpolar\":[{\"type\":\"scatterpolar\",\"marker\":{\"colorbar\":{\"outlinewidth\":0,\"ticks\":\"\"}}}],\"histogram\":[{\"marker\":{\"pattern\":{\"fillmode\":\"overlay\",\"size\":10,\"solidity\":0.2}},\"type\":\"histogram\"}],\"scattergl\":[{\"type\":\"scattergl\",\"marker\":{\"colorbar\":{\"outlinewidth\":0,\"ticks\":\"\"}}}],\"scatter3d\":[{\"type\":\"scatter3d\",\"line\":{\"colorbar\":{\"outlinewidth\":0,\"ticks\":\"\"}},\"marker\":{\"colorbar\":{\"outlinewidth\":0,\"ticks\":\"\"}}}],\"scattermapbox\":[{\"type\":\"scattermapbox\",\"marker\":{\"colorbar\":{\"outlinewidth\":0,\"ticks\":\"\"}}}],\"scatterternary\":[{\"type\":\"scatterternary\",\"marker\":{\"colorbar\":{\"outlinewidth\":0,\"ticks\":\"\"}}}],\"scattercarpet\":[{\"type\":\"scattercarpet\",\"marker\":{\"colorbar\":{\"outlinewidth\":0,\"ticks\":\"\"}}}],\"carpet\":[{\"aaxis\":{\"endlinecolor\":\"#2a3f5f\",\"gridcolor\":\"white\",\"linecolor\":\"white\",\"minorgridcolor\":\"white\",\"startlinecolor\":\"#2a3f5f\"},\"baxis\":{\"endlinecolor\":\"#2a3f5f\",\"gridcolor\":\"white\",\"linecolor\":\"white\",\"minorgridcolor\":\"white\",\"startlinecolor\":\"#2a3f5f\"},\"type\":\"carpet\"}],\"table\":[{\"cells\":{\"fill\":{\"color\":\"#EBF0F8\"},\"line\":{\"color\":\"white\"}},\"header\":{\"fill\":{\"color\":\"#C8D4E3\"},\"line\":{\"color\":\"white\"}},\"type\":\"table\"}],\"barpolar\":[{\"marker\":{\"line\":{\"color\":\"#E5ECF6\",\"width\":0.5},\"pattern\":{\"fillmode\":\"overlay\",\"size\":10,\"solidity\":0.2}},\"type\":\"barpolar\"}],\"pie\":[{\"automargin\":true,\"type\":\"pie\"}]},\"layout\":{\"autotypenumbers\":\"strict\",\"colorway\":[\"#636efa\",\"#EF553B\",\"#00cc96\",\"#ab63fa\",\"#FFA15A\",\"#19d3f3\",\"#FF6692\",\"#B6E880\",\"#FF97FF\",\"#FECB52\"],\"font\":{\"color\":\"#2a3f5f\"},\"hovermode\":\"closest\",\"hoverlabel\":{\"align\":\"left\"},\"paper_bgcolor\":\"white\",\"plot_bgcolor\":\"#E5ECF6\",\"polar\":{\"bgcolor\":\"#E5ECF6\",\"angularaxis\":{\"gridcolor\":\"white\",\"linecolor\":\"white\",\"ticks\":\"\"},\"radialaxis\":{\"gridcolor\":\"white\",\"linecolor\":\"white\",\"ticks\":\"\"}},\"ternary\":{\"bgcolor\":\"#E5ECF6\",\"aaxis\":{\"gridcolor\":\"white\",\"linecolor\":\"white\",\"ticks\":\"\"},\"baxis\":{\"gridcolor\":\"white\",\"linecolor\":\"white\",\"ticks\":\"\"},\"caxis\":{\"gridcolor\":\"white\",\"linecolor\":\"white\",\"ticks\":\"\"}},\"coloraxis\":{\"colorbar\":{\"outlinewidth\":0,\"ticks\":\"\"}},\"colorscale\":{\"sequential\":[[0.0,\"#0d0887\"],[0.1111111111111111,\"#46039f\"],[0.2222222222222222,\"#7201a8\"],[0.3333333333333333,\"#9c179e\"],[0.4444444444444444,\"#bd3786\"],[0.5555555555555556,\"#d8576b\"],[0.6666666666666666,\"#ed7953\"],[0.7777777777777778,\"#fb9f3a\"],[0.8888888888888888,\"#fdca26\"],[1.0,\"#f0f921\"]],\"sequentialminus\":[[0.0,\"#0d0887\"],[0.1111111111111111,\"#46039f\"],[0.2222222222222222,\"#7201a8\"],[0.3333333333333333,\"#9c179e\"],[0.4444444444444444,\"#bd3786\"],[0.5555555555555556,\"#d8576b\"],[0.6666666666666666,\"#ed7953\"],[0.7777777777777778,\"#fb9f3a\"],[0.8888888888888888,\"#fdca26\"],[1.0,\"#f0f921\"]],\"diverging\":[[0,\"#8e0152\"],[0.1,\"#c51b7d\"],[0.2,\"#de77ae\"],[0.3,\"#f1b6da\"],[0.4,\"#fde0ef\"],[0.5,\"#f7f7f7\"],[0.6,\"#e6f5d0\"],[0.7,\"#b8e186\"],[0.8,\"#7fbc41\"],[0.9,\"#4d9221\"],[1,\"#276419\"]]},\"xaxis\":{\"gridcolor\":\"white\",\"linecolor\":\"white\",\"ticks\":\"\",\"title\":{\"standoff\":15},\"zerolinecolor\":\"white\",\"automargin\":true,\"zerolinewidth\":2},\"yaxis\":{\"gridcolor\":\"white\",\"linecolor\":\"white\",\"ticks\":\"\",\"title\":{\"standoff\":15},\"zerolinecolor\":\"white\",\"automargin\":true,\"zerolinewidth\":2},\"scene\":{\"xaxis\":{\"backgroundcolor\":\"#E5ECF6\",\"gridcolor\":\"white\",\"linecolor\":\"white\",\"showbackground\":true,\"ticks\":\"\",\"zerolinecolor\":\"white\",\"gridwidth\":2},\"yaxis\":{\"backgroundcolor\":\"#E5ECF6\",\"gridcolor\":\"white\",\"linecolor\":\"white\",\"showbackground\":true,\"ticks\":\"\",\"zerolinecolor\":\"white\",\"gridwidth\":2},\"zaxis\":{\"backgroundcolor\":\"#E5ECF6\",\"gridcolor\":\"white\",\"linecolor\":\"white\",\"showbackground\":true,\"ticks\":\"\",\"zerolinecolor\":\"white\",\"gridwidth\":2}},\"shapedefaults\":{\"line\":{\"color\":\"#2a3f5f\"}},\"annotationdefaults\":{\"arrowcolor\":\"#2a3f5f\",\"arrowhead\":0,\"arrowwidth\":1},\"geo\":{\"bgcolor\":\"white\",\"landcolor\":\"#E5ECF6\",\"subunitcolor\":\"white\",\"showland\":true,\"showlakes\":true,\"lakecolor\":\"white\"},\"title\":{\"x\":0.05},\"mapbox\":{\"style\":\"light\"}}},\"xaxis\":{\"anchor\":\"y\",\"domain\":[0.0,1.0],\"title\":{\"text\":\"avgGCPause\"}},\"yaxis\":{\"anchor\":\"x\",\"domain\":[0.0,1.0],\"title\":{\"text\":\"freedMemoryByGC\"}},\"coloraxis\":{\"colorbar\":{\"title\":{\"text\":\"color\"}},\"colorscale\":[[0.0,\"#0d0887\"],[0.1111111111111111,\"#46039f\"],[0.2222222222222222,\"#7201a8\"],[0.3333333333333333,\"#9c179e\"],[0.4444444444444444,\"#bd3786\"],[0.5555555555555556,\"#d8576b\"],[0.6666666666666666,\"#ed7953\"],[0.7777777777777778,\"#fb9f3a\"],[0.8888888888888888,\"#fdca26\"],[1.0,\"#f0f921\"]]},\"legend\":{\"tracegroupgap\":0},\"margin\":{\"t\":60}},                        {\"responsive\": true}                    ).then(function(){\n",
       "                            \n",
       "var gd = document.getElementById('91cded6a-1f17-488c-8cbc-040ebf81be7e');\n",
       "var x = new MutationObserver(function (mutations, observer) {{\n",
       "        var display = window.getComputedStyle(gd).display;\n",
       "        if (!display || display === 'none') {{\n",
       "            console.log([gd, 'removed!']);\n",
       "            Plotly.purge(gd);\n",
       "            observer.disconnect();\n",
       "        }}\n",
       "}});\n",
       "\n",
       "// Listen for the removal of the full notebook cells\n",
       "var notebookContainer = gd.closest('#notebook-container');\n",
       "if (notebookContainer) {{\n",
       "    x.observe(notebookContainer, {childList: true});\n",
       "}}\n",
       "\n",
       "// Listen for the clearing of the current output cell\n",
       "var outputEl = gd.closest('.output');\n",
       "if (outputEl) {{\n",
       "    x.observe(outputEl, {childList: true});\n",
       "}}\n",
       "\n",
       "                        })                };                });            </script>        </div>"
      ]
     },
     "metadata": {},
     "output_type": "display_data"
    }
   ],
   "source": [
    "fig = px.scatter(\n",
    "        x = new_X[\"avgGCPause\"].values.squeeze(),\n",
    "        y = new_X[\"freedMemoryByGC\"].values.squeeze(),\n",
    "        color = new_X[\"cluster\"].values.squeeze(),\n",
    ").update_layout(\n",
    "    xaxis_title=\"avgGCPause\", yaxis_title=\"freedMemoryByGC\",\n",
    ")\n",
    "\n",
    "fig.show()"
   ]
  },
  {
   "cell_type": "code",
   "execution_count": null,
   "metadata": {},
   "outputs": [],
   "source": [
    "# fig = px.scatter_3d(\n",
    "#     df,\n",
    "#     x = \"ParallelGCThreads\",\n",
    "#     y = \"MaxTenuringThreshold\",\n",
    "#     z = \"fullGCPause\",\n",
    "#     color = \"cluster\",\n",
    "# )\n",
    "\n",
    "# fig.show()"
   ]
  },
  {
   "cell_type": "code",
   "execution_count": 51,
   "metadata": {},
   "outputs": [],
   "source": [
    "# df.to_csv(\"clustered_data.csv\", index=False)"
   ]
  },
  {
   "cell_type": "markdown",
   "metadata": {},
   "source": [
    "### Feature & Permutation Importance"
   ]
  },
  {
   "cell_type": "code",
   "execution_count": 137,
   "metadata": {},
   "outputs": [],
   "source": [
    "new_target = \"cluster\"\n",
    "\n",
    "# X_train, X_test, y_train, y_test = train_test_split(\n",
    "#     new_X.drop(new_target, axis=1), new_X[new_target], test_size=0.2, random_state=42)\n",
    "\n",
    "\n",
    "# Decision trees do not require the data to be normalized.\n",
    "X_train, X_test, y_train, y_test = train_test_split(\n",
    "    df.drop(new_target, axis=1), df[new_target], test_size=0.2, random_state=42)\n",
    "\n",
    "# Or without spliiting:\n",
    "# X_train, y_train = df.drop(new_target, axis=1), df[new_target]"
   ]
  },
  {
   "cell_type": "code",
   "execution_count": 138,
   "metadata": {},
   "outputs": [],
   "source": [
    "from sklearn import tree\n",
    "\n",
    "feature_names = [each[0] for each in X.columns.values.squeeze()]\n",
    "class_names = [str(each) for each in np.unique(y_train)]\n",
    "\n",
    "clf = tree.DecisionTreeClassifier(random_state=42)\n",
    "model = clf.fit(X_train, y_train)\n",
    "# model = clf.fit(new_X.drop(new_target, axis=1), new_X[new_target])\n",
    "# model = clf.fit(df.drop(new_target, axis=1), df[new_target])"
   ]
  },
  {
   "cell_type": "code",
   "execution_count": 139,
   "metadata": {},
   "outputs": [
    {
     "data": {
      "text/plain": [
       "cluster\n",
       "0    143\n",
       "2     82\n",
       "1     63\n",
       "Name: count, dtype: int64"
      ]
     },
     "execution_count": 139,
     "metadata": {},
     "output_type": "execute_result"
    }
   ],
   "source": [
    "y_train.value_counts()"
   ]
  },
  {
   "cell_type": "code",
   "execution_count": 140,
   "metadata": {},
   "outputs": [
    {
     "data": {
      "image/png": "[encoded data removed]",
      "text/plain": [
       "<Figure size 1200x700 with 1 Axes>"
      ]
     },
     "metadata": {},
     "output_type": "display_data"
    }
   ],
   "source": [
    "plt.figure(figsize=(12,7))  # set plot size (denoted in inches)\n",
    "\n",
    "tree.plot_tree(\n",
    "    model,\n",
    "    feature_names=feature_names,\n",
    "    class_names=class_names,\n",
    "    filled=True,\n",
    "    fontsize=12,\n",
    ")\n",
    "\n",
    "plt.show()"
   ]
  },
  {
   "cell_type": "code",
   "execution_count": 141,
   "metadata": {},
   "outputs": [
    {
     "data": {
      "image/png": "[encoded data removed]",
      "text/plain": [
       "<Figure size 800x400 with 1 Axes>"
      ]
     },
     "metadata": {},
     "output_type": "display_data"
    }
   ],
   "source": [
    "# Calculate feature importance\n",
    "feature_importance = model.feature_importances_\n",
    "\n",
    "\n",
    "# Plot feature importance\n",
    "plt.figure(figsize=(8, 4))\n",
    "plt.barh(\n",
    "    np.array(feature_names)[np.nonzero(feature_importance)], \n",
    "    feature_importance[np.nonzero(feature_importance)]\n",
    ")\n",
    "plt.xlabel('Feature Importance')\n",
    "plt.ylabel('Features')\n",
    "plt.title('Feature Importance')\n",
    "plt.show()"
   ]
  },
  {
   "cell_type": "markdown",
   "metadata": {},
   "source": [
    "### Permutation Importance"
   ]
  },
  {
   "cell_type": "code",
   "execution_count": 142,
   "metadata": {},
   "outputs": [
    {
     "data": {
      "image/png": "[encoded data removed]",
      "text/plain": [
       "<Figure size 800x400 with 1 Axes>"
      ]
     },
     "metadata": {},
     "output_type": "display_data"
    }
   ],
   "source": [
    "# Calculate permutation importance\n",
    "perm_importance = permutation_importance(model, X_test, y_test, n_repeats=30, random_state=42)\n",
    "\n",
    "# Plot permutation importance\n",
    "plt.figure(figsize=(8, 4))\n",
    "\n",
    "# sorted_idx = perm_importance.importances_mean.argsort()\n",
    "sorted_idx = np.nonzero(perm_importance[\"importances_mean\"])\n",
    "\n",
    "plt.barh(\n",
    "    np.array(feature_names)[sorted_idx],\n",
    "    perm_importance.importances_mean[sorted_idx])\n",
    "plt.xlabel('Permutation Importance')\n",
    "plt.ylabel('Features')\n",
    "plt.title('Permutation Importance')\n",
    "\n",
    "plt.show()\n"
   ]
  }
 ],
 "metadata": {
  "kernelspec": {
   "display_name": "gc-ml-env",
   "language": "python",
   "name": "python3"
  },
  "language_info": {
   "codemirror_mode": {
    "name": "ipython",
    "version": 3
   },
   "file_extension": ".py",
   "mimetype": "text/x-python",
   "name": "python",
   "nbconvert_exporter": "python",
   "pygments_lexer": "ipython3",
   "version": "3.8.18"
  }
 },
 "nbformat": 4,
 "nbformat_minor": 2
}
