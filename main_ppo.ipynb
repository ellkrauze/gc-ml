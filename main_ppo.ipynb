{
 "cells": [
  {
   "cell_type": "markdown",
   "metadata": {},
   "source": [
    "avrora, fop, jython, luindex,\n",
    "lusearch, lusearch-fix, pmd and xalan\n",
    "\n",
    "https://bergel.eu/MyPapers/Cana21a-JVMGlagsAndGA.pdf"
   ]
  },
  {
   "cell_type": "code",
   "execution_count": 16,
   "metadata": {},
   "outputs": [],
   "source": [
    "! export WANDB_NOTEBOOK_NAME=\"main.ipynb\"\n",
    "import wandb\n",
    "\n",
    "PROJECT_NAME = \"Reinforcement Learning (DQN) - JVM-GC\"\n",
    "WANDB_KEY = \"4b077df3688052b0f43705d6b4d712c05fb979b7\"\n",
    "config = dict(\n",
    "    competition = PROJECT_NAME,\n",
    "    _wandb_kernel = 'lemon',\n",
    "    seed = 42,\n",
    ")"
   ]
  },
  {
   "cell_type": "code",
   "execution_count": 17,
   "metadata": {},
   "outputs": [],
   "source": [
    "import logging\n",
    "for handler in logging.root.handlers[:]:\n",
    "    logging.root.removeHandler(handler)\n",
    "\n",
    "logging.basicConfig(filename=\"gc-ml-ppo.log\",\n",
    "                    filemode='a',\n",
    "                    format='%(asctime)s,%(msecs)d %(name)s %(levelname)s %(message)s')\n",
    "\n",
    "\n",
    "logger = logging.getLogger()\n",
    "# logger.setLevel(logging.DEBUG)\n",
    "# logger.setLevel(logging.INFO)\n",
    "# logger.error(\"test\")"
   ]
  },
  {
   "cell_type": "code",
   "execution_count": 18,
   "metadata": {},
   "outputs": [],
   "source": [
    "import os\n",
    "import numpy as np\n",
    "import tensorflow as tf\n",
    "import matplotlib.pyplot as plt\n",
    "import pandas as pd\n",
    "from tqdm import tqdm\n",
    "\n",
    "from tf_agents.agents import PPOAgent\n",
    "from tf_agents.environments import tf_py_environment\n",
    "from tf_agents.networks import sequential\n",
    "from tf_agents.policies import random_tf_policy, policy_saver\n",
    "from tf_agents.replay_buffers import tf_uniform_replay_buffer\n",
    "from tf_agents.trajectories import trajectory\n",
    "from tf_agents.utils import common\n",
    "from tf_agents.specs import tensor_spec, from_spec\n",
    "from tf_agents import trajectories\n",
    "from tf_agents.networks.actor_distribution_network import ActorDistributionNetwork\n",
    "from tf_agents.networks.value_network import ValueNetwork\n",
    "from tf_agents.drivers.dynamic_episode_driver import DynamicEpisodeDriver\n",
    "\n",
    "# from env.PyEnvironments import CurveEnv, CurveMultipleEnv, JVMEnv\n",
    "# from env.PyEnvironments import JVMEnv\n",
    "from env.PyEnvironmentsTest import JVMEnv # !!!\n",
    "from util.plots_util import plot_dataset, plot_goal_heatmap\n"
   ]
  },
  {
   "cell_type": "code",
   "execution_count": 19,
   "metadata": {},
   "outputs": [
    {
     "name": "stdout",
     "output_type": "stream",
     "text": [
      "Successfully initialized a JVM Environment!\n",
      " JDK: jdk-11.0.20.1.jdk/bin,\n",
      " Benchmark: avrora (dacapo-bench.jar),\n",
      " Number of iterations: 5,\n",
      " Goal: avgGCPause,\n",
      " Number of JVM options: 2,\n",
      " JVM options: {'MaxTenuringThreshold': {'min': 1, 'max': 16}, 'ParallelGCThreads': {'min': 4, 'max': 24}},\n",
      " Env. default state: [list([7, 12]) 0.47],\n",
      " Env. default goal value: 0.47,\n",
      "\n"
     ]
    }
   ],
   "source": [
    "# TEST_JDK_PATH = \"/Users/ellkrauze/projects/gc-ml/jdk-11.0.20.1.jdk\"\n",
    "# BM = \"avrora\"\n",
    "# BM_TEST = \"kafka\"\n",
    "# BM_PATH = \"/Users/ellkrauze/projects/gc-ml/dacapo-bench.jar\"\n",
    "# CALLBACK_PATH = \"/home/vsakovskaya/gc-ml/dacapo/DacapoCallback/DacapoChopin/VMStatCallback.java\"\n",
    "dataset_path = \"dataset/data\"\n",
    "tempdir = \"tmp\"\n",
    "checkpoint_dir = os.path.join(tempdir, 'checkpoint')\n",
    "policy_dir = os.path.join(tempdir, 'policy')\n",
    "\n",
    "env_args = {\n",
    "    \"jdk_path\": \"jdk-11.0.20.1.jdk\",\n",
    "    \"bm_path\": \"dacapo-bench.jar\",\n",
    "    \"gc_viewer_jar\": \"gcviewer-1.36.jar\",\n",
    "    \"callback_path\": \"callback/VMStatCallback.java\",\n",
    "    \"n\": 5,\n",
    "    \"goal\": \"avgGCPause\",\n",
    "    \"verbose\": False,\n",
    "}\n",
    "\n",
    "def get_tf_env(name, args):\n",
    "    env = JVMEnv(bm_name=name, **args)\n",
    "    tf_env = tf_py_environment.TFPyEnvironment(env, isolation=True) \n",
    "    return tf_env\n",
    "\n",
    "# env_train_1 = JVMEnv(bm_name=\"avrora\", **env_args)\n",
    "# env_train_2 = JVMEnv(bm_name=\"kafka\", **env_args)\n",
    "\n",
    "train_env = get_tf_env(name=\"avrora\", args=env_args)\n",
    "\n",
    "action_spec = from_spec(train_env.action_spec())\n",
    "observation_spec = from_spec(train_env.observation_spec())\n",
    "reward_spec = from_spec(train_env.reward_spec())\n",
    "time_step_spec = trajectories.time_step_spec(observation_spec, reward_spec)"
   ]
  },
  {
   "cell_type": "code",
   "execution_count": 20,
   "metadata": {},
   "outputs": [],
   "source": [
    "def get_q_net(action_spec, fc_layer_params = (100, 75, 50)):\n",
    "    action_tensor_spec = tensor_spec.from_spec(action_spec)\n",
    "    num_actions = action_tensor_spec.maximum - action_tensor_spec.minimum + 1\n",
    "\n",
    "    def dense_layer(num_units):\n",
    "        \"\"\"\n",
    "        Define a helper function to create Dense layers configured \n",
    "        with the right activation and kernel initializer.\n",
    "        \"\"\"\n",
    "        return tf.keras.layers.Dense(\n",
    "            num_units,\n",
    "            activation=tf.keras.activations.relu,\n",
    "            kernel_initializer=tf.keras.initializers.VarianceScaling(\n",
    "                scale=2.0, mode='fan_in', distribution='truncated_normal'))\n",
    "\n",
    "    # QNetwork consists of a sequence of Dense layers followed by a dense layer\n",
    "    # with `num_actions` units to generate one q_value per available action as\n",
    "    # its output.\n",
    "    dense_layers = [dense_layer(num_units) for num_units in fc_layer_params]\n",
    "    q_values_layer = tf.keras.layers.Dense(\n",
    "        num_actions,\n",
    "        activation=None,\n",
    "        kernel_initializer=tf.keras.initializers.RandomUniform(\n",
    "            minval=-0.03, maxval=0.03),\n",
    "        bias_initializer=tf.keras.initializers.Constant(-0.2))\n",
    "    q_net = sequential.Sequential(dense_layers + [q_values_layer])\n",
    "    return q_net\n",
    "\n",
    "def collect_step(environment, policy, replay_buffer):\n",
    "    time_step = environment.current_time_step()\n",
    "    action_step = policy.action(time_step)\n",
    "\n",
    "    next_time_step = environment.step(action_step.action)\n",
    "    # reward = next_time_step.reward\n",
    "    traj = trajectory.from_transition(time_step, action_step, next_time_step)\n",
    "    return traj\n",
    "\n",
    "def save_dataset(data, path):\n",
    "    step_counter = tf.Variable(0, trainable=False)\n",
    "    checkpoint_prefix = \"checkpoint\"\n",
    "    checkpoint_args = {\n",
    "        \"checkpoint_interval\": 50,\n",
    "        \"step_counter\": step_counter,\n",
    "        \"directory\": checkpoint_prefix,\n",
    "        \"max_to_keep\": 3,\n",
    "    }\n",
    "    try:\n",
    "        data.save(path, checkpoint_args=checkpoint_args)\n",
    "    except:\n",
    "        pass\n",
    "\n",
    "def save_rb(replay_buffer, path):\n",
    "    tf.train.Checkpoint(rb = replay_buffer).save(path)\n",
    "\n",
    "def restore_rb(replay_buffer, path):\n",
    "    tf.train.Checkpoint(rb = replay_buffer).restore(path)\n",
    "\n",
    "def get_dataset(replay_buffer, size, batch_size, collect_data_spec, n_step_update, create: bool = True, save: bool = False):\n",
    "    \n",
    "    replay_buffer = tf_uniform_replay_buffer.TFUniformReplayBuffer(\n",
    "        data_spec=collect_data_spec, # agent.collect_data_spec\n",
    "        batch_size=1, # train_env.batch_size\n",
    "        max_length=size) # capacity\n",
    "\n",
    "    if create:\n",
    "        for _ in tqdm(range(size)):\n",
    "            traj = collect_step(train_env, random_policy, replay_buffer)\n",
    "            replay_buffer.add_batch(traj)\n",
    "\n",
    "        if save: save_rb(replay_buffer, dataset_path)\n",
    "    else: \n",
    "        restore_rb(replay_buffer, dataset_path+'-1')\n",
    "\n",
    "    dataset = replay_buffer.as_dataset(\n",
    "        num_parallel_calls=3, \n",
    "        sample_batch_size=batch_size,\n",
    "        num_steps=n_step_update + 1, \n",
    "        single_deterministic_pass=False).prefetch(3)\n",
    "    # iterator = iter(dataset)\n",
    "    return dataset\n",
    "    \n",
    "def compute_avg_return(environment, policy, num_episodes=50):\n",
    "    \"\"\"\n",
    "    Computes the average return of a policy, \n",
    "    given the policy, environment, and a number of episodes.\n",
    "\n",
    "    Note: for non-episodic tasks.\n",
    "    \"\"\"\n",
    "    total_return = 0.0\n",
    "    time_step = environment.reset()\n",
    "    for _ in tqdm(range(num_episodes)):\n",
    "        action_step = policy.action(time_step, seed=42)\n",
    "        time_step = environment.step(action_step.action)\n",
    "        total_return += time_step.reward\n",
    "\n",
    "    avg_return = total_return / num_episodes\n",
    "    return avg_return.numpy()[0]\n",
    "\n",
    "def compute_avg_return_episodic(environment, policy, num_episodes=10, patience=100):\n",
    "    \"\"\"\n",
    "    Computes the average return of a policy, \n",
    "    given the policy, environment, and a number of episodes.\n",
    "\n",
    "    Note: for episodic tasks.\n",
    "    \"\"\"\n",
    "    total_return = 0.0\n",
    "    for _ in tqdm(range(num_episodes)):\n",
    "\n",
    "        time_step = environment.reset()\n",
    "        episode_return = 0.0\n",
    "        i = 0\n",
    "\n",
    "        while not time_step.is_last():\n",
    "            if i >= patience:\n",
    "                break\n",
    "            action_step = policy.action(time_step)\n",
    "            time_step = environment.step(action_step.action)\n",
    "            # print(\"time step:\", action_step)\n",
    "            # print(\"action:\", action_step.action)\n",
    "            obs = time_step.observation.numpy()[0]\n",
    "            rwd = time_step.reward.numpy()[0]\n",
    "            # logger.debug(f\"[COMPUTE AVERAGE RETURN EPISODIC] action: {action_step.action}, obs: {obs}, reward: {rwd}\")\n",
    "            episode_return += time_step.reward\n",
    "            i += 1\n",
    "        total_return += episode_return / i\n",
    "\n",
    "    avg_return = total_return / num_episodes\n",
    "    return avg_return.numpy()[0]\n",
    "\n",
    "def create_networks(observation_spec, action_spec, fc_layer_params):\n",
    "    actor_net = ActorDistributionNetwork(\n",
    "            observation_spec, # input\n",
    "            action_spec, # output\n",
    "            fc_layer_params=fc_layer_params,\n",
    "            activation_fn=tf.keras.activations.tanh)\n",
    "    \n",
    "    value_net = ValueNetwork(\n",
    "            observation_spec, # input\n",
    "            fc_layer_params=fc_layer_params,\n",
    "            activation_fn=tf.keras.activations.tanh)\n",
    "\n",
    "    return actor_net, value_net\n",
    "\n",
    "def plot_training(loss, rewards, num_steps, eval_interval):\n",
    "    fig, ax1 = plt.subplots()\n",
    "\n",
    "    steps = [step for step in range(0, num_steps, eval_interval)]\n",
    "    color = 'tab:red'\n",
    "    ax1.set_xlabel('steps')\n",
    "    ax1.set_ylabel('loss', color=color)\n",
    "    ax1.plot(steps, loss, color=color)\n",
    "    ax1.tick_params(axis='y', labelcolor=color)\n",
    "\n",
    "    ax2 = ax1.twinx()  # instantiate a second axes that shares the same x-axis\n",
    "\n",
    "    color = 'tab:blue'\n",
    "    ax2.set_ylabel('rewards', color=color)  # we already handled the x-label with ax1\n",
    "    ax2.plot(steps, rewards[:200], color=color)\n",
    "    ax2.tick_params(axis='y', labelcolor=color)\n",
    "\n",
    "    fig.tight_layout()  # otherwise the right y-label is slightly clipped\n",
    "    plt.show()"
   ]
  },
  {
   "cell_type": "code",
   "execution_count": 21,
   "metadata": {},
   "outputs": [],
   "source": [
    "def get_dataset_iter(envs, size, _agent):\n",
    "    from random import randrange\n",
    "    assert len(envs) >= 1, \"Environment list is empty!\"\n",
    "    \n",
    "    replay_buffer = tf_uniform_replay_buffer.TFUniformReplayBuffer(\n",
    "        data_spec=_agent.collect_data_spec, # agent.collect_data_spec\n",
    "        batch_size=envs[0].batch_size, # train_env.batch_size\n",
    "        max_length=size) # capacity\n",
    "\n",
    "    for _ in tqdm(range(size)):\n",
    "        indx = randrange(len(envs))\n",
    "        traj = collect_step(envs[indx], _agent.collect_policy, replay_buffer)\n",
    "        replay_buffer.add_batch(traj)\n",
    "            \n",
    "    dataset = replay_buffer.as_dataset(\n",
    "        sample_batch_size=batch_size,\n",
    "        num_steps=train_episodes_per_iteration+1,\n",
    "        num_parallel_calls=train_episodes_per_iteration).prefetch(train_episodes_per_iteration)\n",
    "    dataset_iter = iter(dataset)\n",
    "    return dataset_iter"
   ]
  },
  {
   "cell_type": "code",
   "execution_count": 22,
   "metadata": {},
   "outputs": [],
   "source": [
    "collect_steps_per_iteration = 1\n",
    "dataset_size = 10000\n",
    "# fc_layer_params = (100, 75, 50)\n",
    "# fc_layer_params = (200, 100)\n",
    "# fc_layer_params = (128, 128, 128)\n",
    "fc_layer_params = (200, 150, 100, 75, 50)\n",
    "\n",
    "batch_size = 24\n",
    "learning_rate = 1e-3\n",
    "# learning_rate = 0.0005\n",
    "\n",
    "num_eval_episodes = 10  # @param {type:\"integer\"}\n",
    "eval_interval = 100  # @param {type:\"integer\"}\n",
    "\n",
    "# train_episodes_per_iteration = 10\n",
    "train_episodes_per_iteration = 5\n",
    "n_step_update = 4\n",
    "actor_net, value_net = create_networks(observation_spec, action_spec, fc_layer_params)\n",
    "global_step = tf.compat.v1.train.get_or_create_global_step()\n",
    "\n",
    "agent_args = {\n",
    "    \"optimizer\": tf.compat.v1.train.AdamOptimizer(learning_rate=learning_rate),\n",
    "    \"actor_net\": actor_net,\n",
    "    \"value_net\": value_net,\n",
    "    \"train_step_counter\": global_step,\n",
    "    # \"train_step_counter\": global_step,\n",
    "    # \"importance_ratio_clipping\": 0.1,\n",
    "    # \"num_epochs\": 20,\n",
    "}"
   ]
  },
  {
   "cell_type": "code",
   "execution_count": 23,
   "metadata": {},
   "outputs": [],
   "source": [
    "agent = PPOAgent(\n",
    "  time_step_spec,\n",
    "  action_spec,\n",
    "  **agent_args\n",
    ")\n",
    "\n",
    "agent.initialize()\n",
    "agent.train = common.function(agent.train, autograph=False)\n",
    "\n",
    "random_policy = random_tf_policy.RandomTFPolicy(\n",
    "  time_step_spec = time_step_spec,\n",
    "  action_spec = action_spec,\n",
    "  automatic_state_reset=True,\n",
    "  clip=False,\n",
    "  emit_log_probability=True\n",
    ")\n",
    "\n",
    "def get_rb_and_cd(_env, _agent):\n",
    "  replay_buffer = tf_uniform_replay_buffer.TFUniformReplayBuffer(\n",
    "      data_spec=_agent.collect_data_spec, # agent.collect_data_spec\n",
    "      batch_size=_env.batch_size, # train_env.batch_size\n",
    "      max_length=dataset_size) # capacity\n",
    "\n",
    "  replay_buffer_observer = replay_buffer.add_batch\n",
    "\n",
    "  collect_driver = DynamicEpisodeDriver(\n",
    "      _env,\n",
    "      _agent.collect_policy,\n",
    "      observers=[replay_buffer_observer], # + train_metrics,\n",
    "      num_episodes=train_episodes_per_iteration)\n",
    "  \n",
    "  return replay_buffer, collect_driver\n"
   ]
  },
  {
   "cell_type": "code",
   "execution_count": 24,
   "metadata": {},
   "outputs": [],
   "source": [
    "policy_dir = os.path.join(tempdir, '0_policy')\n",
    "tf_policy_saver = policy_saver.PolicySaver(agent.policy)"
   ]
  },
  {
   "cell_type": "markdown",
   "metadata": {},
   "source": [
    "## Agent Training"
   ]
  },
  {
   "cell_type": "code",
   "execution_count": 26,
   "metadata": {},
   "outputs": [],
   "source": [
    "def train(_agent, _env_train, _env_val, replay_buffer, collect_driver,\n",
    "          steps: int = 5000, \n",
    "          use_wandb: bool = False,\n",
    "          eval_interval: int=100):\n",
    "    \"\"\"\n",
    "    Train reinforcement learning agent and evaluate\n",
    "    performance on a separate environment.\n",
    "    \"\"\"\n",
    "    \n",
    "    _env_train.reset()\n",
    "    _env_val.reset()\n",
    "    _agent.train_step_counter.assign(0)\n",
    "\n",
    "    time_step = None\n",
    "    policy_state = _agent.collect_policy.get_initial_state(_env_train.batch_size)\n",
    "\n",
    "    loss = []\n",
    "    observations = []\n",
    "    rewards = []\n",
    "    for step in tqdm(range(steps)):\n",
    "        \n",
    "        time_step, policy_state = collect_driver.run(\n",
    "            time_step=time_step,\n",
    "            policy_state=policy_state,\n",
    "            maximum_iterations=200,\n",
    "        )\n",
    "\n",
    "        experience = replay_buffer.gather_all()\n",
    "        train_loss = _agent.train(experience)\n",
    "        replay_buffer.clear()\n",
    "        \n",
    "        if step % eval_interval == 0:\n",
    "            avg_reward = compute_avg_return_episodic(_env_val, _agent.policy, num_episodes=20)\n",
    "\n",
    "            loss.append(train_loss.loss.numpy())\n",
    "            # observations.append(obs)\n",
    "            rewards.append(avg_reward)\n",
    "\n",
    "            # wandb logger for tuning hyperparameters\n",
    "            if use_wandb:\n",
    "                wandb.log({'loss': train_loss.loss, 'reward': avg_reward})\n",
    "\n",
    "            print(f\"step = {step}: loss = {train_loss.loss}, reward = {avg_reward}\")\n",
    "    return loss, observations, rewards\n",
    "\n",
    "def _train(_agent, _env_train, _env_val, data_iterator,\n",
    "          steps: int = 5000, \n",
    "          use_wandb: bool = False,\n",
    "          eval_interval: int=100):\n",
    "    \"\"\"\n",
    "    Train reinforcement learning agent and evaluate\n",
    "    performance on a separate environment.\n",
    "    \"\"\"\n",
    "    \n",
    "    _env_train.reset()\n",
    "    _env_val.reset()\n",
    "    _agent.train_step_counter.assign(0)\n",
    "\n",
    "    time_step = None\n",
    "    policy_state = _agent.collect_policy.get_initial_state(_env_train.batch_size)\n",
    "\n",
    "    loss = []\n",
    "    observations = []\n",
    "    rewards = []\n",
    "    for step in tqdm(range(steps)):\n",
    "        \n",
    "        experience, _ = next(data_iterator)\n",
    "        train_loss = _agent.train(experience)\n",
    "        \n",
    "        if step % eval_interval == 0:\n",
    "            avg_reward = compute_avg_return_episodic(_env_val, _agent.policy, num_episodes=20)\n",
    "\n",
    "            loss.append(train_loss.loss.numpy())\n",
    "            # observations.append(obs)\n",
    "            rewards.append(avg_reward)\n",
    "\n",
    "            # wandb logger for tuning hyperparameters\n",
    "            if use_wandb:\n",
    "                wandb.log({'loss': train_loss.loss, 'reward': avg_reward})\n",
    "\n",
    "            print(f\"step = {step}: loss = {train_loss.loss}, reward = {avg_reward}\")\n",
    "    \n",
    "    return loss, observations, rewards"
   ]
  },
  {
   "cell_type": "markdown",
   "metadata": {},
   "source": [
    "### Train Sequentially"
   ]
  },
  {
   "cell_type": "code",
   "execution_count": 27,
   "metadata": {},
   "outputs": [
    {
     "name": "stdout",
     "output_type": "stream",
     "text": [
      "Successfully initialized a JVM Environment!\n",
      " JDK: jdk-11.0.20.1.jdk/bin,\n",
      " Benchmark: avrora (dacapo-bench.jar),\n",
      " Number of iterations: 5,\n",
      " Goal: avgGCPause,\n",
      " Number of JVM options: 2,\n",
      " JVM options: {'MaxTenuringThreshold': {'min': 1, 'max': 16}, 'ParallelGCThreads': {'min': 4, 'max': 24}},\n",
      " Env. default state: [list([7, 12]) 0.47],\n",
      " Env. default goal value: 0.47,\n",
      "\n",
      "Successfully initialized a JVM Environment!\n",
      " JDK: jdk-11.0.20.1.jdk/bin,\n",
      " Benchmark: kafka (dacapo-bench.jar),\n",
      " Number of iterations: 5,\n",
      " Goal: avgGCPause,\n",
      " Number of JVM options: 2,\n",
      " JVM options: {'MaxTenuringThreshold': {'min': 1, 'max': 16}, 'ParallelGCThreads': {'min': 4, 'max': 24}},\n",
      " Env. default state: [list([7, 12]) 0.34],\n",
      " Env. default goal value: 0.34,\n",
      "\n",
      "Successfully initialized a JVM Environment!\n",
      " JDK: jdk-11.0.20.1.jdk/bin,\n",
      " Benchmark: kafka (dacapo-bench.jar),\n",
      " Number of iterations: 5,\n",
      " Goal: avgGCPause,\n",
      " Number of JVM options: 2,\n",
      " JVM options: {'MaxTenuringThreshold': {'min': 1, 'max': 16}, 'ParallelGCThreads': {'min': 4, 'max': 24}},\n",
      " Env. default state: [list([7, 12]) 0.34],\n",
      " Env. default goal value: 0.34,\n",
      "\n",
      "Successfully initialized a JVM Environment!\n",
      " JDK: jdk-11.0.20.1.jdk/bin,\n",
      " Benchmark: test (dacapo-bench.jar),\n",
      " Number of iterations: 5,\n",
      " Goal: avgGCPause,\n",
      " Number of JVM options: 2,\n",
      " JVM options: {'MaxTenuringThreshold': {'min': 1, 'max': 16}, 'ParallelGCThreads': {'min': 4, 'max': 24}},\n",
      " Env. default state: [list([7, 12]) 0.57],\n",
      " Env. default goal value: 0.57,\n",
      "\n",
      "Successfully initialized a JVM Environment!\n",
      " JDK: jdk-11.0.20.1.jdk/bin,\n",
      " Benchmark: test (dacapo-bench.jar),\n",
      " Number of iterations: 5,\n",
      " Goal: avgGCPause,\n",
      " Number of JVM options: 2,\n",
      " JVM options: {'MaxTenuringThreshold': {'min': 1, 'max': 16}, 'ParallelGCThreads': {'min': 4, 'max': 24}},\n",
      " Env. default state: [list([7, 12]) 0.57],\n",
      " Env. default goal value: 0.57,\n",
      "\n"
     ]
    }
   ],
   "source": [
    "num_steps = 3000\n",
    "\n",
    "train_env_copy = get_tf_env(\"avrora\", env_args)\n",
    "\n",
    "train_env_2 = get_tf_env(\"kafka\", env_args)\n",
    "train_env_2_copy = get_tf_env(\"kafka\", env_args)\n",
    "\n",
    "test_env = get_tf_env(\"test\", env_args)\n",
    "test_env_copy = get_tf_env(\"test\", env_args)"
   ]
  },
  {
   "cell_type": "code",
   "execution_count": 28,
   "metadata": {},
   "outputs": [
    {
     "name": "stderr",
     "output_type": "stream",
     "text": [
      "100%|██████████| 20/20 [00:11<00:00,  1.76it/s]\n",
      "  0%|          | 1/3000 [00:27<22:33:51, 27.09s/it]"
     ]
    },
    {
     "name": "stdout",
     "output_type": "stream",
     "text": [
      "step = 0: loss = 102.6141586303711, reward = 0.28046756982803345\n"
     ]
    },
    {
     "name": "stderr",
     "output_type": "stream",
     "text": [
      "100%|██████████| 20/20 [00:00<00:00, 76.34it/s]/s] \n",
      "  3%|▎         | 102/3000 [01:00<09:26,  5.11it/s]"
     ]
    },
    {
     "name": "stdout",
     "output_type": "stream",
     "text": [
      "step = 100: loss = -0.40335899591445923, reward = 1.280665636062622\n"
     ]
    },
    {
     "name": "stderr",
     "output_type": "stream",
     "text": [
      "100%|██████████| 20/20 [00:00<00:00, 79.96it/s]/s]\n",
      "  7%|▋         | 202/3000 [01:14<09:02,  5.16it/s]"
     ]
    },
    {
     "name": "stdout",
     "output_type": "stream",
     "text": [
      "step = 200: loss = -0.40187013149261475, reward = 1.2897497415542603\n"
     ]
    },
    {
     "name": "stderr",
     "output_type": "stream",
     "text": [
      "100%|██████████| 20/20 [00:00<00:00, 73.44it/s]/s]\n",
      " 10%|█         | 302/3000 [01:29<09:07,  4.93it/s]"
     ]
    },
    {
     "name": "stdout",
     "output_type": "stream",
     "text": [
      "step = 300: loss = 0.4024907648563385, reward = 1.2897497415542603\n"
     ]
    },
    {
     "name": "stderr",
     "output_type": "stream",
     "text": [
      "100%|██████████| 20/20 [00:00<00:00, 47.64it/s]/s]\n",
      " 13%|█▎        | 402/3000 [01:44<12:36,  3.44it/s]"
     ]
    },
    {
     "name": "stdout",
     "output_type": "stream",
     "text": [
      "step = 400: loss = -0.4009440243244171, reward = 1.2897497415542603\n"
     ]
    },
    {
     "name": "stderr",
     "output_type": "stream",
     "text": [
      "100%|██████████| 20/20 [00:00<00:00, 79.75it/s]/s]\n",
      " 17%|█▋        | 502/3000 [02:00<08:04,  5.15it/s]"
     ]
    },
    {
     "name": "stdout",
     "output_type": "stream",
     "text": [
      "step = 500: loss = -0.40200239419937134, reward = 1.2897497415542603\n"
     ]
    },
    {
     "name": "stderr",
     "output_type": "stream",
     "text": [
      "100%|██████████| 20/20 [00:00<00:00, 77.16it/s]/s]\n",
      " 20%|██        | 602/3000 [02:15<08:30,  4.70it/s]"
     ]
    },
    {
     "name": "stdout",
     "output_type": "stream",
     "text": [
      "step = 600: loss = -0.4066748321056366, reward = 1.2897497415542603\n"
     ]
    },
    {
     "name": "stderr",
     "output_type": "stream",
     "text": [
      "100%|██████████| 20/20 [00:00<00:00, 80.21it/s]/s]\n",
      " 23%|██▎       | 702/3000 [02:29<07:22,  5.20it/s]"
     ]
    },
    {
     "name": "stdout",
     "output_type": "stream",
     "text": [
      "step = 700: loss = -0.40431803464889526, reward = 1.2897497415542603\n"
     ]
    },
    {
     "name": "stderr",
     "output_type": "stream",
     "text": [
      "100%|██████████| 20/20 [00:00<00:00, 21.73it/s]/s]\n",
      " 27%|██▋       | 802/3000 [02:45<13:03,  2.80it/s]"
     ]
    },
    {
     "name": "stdout",
     "output_type": "stream",
     "text": [
      "step = 800: loss = -0.40389442443847656, reward = 1.2480151653289795\n"
     ]
    },
    {
     "name": "stderr",
     "output_type": "stream",
     "text": [
      "100%|██████████| 20/20 [00:00<00:00, 79.72it/s]/s]\n",
      " 30%|███       | 902/3000 [03:00<06:44,  5.18it/s]"
     ]
    },
    {
     "name": "stdout",
     "output_type": "stream",
     "text": [
      "step = 900: loss = -0.5171404480934143, reward = 1.2897497415542603\n"
     ]
    },
    {
     "name": "stderr",
     "output_type": "stream",
     "text": [
      "100%|██████████| 20/20 [00:00<00:00, 79.99it/s]t/s]\n",
      " 33%|███▎      | 1002/3000 [03:14<06:29,  5.13it/s]"
     ]
    },
    {
     "name": "stdout",
     "output_type": "stream",
     "text": [
      "step = 1000: loss = -0.40201324224472046, reward = 1.2897497415542603\n"
     ]
    },
    {
     "name": "stderr",
     "output_type": "stream",
     "text": [
      "100%|██████████| 20/20 [00:00<00:00, 77.99it/s]t/s]\n",
      " 37%|███▋      | 1102/3000 [03:29<06:10,  5.13it/s]"
     ]
    },
    {
     "name": "stdout",
     "output_type": "stream",
     "text": [
      "step = 1100: loss = -0.4019290506839752, reward = 1.2897497415542603\n"
     ]
    },
    {
     "name": "stderr",
     "output_type": "stream",
     "text": [
      "100%|██████████| 20/20 [00:00<00:00, 79.55it/s]t/s]\n",
      " 40%|████      | 1202/3000 [03:44<05:48,  5.16it/s]"
     ]
    },
    {
     "name": "stdout",
     "output_type": "stream",
     "text": [
      "step = 1200: loss = -0.40204358100891113, reward = 1.2897497415542603\n"
     ]
    },
    {
     "name": "stderr",
     "output_type": "stream",
     "text": [
      "100%|██████████| 20/20 [00:00<00:00, 77.14it/s]t/s]\n",
      " 43%|████▎     | 1302/3000 [03:59<05:38,  5.02it/s]"
     ]
    },
    {
     "name": "stdout",
     "output_type": "stream",
     "text": [
      "step = 1300: loss = -0.4021153450012207, reward = 1.2897497415542603\n"
     ]
    },
    {
     "name": "stderr",
     "output_type": "stream",
     "text": [
      "100%|██████████| 20/20 [00:00<00:00, 77.81it/s]t/s]\n",
      " 47%|████▋     | 1401/3000 [04:14<05:51,  4.55it/s]"
     ]
    },
    {
     "name": "stdout",
     "output_type": "stream",
     "text": [
      "step = 1400: loss = -0.40204861760139465, reward = 1.2897497415542603\n"
     ]
    },
    {
     "name": "stderr",
     "output_type": "stream",
     "text": [
      "100%|██████████| 20/20 [00:00<00:00, 79.28it/s]t/s]\n",
      " 50%|█████     | 1502/3000 [04:29<04:56,  5.05it/s]"
     ]
    },
    {
     "name": "stdout",
     "output_type": "stream",
     "text": [
      "step = 1500: loss = -0.40198034048080444, reward = 1.2897497415542603\n"
     ]
    },
    {
     "name": "stderr",
     "output_type": "stream",
     "text": [
      "100%|██████████| 20/20 [00:00<00:00, 79.72it/s]t/s]\n",
      " 53%|█████▎    | 1602/3000 [04:44<04:30,  5.17it/s]"
     ]
    },
    {
     "name": "stdout",
     "output_type": "stream",
     "text": [
      "step = 1600: loss = -0.40258926153182983, reward = 1.2897497415542603\n"
     ]
    },
    {
     "name": "stderr",
     "output_type": "stream",
     "text": [
      "100%|██████████| 20/20 [00:00<00:00, 79.95it/s]t/s]\n",
      " 57%|█████▋    | 1702/3000 [04:59<04:11,  5.16it/s]"
     ]
    },
    {
     "name": "stdout",
     "output_type": "stream",
     "text": [
      "step = 1700: loss = -0.402495801448822, reward = 1.2897497415542603\n"
     ]
    },
    {
     "name": "stderr",
     "output_type": "stream",
     "text": [
      "100%|██████████| 20/20 [00:00<00:00, 78.22it/s]t/s]\n",
      " 60%|██████    | 1802/3000 [05:14<03:51,  5.18it/s]"
     ]
    },
    {
     "name": "stdout",
     "output_type": "stream",
     "text": [
      "step = 1800: loss = -0.4020422101020813, reward = 1.2897497415542603\n"
     ]
    },
    {
     "name": "stderr",
     "output_type": "stream",
     "text": [
      "100%|██████████| 20/20 [00:00<00:00, 79.47it/s]t/s]\n",
      " 63%|██████▎   | 1902/3000 [05:29<04:13,  4.34it/s]"
     ]
    },
    {
     "name": "stdout",
     "output_type": "stream",
     "text": [
      "step = 1900: loss = -0.4019875228404999, reward = 1.2897497415542603\n"
     ]
    },
    {
     "name": "stderr",
     "output_type": "stream",
     "text": [
      "100%|██████████| 20/20 [00:00<00:00, 77.96it/s]t/s]\n",
      " 67%|██████▋   | 2002/3000 [05:44<03:15,  5.11it/s]"
     ]
    },
    {
     "name": "stdout",
     "output_type": "stream",
     "text": [
      "step = 2000: loss = -0.4020099639892578, reward = 1.2897497415542603\n"
     ]
    },
    {
     "name": "stderr",
     "output_type": "stream",
     "text": [
      "100%|██████████| 20/20 [00:00<00:00, 79.34it/s]t/s]\n",
      " 70%|███████   | 2102/3000 [06:00<02:53,  5.16it/s]"
     ]
    },
    {
     "name": "stdout",
     "output_type": "stream",
     "text": [
      "step = 2100: loss = -0.40153512358665466, reward = 1.2897497415542603\n"
     ]
    },
    {
     "name": "stderr",
     "output_type": "stream",
     "text": [
      "100%|██████████| 20/20 [00:00<00:00, 65.60it/s]t/s]\n",
      " 73%|███████▎  | 2202/3000 [06:15<02:49,  4.71it/s]"
     ]
    },
    {
     "name": "stdout",
     "output_type": "stream",
     "text": [
      "step = 2200: loss = -0.400035560131073, reward = 1.2897497415542603\n"
     ]
    },
    {
     "name": "stderr",
     "output_type": "stream",
     "text": [
      "100%|██████████| 20/20 [00:00<00:00, 78.02it/s]t/s]\n",
      " 77%|███████▋  | 2302/3000 [06:30<02:15,  5.15it/s]"
     ]
    },
    {
     "name": "stdout",
     "output_type": "stream",
     "text": [
      "step = 2300: loss = -0.4024899899959564, reward = 1.2897497415542603\n"
     ]
    },
    {
     "name": "stderr",
     "output_type": "stream",
     "text": [
      "100%|██████████| 20/20 [00:00<00:00, 69.43it/s]t/s]\n",
      " 80%|████████  | 2402/3000 [06:44<02:04,  4.79it/s]"
     ]
    },
    {
     "name": "stdout",
     "output_type": "stream",
     "text": [
      "step = 2400: loss = -0.40124115347862244, reward = 1.2897497415542603\n"
     ]
    },
    {
     "name": "stderr",
     "output_type": "stream",
     "text": [
      "100%|██████████| 20/20 [00:00<00:00, 73.77it/s]t/s]\n",
      " 83%|████████▎ | 2502/3000 [06:59<01:49,  4.56it/s]"
     ]
    },
    {
     "name": "stdout",
     "output_type": "stream",
     "text": [
      "step = 2500: loss = -0.40203845500946045, reward = 1.2897497415542603\n"
     ]
    },
    {
     "name": "stderr",
     "output_type": "stream",
     "text": [
      "100%|██████████| 20/20 [00:00<00:00, 77.88it/s]t/s]\n",
      " 87%|████████▋ | 2602/3000 [07:13<01:18,  5.08it/s]"
     ]
    },
    {
     "name": "stdout",
     "output_type": "stream",
     "text": [
      "step = 2600: loss = -0.40201422572135925, reward = 1.2897497415542603\n"
     ]
    },
    {
     "name": "stderr",
     "output_type": "stream",
     "text": [
      "100%|██████████| 20/20 [00:00<00:00, 79.02it/s]t/s]\n",
      " 90%|█████████ | 2702/3000 [07:28<00:57,  5.15it/s]"
     ]
    },
    {
     "name": "stdout",
     "output_type": "stream",
     "text": [
      "step = 2700: loss = -0.40200597047805786, reward = 1.2897497415542603\n"
     ]
    },
    {
     "name": "stderr",
     "output_type": "stream",
     "text": [
      "100%|██████████| 20/20 [00:00<00:00, 78.86it/s]t/s]\n",
      " 93%|█████████▎| 2802/3000 [07:43<00:38,  5.12it/s]"
     ]
    },
    {
     "name": "stdout",
     "output_type": "stream",
     "text": [
      "step = 2800: loss = -0.4020169675350189, reward = 1.2897497415542603\n"
     ]
    },
    {
     "name": "stderr",
     "output_type": "stream",
     "text": [
      "100%|██████████| 20/20 [00:00<00:00, 78.20it/s]t/s]\n",
      " 97%|█████████▋| 2902/3000 [07:57<00:20,  4.88it/s]"
     ]
    },
    {
     "name": "stdout",
     "output_type": "stream",
     "text": [
      "step = 2900: loss = -0.40141090750694275, reward = 1.2897497415542603\n"
     ]
    },
    {
     "name": "stderr",
     "output_type": "stream",
     "text": [
      "100%|██████████| 3000/3000 [08:11<00:00,  6.10it/s]\n",
      "100%|██████████| 50/50 [00:30<00:00,  1.65it/s]"
     ]
    },
    {
     "name": "stdout",
     "output_type": "stream",
     "text": [
      "AVG RETURN - KAFKA: -1.0951742\n"
     ]
    },
    {
     "name": "stderr",
     "output_type": "stream",
     "text": [
      "\n"
     ]
    }
   ],
   "source": [
    "# Train on first\n",
    "collect_driver, replay_buffer = get_rb_and_cd(train_env, agent)\n",
    "loss, observations, rewards = train(\n",
    "    agent, train_env, train_env_copy, collect_driver, replay_buffer, steps = num_steps, eval_interval=100)\n",
    "\n",
    "print(\"AVG RETURN - KAFKA:\", \n",
    "      compute_avg_return_episodic(train_env_2, agent.policy, num_episodes=50))"
   ]
  },
  {
   "cell_type": "code",
   "execution_count": 29,
   "metadata": {},
   "outputs": [
    {
     "name": "stderr",
     "output_type": "stream",
     "text": [
      "100%|██████████| 20/20 [00:11<00:00,  1.75it/s]\n",
      "  0%|          | 1/3000 [00:12<10:45:41, 12.92s/it]"
     ]
    },
    {
     "name": "stdout",
     "output_type": "stream",
     "text": [
      "step = 0: loss = 0.23992592096328735, reward = -1.094357967376709\n"
     ]
    },
    {
     "name": "stderr",
     "output_type": "stream",
     "text": [
      "100%|██████████| 20/20 [00:12<00:00,  1.65it/s]s/it]\n",
      "  3%|▎         | 101/3000 [02:48<4:07:08,  5.12s/it]"
     ]
    },
    {
     "name": "stdout",
     "output_type": "stream",
     "text": [
      "step = 100: loss = -0.04756331071257591, reward = -1.095718264579773\n"
     ]
    },
    {
     "name": "stderr",
     "output_type": "stream",
     "text": [
      "100%|██████████| 20/20 [00:12<00:00,  1.56it/s]s/it]\n",
      "  7%|▋         | 201/3000 [05:32<4:20:18,  5.58s/it]"
     ]
    },
    {
     "name": "stdout",
     "output_type": "stream",
     "text": [
      "step = 200: loss = 0.01569918729364872, reward = -1.095718264579773\n"
     ]
    },
    {
     "name": "stderr",
     "output_type": "stream",
     "text": [
      "100%|██████████| 20/20 [00:11<00:00,  1.78it/s]s/it]\n",
      " 10%|█         | 301/3000 [08:14<3:35:36,  4.79s/it]"
     ]
    },
    {
     "name": "stdout",
     "output_type": "stream",
     "text": [
      "step = 300: loss = 0.027913261204957962, reward = -1.095718264579773\n"
     ]
    },
    {
     "name": "stderr",
     "output_type": "stream",
     "text": [
      "100%|██████████| 20/20 [00:11<00:00,  1.78it/s]s/it]\n",
      " 13%|█▎        | 401/3000 [10:51<3:28:08,  4.81s/it]"
     ]
    },
    {
     "name": "stdout",
     "output_type": "stream",
     "text": [
      "step = 400: loss = 0.026388660073280334, reward = -1.095718264579773\n"
     ]
    },
    {
     "name": "stderr",
     "output_type": "stream",
     "text": [
      "100%|██████████| 20/20 [00:11<00:00,  1.77it/s]s/it]\n",
      " 17%|█▋        | 501/3000 [13:29<3:30:47,  5.06s/it]"
     ]
    },
    {
     "name": "stdout",
     "output_type": "stream",
     "text": [
      "step = 500: loss = 0.050847191363573074, reward = -1.095718264579773\n"
     ]
    },
    {
     "name": "stderr",
     "output_type": "stream",
     "text": [
      "100%|██████████| 20/20 [00:11<00:00,  1.71it/s]it]  \n",
      " 20%|██        | 601/3000 [16:08<3:19:06,  4.98s/it]"
     ]
    },
    {
     "name": "stdout",
     "output_type": "stream",
     "text": [
      "step = 600: loss = 0.05089189484715462, reward = -1.095718264579773\n"
     ]
    },
    {
     "name": "stderr",
     "output_type": "stream",
     "text": [
      "100%|██████████| 20/20 [00:11<00:00,  1.78it/s]it]  \n",
      " 23%|██▎       | 701/3000 [18:43<3:06:54,  4.88s/it]"
     ]
    },
    {
     "name": "stdout",
     "output_type": "stream",
     "text": [
      "step = 700: loss = 0.05062983185052872, reward = -1.095718264579773\n"
     ]
    },
    {
     "name": "stderr",
     "output_type": "stream",
     "text": [
      "100%|██████████| 20/20 [00:11<00:00,  1.71it/s]it]  \n",
      " 27%|██▋       | 801/3000 [21:22<3:01:49,  4.96s/it]"
     ]
    },
    {
     "name": "stdout",
     "output_type": "stream",
     "text": [
      "step = 800: loss = 0.05028387904167175, reward = -1.095718264579773\n"
     ]
    },
    {
     "name": "stderr",
     "output_type": "stream",
     "text": [
      "100%|██████████| 20/20 [00:11<00:00,  1.78it/s]it]  \n",
      " 30%|███       | 901/3000 [23:59<2:47:50,  4.80s/it]"
     ]
    },
    {
     "name": "stdout",
     "output_type": "stream",
     "text": [
      "step = 900: loss = 0.04961911588907242, reward = -1.095718264579773\n"
     ]
    },
    {
     "name": "stderr",
     "output_type": "stream",
     "text": [
      "100%|██████████| 20/20 [00:11<00:00,  1.79it/s]/it] \n",
      " 33%|███▎      | 1001/3000 [26:36<2:39:13,  4.78s/it]"
     ]
    },
    {
     "name": "stdout",
     "output_type": "stream",
     "text": [
      "step = 1000: loss = 0.04881724342703819, reward = -1.095718264579773\n"
     ]
    },
    {
     "name": "stderr",
     "output_type": "stream",
     "text": [
      "100%|██████████| 20/20 [00:11<00:00,  1.79it/s]/it]  \n",
      " 37%|███▋      | 1101/3000 [29:08<2:30:42,  4.76s/it]"
     ]
    },
    {
     "name": "stdout",
     "output_type": "stream",
     "text": [
      "step = 1100: loss = 0.04760364443063736, reward = -1.095718264579773\n"
     ]
    },
    {
     "name": "stderr",
     "output_type": "stream",
     "text": [
      "100%|██████████| 20/20 [00:11<00:00,  1.79it/s]/it]  \n",
      " 40%|████      | 1201/3000 [31:42<2:22:38,  4.76s/it]"
     ]
    },
    {
     "name": "stdout",
     "output_type": "stream",
     "text": [
      "step = 1200: loss = 0.04574316367506981, reward = -1.095718264579773\n"
     ]
    },
    {
     "name": "stderr",
     "output_type": "stream",
     "text": [
      "100%|██████████| 20/20 [00:11<00:00,  1.79it/s]/it]  \n",
      " 43%|████▎     | 1301/3000 [34:14<2:21:03,  4.98s/it]"
     ]
    },
    {
     "name": "stdout",
     "output_type": "stream",
     "text": [
      "step = 1300: loss = 0.04151776432991028, reward = -1.095718264579773\n"
     ]
    },
    {
     "name": "stderr",
     "output_type": "stream",
     "text": [
      "100%|██████████| 20/20 [00:11<00:00,  1.79it/s]/it]  \n",
      " 47%|████▋     | 1401/3000 [36:47<2:07:11,  4.77s/it]"
     ]
    },
    {
     "name": "stdout",
     "output_type": "stream",
     "text": [
      "step = 1400: loss = 0.0467989556491375, reward = -1.095718264579773\n"
     ]
    },
    {
     "name": "stderr",
     "output_type": "stream",
     "text": [
      "100%|██████████| 20/20 [00:11<00:00,  1.73it/s]/it]  \n",
      " 50%|█████     | 1501/3000 [39:21<2:02:05,  4.89s/it]"
     ]
    },
    {
     "name": "stdout",
     "output_type": "stream",
     "text": [
      "step = 1500: loss = 0.047061603516340256, reward = -1.095718264579773\n"
     ]
    },
    {
     "name": "stderr",
     "output_type": "stream",
     "text": [
      "100%|██████████| 20/20 [00:11<00:00,  1.79it/s]/it]  \n",
      " 53%|█████▎    | 1601/3000 [41:54<1:51:30,  4.78s/it]"
     ]
    },
    {
     "name": "stdout",
     "output_type": "stream",
     "text": [
      "step = 1600: loss = 0.04712197184562683, reward = -1.095718264579773\n"
     ]
    },
    {
     "name": "stderr",
     "output_type": "stream",
     "text": [
      "100%|██████████| 20/20 [00:11<00:00,  1.79it/s]/it]  \n",
      " 57%|█████▋    | 1701/3000 [44:27<1:43:34,  4.78s/it]"
     ]
    },
    {
     "name": "stdout",
     "output_type": "stream",
     "text": [
      "step = 1700: loss = 0.04722379893064499, reward = -1.095718264579773\n"
     ]
    },
    {
     "name": "stderr",
     "output_type": "stream",
     "text": [
      "100%|██████████| 20/20 [00:12<00:00,  1.63it/s]/it]  \n",
      " 60%|██████    | 1801/3000 [47:01<1:42:02,  5.11s/it]"
     ]
    },
    {
     "name": "stdout",
     "output_type": "stream",
     "text": [
      "step = 1800: loss = 0.046851687133312225, reward = -1.095718264579773\n"
     ]
    },
    {
     "name": "stderr",
     "output_type": "stream",
     "text": [
      "100%|██████████| 20/20 [00:11<00:00,  1.70it/s]/it]  \n",
      " 63%|██████▎   | 1901/3000 [49:56<1:30:36,  4.95s/it]"
     ]
    },
    {
     "name": "stdout",
     "output_type": "stream",
     "text": [
      "step = 1900: loss = 0.04698016494512558, reward = -1.095718264579773\n"
     ]
    },
    {
     "name": "stderr",
     "output_type": "stream",
     "text": [
      "100%|██████████| 20/20 [00:11<00:00,  1.79it/s]/it]  \n",
      " 67%|██████▋   | 2001/3000 [52:29<1:18:55,  4.74s/it]"
     ]
    },
    {
     "name": "stdout",
     "output_type": "stream",
     "text": [
      "step = 2000: loss = 0.046965342015028, reward = -1.095718264579773\n"
     ]
    },
    {
     "name": "stderr",
     "output_type": "stream",
     "text": [
      "100%|██████████| 20/20 [00:11<00:00,  1.79it/s]/it]  \n",
      " 70%|███████   | 2101/3000 [55:04<1:11:31,  4.77s/it]"
     ]
    },
    {
     "name": "stdout",
     "output_type": "stream",
     "text": [
      "step = 2100: loss = 0.04709947854280472, reward = -1.095718264579773\n"
     ]
    },
    {
     "name": "stderr",
     "output_type": "stream",
     "text": [
      "100%|██████████| 20/20 [00:11<00:00,  1.79it/s]/it]  \n",
      " 73%|███████▎  | 2201/3000 [57:36<1:03:22,  4.76s/it]"
     ]
    },
    {
     "name": "stdout",
     "output_type": "stream",
     "text": [
      "step = 2200: loss = 0.034701552242040634, reward = -1.095718264579773\n"
     ]
    },
    {
     "name": "stderr",
     "output_type": "stream",
     "text": [
      "100%|██████████| 20/20 [00:11<00:00,  1.75it/s]3s/it]\n",
      " 77%|███████▋  | 2301/3000 [1:00:13<57:22,  4.93s/it]"
     ]
    },
    {
     "name": "stdout",
     "output_type": "stream",
     "text": [
      "step = 2300: loss = 0.0582413375377655, reward = -1.095718264579773\n"
     ]
    },
    {
     "name": "stderr",
     "output_type": "stream",
     "text": [
      "100%|██████████| 20/20 [00:11<00:00,  1.71it/s]3s/it]\n",
      " 80%|████████  | 2401/3000 [1:02:56<49:52,  5.00s/it]"
     ]
    },
    {
     "name": "stdout",
     "output_type": "stream",
     "text": [
      "step = 2400: loss = 0.0011234291596338153, reward = -1.095718264579773\n"
     ]
    },
    {
     "name": "stderr",
     "output_type": "stream",
     "text": [
      "100%|██████████| 20/20 [00:10<00:00,  1.83it/s]9s/it]    \n",
      " 83%|████████▎ | 2501/3000 [1:41:12<43:19,  5.21s/it]"
     ]
    },
    {
     "name": "stdout",
     "output_type": "stream",
     "text": [
      "step = 2500: loss = 0.059934187680482864, reward = -1.095718264579773\n"
     ]
    },
    {
     "name": "stderr",
     "output_type": "stream",
     "text": [
      "100%|██████████| 20/20 [00:11<00:00,  1.68it/s]1s/it]  \n",
      " 87%|████████▋ | 2601/3000 [1:45:04<33:39,  5.06s/it]"
     ]
    },
    {
     "name": "stdout",
     "output_type": "stream",
     "text": [
      "step = 2600: loss = -0.014887774363160133, reward = -1.095718264579773\n"
     ]
    },
    {
     "name": "stderr",
     "output_type": "stream",
     "text": [
      "100%|██████████| 20/20 [00:11<00:00,  1.79it/s]0s/it]\n",
      " 90%|█████████ | 2701/3000 [1:47:42<23:39,  4.75s/it]"
     ]
    },
    {
     "name": "stdout",
     "output_type": "stream",
     "text": [
      "step = 2700: loss = 0.013810863718390465, reward = -0.7224888801574707\n"
     ]
    },
    {
     "name": "stderr",
     "output_type": "stream",
     "text": [
      "100%|██████████| 20/20 [00:11<00:00,  1.71it/s]8s/it]\n",
      " 93%|█████████▎| 2801/3000 [1:50:18<16:30,  4.98s/it]"
     ]
    },
    {
     "name": "stdout",
     "output_type": "stream",
     "text": [
      "step = 2800: loss = 0.017519423738121986, reward = -0.7224825620651245\n"
     ]
    },
    {
     "name": "stderr",
     "output_type": "stream",
     "text": [
      "100%|██████████| 20/20 [00:11<00:00,  1.79it/s]9s/it]\n",
      " 97%|█████████▋| 2901/3000 [1:52:50<07:49,  4.74s/it]"
     ]
    },
    {
     "name": "stdout",
     "output_type": "stream",
     "text": [
      "step = 2900: loss = 0.020173329859972, reward = -0.7224825620651245\n"
     ]
    },
    {
     "name": "stderr",
     "output_type": "stream",
     "text": [
      "100%|██████████| 3000/3000 [1:55:14<00:00,  2.30s/it]\n",
      "100%|██████████| 50/50 [00:35<00:00,  1.42it/s]"
     ]
    },
    {
     "name": "stdout",
     "output_type": "stream",
     "text": [
      "AVG RETURN - KAFKA: -0.72248244\n"
     ]
    },
    {
     "name": "stderr",
     "output_type": "stream",
     "text": [
      "\n"
     ]
    }
   ],
   "source": [
    "# Train on second\n",
    "collect_driver, replay_buffer = get_rb_and_cd(train_env_2, agent)\n",
    "loss, observations, rewards = train(\n",
    "    agent, train_env_2, train_env_2_copy, collect_driver, replay_buffer, steps = num_steps, eval_interval=100)\n",
    "\n",
    "print(\"AVG RETURN - KAFKA:\", \n",
    "      compute_avg_return_episodic(train_env_2, agent.policy, num_episodes=50))\n"
   ]
  },
  {
   "cell_type": "code",
   "execution_count": 30,
   "metadata": {},
   "outputs": [
    {
     "name": "stderr",
     "output_type": "stream",
     "text": [
      "100%|██████████| 50/50 [00:28<00:00,  1.75it/s]\n"
     ]
    },
    {
     "name": "stdout",
     "output_type": "stream",
     "text": [
      "AVG RETURN - TEST: -0.09791789\n"
     ]
    },
    {
     "name": "stderr",
     "output_type": "stream",
     "text": [
      "100%|██████████| 20/20 [00:11<00:00,  1.69it/s]\n",
      "  0%|          | 1/3000 [00:13<11:13:44, 13.48s/it]"
     ]
    },
    {
     "name": "stdout",
     "output_type": "stream",
     "text": [
      "step = 0: loss = -0.04970337077975273, reward = -0.06765811145305634\n"
     ]
    },
    {
     "name": "stderr",
     "output_type": "stream",
     "text": [
      "100%|██████████| 20/20 [00:11<00:00,  1.69it/s]s/it]\n",
      "  3%|▎         | 101/3000 [02:58<3:59:28,  4.96s/it]"
     ]
    },
    {
     "name": "stdout",
     "output_type": "stream",
     "text": [
      "step = 100: loss = -0.002319173188880086, reward = -0.11809100955724716\n"
     ]
    },
    {
     "name": "stderr",
     "output_type": "stream",
     "text": [
      "100%|██████████| 20/20 [00:11<00:00,  1.72it/s]s/it]\n",
      "  7%|▋         | 201/3000 [05:34<3:49:03,  4.91s/it]"
     ]
    },
    {
     "name": "stdout",
     "output_type": "stream",
     "text": [
      "step = 200: loss = -0.001999561209231615, reward = -0.11809100955724716\n"
     ]
    },
    {
     "name": "stderr",
     "output_type": "stream",
     "text": [
      "100%|██████████| 20/20 [00:11<00:00,  1.73it/s]/s]  \n",
      " 10%|█         | 301/3000 [07:57<2:55:25,  3.90s/it]"
     ]
    },
    {
     "name": "stdout",
     "output_type": "stream",
     "text": [
      "step = 300: loss = 0.637097179889679, reward = -0.11809100955724716\n"
     ]
    },
    {
     "name": "stderr",
     "output_type": "stream",
     "text": [
      "100%|██████████| 20/20 [00:11<00:00,  1.67it/s]/s]  \n",
      " 13%|█▎        | 401/3000 [08:48<2:53:10,  4.00s/it]"
     ]
    },
    {
     "name": "stdout",
     "output_type": "stream",
     "text": [
      "step = 400: loss = 0.3378632962703705, reward = 0.1518501341342926\n"
     ]
    },
    {
     "name": "stderr",
     "output_type": "stream",
     "text": [
      "100%|██████████| 20/20 [00:11<00:00,  1.78it/s]/s]  \n",
      " 17%|█▋        | 501/3000 [09:44<2:40:10,  3.85s/it]"
     ]
    },
    {
     "name": "stdout",
     "output_type": "stream",
     "text": [
      "step = 500: loss = 0.29114043712615967, reward = 0.1518501341342926\n"
     ]
    },
    {
     "name": "stderr",
     "output_type": "stream",
     "text": [
      "100%|██████████| 20/20 [00:11<00:00,  1.72it/s]/s]  \n",
      " 20%|██        | 601/3000 [10:46<2:37:43,  3.94s/it]"
     ]
    },
    {
     "name": "stdout",
     "output_type": "stream",
     "text": [
      "step = 600: loss = 0.27805569767951965, reward = 0.1518501341342926\n"
     ]
    },
    {
     "name": "stderr",
     "output_type": "stream",
     "text": [
      "100%|██████████| 20/20 [00:11<00:00,  1.79it/s]/s]  \n",
      " 23%|██▎       | 701/3000 [11:45<2:25:07,  3.79s/it]"
     ]
    },
    {
     "name": "stdout",
     "output_type": "stream",
     "text": [
      "step = 700: loss = 0.2481951117515564, reward = 0.1518501341342926\n"
     ]
    },
    {
     "name": "stderr",
     "output_type": "stream",
     "text": [
      "100%|██████████| 20/20 [00:11<00:00,  1.80it/s]/s]  \n",
      " 27%|██▋       | 801/3000 [12:51<2:23:01,  3.90s/it]"
     ]
    },
    {
     "name": "stdout",
     "output_type": "stream",
     "text": [
      "step = 800: loss = 0.26682373881340027, reward = 0.1518501341342926\n"
     ]
    },
    {
     "name": "stderr",
     "output_type": "stream",
     "text": [
      "100%|██████████| 20/20 [00:12<00:00,  1.63it/s]/s]  \n",
      " 30%|███       | 901/3000 [13:55<2:25:32,  4.16s/it]"
     ]
    },
    {
     "name": "stdout",
     "output_type": "stream",
     "text": [
      "step = 900: loss = 0.2887151837348938, reward = 0.1518501341342926\n"
     ]
    },
    {
     "name": "stderr",
     "output_type": "stream",
     "text": [
      "100%|██████████| 20/20 [00:11<00:00,  1.81it/s]t/s] \n",
      " 33%|███▎      | 1001/3000 [15:00<2:04:19,  3.73s/it]"
     ]
    },
    {
     "name": "stdout",
     "output_type": "stream",
     "text": [
      "step = 1000: loss = 0.24205642938613892, reward = 0.1518501341342926\n"
     ]
    },
    {
     "name": "stderr",
     "output_type": "stream",
     "text": [
      "100%|██████████| 20/20 [00:11<00:00,  1.79it/s]t/s]  \n",
      " 37%|███▋      | 1101/3000 [16:01<2:01:58,  3.85s/it]"
     ]
    },
    {
     "name": "stdout",
     "output_type": "stream",
     "text": [
      "step = 1100: loss = 0.23392656445503235, reward = 0.1518501341342926\n"
     ]
    },
    {
     "name": "stderr",
     "output_type": "stream",
     "text": [
      "100%|██████████| 20/20 [00:11<00:00,  1.80it/s]t/s]  \n",
      " 40%|████      | 1201/3000 [17:02<1:54:06,  3.81s/it]"
     ]
    },
    {
     "name": "stdout",
     "output_type": "stream",
     "text": [
      "step = 1200: loss = 0.20439070463180542, reward = 0.1518501341342926\n"
     ]
    },
    {
     "name": "stderr",
     "output_type": "stream",
     "text": [
      "100%|██████████| 20/20 [00:11<00:00,  1.70it/s]t/s]  \n",
      " 43%|████▎     | 1301/3000 [18:01<1:53:04,  3.99s/it]"
     ]
    },
    {
     "name": "stdout",
     "output_type": "stream",
     "text": [
      "step = 1300: loss = 0.2279774695634842, reward = 0.1518501341342926\n"
     ]
    },
    {
     "name": "stderr",
     "output_type": "stream",
     "text": [
      "100%|██████████| 20/20 [00:11<00:00,  1.81it/s]t/s]  \n",
      " 47%|████▋     | 1401/3000 [19:05<1:41:22,  3.80s/it]"
     ]
    },
    {
     "name": "stdout",
     "output_type": "stream",
     "text": [
      "step = 1400: loss = 0.2342691570520401, reward = 0.1518501341342926\n"
     ]
    },
    {
     "name": "stderr",
     "output_type": "stream",
     "text": [
      "100%|██████████| 20/20 [00:11<00:00,  1.80it/s]t/s]  \n",
      " 50%|█████     | 1501/3000 [20:05<1:33:27,  3.74s/it]"
     ]
    },
    {
     "name": "stdout",
     "output_type": "stream",
     "text": [
      "step = 1500: loss = 0.23698203265666962, reward = 0.1518501341342926\n"
     ]
    },
    {
     "name": "stderr",
     "output_type": "stream",
     "text": [
      "100%|██████████| 20/20 [00:11<00:00,  1.79it/s]t/s]  \n",
      " 53%|█████▎    | 1601/3000 [21:05<1:29:33,  3.84s/it]"
     ]
    },
    {
     "name": "stdout",
     "output_type": "stream",
     "text": [
      "step = 1600: loss = 0.21993388235569, reward = 0.1518501341342926\n"
     ]
    },
    {
     "name": "stderr",
     "output_type": "stream",
     "text": [
      "100%|██████████| 20/20 [00:11<00:00,  1.75it/s]t/s]  \n",
      " 57%|█████▋    | 1701/3000 [22:06<1:26:33,  4.00s/it]"
     ]
    },
    {
     "name": "stdout",
     "output_type": "stream",
     "text": [
      "step = 1700: loss = 0.239291712641716, reward = 0.1518501341342926\n"
     ]
    },
    {
     "name": "stderr",
     "output_type": "stream",
     "text": [
      "100%|██████████| 20/20 [00:11<00:00,  1.81it/s]t/s]  \n",
      " 60%|██████    | 1801/3000 [23:04<1:15:58,  3.80s/it]"
     ]
    },
    {
     "name": "stdout",
     "output_type": "stream",
     "text": [
      "step = 1800: loss = 0.19207340478897095, reward = 0.1518501341342926\n"
     ]
    },
    {
     "name": "stderr",
     "output_type": "stream",
     "text": [
      "100%|██████████| 20/20 [00:11<00:00,  1.75it/s]t/s]  \n",
      " 63%|██████▎   | 1901/3000 [24:04<1:09:45,  3.81s/it]"
     ]
    },
    {
     "name": "stdout",
     "output_type": "stream",
     "text": [
      "step = 1900: loss = 0.19634351134300232, reward = 0.1518501341342926\n"
     ]
    },
    {
     "name": "stderr",
     "output_type": "stream",
     "text": [
      "100%|██████████| 20/20 [00:11<00:00,  1.71it/s]t/s]  \n",
      " 67%|██████▋   | 2001/3000 [25:05<1:06:28,  3.99s/it]"
     ]
    },
    {
     "name": "stdout",
     "output_type": "stream",
     "text": [
      "step = 2000: loss = 0.18686339259147644, reward = 0.1518501341342926\n"
     ]
    },
    {
     "name": "stderr",
     "output_type": "stream",
     "text": [
      "100%|██████████| 20/20 [00:11<00:00,  1.77it/s]t/s]  \n",
      " 70%|███████   | 2101/3000 [26:08<57:38,  3.85s/it]"
     ]
    },
    {
     "name": "stdout",
     "output_type": "stream",
     "text": [
      "step = 2100: loss = 0.20166490972042084, reward = 0.1518501341342926\n"
     ]
    },
    {
     "name": "stderr",
     "output_type": "stream",
     "text": [
      "100%|██████████| 20/20 [00:11<00:00,  1.78it/s]t/s]\n",
      " 73%|███████▎  | 2201/3000 [27:07<51:20,  3.86s/it]"
     ]
    },
    {
     "name": "stdout",
     "output_type": "stream",
     "text": [
      "step = 2200: loss = 0.18926644325256348, reward = 0.1518501341342926\n"
     ]
    },
    {
     "name": "stderr",
     "output_type": "stream",
     "text": [
      "100%|██████████| 20/20 [00:11<00:00,  1.78it/s]t/s]\n",
      " 77%|███████▋  | 2301/3000 [28:06<44:31,  3.82s/it]"
     ]
    },
    {
     "name": "stdout",
     "output_type": "stream",
     "text": [
      "step = 2300: loss = 0.20836588740348816, reward = 0.1518501341342926\n"
     ]
    },
    {
     "name": "stderr",
     "output_type": "stream",
     "text": [
      "100%|██████████| 20/20 [00:11<00:00,  1.78it/s]t/s]\n",
      " 80%|████████  | 2401/3000 [29:06<38:39,  3.87s/it]"
     ]
    },
    {
     "name": "stdout",
     "output_type": "stream",
     "text": [
      "step = 2400: loss = 0.13284115493297577, reward = 0.1518501341342926\n"
     ]
    },
    {
     "name": "stderr",
     "output_type": "stream",
     "text": [
      "100%|██████████| 20/20 [00:11<00:00,  1.76it/s]t/s]\n",
      " 83%|████████▎ | 2501/3000 [30:08<33:17,  4.00s/it]"
     ]
    },
    {
     "name": "stdout",
     "output_type": "stream",
     "text": [
      "step = 2500: loss = 0.16821995377540588, reward = 0.1518501341342926\n"
     ]
    },
    {
     "name": "stderr",
     "output_type": "stream",
     "text": [
      "100%|██████████| 20/20 [00:12<00:00,  1.66it/s]t/s]\n",
      " 87%|████████▋ | 2601/3000 [31:07<27:03,  4.07s/it]"
     ]
    },
    {
     "name": "stdout",
     "output_type": "stream",
     "text": [
      "step = 2600: loss = 0.14804477989673615, reward = 0.1518501341342926\n"
     ]
    },
    {
     "name": "stderr",
     "output_type": "stream",
     "text": [
      "100%|██████████| 20/20 [00:11<00:00,  1.81it/s]t/s]\n",
      " 90%|█████████ | 2701/3000 [32:06<18:35,  3.73s/it]"
     ]
    },
    {
     "name": "stdout",
     "output_type": "stream",
     "text": [
      "step = 2700: loss = 0.10050634294748306, reward = 0.1518501341342926\n"
     ]
    },
    {
     "name": "stderr",
     "output_type": "stream",
     "text": [
      "100%|██████████| 20/20 [00:11<00:00,  1.74it/s]t/s]\n",
      " 93%|█████████▎| 2801/3000 [33:07<12:46,  3.85s/it]"
     ]
    },
    {
     "name": "stdout",
     "output_type": "stream",
     "text": [
      "step = 2800: loss = 0.07741110026836395, reward = 0.1518501341342926\n"
     ]
    },
    {
     "name": "stderr",
     "output_type": "stream",
     "text": [
      "100%|██████████| 20/20 [00:11<00:00,  1.76it/s]t/s]\n",
      " 97%|█████████▋| 2901/3000 [34:07<06:22,  3.87s/it]"
     ]
    },
    {
     "name": "stdout",
     "output_type": "stream",
     "text": [
      "step = 2900: loss = 0.2126760482788086, reward = 0.1518501341342926\n"
     ]
    },
    {
     "name": "stderr",
     "output_type": "stream",
     "text": [
      "100%|██████████| 3000/3000 [34:52<00:00,  1.43it/s]\n",
      "100%|██████████| 50/50 [00:28<00:00,  1.77it/s]"
     ]
    },
    {
     "name": "stdout",
     "output_type": "stream",
     "text": [
      "AVG RETURN - TEST: 0.15185018\n"
     ]
    },
    {
     "name": "stderr",
     "output_type": "stream",
     "text": [
      "\n"
     ]
    }
   ],
   "source": [
    "\n",
    "print(\"AVG RETURN - TEST:\", \n",
    "      compute_avg_return_episodic(test_env, agent.policy, num_episodes=50))\n",
    "\n",
    "# Test environment\n",
    "collect_driver, replay_buffer = get_rb_and_cd(test_env, agent)\n",
    "loss, observations, rewards = train(\n",
    "    agent, test_env, test_env_copy, collect_driver, replay_buffer, steps = num_steps, eval_interval=100)\n",
    "\n",
    "print(\"AVG RETURN - TEST:\", \n",
    "      compute_avg_return_episodic(test_env, agent.policy, num_episodes=50))"
   ]
  },
  {
   "cell_type": "markdown",
   "metadata": {},
   "source": [
    "Final results."
   ]
  },
  {
   "cell_type": "code",
   "execution_count": 31,
   "metadata": {},
   "outputs": [
    {
     "name": "stderr",
     "output_type": "stream",
     "text": [
      "100%|██████████| 50/50 [00:00<00:00, 74.34it/s]\n"
     ]
    },
    {
     "name": "stdout",
     "output_type": "stream",
     "text": [
      "AVG RETURN - AVRORA: 1.2897495\n"
     ]
    },
    {
     "name": "stderr",
     "output_type": "stream",
     "text": [
      "100%|██████████| 50/50 [00:28<00:00,  1.78it/s]\n"
     ]
    },
    {
     "name": "stdout",
     "output_type": "stream",
     "text": [
      "AVG RETURN - KAFKA: -0.6872998\n"
     ]
    },
    {
     "name": "stderr",
     "output_type": "stream",
     "text": [
      "100%|██████████| 50/50 [00:27<00:00,  1.79it/s]"
     ]
    },
    {
     "name": "stdout",
     "output_type": "stream",
     "text": [
      "AVG RETURN - TEST: 0.15185018\n"
     ]
    },
    {
     "name": "stderr",
     "output_type": "stream",
     "text": [
      "\n"
     ]
    }
   ],
   "source": [
    "print(\"AVG RETURN - AVRORA:\", \n",
    "      compute_avg_return_episodic(train_env, agent.policy, num_episodes=50))\n",
    "\n",
    "print(\"AVG RETURN - KAFKA:\", \n",
    "      compute_avg_return_episodic(train_env_2, agent.policy, num_episodes=50))\n",
    "\n",
    "print(\"AVG RETURN - TEST:\", \n",
    "      compute_avg_return_episodic(test_env, agent.policy, num_episodes=50))"
   ]
  },
  {
   "cell_type": "code",
   "execution_count": 32,
   "metadata": {},
   "outputs": [
    {
     "name": "stderr",
     "output_type": "stream",
     "text": [
      "100%|██████████| 20/20 [00:11<00:00,  1.76it/s]\n",
      "  0%|          | 1/3000 [00:12<10:40:12, 12.81s/it]"
     ]
    },
    {
     "name": "stdout",
     "output_type": "stream",
     "text": [
      "step = 0: loss = 1.0708450078964233, reward = -0.6872997283935547\n"
     ]
    },
    {
     "name": "stderr",
     "output_type": "stream",
     "text": [
      "100%|██████████| 20/20 [00:11<00:00,  1.69it/s]s/it]\n",
      "  3%|▎         | 101/3000 [02:49<4:07:36,  5.12s/it]"
     ]
    },
    {
     "name": "stdout",
     "output_type": "stream",
     "text": [
      "step = 100: loss = 0.01032012328505516, reward = -0.7224825620651245\n"
     ]
    },
    {
     "name": "stderr",
     "output_type": "stream",
     "text": [
      "100%|██████████| 20/20 [00:11<00:00,  1.75it/s]s/it]\n",
      "  7%|▋         | 201/3000 [05:24<3:54:44,  5.03s/it]"
     ]
    },
    {
     "name": "stdout",
     "output_type": "stream",
     "text": [
      "step = 200: loss = 0.008337455801665783, reward = -0.7224825620651245\n"
     ]
    },
    {
     "name": "stderr",
     "output_type": "stream",
     "text": [
      "100%|██████████| 20/20 [00:12<00:00,  1.65it/s]s/it]\n",
      " 10%|█         | 301/3000 [08:04<3:49:26,  5.10s/it]"
     ]
    },
    {
     "name": "stdout",
     "output_type": "stream",
     "text": [
      "step = 300: loss = 0.015153888612985611, reward = -0.7224825620651245\n"
     ]
    },
    {
     "name": "stderr",
     "output_type": "stream",
     "text": [
      "100%|██████████| 20/20 [00:11<00:00,  1.79it/s]it]  \n",
      " 13%|█▎        | 401/3000 [10:41<3:25:02,  4.73s/it]"
     ]
    },
    {
     "name": "stdout",
     "output_type": "stream",
     "text": [
      "step = 400: loss = 0.04072941467165947, reward = -0.7224825620651245\n"
     ]
    },
    {
     "name": "stderr",
     "output_type": "stream",
     "text": [
      "100%|██████████| 20/20 [00:11<00:00,  1.82it/s]it]  \n",
      " 17%|█▋        | 501/3000 [13:13<3:16:34,  4.72s/it]"
     ]
    },
    {
     "name": "stdout",
     "output_type": "stream",
     "text": [
      "step = 500: loss = 0.025839729234576225, reward = -0.7224825620651245\n"
     ]
    },
    {
     "name": "stderr",
     "output_type": "stream",
     "text": [
      "100%|██████████| 20/20 [00:11<00:00,  1.70it/s]it]  \n",
      " 20%|██        | 601/3000 [15:49<3:18:07,  4.96s/it]"
     ]
    },
    {
     "name": "stdout",
     "output_type": "stream",
     "text": [
      "step = 600: loss = 0.04873916134238243, reward = -0.7224825620651245\n"
     ]
    },
    {
     "name": "stderr",
     "output_type": "stream",
     "text": [
      "100%|██████████| 20/20 [00:11<00:00,  1.79it/s]it]  \n",
      " 23%|██▎       | 701/3000 [18:24<3:02:58,  4.78s/it]"
     ]
    },
    {
     "name": "stdout",
     "output_type": "stream",
     "text": [
      "step = 700: loss = 0.0132971853017807, reward = -0.7224825620651245\n"
     ]
    },
    {
     "name": "stderr",
     "output_type": "stream",
     "text": [
      "100%|██████████| 20/20 [00:11<00:00,  1.76it/s]it]  \n",
      " 27%|██▋       | 801/3000 [21:03<2:57:36,  4.85s/it]"
     ]
    },
    {
     "name": "stdout",
     "output_type": "stream",
     "text": [
      "step = 800: loss = 0.025136852636933327, reward = -0.7224825620651245\n"
     ]
    },
    {
     "name": "stderr",
     "output_type": "stream",
     "text": [
      "100%|██████████| 20/20 [00:11<00:00,  1.76it/s]it]  \n",
      " 30%|███       | 901/3000 [23:40<2:49:57,  4.86s/it]"
     ]
    },
    {
     "name": "stdout",
     "output_type": "stream",
     "text": [
      "step = 900: loss = 0.04865988716483116, reward = -0.7224825620651245\n"
     ]
    },
    {
     "name": "stderr",
     "output_type": "stream",
     "text": [
      "100%|██████████| 20/20 [00:11<00:00,  1.76it/s]/it] \n",
      " 33%|███▎      | 1001/3000 [26:15<2:41:14,  4.84s/it]"
     ]
    },
    {
     "name": "stdout",
     "output_type": "stream",
     "text": [
      "step = 1000: loss = -0.060474611818790436, reward = -0.1822998821735382\n"
     ]
    },
    {
     "name": "stderr",
     "output_type": "stream",
     "text": [
      "100%|██████████| 20/20 [00:11<00:00,  1.68it/s]/it]  \n",
      " 37%|███▋      | 1101/3000 [28:50<2:38:56,  5.02s/it]"
     ]
    },
    {
     "name": "stdout",
     "output_type": "stream",
     "text": [
      "step = 1100: loss = 0.001056360430084169, reward = -0.1822998821735382\n"
     ]
    },
    {
     "name": "stderr",
     "output_type": "stream",
     "text": [
      "100%|██████████| 20/20 [00:11<00:00,  1.74it/s]/it]  \n",
      " 40%|████      | 1201/3000 [31:31<2:26:28,  4.89s/it]"
     ]
    },
    {
     "name": "stdout",
     "output_type": "stream",
     "text": [
      "step = 1200: loss = 0.0018581876065582037, reward = -0.1822998821735382\n"
     ]
    },
    {
     "name": "stderr",
     "output_type": "stream",
     "text": [
      "100%|██████████| 20/20 [00:11<00:00,  1.75it/s]/it]  \n",
      " 43%|████▎     | 1301/3000 [34:09<2:17:57,  4.87s/it]"
     ]
    },
    {
     "name": "stdout",
     "output_type": "stream",
     "text": [
      "step = 1300: loss = -0.0023872079327702522, reward = -0.1822998821735382\n"
     ]
    },
    {
     "name": "stderr",
     "output_type": "stream",
     "text": [
      "100%|██████████| 20/20 [00:11<00:00,  1.75it/s]/it]  \n",
      " 47%|████▋     | 1401/3000 [36:44<2:10:01,  4.88s/it]"
     ]
    },
    {
     "name": "stdout",
     "output_type": "stream",
     "text": [
      "step = 1400: loss = 0.01805002987384796, reward = -0.1822998821735382\n"
     ]
    },
    {
     "name": "stderr",
     "output_type": "stream",
     "text": [
      "100%|██████████| 20/20 [00:11<00:00,  1.79it/s]/it]  \n",
      " 50%|█████     | 1501/3000 [39:19<1:58:40,  4.75s/it]"
     ]
    },
    {
     "name": "stdout",
     "output_type": "stream",
     "text": [
      "step = 1500: loss = -0.055307794362306595, reward = -0.1822998821735382\n"
     ]
    },
    {
     "name": "stderr",
     "output_type": "stream",
     "text": [
      "100%|██████████| 20/20 [00:11<00:00,  1.79it/s]/it]  \n",
      " 53%|█████▎    | 1601/3000 [41:51<1:50:34,  4.74s/it]"
     ]
    },
    {
     "name": "stdout",
     "output_type": "stream",
     "text": [
      "step = 1600: loss = 0.0010385647183284163, reward = -0.1822998821735382\n"
     ]
    },
    {
     "name": "stderr",
     "output_type": "stream",
     "text": [
      "100%|██████████| 20/20 [00:11<00:00,  1.77it/s]/it]  \n",
      " 57%|█████▋    | 1701/3000 [44:23<1:44:25,  4.82s/it]"
     ]
    },
    {
     "name": "stdout",
     "output_type": "stream",
     "text": [
      "step = 1700: loss = -0.05765068158507347, reward = -0.1822998821735382\n"
     ]
    },
    {
     "name": "stderr",
     "output_type": "stream",
     "text": [
      "100%|██████████| 20/20 [00:11<00:00,  1.77it/s]/it]  \n",
      " 60%|██████    | 1801/3000 [46:57<1:36:52,  4.85s/it]"
     ]
    },
    {
     "name": "stdout",
     "output_type": "stream",
     "text": [
      "step = 1800: loss = 0.0410073883831501, reward = -0.1822998821735382\n"
     ]
    },
    {
     "name": "stderr",
     "output_type": "stream",
     "text": [
      "100%|██████████| 20/20 [00:11<00:00,  1.77it/s]/it]  \n",
      " 63%|██████▎   | 1901/3000 [49:31<1:27:47,  4.79s/it]"
     ]
    },
    {
     "name": "stdout",
     "output_type": "stream",
     "text": [
      "step = 1900: loss = -0.022543426603078842, reward = -0.1822998821735382\n"
     ]
    },
    {
     "name": "stderr",
     "output_type": "stream",
     "text": [
      "100%|██████████| 20/20 [00:11<00:00,  1.77it/s]/it]  \n",
      " 67%|██████▋   | 2001/3000 [52:04<1:20:01,  4.81s/it]"
     ]
    },
    {
     "name": "stdout",
     "output_type": "stream",
     "text": [
      "step = 2000: loss = -0.03834795951843262, reward = -0.1822998821735382\n"
     ]
    },
    {
     "name": "stderr",
     "output_type": "stream",
     "text": [
      "100%|██████████| 20/20 [00:11<00:00,  1.77it/s]/it]  \n",
      " 70%|███████   | 2101/3000 [54:39<1:12:04,  4.81s/it]"
     ]
    },
    {
     "name": "stdout",
     "output_type": "stream",
     "text": [
      "step = 2100: loss = 0.038611143827438354, reward = -0.1822998821735382\n"
     ]
    },
    {
     "name": "stderr",
     "output_type": "stream",
     "text": [
      "100%|██████████| 20/20 [00:11<00:00,  1.77it/s]/it]  \n",
      " 73%|███████▎  | 2201/3000 [57:13<1:04:08,  4.82s/it]"
     ]
    },
    {
     "name": "stdout",
     "output_type": "stream",
     "text": [
      "step = 2200: loss = 0.015484925359487534, reward = -0.1822998821735382\n"
     ]
    },
    {
     "name": "stderr",
     "output_type": "stream",
     "text": [
      "100%|██████████| 20/20 [00:11<00:00,  1.77it/s]/it]  \n",
      " 77%|███████▋  | 2301/3000 [59:46<55:41,  4.78s/it]"
     ]
    },
    {
     "name": "stdout",
     "output_type": "stream",
     "text": [
      "step = 2300: loss = 0.0068712797947227955, reward = -0.1822998821735382\n"
     ]
    },
    {
     "name": "stderr",
     "output_type": "stream",
     "text": [
      "100%|██████████| 20/20 [00:11<00:00,  1.78it/s]4s/it]\n",
      " 80%|████████  | 2401/3000 [1:02:20<48:12,  4.83s/it]"
     ]
    },
    {
     "name": "stdout",
     "output_type": "stream",
     "text": [
      "step = 2400: loss = -0.011624114587903023, reward = -0.1822998821735382\n"
     ]
    },
    {
     "name": "stderr",
     "output_type": "stream",
     "text": [
      "100%|██████████| 20/20 [00:11<00:00,  1.77it/s]1s/it]\n",
      " 83%|████████▎ | 2501/3000 [1:04:53<39:50,  4.79s/it]"
     ]
    },
    {
     "name": "stdout",
     "output_type": "stream",
     "text": [
      "step = 2500: loss = 0.06061023101210594, reward = -0.1822998821735382\n"
     ]
    },
    {
     "name": "stderr",
     "output_type": "stream",
     "text": [
      "100%|██████████| 20/20 [00:11<00:00,  1.77it/s]2s/it]\n",
      " 87%|████████▋ | 2601/3000 [1:07:27<31:59,  4.81s/it]"
     ]
    },
    {
     "name": "stdout",
     "output_type": "stream",
     "text": [
      "step = 2600: loss = -0.005472162738442421, reward = -0.1822998821735382\n"
     ]
    },
    {
     "name": "stderr",
     "output_type": "stream",
     "text": [
      "100%|██████████| 20/20 [00:11<00:00,  1.76it/s]2s/it]\n",
      " 90%|█████████ | 2701/3000 [1:10:00<24:03,  4.83s/it]"
     ]
    },
    {
     "name": "stdout",
     "output_type": "stream",
     "text": [
      "step = 2700: loss = 0.0006865133182145655, reward = -0.1822998821735382\n"
     ]
    },
    {
     "name": "stderr",
     "output_type": "stream",
     "text": [
      "100%|██████████| 20/20 [00:11<00:00,  1.77it/s]1s/it]\n",
      " 93%|█████████▎| 2801/3000 [1:12:35<15:55,  4.80s/it]"
     ]
    },
    {
     "name": "stdout",
     "output_type": "stream",
     "text": [
      "step = 2800: loss = 0.0014395256293937564, reward = -0.1822998821735382\n"
     ]
    },
    {
     "name": "stderr",
     "output_type": "stream",
     "text": [
      "100%|██████████| 20/20 [00:11<00:00,  1.78it/s]2s/it]\n",
      " 97%|█████████▋| 2901/3000 [1:15:08<07:56,  4.81s/it]"
     ]
    },
    {
     "name": "stdout",
     "output_type": "stream",
     "text": [
      "step = 2900: loss = 0.004877780564129353, reward = -0.1822998821735382\n"
     ]
    },
    {
     "name": "stderr",
     "output_type": "stream",
     "text": [
      "100%|██████████| 3000/3000 [1:17:28<00:00,  1.55s/it]\n",
      "100%|██████████| 50/50 [00:28<00:00,  1.77it/s]"
     ]
    },
    {
     "name": "stdout",
     "output_type": "stream",
     "text": [
      "AVG RETURN - KAFKA: -0.18229994\n"
     ]
    },
    {
     "name": "stderr",
     "output_type": "stream",
     "text": [
      "\n"
     ]
    }
   ],
   "source": [
    "# Continue to train on second\n",
    "collect_driver, replay_buffer = get_rb_and_cd(train_env_2, agent)\n",
    "loss, observations, rewards = train(\n",
    "    agent, train_env_2, train_env_2_copy, collect_driver, replay_buffer, steps = num_steps, eval_interval=100)\n",
    "\n",
    "print(\"AVG RETURN - KAFKA:\", \n",
    "      compute_avg_return_episodic(train_env_2, agent.policy, num_episodes=50))\n"
   ]
  },
  {
   "cell_type": "code",
   "execution_count": 10,
   "metadata": {},
   "outputs": [
    {
     "name": "stdout",
     "output_type": "stream",
     "text": [
      "Successfully initialized a JVM Environment!\n",
      " JDK: jdk-11.0.20.1.jdk/bin,\n",
      " Benchmark: kafka (dacapo-bench.jar),\n",
      " Number of iterations: 5,\n",
      " Goal: avgGCPause,\n",
      " Number of JVM options: 2,\n",
      " JVM options: {'MaxTenuringThreshold': {'min': 1, 'max': 16}, 'ParallelGCThreads': {'min': 4, 'max': 24}},\n",
      " Env. default state: [list([7, 12]) 0.34],\n",
      " Env. default goal value: 0.34,\n",
      "\n",
      "Successfully initialized a JVM Environment!\n",
      " JDK: jdk-11.0.20.1.jdk/bin,\n",
      " Benchmark: avrora (dacapo-bench.jar),\n",
      " Number of iterations: 5,\n",
      " Goal: avgGCPause,\n",
      " Number of JVM options: 2,\n",
      " JVM options: {'MaxTenuringThreshold': {'min': 1, 'max': 16}, 'ParallelGCThreads': {'min': 4, 'max': 24}},\n",
      " Env. default state: [list([7, 12]) 0.47],\n",
      " Env. default goal value: 0.47,\n",
      "\n",
      "Successfully initialized a JVM Environment!\n",
      " JDK: jdk-11.0.20.1.jdk/bin,\n",
      " Benchmark: kafka (dacapo-bench.jar),\n",
      " Number of iterations: 5,\n",
      " Goal: avgGCPause,\n",
      " Number of JVM options: 2,\n",
      " JVM options: {'MaxTenuringThreshold': {'min': 1, 'max': 16}, 'ParallelGCThreads': {'min': 4, 'max': 24}},\n",
      " Env. default state: [list([7, 12]) 0.34],\n",
      " Env. default goal value: 0.34,\n",
      "\n"
     ]
    },
    {
     "name": "stderr",
     "output_type": "stream",
     "text": [
      "  0%|          | 0/10000 [00:00<?, ?it/s]"
     ]
    },
    {
     "name": "stderr",
     "output_type": "stream",
     "text": [
      "100%|██████████| 10000/10000 [00:39<00:00, 253.52it/s]\n"
     ]
    }
   ],
   "source": [
    "# num_steps = 5000\n",
    "num_steps = 2000\n",
    "\n",
    "train_env_2 = get_tf_env(\"kafka\", env_args)\n",
    "\n",
    "train_env_copy = get_tf_env(\"avrora\", env_args)\n",
    "train_env_2_copy = get_tf_env(\"kafka\", env_args)\n",
    "\n",
    "dataset_iter = get_dataset_iter([train_env, train_env_2], dataset_size, agent)\n"
   ]
  },
  {
   "cell_type": "code",
   "execution_count": 11,
   "metadata": {},
   "outputs": [
    {
     "name": "stderr",
     "output_type": "stream",
     "text": [
      "100%|██████████| 20/20 [00:00<00:00, 41.36it/s]\n",
      "  0%|          | 7/2000 [00:08<28:40,  1.16it/s]  "
     ]
    },
    {
     "name": "stdout",
     "output_type": "stream",
     "text": [
      "step = 0: loss = 51.2379150390625, reward = 0.8695311546325684\n"
     ]
    },
    {
     "name": "stderr",
     "output_type": "stream",
     "text": [
      "100%|██████████| 20/20 [00:00<00:00, 127.49it/s]]\n",
      "  5%|▌         | 105/2000 [00:10<01:03, 29.61it/s]"
     ]
    },
    {
     "name": "stdout",
     "output_type": "stream",
     "text": [
      "step = 100: loss = 0.33366167545318604, reward = 1.280665636062622\n"
     ]
    },
    {
     "name": "stderr",
     "output_type": "stream",
     "text": [
      "100%|██████████| 20/20 [00:06<00:00,  3.06it/s]/s]\n",
      " 10%|█         | 204/2000 [00:20<12:04,  2.48it/s]"
     ]
    },
    {
     "name": "stdout",
     "output_type": "stream",
     "text": [
      "step = 200: loss = 0.4499567747116089, reward = -0.05940203741192818\n"
     ]
    },
    {
     "name": "stderr",
     "output_type": "stream",
     "text": [
      "100%|██████████| 20/20 [00:06<00:00,  3.06it/s]/s]\n",
      " 15%|█▌        | 307/2000 [00:29<10:35,  2.67it/s]"
     ]
    },
    {
     "name": "stdout",
     "output_type": "stream",
     "text": [
      "step = 300: loss = 0.7108945846557617, reward = -0.05940203741192818\n"
     ]
    },
    {
     "name": "stderr",
     "output_type": "stream",
     "text": [
      "100%|██████████| 20/20 [00:00<00:00, 137.44it/s]s]\n",
      " 20%|██        | 404/2000 [00:33<01:05, 24.52it/s]"
     ]
    },
    {
     "name": "stdout",
     "output_type": "stream",
     "text": [
      "step = 400: loss = 0.44231095910072327, reward = 1.2897497415542603\n"
     ]
    },
    {
     "name": "stderr",
     "output_type": "stream",
     "text": [
      "100%|██████████| 20/20 [00:06<00:00,  2.93it/s]/s]\n",
      " 25%|██▌       | 506/2000 [00:43<10:35,  2.35it/s]"
     ]
    },
    {
     "name": "stdout",
     "output_type": "stream",
     "text": [
      "step = 500: loss = 0.4197642207145691, reward = -0.05940203741192818\n"
     ]
    },
    {
     "name": "stderr",
     "output_type": "stream",
     "text": [
      "100%|██████████| 20/20 [00:06<00:00,  2.89it/s]/s]\n",
      " 30%|███       | 606/2000 [00:53<10:51,  2.14it/s]"
     ]
    },
    {
     "name": "stdout",
     "output_type": "stream",
     "text": [
      "step = 600: loss = 0.5538969039916992, reward = -0.05940203741192818\n"
     ]
    },
    {
     "name": "stderr",
     "output_type": "stream",
     "text": [
      "100%|██████████| 20/20 [00:06<00:00,  2.90it/s]/s]\n",
      " 35%|███▌      | 704/2000 [01:04<11:52,  1.82it/s]"
     ]
    },
    {
     "name": "stdout",
     "output_type": "stream",
     "text": [
      "step = 700: loss = 0.5397571921348572, reward = -0.05940203741192818\n"
     ]
    },
    {
     "name": "stderr",
     "output_type": "stream",
     "text": [
      "100%|██████████| 20/20 [00:00<00:00, 74.12it/s] s]\n",
      " 40%|████      | 806/2000 [01:07<00:58, 20.24it/s]"
     ]
    },
    {
     "name": "stdout",
     "output_type": "stream",
     "text": [
      "step = 800: loss = 0.5251133441925049, reward = 1.2897497415542603\n"
     ]
    },
    {
     "name": "stderr",
     "output_type": "stream",
     "text": [
      "100%|██████████| 20/20 [00:06<00:00,  3.06it/s]/s]\n",
      " 45%|████▌     | 904/2000 [01:17<09:35,  1.90it/s]"
     ]
    },
    {
     "name": "stdout",
     "output_type": "stream",
     "text": [
      "step = 900: loss = 0.7585784792900085, reward = -0.05940203741192818\n"
     ]
    },
    {
     "name": "stderr",
     "output_type": "stream",
     "text": [
      "100%|██████████| 20/20 [00:06<00:00,  3.03it/s]/s]\n",
      " 50%|█████     | 1007/2000 [01:27<06:17,  2.63it/s]"
     ]
    },
    {
     "name": "stdout",
     "output_type": "stream",
     "text": [
      "step = 1000: loss = 0.395091712474823, reward = 0.2897500693798065\n"
     ]
    },
    {
     "name": "stderr",
     "output_type": "stream",
     "text": [
      "100%|██████████| 20/20 [00:06<00:00,  2.93it/s]t/s]\n",
      " 55%|█████▌    | 1105/2000 [01:37<05:50,  2.56it/s]"
     ]
    },
    {
     "name": "stdout",
     "output_type": "stream",
     "text": [
      "step = 1100: loss = 0.4739944338798523, reward = -0.05940203741192818\n"
     ]
    },
    {
     "name": "stderr",
     "output_type": "stream",
     "text": [
      "100%|██████████| 20/20 [00:07<00:00,  2.84it/s]t/s]\n",
      " 60%|██████    | 1206/2000 [01:48<06:09,  2.15it/s]"
     ]
    },
    {
     "name": "stdout",
     "output_type": "stream",
     "text": [
      "step = 1200: loss = 0.6102819442749023, reward = -0.05940203741192818\n"
     ]
    },
    {
     "name": "stderr",
     "output_type": "stream",
     "text": [
      "100%|██████████| 20/20 [00:06<00:00,  2.92it/s]t/s]\n",
      " 65%|██████▌   | 1306/2000 [01:58<04:35,  2.52it/s]"
     ]
    },
    {
     "name": "stdout",
     "output_type": "stream",
     "text": [
      "step = 1300: loss = 0.5587815642356873, reward = 0.7054879665374756\n"
     ]
    },
    {
     "name": "stderr",
     "output_type": "stream",
     "text": [
      "100%|██████████| 20/20 [00:06<00:00,  3.06it/s]t/s]\n",
      " 70%|███████   | 1407/2000 [02:08<03:42,  2.66it/s]"
     ]
    },
    {
     "name": "stdout",
     "output_type": "stream",
     "text": [
      "step = 1400: loss = 0.573989987373352, reward = -0.05940203741192818\n"
     ]
    },
    {
     "name": "stderr",
     "output_type": "stream",
     "text": [
      "100%|██████████| 20/20 [00:06<00:00,  3.03it/s]t/s]\n",
      " 75%|███████▌  | 1504/2000 [02:18<03:21,  2.46it/s]"
     ]
    },
    {
     "name": "stdout",
     "output_type": "stream",
     "text": [
      "step = 1500: loss = 0.5030393600463867, reward = -0.05940203741192818\n"
     ]
    },
    {
     "name": "stderr",
     "output_type": "stream",
     "text": [
      "100%|██████████| 20/20 [00:06<00:00,  3.06it/s]t/s]\n",
      " 80%|████████  | 1605/2000 [02:28<02:28,  2.66it/s]"
     ]
    },
    {
     "name": "stdout",
     "output_type": "stream",
     "text": [
      "step = 1600: loss = 0.5913358926773071, reward = -0.05940203741192818\n"
     ]
    },
    {
     "name": "stderr",
     "output_type": "stream",
     "text": [
      "100%|██████████| 20/20 [00:06<00:00,  2.98it/s]t/s]\n",
      " 85%|████████▌ | 1704/2000 [02:37<02:38,  1.86it/s]"
     ]
    },
    {
     "name": "stdout",
     "output_type": "stream",
     "text": [
      "step = 1700: loss = 0.6082311272621155, reward = 0.2897500693798065\n"
     ]
    },
    {
     "name": "stderr",
     "output_type": "stream",
     "text": [
      "100%|██████████| 20/20 [00:06<00:00,  3.02it/s]t/s]\n",
      " 90%|█████████ | 1805/2000 [02:47<01:19,  2.45it/s]"
     ]
    },
    {
     "name": "stdout",
     "output_type": "stream",
     "text": [
      "step = 1800: loss = 0.3509940505027771, reward = -0.05940203741192818\n"
     ]
    },
    {
     "name": "stderr",
     "output_type": "stream",
     "text": [
      "100%|██████████| 20/20 [00:06<00:00,  3.05it/s]t/s]\n",
      " 95%|█████████▌| 1905/2000 [02:57<00:35,  2.65it/s]"
     ]
    },
    {
     "name": "stdout",
     "output_type": "stream",
     "text": [
      "step = 1900: loss = 0.3781909644603729, reward = -0.05940203741192818\n"
     ]
    },
    {
     "name": "stderr",
     "output_type": "stream",
     "text": [
      "100%|██████████| 2000/2000 [03:00<00:00, 11.06it/s]\n"
     ]
    }
   ],
   "source": [
    "\n",
    "loss, observations, rewards = train(\n",
    "    agent, train_env, train_env_copy, dataset_iter, steps = num_steps, eval_interval=100)"
   ]
  },
  {
   "cell_type": "code",
   "execution_count": 16,
   "metadata": {},
   "outputs": [
    {
     "name": "stderr",
     "output_type": "stream",
     "text": [
      "/Users/ellkrauze/projects/gc-ml/gc-ml-env/lib/python3.8/site-packages/tensorflow/python/saved_model/nested_structure_coder.py:475: UserWarning: Encoding a StructuredValue with type tfp.distributions.Deterministic_ACTTypeSpec; loading this StructuredValue will require that this type be imported and registered.\n",
      "  warnings.warn(\"Encoding a StructuredValue with type %s; loading this \"\n"
     ]
    }
   ],
   "source": [
    "train_checkpointer.save(global_step)\n",
    "tf_policy_saver.save(policy_dir)"
   ]
  },
  {
   "cell_type": "code",
   "execution_count": 12,
   "metadata": {},
   "outputs": [
    {
     "data": {
      "image/png": "[encoded data removed]",
      "text/plain": [
       "<Figure size 640x480 with 2 Axes>"
      ]
     },
     "metadata": {},
     "output_type": "display_data"
    }
   ],
   "source": [
    "plot_training(loss, rewards, num_steps, 100)"
   ]
  },
  {
   "cell_type": "markdown",
   "metadata": {},
   "source": [
    "### Test"
   ]
  },
  {
   "cell_type": "code",
   "execution_count": 12,
   "metadata": {},
   "outputs": [],
   "source": [
    "train_checkpointer.initialize_or_restore()\n",
    "global_step = tf.compat.v1.train.get_global_step()\n",
    "saved_policy = tf.saved_model.load(policy_dir)"
   ]
  },
  {
   "cell_type": "code",
   "execution_count": 13,
   "metadata": {},
   "outputs": [
    {
     "name": "stdout",
     "output_type": "stream",
     "text": [
      "Successfully initialized a JVM Environment!\n",
      " JDK: jdk-11.0.20.1.jdk/bin,\n",
      " Benchmark: test (dacapo-bench.jar),\n",
      " Number of iterations: 5,\n",
      " Goal: avgGCPause,\n",
      " Number of JVM options: 2,\n",
      " JVM options: {'MaxTenuringThreshold': {'min': 1, 'max': 16}, 'ParallelGCThreads': {'min': 4, 'max': 24}},\n",
      " Env. default state: [list([7, 12]) 0.57],\n",
      " Env. default goal value: 0.57,\n",
      "\n",
      "Successfully initialized a JVM Environment!\n",
      " JDK: jdk-11.0.20.1.jdk/bin,\n",
      " Benchmark: test (dacapo-bench.jar),\n",
      " Number of iterations: 5,\n",
      " Goal: avgGCPause,\n",
      " Number of JVM options: 2,\n",
      " JVM options: {'MaxTenuringThreshold': {'min': 1, 'max': 16}, 'ParallelGCThreads': {'min': 4, 'max': 24}},\n",
      " Env. default state: [list([7, 12]) 0.57],\n",
      " Env. default goal value: 0.57,\n",
      "\n"
     ]
    }
   ],
   "source": [
    "test_env = get_tf_env(\"test\", env_args)\n",
    "test_env_copy = get_tf_env(\"test\", env_args)"
   ]
  },
  {
   "cell_type": "code",
   "execution_count": 14,
   "metadata": {},
   "outputs": [
    {
     "name": "stderr",
     "output_type": "stream",
     "text": [
      "100%|██████████| 50/50 [00:16<00:00,  3.06it/s]\n"
     ]
    },
    {
     "data": {
      "text/plain": [
       "-0.122350894"
      ]
     },
     "execution_count": 14,
     "metadata": {},
     "output_type": "execute_result"
    }
   ],
   "source": [
    "compute_avg_return_episodic(test_env, agent.policy, num_episodes=50)"
   ]
  },
  {
   "cell_type": "code",
   "execution_count": 30,
   "metadata": {},
   "outputs": [
    {
     "name": "stderr",
     "output_type": "stream",
     "text": [
      "100%|██████████| 20/20 [00:06<00:00,  3.02it/s]\n",
      "  0%|          | 3/5000 [00:06<2:29:07,  1.79s/it]"
     ]
    },
    {
     "name": "stdout",
     "output_type": "stream",
     "text": [
      "step = 0: loss = -0.08275873959064484, reward = 0.15449999272823334\n"
     ]
    },
    {
     "name": "stderr",
     "output_type": "stream",
     "text": [
      "100%|██████████| 20/20 [00:06<00:00,  3.06it/s]s] \n",
      "  2%|▏         | 103/5000 [00:20<1:01:50,  1.32it/s]"
     ]
    },
    {
     "name": "stdout",
     "output_type": "stream",
     "text": [
      "step = 100: loss = 0.027595680207014084, reward = 0.15449999272823334\n"
     ]
    },
    {
     "name": "stderr",
     "output_type": "stream",
     "text": [
      "100%|██████████| 20/20 [00:06<00:00,  3.07it/s]/s]  \n",
      "  4%|▍         | 203/5000 [00:33<1:00:14,  1.33it/s]"
     ]
    },
    {
     "name": "stdout",
     "output_type": "stream",
     "text": [
      "step = 200: loss = 0.01597478985786438, reward = 0.15449999272823334\n"
     ]
    },
    {
     "name": "stderr",
     "output_type": "stream",
     "text": [
      "100%|██████████| 20/20 [00:06<00:00,  3.03it/s]/s]  \n",
      "  6%|▌         | 303/5000 [00:47<59:38,  1.31it/s]  "
     ]
    },
    {
     "name": "stdout",
     "output_type": "stream",
     "text": [
      "step = 300: loss = 0.07849355041980743, reward = 0.15449999272823334\n"
     ]
    },
    {
     "name": "stderr",
     "output_type": "stream",
     "text": [
      "100%|██████████| 20/20 [00:06<00:00,  3.05it/s]/s]\n",
      "  8%|▊         | 403/5000 [01:00<57:59,  1.32it/s]  "
     ]
    },
    {
     "name": "stdout",
     "output_type": "stream",
     "text": [
      "step = 400: loss = 0.07866153120994568, reward = 0.15449999272823334\n"
     ]
    },
    {
     "name": "stderr",
     "output_type": "stream",
     "text": [
      "100%|██████████| 20/20 [00:06<00:00,  3.06it/s]/s]\n",
      " 10%|█         | 503/5000 [01:13<56:36,  1.32it/s]  "
     ]
    },
    {
     "name": "stdout",
     "output_type": "stream",
     "text": [
      "step = 500: loss = 0.0788775384426117, reward = 0.15449999272823334\n"
     ]
    },
    {
     "name": "stderr",
     "output_type": "stream",
     "text": [
      "100%|██████████| 20/20 [00:06<00:00,  3.06it/s]/s]\n",
      " 12%|█▏        | 603/5000 [01:27<55:18,  1.33it/s]  "
     ]
    },
    {
     "name": "stdout",
     "output_type": "stream",
     "text": [
      "step = 600: loss = 0.03862088546156883, reward = 0.15449999272823334\n"
     ]
    },
    {
     "name": "stderr",
     "output_type": "stream",
     "text": [
      "100%|██████████| 20/20 [00:06<00:00,  3.03it/s]/s]\n",
      " 14%|█▍        | 703/5000 [01:40<54:29,  1.31it/s]  "
     ]
    },
    {
     "name": "stdout",
     "output_type": "stream",
     "text": [
      "step = 700: loss = 0.020812472328543663, reward = 0.15449999272823334\n"
     ]
    },
    {
     "name": "stderr",
     "output_type": "stream",
     "text": [
      "100%|██████████| 20/20 [00:06<00:00,  3.05it/s]/s]\n",
      " 16%|█▌        | 803/5000 [01:54<52:54,  1.32it/s]  "
     ]
    },
    {
     "name": "stdout",
     "output_type": "stream",
     "text": [
      "step = 800: loss = 0.030953237786889076, reward = 0.15449999272823334\n"
     ]
    },
    {
     "name": "stderr",
     "output_type": "stream",
     "text": [
      "100%|██████████| 20/20 [00:06<00:00,  3.05it/s]/s]\n",
      " 18%|█▊        | 903/5000 [02:07<51:42,  1.32it/s]  "
     ]
    },
    {
     "name": "stdout",
     "output_type": "stream",
     "text": [
      "step = 900: loss = -0.07765475660562515, reward = 0.15449999272823334\n"
     ]
    },
    {
     "name": "stderr",
     "output_type": "stream",
     "text": [
      "100%|██████████| 20/20 [00:06<00:00,  2.88it/s]/s]\n",
      " 20%|██        | 1003/5000 [02:21<53:21,  1.25it/s]  "
     ]
    },
    {
     "name": "stdout",
     "output_type": "stream",
     "text": [
      "step = 1000: loss = 0.06647924333810806, reward = 0.15449999272823334\n"
     ]
    },
    {
     "name": "stderr",
     "output_type": "stream",
     "text": [
      "100%|██████████| 20/20 [00:06<00:00,  2.98it/s]t/s]\n",
      " 22%|██▏       | 1103/5000 [02:34<50:21,  1.29it/s]  "
     ]
    },
    {
     "name": "stdout",
     "output_type": "stream",
     "text": [
      "step = 1100: loss = 0.07829032093286514, reward = 0.15449999272823334\n"
     ]
    },
    {
     "name": "stderr",
     "output_type": "stream",
     "text": [
      "100%|██████████| 20/20 [00:06<00:00,  3.08it/s]t/s]\n",
      " 24%|██▍       | 1203/5000 [02:48<47:26,  1.33it/s]  "
     ]
    },
    {
     "name": "stdout",
     "output_type": "stream",
     "text": [
      "step = 1200: loss = 0.07940496504306793, reward = 0.15449999272823334\n"
     ]
    },
    {
     "name": "stderr",
     "output_type": "stream",
     "text": [
      "100%|██████████| 20/20 [00:06<00:00,  3.09it/s]t/s]\n",
      " 26%|██▌       | 1303/5000 [03:01<45:59,  1.34it/s]  "
     ]
    },
    {
     "name": "stdout",
     "output_type": "stream",
     "text": [
      "step = 1300: loss = 0.03141622990369797, reward = 0.15449999272823334\n"
     ]
    },
    {
     "name": "stderr",
     "output_type": "stream",
     "text": [
      "100%|██████████| 20/20 [00:06<00:00,  3.09it/s]t/s]\n",
      " 28%|██▊       | 1403/5000 [03:14<44:50,  1.34it/s]  "
     ]
    },
    {
     "name": "stdout",
     "output_type": "stream",
     "text": [
      "step = 1400: loss = 0.055435724556446075, reward = 0.15449999272823334\n"
     ]
    },
    {
     "name": "stderr",
     "output_type": "stream",
     "text": [
      "100%|██████████| 20/20 [00:06<00:00,  3.10it/s]t/s]\n",
      " 30%|███       | 1503/5000 [03:27<43:22,  1.34it/s]  "
     ]
    },
    {
     "name": "stdout",
     "output_type": "stream",
     "text": [
      "step = 1500: loss = 0.06776073575019836, reward = 0.15449999272823334\n"
     ]
    },
    {
     "name": "stderr",
     "output_type": "stream",
     "text": [
      "100%|██████████| 20/20 [00:06<00:00,  3.10it/s]t/s]\n",
      " 32%|███▏      | 1603/5000 [03:41<42:07,  1.34it/s]"
     ]
    },
    {
     "name": "stdout",
     "output_type": "stream",
     "text": [
      "step = 1600: loss = 0.0697450116276741, reward = 0.15449999272823334\n"
     ]
    },
    {
     "name": "stderr",
     "output_type": "stream",
     "text": [
      "100%|██████████| 20/20 [00:06<00:00,  2.94it/s]t/s]\n",
      " 34%|███▍      | 1703/5000 [03:54<43:14,  1.27it/s]  "
     ]
    },
    {
     "name": "stdout",
     "output_type": "stream",
     "text": [
      "step = 1700: loss = 0.0339801087975502, reward = 0.15449999272823334\n"
     ]
    },
    {
     "name": "stderr",
     "output_type": "stream",
     "text": [
      "100%|██████████| 20/20 [00:06<00:00,  2.95it/s]t/s]\n",
      " 36%|███▌      | 1803/5000 [04:08<41:34,  1.28it/s]"
     ]
    },
    {
     "name": "stdout",
     "output_type": "stream",
     "text": [
      "step = 1800: loss = 0.06431885808706284, reward = 0.15449999272823334\n"
     ]
    },
    {
     "name": "stderr",
     "output_type": "stream",
     "text": [
      "100%|██████████| 20/20 [00:06<00:00,  2.86it/s]t/s]\n",
      " 38%|███▊      | 1903/5000 [04:22<41:33,  1.24it/s]"
     ]
    },
    {
     "name": "stdout",
     "output_type": "stream",
     "text": [
      "step = 1900: loss = 0.0638260543346405, reward = 0.15449999272823334\n"
     ]
    },
    {
     "name": "stderr",
     "output_type": "stream",
     "text": [
      "100%|██████████| 20/20 [00:06<00:00,  2.88it/s]t/s]\n",
      " 40%|████      | 2003/5000 [04:36<39:58,  1.25it/s]"
     ]
    },
    {
     "name": "stdout",
     "output_type": "stream",
     "text": [
      "step = 2000: loss = -0.06647807359695435, reward = 0.15449999272823334\n"
     ]
    },
    {
     "name": "stderr",
     "output_type": "stream",
     "text": [
      "100%|██████████| 20/20 [00:06<00:00,  2.97it/s]t/s]\n",
      " 42%|████▏     | 2103/5000 [04:50<37:27,  1.29it/s]"
     ]
    },
    {
     "name": "stdout",
     "output_type": "stream",
     "text": [
      "step = 2100: loss = 0.06989308446645737, reward = 0.15449999272823334\n"
     ]
    },
    {
     "name": "stderr",
     "output_type": "stream",
     "text": [
      "100%|██████████| 20/20 [00:06<00:00,  3.04it/s]t/s]\n",
      " 44%|████▍     | 2203/5000 [05:03<35:25,  1.32it/s]"
     ]
    },
    {
     "name": "stdout",
     "output_type": "stream",
     "text": [
      "step = 2200: loss = 0.07144589722156525, reward = 0.15449999272823334\n"
     ]
    },
    {
     "name": "stderr",
     "output_type": "stream",
     "text": [
      "100%|██████████| 20/20 [00:06<00:00,  3.05it/s]t/s]\n",
      " 46%|████▌     | 2303/5000 [05:16<34:00,  1.32it/s]"
     ]
    },
    {
     "name": "stdout",
     "output_type": "stream",
     "text": [
      "step = 2300: loss = 0.017992911860346794, reward = 0.15449999272823334\n"
     ]
    },
    {
     "name": "stderr",
     "output_type": "stream",
     "text": [
      "100%|██████████| 20/20 [00:06<00:00,  3.05it/s]t/s]\n",
      " 48%|████▊     | 2403/5000 [05:30<32:49,  1.32it/s]"
     ]
    },
    {
     "name": "stdout",
     "output_type": "stream",
     "text": [
      "step = 2400: loss = 0.06617488712072372, reward = 0.15449999272823334\n"
     ]
    },
    {
     "name": "stderr",
     "output_type": "stream",
     "text": [
      "100%|██████████| 20/20 [00:06<00:00,  3.05it/s]t/s]\n",
      " 50%|█████     | 2503/5000 [05:43<31:27,  1.32it/s]"
     ]
    },
    {
     "name": "stdout",
     "output_type": "stream",
     "text": [
      "step = 2500: loss = 0.06551690399646759, reward = 0.15449999272823334\n"
     ]
    },
    {
     "name": "stderr",
     "output_type": "stream",
     "text": [
      "100%|██████████| 20/20 [00:06<00:00,  3.04it/s]t/s]\n",
      " 52%|█████▏    | 2603/5000 [05:57<30:18,  1.32it/s]"
     ]
    },
    {
     "name": "stdout",
     "output_type": "stream",
     "text": [
      "step = 2600: loss = 0.06771502643823624, reward = 0.15449999272823334\n"
     ]
    },
    {
     "name": "stderr",
     "output_type": "stream",
     "text": [
      "100%|██████████| 20/20 [00:06<00:00,  2.98it/s]t/s]\n",
      " 54%|█████▍    | 2703/5000 [06:10<29:36,  1.29it/s]"
     ]
    },
    {
     "name": "stdout",
     "output_type": "stream",
     "text": [
      "step = 2700: loss = 0.01253617275506258, reward = 0.15449999272823334\n"
     ]
    },
    {
     "name": "stderr",
     "output_type": "stream",
     "text": [
      "100%|██████████| 20/20 [00:06<00:00,  3.04it/s]t/s]\n",
      " 56%|█████▌    | 2803/5000 [06:24<27:46,  1.32it/s]"
     ]
    },
    {
     "name": "stdout",
     "output_type": "stream",
     "text": [
      "step = 2800: loss = 0.0662756860256195, reward = 0.15449999272823334\n"
     ]
    },
    {
     "name": "stderr",
     "output_type": "stream",
     "text": [
      "100%|██████████| 20/20 [00:06<00:00,  3.02it/s]t/s]\n",
      " 58%|█████▊    | 2903/5000 [06:37<26:43,  1.31it/s]"
     ]
    },
    {
     "name": "stdout",
     "output_type": "stream",
     "text": [
      "step = 2900: loss = 0.06570452451705933, reward = 0.15449999272823334\n"
     ]
    },
    {
     "name": "stderr",
     "output_type": "stream",
     "text": [
      "100%|██████████| 20/20 [00:06<00:00,  3.04it/s]t/s]\n",
      " 60%|██████    | 3003/5000 [06:50<25:14,  1.32it/s]"
     ]
    },
    {
     "name": "stdout",
     "output_type": "stream",
     "text": [
      "step = 3000: loss = 0.0676717460155487, reward = 0.15449999272823334\n"
     ]
    },
    {
     "name": "stderr",
     "output_type": "stream",
     "text": [
      "100%|██████████| 20/20 [00:06<00:00,  3.06it/s]t/s]\n",
      " 62%|██████▏   | 3103/5000 [07:04<23:52,  1.32it/s]"
     ]
    },
    {
     "name": "stdout",
     "output_type": "stream",
     "text": [
      "step = 3100: loss = 0.015165931545197964, reward = 0.15449999272823334\n"
     ]
    },
    {
     "name": "stderr",
     "output_type": "stream",
     "text": [
      "100%|██████████| 20/20 [00:06<00:00,  3.06it/s]t/s]\n",
      " 64%|██████▍   | 3203/5000 [07:17<22:37,  1.32it/s]"
     ]
    },
    {
     "name": "stdout",
     "output_type": "stream",
     "text": [
      "step = 3200: loss = 0.06071428209543228, reward = 0.15449999272823334\n"
     ]
    },
    {
     "name": "stderr",
     "output_type": "stream",
     "text": [
      "100%|██████████| 20/20 [00:06<00:00,  3.04it/s]t/s]\n",
      " 66%|██████▌   | 3303/5000 [07:31<21:27,  1.32it/s]"
     ]
    },
    {
     "name": "stdout",
     "output_type": "stream",
     "text": [
      "step = 3300: loss = 0.05883081629872322, reward = 0.15449999272823334\n"
     ]
    },
    {
     "name": "stderr",
     "output_type": "stream",
     "text": [
      "100%|██████████| 20/20 [00:06<00:00,  3.05it/s]t/s]\n",
      " 68%|██████▊   | 3403/5000 [07:44<20:11,  1.32it/s]"
     ]
    },
    {
     "name": "stdout",
     "output_type": "stream",
     "text": [
      "step = 3400: loss = 0.05168354883790016, reward = 0.15449999272823334\n"
     ]
    },
    {
     "name": "stderr",
     "output_type": "stream",
     "text": [
      "100%|██████████| 20/20 [00:06<00:00,  3.06it/s]t/s]\n",
      " 70%|███████   | 3503/5000 [07:57<18:50,  1.32it/s]"
     ]
    },
    {
     "name": "stdout",
     "output_type": "stream",
     "text": [
      "step = 3500: loss = 0.017617255449295044, reward = 0.15449999272823334\n"
     ]
    },
    {
     "name": "stderr",
     "output_type": "stream",
     "text": [
      "100%|██████████| 20/20 [00:06<00:00,  3.03it/s]t/s]\n",
      " 72%|███████▏  | 3603/5000 [08:11<17:45,  1.31it/s]"
     ]
    },
    {
     "name": "stdout",
     "output_type": "stream",
     "text": [
      "step = 3600: loss = 0.054672833532094955, reward = 0.15449999272823334\n"
     ]
    },
    {
     "name": "stderr",
     "output_type": "stream",
     "text": [
      "100%|██████████| 20/20 [00:06<00:00,  3.04it/s]t/s]\n",
      " 74%|███████▍  | 3703/5000 [08:24<16:22,  1.32it/s]"
     ]
    },
    {
     "name": "stdout",
     "output_type": "stream",
     "text": [
      "step = 3700: loss = 0.07289864867925644, reward = 0.15449999272823334\n"
     ]
    },
    {
     "name": "stderr",
     "output_type": "stream",
     "text": [
      "100%|██████████| 20/20 [00:06<00:00,  3.05it/s]t/s]\n",
      " 76%|███████▌  | 3803/5000 [08:38<15:06,  1.32it/s]"
     ]
    },
    {
     "name": "stdout",
     "output_type": "stream",
     "text": [
      "step = 3800: loss = 0.06126633659005165, reward = 0.15449999272823334\n"
     ]
    },
    {
     "name": "stderr",
     "output_type": "stream",
     "text": [
      "100%|██████████| 20/20 [00:06<00:00,  3.05it/s]t/s]\n",
      " 78%|███████▊  | 3903/5000 [08:51<13:51,  1.32it/s]"
     ]
    },
    {
     "name": "stdout",
     "output_type": "stream",
     "text": [
      "step = 3900: loss = 0.012533322907984257, reward = 0.15449999272823334\n"
     ]
    },
    {
     "name": "stderr",
     "output_type": "stream",
     "text": [
      "100%|██████████| 20/20 [00:06<00:00,  3.06it/s]t/s]\n",
      " 80%|████████  | 4003/5000 [09:05<12:33,  1.32it/s]"
     ]
    },
    {
     "name": "stdout",
     "output_type": "stream",
     "text": [
      "step = 4000: loss = 0.0729455053806305, reward = 0.15449999272823334\n"
     ]
    },
    {
     "name": "stderr",
     "output_type": "stream",
     "text": [
      "100%|██████████| 20/20 [00:06<00:00,  3.03it/s]t/s]\n",
      " 82%|████████▏ | 4103/5000 [09:18<11:23,  1.31it/s]"
     ]
    },
    {
     "name": "stdout",
     "output_type": "stream",
     "text": [
      "step = 4100: loss = 0.060445066541433334, reward = 0.15449999272823334\n"
     ]
    },
    {
     "name": "stderr",
     "output_type": "stream",
     "text": [
      "100%|██████████| 20/20 [00:06<00:00,  3.06it/s]t/s]\n",
      " 84%|████████▍ | 4203/5000 [09:31<10:01,  1.33it/s]"
     ]
    },
    {
     "name": "stdout",
     "output_type": "stream",
     "text": [
      "step = 4200: loss = -0.08400257676839828, reward = 0.15449999272823334\n"
     ]
    },
    {
     "name": "stderr",
     "output_type": "stream",
     "text": [
      "100%|██████████| 20/20 [00:06<00:00,  3.04it/s]t/s]\n",
      " 86%|████████▌ | 4303/5000 [09:45<08:49,  1.32it/s]"
     ]
    },
    {
     "name": "stdout",
     "output_type": "stream",
     "text": [
      "step = 4300: loss = 0.0662526786327362, reward = 0.15449999272823334\n"
     ]
    },
    {
     "name": "stderr",
     "output_type": "stream",
     "text": [
      "100%|██████████| 20/20 [00:06<00:00,  3.06it/s]t/s]\n",
      " 88%|████████▊ | 4403/5000 [09:58<07:31,  1.32it/s]"
     ]
    },
    {
     "name": "stdout",
     "output_type": "stream",
     "text": [
      "step = 4400: loss = 0.0637577548623085, reward = 0.15449999272823334\n"
     ]
    },
    {
     "name": "stderr",
     "output_type": "stream",
     "text": [
      "100%|██████████| 20/20 [00:06<00:00,  2.87it/s]t/s]\n",
      " 90%|█████████ | 4503/5000 [10:12<06:38,  1.25it/s]"
     ]
    },
    {
     "name": "stdout",
     "output_type": "stream",
     "text": [
      "step = 4500: loss = 0.05468904227018356, reward = 0.15449999272823334\n"
     ]
    },
    {
     "name": "stderr",
     "output_type": "stream",
     "text": [
      "100%|██████████| 20/20 [00:06<00:00,  3.00it/s]t/s]\n",
      " 92%|█████████▏| 4603/5000 [10:26<05:05,  1.30it/s]"
     ]
    },
    {
     "name": "stdout",
     "output_type": "stream",
     "text": [
      "step = 4600: loss = 0.010259442031383514, reward = 0.15449999272823334\n"
     ]
    },
    {
     "name": "stderr",
     "output_type": "stream",
     "text": [
      "100%|██████████| 20/20 [00:06<00:00,  3.05it/s]t/s]\n",
      " 94%|█████████▍| 4703/5000 [10:39<03:45,  1.32it/s]"
     ]
    },
    {
     "name": "stdout",
     "output_type": "stream",
     "text": [
      "step = 4700: loss = 0.008904497139155865, reward = 0.15449999272823334\n"
     ]
    },
    {
     "name": "stderr",
     "output_type": "stream",
     "text": [
      "100%|██████████| 20/20 [00:06<00:00,  3.03it/s]t/s]\n",
      " 96%|█████████▌| 4803/5000 [10:52<02:29,  1.31it/s]"
     ]
    },
    {
     "name": "stdout",
     "output_type": "stream",
     "text": [
      "step = 4800: loss = -0.07732591032981873, reward = 0.15449999272823334\n"
     ]
    },
    {
     "name": "stderr",
     "output_type": "stream",
     "text": [
      "100%|██████████| 20/20 [00:06<00:00,  3.03it/s]t/s]\n",
      " 98%|█████████▊| 4903/5000 [11:06<01:13,  1.31it/s]"
     ]
    },
    {
     "name": "stdout",
     "output_type": "stream",
     "text": [
      "step = 4900: loss = 0.06026251241564751, reward = 0.15449999272823334\n"
     ]
    },
    {
     "name": "stderr",
     "output_type": "stream",
     "text": [
      "100%|██████████| 5000/5000 [11:12<00:00,  7.43it/s]\n"
     ]
    }
   ],
   "source": [
    "num_steps=5000\n",
    "_loss_test, _, _rewards_test = train(\n",
    "    agent, test_env, test_env, replay_buffer, collect_driver, steps = num_steps, eval_interval=100)"
   ]
  },
  {
   "cell_type": "code",
   "execution_count": 31,
   "metadata": {},
   "outputs": [
    {
     "data": {
      "image/png": "[encoded data removed]",
      "text/plain": [
       "<Figure size 640x480 with 2 Axes>"
      ]
     },
     "metadata": {},
     "output_type": "display_data"
    }
   ],
   "source": [
    "plot_training(_loss_test, _rewards_test, num_steps, 100)"
   ]
  },
  {
   "cell_type": "code",
   "execution_count": null,
   "metadata": {},
   "outputs": [],
   "source": [
    "compute_avg_return_episodic(test_env, agent.policy, num_episodes=50)"
   ]
  },
  {
   "cell_type": "markdown",
   "metadata": {},
   "source": [
    "Save to checkpoint."
   ]
  },
  {
   "cell_type": "code",
   "execution_count": null,
   "metadata": {},
   "outputs": [],
   "source": [
    "# train_checkpointer.save(global_step)"
   ]
  },
  {
   "cell_type": "markdown",
   "metadata": {},
   "source": [
    "# WandB"
   ]
  },
  {
   "cell_type": "code",
   "execution_count": 9,
   "metadata": {},
   "outputs": [
    {
     "name": "stderr",
     "output_type": "stream",
     "text": [
      "ERROR:wandb.jupyter:Failed to detect the name of this notebook, you can set it manually with the WANDB_NOTEBOOK_NAME environment variable to enable code saving.\n"
     ]
    },
    {
     "name": "stdout",
     "output_type": "stream",
     "text": [
      "Create sweep with ID: srh8mikx\n",
      "Sweep URL: https://wandb.ai/cold-machines/Reinforcement%20Learning%20%28DQN%29%20-%20JVM-GC/sweeps/srh8mikx\n"
     ]
    },
    {
     "name": "stderr",
     "output_type": "stream",
     "text": [
      "\u001b[34m\u001b[1mwandb\u001b[0m: Agent Starting Run: 86wuplng with config:\n",
      "\u001b[34m\u001b[1mwandb\u001b[0m: \tepsilon_greedy: 0.7\n",
      "\u001b[34m\u001b[1mwandb\u001b[0m: \tgamma: 0.1\n",
      "\u001b[34m\u001b[1mwandb\u001b[0m: \tlearning_rate: 0.009081865474555018\n",
      "\u001b[34m\u001b[1mwandb\u001b[0m: \ttarget_update_period: 100\n",
      "ERROR:wandb.jupyter:Failed to detect the name of this notebook, you can set it manually with the WANDB_NOTEBOOK_NAME environment variable to enable code saving.\n",
      "\u001b[34m\u001b[1mwandb\u001b[0m: Currently logged in as: \u001b[33mvaleriia-sakovskaia\u001b[0m (\u001b[33mcold-machines\u001b[0m). Use \u001b[1m`wandb login --relogin`\u001b[0m to force relogin\n"
     ]
    },
    {
     "data": {
      "text/html": [
       "Tracking run with wandb version 0.15.12"
      ],
      "text/plain": [
       "<IPython.core.display.HTML object>"
      ]
     },
     "metadata": {},
     "output_type": "display_data"
    },
    {
     "data": {
      "text/html": [
       "Run data is saved locally in <code>/home/vsakovskaya/gc-ml/wandb/run-20231031_074257-86wuplng</code>"
      ],
      "text/plain": [
       "<IPython.core.display.HTML object>"
      ]
     },
     "metadata": {},
     "output_type": "display_data"
    },
    {
     "data": {
      "text/html": [
       "Syncing run <strong><a href='https://wandb.ai/cold-machines/Reinforcement%20Learning%20%28DQN%29%20-%20JVM-GC/runs/86wuplng' target=\"_blank\">rare-sweep-1</a></strong> to <a href='https://wandb.ai/cold-machines/Reinforcement%20Learning%20%28DQN%29%20-%20JVM-GC' target=\"_blank\">Weights & Biases</a> (<a href='https://wandb.me/run' target=\"_blank\">docs</a>)<br/>Sweep page: <a href='https://wandb.ai/cold-machines/Reinforcement%20Learning%20%28DQN%29%20-%20JVM-GC/sweeps/srh8mikx' target=\"_blank\">https://wandb.ai/cold-machines/Reinforcement%20Learning%20%28DQN%29%20-%20JVM-GC/sweeps/srh8mikx</a>"
      ],
      "text/plain": [
       "<IPython.core.display.HTML object>"
      ]
     },
     "metadata": {},
     "output_type": "display_data"
    },
    {
     "data": {
      "text/html": [
       " View project at <a href='https://wandb.ai/cold-machines/Reinforcement%20Learning%20%28DQN%29%20-%20JVM-GC' target=\"_blank\">https://wandb.ai/cold-machines/Reinforcement%20Learning%20%28DQN%29%20-%20JVM-GC</a>"
      ],
      "text/plain": [
       "<IPython.core.display.HTML object>"
      ]
     },
     "metadata": {},
     "output_type": "display_data"
    },
    {
     "data": {
      "text/html": [
       " View sweep at <a href='https://wandb.ai/cold-machines/Reinforcement%20Learning%20%28DQN%29%20-%20JVM-GC/sweeps/srh8mikx' target=\"_blank\">https://wandb.ai/cold-machines/Reinforcement%20Learning%20%28DQN%29%20-%20JVM-GC/sweeps/srh8mikx</a>"
      ],
      "text/plain": [
       "<IPython.core.display.HTML object>"
      ]
     },
     "metadata": {},
     "output_type": "display_data"
    },
    {
     "data": {
      "text/html": [
       " View run at <a href='https://wandb.ai/cold-machines/Reinforcement%20Learning%20%28DQN%29%20-%20JVM-GC/runs/86wuplng' target=\"_blank\">https://wandb.ai/cold-machines/Reinforcement%20Learning%20%28DQN%29%20-%20JVM-GC/runs/86wuplng</a>"
      ],
      "text/plain": [
       "<IPython.core.display.HTML object>"
      ]
     },
     "metadata": {},
     "output_type": "display_data"
    },
    {
     "name": "stderr",
     "output_type": "stream",
     "text": [
      "100%|██████████| 50/50 [00:00<00:00, 149.90it/s]\n",
      "  0%|          | 0/5000 [00:00<?, ?it/s]"
     ]
    },
    {
     "name": "stdout",
     "output_type": "stream",
     "text": [
      "WARNING:tensorflow:From /home/vsakovskaya/my-env/lib/python3.9/site-packages/tensorflow/python/util/dispatch.py:1176: calling foldr_v2 (from tensorflow.python.ops.functional_ops) with back_prop=False is deprecated and will be removed in a future version.\n",
      "Instructions for updating:\n",
      "back_prop=False is deprecated. Consider using tf.stop_gradient instead.\n",
      "Instead of:\n",
      "results = tf.foldr(fn, elems, back_prop=False)\n",
      "Use:\n",
      "results = tf.nest.map_structure(tf.stop_gradient, tf.foldr(fn, elems))\n"
     ]
    },
    {
     "name": "stderr",
     "output_type": "stream",
     "text": [
      "WARNING:tensorflow:From /home/vsakovskaya/my-env/lib/python3.9/site-packages/tensorflow/python/util/dispatch.py:1176: calling foldr_v2 (from tensorflow.python.ops.functional_ops) with back_prop=False is deprecated and will be removed in a future version.\n",
      "Instructions for updating:\n",
      "back_prop=False is deprecated. Consider using tf.stop_gradient instead.\n",
      "Instead of:\n",
      "results = tf.foldr(fn, elems, back_prop=False)\n",
      "Use:\n",
      "results = tf.nest.map_structure(tf.stop_gradient, tf.foldr(fn, elems))\n",
      "100%|██████████| 50/50 [00:00<00:00, 138.65it/s]] \n",
      "  2%|▏         | 101/5000 [00:16<18:44,  4.36it/s]"
     ]
    },
    {
     "name": "stdout",
     "output_type": "stream",
     "text": [
      "step = 100: loss = 0.051988594233989716, reward = -0.05968308076262474\n"
     ]
    },
    {
     "name": "stderr",
     "output_type": "stream",
     "text": [
      "100%|██████████| 50/50 [00:00<00:00, 142.71it/s]s]\n",
      "  4%|▍         | 201/5000 [00:32<17:56,  4.46it/s]"
     ]
    },
    {
     "name": "stdout",
     "output_type": "stream",
     "text": [
      "step = 200: loss = 0.04959993064403534, reward = -0.05968308076262474\n"
     ]
    },
    {
     "name": "stderr",
     "output_type": "stream",
     "text": [
      "100%|██████████| 50/50 [00:00<00:00, 150.07it/s]s]\n",
      "  6%|▌         | 301/5000 [00:48<17:17,  4.53it/s]"
     ]
    },
    {
     "name": "stdout",
     "output_type": "stream",
     "text": [
      "step = 300: loss = 0.05310416966676712, reward = -0.05968308076262474\n"
     ]
    },
    {
     "name": "stderr",
     "output_type": "stream",
     "text": [
      "100%|██████████| 50/50 [00:00<00:00, 149.06it/s]s]\n",
      "  8%|▊         | 401/5000 [01:04<21:05,  3.64it/s]"
     ]
    },
    {
     "name": "stdout",
     "output_type": "stream",
     "text": [
      "step = 400: loss = 0.07190939784049988, reward = -0.05968308076262474\n"
     ]
    },
    {
     "name": "stderr",
     "output_type": "stream",
     "text": [
      "100%|██████████| 50/50 [00:00<00:00, 149.21it/s]s]\n",
      " 10%|█         | 501/5000 [01:20<16:40,  4.50it/s]"
     ]
    },
    {
     "name": "stdout",
     "output_type": "stream",
     "text": [
      "step = 500: loss = 0.06140190362930298, reward = -0.05968308076262474\n"
     ]
    },
    {
     "name": "stderr",
     "output_type": "stream",
     "text": [
      "100%|██████████| 50/50 [00:00<00:00, 145.06it/s]s]\n",
      " 12%|█▏        | 601/5000 [01:36<16:26,  4.46it/s]"
     ]
    },
    {
     "name": "stdout",
     "output_type": "stream",
     "text": [
      "step = 600: loss = 0.07814410328865051, reward = -0.05968308076262474\n"
     ]
    },
    {
     "name": "stderr",
     "output_type": "stream",
     "text": [
      "100%|██████████| 50/50 [00:00<00:00, 142.03it/s]s]\n",
      " 14%|█▍        | 701/5000 [01:53<16:30,  4.34it/s]"
     ]
    },
    {
     "name": "stdout",
     "output_type": "stream",
     "text": [
      "step = 700: loss = 0.05395403504371643, reward = -0.05968308076262474\n"
     ]
    },
    {
     "name": "stderr",
     "output_type": "stream",
     "text": [
      "100%|██████████| 50/50 [00:00<00:00, 148.61it/s]s]\n",
      " 16%|█▌        | 801/5000 [02:08<15:39,  4.47it/s]"
     ]
    },
    {
     "name": "stdout",
     "output_type": "stream",
     "text": [
      "step = 800: loss = 0.05778862535953522, reward = -0.05968308076262474\n"
     ]
    },
    {
     "name": "stderr",
     "output_type": "stream",
     "text": [
      "100%|██████████| 50/50 [00:00<00:00, 149.60it/s]s]\n",
      " 18%|█▊        | 901/5000 [02:25<14:59,  4.56it/s]"
     ]
    },
    {
     "name": "stdout",
     "output_type": "stream",
     "text": [
      "step = 900: loss = 0.05692460760474205, reward = -0.05968308076262474\n"
     ]
    },
    {
     "name": "stderr",
     "output_type": "stream",
     "text": [
      "100%|██████████| 50/50 [00:00<00:00, 148.17it/s]s]\n",
      " 20%|██        | 1001/5000 [02:41<15:17,  4.36it/s]"
     ]
    },
    {
     "name": "stdout",
     "output_type": "stream",
     "text": [
      "step = 1000: loss = 0.059485163539648056, reward = -0.05968308076262474\n"
     ]
    },
    {
     "name": "stderr",
     "output_type": "stream",
     "text": [
      "100%|██████████| 50/50 [00:00<00:00, 144.85it/s]/s]\n",
      " 22%|██▏       | 1101/5000 [02:57<14:36,  4.45it/s]"
     ]
    },
    {
     "name": "stdout",
     "output_type": "stream",
     "text": [
      "step = 1100: loss = 0.07164233177900314, reward = -0.05968308076262474\n"
     ]
    },
    {
     "name": "stderr",
     "output_type": "stream",
     "text": [
      "100%|██████████| 50/50 [00:00<00:00, 139.96it/s]/s]\n",
      " 24%|██▍       | 1201/5000 [03:14<14:20,  4.41it/s]"
     ]
    },
    {
     "name": "stdout",
     "output_type": "stream",
     "text": [
      "step = 1200: loss = 0.04963871091604233, reward = -0.05968308076262474\n"
     ]
    },
    {
     "name": "stderr",
     "output_type": "stream",
     "text": [
      "100%|██████████| 50/50 [00:00<00:00, 151.36it/s]/s]\n",
      " 26%|██▌       | 1301/5000 [03:30<14:23,  4.28it/s]"
     ]
    },
    {
     "name": "stdout",
     "output_type": "stream",
     "text": [
      "step = 1300: loss = 0.05595877766609192, reward = -0.05968308076262474\n"
     ]
    },
    {
     "name": "stderr",
     "output_type": "stream",
     "text": [
      "100%|██████████| 50/50 [00:00<00:00, 146.66it/s]/s]\n",
      " 28%|██▊       | 1401/5000 [03:46<13:25,  4.47it/s]"
     ]
    },
    {
     "name": "stdout",
     "output_type": "stream",
     "text": [
      "step = 1400: loss = 0.05879542976617813, reward = -0.05968308076262474\n"
     ]
    },
    {
     "name": "stderr",
     "output_type": "stream",
     "text": [
      "100%|██████████| 50/50 [00:00<00:00, 149.67it/s]/s]\n",
      " 30%|███       | 1501/5000 [04:02<12:52,  4.53it/s]"
     ]
    },
    {
     "name": "stdout",
     "output_type": "stream",
     "text": [
      "step = 1500: loss = 0.06716286391019821, reward = -0.05968308076262474\n"
     ]
    },
    {
     "name": "stderr",
     "output_type": "stream",
     "text": [
      "100%|██████████| 50/50 [00:00<00:00, 131.84it/s]/s]\n",
      " 32%|███▏      | 1601/5000 [04:18<13:14,  4.28it/s]"
     ]
    },
    {
     "name": "stdout",
     "output_type": "stream",
     "text": [
      "step = 1600: loss = 0.05800986662507057, reward = -0.05968308076262474\n"
     ]
    },
    {
     "name": "stderr",
     "output_type": "stream",
     "text": [
      "100%|██████████| 50/50 [00:00<00:00, 145.37it/s]/s]\n",
      " 34%|███▍      | 1701/5000 [04:35<12:29,  4.40it/s]"
     ]
    },
    {
     "name": "stdout",
     "output_type": "stream",
     "text": [
      "step = 1700: loss = 0.06368903815746307, reward = -0.05968308076262474\n"
     ]
    },
    {
     "name": "stderr",
     "output_type": "stream",
     "text": [
      "100%|██████████| 50/50 [00:00<00:00, 139.72it/s]/s]\n",
      " 36%|███▌      | 1801/5000 [04:51<12:38,  4.22it/s]"
     ]
    },
    {
     "name": "stdout",
     "output_type": "stream",
     "text": [
      "step = 1800: loss = 0.05840213596820831, reward = -0.05968308076262474\n"
     ]
    },
    {
     "name": "stderr",
     "output_type": "stream",
     "text": [
      "100%|██████████| 50/50 [00:00<00:00, 144.50it/s]/s]\n",
      " 38%|███▊      | 1901/5000 [05:07<11:47,  4.38it/s]"
     ]
    },
    {
     "name": "stdout",
     "output_type": "stream",
     "text": [
      "step = 1900: loss = 0.06790091097354889, reward = -0.05968308076262474\n"
     ]
    },
    {
     "name": "stderr",
     "output_type": "stream",
     "text": [
      "100%|██████████| 50/50 [00:00<00:00, 148.98it/s]/s]\n",
      " 40%|████      | 2001/5000 [05:24<11:03,  4.52it/s]"
     ]
    },
    {
     "name": "stdout",
     "output_type": "stream",
     "text": [
      "step = 2000: loss = 0.05456307530403137, reward = -0.05968308076262474\n"
     ]
    },
    {
     "name": "stderr",
     "output_type": "stream",
     "text": [
      "100%|██████████| 50/50 [00:00<00:00, 147.69it/s]/s]\n",
      " 42%|████▏     | 2101/5000 [05:39<10:43,  4.51it/s]"
     ]
    },
    {
     "name": "stdout",
     "output_type": "stream",
     "text": [
      "step = 2100: loss = 0.05199477821588516, reward = -0.05968308076262474\n"
     ]
    },
    {
     "name": "stderr",
     "output_type": "stream",
     "text": [
      "100%|██████████| 50/50 [00:00<00:00, 146.01it/s]/s]\n",
      " 44%|████▍     | 2201/5000 [05:56<10:51,  4.30it/s]"
     ]
    },
    {
     "name": "stdout",
     "output_type": "stream",
     "text": [
      "step = 2200: loss = 0.046316057443618774, reward = -0.05968308076262474\n"
     ]
    },
    {
     "name": "stderr",
     "output_type": "stream",
     "text": [
      "100%|██████████| 50/50 [00:00<00:00, 151.46it/s]/s]\n",
      " 46%|████▌     | 2301/5000 [06:12<09:51,  4.56it/s]"
     ]
    },
    {
     "name": "stdout",
     "output_type": "stream",
     "text": [
      "step = 2300: loss = 0.0451720654964447, reward = -0.05968308076262474\n"
     ]
    },
    {
     "name": "stderr",
     "output_type": "stream",
     "text": [
      "100%|██████████| 50/50 [00:00<00:00, 139.11it/s]/s]\n",
      " 48%|████▊     | 2401/5000 [06:28<09:59,  4.34it/s]"
     ]
    },
    {
     "name": "stdout",
     "output_type": "stream",
     "text": [
      "step = 2400: loss = 0.05063679814338684, reward = -0.05968308076262474\n"
     ]
    },
    {
     "name": "stderr",
     "output_type": "stream",
     "text": [
      "100%|██████████| 50/50 [00:00<00:00, 149.10it/s]/s]\n",
      " 50%|█████     | 2501/5000 [06:44<09:13,  4.51it/s]"
     ]
    },
    {
     "name": "stdout",
     "output_type": "stream",
     "text": [
      "step = 2500: loss = 0.05682305246591568, reward = -0.05968308076262474\n"
     ]
    },
    {
     "name": "stderr",
     "output_type": "stream",
     "text": [
      "100%|██████████| 50/50 [00:00<00:00, 151.48it/s]/s]\n",
      " 52%|█████▏    | 2601/5000 [07:01<08:57,  4.46it/s]"
     ]
    },
    {
     "name": "stdout",
     "output_type": "stream",
     "text": [
      "step = 2600: loss = 0.057316817343235016, reward = -0.05968308076262474\n"
     ]
    },
    {
     "name": "stderr",
     "output_type": "stream",
     "text": [
      "100%|██████████| 50/50 [00:00<00:00, 148.48it/s]/s]\n",
      " 54%|█████▍    | 2701/5000 [07:17<08:40,  4.42it/s]"
     ]
    },
    {
     "name": "stdout",
     "output_type": "stream",
     "text": [
      "step = 2700: loss = 0.06233186647295952, reward = -0.05968308076262474\n"
     ]
    },
    {
     "name": "stderr",
     "output_type": "stream",
     "text": [
      "100%|██████████| 50/50 [00:00<00:00, 147.44it/s]/s]\n",
      " 56%|█████▌    | 2801/5000 [07:34<08:08,  4.50it/s]"
     ]
    },
    {
     "name": "stdout",
     "output_type": "stream",
     "text": [
      "step = 2800: loss = 0.030263567343354225, reward = -0.05968308076262474\n"
     ]
    },
    {
     "name": "stderr",
     "output_type": "stream",
     "text": [
      "100%|██████████| 50/50 [00:00<00:00, 150.17it/s]/s]\n",
      " 58%|█████▊    | 2901/5000 [07:49<07:45,  4.51it/s]"
     ]
    },
    {
     "name": "stdout",
     "output_type": "stream",
     "text": [
      "step = 2900: loss = 0.12275780737400055, reward = -0.05968308076262474\n"
     ]
    },
    {
     "name": "stderr",
     "output_type": "stream",
     "text": [
      "100%|██████████| 50/50 [00:00<00:00, 145.94it/s]/s]\n",
      " 60%|██████    | 3001/5000 [08:06<07:35,  4.39it/s]"
     ]
    },
    {
     "name": "stdout",
     "output_type": "stream",
     "text": [
      "step = 3000: loss = 0.0640171468257904, reward = -0.05968308076262474\n"
     ]
    },
    {
     "name": "stderr",
     "output_type": "stream",
     "text": [
      "100%|██████████| 50/50 [00:00<00:00, 145.29it/s]/s]\n",
      " 62%|██████▏   | 3101/5000 [08:22<07:06,  4.45it/s]"
     ]
    },
    {
     "name": "stdout",
     "output_type": "stream",
     "text": [
      "step = 3100: loss = 0.06743437051773071, reward = -0.05968308076262474\n"
     ]
    },
    {
     "name": "stderr",
     "output_type": "stream",
     "text": [
      "100%|██████████| 50/50 [00:00<00:00, 142.10it/s]/s]\n",
      " 64%|██████▍   | 3201/5000 [08:39<07:00,  4.27it/s]"
     ]
    },
    {
     "name": "stdout",
     "output_type": "stream",
     "text": [
      "step = 3200: loss = 0.07279805094003677, reward = -0.05968308076262474\n"
     ]
    },
    {
     "name": "stderr",
     "output_type": "stream",
     "text": [
      "100%|██████████| 50/50 [00:00<00:00, 145.21it/s]/s]\n",
      " 66%|██████▌   | 3301/5000 [08:55<06:22,  4.45it/s]"
     ]
    },
    {
     "name": "stdout",
     "output_type": "stream",
     "text": [
      "step = 3300: loss = 0.03942070156335831, reward = -0.05968308076262474\n"
     ]
    },
    {
     "name": "stderr",
     "output_type": "stream",
     "text": [
      "100%|██████████| 50/50 [00:00<00:00, 148.63it/s]/s]\n",
      " 68%|██████▊   | 3401/5000 [09:12<06:25,  4.14it/s]"
     ]
    },
    {
     "name": "stdout",
     "output_type": "stream",
     "text": [
      "step = 3400: loss = 0.06413926929235458, reward = -0.05968308076262474\n"
     ]
    },
    {
     "name": "stderr",
     "output_type": "stream",
     "text": [
      "100%|██████████| 50/50 [00:00<00:00, 138.84it/s]/s]\n",
      " 70%|███████   | 3501/5000 [09:27<05:42,  4.38it/s]"
     ]
    },
    {
     "name": "stdout",
     "output_type": "stream",
     "text": [
      "step = 3500: loss = 0.04303019493818283, reward = -0.05968308076262474\n"
     ]
    },
    {
     "name": "stderr",
     "output_type": "stream",
     "text": [
      "100%|██████████| 50/50 [00:00<00:00, 151.39it/s]/s]\n",
      " 72%|███████▏  | 3601/5000 [09:43<05:13,  4.46it/s]"
     ]
    },
    {
     "name": "stdout",
     "output_type": "stream",
     "text": [
      "step = 3600: loss = 0.0326034352183342, reward = -0.05968308076262474\n"
     ]
    },
    {
     "name": "stderr",
     "output_type": "stream",
     "text": [
      "100%|██████████| 50/50 [00:00<00:00, 145.81it/s]/s]\n",
      " 74%|███████▍  | 3701/5000 [10:00<04:56,  4.38it/s]"
     ]
    },
    {
     "name": "stdout",
     "output_type": "stream",
     "text": [
      "step = 3700: loss = 0.06070145219564438, reward = -0.05968308076262474\n"
     ]
    },
    {
     "name": "stderr",
     "output_type": "stream",
     "text": [
      "100%|██████████| 50/50 [00:00<00:00, 147.19it/s]/s]\n",
      " 76%|███████▌  | 3801/5000 [10:16<04:34,  4.37it/s]"
     ]
    },
    {
     "name": "stdout",
     "output_type": "stream",
     "text": [
      "step = 3800: loss = 0.05568353831768036, reward = -0.05968308076262474\n"
     ]
    },
    {
     "name": "stderr",
     "output_type": "stream",
     "text": [
      "100%|██████████| 50/50 [00:00<00:00, 145.26it/s]/s]\n",
      " 78%|███████▊  | 3901/5000 [10:33<04:09,  4.40it/s]"
     ]
    },
    {
     "name": "stdout",
     "output_type": "stream",
     "text": [
      "step = 3900: loss = 0.0671439915895462, reward = -0.05968308076262474\n"
     ]
    },
    {
     "name": "stderr",
     "output_type": "stream",
     "text": [
      "100%|██████████| 50/50 [00:00<00:00, 146.18it/s]/s]\n",
      " 80%|████████  | 4001/5000 [10:49<03:42,  4.49it/s]"
     ]
    },
    {
     "name": "stdout",
     "output_type": "stream",
     "text": [
      "step = 4000: loss = 0.07973361760377884, reward = -0.05968308076262474\n"
     ]
    },
    {
     "name": "stderr",
     "output_type": "stream",
     "text": [
      "100%|██████████| 50/50 [00:00<00:00, 147.49it/s]/s]\n",
      " 82%|████████▏ | 4101/5000 [11:06<03:38,  4.11it/s]"
     ]
    },
    {
     "name": "stdout",
     "output_type": "stream",
     "text": [
      "step = 4100: loss = 0.05744113028049469, reward = -0.05968308076262474\n"
     ]
    },
    {
     "name": "stderr",
     "output_type": "stream",
     "text": [
      "100%|██████████| 50/50 [00:00<00:00, 145.54it/s]/s]\n",
      " 84%|████████▍ | 4201/5000 [11:22<03:00,  4.44it/s]"
     ]
    },
    {
     "name": "stdout",
     "output_type": "stream",
     "text": [
      "step = 4200: loss = 0.04437218979001045, reward = -0.05968308076262474\n"
     ]
    },
    {
     "name": "stderr",
     "output_type": "stream",
     "text": [
      "100%|██████████| 50/50 [00:00<00:00, 149.76it/s]/s]\n",
      " 86%|████████▌ | 4301/5000 [11:37<02:34,  4.51it/s]"
     ]
    },
    {
     "name": "stdout",
     "output_type": "stream",
     "text": [
      "step = 4300: loss = 0.06655722111463547, reward = -0.05968308076262474\n"
     ]
    },
    {
     "name": "stderr",
     "output_type": "stream",
     "text": [
      "100%|██████████| 50/50 [00:00<00:00, 149.96it/s]/s]\n",
      " 88%|████████▊ | 4401/5000 [11:55<02:13,  4.49it/s]"
     ]
    },
    {
     "name": "stdout",
     "output_type": "stream",
     "text": [
      "step = 4400: loss = 0.054657574743032455, reward = -0.05968308076262474\n"
     ]
    },
    {
     "name": "stderr",
     "output_type": "stream",
     "text": [
      "100%|██████████| 50/50 [00:00<00:00, 150.15it/s]/s]\n",
      " 90%|█████████ | 4501/5000 [12:10<01:51,  4.49it/s]"
     ]
    },
    {
     "name": "stdout",
     "output_type": "stream",
     "text": [
      "step = 4500: loss = 0.05559392273426056, reward = -0.05968308076262474\n"
     ]
    },
    {
     "name": "stderr",
     "output_type": "stream",
     "text": [
      "100%|██████████| 50/50 [00:00<00:00, 151.40it/s]/s]\n",
      " 92%|█████████▏| 4601/5000 [12:27<01:32,  4.31it/s]"
     ]
    },
    {
     "name": "stdout",
     "output_type": "stream",
     "text": [
      "step = 4600: loss = 0.062225304543972015, reward = -0.05968308076262474\n"
     ]
    },
    {
     "name": "stderr",
     "output_type": "stream",
     "text": [
      " 94%|█████████▎| 4678/5000 [12:39<00:49,  6.51it/s]"
     ]
    }
   ],
   "source": [
    "# Set this to True when you want to run hyperparameter tuning\n",
    "hyperparameter_tuning = True\n",
    "\n",
    "def main():\n",
    "    run = wandb.init(config = config)\n",
    "    \n",
    "    agent_args = {\n",
    "        \"q_network\":            get_q_net(action_spec, fc_layer_params),\n",
    "        \"optimizer\":            tf.compat.v1.train.AdamOptimizer(\n",
    "                                    learning_rate=run.config.learning_rate),\n",
    "        \"n_step_update\":        n_step_update, \n",
    "        \"td_errors_loss_fn\":    tf.keras.losses.MeanSquaredError(),\n",
    "        \"epsilon_greedy\":       run.config.epsilon_greedy,\n",
    "        \"target_update_period\": run.config.target_update_period,\n",
    "        \"gamma\":                run.config.gamma,\n",
    "        \"gradient_clipping\":    1,\n",
    "        \"train_step_counter\":   tf.compat.v1.train.get_or_create_global_step(),\n",
    "    }\n",
    "        \n",
    "    _agent = dqn_agent.DqnAgent(\n",
    "        time_step_spec,\n",
    "        action_spec,\n",
    "        **agent_args\n",
    "    )\n",
    "\n",
    "    loss, _, rewards = train(_agent, train_env, train_env_copy, steps = 5000, use_wandb = True)\n",
    "    \n",
    "    wandb.log({'avg_loss': np.mean(loss), 'avg_reward': np.mean(rewards)})\n",
    "\n",
    "    del _agent\n",
    "    return\n",
    "\n",
    "# Define sweep config\n",
    "sweep_configuration = {\n",
    "    'method': 'random',\n",
    "    'name': 'rl_greed',\n",
    "    \"metric\": {\n",
    "        \"name\" : \"avg_reward\",\n",
    "        \"goal\": \"maximize\"\n",
    "    },\n",
    "    \"parameters\" : {\n",
    "        \"learning_rate\": {\n",
    "            \"min\": 0.0001,\n",
    "            \"max\": 0.01\n",
    "        },\n",
    "        \"epsilon_greedy\": {'values': [0.1, 0.3, 0.5, 0.7, 0.9]},\n",
    "        \"target_update_period\": {'values': [1, 10, 100, 1000, 10000]},\n",
    "        \"gamma\": {'values': [0.1, 0.3, 0.5, 0.7, 0.9]},\n",
    "    },\n",
    "    'run_cap' : 32\n",
    "}\n",
    "\n",
    "if hyperparameter_tuning:\n",
    "    ! export WANDB_NOTEBOOK_NAME=\"main.ipynb\"\n",
    "    # Initialize sweep by passing in config. (Optional) Provide a name of the project.\n",
    "    sweep_id = wandb.sweep(sweep=sweep_configuration, project=PROJECT_NAME,)\n",
    "\n",
    "    # Start sweep job.\n",
    "    wandb.agent(sweep_id, function=main)"
   ]
  },
  {
   "cell_type": "markdown",
   "metadata": {},
   "source": [
    "### Restore checkpoint"
   ]
  },
  {
   "cell_type": "code",
   "execution_count": null,
   "metadata": {},
   "outputs": [],
   "source": [
    "def test(policy, test_env, num_episodes: int=10000):\n",
    "    rewards = []\n",
    "    log_interval = 100\n",
    "    time_step = test_env.reset()\n",
    "    total_return = 0.0\n",
    "    for i in tqdm(range(10000)):\n",
    "        policy_state = policy.action(time_step)\n",
    "        time_step = test_env.step(policy_state.action)\n",
    "        reward = time_step.reward.numpy()[0]\n",
    "        total_return += reward # Calculate a sum of rewards\n",
    "\n",
    "        if i % log_interval == 0:\n",
    "            # avg_return = compute_avg_return(train_env_copy, agent.policy, 10)\n",
    "            avg_return = total_return / eval_interval\n",
    "            print('step = {0}: Average reward = {1:.5f}'.format(step, avg_return))\n",
    "            rewards.append(avg_return)\n",
    "            total_return = 0.0 # reset\n",
    "    return rewards\n",
    "\n",
    "# test(agent.policy, test_env)"
   ]
  },
  {
   "cell_type": "markdown",
   "metadata": {},
   "source": [
    "# Episodic Memory"
   ]
  },
  {
   "cell_type": "code",
   "execution_count": 70,
   "metadata": {},
   "outputs": [],
   "source": [
    "from util import episodic_memory\n",
    "from sklearn.mixture import GaussianMixture\n",
    "\n",
    "def embedding_similarity(x1, x2):\n",
    "    assert x1.shape[0] == x2.shape[0]\n",
    "    epsilon = 1e-6\n",
    "\n",
    "    # Inner product between the embeddings in x1\n",
    "    # and the embeddings in x2.\n",
    "    s = np.sum(x1 * x2, axis=-1)\n",
    "\n",
    "    s = s / (np.linalg.norm(x1, axis=-1) * np.linalg.norm(x2, axis=-1) + epsilon)\n",
    "    return 0.5 * (s + 1.0)\n"
   ]
  },
  {
   "cell_type": "code",
   "execution_count": 66,
   "metadata": {},
   "outputs": [],
   "source": [
    "observations = replay_buffer.gather_all()[1].numpy().squeeze()\n",
    "actions = replay_buffer.gather_all()[2].numpy().squeeze()\n",
    "size = 15\n",
    "\n",
    "memory_buffer = np.array([[*observations[i], actions[i]] for i in range(size)])"
   ]
  },
  {
   "cell_type": "code",
   "execution_count": 82,
   "metadata": {},
   "outputs": [
    {
     "data": {
      "text/plain": [
       "(15, 3)"
      ]
     },
     "execution_count": 82,
     "metadata": {},
     "output_type": "execute_result"
    }
   ],
   "source": [
    "memory_buffer.squeeze().shape"
   ]
  },
  {
   "cell_type": "code",
   "execution_count": 76,
   "metadata": {},
   "outputs": [],
   "source": [
    "gm = GaussianMixture(n_components=memory_buffer.shape[1])"
   ]
  },
  {
   "cell_type": "code",
   "execution_count": 77,
   "metadata": {},
   "outputs": [
    {
     "data": {
      "text/html": [
       "<style>#sk-container-id-1 {color: black;}#sk-container-id-1 pre{padding: 0;}#sk-container-id-1 div.sk-toggleable {background-color: white;}#sk-container-id-1 label.sk-toggleable__label {cursor: pointer;display: block;width: 100%;margin-bottom: 0;padding: 0.3em;box-sizing: border-box;text-align: center;}#sk-container-id-1 label.sk-toggleable__label-arrow:before {content: \"▸\";float: left;margin-right: 0.25em;color: #696969;}#sk-container-id-1 label.sk-toggleable__label-arrow:hover:before {color: black;}#sk-container-id-1 div.sk-estimator:hover label.sk-toggleable__label-arrow:before {color: black;}#sk-container-id-1 div.sk-toggleable__content {max-height: 0;max-width: 0;overflow: hidden;text-align: left;background-color: #f0f8ff;}#sk-container-id-1 div.sk-toggleable__content pre {margin: 0.2em;color: black;border-radius: 0.25em;background-color: #f0f8ff;}#sk-container-id-1 input.sk-toggleable__control:checked~div.sk-toggleable__content {max-height: 200px;max-width: 100%;overflow: auto;}#sk-container-id-1 input.sk-toggleable__control:checked~label.sk-toggleable__label-arrow:before {content: \"▾\";}#sk-container-id-1 div.sk-estimator input.sk-toggleable__control:checked~label.sk-toggleable__label {background-color: #d4ebff;}#sk-container-id-1 div.sk-label input.sk-toggleable__control:checked~label.sk-toggleable__label {background-color: #d4ebff;}#sk-container-id-1 input.sk-hidden--visually {border: 0;clip: rect(1px 1px 1px 1px);clip: rect(1px, 1px, 1px, 1px);height: 1px;margin: -1px;overflow: hidden;padding: 0;position: absolute;width: 1px;}#sk-container-id-1 div.sk-estimator {font-family: monospace;background-color: #f0f8ff;border: 1px dotted black;border-radius: 0.25em;box-sizing: border-box;margin-bottom: 0.5em;}#sk-container-id-1 div.sk-estimator:hover {background-color: #d4ebff;}#sk-container-id-1 div.sk-parallel-item::after {content: \"\";width: 100%;border-bottom: 1px solid gray;flex-grow: 1;}#sk-container-id-1 div.sk-label:hover label.sk-toggleable__label {background-color: #d4ebff;}#sk-container-id-1 div.sk-serial::before {content: \"\";position: absolute;border-left: 1px solid gray;box-sizing: border-box;top: 0;bottom: 0;left: 50%;z-index: 0;}#sk-container-id-1 div.sk-serial {display: flex;flex-direction: column;align-items: center;background-color: white;padding-right: 0.2em;padding-left: 0.2em;position: relative;}#sk-container-id-1 div.sk-item {position: relative;z-index: 1;}#sk-container-id-1 div.sk-parallel {display: flex;align-items: stretch;justify-content: center;background-color: white;position: relative;}#sk-container-id-1 div.sk-item::before, #sk-container-id-1 div.sk-parallel-item::before {content: \"\";position: absolute;border-left: 1px solid gray;box-sizing: border-box;top: 0;bottom: 0;left: 50%;z-index: -1;}#sk-container-id-1 div.sk-parallel-item {display: flex;flex-direction: column;z-index: 1;position: relative;background-color: white;}#sk-container-id-1 div.sk-parallel-item:first-child::after {align-self: flex-end;width: 50%;}#sk-container-id-1 div.sk-parallel-item:last-child::after {align-self: flex-start;width: 50%;}#sk-container-id-1 div.sk-parallel-item:only-child::after {width: 0;}#sk-container-id-1 div.sk-dashed-wrapped {border: 1px dashed gray;margin: 0 0.4em 0.5em 0.4em;box-sizing: border-box;padding-bottom: 0.4em;background-color: white;}#sk-container-id-1 div.sk-label label {font-family: monospace;font-weight: bold;display: inline-block;line-height: 1.2em;}#sk-container-id-1 div.sk-label-container {text-align: center;}#sk-container-id-1 div.sk-container {/* jupyter's `normalize.less` sets `[hidden] { display: none; }` but bootstrap.min.css set `[hidden] { display: none !important; }` so we also need the `!important` here to be able to override the default hidden behavior on the sphinx rendered scikit-learn.org. See: https://github.com/scikit-learn/scikit-learn/issues/21755 */display: inline-block !important;position: relative;}#sk-container-id-1 div.sk-text-repr-fallback {display: none;}</style><div id=\"sk-container-id-1\" class=\"sk-top-container\"><div class=\"sk-text-repr-fallback\"><pre>GaussianMixture(n_components=3)</pre><b>In a Jupyter environment, please rerun this cell to show the HTML representation or trust the notebook. <br />On GitHub, the HTML representation is unable to render, please try loading this page with nbviewer.org.</b></div><div class=\"sk-container\" hidden><div class=\"sk-item\"><div class=\"sk-estimator sk-toggleable\"><input class=\"sk-toggleable__control sk-hidden--visually\" id=\"sk-estimator-id-1\" type=\"checkbox\" checked><label for=\"sk-estimator-id-1\" class=\"sk-toggleable__label sk-toggleable__label-arrow\">GaussianMixture</label><div class=\"sk-toggleable__content\"><pre>GaussianMixture(n_components=3)</pre></div></div></div></div></div>"
      ],
      "text/plain": [
       "GaussianMixture(n_components=3)"
      ]
     },
     "execution_count": 77,
     "metadata": {},
     "output_type": "execute_result"
    }
   ],
   "source": [
    "gm.fit(memory_buffer)"
   ]
  },
  {
   "cell_type": "code",
   "execution_count": 84,
   "metadata": {},
   "outputs": [
    {
     "data": {
      "text/plain": [
       "array([[0.00000000e+00, 9.99999917e-01, 8.31505676e-08]])"
      ]
     },
     "execution_count": 84,
     "metadata": {},
     "output_type": "execute_result"
    }
   ],
   "source": [
    "gm.predict_proba([[7, 12, 0]])"
   ]
  },
  {
   "cell_type": "code",
   "execution_count": 62,
   "metadata": {},
   "outputs": [
    {
     "name": "stdout",
     "output_type": "stream",
     "text": [
      "df size: 36\n",
      "[[ 4 24  3]\n",
      " [ 4 24  1]\n",
      " [ 7 24  2]\n",
      " [ 7 20  2]\n",
      " [ 7 16  3]\n",
      " [ 7 20  0]\n",
      " [ 4 20  3]\n",
      " [ 4 24  2]\n",
      " [ 4 20  2]\n",
      " [ 4 16  2]\n",
      " [ 4 12  1]\n",
      " [ 7 12  0]\n",
      " [ 4 12  1]\n",
      " [ 7 12  3]\n",
      " [ 7 16  2]]\n"
     ]
    }
   ],
   "source": [
    "df = pd.read_csv(f\"avrora_synthetic_saved_states.csv\")\n",
    "print(\"df size:\", len(df))\n",
    "states  = {}\n",
    "size = 15 \n",
    "# replay_buffer.capacity\n",
    "for i in range(size):\n",
    "    states [i] = {\"args\": [df[\"MaxTenuringThreshold\"].values[i], df[\"ParallelGCThreads\"].values[i]], \"goal\": df[\"Average GC Pause\"].values[i]}\n",
    "\n",
    "# memory_buffer = np.array([states[i][\"args\"] for i in states.keys()])\n",
    "memory_buffer = np.array([[*observations[i], actions[i]] for i in range(size)])\n",
    "print(memory_buffer)"
   ]
  },
  {
   "cell_type": "code",
   "execution_count": 92,
   "metadata": {},
   "outputs": [
    {
     "name": "stdout",
     "output_type": "stream",
     "text": [
      "{0: {'args': [7, 12], 'goal': 0.47, 'count': 2}}\n"
     ]
    }
   ],
   "source": [
    "perf_states = {}\n",
    "perf_states[0] = {\"args\": [7, 12], \"goal\": 0.47, \"count\": 1} \n",
    "saved_states = [perf_states[i][\"args\"] for i in perf_states.keys()]\n",
    "flags = [7, 12]\n",
    "if flags in saved_states:\n",
    "    for i in perf_states.keys():\n",
    "        \"\"\" \n",
    "        If current state is stored in a cache,\n",
    "        update the state goal value.\n",
    "        \"\"\"\n",
    "        if flags == perf_states[i][\"args\"]:\n",
    "            goal = perf_states[i][\"goal\"]\n",
    "            perf_states[i][\"count\"] += 1\n",
    "\n",
    "print(perf_states)"
   ]
  },
  {
   "cell_type": "code",
   "execution_count": 97,
   "metadata": {},
   "outputs": [
    {
     "name": "stdout",
     "output_type": "stream",
     "text": [
      "2\n"
     ]
    }
   ],
   "source": [
    "for i in perf_states.keys():\n",
    "    if [7, 12] == perf_states[i][\"args\"]:\n",
    "        print(perf_states[i][\"count\"])"
   ]
  },
  {
   "cell_type": "code",
   "execution_count": 15,
   "metadata": {},
   "outputs": [
    {
     "data": {
      "text/plain": [
       "0.9975155087566253"
      ]
     },
     "execution_count": 15,
     "metadata": {},
     "output_type": "execute_result"
    }
   ],
   "source": [
    "(1 + 0.01)**(-1/4)"
   ]
  },
  {
   "cell_type": "code",
   "execution_count": 63,
   "metadata": {},
   "outputs": [
    {
     "data": {
      "text/plain": [
       "array([0.96638056, 0.96084794, 0.98113075, 0.98760397, 0.99632883,\n",
       "       0.97980966, 0.97269349, 0.9640097 , 0.97034901, 0.97857303,\n",
       "       0.98519848, 0.98873447, 0.98519848, 1.        , 0.99432438])"
      ]
     },
     "execution_count": 63,
     "metadata": {},
     "output_type": "execute_result"
    }
   ],
   "source": [
    "observation = np.array([[7, 12, 3]] * size)\n",
    "similarity = embedding_similarity(observation, memory_buffer[:size])\n",
    "similarity"
   ]
  },
  {
   "cell_type": "code",
   "execution_count": 48,
   "metadata": {},
   "outputs": [
    {
     "data": {
      "text/plain": [
       "Trajectory(\n",
       "{'action': <tf.Tensor: shape=(1,), dtype=int32, numpy=array([0], dtype=int32)>,\n",
       " 'discount': <tf.Tensor: shape=(1,), dtype=float32, numpy=array([0.5], dtype=float32)>,\n",
       " 'next_step_type': <tf.Tensor: shape=(1,), dtype=int32, numpy=array([1], dtype=int32)>,\n",
       " 'observation': <tf.Tensor: shape=(1, 2), dtype=int64, numpy=array([[ 7, 12]])>,\n",
       " 'policy_info': (),\n",
       " 'reward': <tf.Tensor: shape=(1,), dtype=float32, numpy=array([-1.], dtype=float32)>,\n",
       " 'step_type': <tf.Tensor: shape=(1,), dtype=int32, numpy=array([0], dtype=int32)>})"
      ]
     },
     "execution_count": 48,
     "metadata": {},
     "output_type": "execute_result"
    }
   ],
   "source": [
    "traj"
   ]
  },
  {
   "cell_type": "code",
   "execution_count": 47,
   "metadata": {},
   "outputs": [
    {
     "data": {
      "text/plain": [
       "-11.512925464970229"
      ]
     },
     "execution_count": 47,
     "metadata": {},
     "output_type": "execute_result"
    }
   ],
   "source": [
    "import math\n",
    "\n",
    "math.log(0.00001)"
   ]
  },
  {
   "cell_type": "code",
   "execution_count": 7,
   "metadata": {},
   "outputs": [
    {
     "name": "stdout",
     "output_type": "stream",
     "text": [
      "WARNING:tensorflow:From /var/folders/dn/p1_3j9fs78g4wn8r0hcrqks40000gn/T/ipykernel_2341/2210688016.py:1: ReplayBuffer.gather_all (from tf_agents.replay_buffers.replay_buffer) is deprecated and will be removed in a future version.\n",
      "Instructions for updating:\n",
      "Use `as_dataset(..., single_deterministic_pass=True)` instead.\n"
     ]
    },
    {
     "name": "stderr",
     "output_type": "stream",
     "text": [
      "WARNING:tensorflow:From /var/folders/dn/p1_3j9fs78g4wn8r0hcrqks40000gn/T/ipykernel_2341/2210688016.py:1: ReplayBuffer.gather_all (from tf_agents.replay_buffers.replay_buffer) is deprecated and will be removed in a future version.\n",
      "Instructions for updating:\n",
      "Use `as_dataset(..., single_deterministic_pass=True)` instead.\n"
     ]
    },
    {
     "name": "stdout",
     "output_type": "stream",
     "text": [
      "10000\n",
      "[0] [ 7 12]\n",
      "[10] [ 7 16]\n",
      "[15] [4 8]\n",
      "[2] [10  8]\n",
      "[4] [ 4 12]\n"
     ]
    }
   ],
   "source": [
    "observations = replay_buffer.gather_all()[1].numpy().squeeze()\n",
    "print(len(observations))\n",
    "# for i in range(100):\n",
    "#     print(f\"[{i}] {observations[i]}\")\n",
    "\n",
    "print(f\"[{0}] {observations[0]}\")\n",
    "print(f\"[{10}] {observations[10]}\")\n",
    "print(f\"[{15}] {observations[15]}\")\n",
    "print(f\"[{2}] {observations[2]}\")\n",
    "print(f\"[{4}] {observations[4]}\")"
   ]
  },
  {
   "cell_type": "code",
   "execution_count": 10,
   "metadata": {},
   "outputs": [],
   "source": [
    "observation_shape = [2]\n",
    "memory = episodic_memory.EpisodicMemory(\n",
    "    observation_shape=observation_shape,\n",
    "    observation_compare_fn=embedding_similarity,\n",
    "    capacity=150)\n",
    "\n",
    "memory.add(observation=observations[0], info=dict())\n",
    "memory.add(observation=observations[10], info=dict())\n",
    "memory.add(observation=observations[15], info=dict())\n",
    "memory.add(observation=observations[2], info=dict())\n",
    "memory.add(observation=observations[4], info=dict())"
   ]
  },
  {
   "cell_type": "code",
   "execution_count": 35,
   "metadata": {},
   "outputs": [
    {
     "name": "stdout",
     "output_type": "stream",
     "text": [
      "[1.         0.99556546 0.99941687 1.         1.        ]\n"
     ]
    }
   ],
   "source": [
    "similarities = memory.similarity(observations[0])\n",
    "print(similarities)"
   ]
  },
  {
   "cell_type": "code",
   "execution_count": 54,
   "metadata": {},
   "outputs": [
    {
     "data": {
      "text/plain": [
       "0.4711529108389231"
      ]
     },
     "execution_count": 54,
     "metadata": {},
     "output_type": "execute_result"
    }
   ],
   "source": []
  },
  {
   "cell_type": "code",
   "execution_count": 56,
   "metadata": {},
   "outputs": [
    {
     "data": {
      "text/plain": [
       "0.4711529108389231"
      ]
     },
     "execution_count": 56,
     "metadata": {},
     "output_type": "execute_result"
    }
   ],
   "source": [
    "new_df = pd.read_csv(f\"avrora_synthetic_saved_states.csv\")\n",
    "perf_states  = {}\n",
    "flags = [7, 12]\n",
    "def synthethic_run(flags):\n",
    "    assert len(flags) == 2, \"Amount of flags is not 2\"\n",
    "    row = new_df[((new_df[\"MaxTenuringThreshold\"] == flags[0]) & (new_df[\"ParallelGCThreads\"] == flags[1]))].values.squeeze()\n",
    "    goal = row[2]\n",
    "    return goal\n",
    "\n",
    "synthethic_run(flags)"
   ]
  }
 ],
 "metadata": {
  "kernelspec": {
   "display_name": "my-env",
   "language": "python",
   "name": "python3"
  },
  "language_info": {
   "codemirror_mode": {
    "name": "ipython",
    "version": 3
   },
   "file_extension": ".py",
   "mimetype": "text/x-python",
   "name": "python",
   "nbconvert_exporter": "python",
   "pygments_lexer": "ipython3",
   "version": "3.8.17"
  },
  "orig_nbformat": 4
 },
 "nbformat": 4,
 "nbformat_minor": 2
}
