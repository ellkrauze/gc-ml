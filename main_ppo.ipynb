{
 "cells": [
  {
   "cell_type": "markdown",
   "metadata": {},
   "source": [
    "avrora, fop, jython, luindex,\n",
    "lusearch, lusearch-fix, pmd and xalan\n",
    "\n",
    "https://bergel.eu/MyPapers/Cana21a-JVMGlagsAndGA.pdf"
   ]
  },
  {
   "cell_type": "code",
   "execution_count": 1,
   "metadata": {},
   "outputs": [],
   "source": [
    "! export WANDB_NOTEBOOK_NAME=\"main.ipynb\"\n",
    "import wandb\n",
    "\n",
    "PROJECT_NAME = \"Reinforcement Learning (DQN) - JVM-GC\"\n",
    "WANDB_KEY = \"4b077df3688052b0f43705d6b4d712c05fb979b7\"\n",
    "config = dict(\n",
    "    competition = PROJECT_NAME,\n",
    "    _wandb_kernel = 'lemon',\n",
    "    seed = 42,\n",
    ")"
   ]
  },
  {
   "cell_type": "code",
   "execution_count": 2,
   "metadata": {},
   "outputs": [],
   "source": [
    "import logging\n",
    "for handler in logging.root.handlers[:]:\n",
    "    logging.root.removeHandler(handler)\n",
    "\n",
    "logging.basicConfig(filename=\"gc-ml-ppo.log\",\n",
    "                    filemode='a',\n",
    "                    format='%(asctime)s,%(msecs)d %(name)s %(levelname)s %(message)s')\n",
    "\n",
    "\n",
    "logger = logging.getLogger()\n",
    "logger.setLevel(logging.DEBUG)\n",
    "# logger.setLevel(logging.INFO)\n",
    "# logger.error(\"test\")"
   ]
  },
  {
   "cell_type": "code",
   "execution_count": 3,
   "metadata": {},
   "outputs": [],
   "source": [
    "import os\n",
    "import numpy as np\n",
    "import tensorflow as tf\n",
    "import matplotlib.pyplot as plt\n",
    "import pandas as pd\n",
    "from tqdm import tqdm\n",
    "\n",
    "from tf_agents.agents import PPOAgent\n",
    "from tf_agents.environments import tf_py_environment, BatchedPyEnvironment\n",
    "from tf_agents.networks import sequential\n",
    "from tf_agents.policies import random_tf_policy, policy_saver\n",
    "from tf_agents.replay_buffers import tf_uniform_replay_buffer\n",
    "from tf_agents.trajectories import trajectory\n",
    "from tf_agents.utils import common\n",
    "from tf_agents.specs import tensor_spec, from_spec\n",
    "from tf_agents import trajectories\n",
    "from tf_agents.networks.actor_distribution_network import ActorDistributionNetwork\n",
    "from tf_agents.networks.value_network import ValueNetwork\n",
    "from tf_agents.drivers.dynamic_episode_driver import DynamicEpisodeDriver\n",
    "\n",
    "\n",
    "# from env.PyEnvironments import CurveEnv, CurveMultipleEnv, JVMEnv\n",
    "# from env.PyEnvironments import JVMEnv\n",
    "from env.PyEnvironmentsTest import JVMEnv # !!!\n",
    "from util.plots_util import plot_dataset, plot_goal_heatmap\n",
    "\n",
    "tf.random.set_seed(42)\n",
    "np.random.seed(42) "
   ]
  },
  {
   "cell_type": "code",
   "execution_count": 4,
   "metadata": {},
   "outputs": [
    {
     "name": "stdout",
     "output_type": "stream",
     "text": [
      "Successfully initialized a JVM Environment!\n",
      " JDK: jdk-11.0.20.1.jdk/bin,\n",
      " Benchmark: kafka_2 (dacapo-bench.jar),\n",
      " Number of iterations: 5,\n",
      " Goal: avgGCPause,\n",
      " Number of JVM options: 2,\n",
      " JVM options: {'MaxTenuringThreshold': {'min': 1, 'max': 16, 'step': 3}, 'ParallelGCThreads': {'min': 4, 'max': 24, 'step': 4}},\n",
      " Env. default state: [1, 20, 0.00875, 0.9944960907170034, 0.9907217902495694, 0.0751173708920189, 0.0172935581495892, 0.0161681641767931, 0.9808917197452228, 1.0],\n",
      " Env. default goal value: 0.00875,\n",
      "\n",
      "Successfully initialized a JVM Environment!\n",
      " JDK: jdk-11.0.20.1.jdk/bin,\n",
      " Benchmark: kafka_4 (dacapo-bench.jar),\n",
      " Number of iterations: 5,\n",
      " Goal: avgGCPause,\n",
      " Number of JVM options: 2,\n",
      " JVM options: {'MaxTenuringThreshold': {'min': 1, 'max': 16, 'step': 3}, 'ParallelGCThreads': {'min': 4, 'max': 24, 'step': 4}},\n",
      " Env. default state: [7, 8, 0.0102, 0.9957989346117848, 0.990684671313544, 0.7417840375586859, 0.3069606571552097, 0.3079898198519827, 0.9214437367303608, 0.5123893534258315],\n",
      " Env. default goal value: 0.0102,\n",
      "\n",
      "Successfully initialized a JVM Environment!\n",
      " JDK: jdk-11.0.20.1.jdk/bin,\n",
      " Benchmark: kafka_8 (dacapo-bench.jar),\n",
      " Number of iterations: 5,\n",
      " Goal: avgGCPause,\n",
      " Number of JVM options: 2,\n",
      " JVM options: {'MaxTenuringThreshold': {'min': 1, 'max': 16, 'step': 3}, 'ParallelGCThreads': {'min': 4, 'max': 24, 'step': 4}},\n",
      " Env. default state: [10, 4, 0.01172, 0.990409976116464, 1.0, 0.8450704225352115, 0.7146562905317769, 0.717165574025787, 0.605095541401274, 0.3151704493246345],\n",
      " Env. default goal value: 0.01172,\n",
      "\n",
      "Successfully initialized a JVM Environment!\n",
      " JDK: jdk-11.0.20.1.jdk/bin,\n",
      " Benchmark: kafka_16 (dacapo-bench.jar),\n",
      " Number of iterations: 5,\n",
      " Goal: avgGCPause,\n",
      " Number of JVM options: 2,\n",
      " JVM options: {'MaxTenuringThreshold': {'min': 1, 'max': 16, 'step': 3}, 'ParallelGCThreads': {'min': 4, 'max': 24, 'step': 4}},\n",
      " Env. default state: [4, 12, 0.01354, 0.990032042788194, 0.9991687697792734, 0.0751173708920189, 0.7276264591439688, 0.7303392963343571, 0.0403397027600849, 0.2466844313761527],\n",
      " Env. default goal value: 0.01354,\n",
      "\n",
      "Successfully initialized a JVM Environment!\n",
      " JDK: jdk-11.0.20.1.jdk/bin,\n",
      " Benchmark: kafka_32 (dacapo-bench.jar),\n",
      " Number of iterations: 5,\n",
      " Goal: avgGCPause,\n",
      " Number of JVM options: 2,\n",
      " JVM options: {'MaxTenuringThreshold': {'min': 1, 'max': 16, 'step': 3}, 'ParallelGCThreads': {'min': 4, 'max': 24, 'step': 4}},\n",
      " Env. default state: [1, 12, 0.01053, 0.9106233378922056, 0.9352722028602332, 0.7089201877934275, 0.9801124081279724, 0.980083035790586, 0.4055201698513799, 0.2541578608839474],\n",
      " Env. default goal value: 0.01053,\n",
      "\n",
      "Successfully initialized a JVM Environment!\n",
      " JDK: jdk-11.0.20.1.jdk/bin,\n",
      " Benchmark: avrora_2 (dacapo-bench.jar),\n",
      " Number of iterations: 5,\n",
      " Goal: avgGCPause,\n",
      " Number of JVM options: 2,\n",
      " JVM options: {'MaxTenuringThreshold': {'min': 1, 'max': 16, 'step': 3}, 'ParallelGCThreads': {'min': 4, 'max': 24, 'step': 4}},\n",
      " Env. default state: [7, 4, 0.00693, 0.9744866328328492, 0.9954249526515152, 0.5714285714285716, 0.5660377358490565, 0.5714176215843327, 0.5769230769230766, 0.0151724137931035],\n",
      " Env. default goal value: 0.00693,\n",
      "\n",
      "Successfully initialized a JVM Environment!\n",
      " JDK: jdk-11.0.20.1.jdk/bin,\n",
      " Benchmark: avrora_4 (dacapo-bench.jar),\n",
      " Number of iterations: 5,\n",
      " Goal: avgGCPause,\n",
      " Number of JVM options: 2,\n",
      " JVM options: {'MaxTenuringThreshold': {'min': 1, 'max': 16, 'step': 3}, 'ParallelGCThreads': {'min': 4, 'max': 24, 'step': 4}},\n",
      " Env. default state: [10, 8, 0.00647, 0.5760536635598197, 0.5884297520661157, 0.1428571428571428, 0.150943396226415, 0.1428544053960831, 0.1442307692307691, 0.000689655172414],\n",
      " Env. default goal value: 0.00647,\n",
      "\n",
      "Successfully initialized a JVM Environment!\n",
      " JDK: jdk-11.0.20.1.jdk/bin,\n",
      " Benchmark: avrora_8 (dacapo-bench.jar),\n",
      " Number of iterations: 5,\n",
      " Goal: avgGCPause,\n",
      " Number of JVM options: 2,\n",
      " JVM options: {'MaxTenuringThreshold': {'min': 1, 'max': 16, 'step': 3}, 'ParallelGCThreads': {'min': 4, 'max': 24, 'step': 4}},\n",
      " Env. default state: [10, 8, 0.00674, 0.7783191422679543, 0.7950413223140496, 0.4285714285714284, 0.4339622641509431, 0.42856321618825, 0.4326923076923075, 0.0372413793103452],\n",
      " Env. default goal value: 0.00674,\n",
      "\n",
      "Successfully initialized a JVM Environment!\n",
      " JDK: jdk-11.0.20.1.jdk/bin,\n",
      " Benchmark: avrora_16 (dacapo-bench.jar),\n",
      " Number of iterations: 5,\n",
      " Goal: avgGCPause,\n",
      " Number of JVM options: 2,\n",
      " JVM options: {'MaxTenuringThreshold': {'min': 1, 'max': 16, 'step': 3}, 'ParallelGCThreads': {'min': 4, 'max': 24, 'step': 4}},\n",
      " Env. default state: [4, 12, 0.00928, 0.4859770502424289, 0.4964187327823691, 0.4285714285714284, 0.4339622641509431, 0.42856321618825, 0.4326923076923075, 0.0372413793103452],\n",
      " Env. default goal value: 0.00928,\n",
      "\n",
      "Successfully initialized a JVM Environment!\n",
      " JDK: jdk-11.0.20.1.jdk/bin,\n",
      " Benchmark: avrora_32 (dacapo-bench.jar),\n",
      " Number of iterations: 5,\n",
      " Goal: avgGCPause,\n",
      " Number of JVM options: 2,\n",
      " JVM options: {'MaxTenuringThreshold': {'min': 1, 'max': 16, 'step': 3}, 'ParallelGCThreads': {'min': 4, 'max': 24, 'step': 4}},\n",
      " Env. default state: [7, 12, 0.00918, 0.8527517849665129, 0.8710743801652892, 0.8571428571428572, 0.8679245283018866, 0.8571455946039168, 0.8653846153846145, 0.96],\n",
      " Env. default goal value: 0.00918,\n",
      "\n",
      "Successfully initialized a JVM Environment!\n",
      " JDK: jdk-11.0.20.1.jdk/bin,\n",
      " Benchmark: h2 (dacapo-bench.jar),\n",
      " Number of iterations: 5,\n",
      " Goal: avgGCPause,\n",
      " Number of JVM options: 2,\n",
      " JVM options: {'MaxTenuringThreshold': {'min': 1, 'max': 16, 'step': 3}, 'ParallelGCThreads': {'min': 4, 'max': 24, 'step': 4}},\n",
      " Env. default state: [1, 20, 0.18954, 0.999979412534938, 0.9884644586588516, 1.0, 1.0, 0.9999987792999906, 1.0, 0.1472500455957914],\n",
      " Env. default goal value: 0.18954,\n",
      "\n"
     ]
    }
   ],
   "source": [
    "dataset_path = \"dataset/data\"\n",
    "tempdir = \"tmp\"\n",
    "checkpoint_dir = os.path.join(tempdir, 'checkpoint')\n",
    "policy_dir = os.path.join(tempdir, 'policy')\n",
    "\n",
    "env_args = {\n",
    "    \"jdk_path\": \"jdk-11.0.20.1.jdk\",\n",
    "    \"bm_path\": \"dacapo-bench.jar\",\n",
    "    \"gc_viewer_jar\": \"gcviewer-1.36.jar\",\n",
    "    \"callback_path\": \"callback/VMStatCallback.java\",\n",
    "    \"n\": 5,\n",
    "    \"goal\": \"avgGCPause\",\n",
    "    \"verbose\": False,\n",
    "}\n",
    "\n",
    "def get_tf_env(name, args):\n",
    "    env = JVMEnv(bm_name=name, **args)\n",
    "    tf_env = tf_py_environment.TFPyEnvironment(env, isolation=True) \n",
    "    return tf_env\n",
    "\n",
    "# Batch together multiple py environments and act as a single batch.\n",
    "names = [\"kafka_2\", \"kafka_4\", \"kafka_8\", \"kafka_16\", \"kafka_32\",\n",
    "         \"avrora_2\", \"avrora_4\", \"avrora_8\", \"avrora_16\", \"avrora_32\"]\n",
    "\n",
    "envs = [JVMEnv(bm_name=name, **env_args) for name in names]\n",
    "\n",
    "batched_env = BatchedPyEnvironment(envs)\n",
    "train_env = tf_py_environment.TFPyEnvironment(batched_env)\n",
    "\n",
    "test_env = get_tf_env(name=\"h2\", args=env_args)\n",
    "\n",
    "action_spec = from_spec(train_env.action_spec())\n",
    "observation_spec = from_spec(train_env.observation_spec())\n",
    "reward_spec = from_spec(train_env.reward_spec())\n",
    "time_step_spec = trajectories.time_step_spec(observation_spec, reward_spec)"
   ]
  },
  {
   "cell_type": "code",
   "execution_count": 5,
   "metadata": {},
   "outputs": [],
   "source": [
    "def get_q_net(action_spec, fc_layer_params = (100, 75, 50)):\n",
    "    action_tensor_spec = tensor_spec.from_spec(action_spec)\n",
    "    num_actions = action_tensor_spec.maximum - action_tensor_spec.minimum + 1\n",
    "\n",
    "    def dense_layer(num_units):\n",
    "        \"\"\"\n",
    "        Define a helper function to create Dense layers configured \n",
    "        with the right activation and kernel initializer.\n",
    "        \"\"\"\n",
    "        return tf.keras.layers.Dense(\n",
    "            num_units,\n",
    "            activation=tf.keras.activations.relu,\n",
    "            kernel_initializer=tf.keras.initializers.VarianceScaling(\n",
    "                scale=2.0, mode='fan_in', distribution='truncated_normal'))\n",
    "\n",
    "    # QNetwork consists of a sequence of Dense layers followed by a dense layer\n",
    "    # with `num_actions` units to generate one q_value per available action as\n",
    "    # its output.\n",
    "    dense_layers = [dense_layer(num_units) for num_units in fc_layer_params]\n",
    "    q_values_layer = tf.keras.layers.Dense(\n",
    "        num_actions,\n",
    "        activation=None,\n",
    "        kernel_initializer=tf.keras.initializers.RandomUniform(\n",
    "            minval=-0.03, maxval=0.03),\n",
    "        bias_initializer=tf.keras.initializers.Constant(-0.2))\n",
    "    q_net = sequential.Sequential(dense_layers + [q_values_layer])\n",
    "    return q_net\n",
    "\n",
    "def collect_step(environment, policy, replay_buffer):\n",
    "    time_step = environment.current_time_step()\n",
    "    action_step = policy.action(time_step)\n",
    "\n",
    "    next_time_step = environment.step(action_step.action)\n",
    "    # reward = next_time_step.reward\n",
    "    traj = trajectory.from_transition(time_step, action_step, next_time_step)\n",
    "    return traj\n",
    "\n",
    "def save_dataset(data, path):\n",
    "    step_counter = tf.Variable(0, trainable=False)\n",
    "    checkpoint_prefix = \"checkpoint\"\n",
    "    checkpoint_args = {\n",
    "        \"checkpoint_interval\": 50,\n",
    "        \"step_counter\": step_counter,\n",
    "        \"directory\": checkpoint_prefix,\n",
    "        \"max_to_keep\": 3,\n",
    "    }\n",
    "    try:\n",
    "        data.save(path, checkpoint_args=checkpoint_args)\n",
    "    except:\n",
    "        pass\n",
    "\n",
    "def save_rb(replay_buffer, path):\n",
    "    tf.train.Checkpoint(rb = replay_buffer).save(path)\n",
    "\n",
    "def restore_rb(replay_buffer, path):\n",
    "    tf.train.Checkpoint(rb = replay_buffer).restore(path)\n",
    "\n",
    "def get_dataset(\n",
    "    replay_buffer, \n",
    "    size, \n",
    "    batch_size, \n",
    "    collect_data_spec, \n",
    "    n_step_update, \n",
    "    create: bool = True, \n",
    "    save: bool = False):\n",
    "    \n",
    "    replay_buffer = tf_uniform_replay_buffer.TFUniformReplayBuffer(\n",
    "        data_spec=collect_data_spec, # agent.collect_data_spec\n",
    "        batch_size=1, # train_env.batch_size\n",
    "        max_length=size) # capacity\n",
    "\n",
    "    if create:\n",
    "        for _ in tqdm(range(size)):\n",
    "            traj = collect_step(train_env, random_policy, replay_buffer)\n",
    "            replay_buffer.add_batch(traj)\n",
    "\n",
    "        if save: save_rb(replay_buffer, dataset_path)\n",
    "    else: \n",
    "        restore_rb(replay_buffer, dataset_path+'-1')\n",
    "\n",
    "    dataset = replay_buffer.as_dataset(\n",
    "        num_parallel_calls=3, \n",
    "        sample_batch_size=batch_size,\n",
    "        num_steps=n_step_update + 1, \n",
    "        single_deterministic_pass=False).prefetch(3)\n",
    "    # iterator = iter(dataset)\n",
    "    return dataset\n",
    "    \n",
    "def compute_avg_return(environment, policy, num_episodes=50):\n",
    "    \"\"\"\n",
    "    Computes the average return of a policy, \n",
    "    given the policy, environment, and a number of episodes.\n",
    "\n",
    "    Note: for non-episodic tasks.\n",
    "    \"\"\"\n",
    "    total_return = 0.0\n",
    "    time_step = environment.reset()\n",
    "    for _ in tqdm(range(num_episodes)):\n",
    "        action_step = policy.action(time_step, seed=42)\n",
    "        time_step = environment.step(action_step.action)\n",
    "        total_return += time_step.reward\n",
    "\n",
    "    avg_return = total_return / num_episodes\n",
    "    return avg_return.numpy()[0]\n",
    "\n",
    "def get_env_state(environment):\n",
    "    return environment.current_time_step().observation.numpy().squeeze()[:3]\n",
    "\n",
    "def compute_avg_return_episodic(\n",
    "    environment, policy, num_episodes=10, patience=100,\n",
    "    print_info=False):\n",
    "    \"\"\"\n",
    "    Computes the average return of a policy, \n",
    "    given the policy, environment, and a number of episodes.\n",
    "\n",
    "    Note: for episodic tasks.\n",
    "    \"\"\"\n",
    "    total_return = 0.0\n",
    "    environment.reset()\n",
    "    # default_state = get_env_state(environment)\n",
    "    \n",
    "    for _ in range(num_episodes):\n",
    "        time_step = environment.reset()\n",
    "        episode_return = 0.0\n",
    "        i = 0\n",
    "        while not time_step.is_last():\n",
    "            if i >= patience:\n",
    "                break\n",
    "            action_step = policy.action(time_step)\n",
    "            time_step = environment.step(action_step.action)\n",
    "            obs = time_step.observation.numpy()[0]\n",
    "            rwd = time_step.reward.numpy()[0]\n",
    "            episode_return += time_step.reward\n",
    "            i += 1\n",
    "        total_return += episode_return / i\n",
    "    \n",
    "    # if print_info: print(\"default:\", default_state, \"current:\", get_env_state(environment))\n",
    "    avg_return = total_return / num_episodes\n",
    "    return avg_return.numpy()[0]\n",
    "\n",
    "def create_networks(observation_spec, action_spec, fc_layer_params):\n",
    "    actor_net = ActorDistributionNetwork(\n",
    "            observation_spec, # input\n",
    "            action_spec, # output\n",
    "            fc_layer_params=fc_layer_params,\n",
    "            activation_fn=tf.keras.activations.tanh)\n",
    "    \n",
    "    value_net = ValueNetwork(\n",
    "            observation_spec, # input\n",
    "            fc_layer_params=fc_layer_params,\n",
    "            activation_fn=tf.keras.activations.tanh)\n",
    "\n",
    "    return actor_net, value_net\n",
    "\n",
    "def plot_training(loss, rewards, num_steps, eval_interval):\n",
    "    fig, ax1 = plt.subplots()\n",
    "\n",
    "    steps = [step for step in range(0, num_steps, eval_interval)]\n",
    "    color = 'tab:red'\n",
    "    ax1.set_xlabel('steps')\n",
    "    ax1.set_ylabel('loss', color=color)\n",
    "    ax1.plot(steps, loss, color=color)\n",
    "    ax1.tick_params(axis='y', labelcolor=color)\n",
    "\n",
    "    ax2 = ax1.twinx()  # instantiate a second axes that shares the same x-axis\n",
    "\n",
    "    color = 'tab:blue'\n",
    "    ax2.set_ylabel('rewards', color=color)  # we already handled the x-label with ax1\n",
    "    ax2.plot(steps, rewards[:200], color=color)\n",
    "    ax2.tick_params(axis='y', labelcolor=color)\n",
    "\n",
    "    fig.tight_layout()  # otherwise the right y-label is slightly clipped\n",
    "    plt.show()"
   ]
  },
  {
   "cell_type": "code",
   "execution_count": 6,
   "metadata": {},
   "outputs": [],
   "source": [
    "def get_dataset_iter(envs, size, _agent, _train_episodes_per_iteration):\n",
    "    \"\"\"Get a dataset iterator with trajectories\n",
    "    collected from environments from list `envs`\n",
    "    using `_agent` collect policy. \n",
    "\n",
    "    Args:\n",
    "        envs (list(PyEnvironment)): List of PyEnvironments \n",
    "        to collect data from.\n",
    "        size (int):   A dataset size (number of trajectories\n",
    "        to collect.)\n",
    "        _agent (_type_): A Tensorflow Agent.\n",
    "        _train_episodes_per_iteration (int): \n",
    "            A number of trajectories per batch.\n",
    "\n",
    "    Returns:\n",
    "        iterator: A dataset iterator.\n",
    "    \"\"\"\n",
    "    from random import randrange\n",
    "    assert len(envs) >= 1, \"Environment list is empty!\"\n",
    "    num_iterations_to_reset = 50\n",
    "    replay_buffer = tf_uniform_replay_buffer.TFUniformReplayBuffer(\n",
    "        data_spec=_agent.collect_data_spec, # agent.collect_data_spec\n",
    "        batch_size=envs[0].batch_size, # train_env.batch_size\n",
    "        max_length=size) # capacity\n",
    "    \n",
    "    i = 0\n",
    "    for _ in tqdm(range(size)):\n",
    "        # Select a random environment from list.\n",
    "        indx = randrange(len(envs)) \n",
    "        env = envs[indx]\n",
    "        \n",
    "        if i >= num_iterations_to_reset:\n",
    "            env.reset()\n",
    "            \n",
    "        traj = collect_step(env, _agent.collect_policy, replay_buffer)\n",
    "        replay_buffer.add_batch(traj)\n",
    "        i += 1\n",
    "            \n",
    "    dataset = replay_buffer.as_dataset(\n",
    "        sample_batch_size=batch_size,\n",
    "        num_steps=train_episodes_per_iteration+1,\n",
    "        num_parallel_calls=_train_episodes_per_iteration).prefetch(_train_episodes_per_iteration)\n",
    "    dataset_iter = iter(dataset)\n",
    "    return dataset_iter"
   ]
  },
  {
   "cell_type": "code",
   "execution_count": 7,
   "metadata": {},
   "outputs": [],
   "source": [
    "collect_steps_per_iteration = 1\n",
    "dataset_size = 10000\n",
    "# fc_layer_params = (100, 75, 50)\n",
    "# fc_layer_params = (200, 100)\n",
    "# fc_layer_params = (128, 128, 128)\n",
    "fc_layer_params = (200, 150, 100, 75, 50)\n",
    "\n",
    "batch_size = 24\n",
    "learning_rate = 1e-3\n",
    "# learning_rate = 0.0005\n",
    "\n",
    "num_eval_episodes = 10  # @param {type:\"integer\"}\n",
    "eval_interval = 100  # @param {type:\"integer\"}\n",
    "\n",
    "# train_episodes_per_iteration = 10\n",
    "train_episodes_per_iteration = 5\n",
    "n_step_update = 4\n",
    "actor_net, value_net = create_networks(observation_spec, action_spec, fc_layer_params)\n",
    "global_step = tf.compat.v1.train.get_or_create_global_step()\n",
    "\n",
    "agent_args = {\n",
    "    \"optimizer\": tf.compat.v1.train.AdamOptimizer(learning_rate=learning_rate),\n",
    "    \"actor_net\": actor_net,\n",
    "    \"value_net\": value_net,\n",
    "    \"train_step_counter\": global_step,\n",
    "    # \"train_step_counter\": global_step,\n",
    "    # \"importance_ratio_clipping\": 0.1,\n",
    "    # \"num_epochs\": 20,\n",
    "    \"entropy_regularization\": 0.01,\n",
    "}"
   ]
  },
  {
   "cell_type": "code",
   "execution_count": 8,
   "metadata": {},
   "outputs": [],
   "source": [
    "agent = PPOAgent(\n",
    "  time_step_spec,\n",
    "  action_spec,\n",
    "  **agent_args\n",
    ")\n",
    "\n",
    "agent.initialize()\n",
    "agent.train = common.function(agent.train, autograph=False)\n",
    "\n",
    "random_policy = random_tf_policy.RandomTFPolicy(\n",
    "  time_step_spec = time_step_spec,\n",
    "  action_spec = action_spec,\n",
    "  automatic_state_reset=True,\n",
    "  clip=False,\n",
    "  emit_log_probability=True\n",
    ")\n",
    "\n",
    "def get_cd_and_rb(_env, _agent, size, n_steps):\n",
    "  replay_buffer = tf_uniform_replay_buffer.TFUniformReplayBuffer(\n",
    "      data_spec=_agent.collect_data_spec, # agent.collect_data_spec\n",
    "      batch_size=_env.batch_size, # train_env.batch_size\n",
    "      max_length=size) # capacity\n",
    "\n",
    "  replay_buffer_observer = replay_buffer.add_batch\n",
    "\n",
    "  collect_driver = DynamicEpisodeDriver(\n",
    "      _env,\n",
    "      _agent.collect_policy,\n",
    "      observers=[replay_buffer_observer], # + train_metrics,\n",
    "      num_episodes=n_steps)\n",
    "  \n",
    "  return collect_driver, replay_buffer\n"
   ]
  },
  {
   "cell_type": "code",
   "execution_count": 9,
   "metadata": {},
   "outputs": [],
   "source": [
    "policy_dir = os.path.join(tempdir, '0_policy')\n",
    "tf_policy_saver = policy_saver.PolicySaver(agent.policy)"
   ]
  },
  {
   "cell_type": "markdown",
   "metadata": {},
   "source": [
    "## Agent Training"
   ]
  },
  {
   "cell_type": "code",
   "execution_count": 10,
   "metadata": {},
   "outputs": [],
   "source": [
    "def train(_agent, _env_train, _env_val, \n",
    "          collect_driver, \n",
    "          replay_buffer, \n",
    "          steps: int = 5000, \n",
    "          use_wandb: bool = False,\n",
    "          eval_interval: int=100):\n",
    "    \"\"\"\n",
    "    Train reinforcement learning agent and evaluate\n",
    "    performance on a separate environment.\n",
    "    \"\"\"\n",
    "    \n",
    "    _env_train.reset()\n",
    "    _env_val.reset()\n",
    "    _agent.train_step_counter.assign(0)\n",
    "    _agent.train = common.function(_agent.train)\n",
    "    time_step = None\n",
    "    policy_state = _agent.collect_policy.get_initial_state(_env_train.batch_size)\n",
    "\n",
    "    loss = []\n",
    "    observations = []\n",
    "    rewards = []\n",
    "    for step in tqdm(range(steps)):\n",
    "        \n",
    "        time_step, policy_state = collect_driver.run(\n",
    "            time_step=time_step,\n",
    "            policy_state=policy_state,\n",
    "            maximum_iterations=50,\n",
    "        )\n",
    "\n",
    "        experience = replay_buffer.gather_all()\n",
    "        train_loss = _agent.train(experience)\n",
    "        replay_buffer.clear()\n",
    "        \n",
    "        if step % eval_interval == 0:\n",
    "            avg_reward = compute_avg_return_episodic(_env_val, _agent.policy, num_episodes=20)\n",
    "\n",
    "            loss.append(train_loss.loss.numpy())\n",
    "            # observations.append(obs)\n",
    "            rewards.append(avg_reward)\n",
    "\n",
    "            # wandb logger for tuning hyperparameters\n",
    "            if use_wandb:\n",
    "                wandb.log({'loss': train_loss.loss, 'reward': avg_reward})\n",
    "\n",
    "            print(f\"step = {step}: loss = {train_loss.loss}, reward = {avg_reward}\")\n",
    "    return loss, observations, rewards\n",
    "\n",
    "def _train(_agent, _env_train, _env_val, data_iterator,\n",
    "          steps: int = 5000, \n",
    "          use_wandb: bool = False,\n",
    "          eval_interval: int=100):\n",
    "    \"\"\"\n",
    "    Train reinforcement learning agent and evaluate\n",
    "    performance on a separate environment.\n",
    "    \"\"\"\n",
    "    \n",
    "    _env_train.reset()\n",
    "    _env_val.reset()\n",
    "    _agent.train_step_counter.assign(0)\n",
    "    _agent.train = common.function(_agent.train)\n",
    "    \n",
    "    time_step = None\n",
    "    policy_state = _agent.collect_policy.get_initial_state(_env_train.batch_size)\n",
    "\n",
    "    loss = []\n",
    "    observations = []\n",
    "    rewards = []\n",
    "    for step in tqdm(range(steps)):\n",
    "        \n",
    "        experience, _ = next(data_iterator)\n",
    "        train_loss = _agent.train(experience)\n",
    "        \n",
    "        if step % eval_interval == 0:\n",
    "            avg_reward = compute_avg_return_episodic(_env_val, _agent.policy, num_episodes=20)\n",
    "\n",
    "            loss.append(train_loss.loss.numpy())\n",
    "            # observations.append(obs)\n",
    "            rewards.append(avg_reward)\n",
    "\n",
    "            # wandb logger for tuning hyperparameters\n",
    "            if use_wandb:\n",
    "                wandb.log({'loss': train_loss.loss, 'reward': avg_reward})\n",
    "\n",
    "            print(f\"step = {step}: loss = {train_loss.loss}, reward = {avg_reward}\")\n",
    "    \n",
    "    return loss, observations, rewards"
   ]
  },
  {
   "cell_type": "markdown",
   "metadata": {},
   "source": [
    "### Train Sequentially"
   ]
  },
  {
   "cell_type": "code",
   "execution_count": 11,
   "metadata": {},
   "outputs": [
    {
     "name": "stdout",
     "output_type": "stream",
     "text": [
      "Successfully initialized a JVM Environment!\n",
      " JDK: jdk-11.0.20.1.jdk/bin,\n",
      " Benchmark: avrora (dacapo-bench.jar),\n",
      " Number of iterations: 5,\n",
      " Goal: avgGCPause,\n",
      " Number of JVM options: 2,\n",
      " JVM options: {'MaxTenuringThreshold': {'min': 1, 'max': 16, 'step': 3}, 'ParallelGCThreads': {'min': 4, 'max': 24, 'step': 4}},\n",
      " Env. default state: [4, 8, 0.00762, 0.2416649425551018, 0.241660319886844, 0.0, 0.0, 0.0, 0.0, 0.9883585213252486],\n",
      " Env. default goal value: 0.00762,\n",
      "\n",
      "Successfully initialized a JVM Environment!\n",
      " JDK: jdk-11.0.20.1.jdk/bin,\n",
      " Benchmark: kafka (dacapo-bench.jar),\n",
      " Number of iterations: 5,\n",
      " Goal: avgGCPause,\n",
      " Number of JVM options: 2,\n",
      " JVM options: {'MaxTenuringThreshold': {'min': 1, 'max': 16, 'step': 3}, 'ParallelGCThreads': {'min': 4, 'max': 24, 'step': 4}},\n",
      " Env. default state: [1, 4, 0.02897, 0.9999987255117688, 0.9999982161835892, 0.9482758620689656, 0.9495590828924162, 0.948075874239938, 0.9489194499017684, 1.5521971566331838e-05],\n",
      " Env. default goal value: 0.02897,\n",
      "\n",
      "Successfully initialized a JVM Environment!\n",
      " JDK: jdk-11.0.20.1.jdk/bin,\n",
      " Benchmark: kafka (dacapo-bench.jar),\n",
      " Number of iterations: 5,\n",
      " Goal: avgGCPause,\n",
      " Number of JVM options: 2,\n",
      " JVM options: {'MaxTenuringThreshold': {'min': 1, 'max': 16, 'step': 3}, 'ParallelGCThreads': {'min': 4, 'max': 24, 'step': 4}},\n",
      " Env. default state: [10, 8, 0.0274, 0.9999984332584332, 0.9999978065957856, 0.9770114942528738, 0.978835978835979, 0.9781394505509832, 0.9783889980353636, 1.3150559243703395e-05],\n",
      " Env. default goal value: 0.0274,\n",
      "\n"
     ]
    }
   ],
   "source": [
    "num_steps = 5000\n",
    "\n",
    "train_env_copy = get_tf_env(\"avrora\", env_args)\n",
    "\n",
    "train_env_2 = get_tf_env(\"kafka\", env_args)\n",
    "train_env_2_copy = get_tf_env(\"kafka\", env_args)\n",
    "\n",
    "# test_env = get_tf_env(\"test\", env_args)\n",
    "# test_env_copy = get_tf_env(\"test\", env_args)"
   ]
  },
  {
   "cell_type": "code",
   "execution_count": 13,
   "metadata": {},
   "outputs": [
    {
     "name": "stderr",
     "output_type": "stream",
     "text": [
      "  0%|          | 0/5000 [00:00<?, ?it/s]"
     ]
    },
    {
     "name": "stderr",
     "output_type": "stream",
     "text": [
      "100%|██████████| 20/20 [00:12<00:00,  1.66it/s]\n",
      "  0%|          | 1/5000 [00:28<39:46:25, 28.64s/it]"
     ]
    },
    {
     "name": "stdout",
     "output_type": "stream",
     "text": [
      "step = 0: loss = 28.902631759643555, reward = 0.009563921019434929\n"
     ]
    },
    {
     "name": "stderr",
     "output_type": "stream",
     "text": [
      "100%|██████████| 20/20 [00:12<00:00,  1.67it/s]/s] \n",
      "  2%|▏         | 101/5000 [01:19<5:27:18,  4.01s/it]"
     ]
    },
    {
     "name": "stdout",
     "output_type": "stream",
     "text": [
      "step = 100: loss = -0.12217696011066437, reward = 0.10741065442562103\n"
     ]
    },
    {
     "name": "stderr",
     "output_type": "stream",
     "text": [
      "100%|██████████| 20/20 [00:11<00:00,  1.69it/s]/s]  \n",
      "  4%|▍         | 201/5000 [02:11<5:17:22,  3.97s/it]"
     ]
    },
    {
     "name": "stdout",
     "output_type": "stream",
     "text": [
      "step = 200: loss = -0.12155486643314362, reward = -0.054414473474025726\n"
     ]
    },
    {
     "name": "stderr",
     "output_type": "stream",
     "text": [
      "100%|██████████| 20/20 [00:12<00:00,  1.64it/s]/s]  \n",
      "  6%|▌         | 301/5000 [03:05<5:19:49,  4.08s/it]"
     ]
    },
    {
     "name": "stdout",
     "output_type": "stream",
     "text": [
      "step = 300: loss = -0.14047378301620483, reward = -0.1808028370141983\n"
     ]
    },
    {
     "name": "stderr",
     "output_type": "stream",
     "text": [
      "100%|██████████| 20/20 [00:11<00:00,  1.76it/s]/s]  \n",
      "  8%|▊         | 401/5000 [03:55<4:51:41,  3.81s/it]"
     ]
    },
    {
     "name": "stdout",
     "output_type": "stream",
     "text": [
      "step = 400: loss = -0.12208157032728195, reward = 0.13025769591331482\n"
     ]
    },
    {
     "name": "stderr",
     "output_type": "stream",
     "text": [
      "100%|██████████| 20/20 [00:11<00:00,  1.67it/s]/s]  \n",
      " 10%|█         | 501/5000 [04:46<4:57:33,  3.97s/it]"
     ]
    },
    {
     "name": "stdout",
     "output_type": "stream",
     "text": [
      "step = 500: loss = -0.12516961991786957, reward = -0.047113142907619476\n"
     ]
    },
    {
     "name": "stderr",
     "output_type": "stream",
     "text": [
      "100%|██████████| 20/20 [00:12<00:00,  1.66it/s]/s]  \n",
      " 12%|█▏        | 601/5000 [05:40<4:58:12,  4.07s/it]"
     ]
    },
    {
     "name": "stdout",
     "output_type": "stream",
     "text": [
      "step = 600: loss = -0.13263054192066193, reward = 0.023856637999415398\n"
     ]
    },
    {
     "name": "stderr",
     "output_type": "stream",
     "text": [
      "100%|██████████| 20/20 [00:11<00:00,  1.73it/s]/s]  \n",
      " 14%|█▍        | 701/5000 [06:31<4:36:40,  3.86s/it]"
     ]
    },
    {
     "name": "stdout",
     "output_type": "stream",
     "text": [
      "step = 700: loss = -0.12135445326566696, reward = -0.09978403896093369\n"
     ]
    },
    {
     "name": "stderr",
     "output_type": "stream",
     "text": [
      "100%|██████████| 20/20 [00:11<00:00,  1.71it/s]/s]  \n",
      " 16%|█▌        | 801/5000 [07:22<4:32:15,  3.89s/it]"
     ]
    },
    {
     "name": "stdout",
     "output_type": "stream",
     "text": [
      "step = 800: loss = -0.12417945265769958, reward = -0.12913194298744202\n"
     ]
    },
    {
     "name": "stderr",
     "output_type": "stream",
     "text": [
      "100%|██████████| 20/20 [00:11<00:00,  1.74it/s]/s]  \n",
      " 18%|█▊        | 901/5000 [08:13<4:21:34,  3.83s/it]"
     ]
    },
    {
     "name": "stdout",
     "output_type": "stream",
     "text": [
      "step = 900: loss = -0.12012037634849548, reward = -0.0812155231833458\n"
     ]
    },
    {
     "name": "stderr",
     "output_type": "stream",
     "text": [
      "100%|██████████| 20/20 [00:13<00:00,  1.51it/s]t/s] \n",
      " 20%|██        | 1001/5000 [09:06<4:55:30,  4.43s/it]"
     ]
    },
    {
     "name": "stdout",
     "output_type": "stream",
     "text": [
      "step = 1000: loss = -0.12780579924583435, reward = 0.04057605192065239\n"
     ]
    },
    {
     "name": "stderr",
     "output_type": "stream",
     "text": [
      "100%|██████████| 20/20 [00:11<00:00,  1.68it/s]t/s]  \n",
      " 22%|██▏       | 1101/5000 [09:57<4:17:19,  3.96s/it]"
     ]
    },
    {
     "name": "stdout",
     "output_type": "stream",
     "text": [
      "step = 1100: loss = -0.15671901404857635, reward = -0.04562435299158096\n"
     ]
    },
    {
     "name": "stderr",
     "output_type": "stream",
     "text": [
      "100%|██████████| 20/20 [00:12<00:00,  1.67it/s]t/s]  \n",
      " 24%|██▍       | 1201/5000 [10:53<4:18:10,  4.08s/it]"
     ]
    },
    {
     "name": "stdout",
     "output_type": "stream",
     "text": [
      "step = 1200: loss = -0.12041907012462616, reward = 0.04573701694607735\n"
     ]
    },
    {
     "name": "stderr",
     "output_type": "stream",
     "text": [
      "100%|██████████| 20/20 [00:11<00:00,  1.70it/s]t/s]  \n",
      " 26%|██▌       | 1301/5000 [11:46<4:03:05,  3.94s/it]"
     ]
    },
    {
     "name": "stdout",
     "output_type": "stream",
     "text": [
      "step = 1300: loss = -0.11761971563100815, reward = -0.0033242765348404646\n"
     ]
    },
    {
     "name": "stderr",
     "output_type": "stream",
     "text": [
      "100%|██████████| 20/20 [00:11<00:00,  1.71it/s]t/s]  \n",
      " 28%|██▊       | 1401/5000 [12:39<3:53:54,  3.90s/it]"
     ]
    },
    {
     "name": "stdout",
     "output_type": "stream",
     "text": [
      "step = 1400: loss = -0.11471748352050781, reward = 0.0010996530763804913\n"
     ]
    },
    {
     "name": "stderr",
     "output_type": "stream",
     "text": [
      "100%|██████████| 20/20 [00:17<00:00,  1.13it/s]t/s]  \n",
      " 30%|███       | 1501/5000 [13:38<5:33:23,  5.72s/it]"
     ]
    },
    {
     "name": "stdout",
     "output_type": "stream",
     "text": [
      "step = 1500: loss = -0.11971862614154816, reward = -0.04055100679397583\n"
     ]
    },
    {
     "name": "stderr",
     "output_type": "stream",
     "text": [
      "100%|██████████| 20/20 [00:18<00:00,  1.05it/s]t/s]  \n",
      " 32%|███▏      | 1601/5000 [14:42<5:44:22,  6.08s/it]"
     ]
    },
    {
     "name": "stdout",
     "output_type": "stream",
     "text": [
      "step = 1600: loss = -0.11644572764635086, reward = -0.15625840425491333\n"
     ]
    },
    {
     "name": "stderr",
     "output_type": "stream",
     "text": [
      "100%|██████████| 20/20 [00:11<00:00,  1.71it/s]t/s]  \n",
      " 34%|███▍      | 1701/5000 [15:34<3:33:43,  3.89s/it]"
     ]
    },
    {
     "name": "stdout",
     "output_type": "stream",
     "text": [
      "step = 1700: loss = -0.11681109666824341, reward = -0.21186129748821259\n"
     ]
    },
    {
     "name": "stderr",
     "output_type": "stream",
     "text": [
      "100%|██████████| 20/20 [00:12<00:00,  1.67it/s]t/s]  \n",
      " 36%|███▌      | 1801/5000 [16:26<3:33:53,  4.01s/it]"
     ]
    },
    {
     "name": "stdout",
     "output_type": "stream",
     "text": [
      "step = 1800: loss = -0.1096460372209549, reward = -0.12031445652246475\n"
     ]
    },
    {
     "name": "stderr",
     "output_type": "stream",
     "text": [
      "100%|██████████| 20/20 [00:11<00:00,  1.71it/s]t/s]  \n",
      " 38%|███▊      | 1901/5000 [17:18<3:20:41,  3.89s/it]"
     ]
    },
    {
     "name": "stdout",
     "output_type": "stream",
     "text": [
      "step = 1900: loss = -0.07287707179784775, reward = -0.1658892035484314\n"
     ]
    },
    {
     "name": "stderr",
     "output_type": "stream",
     "text": [
      "100%|██████████| 20/20 [00:14<00:00,  1.34it/s]t/s]  \n",
      " 40%|████      | 2001/5000 [18:16<4:03:25,  4.87s/it]"
     ]
    },
    {
     "name": "stdout",
     "output_type": "stream",
     "text": [
      "step = 2000: loss = -0.11350805312395096, reward = -0.08294306695461273\n"
     ]
    },
    {
     "name": "stderr",
     "output_type": "stream",
     "text": [
      "100%|██████████| 20/20 [00:11<00:00,  1.77it/s]t/s]  \n",
      " 42%|████▏     | 2101/5000 [19:07<3:02:34,  3.78s/it]"
     ]
    },
    {
     "name": "stdout",
     "output_type": "stream",
     "text": [
      "step = 2100: loss = -0.11182614415884018, reward = -0.20583422482013702\n"
     ]
    },
    {
     "name": "stderr",
     "output_type": "stream",
     "text": [
      "100%|██████████| 20/20 [00:11<00:00,  1.77it/s]t/s]  \n",
      " 44%|████▍     | 2201/5000 [19:57<2:56:22,  3.78s/it]"
     ]
    },
    {
     "name": "stdout",
     "output_type": "stream",
     "text": [
      "step = 2200: loss = -0.11087335646152496, reward = -0.12639972567558289\n"
     ]
    },
    {
     "name": "stderr",
     "output_type": "stream",
     "text": [
      "100%|██████████| 20/20 [00:12<00:00,  1.58it/s]t/s]  \n",
      " 46%|████▌     | 2301/5000 [20:49<3:13:17,  4.30s/it]"
     ]
    },
    {
     "name": "stdout",
     "output_type": "stream",
     "text": [
      "step = 2300: loss = -0.09479192644357681, reward = -0.05476980656385422\n"
     ]
    },
    {
     "name": "stderr",
     "output_type": "stream",
     "text": [
      "100%|██████████| 20/20 [00:12<00:00,  1.66it/s]t/s]  \n",
      " 48%|████▊     | 2401/5000 [21:41<2:54:56,  4.04s/it]"
     ]
    },
    {
     "name": "stdout",
     "output_type": "stream",
     "text": [
      "step = 2400: loss = -0.0014683204935863614, reward = -0.16155274212360382\n"
     ]
    },
    {
     "name": "stderr",
     "output_type": "stream",
     "text": [
      "100%|██████████| 20/20 [00:13<00:00,  1.46it/s]t/s]  \n",
      " 50%|█████     | 2501/5000 [22:37<3:08:39,  4.53s/it]"
     ]
    },
    {
     "name": "stdout",
     "output_type": "stream",
     "text": [
      "step = 2500: loss = -0.03699420019984245, reward = -0.20467133820056915\n"
     ]
    },
    {
     "name": "stderr",
     "output_type": "stream",
     "text": [
      "100%|██████████| 20/20 [00:11<00:00,  1.75it/s]t/s]  \n",
      " 52%|█████▏    | 2601/5000 [23:29<2:36:24,  3.91s/it]"
     ]
    },
    {
     "name": "stdout",
     "output_type": "stream",
     "text": [
      "step = 2600: loss = -0.10927896946668625, reward = -0.31928008794784546\n"
     ]
    },
    {
     "name": "stderr",
     "output_type": "stream",
     "text": [
      "100%|██████████| 20/20 [00:11<00:00,  1.77it/s]t/s]  \n",
      " 54%|█████▍    | 2701/5000 [24:19<2:24:42,  3.78s/it]"
     ]
    },
    {
     "name": "stdout",
     "output_type": "stream",
     "text": [
      "step = 2700: loss = -0.10431338846683502, reward = -0.15599094331264496\n"
     ]
    },
    {
     "name": "stderr",
     "output_type": "stream",
     "text": [
      "100%|██████████| 20/20 [00:11<00:00,  1.76it/s]t/s]  \n",
      " 56%|█████▌    | 2801/5000 [25:09<2:18:55,  3.79s/it]"
     ]
    },
    {
     "name": "stdout",
     "output_type": "stream",
     "text": [
      "step = 2800: loss = -0.11629707366228104, reward = -0.24302449822425842\n"
     ]
    },
    {
     "name": "stderr",
     "output_type": "stream",
     "text": [
      "100%|██████████| 20/20 [00:11<00:00,  1.70it/s]t/s]  \n",
      " 58%|█████▊    | 2901/5000 [26:01<2:17:37,  3.93s/it]"
     ]
    },
    {
     "name": "stdout",
     "output_type": "stream",
     "text": [
      "step = 2900: loss = -0.09800298511981964, reward = -0.4591086804866791\n"
     ]
    },
    {
     "name": "stderr",
     "output_type": "stream",
     "text": [
      "100%|██████████| 20/20 [00:11<00:00,  1.72it/s]t/s]  \n",
      " 60%|██████    | 3001/5000 [26:51<2:09:36,  3.89s/it]"
     ]
    },
    {
     "name": "stdout",
     "output_type": "stream",
     "text": [
      "step = 3000: loss = -0.10718017816543579, reward = -0.2882995009422302\n"
     ]
    },
    {
     "name": "stderr",
     "output_type": "stream",
     "text": [
      "100%|██████████| 20/20 [00:11<00:00,  1.78it/s]t/s]  \n",
      " 62%|██████▏   | 3101/5000 [27:41<1:59:01,  3.76s/it]"
     ]
    },
    {
     "name": "stdout",
     "output_type": "stream",
     "text": [
      "step = 3100: loss = -0.10472153127193451, reward = -0.29563093185424805\n"
     ]
    },
    {
     "name": "stderr",
     "output_type": "stream",
     "text": [
      "100%|██████████| 20/20 [00:14<00:00,  1.41it/s]t/s]  \n",
      " 64%|██████▍   | 3201/5000 [28:37<2:20:58,  4.70s/it]"
     ]
    },
    {
     "name": "stdout",
     "output_type": "stream",
     "text": [
      "step = 3200: loss = -0.11518708616495132, reward = -0.15007063746452332\n"
     ]
    },
    {
     "name": "stderr",
     "output_type": "stream",
     "text": [
      "100%|██████████| 20/20 [00:14<00:00,  1.39it/s]t/s]  \n",
      " 66%|██████▌   | 3301/5000 [29:41<2:15:06,  4.77s/it]"
     ]
    },
    {
     "name": "stdout",
     "output_type": "stream",
     "text": [
      "step = 3300: loss = -0.08996358513832092, reward = -0.20825421810150146\n"
     ]
    },
    {
     "name": "stderr",
     "output_type": "stream",
     "text": [
      "100%|██████████| 20/20 [00:11<00:00,  1.73it/s]t/s]  \n",
      " 68%|██████▊   | 3401/5000 [30:35<1:42:30,  3.85s/it]"
     ]
    },
    {
     "name": "stdout",
     "output_type": "stream",
     "text": [
      "step = 3400: loss = -0.06932719796895981, reward = -0.09602121263742447\n"
     ]
    },
    {
     "name": "stderr",
     "output_type": "stream",
     "text": [
      "100%|██████████| 20/20 [00:11<00:00,  1.75it/s]t/s]  \n",
      " 70%|███████   | 3501/5000 [31:26<1:35:16,  3.81s/it]"
     ]
    },
    {
     "name": "stdout",
     "output_type": "stream",
     "text": [
      "step = 3500: loss = 0.08029784262180328, reward = -0.14908118546009064\n"
     ]
    },
    {
     "name": "stderr",
     "output_type": "stream",
     "text": [
      "100%|██████████| 20/20 [00:11<00:00,  1.69it/s]t/s]  \n",
      " 72%|███████▏  | 3601/5000 [32:17<1:31:52,  3.94s/it]"
     ]
    },
    {
     "name": "stdout",
     "output_type": "stream",
     "text": [
      "step = 3600: loss = -0.10365701466798782, reward = -0.21505753695964813\n"
     ]
    },
    {
     "name": "stderr",
     "output_type": "stream",
     "text": [
      "100%|██████████| 20/20 [00:11<00:00,  1.72it/s]t/s]  \n",
      " 74%|███████▍  | 3701/5000 [33:07<1:23:31,  3.86s/it]"
     ]
    },
    {
     "name": "stdout",
     "output_type": "stream",
     "text": [
      "step = 3700: loss = -0.09262917190790176, reward = -0.19250598549842834\n"
     ]
    },
    {
     "name": "stderr",
     "output_type": "stream",
     "text": [
      "100%|██████████| 20/20 [00:11<00:00,  1.75it/s]t/s]  \n",
      " 76%|███████▌  | 3801/5000 [33:57<1:16:11,  3.81s/it]"
     ]
    },
    {
     "name": "stdout",
     "output_type": "stream",
     "text": [
      "step = 3800: loss = -0.09590969979763031, reward = -0.17102284729480743\n"
     ]
    },
    {
     "name": "stderr",
     "output_type": "stream",
     "text": [
      "100%|██████████| 20/20 [00:11<00:00,  1.71it/s]t/s]  \n",
      " 78%|███████▊  | 3901/5000 [34:47<1:11:16,  3.89s/it]"
     ]
    },
    {
     "name": "stdout",
     "output_type": "stream",
     "text": [
      "step = 3900: loss = -0.09566880762577057, reward = -0.2066037952899933\n"
     ]
    },
    {
     "name": "stderr",
     "output_type": "stream",
     "text": [
      "100%|██████████| 20/20 [00:11<00:00,  1.78it/s]t/s]  \n",
      " 80%|████████  | 4001/5000 [35:37<1:02:21,  3.75s/it]"
     ]
    },
    {
     "name": "stdout",
     "output_type": "stream",
     "text": [
      "step = 4000: loss = -0.09816298633813858, reward = -0.24682223796844482\n"
     ]
    },
    {
     "name": "stderr",
     "output_type": "stream",
     "text": [
      "100%|██████████| 20/20 [00:11<00:00,  1.74it/s]t/s]  \n",
      " 82%|████████▏ | 4101/5000 [36:29<57:54,  3.86s/it]"
     ]
    },
    {
     "name": "stdout",
     "output_type": "stream",
     "text": [
      "step = 4100: loss = -0.10664721578359604, reward = -0.08116856217384338\n"
     ]
    },
    {
     "name": "stderr",
     "output_type": "stream",
     "text": [
      "100%|██████████| 20/20 [00:11<00:00,  1.72it/s]t/s]\n",
      " 84%|████████▍ | 4201/5000 [37:21<51:33,  3.87s/it]"
     ]
    },
    {
     "name": "stdout",
     "output_type": "stream",
     "text": [
      "step = 4200: loss = -0.07868582010269165, reward = -0.04766662418842316\n"
     ]
    },
    {
     "name": "stderr",
     "output_type": "stream",
     "text": [
      "100%|██████████| 20/20 [00:13<00:00,  1.46it/s]t/s]\n",
      " 86%|████████▌ | 4301/5000 [38:15<52:52,  4.54s/it]"
     ]
    },
    {
     "name": "stdout",
     "output_type": "stream",
     "text": [
      "step = 4300: loss = -0.07521019876003265, reward = -0.09636393934488297\n"
     ]
    },
    {
     "name": "stderr",
     "output_type": "stream",
     "text": [
      "100%|██████████| 20/20 [00:11<00:00,  1.68it/s]t/s]\n",
      " 88%|████████▊ | 4401/5000 [39:07<40:02,  4.01s/it]"
     ]
    },
    {
     "name": "stdout",
     "output_type": "stream",
     "text": [
      "step = 4400: loss = -0.10130394250154495, reward = -0.1365879327058792\n"
     ]
    },
    {
     "name": "stderr",
     "output_type": "stream",
     "text": [
      "100%|██████████| 20/20 [00:11<00:00,  1.69it/s]t/s]\n",
      " 90%|█████████ | 4501/5000 [39:59<32:47,  3.94s/it]"
     ]
    },
    {
     "name": "stdout",
     "output_type": "stream",
     "text": [
      "step = 4500: loss = -0.10128697752952576, reward = -0.011847374960780144\n"
     ]
    },
    {
     "name": "stderr",
     "output_type": "stream",
     "text": [
      "100%|██████████| 20/20 [00:11<00:00,  1.72it/s]t/s]\n",
      " 92%|█████████▏| 4601/5000 [40:49<25:52,  3.89s/it]"
     ]
    },
    {
     "name": "stdout",
     "output_type": "stream",
     "text": [
      "step = 4600: loss = -0.10102717578411102, reward = -0.12869268655776978\n"
     ]
    },
    {
     "name": "stderr",
     "output_type": "stream",
     "text": [
      "100%|██████████| 20/20 [00:11<00:00,  1.72it/s]t/s]\n",
      " 94%|█████████▍| 4701/5000 [41:42<19:20,  3.88s/it]"
     ]
    },
    {
     "name": "stdout",
     "output_type": "stream",
     "text": [
      "step = 4700: loss = -0.10895377397537231, reward = 0.032198309898376465\n"
     ]
    },
    {
     "name": "stderr",
     "output_type": "stream",
     "text": [
      "100%|██████████| 20/20 [00:12<00:00,  1.63it/s]t/s]\n",
      " 96%|█████████▌| 4801/5000 [42:33<13:27,  4.06s/it]"
     ]
    },
    {
     "name": "stdout",
     "output_type": "stream",
     "text": [
      "step = 4800: loss = -0.10902483761310577, reward = -0.06275109946727753\n"
     ]
    },
    {
     "name": "stderr",
     "output_type": "stream",
     "text": [
      "100%|██████████| 20/20 [00:11<00:00,  1.74it/s]t/s]\n",
      " 98%|█████████▊| 4901/5000 [43:26<06:18,  3.82s/it]"
     ]
    },
    {
     "name": "stdout",
     "output_type": "stream",
     "text": [
      "step = 4900: loss = -0.12051510065793991, reward = -0.05913602560758591\n"
     ]
    },
    {
     "name": "stderr",
     "output_type": "stream",
     "text": [
      "100%|██████████| 5000/5000 [44:05<00:00,  1.89it/s]\n",
      "100%|██████████| 50/50 [00:28<00:00,  1.77it/s]"
     ]
    },
    {
     "name": "stdout",
     "output_type": "stream",
     "text": [
      "AVG RETURN - KAFKA: 0.0030280044\n"
     ]
    },
    {
     "name": "stderr",
     "output_type": "stream",
     "text": [
      "\n"
     ]
    }
   ],
   "source": [
    "# Train on first\n",
    "collect_driver, replay_buffer = get_cd_and_rb(train_env, agent)\n",
    "loss, observations, rewards = train(\n",
    "    agent, train_env, train_env_copy, collect_driver, replay_buffer, steps = num_steps, eval_interval=100)\n",
    "\n",
    "print(\"AVG RETURN - KAFKA:\", \n",
    "      compute_avg_return_episodic(train_env_2, agent.policy, num_episodes=50))"
   ]
  },
  {
   "cell_type": "code",
   "execution_count": 14,
   "metadata": {},
   "outputs": [
    {
     "data": {
      "image/png": "[encoded data removed]",
      "text/plain": [
       "<Figure size 640x480 with 2 Axes>"
      ]
     },
     "metadata": {},
     "output_type": "display_data"
    }
   ],
   "source": [
    "plot_training(loss, rewards, num_steps, 100)"
   ]
  },
  {
   "cell_type": "code",
   "execution_count": 15,
   "metadata": {},
   "outputs": [
    {
     "name": "stderr",
     "output_type": "stream",
     "text": [
      "100%|██████████| 20/20 [00:13<00:00,  1.51it/s]\n",
      "  0%|          | 1/5000 [00:18<26:03:03, 18.76s/it]"
     ]
    },
    {
     "name": "stdout",
     "output_type": "stream",
     "text": [
      "step = 0: loss = 2.3935961723327637, reward = -0.08524542301893234\n"
     ]
    },
    {
     "name": "stderr",
     "output_type": "stream",
     "text": [
      "100%|██████████| 20/20 [00:11<00:00,  1.71it/s]/s] \n",
      "  2%|▏         | 101/5000 [01:09<5:17:43,  3.89s/it]"
     ]
    },
    {
     "name": "stdout",
     "output_type": "stream",
     "text": [
      "step = 100: loss = -0.12164812535047531, reward = -0.09026005119085312\n"
     ]
    },
    {
     "name": "stderr",
     "output_type": "stream",
     "text": [
      "100%|██████████| 20/20 [00:11<00:00,  1.73it/s]/s]  \n",
      "  4%|▍         | 201/5000 [01:59<5:08:48,  3.86s/it]"
     ]
    },
    {
     "name": "stdout",
     "output_type": "stream",
     "text": [
      "step = 200: loss = -0.12125816941261292, reward = -0.02092362567782402\n"
     ]
    },
    {
     "name": "stderr",
     "output_type": "stream",
     "text": [
      "100%|██████████| 20/20 [00:11<00:00,  1.73it/s]/s]  \n",
      "  6%|▌         | 301/5000 [02:51<5:02:07,  3.86s/it]"
     ]
    },
    {
     "name": "stdout",
     "output_type": "stream",
     "text": [
      "step = 300: loss = -0.12100689858198166, reward = -0.019010009244084358\n"
     ]
    },
    {
     "name": "stderr",
     "output_type": "stream",
     "text": [
      "100%|██████████| 20/20 [00:12<00:00,  1.66it/s]/s]  \n",
      "  8%|▊         | 401/5000 [03:42<5:07:32,  4.01s/it]"
     ]
    },
    {
     "name": "stdout",
     "output_type": "stream",
     "text": [
      "step = 400: loss = -0.12203968316316605, reward = -0.1057734340429306\n"
     ]
    },
    {
     "name": "stderr",
     "output_type": "stream",
     "text": [
      "100%|██████████| 20/20 [00:12<00:00,  1.64it/s]/s]  \n",
      " 10%|█         | 501/5000 [04:35<5:10:42,  4.14s/it]"
     ]
    },
    {
     "name": "stdout",
     "output_type": "stream",
     "text": [
      "step = 500: loss = 0.5449185967445374, reward = 0.20654818415641785\n"
     ]
    },
    {
     "name": "stderr",
     "output_type": "stream",
     "text": [
      "100%|██████████| 20/20 [00:11<00:00,  1.73it/s]/s]  \n",
      " 12%|█▏        | 601/5000 [05:27<4:42:49,  3.86s/it]"
     ]
    },
    {
     "name": "stdout",
     "output_type": "stream",
     "text": [
      "step = 600: loss = 0.12020786851644516, reward = -0.08972353488206863\n"
     ]
    },
    {
     "name": "stderr",
     "output_type": "stream",
     "text": [
      "100%|██████████| 20/20 [00:11<00:00,  1.73it/s]/s]  \n",
      " 14%|█▍        | 701/5000 [06:17<4:36:43,  3.86s/it]"
     ]
    },
    {
     "name": "stdout",
     "output_type": "stream",
     "text": [
      "step = 700: loss = 0.1178484857082367, reward = 0.04620600491762161\n"
     ]
    },
    {
     "name": "stderr",
     "output_type": "stream",
     "text": [
      "100%|██████████| 20/20 [00:12<00:00,  1.63it/s]/s]  \n",
      " 16%|█▌        | 801/5000 [07:09<4:44:21,  4.06s/it]"
     ]
    },
    {
     "name": "stdout",
     "output_type": "stream",
     "text": [
      "step = 800: loss = 0.11423169821500778, reward = 0.05797123908996582\n"
     ]
    },
    {
     "name": "stderr",
     "output_type": "stream",
     "text": [
      "100%|██████████| 20/20 [00:13<00:00,  1.50it/s]/s]  \n",
      " 18%|█▊        | 901/5000 [08:09<5:00:31,  4.40s/it]"
     ]
    },
    {
     "name": "stdout",
     "output_type": "stream",
     "text": [
      "step = 900: loss = 0.11202795803546906, reward = 0.08857231587171555\n"
     ]
    },
    {
     "name": "stderr",
     "output_type": "stream",
     "text": [
      "100%|██████████| 20/20 [00:12<00:00,  1.61it/s]t/s] \n",
      " 20%|██        | 1001/5000 [09:05<4:46:14,  4.29s/it]"
     ]
    },
    {
     "name": "stdout",
     "output_type": "stream",
     "text": [
      "step = 1000: loss = 0.1183023676276207, reward = 0.06645048409700394\n"
     ]
    },
    {
     "name": "stderr",
     "output_type": "stream",
     "text": [
      "100%|██████████| 20/20 [00:27<00:00,  1.38s/it]3s/it]\n",
      " 22%|██▏       | 1101/5000 [10:26<10:29:55,  9.69s/it]"
     ]
    },
    {
     "name": "stdout",
     "output_type": "stream",
     "text": [
      "step = 1100: loss = 0.11778132617473602, reward = 0.084475576877594\n"
     ]
    },
    {
     "name": "stderr",
     "output_type": "stream",
     "text": [
      "100%|██████████| 20/20 [00:11<00:00,  1.68it/s]t/s]   \n",
      " 24%|██▍       | 1201/5000 [11:28<4:33:47,  4.32s/it]"
     ]
    },
    {
     "name": "stdout",
     "output_type": "stream",
     "text": [
      "step = 1200: loss = 0.11349839717149734, reward = 0.23287606239318848\n"
     ]
    },
    {
     "name": "stderr",
     "output_type": "stream",
     "text": [
      "100%|██████████| 20/20 [00:12<00:00,  1.64it/s]t/s]  \n",
      " 26%|██▌       | 1301/5000 [12:21<4:08:57,  4.04s/it]"
     ]
    },
    {
     "name": "stdout",
     "output_type": "stream",
     "text": [
      "step = 1300: loss = 0.09798666089773178, reward = 0.15252044796943665\n"
     ]
    },
    {
     "name": "stderr",
     "output_type": "stream",
     "text": [
      "100%|██████████| 20/20 [00:11<00:00,  1.73it/s]t/s]  \n",
      " 28%|██▊       | 1401/5000 [13:14<3:51:58,  3.87s/it]"
     ]
    },
    {
     "name": "stdout",
     "output_type": "stream",
     "text": [
      "step = 1400: loss = 0.10044006258249283, reward = 0.2212250679731369\n"
     ]
    },
    {
     "name": "stderr",
     "output_type": "stream",
     "text": [
      "100%|██████████| 20/20 [00:11<00:00,  1.68it/s]t/s]  \n",
      " 30%|███       | 1501/5000 [14:09<3:53:43,  4.01s/it]"
     ]
    },
    {
     "name": "stdout",
     "output_type": "stream",
     "text": [
      "step = 1500: loss = 0.08438204228878021, reward = 0.21633855998516083\n"
     ]
    },
    {
     "name": "stderr",
     "output_type": "stream",
     "text": [
      "100%|██████████| 20/20 [00:15<00:00,  1.27it/s]t/s]  \n",
      " 32%|███▏      | 1601/5000 [15:05<4:49:45,  5.11s/it]"
     ]
    },
    {
     "name": "stdout",
     "output_type": "stream",
     "text": [
      "step = 1600: loss = 0.06959390640258789, reward = 0.2215852439403534\n"
     ]
    },
    {
     "name": "stderr",
     "output_type": "stream",
     "text": [
      "100%|██████████| 20/20 [00:11<00:00,  1.68it/s]t/s]  \n",
      " 34%|███▍      | 1701/5000 [15:59<3:39:43,  4.00s/it]"
     ]
    },
    {
     "name": "stdout",
     "output_type": "stream",
     "text": [
      "step = 1700: loss = 0.07805465906858444, reward = 0.2126867026090622\n"
     ]
    },
    {
     "name": "stderr",
     "output_type": "stream",
     "text": [
      "100%|██████████| 20/20 [00:11<00:00,  1.77it/s]t/s]  \n",
      " 36%|███▌      | 1801/5000 [16:50<3:21:09,  3.77s/it]"
     ]
    },
    {
     "name": "stdout",
     "output_type": "stream",
     "text": [
      "step = 1800: loss = 0.11215945333242416, reward = 0.13990293443202972\n"
     ]
    },
    {
     "name": "stderr",
     "output_type": "stream",
     "text": [
      "100%|██████████| 20/20 [00:11<00:00,  1.67it/s]t/s]  \n",
      " 38%|███▊      | 1901/5000 [17:42<3:25:01,  3.97s/it]"
     ]
    },
    {
     "name": "stdout",
     "output_type": "stream",
     "text": [
      "step = 1900: loss = 0.1106598749756813, reward = 0.24889183044433594\n"
     ]
    },
    {
     "name": "stderr",
     "output_type": "stream",
     "text": [
      "100%|██████████| 20/20 [00:11<00:00,  1.75it/s]t/s]  \n",
      " 40%|████      | 2001/5000 [18:31<3:10:37,  3.81s/it]"
     ]
    },
    {
     "name": "stdout",
     "output_type": "stream",
     "text": [
      "step = 2000: loss = 0.07175104320049286, reward = 0.22520026564598083\n"
     ]
    },
    {
     "name": "stderr",
     "output_type": "stream",
     "text": [
      "100%|██████████| 20/20 [00:11<00:00,  1.73it/s]t/s]  \n",
      " 42%|████▏     | 2101/5000 [19:21<3:05:44,  3.84s/it]"
     ]
    },
    {
     "name": "stdout",
     "output_type": "stream",
     "text": [
      "step = 2100: loss = 0.05647712200880051, reward = 0.2317294329404831\n"
     ]
    },
    {
     "name": "stderr",
     "output_type": "stream",
     "text": [
      "100%|██████████| 20/20 [00:11<00:00,  1.77it/s]t/s]  \n",
      " 44%|████▍     | 2201/5000 [20:11<2:56:22,  3.78s/it]"
     ]
    },
    {
     "name": "stdout",
     "output_type": "stream",
     "text": [
      "step = 2200: loss = -0.12164752930402756, reward = 0.2467513382434845\n"
     ]
    },
    {
     "name": "stderr",
     "output_type": "stream",
     "text": [
      "100%|██████████| 20/20 [00:11<00:00,  1.76it/s]t/s]  \n",
      " 46%|████▌     | 2301/5000 [21:01<2:50:55,  3.80s/it]"
     ]
    },
    {
     "name": "stdout",
     "output_type": "stream",
     "text": [
      "step = 2300: loss = 0.05813376232981682, reward = 0.2371426820755005\n"
     ]
    },
    {
     "name": "stderr",
     "output_type": "stream",
     "text": [
      "100%|██████████| 20/20 [00:11<00:00,  1.74it/s]t/s]  \n",
      " 48%|████▊     | 2401/5000 [21:50<2:46:00,  3.83s/it]"
     ]
    },
    {
     "name": "stdout",
     "output_type": "stream",
     "text": [
      "step = 2400: loss = 0.10486495494842529, reward = 0.28368085622787476\n"
     ]
    },
    {
     "name": "stderr",
     "output_type": "stream",
     "text": [
      "100%|██████████| 20/20 [00:11<00:00,  1.76it/s]t/s]  \n",
      " 50%|█████     | 2501/5000 [22:40<2:39:08,  3.82s/it]"
     ]
    },
    {
     "name": "stdout",
     "output_type": "stream",
     "text": [
      "step = 2500: loss = 0.10581547021865845, reward = 0.21570351719856262\n"
     ]
    },
    {
     "name": "stderr",
     "output_type": "stream",
     "text": [
      "100%|██████████| 20/20 [00:11<00:00,  1.72it/s]t/s]  \n",
      " 52%|█████▏    | 2601/5000 [23:30<2:34:59,  3.88s/it]"
     ]
    },
    {
     "name": "stdout",
     "output_type": "stream",
     "text": [
      "step = 2600: loss = 0.03669300675392151, reward = 0.2747664451599121\n"
     ]
    },
    {
     "name": "stderr",
     "output_type": "stream",
     "text": [
      "100%|██████████| 20/20 [00:11<00:00,  1.75it/s]t/s]  \n",
      " 54%|█████▍    | 2701/5000 [24:20<2:26:09,  3.81s/it]"
     ]
    },
    {
     "name": "stdout",
     "output_type": "stream",
     "text": [
      "step = 2700: loss = 0.049320586025714874, reward = 0.26521965861320496\n"
     ]
    },
    {
     "name": "stderr",
     "output_type": "stream",
     "text": [
      "100%|██████████| 20/20 [00:11<00:00,  1.70it/s]t/s]  \n",
      " 56%|█████▌    | 2801/5000 [25:10<2:23:52,  3.93s/it]"
     ]
    },
    {
     "name": "stdout",
     "output_type": "stream",
     "text": [
      "step = 2800: loss = 0.10751616209745407, reward = 0.03046208620071411\n"
     ]
    },
    {
     "name": "stderr",
     "output_type": "stream",
     "text": [
      "100%|██████████| 20/20 [00:11<00:00,  1.76it/s]t/s]  \n",
      " 58%|█████▊    | 2901/5000 [26:00<2:12:47,  3.80s/it]"
     ]
    },
    {
     "name": "stdout",
     "output_type": "stream",
     "text": [
      "step = 2900: loss = 0.028574436902999878, reward = -0.078873410820961\n"
     ]
    },
    {
     "name": "stderr",
     "output_type": "stream",
     "text": [
      "100%|██████████| 20/20 [00:11<00:00,  1.76it/s]t/s]  \n",
      " 60%|██████    | 3001/5000 [26:49<2:06:03,  3.78s/it]"
     ]
    },
    {
     "name": "stdout",
     "output_type": "stream",
     "text": [
      "step = 3000: loss = 0.11305896937847137, reward = -0.0822506695985794\n"
     ]
    },
    {
     "name": "stderr",
     "output_type": "stream",
     "text": [
      "100%|██████████| 20/20 [00:11<00:00,  1.72it/s]t/s]  \n",
      " 62%|██████▏   | 3101/5000 [27:39<2:02:51,  3.88s/it]"
     ]
    },
    {
     "name": "stdout",
     "output_type": "stream",
     "text": [
      "step = 3100: loss = 0.10693422704935074, reward = -0.13296742737293243\n"
     ]
    },
    {
     "name": "stderr",
     "output_type": "stream",
     "text": [
      "100%|██████████| 20/20 [00:11<00:00,  1.76it/s]t/s]  \n",
      " 64%|██████▍   | 3201/5000 [28:29<1:53:45,  3.79s/it]"
     ]
    },
    {
     "name": "stdout",
     "output_type": "stream",
     "text": [
      "step = 3200: loss = 0.1026078313589096, reward = -0.054457150399684906\n"
     ]
    },
    {
     "name": "stderr",
     "output_type": "stream",
     "text": [
      "100%|██████████| 20/20 [00:11<00:00,  1.70it/s]t/s]  \n",
      " 66%|██████▌   | 3301/5000 [29:21<1:50:31,  3.90s/it]"
     ]
    },
    {
     "name": "stdout",
     "output_type": "stream",
     "text": [
      "step = 3300: loss = 0.09237673878669739, reward = -0.13591960072517395\n"
     ]
    },
    {
     "name": "stderr",
     "output_type": "stream",
     "text": [
      "100%|██████████| 20/20 [00:11<00:00,  1.74it/s]t/s]  \n",
      " 68%|██████▊   | 3401/5000 [30:11<1:42:14,  3.84s/it]"
     ]
    },
    {
     "name": "stdout",
     "output_type": "stream",
     "text": [
      "step = 3400: loss = 0.10058660060167313, reward = -0.06709173321723938\n"
     ]
    },
    {
     "name": "stderr",
     "output_type": "stream",
     "text": [
      "100%|██████████| 20/20 [00:11<00:00,  1.76it/s]t/s]  \n",
      " 70%|███████   | 3501/5000 [31:00<1:34:43,  3.79s/it]"
     ]
    },
    {
     "name": "stdout",
     "output_type": "stream",
     "text": [
      "step = 3500: loss = 0.0451681949198246, reward = -0.06473610550165176\n"
     ]
    },
    {
     "name": "stderr",
     "output_type": "stream",
     "text": [
      "100%|██████████| 20/20 [00:11<00:00,  1.71it/s]t/s]  \n",
      " 72%|███████▏  | 3601/5000 [31:50<1:30:36,  3.89s/it]"
     ]
    },
    {
     "name": "stdout",
     "output_type": "stream",
     "text": [
      "step = 3600: loss = 0.11888808757066727, reward = -0.14535395801067352\n"
     ]
    },
    {
     "name": "stderr",
     "output_type": "stream",
     "text": [
      "100%|██████████| 20/20 [00:11<00:00,  1.76it/s]t/s]  \n",
      " 74%|███████▍  | 3701/5000 [32:40<1:22:02,  3.79s/it]"
     ]
    },
    {
     "name": "stdout",
     "output_type": "stream",
     "text": [
      "step = 3700: loss = 0.022169478237628937, reward = -0.06088108569383621\n"
     ]
    },
    {
     "name": "stderr",
     "output_type": "stream",
     "text": [
      "100%|██████████| 20/20 [00:11<00:00,  1.76it/s]t/s]  \n",
      " 76%|███████▌  | 3801/5000 [33:30<1:15:42,  3.79s/it]"
     ]
    },
    {
     "name": "stdout",
     "output_type": "stream",
     "text": [
      "step = 3800: loss = -0.11868000030517578, reward = -0.07580452412366867\n"
     ]
    },
    {
     "name": "stderr",
     "output_type": "stream",
     "text": [
      "100%|██████████| 20/20 [00:11<00:00,  1.76it/s]t/s]  \n",
      " 78%|███████▊  | 3901/5000 [34:20<1:09:30,  3.79s/it]"
     ]
    },
    {
     "name": "stdout",
     "output_type": "stream",
     "text": [
      "step = 3900: loss = -0.10230109095573425, reward = -0.07970742881298065\n"
     ]
    },
    {
     "name": "stderr",
     "output_type": "stream",
     "text": [
      "100%|██████████| 20/20 [00:11<00:00,  1.71it/s]t/s]  \n",
      " 80%|████████  | 4001/5000 [35:10<1:04:59,  3.90s/it]"
     ]
    },
    {
     "name": "stdout",
     "output_type": "stream",
     "text": [
      "step = 4000: loss = 0.07089538872241974, reward = -0.0261381808668375\n"
     ]
    },
    {
     "name": "stderr",
     "output_type": "stream",
     "text": [
      "100%|██████████| 20/20 [00:11<00:00,  1.77it/s]t/s]  \n",
      " 82%|████████▏ | 4101/5000 [36:00<56:37,  3.78s/it]"
     ]
    },
    {
     "name": "stdout",
     "output_type": "stream",
     "text": [
      "step = 4100: loss = -0.022438040003180504, reward = -0.09630493819713593\n"
     ]
    },
    {
     "name": "stderr",
     "output_type": "stream",
     "text": [
      "100%|██████████| 20/20 [00:11<00:00,  1.77it/s]t/s]\n",
      " 84%|████████▍ | 4201/5000 [36:50<50:22,  3.78s/it]"
     ]
    },
    {
     "name": "stdout",
     "output_type": "stream",
     "text": [
      "step = 4200: loss = 0.07430949807167053, reward = -0.061931073665618896\n"
     ]
    },
    {
     "name": "stderr",
     "output_type": "stream",
     "text": [
      "100%|██████████| 20/20 [00:11<00:00,  1.73it/s]t/s]\n",
      " 86%|████████▌ | 4301/5000 [37:40<45:08,  3.88s/it]"
     ]
    },
    {
     "name": "stdout",
     "output_type": "stream",
     "text": [
      "step = 4300: loss = 0.012303875759243965, reward = -0.1478734314441681\n"
     ]
    },
    {
     "name": "stderr",
     "output_type": "stream",
     "text": [
      "100%|██████████| 20/20 [00:11<00:00,  1.77it/s]t/s]\n",
      " 88%|████████▊ | 4401/5000 [38:29<37:45,  3.78s/it]"
     ]
    },
    {
     "name": "stdout",
     "output_type": "stream",
     "text": [
      "step = 4400: loss = -0.11188575625419617, reward = -0.1391969472169876\n"
     ]
    },
    {
     "name": "stderr",
     "output_type": "stream",
     "text": [
      "100%|██████████| 20/20 [00:12<00:00,  1.66it/s]t/s]\n",
      " 90%|█████████ | 4501/5000 [39:20<33:38,  4.04s/it]"
     ]
    },
    {
     "name": "stdout",
     "output_type": "stream",
     "text": [
      "step = 4500: loss = -0.055052660405635834, reward = -0.1591639518737793\n"
     ]
    },
    {
     "name": "stderr",
     "output_type": "stream",
     "text": [
      "100%|██████████| 20/20 [00:11<00:00,  1.72it/s]t/s]\n",
      " 92%|█████████▏| 4601/5000 [40:12<25:47,  3.88s/it]"
     ]
    },
    {
     "name": "stdout",
     "output_type": "stream",
     "text": [
      "step = 4600: loss = -0.0020119748078286648, reward = -0.11100932210683823\n"
     ]
    },
    {
     "name": "stderr",
     "output_type": "stream",
     "text": [
      "100%|██████████| 20/20 [00:12<00:00,  1.60it/s]t/s]\n",
      " 94%|█████████▍| 4701/5000 [41:04<20:39,  4.14s/it]"
     ]
    },
    {
     "name": "stdout",
     "output_type": "stream",
     "text": [
      "step = 4700: loss = -0.008959325030446053, reward = -0.08426783978939056\n"
     ]
    },
    {
     "name": "stderr",
     "output_type": "stream",
     "text": [
      "100%|██████████| 20/20 [00:16<00:00,  1.25it/s]t/s]\n",
      " 96%|█████████▌| 4801/5000 [42:03<18:24,  5.55s/it]"
     ]
    },
    {
     "name": "stdout",
     "output_type": "stream",
     "text": [
      "step = 4800: loss = 0.004117509815841913, reward = -0.03693928197026253\n"
     ]
    },
    {
     "name": "stderr",
     "output_type": "stream",
     "text": [
      "100%|██████████| 20/20 [00:11<00:00,  1.67it/s]t/s]\n",
      " 98%|█████████▊| 4901/5000 [42:54<06:33,  3.97s/it]"
     ]
    },
    {
     "name": "stdout",
     "output_type": "stream",
     "text": [
      "step = 4900: loss = 0.05862385034561157, reward = -0.06138558313250542\n"
     ]
    },
    {
     "name": "stderr",
     "output_type": "stream",
     "text": [
      "100%|██████████| 5000/5000 [43:33<00:00,  1.91it/s]\n"
     ]
    }
   ],
   "source": [
    "loss, observations, rewards = train(\n",
    "    agent, train_env, train_env_copy, collect_driver, replay_buffer, steps = num_steps, eval_interval=100)\n"
   ]
  },
  {
   "cell_type": "code",
   "execution_count": 17,
   "metadata": {},
   "outputs": [
    {
     "name": "stderr",
     "output_type": "stream",
     "text": [
      "100%|██████████| 50/50 [00:32<00:00,  1.55it/s]"
     ]
    },
    {
     "name": "stdout",
     "output_type": "stream",
     "text": [
      "AVG RETURN - KAFKA: -0.026877487\n"
     ]
    },
    {
     "name": "stderr",
     "output_type": "stream",
     "text": [
      "\n"
     ]
    },
    {
     "ename": "",
     "evalue": "",
     "output_type": "error",
     "traceback": [
      "\u001b[1;31mThe Kernel crashed while executing code in the the current cell or a previous cell. Please review the code in the cell(s) to identify a possible cause of the failure. Click <a href='https://aka.ms/vscodeJupyterKernelCrash'>here</a> for more info. View Jupyter <a href='command:jupyter.viewOutput'>log</a> for further details."
     ]
    }
   ],
   "source": [
    "print(\"AVG RETURN - KAFKA:\", \n",
    "      compute_avg_return_episodic(train_env_2, agent.policy, num_episodes=50))"
   ]
  },
  {
   "cell_type": "code",
   "execution_count": 15,
   "metadata": {},
   "outputs": [
    {
     "name": "stderr",
     "output_type": "stream",
     "text": [
      "100%|██████████| 20/20 [00:07<00:00,  2.78it/s]\n",
      "  0%|          | 1/2000 [00:11<6:11:57, 11.16s/it]"
     ]
    },
    {
     "name": "stdout",
     "output_type": "stream",
     "text": [
      "step = 0: loss = 9.476568222045898, reward = 0.08902159333229065\n"
     ]
    },
    {
     "name": "stderr",
     "output_type": "stream",
     "text": [
      "100%|██████████| 20/20 [00:07<00:00,  2.82it/s]/s]\n",
      "  5%|▌         | 101/2000 [01:47<1:35:29,  3.02s/it]"
     ]
    },
    {
     "name": "stdout",
     "output_type": "stream",
     "text": [
      "step = 100: loss = 0.059642937034368515, reward = 0.08900009095668793\n"
     ]
    },
    {
     "name": "stderr",
     "output_type": "stream",
     "text": [
      "100%|██████████| 20/20 [00:07<00:00,  2.81it/s]/s]  \n",
      " 10%|█         | 201/2000 [03:26<1:31:07,  3.04s/it]"
     ]
    },
    {
     "name": "stdout",
     "output_type": "stream",
     "text": [
      "step = 200: loss = 0.0535656213760376, reward = 0.08900009095668793\n"
     ]
    },
    {
     "name": "stderr",
     "output_type": "stream",
     "text": [
      "100%|██████████| 20/20 [00:07<00:00,  2.81it/s]/s]  \n",
      " 15%|█▌        | 301/2000 [05:03<1:25:42,  3.03s/it]"
     ]
    },
    {
     "name": "stdout",
     "output_type": "stream",
     "text": [
      "step = 300: loss = 0.04861774295568466, reward = 0.08900009095668793\n"
     ]
    },
    {
     "name": "stderr",
     "output_type": "stream",
     "text": [
      "100%|██████████| 20/20 [00:07<00:00,  2.68it/s]/s]  \n",
      " 20%|██        | 401/2000 [06:41<1:23:49,  3.15s/it]"
     ]
    },
    {
     "name": "stdout",
     "output_type": "stream",
     "text": [
      "step = 400: loss = 0.04700877517461777, reward = 0.08900009095668793\n"
     ]
    },
    {
     "name": "stderr",
     "output_type": "stream",
     "text": [
      "100%|██████████| 20/20 [00:07<00:00,  2.76it/s]/s]  \n",
      " 25%|██▌       | 501/2000 [08:21<1:17:13,  3.09s/it]"
     ]
    },
    {
     "name": "stdout",
     "output_type": "stream",
     "text": [
      "step = 500: loss = 0.02722451649606228, reward = 0.08900009095668793\n"
     ]
    },
    {
     "name": "stderr",
     "output_type": "stream",
     "text": [
      "100%|██████████| 20/20 [00:07<00:00,  2.79it/s]/s]  \n",
      " 30%|███       | 601/2000 [10:00<1:11:00,  3.05s/it]"
     ]
    },
    {
     "name": "stdout",
     "output_type": "stream",
     "text": [
      "step = 600: loss = 0.047364652156829834, reward = 0.08900009095668793\n"
     ]
    },
    {
     "name": "stderr",
     "output_type": "stream",
     "text": [
      "100%|██████████| 20/20 [00:07<00:00,  2.80it/s]/s]  \n",
      " 35%|███▌      | 701/2000 [11:37<1:05:47,  3.04s/it]"
     ]
    },
    {
     "name": "stdout",
     "output_type": "stream",
     "text": [
      "step = 700: loss = 0.04358407109975815, reward = 0.08900009095668793\n"
     ]
    },
    {
     "name": "stderr",
     "output_type": "stream",
     "text": [
      "100%|██████████| 20/20 [00:07<00:00,  2.63it/s]/s]  \n",
      " 40%|████      | 801/2000 [13:19<1:03:25,  3.17s/it]"
     ]
    },
    {
     "name": "stdout",
     "output_type": "stream",
     "text": [
      "step = 800: loss = 0.035567134618759155, reward = 0.08900009095668793\n"
     ]
    },
    {
     "name": "stderr",
     "output_type": "stream",
     "text": [
      "100%|██████████| 20/20 [00:07<00:00,  2.64it/s]/s]  \n",
      " 45%|████▌     | 901/2000 [15:03<59:11,  3.23s/it]"
     ]
    },
    {
     "name": "stdout",
     "output_type": "stream",
     "text": [
      "step = 900: loss = 0.04098467528820038, reward = 0.08900009095668793\n"
     ]
    },
    {
     "name": "stderr",
     "output_type": "stream",
     "text": [
      "100%|██████████| 20/20 [00:07<00:00,  2.56it/s]t/s]\n",
      " 50%|█████     | 1001/2000 [16:45<54:24,  3.27s/it]"
     ]
    },
    {
     "name": "stdout",
     "output_type": "stream",
     "text": [
      "step = 1000: loss = 0.0423898883163929, reward = 0.08900009095668793\n"
     ]
    },
    {
     "name": "stderr",
     "output_type": "stream",
     "text": [
      "100%|██████████| 20/20 [00:07<00:00,  2.76it/s]t/s]\n",
      " 55%|█████▌    | 1101/2000 [18:25<45:51,  3.06s/it]"
     ]
    },
    {
     "name": "stdout",
     "output_type": "stream",
     "text": [
      "step = 1100: loss = 0.0068428427912294865, reward = 0.08900009095668793\n"
     ]
    },
    {
     "name": "stderr",
     "output_type": "stream",
     "text": [
      "100%|██████████| 20/20 [00:07<00:00,  2.76it/s]t/s]\n",
      " 60%|██████    | 1201/2000 [20:06<41:46,  3.14s/it]"
     ]
    },
    {
     "name": "stdout",
     "output_type": "stream",
     "text": [
      "step = 1200: loss = 0.006304117850959301, reward = 0.08900009095668793\n"
     ]
    },
    {
     "name": "stderr",
     "output_type": "stream",
     "text": [
      "100%|██████████| 20/20 [00:08<00:00,  2.42it/s]t/s]\n",
      " 65%|██████▌   | 1301/2000 [21:48<39:23,  3.38s/it]"
     ]
    },
    {
     "name": "stdout",
     "output_type": "stream",
     "text": [
      "step = 1300: loss = -0.049190741032361984, reward = 0.08900009095668793\n"
     ]
    },
    {
     "name": "stderr",
     "output_type": "stream",
     "text": [
      "100%|██████████| 20/20 [00:07<00:00,  2.65it/s]t/s]\n",
      " 70%|███████   | 1401/2000 [23:27<31:34,  3.16s/it]"
     ]
    },
    {
     "name": "stdout",
     "output_type": "stream",
     "text": [
      "step = 1400: loss = -0.05680543929338455, reward = 0.08900009095668793\n"
     ]
    },
    {
     "name": "stderr",
     "output_type": "stream",
     "text": [
      "100%|██████████| 20/20 [00:07<00:00,  2.77it/s]t/s]\n",
      " 75%|███████▌  | 1501/2000 [25:04<25:30,  3.07s/it]"
     ]
    },
    {
     "name": "stdout",
     "output_type": "stream",
     "text": [
      "step = 1500: loss = 0.03054279275238514, reward = 0.08900009095668793\n"
     ]
    },
    {
     "name": "stderr",
     "output_type": "stream",
     "text": [
      "100%|██████████| 20/20 [00:07<00:00,  2.71it/s]t/s]\n",
      " 80%|████████  | 1601/2000 [26:44<20:48,  3.13s/it]"
     ]
    },
    {
     "name": "stdout",
     "output_type": "stream",
     "text": [
      "step = 1600: loss = 0.005212224554270506, reward = 0.08900009095668793\n"
     ]
    },
    {
     "name": "stderr",
     "output_type": "stream",
     "text": [
      "100%|██████████| 20/20 [00:07<00:00,  2.79it/s]t/s]\n",
      " 85%|████████▌ | 1701/2000 [28:25<15:17,  3.07s/it]"
     ]
    },
    {
     "name": "stdout",
     "output_type": "stream",
     "text": [
      "step = 1700: loss = -0.012469688430428505, reward = 0.08900009095668793\n"
     ]
    },
    {
     "name": "stderr",
     "output_type": "stream",
     "text": [
      "100%|██████████| 20/20 [00:07<00:00,  2.71it/s]t/s]\n",
      " 90%|█████████ | 1801/2000 [30:03<10:17,  3.10s/it]"
     ]
    },
    {
     "name": "stdout",
     "output_type": "stream",
     "text": [
      "step = 1800: loss = -0.022902732715010643, reward = 0.08900009095668793\n"
     ]
    },
    {
     "name": "stderr",
     "output_type": "stream",
     "text": [
      "100%|██████████| 20/20 [00:07<00:00,  2.75it/s]t/s]\n",
      " 95%|█████████▌| 1901/2000 [31:42<05:06,  3.10s/it]"
     ]
    },
    {
     "name": "stdout",
     "output_type": "stream",
     "text": [
      "step = 1900: loss = -3.552382986526936e-05, reward = 0.08900009095668793\n"
     ]
    },
    {
     "name": "stderr",
     "output_type": "stream",
     "text": [
      "100%|██████████| 2000/2000 [33:16<00:00,  1.00it/s]\n",
      "100%|██████████| 50/50 [00:19<00:00,  2.58it/s]"
     ]
    },
    {
     "name": "stdout",
     "output_type": "stream",
     "text": [
      "AVG RETURN - KAFKA: 0.08900006\n"
     ]
    },
    {
     "name": "stderr",
     "output_type": "stream",
     "text": [
      "\n"
     ]
    }
   ],
   "source": [
    "# Train on second\n",
    "collect_driver, replay_buffer = get_cd_and_rb(train_env_2, agent)\n",
    "loss, observations, rewards = train(\n",
    "    agent, train_env_2, train_env_2_copy, collect_driver, replay_buffer, steps = num_steps, eval_interval=100)\n",
    "\n",
    "print(\"AVG RETURN - KAFKA:\", \n",
    "      compute_avg_return_episodic(train_env_2, agent.policy, num_episodes=50))"
   ]
  },
  {
   "cell_type": "code",
   "execution_count": null,
   "metadata": {},
   "outputs": [],
   "source": [
    "print(\"AVG RETURN - TEST:\", \n",
    "      compute_avg_return_episodic(test_env, agent.policy, num_episodes=50))\n",
    "\n",
    "# Test environment\n",
    "collect_driver, replay_buffer = get_cd_and_rb(test_env, agent)\n",
    "loss, observations, rewards = train(\n",
    "    agent, test_env, test_env_copy, collect_driver, replay_buffer, steps = num_steps, eval_interval=100)\n",
    "\n",
    "print(\"AVG RETURN - TEST:\", \n",
    "      compute_avg_return_episodic(test_env, agent.policy, num_episodes=50))"
   ]
  },
  {
   "cell_type": "markdown",
   "metadata": {},
   "source": [
    "Final results."
   ]
  },
  {
   "cell_type": "code",
   "execution_count": 31,
   "metadata": {},
   "outputs": [
    {
     "name": "stderr",
     "output_type": "stream",
     "text": [
      "100%|██████████| 50/50 [00:00<00:00, 74.34it/s]\n"
     ]
    },
    {
     "name": "stdout",
     "output_type": "stream",
     "text": [
      "AVG RETURN - AVRORA: 1.2897495\n"
     ]
    },
    {
     "name": "stderr",
     "output_type": "stream",
     "text": [
      "100%|██████████| 50/50 [00:28<00:00,  1.78it/s]\n"
     ]
    },
    {
     "name": "stdout",
     "output_type": "stream",
     "text": [
      "AVG RETURN - KAFKA: -0.6872998\n"
     ]
    },
    {
     "name": "stderr",
     "output_type": "stream",
     "text": [
      "100%|██████████| 50/50 [00:27<00:00,  1.79it/s]"
     ]
    },
    {
     "name": "stdout",
     "output_type": "stream",
     "text": [
      "AVG RETURN - TEST: 0.15185018\n"
     ]
    },
    {
     "name": "stderr",
     "output_type": "stream",
     "text": [
      "\n"
     ]
    }
   ],
   "source": [
    "print(\"AVG RETURN - AVRORA:\", \n",
    "      compute_avg_return_episodic(train_env, agent.policy, num_episodes=50))\n",
    "\n",
    "print(\"AVG RETURN - KAFKA:\", \n",
    "      compute_avg_return_episodic(train_env_2, agent.policy, num_episodes=50))\n",
    "\n",
    "print(\"AVG RETURN - TEST:\", \n",
    "      compute_avg_return_episodic(test_env, agent.policy, num_episodes=50))"
   ]
  },
  {
   "cell_type": "markdown",
   "metadata": {},
   "source": [
    "### Train on a single dataset"
   ]
  },
  {
   "cell_type": "code",
   "execution_count": 11,
   "metadata": {},
   "outputs": [
    {
     "name": "stdout",
     "output_type": "stream",
     "text": [
      "Successfully initialized a JVM Environment!\n",
      " JDK: jdk-11.0.20.1.jdk/bin,\n",
      " Benchmark: avrora (dacapo-bench.jar),\n",
      " Number of iterations: 5,\n",
      " Goal: avgGCPause,\n",
      " Number of JVM options: 2,\n",
      " JVM options: {'MaxTenuringThreshold': {'min': 1, 'max': 16, 'step': 3}, 'ParallelGCThreads': {'min': 4, 'max': 24, 'step': 4}},\n",
      " Env. default state: [13, 16, 0.01032, 0.0220530411853552, 0.0220509416656523, 0.0, 0.0, 0.0, 0.0, 0.9816754502341878],\n",
      " Env. default goal value: 0.01032,\n",
      "\n",
      "Successfully initialized a JVM Environment!\n",
      " JDK: jdk-11.0.20.1.jdk/bin,\n",
      " Benchmark: kafka (dacapo-bench.jar),\n",
      " Number of iterations: 5,\n",
      " Goal: avgGCPause,\n",
      " Number of JVM options: 2,\n",
      " JVM options: {'MaxTenuringThreshold': {'min': 1, 'max': 16, 'step': 3}, 'ParallelGCThreads': {'min': 4, 'max': 24, 'step': 4}},\n",
      " Env. default state: [4, 20, 0.03266, 0.9999994550464116, 0.9999992366373232, 0.8793103448275863, 0.8807760141093476, 0.8774827845478718, 0.8781925343811396, 2.3067374411080144e-05],\n",
      " Env. default goal value: 0.03266,\n",
      "\n",
      "Successfully initialized a JVM Environment!\n",
      " JDK: jdk-11.0.20.1.jdk/bin,\n",
      " Benchmark: kafka (dacapo-bench.jar),\n",
      " Number of iterations: 5,\n",
      " Goal: avgGCPause,\n",
      " Number of JVM options: 2,\n",
      " JVM options: {'MaxTenuringThreshold': {'min': 1, 'max': 16, 'step': 3}, 'ParallelGCThreads': {'min': 4, 'max': 24, 'step': 4}},\n",
      " Env. default state: [4, 12, 0.02978, 0.9999992902418988, 0.9999990063540516, 0.9655172413793104, 0.970194003527337, 0.9693582431571556, 0.9685658153241652, 2.0695962088444764e-05],\n",
      " Env. default goal value: 0.02978,\n",
      "\n"
     ]
    },
    {
     "name": "stderr",
     "output_type": "stream",
     "text": [
      "100%|██████████| 50000/50000 [04:46<00:00, 174.50it/s]\n"
     ]
    }
   ],
   "source": [
    "num_steps = 5000\n",
    "\n",
    "\n",
    "# Collect trajectories from both benchmarks.\n",
    "dataset_iter = get_dataset_iter([train_env, train_env_2], 50000, agent, train_episodes_per_iteration)"
   ]
  },
  {
   "cell_type": "code",
   "execution_count": 28,
   "metadata": {},
   "outputs": [
    {
     "name": "stderr",
     "output_type": "stream",
     "text": [
      "  0%|          | 0/20000 [00:00<?, ?it/s]"
     ]
    },
    {
     "name": "stderr",
     "output_type": "stream",
     "text": [
      "  0%|          | 4/20000 [00:11<12:12:23,  2.20s/it]"
     ]
    },
    {
     "name": "stdout",
     "output_type": "stream",
     "text": [
      "step = 0: loss = 0.24985742568969727, reward = 0.03627775236964226\n"
     ]
    },
    {
     "name": "stderr",
     "output_type": "stream",
     "text": [
      "  1%|          | 104/20000 [00:22<3:04:36,  1.80it/s]"
     ]
    },
    {
     "name": "stdout",
     "output_type": "stream",
     "text": [
      "step = 100: loss = 0.18949705362319946, reward = 0.03435734659433365\n"
     ]
    },
    {
     "name": "stderr",
     "output_type": "stream",
     "text": [
      "  1%|          | 204/20000 [00:35<4:31:45,  1.21it/s]"
     ]
    },
    {
     "name": "stdout",
     "output_type": "stream",
     "text": [
      "step = 200: loss = 0.15754052996635437, reward = 0.02616189420223236\n"
     ]
    },
    {
     "name": "stderr",
     "output_type": "stream",
     "text": [
      "  2%|▏         | 304/20000 [00:47<4:28:42,  1.22it/s]"
     ]
    },
    {
     "name": "stdout",
     "output_type": "stream",
     "text": [
      "step = 300: loss = 0.13620947301387787, reward = -0.019210290163755417\n"
     ]
    },
    {
     "name": "stderr",
     "output_type": "stream",
     "text": [
      "  2%|▏         | 404/20000 [01:00<4:26:59,  1.22it/s]"
     ]
    },
    {
     "name": "stdout",
     "output_type": "stream",
     "text": [
      "step = 400: loss = 0.2568551301956177, reward = 0.023504946380853653\n"
     ]
    },
    {
     "name": "stderr",
     "output_type": "stream",
     "text": [
      "  3%|▎         | 504/20000 [01:13<4:25:48,  1.22it/s]"
     ]
    },
    {
     "name": "stdout",
     "output_type": "stream",
     "text": [
      "step = 500: loss = 0.1418035924434662, reward = 0.018958551809191704\n"
     ]
    },
    {
     "name": "stderr",
     "output_type": "stream",
     "text": [
      "  3%|▎         | 604/20000 [01:26<4:25:47,  1.22it/s]"
     ]
    },
    {
     "name": "stdout",
     "output_type": "stream",
     "text": [
      "step = 600: loss = 0.35291072726249695, reward = 0.029474308714270592\n"
     ]
    },
    {
     "name": "stderr",
     "output_type": "stream",
     "text": [
      "  4%|▎         | 704/20000 [01:39<4:24:15,  1.22it/s]"
     ]
    },
    {
     "name": "stdout",
     "output_type": "stream",
     "text": [
      "step = 700: loss = 0.2931548058986664, reward = 0.017287787050008774\n"
     ]
    },
    {
     "name": "stderr",
     "output_type": "stream",
     "text": [
      "  4%|▍         | 804/20000 [01:52<4:21:30,  1.22it/s]"
     ]
    },
    {
     "name": "stdout",
     "output_type": "stream",
     "text": [
      "step = 800: loss = 0.3352110981941223, reward = 0.03280129283666611\n"
     ]
    },
    {
     "name": "stderr",
     "output_type": "stream",
     "text": [
      "  5%|▍         | 904/20000 [02:05<4:20:48,  1.22it/s]"
     ]
    },
    {
     "name": "stdout",
     "output_type": "stream",
     "text": [
      "step = 900: loss = 0.33797353506088257, reward = 0.026038503274321556\n"
     ]
    },
    {
     "name": "stderr",
     "output_type": "stream",
     "text": [
      "  5%|▌         | 1004/20000 [02:18<4:21:05,  1.21it/s]"
     ]
    },
    {
     "name": "stdout",
     "output_type": "stream",
     "text": [
      "step = 1000: loss = 0.35232457518577576, reward = -0.037331633269786835\n"
     ]
    },
    {
     "name": "stderr",
     "output_type": "stream",
     "text": [
      "  6%|▌         | 1102/20000 [02:31<6:10:08,  1.18s/it]"
     ]
    },
    {
     "name": "stdout",
     "output_type": "stream",
     "text": [
      "step = 1100: loss = 0.3840436637401581, reward = 0.030994366854429245\n"
     ]
    },
    {
     "name": "stderr",
     "output_type": "stream",
     "text": [
      "  6%|▌         | 1204/20000 [02:45<4:30:35,  1.16it/s]"
     ]
    },
    {
     "name": "stdout",
     "output_type": "stream",
     "text": [
      "step = 1200: loss = 0.2831926941871643, reward = 0.023907102644443512\n"
     ]
    },
    {
     "name": "stderr",
     "output_type": "stream",
     "text": [
      "  7%|▋         | 1304/20000 [02:58<4:21:50,  1.19it/s]"
     ]
    },
    {
     "name": "stdout",
     "output_type": "stream",
     "text": [
      "step = 1300: loss = 0.32109829783439636, reward = 0.007971655577421188\n"
     ]
    },
    {
     "name": "stderr",
     "output_type": "stream",
     "text": [
      "  7%|▋         | 1404/20000 [03:11<4:25:23,  1.17it/s]"
     ]
    },
    {
     "name": "stdout",
     "output_type": "stream",
     "text": [
      "step = 1400: loss = 0.2960289716720581, reward = -0.01567075029015541\n"
     ]
    },
    {
     "name": "stderr",
     "output_type": "stream",
     "text": [
      "  8%|▊         | 1504/20000 [03:25<4:24:35,  1.17it/s]"
     ]
    },
    {
     "name": "stdout",
     "output_type": "stream",
     "text": [
      "step = 1500: loss = 0.1903543323278427, reward = 0.039607446640729904\n"
     ]
    },
    {
     "name": "stderr",
     "output_type": "stream",
     "text": [
      "  8%|▊         | 1604/20000 [03:38<4:12:57,  1.21it/s]"
     ]
    },
    {
     "name": "stdout",
     "output_type": "stream",
     "text": [
      "step = 1600: loss = 0.14620988070964813, reward = 0.026723291724920273\n"
     ]
    },
    {
     "name": "stderr",
     "output_type": "stream",
     "text": [
      "  9%|▊         | 1704/20000 [03:51<4:22:07,  1.16it/s]"
     ]
    },
    {
     "name": "stdout",
     "output_type": "stream",
     "text": [
      "step = 1700: loss = 0.36498910188674927, reward = 0.02997639775276184\n"
     ]
    },
    {
     "name": "stderr",
     "output_type": "stream",
     "text": [
      "  9%|▉         | 1804/20000 [04:04<4:10:39,  1.21it/s]"
     ]
    },
    {
     "name": "stdout",
     "output_type": "stream",
     "text": [
      "step = 1800: loss = 0.2329278588294983, reward = 0.022604594007134438\n"
     ]
    },
    {
     "name": "stderr",
     "output_type": "stream",
     "text": [
      " 10%|▉         | 1902/20000 [04:18<6:34:18,  1.31s/it]"
     ]
    },
    {
     "name": "stdout",
     "output_type": "stream",
     "text": [
      "step = 1900: loss = 0.37557756900787354, reward = 0.018153684213757515\n"
     ]
    },
    {
     "name": "stderr",
     "output_type": "stream",
     "text": [
      " 10%|█         | 2002/20000 [04:34<6:46:35,  1.36s/it]"
     ]
    },
    {
     "name": "stdout",
     "output_type": "stream",
     "text": [
      "step = 2000: loss = 0.20745645463466644, reward = 0.047425199300050735\n"
     ]
    },
    {
     "name": "stderr",
     "output_type": "stream",
     "text": [
      " 11%|█         | 2104/20000 [04:48<4:30:19,  1.10it/s]"
     ]
    },
    {
     "name": "stdout",
     "output_type": "stream",
     "text": [
      "step = 2100: loss = 0.12628722190856934, reward = 0.032698556780815125\n"
     ]
    },
    {
     "name": "stderr",
     "output_type": "stream",
     "text": [
      " 11%|█         | 2204/20000 [05:02<4:04:21,  1.21it/s]"
     ]
    },
    {
     "name": "stdout",
     "output_type": "stream",
     "text": [
      "step = 2200: loss = 0.28112223744392395, reward = 0.032847389578819275\n"
     ]
    },
    {
     "name": "stderr",
     "output_type": "stream",
     "text": [
      " 12%|█▏        | 2304/20000 [05:15<3:59:44,  1.23it/s]"
     ]
    },
    {
     "name": "stdout",
     "output_type": "stream",
     "text": [
      "step = 2300: loss = 0.23477435111999512, reward = 0.0321074053645134\n"
     ]
    },
    {
     "name": "stderr",
     "output_type": "stream",
     "text": [
      " 12%|█▏        | 2404/20000 [05:28<3:58:34,  1.23it/s]"
     ]
    },
    {
     "name": "stdout",
     "output_type": "stream",
     "text": [
      "step = 2400: loss = 0.26505008339881897, reward = 0.01781424880027771\n"
     ]
    },
    {
     "name": "stderr",
     "output_type": "stream",
     "text": [
      " 13%|█▎        | 2502/20000 [05:41<5:29:08,  1.13s/it]"
     ]
    },
    {
     "name": "stdout",
     "output_type": "stream",
     "text": [
      "step = 2500: loss = 0.21987807750701904, reward = 0.02736610732972622\n"
     ]
    },
    {
     "name": "stderr",
     "output_type": "stream",
     "text": [
      " 13%|█▎        | 2604/20000 [05:54<3:55:44,  1.23it/s]"
     ]
    },
    {
     "name": "stdout",
     "output_type": "stream",
     "text": [
      "step = 2600: loss = 0.21958446502685547, reward = -0.05722207576036453\n"
     ]
    },
    {
     "name": "stderr",
     "output_type": "stream",
     "text": [
      " 14%|█▎        | 2704/20000 [06:07<3:54:58,  1.23it/s]"
     ]
    },
    {
     "name": "stdout",
     "output_type": "stream",
     "text": [
      "step = 2700: loss = 0.40489062666893005, reward = 0.033309366554021835\n"
     ]
    },
    {
     "name": "stderr",
     "output_type": "stream",
     "text": [
      " 14%|█▍        | 2804/20000 [06:20<3:52:06,  1.23it/s]"
     ]
    },
    {
     "name": "stdout",
     "output_type": "stream",
     "text": [
      "step = 2800: loss = 0.21243752539157867, reward = -0.0046446374617516994\n"
     ]
    },
    {
     "name": "stderr",
     "output_type": "stream",
     "text": [
      " 15%|█▍        | 2904/20000 [06:34<3:51:48,  1.23it/s]"
     ]
    },
    {
     "name": "stdout",
     "output_type": "stream",
     "text": [
      "step = 2900: loss = 0.24446099996566772, reward = 0.03422443941235542\n"
     ]
    },
    {
     "name": "stderr",
     "output_type": "stream",
     "text": [
      " 15%|█▌        | 3004/20000 [06:47<3:48:46,  1.24it/s]"
     ]
    },
    {
     "name": "stdout",
     "output_type": "stream",
     "text": [
      "step = 3000: loss = 0.28121286630630493, reward = 0.03498591110110283\n"
     ]
    },
    {
     "name": "stderr",
     "output_type": "stream",
     "text": [
      " 16%|█▌        | 3104/20000 [07:00<3:48:32,  1.23it/s]"
     ]
    },
    {
     "name": "stdout",
     "output_type": "stream",
     "text": [
      "step = 3100: loss = 0.2877977192401886, reward = -0.061251796782016754\n"
     ]
    },
    {
     "name": "stderr",
     "output_type": "stream",
     "text": [
      " 16%|█▌        | 3204/20000 [07:13<3:48:54,  1.22it/s]"
     ]
    },
    {
     "name": "stdout",
     "output_type": "stream",
     "text": [
      "step = 3200: loss = 0.14211082458496094, reward = 0.022305238991975784\n"
     ]
    },
    {
     "name": "stderr",
     "output_type": "stream",
     "text": [
      " 17%|█▋        | 3304/20000 [07:26<3:49:13,  1.21it/s]"
     ]
    },
    {
     "name": "stdout",
     "output_type": "stream",
     "text": [
      "step = 3300: loss = 0.25767552852630615, reward = 0.03099989891052246\n"
     ]
    },
    {
     "name": "stderr",
     "output_type": "stream",
     "text": [
      " 17%|█▋        | 3404/20000 [07:40<3:44:06,  1.23it/s]"
     ]
    },
    {
     "name": "stdout",
     "output_type": "stream",
     "text": [
      "step = 3400: loss = 0.32213884592056274, reward = 0.015603247098624706\n"
     ]
    },
    {
     "name": "stderr",
     "output_type": "stream",
     "text": [
      " 18%|█▊        | 3504/20000 [07:53<3:42:42,  1.23it/s]"
     ]
    },
    {
     "name": "stdout",
     "output_type": "stream",
     "text": [
      "step = 3500: loss = 0.20584708452224731, reward = 0.012885654345154762\n"
     ]
    },
    {
     "name": "stderr",
     "output_type": "stream",
     "text": [
      " 18%|█▊        | 3604/20000 [08:06<3:43:10,  1.22it/s]"
     ]
    },
    {
     "name": "stdout",
     "output_type": "stream",
     "text": [
      "step = 3600: loss = 0.16325877606868744, reward = 0.002983792219310999\n"
     ]
    },
    {
     "name": "stderr",
     "output_type": "stream",
     "text": [
      " 19%|█▊        | 3704/20000 [08:19<3:42:41,  1.22it/s]"
     ]
    },
    {
     "name": "stdout",
     "output_type": "stream",
     "text": [
      "step = 3700: loss = 0.13512112200260162, reward = 0.028231313452124596\n"
     ]
    },
    {
     "name": "stderr",
     "output_type": "stream",
     "text": [
      " 19%|█▉        | 3804/20000 [08:32<3:41:42,  1.22it/s]"
     ]
    },
    {
     "name": "stdout",
     "output_type": "stream",
     "text": [
      "step = 3800: loss = 0.2544684410095215, reward = 0.01989850588142872\n"
     ]
    },
    {
     "name": "stderr",
     "output_type": "stream",
     "text": [
      " 20%|█▉        | 3904/20000 [08:46<3:49:47,  1.17it/s]"
     ]
    },
    {
     "name": "stdout",
     "output_type": "stream",
     "text": [
      "step = 3900: loss = 0.1507875770330429, reward = 0.042065300047397614\n"
     ]
    },
    {
     "name": "stderr",
     "output_type": "stream",
     "text": [
      " 20%|██        | 4004/20000 [08:59<3:39:01,  1.22it/s]"
     ]
    },
    {
     "name": "stdout",
     "output_type": "stream",
     "text": [
      "step = 4000: loss = 0.11149635910987854, reward = -0.008994200266897678\n"
     ]
    },
    {
     "name": "stderr",
     "output_type": "stream",
     "text": [
      " 21%|██        | 4104/20000 [09:12<3:37:33,  1.22it/s]"
     ]
    },
    {
     "name": "stdout",
     "output_type": "stream",
     "text": [
      "step = 4100: loss = 0.2606261074542999, reward = 0.047553565353155136\n"
     ]
    },
    {
     "name": "stderr",
     "output_type": "stream",
     "text": [
      " 21%|██        | 4204/20000 [09:26<3:39:37,  1.20it/s]"
     ]
    },
    {
     "name": "stdout",
     "output_type": "stream",
     "text": [
      "step = 4200: loss = 0.3898237943649292, reward = 0.01164049468934536\n"
     ]
    },
    {
     "name": "stderr",
     "output_type": "stream",
     "text": [
      " 22%|██▏       | 4304/20000 [09:39<3:32:44,  1.23it/s]"
     ]
    },
    {
     "name": "stdout",
     "output_type": "stream",
     "text": [
      "step = 4300: loss = 0.2230168581008911, reward = 0.026527341455221176\n"
     ]
    },
    {
     "name": "stderr",
     "output_type": "stream",
     "text": [
      " 22%|██▏       | 4404/20000 [09:52<3:30:50,  1.23it/s]"
     ]
    },
    {
     "name": "stdout",
     "output_type": "stream",
     "text": [
      "step = 4400: loss = 0.1936362385749817, reward = 0.027814308181405067\n"
     ]
    },
    {
     "name": "stderr",
     "output_type": "stream",
     "text": [
      " 23%|██▎       | 4504/20000 [10:05<3:29:42,  1.23it/s]"
     ]
    },
    {
     "name": "stdout",
     "output_type": "stream",
     "text": [
      "step = 4500: loss = 0.2133648693561554, reward = 0.004976757802069187\n"
     ]
    },
    {
     "name": "stderr",
     "output_type": "stream",
     "text": [
      " 23%|██▎       | 4604/20000 [10:18<3:30:23,  1.22it/s]"
     ]
    },
    {
     "name": "stdout",
     "output_type": "stream",
     "text": [
      "step = 4600: loss = 0.3311423361301422, reward = 0.007316400296986103\n"
     ]
    },
    {
     "name": "stderr",
     "output_type": "stream",
     "text": [
      " 24%|██▎       | 4702/20000 [10:32<4:53:40,  1.15s/it]"
     ]
    },
    {
     "name": "stdout",
     "output_type": "stream",
     "text": [
      "step = 4700: loss = 0.11626237630844116, reward = 0.038581907749176025\n"
     ]
    },
    {
     "name": "stderr",
     "output_type": "stream",
     "text": [
      " 24%|██▍       | 4804/20000 [10:45<3:26:50,  1.22it/s]"
     ]
    },
    {
     "name": "stdout",
     "output_type": "stream",
     "text": [
      "step = 4800: loss = 0.24157986044883728, reward = 0.022277645766735077\n"
     ]
    },
    {
     "name": "stderr",
     "output_type": "stream",
     "text": [
      " 25%|██▍       | 4904/20000 [10:58<3:23:26,  1.24it/s]"
     ]
    },
    {
     "name": "stdout",
     "output_type": "stream",
     "text": [
      "step = 4900: loss = 0.29611992835998535, reward = 0.04321884363889694\n"
     ]
    },
    {
     "name": "stderr",
     "output_type": "stream",
     "text": [
      " 25%|██▌       | 5004/20000 [11:11<3:22:57,  1.23it/s]"
     ]
    },
    {
     "name": "stdout",
     "output_type": "stream",
     "text": [
      "step = 5000: loss = 0.24908176064491272, reward = 0.023435909301042557\n"
     ]
    },
    {
     "name": "stderr",
     "output_type": "stream",
     "text": [
      " 26%|██▌       | 5104/20000 [11:24<3:22:51,  1.22it/s]"
     ]
    },
    {
     "name": "stdout",
     "output_type": "stream",
     "text": [
      "step = 5100: loss = 0.4302345812320709, reward = 0.03838800638914108\n"
     ]
    },
    {
     "name": "stderr",
     "output_type": "stream",
     "text": [
      " 26%|██▌       | 5204/20000 [11:37<3:18:48,  1.24it/s]"
     ]
    },
    {
     "name": "stdout",
     "output_type": "stream",
     "text": [
      "step = 5200: loss = 0.1361045390367508, reward = 0.010508047416806221\n"
     ]
    },
    {
     "name": "stderr",
     "output_type": "stream",
     "text": [
      " 27%|██▋       | 5304/20000 [11:50<3:17:20,  1.24it/s]"
     ]
    },
    {
     "name": "stdout",
     "output_type": "stream",
     "text": [
      "step = 5300: loss = 0.32617735862731934, reward = 0.001993041019886732\n"
     ]
    },
    {
     "name": "stderr",
     "output_type": "stream",
     "text": [
      " 27%|██▋       | 5404/20000 [12:02<3:15:12,  1.25it/s]"
     ]
    },
    {
     "name": "stdout",
     "output_type": "stream",
     "text": [
      "step = 5400: loss = 0.2851839065551758, reward = 0.01948023959994316\n"
     ]
    },
    {
     "name": "stderr",
     "output_type": "stream",
     "text": [
      " 28%|██▊       | 5504/20000 [12:15<3:15:47,  1.23it/s]"
     ]
    },
    {
     "name": "stdout",
     "output_type": "stream",
     "text": [
      "step = 5500: loss = 0.43152138590812683, reward = 0.04435548558831215\n"
     ]
    },
    {
     "name": "stderr",
     "output_type": "stream",
     "text": [
      " 28%|██▊       | 5604/20000 [12:28<3:14:49,  1.23it/s]"
     ]
    },
    {
     "name": "stdout",
     "output_type": "stream",
     "text": [
      "step = 5600: loss = 0.29081177711486816, reward = 0.022282103076577187\n"
     ]
    },
    {
     "name": "stderr",
     "output_type": "stream",
     "text": [
      " 29%|██▊       | 5704/20000 [12:41<3:12:57,  1.23it/s]"
     ]
    },
    {
     "name": "stdout",
     "output_type": "stream",
     "text": [
      "step = 5700: loss = 0.25021618604660034, reward = -0.06722939759492874\n"
     ]
    },
    {
     "name": "stderr",
     "output_type": "stream",
     "text": [
      " 29%|██▉       | 5803/20000 [12:53<3:10:59,  1.24it/s]"
     ]
    },
    {
     "name": "stdout",
     "output_type": "stream",
     "text": [
      "step = 5800: loss = 0.38924163579940796, reward = -0.014260141178965569\n"
     ]
    },
    {
     "name": "stderr",
     "output_type": "stream",
     "text": [
      " 30%|██▉       | 5903/20000 [13:06<3:08:58,  1.24it/s]"
     ]
    },
    {
     "name": "stdout",
     "output_type": "stream",
     "text": [
      "step = 5900: loss = 0.21488197147846222, reward = 0.01917889341711998\n"
     ]
    },
    {
     "name": "stderr",
     "output_type": "stream",
     "text": [
      " 30%|███       | 6003/20000 [13:19<3:10:57,  1.22it/s]"
     ]
    },
    {
     "name": "stdout",
     "output_type": "stream",
     "text": [
      "step = 6000: loss = 0.3656989634037018, reward = 0.02787599340081215\n"
     ]
    },
    {
     "name": "stderr",
     "output_type": "stream",
     "text": [
      " 31%|███       | 6103/20000 [13:31<3:06:15,  1.24it/s]"
     ]
    },
    {
     "name": "stdout",
     "output_type": "stream",
     "text": [
      "step = 6100: loss = 0.24007469415664673, reward = 0.03764120116829872\n"
     ]
    },
    {
     "name": "stderr",
     "output_type": "stream",
     "text": [
      " 31%|███       | 6203/20000 [13:44<3:06:48,  1.23it/s]"
     ]
    },
    {
     "name": "stdout",
     "output_type": "stream",
     "text": [
      "step = 6200: loss = 0.16221477091312408, reward = 0.010355299338698387\n"
     ]
    },
    {
     "name": "stderr",
     "output_type": "stream",
     "text": [
      " 32%|███▏      | 6303/20000 [13:57<3:04:38,  1.24it/s]"
     ]
    },
    {
     "name": "stdout",
     "output_type": "stream",
     "text": [
      "step = 6300: loss = 0.22436459362506866, reward = 0.03099079802632332\n"
     ]
    },
    {
     "name": "stderr",
     "output_type": "stream",
     "text": [
      " 32%|███▏      | 6403/20000 [14:10<3:03:19,  1.24it/s]"
     ]
    },
    {
     "name": "stdout",
     "output_type": "stream",
     "text": [
      "step = 6400: loss = 0.24129751324653625, reward = 0.03142649307847023\n"
     ]
    },
    {
     "name": "stderr",
     "output_type": "stream",
     "text": [
      " 33%|███▎      | 6503/20000 [14:22<3:01:36,  1.24it/s]"
     ]
    },
    {
     "name": "stdout",
     "output_type": "stream",
     "text": [
      "step = 6500: loss = 0.25571560859680176, reward = 0.009862711653113365\n"
     ]
    },
    {
     "name": "stderr",
     "output_type": "stream",
     "text": [
      " 33%|███▎      | 6603/20000 [14:35<3:02:35,  1.22it/s]"
     ]
    },
    {
     "name": "stdout",
     "output_type": "stream",
     "text": [
      "step = 6600: loss = 0.2787809371948242, reward = 0.019480206072330475\n"
     ]
    },
    {
     "name": "stderr",
     "output_type": "stream",
     "text": [
      " 34%|███▎      | 6703/20000 [14:48<3:00:37,  1.23it/s]"
     ]
    },
    {
     "name": "stdout",
     "output_type": "stream",
     "text": [
      "step = 6700: loss = 0.2985495626926422, reward = 0.011412251740694046\n"
     ]
    },
    {
     "name": "stderr",
     "output_type": "stream",
     "text": [
      " 34%|███▍      | 6803/20000 [15:01<2:56:37,  1.25it/s]"
     ]
    },
    {
     "name": "stdout",
     "output_type": "stream",
     "text": [
      "step = 6800: loss = 0.27407902479171753, reward = 0.036545880138874054\n"
     ]
    },
    {
     "name": "stderr",
     "output_type": "stream",
     "text": [
      " 35%|███▍      | 6903/20000 [15:13<2:55:44,  1.24it/s]"
     ]
    },
    {
     "name": "stdout",
     "output_type": "stream",
     "text": [
      "step = 6900: loss = 0.16550034284591675, reward = 0.030543338507413864\n"
     ]
    },
    {
     "name": "stderr",
     "output_type": "stream",
     "text": [
      " 35%|███▌      | 7003/20000 [15:26<2:55:06,  1.24it/s]"
     ]
    },
    {
     "name": "stdout",
     "output_type": "stream",
     "text": [
      "step = 7000: loss = 0.23837843537330627, reward = 0.0327099934220314\n"
     ]
    },
    {
     "name": "stderr",
     "output_type": "stream",
     "text": [
      " 36%|███▌      | 7103/20000 [15:39<2:52:32,  1.25it/s]"
     ]
    },
    {
     "name": "stdout",
     "output_type": "stream",
     "text": [
      "step = 7100: loss = 0.3921396732330322, reward = -0.02555229887366295\n"
     ]
    },
    {
     "name": "stderr",
     "output_type": "stream",
     "text": [
      " 36%|███▌      | 7203/20000 [15:51<2:53:59,  1.23it/s]"
     ]
    },
    {
     "name": "stdout",
     "output_type": "stream",
     "text": [
      "step = 7200: loss = 0.32735878229141235, reward = 0.03397664800286293\n"
     ]
    },
    {
     "name": "stderr",
     "output_type": "stream",
     "text": [
      " 37%|███▋      | 7303/20000 [16:04<2:50:02,  1.24it/s]"
     ]
    },
    {
     "name": "stdout",
     "output_type": "stream",
     "text": [
      "step = 7300: loss = 0.3671906888484955, reward = 0.03368739038705826\n"
     ]
    },
    {
     "name": "stderr",
     "output_type": "stream",
     "text": [
      " 37%|███▋      | 7403/20000 [16:17<2:50:00,  1.23it/s]"
     ]
    },
    {
     "name": "stdout",
     "output_type": "stream",
     "text": [
      "step = 7400: loss = 0.26604023575782776, reward = 0.017673656344413757\n"
     ]
    },
    {
     "name": "stderr",
     "output_type": "stream",
     "text": [
      " 38%|███▊      | 7503/20000 [16:30<2:47:31,  1.24it/s]"
     ]
    },
    {
     "name": "stdout",
     "output_type": "stream",
     "text": [
      "step = 7500: loss = 0.24808797240257263, reward = 0.007826892659068108\n"
     ]
    },
    {
     "name": "stderr",
     "output_type": "stream",
     "text": [
      " 38%|███▊      | 7603/20000 [16:42<2:46:10,  1.24it/s]"
     ]
    },
    {
     "name": "stdout",
     "output_type": "stream",
     "text": [
      "step = 7600: loss = 0.120560422539711, reward = 0.02314900793135166\n"
     ]
    },
    {
     "name": "stderr",
     "output_type": "stream",
     "text": [
      " 39%|███▊      | 7703/20000 [16:55<2:45:45,  1.24it/s]"
     ]
    },
    {
     "name": "stdout",
     "output_type": "stream",
     "text": [
      "step = 7700: loss = 0.32504144310951233, reward = 0.04141543060541153\n"
     ]
    },
    {
     "name": "stderr",
     "output_type": "stream",
     "text": [
      " 39%|███▉      | 7803/20000 [17:08<2:44:22,  1.24it/s]"
     ]
    },
    {
     "name": "stdout",
     "output_type": "stream",
     "text": [
      "step = 7800: loss = 0.5370333790779114, reward = 0.028494015336036682\n"
     ]
    },
    {
     "name": "stderr",
     "output_type": "stream",
     "text": [
      " 40%|███▉      | 7903/20000 [17:20<2:41:54,  1.25it/s]"
     ]
    },
    {
     "name": "stdout",
     "output_type": "stream",
     "text": [
      "step = 7900: loss = 0.1283600926399231, reward = 0.035373248159885406\n"
     ]
    },
    {
     "name": "stderr",
     "output_type": "stream",
     "text": [
      " 40%|████      | 8003/20000 [17:33<2:40:32,  1.25it/s]"
     ]
    },
    {
     "name": "stdout",
     "output_type": "stream",
     "text": [
      "step = 8000: loss = 0.16220442950725555, reward = 0.016758259385824203\n"
     ]
    },
    {
     "name": "stderr",
     "output_type": "stream",
     "text": [
      " 41%|████      | 8103/20000 [17:46<2:40:12,  1.24it/s]"
     ]
    },
    {
     "name": "stdout",
     "output_type": "stream",
     "text": [
      "step = 8100: loss = 0.14994856715202332, reward = 0.021713051944971085\n"
     ]
    },
    {
     "name": "stderr",
     "output_type": "stream",
     "text": [
      " 41%|████      | 8203/20000 [17:59<2:40:16,  1.23it/s]"
     ]
    },
    {
     "name": "stdout",
     "output_type": "stream",
     "text": [
      "step = 8200: loss = 0.3100902736186981, reward = 0.02561871148645878\n"
     ]
    },
    {
     "name": "stderr",
     "output_type": "stream",
     "text": [
      " 42%|████▏     | 8303/20000 [18:11<2:36:57,  1.24it/s]"
     ]
    },
    {
     "name": "stdout",
     "output_type": "stream",
     "text": [
      "step = 8300: loss = 0.28485986590385437, reward = 0.03194400668144226\n"
     ]
    },
    {
     "name": "stderr",
     "output_type": "stream",
     "text": [
      " 42%|████▏     | 8403/20000 [18:24<2:35:41,  1.24it/s]"
     ]
    },
    {
     "name": "stdout",
     "output_type": "stream",
     "text": [
      "step = 8400: loss = 0.2703417241573334, reward = 0.0242760069668293\n"
     ]
    },
    {
     "name": "stderr",
     "output_type": "stream",
     "text": [
      " 43%|████▎     | 8503/20000 [18:37<2:33:42,  1.25it/s]"
     ]
    },
    {
     "name": "stdout",
     "output_type": "stream",
     "text": [
      "step = 8500: loss = 0.20987364649772644, reward = 0.04921314865350723\n"
     ]
    },
    {
     "name": "stderr",
     "output_type": "stream",
     "text": [
      " 43%|████▎     | 8603/20000 [18:50<2:34:43,  1.23it/s]"
     ]
    },
    {
     "name": "stdout",
     "output_type": "stream",
     "text": [
      "step = 8600: loss = 0.30480578541755676, reward = 0.045444004237651825\n"
     ]
    },
    {
     "name": "stderr",
     "output_type": "stream",
     "text": [
      " 44%|████▎     | 8703/20000 [19:03<2:33:21,  1.23it/s]"
     ]
    },
    {
     "name": "stdout",
     "output_type": "stream",
     "text": [
      "step = 8700: loss = 0.24081099033355713, reward = 0.019481603056192398\n"
     ]
    },
    {
     "name": "stderr",
     "output_type": "stream",
     "text": [
      " 44%|████▍     | 8803/20000 [19:16<2:30:44,  1.24it/s]"
     ]
    },
    {
     "name": "stdout",
     "output_type": "stream",
     "text": [
      "step = 8800: loss = 0.2606129050254822, reward = 0.022872157394886017\n"
     ]
    },
    {
     "name": "stderr",
     "output_type": "stream",
     "text": [
      " 45%|████▍     | 8903/20000 [19:30<2:34:57,  1.19it/s]"
     ]
    },
    {
     "name": "stdout",
     "output_type": "stream",
     "text": [
      "step = 8900: loss = 0.2125171720981598, reward = -0.03956236317753792\n"
     ]
    },
    {
     "name": "stderr",
     "output_type": "stream",
     "text": [
      " 45%|████▌     | 9003/20000 [19:43<2:29:08,  1.23it/s]"
     ]
    },
    {
     "name": "stdout",
     "output_type": "stream",
     "text": [
      "step = 9000: loss = 0.2571754455566406, reward = 0.050605904310941696\n"
     ]
    },
    {
     "name": "stderr",
     "output_type": "stream",
     "text": [
      " 46%|████▌     | 9103/20000 [19:56<2:28:38,  1.22it/s]"
     ]
    },
    {
     "name": "stdout",
     "output_type": "stream",
     "text": [
      "step = 9100: loss = 0.17493905127048492, reward = 0.048502154648303986\n"
     ]
    },
    {
     "name": "stderr",
     "output_type": "stream",
     "text": [
      " 46%|████▌     | 9203/20000 [20:09<2:25:08,  1.24it/s]"
     ]
    },
    {
     "name": "stdout",
     "output_type": "stream",
     "text": [
      "step = 9200: loss = 0.3369608223438263, reward = 0.029967159032821655\n"
     ]
    },
    {
     "name": "stderr",
     "output_type": "stream",
     "text": [
      " 47%|████▋     | 9303/20000 [20:22<2:26:23,  1.22it/s]"
     ]
    },
    {
     "name": "stdout",
     "output_type": "stream",
     "text": [
      "step = 9300: loss = 0.21062473952770233, reward = 0.02399105206131935\n"
     ]
    },
    {
     "name": "stderr",
     "output_type": "stream",
     "text": [
      " 47%|████▋     | 9403/20000 [20:35<2:24:00,  1.23it/s]"
     ]
    },
    {
     "name": "stdout",
     "output_type": "stream",
     "text": [
      "step = 9400: loss = 0.22874122858047485, reward = 0.022599248215556145\n"
     ]
    },
    {
     "name": "stderr",
     "output_type": "stream",
     "text": [
      " 48%|████▊     | 9503/20000 [20:50<2:34:25,  1.13it/s]"
     ]
    },
    {
     "name": "stdout",
     "output_type": "stream",
     "text": [
      "step = 9500: loss = 0.17614218592643738, reward = 0.010355794802308083\n"
     ]
    },
    {
     "name": "stderr",
     "output_type": "stream",
     "text": [
      " 48%|████▊     | 9603/20000 [21:03<2:23:57,  1.20it/s]"
     ]
    },
    {
     "name": "stdout",
     "output_type": "stream",
     "text": [
      "step = 9600: loss = 0.35222911834716797, reward = 0.03868580237030983\n"
     ]
    },
    {
     "name": "stderr",
     "output_type": "stream",
     "text": [
      " 49%|████▊     | 9703/20000 [21:16<2:24:42,  1.19it/s]"
     ]
    },
    {
     "name": "stdout",
     "output_type": "stream",
     "text": [
      "step = 9700: loss = 0.17193174362182617, reward = 0.03527269884943962\n"
     ]
    },
    {
     "name": "stderr",
     "output_type": "stream",
     "text": [
      " 49%|████▉     | 9803/20000 [21:30<2:18:52,  1.22it/s]"
     ]
    },
    {
     "name": "stdout",
     "output_type": "stream",
     "text": [
      "step = 9800: loss = 0.29037564992904663, reward = -0.010149320587515831\n"
     ]
    },
    {
     "name": "stderr",
     "output_type": "stream",
     "text": [
      " 50%|████▉     | 9903/20000 [21:43<2:15:56,  1.24it/s]"
     ]
    },
    {
     "name": "stdout",
     "output_type": "stream",
     "text": [
      "step = 9900: loss = 0.12818235158920288, reward = 0.013634102419018745\n"
     ]
    },
    {
     "name": "stderr",
     "output_type": "stream",
     "text": [
      " 50%|█████     | 10003/20000 [21:56<2:14:27,  1.24it/s]"
     ]
    },
    {
     "name": "stdout",
     "output_type": "stream",
     "text": [
      "step = 10000: loss = 0.18994712829589844, reward = 0.02275080420076847\n"
     ]
    },
    {
     "name": "stderr",
     "output_type": "stream",
     "text": [
      " 51%|█████     | 10103/20000 [22:09<2:16:36,  1.21it/s]"
     ]
    },
    {
     "name": "stdout",
     "output_type": "stream",
     "text": [
      "step = 10100: loss = 0.16500890254974365, reward = 0.0206805020570755\n"
     ]
    },
    {
     "name": "stderr",
     "output_type": "stream",
     "text": [
      " 51%|█████     | 10203/20000 [22:22<2:18:18,  1.18it/s]"
     ]
    },
    {
     "name": "stdout",
     "output_type": "stream",
     "text": [
      "step = 10200: loss = 0.2985037863254547, reward = -0.014398030936717987\n"
     ]
    },
    {
     "name": "stderr",
     "output_type": "stream",
     "text": [
      " 52%|█████▏    | 10303/20000 [22:36<2:11:03,  1.23it/s]"
     ]
    },
    {
     "name": "stdout",
     "output_type": "stream",
     "text": [
      "step = 10300: loss = 0.2481953501701355, reward = 0.034351855516433716\n"
     ]
    },
    {
     "name": "stderr",
     "output_type": "stream",
     "text": [
      " 52%|█████▏    | 10403/20000 [22:49<2:10:27,  1.23it/s]"
     ]
    },
    {
     "name": "stdout",
     "output_type": "stream",
     "text": [
      "step = 10400: loss = 0.15936757624149323, reward = -0.010402058251202106\n"
     ]
    },
    {
     "name": "stderr",
     "output_type": "stream",
     "text": [
      " 53%|█████▎    | 10503/20000 [23:02<2:08:55,  1.23it/s]"
     ]
    },
    {
     "name": "stdout",
     "output_type": "stream",
     "text": [
      "step = 10500: loss = 0.2935214042663574, reward = -0.018190553411841393\n"
     ]
    },
    {
     "name": "stderr",
     "output_type": "stream",
     "text": [
      " 53%|█████▎    | 10603/20000 [23:15<2:06:43,  1.24it/s]"
     ]
    },
    {
     "name": "stdout",
     "output_type": "stream",
     "text": [
      "step = 10600: loss = 0.4175000488758087, reward = 0.02903285250067711\n"
     ]
    },
    {
     "name": "stderr",
     "output_type": "stream",
     "text": [
      " 54%|█████▎    | 10703/20000 [23:28<2:06:07,  1.23it/s]"
     ]
    },
    {
     "name": "stdout",
     "output_type": "stream",
     "text": [
      "step = 10700: loss = 0.3340311646461487, reward = 0.03699815273284912\n"
     ]
    },
    {
     "name": "stderr",
     "output_type": "stream",
     "text": [
      " 54%|█████▍    | 10803/20000 [23:41<2:05:04,  1.23it/s]"
     ]
    },
    {
     "name": "stdout",
     "output_type": "stream",
     "text": [
      "step = 10800: loss = 0.24288594722747803, reward = 0.01725880429148674\n"
     ]
    },
    {
     "name": "stderr",
     "output_type": "stream",
     "text": [
      " 55%|█████▍    | 10903/20000 [23:55<2:02:40,  1.24it/s]"
     ]
    },
    {
     "name": "stdout",
     "output_type": "stream",
     "text": [
      "step = 10900: loss = 0.221414715051651, reward = 0.04057825356721878\n"
     ]
    },
    {
     "name": "stderr",
     "output_type": "stream",
     "text": [
      " 55%|█████▌    | 11003/20000 [24:08<2:02:00,  1.23it/s]"
     ]
    },
    {
     "name": "stdout",
     "output_type": "stream",
     "text": [
      "step = 11000: loss = 0.35102277994155884, reward = 0.027450602501630783\n"
     ]
    },
    {
     "name": "stderr",
     "output_type": "stream",
     "text": [
      " 56%|█████▌    | 11103/20000 [24:21<2:02:46,  1.21it/s]"
     ]
    },
    {
     "name": "stdout",
     "output_type": "stream",
     "text": [
      "step = 11100: loss = 0.2549188435077667, reward = 0.03528924658894539\n"
     ]
    },
    {
     "name": "stderr",
     "output_type": "stream",
     "text": [
      " 56%|█████▌    | 11203/20000 [24:34<1:59:33,  1.23it/s]"
     ]
    },
    {
     "name": "stdout",
     "output_type": "stream",
     "text": [
      "step = 11200: loss = 0.1860245019197464, reward = 0.01647549495100975\n"
     ]
    },
    {
     "name": "stderr",
     "output_type": "stream",
     "text": [
      " 57%|█████▋    | 11303/20000 [24:47<1:57:49,  1.23it/s]"
     ]
    },
    {
     "name": "stdout",
     "output_type": "stream",
     "text": [
      "step = 11300: loss = 0.42202672362327576, reward = 0.02129724994301796\n"
     ]
    },
    {
     "name": "stderr",
     "output_type": "stream",
     "text": [
      " 57%|█████▋    | 11403/20000 [25:01<1:58:00,  1.21it/s]"
     ]
    },
    {
     "name": "stdout",
     "output_type": "stream",
     "text": [
      "step = 11400: loss = 0.3794873058795929, reward = 0.039244603365659714\n"
     ]
    },
    {
     "name": "stderr",
     "output_type": "stream",
     "text": [
      " 58%|█████▊    | 11503/20000 [25:14<1:58:13,  1.20it/s]"
     ]
    },
    {
     "name": "stdout",
     "output_type": "stream",
     "text": [
      "step = 11500: loss = 0.42235517501831055, reward = 0.016923243179917336\n"
     ]
    },
    {
     "name": "stderr",
     "output_type": "stream",
     "text": [
      " 58%|█████▊    | 11603/20000 [25:28<1:59:05,  1.18it/s]"
     ]
    },
    {
     "name": "stdout",
     "output_type": "stream",
     "text": [
      "step = 11600: loss = 0.31331300735473633, reward = -0.016771525144577026\n"
     ]
    },
    {
     "name": "stderr",
     "output_type": "stream",
     "text": [
      " 59%|█████▊    | 11703/20000 [25:41<1:54:42,  1.21it/s]"
     ]
    },
    {
     "name": "stdout",
     "output_type": "stream",
     "text": [
      "step = 11700: loss = 0.21873454749584198, reward = 0.01584719866514206\n"
     ]
    },
    {
     "name": "stderr",
     "output_type": "stream",
     "text": [
      " 59%|█████▉    | 11803/20000 [25:54<1:52:59,  1.21it/s]"
     ]
    },
    {
     "name": "stdout",
     "output_type": "stream",
     "text": [
      "step = 11800: loss = 0.339395135641098, reward = 0.031111741438508034\n"
     ]
    },
    {
     "name": "stderr",
     "output_type": "stream",
     "text": [
      " 60%|█████▉    | 11903/20000 [26:08<1:50:02,  1.23it/s]"
     ]
    },
    {
     "name": "stdout",
     "output_type": "stream",
     "text": [
      "step = 11900: loss = 0.19148913025856018, reward = 0.011176547966897488\n"
     ]
    },
    {
     "name": "stderr",
     "output_type": "stream",
     "text": [
      " 60%|██████    | 12003/20000 [26:21<1:49:57,  1.21it/s]"
     ]
    },
    {
     "name": "stdout",
     "output_type": "stream",
     "text": [
      "step = 12000: loss = 0.4209326505661011, reward = 0.024248290807008743\n"
     ]
    },
    {
     "name": "stderr",
     "output_type": "stream",
     "text": [
      " 61%|██████    | 12103/20000 [26:34<1:47:50,  1.22it/s]"
     ]
    },
    {
     "name": "stdout",
     "output_type": "stream",
     "text": [
      "step = 12100: loss = 0.26758265495300293, reward = 0.04665274918079376\n"
     ]
    },
    {
     "name": "stderr",
     "output_type": "stream",
     "text": [
      " 61%|██████    | 12203/20000 [26:48<1:49:44,  1.18it/s]"
     ]
    },
    {
     "name": "stdout",
     "output_type": "stream",
     "text": [
      "step = 12200: loss = 0.26957276463508606, reward = 0.018956348299980164\n"
     ]
    },
    {
     "name": "stderr",
     "output_type": "stream",
     "text": [
      " 62%|██████▏   | 12303/20000 [27:01<1:46:40,  1.20it/s]"
     ]
    },
    {
     "name": "stdout",
     "output_type": "stream",
     "text": [
      "step = 12300: loss = 0.3854345977306366, reward = 0.028666352853178978\n"
     ]
    },
    {
     "name": "stderr",
     "output_type": "stream",
     "text": [
      " 62%|██████▏   | 12403/20000 [27:15<1:45:22,  1.20it/s]"
     ]
    },
    {
     "name": "stdout",
     "output_type": "stream",
     "text": [
      "step = 12400: loss = 0.19581261277198792, reward = 0.020709004253149033\n"
     ]
    },
    {
     "name": "stderr",
     "output_type": "stream",
     "text": [
      " 63%|██████▎   | 12503/20000 [27:28<1:45:26,  1.19it/s]"
     ]
    },
    {
     "name": "stdout",
     "output_type": "stream",
     "text": [
      "step = 12500: loss = 0.2152058482170105, reward = 0.030046189203858376\n"
     ]
    },
    {
     "name": "stderr",
     "output_type": "stream",
     "text": [
      " 63%|██████▎   | 12603/20000 [27:42<1:45:17,  1.17it/s]"
     ]
    },
    {
     "name": "stdout",
     "output_type": "stream",
     "text": [
      "step = 12600: loss = 0.2161836475133896, reward = 0.034942347556352615\n"
     ]
    },
    {
     "name": "stderr",
     "output_type": "stream",
     "text": [
      " 64%|██████▎   | 12703/20000 [27:56<1:44:20,  1.17it/s]"
     ]
    },
    {
     "name": "stdout",
     "output_type": "stream",
     "text": [
      "step = 12700: loss = 0.19305600225925446, reward = 0.018813790753483772\n"
     ]
    },
    {
     "name": "stderr",
     "output_type": "stream",
     "text": [
      " 64%|██████▍   | 12803/20000 [28:09<1:39:23,  1.21it/s]"
     ]
    },
    {
     "name": "stdout",
     "output_type": "stream",
     "text": [
      "step = 12800: loss = 0.1213333010673523, reward = 0.013052955269813538\n"
     ]
    },
    {
     "name": "stderr",
     "output_type": "stream",
     "text": [
      " 65%|██████▍   | 12903/20000 [28:23<1:37:50,  1.21it/s]"
     ]
    },
    {
     "name": "stdout",
     "output_type": "stream",
     "text": [
      "step = 12900: loss = 0.24266910552978516, reward = 0.004309503361582756\n"
     ]
    },
    {
     "name": "stderr",
     "output_type": "stream",
     "text": [
      " 65%|██████▌   | 13003/20000 [28:36<1:37:32,  1.20it/s]"
     ]
    },
    {
     "name": "stdout",
     "output_type": "stream",
     "text": [
      "step = 13000: loss = 0.20264410972595215, reward = 0.015783360227942467\n"
     ]
    },
    {
     "name": "stderr",
     "output_type": "stream",
     "text": [
      " 66%|██████▌   | 13103/20000 [28:51<1:39:10,  1.16it/s]"
     ]
    },
    {
     "name": "stdout",
     "output_type": "stream",
     "text": [
      "step = 13100: loss = 0.10965907573699951, reward = 0.02822929061949253\n"
     ]
    },
    {
     "name": "stderr",
     "output_type": "stream",
     "text": [
      " 66%|██████▌   | 13203/20000 [29:04<1:33:21,  1.21it/s]"
     ]
    },
    {
     "name": "stdout",
     "output_type": "stream",
     "text": [
      "step = 13200: loss = 0.18908382952213287, reward = 0.020571347326040268\n"
     ]
    },
    {
     "name": "stderr",
     "output_type": "stream",
     "text": [
      " 67%|██████▋   | 13303/20000 [29:18<1:35:55,  1.16it/s]"
     ]
    },
    {
     "name": "stdout",
     "output_type": "stream",
     "text": [
      "step = 13300: loss = 0.29961344599723816, reward = 0.03018525242805481\n"
     ]
    },
    {
     "name": "stderr",
     "output_type": "stream",
     "text": [
      " 67%|██████▋   | 13403/20000 [29:32<1:35:38,  1.15it/s]"
     ]
    },
    {
     "name": "stdout",
     "output_type": "stream",
     "text": [
      "step = 13400: loss = 0.4527949094772339, reward = 0.05688738822937012\n"
     ]
    },
    {
     "name": "stderr",
     "output_type": "stream",
     "text": [
      " 68%|██████▊   | 13503/20000 [29:46<1:29:30,  1.21it/s]"
     ]
    },
    {
     "name": "stdout",
     "output_type": "stream",
     "text": [
      "step = 13500: loss = 0.5011105537414551, reward = 0.010356593877077103\n"
     ]
    },
    {
     "name": "stderr",
     "output_type": "stream",
     "text": [
      " 68%|██████▊   | 13603/20000 [29:59<1:27:36,  1.22it/s]"
     ]
    },
    {
     "name": "stdout",
     "output_type": "stream",
     "text": [
      "step = 13600: loss = 0.23930104076862335, reward = 0.022572344169020653\n"
     ]
    },
    {
     "name": "stderr",
     "output_type": "stream",
     "text": [
      " 69%|██████▊   | 13703/20000 [30:13<1:26:53,  1.21it/s]"
     ]
    },
    {
     "name": "stdout",
     "output_type": "stream",
     "text": [
      "step = 13700: loss = 0.4600016474723816, reward = 0.03431164100766182\n"
     ]
    },
    {
     "name": "stderr",
     "output_type": "stream",
     "text": [
      " 69%|██████▉   | 13803/20000 [30:26<1:24:48,  1.22it/s]"
     ]
    },
    {
     "name": "stdout",
     "output_type": "stream",
     "text": [
      "step = 13800: loss = 0.205466166138649, reward = 0.03564384579658508\n"
     ]
    },
    {
     "name": "stderr",
     "output_type": "stream",
     "text": [
      " 70%|██████▉   | 13903/20000 [30:40<1:24:23,  1.20it/s]"
     ]
    },
    {
     "name": "stdout",
     "output_type": "stream",
     "text": [
      "step = 13900: loss = 0.23823849856853485, reward = 0.024357499554753304\n"
     ]
    },
    {
     "name": "stderr",
     "output_type": "stream",
     "text": [
      " 70%|███████   | 14003/20000 [30:53<1:22:08,  1.22it/s]"
     ]
    },
    {
     "name": "stdout",
     "output_type": "stream",
     "text": [
      "step = 14000: loss = 0.21844594180583954, reward = 0.03459470346570015\n"
     ]
    },
    {
     "name": "stderr",
     "output_type": "stream",
     "text": [
      " 71%|███████   | 14103/20000 [31:07<1:20:15,  1.22it/s]"
     ]
    },
    {
     "name": "stdout",
     "output_type": "stream",
     "text": [
      "step = 14100: loss = 0.32898181676864624, reward = 0.01147269643843174\n"
     ]
    },
    {
     "name": "stderr",
     "output_type": "stream",
     "text": [
      " 71%|███████   | 14203/20000 [31:20<1:19:29,  1.22it/s]"
     ]
    },
    {
     "name": "stdout",
     "output_type": "stream",
     "text": [
      "step = 14200: loss = 0.27995678782463074, reward = 0.017521541565656662\n"
     ]
    },
    {
     "name": "stderr",
     "output_type": "stream",
     "text": [
      " 72%|███████▏  | 14303/20000 [31:34<1:18:04,  1.22it/s]"
     ]
    },
    {
     "name": "stdout",
     "output_type": "stream",
     "text": [
      "step = 14300: loss = 0.20431207120418549, reward = 0.015330428257584572\n"
     ]
    },
    {
     "name": "stderr",
     "output_type": "stream",
     "text": [
      " 72%|███████▏  | 14403/20000 [31:47<1:19:58,  1.17it/s]"
     ]
    },
    {
     "name": "stdout",
     "output_type": "stream",
     "text": [
      "step = 14400: loss = 0.35720497369766235, reward = 0.0158720463514328\n"
     ]
    },
    {
     "name": "stderr",
     "output_type": "stream",
     "text": [
      " 73%|███████▎  | 14503/20000 [32:01<1:14:49,  1.22it/s]"
     ]
    },
    {
     "name": "stdout",
     "output_type": "stream",
     "text": [
      "step = 14500: loss = 0.13140425086021423, reward = 0.01639840006828308\n"
     ]
    },
    {
     "name": "stderr",
     "output_type": "stream",
     "text": [
      " 73%|███████▎  | 14603/20000 [32:14<1:14:02,  1.21it/s]"
     ]
    },
    {
     "name": "stdout",
     "output_type": "stream",
     "text": [
      "step = 14600: loss = 0.15935814380645752, reward = -0.012200744822621346\n"
     ]
    },
    {
     "name": "stderr",
     "output_type": "stream",
     "text": [
      " 74%|███████▎  | 14703/20000 [32:28<1:19:27,  1.11it/s]"
     ]
    },
    {
     "name": "stdout",
     "output_type": "stream",
     "text": [
      "step = 14700: loss = 0.4161395728588104, reward = 0.013149097561836243\n"
     ]
    },
    {
     "name": "stderr",
     "output_type": "stream",
     "text": [
      " 74%|███████▍  | 14803/20000 [32:42<1:10:40,  1.23it/s]"
     ]
    },
    {
     "name": "stdout",
     "output_type": "stream",
     "text": [
      "step = 14800: loss = 0.20379342138767242, reward = 0.03221284970641136\n"
     ]
    },
    {
     "name": "stderr",
     "output_type": "stream",
     "text": [
      " 75%|███████▍  | 14903/20000 [32:55<1:10:30,  1.20it/s]"
     ]
    },
    {
     "name": "stdout",
     "output_type": "stream",
     "text": [
      "step = 14900: loss = 0.30539557337760925, reward = 0.007336760871112347\n"
     ]
    },
    {
     "name": "stderr",
     "output_type": "stream",
     "text": [
      " 75%|███████▌  | 15003/20000 [33:08<1:08:23,  1.22it/s]"
     ]
    },
    {
     "name": "stdout",
     "output_type": "stream",
     "text": [
      "step = 15000: loss = 0.2678513526916504, reward = 0.0048437402583658695\n"
     ]
    },
    {
     "name": "stderr",
     "output_type": "stream",
     "text": [
      " 76%|███████▌  | 15103/20000 [33:22<1:07:52,  1.20it/s]"
     ]
    },
    {
     "name": "stdout",
     "output_type": "stream",
     "text": [
      "step = 15100: loss = 0.2429802119731903, reward = -0.026663202792406082\n"
     ]
    },
    {
     "name": "stderr",
     "output_type": "stream",
     "text": [
      " 76%|███████▌  | 15203/20000 [33:36<1:09:31,  1.15it/s]"
     ]
    },
    {
     "name": "stdout",
     "output_type": "stream",
     "text": [
      "step = 15200: loss = 0.2407996654510498, reward = 0.04678025096654892\n"
     ]
    },
    {
     "name": "stderr",
     "output_type": "stream",
     "text": [
      " 77%|███████▋  | 15303/20000 [33:49<1:04:09,  1.22it/s]"
     ]
    },
    {
     "name": "stdout",
     "output_type": "stream",
     "text": [
      "step = 15300: loss = 0.39074310660362244, reward = 0.009758999571204185\n"
     ]
    },
    {
     "name": "stderr",
     "output_type": "stream",
     "text": [
      " 77%|███████▋  | 15403/20000 [34:04<1:08:39,  1.12it/s]"
     ]
    },
    {
     "name": "stdout",
     "output_type": "stream",
     "text": [
      "step = 15400: loss = 0.29942965507507324, reward = 0.03654450923204422\n"
     ]
    },
    {
     "name": "stderr",
     "output_type": "stream",
     "text": [
      " 78%|███████▊  | 15504/20000 [34:17<1:01:22,  1.22it/s]"
     ]
    },
    {
     "name": "stdout",
     "output_type": "stream",
     "text": [
      "step = 15500: loss = 0.36401963233947754, reward = 0.019089559093117714\n"
     ]
    },
    {
     "name": "stderr",
     "output_type": "stream",
     "text": [
      " 78%|███████▊  | 15603/20000 [34:29<59:50,  1.22it/s]  "
     ]
    },
    {
     "name": "stdout",
     "output_type": "stream",
     "text": [
      "step = 15600: loss = 0.2666255235671997, reward = 0.039123497903347015\n"
     ]
    },
    {
     "name": "stderr",
     "output_type": "stream",
     "text": [
      " 79%|███████▊  | 15704/20000 [34:42<57:17,  1.25it/s]  "
     ]
    },
    {
     "name": "stdout",
     "output_type": "stream",
     "text": [
      "step = 15700: loss = 0.30016130208969116, reward = 0.03198104351758957\n"
     ]
    },
    {
     "name": "stderr",
     "output_type": "stream",
     "text": [
      " 79%|███████▉  | 15804/20000 [34:55<57:33,  1.22it/s]  "
     ]
    },
    {
     "name": "stdout",
     "output_type": "stream",
     "text": [
      "step = 15800: loss = 0.4818044900894165, reward = 0.029416244477033615\n"
     ]
    },
    {
     "name": "stderr",
     "output_type": "stream",
     "text": [
      " 80%|███████▉  | 15904/20000 [35:07<55:33,  1.23it/s]  "
     ]
    },
    {
     "name": "stdout",
     "output_type": "stream",
     "text": [
      "step = 15900: loss = 0.5133304595947266, reward = 0.031092459335923195\n"
     ]
    },
    {
     "name": "stderr",
     "output_type": "stream",
     "text": [
      " 80%|████████  | 16004/20000 [35:20<54:08,  1.23it/s]  "
     ]
    },
    {
     "name": "stdout",
     "output_type": "stream",
     "text": [
      "step = 16000: loss = 0.15663743019104004, reward = 0.020326707512140274\n"
     ]
    },
    {
     "name": "stderr",
     "output_type": "stream",
     "text": [
      " 81%|████████  | 16103/20000 [35:33<53:08,  1.22it/s]  "
     ]
    },
    {
     "name": "stdout",
     "output_type": "stream",
     "text": [
      "step = 16100: loss = 0.2674199342727661, reward = 0.028164546936750412\n"
     ]
    },
    {
     "name": "stderr",
     "output_type": "stream",
     "text": [
      " 81%|████████  | 16204/20000 [35:45<51:54,  1.22it/s]  "
     ]
    },
    {
     "name": "stdout",
     "output_type": "stream",
     "text": [
      "step = 16200: loss = 0.33699843287467957, reward = 0.01498035341501236\n"
     ]
    },
    {
     "name": "stderr",
     "output_type": "stream",
     "text": [
      " 82%|████████▏ | 16303/20000 [35:58<50:00,  1.23it/s]  "
     ]
    },
    {
     "name": "stdout",
     "output_type": "stream",
     "text": [
      "step = 16300: loss = 0.48910778760910034, reward = 0.023824337869882584\n"
     ]
    },
    {
     "name": "stderr",
     "output_type": "stream",
     "text": [
      " 82%|████████▏ | 16404/20000 [36:10<48:52,  1.23it/s]  "
     ]
    },
    {
     "name": "stdout",
     "output_type": "stream",
     "text": [
      "step = 16400: loss = 0.37667104601860046, reward = 0.018844105303287506\n"
     ]
    },
    {
     "name": "stderr",
     "output_type": "stream",
     "text": [
      " 83%|████████▎ | 16504/20000 [36:23<49:09,  1.19it/s]  "
     ]
    },
    {
     "name": "stdout",
     "output_type": "stream",
     "text": [
      "step = 16500: loss = 0.2992458939552307, reward = 0.020283302292227745\n"
     ]
    },
    {
     "name": "stderr",
     "output_type": "stream",
     "text": [
      " 83%|████████▎ | 16604/20000 [36:36<45:41,  1.24it/s]  "
     ]
    },
    {
     "name": "stdout",
     "output_type": "stream",
     "text": [
      "step = 16600: loss = 0.22386230528354645, reward = 0.021562248468399048\n"
     ]
    },
    {
     "name": "stderr",
     "output_type": "stream",
     "text": [
      " 84%|████████▎ | 16704/20000 [36:48<44:25,  1.24it/s]  "
     ]
    },
    {
     "name": "stdout",
     "output_type": "stream",
     "text": [
      "step = 16700: loss = 0.31734248995780945, reward = 0.008787089958786964\n"
     ]
    },
    {
     "name": "stderr",
     "output_type": "stream",
     "text": [
      " 84%|████████▍ | 16804/20000 [37:01<43:09,  1.23it/s]  "
     ]
    },
    {
     "name": "stdout",
     "output_type": "stream",
     "text": [
      "step = 16800: loss = 0.3774816691875458, reward = -0.005967739969491959\n"
     ]
    },
    {
     "name": "stderr",
     "output_type": "stream",
     "text": [
      " 85%|████████▍ | 16904/20000 [37:14<42:34,  1.21it/s]"
     ]
    },
    {
     "name": "stdout",
     "output_type": "stream",
     "text": [
      "step = 16900: loss = 0.2948073148727417, reward = -0.027173522859811783\n"
     ]
    },
    {
     "name": "stderr",
     "output_type": "stream",
     "text": [
      " 85%|████████▌ | 17003/20000 [37:26<39:48,  1.25it/s]"
     ]
    },
    {
     "name": "stdout",
     "output_type": "stream",
     "text": [
      "step = 17000: loss = 0.2935958504676819, reward = -0.016064997762441635\n"
     ]
    },
    {
     "name": "stderr",
     "output_type": "stream",
     "text": [
      " 86%|████████▌ | 17103/20000 [37:39<39:13,  1.23it/s]"
     ]
    },
    {
     "name": "stdout",
     "output_type": "stream",
     "text": [
      "step = 17100: loss = 0.2580260634422302, reward = 0.009974196553230286\n"
     ]
    },
    {
     "name": "stderr",
     "output_type": "stream",
     "text": [
      " 86%|████████▌ | 17204/20000 [37:52<38:21,  1.21it/s]"
     ]
    },
    {
     "name": "stdout",
     "output_type": "stream",
     "text": [
      "step = 17200: loss = 0.2459775060415268, reward = 0.031969159841537476\n"
     ]
    },
    {
     "name": "stderr",
     "output_type": "stream",
     "text": [
      " 87%|████████▋ | 17303/20000 [38:04<36:14,  1.24it/s]"
     ]
    },
    {
     "name": "stdout",
     "output_type": "stream",
     "text": [
      "step = 17300: loss = 0.22677096724510193, reward = -0.0015499459113925695\n"
     ]
    },
    {
     "name": "stderr",
     "output_type": "stream",
     "text": [
      " 87%|████████▋ | 17404/20000 [38:16<34:16,  1.26it/s]"
     ]
    },
    {
     "name": "stdout",
     "output_type": "stream",
     "text": [
      "step = 17400: loss = 0.29247766733169556, reward = 0.024155784398317337\n"
     ]
    },
    {
     "name": "stderr",
     "output_type": "stream",
     "text": [
      " 88%|████████▊ | 17503/20000 [38:29<32:16,  1.29it/s]"
     ]
    },
    {
     "name": "stdout",
     "output_type": "stream",
     "text": [
      "step = 17500: loss = 0.2435913383960724, reward = 0.023485349491238594\n"
     ]
    },
    {
     "name": "stderr",
     "output_type": "stream",
     "text": [
      " 88%|████████▊ | 17603/20000 [38:41<31:56,  1.25it/s]"
     ]
    },
    {
     "name": "stdout",
     "output_type": "stream",
     "text": [
      "step = 17600: loss = 0.27358850836753845, reward = 0.033354613929986954\n"
     ]
    },
    {
     "name": "stderr",
     "output_type": "stream",
     "text": [
      " 89%|████████▊ | 17704/20000 [38:54<30:25,  1.26it/s]"
     ]
    },
    {
     "name": "stdout",
     "output_type": "stream",
     "text": [
      "step = 17700: loss = 0.36078697443008423, reward = 0.011208396404981613\n"
     ]
    },
    {
     "name": "stderr",
     "output_type": "stream",
     "text": [
      " 89%|████████▉ | 17804/20000 [39:06<29:43,  1.23it/s]"
     ]
    },
    {
     "name": "stdout",
     "output_type": "stream",
     "text": [
      "step = 17800: loss = 0.2712183892726898, reward = 0.033273398876190186\n"
     ]
    },
    {
     "name": "stderr",
     "output_type": "stream",
     "text": [
      " 90%|████████▉ | 17903/20000 [39:19<28:53,  1.21it/s]"
     ]
    },
    {
     "name": "stdout",
     "output_type": "stream",
     "text": [
      "step = 17900: loss = 0.41096603870391846, reward = 0.04305361211299896\n"
     ]
    },
    {
     "name": "stderr",
     "output_type": "stream",
     "text": [
      " 90%|█████████ | 18004/20000 [39:31<27:18,  1.22it/s]"
     ]
    },
    {
     "name": "stdout",
     "output_type": "stream",
     "text": [
      "step = 18000: loss = 0.19135867059230804, reward = 0.018954003229737282\n"
     ]
    },
    {
     "name": "stderr",
     "output_type": "stream",
     "text": [
      " 91%|█████████ | 18103/20000 [39:44<25:22,  1.25it/s]"
     ]
    },
    {
     "name": "stdout",
     "output_type": "stream",
     "text": [
      "step = 18100: loss = 0.203397735953331, reward = 0.03420184180140495\n"
     ]
    },
    {
     "name": "stderr",
     "output_type": "stream",
     "text": [
      " 91%|█████████ | 18204/20000 [39:56<23:53,  1.25it/s]"
     ]
    },
    {
     "name": "stdout",
     "output_type": "stream",
     "text": [
      "step = 18200: loss = 0.12625373899936676, reward = 0.037343043833971024\n"
     ]
    },
    {
     "name": "stderr",
     "output_type": "stream",
     "text": [
      " 92%|█████████▏| 18303/20000 [40:09<22:59,  1.23it/s]"
     ]
    },
    {
     "name": "stdout",
     "output_type": "stream",
     "text": [
      "step = 18300: loss = 0.394363671541214, reward = 0.030170589685440063\n"
     ]
    },
    {
     "name": "stderr",
     "output_type": "stream",
     "text": [
      " 92%|█████████▏| 18404/20000 [40:21<21:26,  1.24it/s]"
     ]
    },
    {
     "name": "stdout",
     "output_type": "stream",
     "text": [
      "step = 18400: loss = 0.35190069675445557, reward = 0.02852560579776764\n"
     ]
    },
    {
     "name": "stderr",
     "output_type": "stream",
     "text": [
      " 93%|█████████▎| 18503/20000 [40:33<19:12,  1.30it/s]"
     ]
    },
    {
     "name": "stdout",
     "output_type": "stream",
     "text": [
      "step = 18500: loss = 0.5232994556427002, reward = -0.0395599901676178\n"
     ]
    },
    {
     "name": "stderr",
     "output_type": "stream",
     "text": [
      " 93%|█████████▎| 18603/20000 [40:46<18:45,  1.24it/s]"
     ]
    },
    {
     "name": "stdout",
     "output_type": "stream",
     "text": [
      "step = 18600: loss = 0.30945855379104614, reward = 0.03961283713579178\n"
     ]
    },
    {
     "name": "stderr",
     "output_type": "stream",
     "text": [
      " 94%|█████████▎| 18703/20000 [40:58<17:18,  1.25it/s]"
     ]
    },
    {
     "name": "stdout",
     "output_type": "stream",
     "text": [
      "step = 18700: loss = 0.3504294157028198, reward = 0.0208230409771204\n"
     ]
    },
    {
     "name": "stderr",
     "output_type": "stream",
     "text": [
      " 94%|█████████▍| 18804/20000 [41:11<16:22,  1.22it/s]"
     ]
    },
    {
     "name": "stdout",
     "output_type": "stream",
     "text": [
      "step = 18800: loss = 0.141177698969841, reward = 0.008496701717376709\n"
     ]
    },
    {
     "name": "stderr",
     "output_type": "stream",
     "text": [
      " 95%|█████████▍| 18904/20000 [41:23<14:40,  1.24it/s]"
     ]
    },
    {
     "name": "stdout",
     "output_type": "stream",
     "text": [
      "step = 18900: loss = 0.1896134912967682, reward = 0.032260406762361526\n"
     ]
    },
    {
     "name": "stderr",
     "output_type": "stream",
     "text": [
      " 95%|█████████▌| 19003/20000 [41:36<13:32,  1.23it/s]"
     ]
    },
    {
     "name": "stdout",
     "output_type": "stream",
     "text": [
      "step = 19000: loss = 0.28229570388793945, reward = -0.037842459976673126\n"
     ]
    },
    {
     "name": "stderr",
     "output_type": "stream",
     "text": [
      " 96%|█████████▌| 19104/20000 [41:49<12:30,  1.19it/s]"
     ]
    },
    {
     "name": "stdout",
     "output_type": "stream",
     "text": [
      "step = 19100: loss = 0.375541090965271, reward = 0.023044347763061523\n"
     ]
    },
    {
     "name": "stderr",
     "output_type": "stream",
     "text": [
      " 96%|█████████▌| 19203/20000 [42:01<10:45,  1.23it/s]"
     ]
    },
    {
     "name": "stdout",
     "output_type": "stream",
     "text": [
      "step = 19200: loss = 0.2777419686317444, reward = 0.023801807314157486\n"
     ]
    },
    {
     "name": "stderr",
     "output_type": "stream",
     "text": [
      " 97%|█████████▋| 19304/20000 [42:14<10:05,  1.15it/s]"
     ]
    },
    {
     "name": "stdout",
     "output_type": "stream",
     "text": [
      "step = 19300: loss = 0.21851059794425964, reward = 0.0218031108379364\n"
     ]
    },
    {
     "name": "stderr",
     "output_type": "stream",
     "text": [
      " 97%|█████████▋| 19404/20000 [42:27<07:44,  1.28it/s]"
     ]
    },
    {
     "name": "stdout",
     "output_type": "stream",
     "text": [
      "step = 19400: loss = 0.3905331790447235, reward = 0.024327492341399193\n"
     ]
    },
    {
     "name": "stderr",
     "output_type": "stream",
     "text": [
      " 98%|█████████▊| 19504/20000 [42:40<06:27,  1.28it/s]"
     ]
    },
    {
     "name": "stdout",
     "output_type": "stream",
     "text": [
      "step = 19500: loss = 0.2196487933397293, reward = 0.024008430540561676\n"
     ]
    },
    {
     "name": "stderr",
     "output_type": "stream",
     "text": [
      " 98%|█████████▊| 19604/20000 [42:52<05:25,  1.22it/s]"
     ]
    },
    {
     "name": "stdout",
     "output_type": "stream",
     "text": [
      "step = 19600: loss = 0.16009560227394104, reward = 0.03513675183057785\n"
     ]
    },
    {
     "name": "stderr",
     "output_type": "stream",
     "text": [
      " 99%|█████████▊| 19704/20000 [43:05<03:59,  1.24it/s]"
     ]
    },
    {
     "name": "stdout",
     "output_type": "stream",
     "text": [
      "step = 19700: loss = 0.30739906430244446, reward = 0.03955841436982155\n"
     ]
    },
    {
     "name": "stderr",
     "output_type": "stream",
     "text": [
      " 99%|█████████▉| 19803/20000 [43:17<02:40,  1.23it/s]"
     ]
    },
    {
     "name": "stdout",
     "output_type": "stream",
     "text": [
      "step = 19800: loss = 0.2997934818267822, reward = 0.026838252320885658\n"
     ]
    },
    {
     "name": "stderr",
     "output_type": "stream",
     "text": [
      "100%|█████████▉| 19903/20000 [43:30<01:10,  1.37it/s]"
     ]
    },
    {
     "name": "stdout",
     "output_type": "stream",
     "text": [
      "step = 19900: loss = 0.25723883509635925, reward = 0.03693921118974686\n"
     ]
    },
    {
     "name": "stderr",
     "output_type": "stream",
     "text": [
      "100%|██████████| 20000/20000 [43:35<00:00,  7.65it/s]\n"
     ]
    }
   ],
   "source": [
    "# Train on Avrora, Evaluate on Kafka\n",
    "loss, observations, rewards = _train(\n",
    "    agent, train_env, train_env_2, dataset_iter, steps = 20000, eval_interval=100)"
   ]
  },
  {
   "cell_type": "code",
   "execution_count": 20,
   "metadata": {},
   "outputs": [
    {
     "name": "stdout",
     "output_type": "stream",
     "text": [
      "Successfully initialized a JVM Environment!\n",
      " JDK: jdk-11.0.20.1.jdk/bin,\n",
      " Benchmark: h2 (dacapo-bench.jar),\n",
      " Number of iterations: 5,\n",
      " Goal: avgGCPause,\n",
      " Number of JVM options: 2,\n",
      " JVM options: {'MaxTenuringThreshold': {'min': 1, 'max': 16, 'step': 3}, 'ParallelGCThreads': {'min': 4, 'max': 24, 'step': 4}},\n",
      " Env. default state: [13, 8, 0.14861, 0.9999572476715284, 0.9883840216515078, 0.983277591973244, 0.9828115408225904, 0.999997114709069, 1.0, 0.1393387985045442],\n",
      " Env. default goal value: 0.14861,\n",
      "\n",
      "Successfully initialized a JVM Environment!\n",
      " JDK: jdk-11.0.20.1.jdk/bin,\n",
      " Benchmark: h2 (dacapo-bench.jar),\n",
      " Number of iterations: 5,\n",
      " Goal: avgGCPause,\n",
      " Number of JVM options: 2,\n",
      " JVM options: {'MaxTenuringThreshold': {'min': 1, 'max': 16, 'step': 3}, 'ParallelGCThreads': {'min': 4, 'max': 24, 'step': 4}},\n",
      " Env. default state: [1, 12, 0.15362, 0.999997745946094, 0.988448062333557, 0.983277591973244, 0.981379169224473, 0.9999992231909032, 1.0, 0.1402957711681965],\n",
      " Env. default goal value: 0.15362,\n",
      "\n"
     ]
    }
   ],
   "source": [
    "test_env= get_tf_env(\"h2\", env_args)\n",
    "test_env_copy = get_tf_env(\"h2\", env_args)"
   ]
  },
  {
   "cell_type": "code",
   "execution_count": 21,
   "metadata": {},
   "outputs": [
    {
     "name": "stdout",
     "output_type": "stream",
     "text": [
      "default: [1.00e+01 1.60e+01 9.83e-03] current: [1.000e+00 1.600e+01 1.116e-02]\n",
      "AVG RETURN - AVRORA: 0.11686779\n",
      "default: [ 4.      12.       0.02978] current: [1.      4.      0.02897]\n",
      "AVG RETURN - KAFKA: 0.020553958\n",
      "default: [ 4.      16.       0.13649] current: [1.      4.      0.18607]\n",
      "AVG RETURN - H2: 0.06736073\n"
     ]
    }
   ],
   "source": [
    "print(\"AVG RETURN - AVRORA:\", \n",
    "      compute_avg_return_episodic(train_env, agent.policy, num_episodes=50, print_info=True))\n",
    "\n",
    "print(\"AVG RETURN - KAFKA:\", \n",
    "      compute_avg_return_episodic(train_env_2, agent.policy, num_episodes=50, print_info=True))\n",
    "\n",
    "print(\"AVG RETURN - H2:\", \n",
    "      compute_avg_return_episodic(test_env, agent.policy, num_episodes=50, print_info=True))"
   ]
  },
  {
   "cell_type": "code",
   "execution_count": null,
   "metadata": {},
   "outputs": [],
   "source": [
    "train_checkpointer.save(global_step)\n",
    "tf_policy_saver.save(policy_dir)"
   ]
  },
  {
   "cell_type": "code",
   "execution_count": 12,
   "metadata": {},
   "outputs": [
    {
     "data": {
      "image/png": "[encoded data removed]",
      "text/plain": [
       "<Figure size 640x480 with 2 Axes>"
      ]
     },
     "metadata": {},
     "output_type": "display_data"
    }
   ],
   "source": [
    "plot_training(loss, rewards, num_steps, 100)"
   ]
  },
  {
   "cell_type": "markdown",
   "metadata": {},
   "source": [
    "### Common collect driver"
   ]
  },
  {
   "cell_type": "code",
   "execution_count": 11,
   "metadata": {},
   "outputs": [],
   "source": [
    "num_steps = 10000\n",
    "collect_driver, replay_buffer = get_cd_and_rb(train_env, agent, dataset_size, train_episodes_per_iteration)"
   ]
  },
  {
   "cell_type": "code",
   "execution_count": 12,
   "metadata": {},
   "outputs": [
    {
     "name": "stderr",
     "output_type": "stream",
     "text": [
      "  0%|          | 0/10000 [00:00<?, ?it/s]"
     ]
    },
    {
     "name": "stderr",
     "output_type": "stream",
     "text": [
      "  0%|          | 1/10000 [00:18<50:22:50, 18.14s/it]"
     ]
    },
    {
     "name": "stdout",
     "output_type": "stream",
     "text": [
      "step = 0: loss = 48.937225341796875, reward = -0.17753641307353973\n"
     ]
    },
    {
     "name": "stderr",
     "output_type": "stream",
     "text": [
      "  1%|          | 101/10000 [01:01<7:09:21,  2.60s/it]"
     ]
    },
    {
     "name": "stdout",
     "output_type": "stream",
     "text": [
      "step = 100: loss = -0.029841536656022072, reward = -0.4798048138618469\n"
     ]
    },
    {
     "name": "stderr",
     "output_type": "stream",
     "text": [
      "  2%|▏         | 201/10000 [01:52<7:38:07,  2.81s/it]"
     ]
    },
    {
     "name": "stdout",
     "output_type": "stream",
     "text": [
      "step = 200: loss = -0.04589027166366577, reward = 0.0646543949842453\n"
     ]
    },
    {
     "name": "stderr",
     "output_type": "stream",
     "text": [
      "  3%|▎         | 301/10000 [02:54<8:11:22,  3.04s/it]"
     ]
    },
    {
     "name": "stdout",
     "output_type": "stream",
     "text": [
      "step = 300: loss = -0.0024730374570935965, reward = 0.1006183847784996\n"
     ]
    },
    {
     "name": "stderr",
     "output_type": "stream",
     "text": [
      "  4%|▍         | 401/10000 [03:46<7:03:52,  2.65s/it]"
     ]
    },
    {
     "name": "stdout",
     "output_type": "stream",
     "text": [
      "step = 400: loss = 0.008433199487626553, reward = 0.0948130339384079\n"
     ]
    },
    {
     "name": "stderr",
     "output_type": "stream",
     "text": [
      "  5%|▌         | 501/10000 [04:38<6:48:37,  2.58s/it]"
     ]
    },
    {
     "name": "stdout",
     "output_type": "stream",
     "text": [
      "step = 500: loss = -0.005747173447161913, reward = 0.09036823362112045\n"
     ]
    },
    {
     "name": "stderr",
     "output_type": "stream",
     "text": [
      "  6%|▌         | 601/10000 [05:30<6:52:01,  2.63s/it]"
     ]
    },
    {
     "name": "stdout",
     "output_type": "stream",
     "text": [
      "step = 600: loss = -0.015521685592830181, reward = 0.06981039047241211\n"
     ]
    },
    {
     "name": "stderr",
     "output_type": "stream",
     "text": [
      "  7%|▋         | 701/10000 [06:30<8:06:04,  3.14s/it]"
     ]
    },
    {
     "name": "stdout",
     "output_type": "stream",
     "text": [
      "step = 700: loss = -0.0054346658289432526, reward = 0.07592859119176865\n"
     ]
    },
    {
     "name": "stderr",
     "output_type": "stream",
     "text": [
      "  8%|▊         | 801/10000 [07:30<7:48:58,  3.06s/it]"
     ]
    },
    {
     "name": "stdout",
     "output_type": "stream",
     "text": [
      "step = 800: loss = -0.009554612450301647, reward = 0.06064216047525406\n"
     ]
    },
    {
     "name": "stderr",
     "output_type": "stream",
     "text": [
      "  9%|▉         | 901/10000 [08:27<7:47:50,  3.09s/it]"
     ]
    },
    {
     "name": "stdout",
     "output_type": "stream",
     "text": [
      "step = 900: loss = -0.013438339345157146, reward = 0.13207818567752838\n"
     ]
    },
    {
     "name": "stderr",
     "output_type": "stream",
     "text": [
      " 10%|█         | 1001/10000 [09:21<6:25:21,  2.57s/it]"
     ]
    },
    {
     "name": "stdout",
     "output_type": "stream",
     "text": [
      "step = 1000: loss = -0.02279972843825817, reward = 0.07570149004459381\n"
     ]
    },
    {
     "name": "stderr",
     "output_type": "stream",
     "text": [
      " 11%|█         | 1101/10000 [10:12<6:18:53,  2.55s/it]"
     ]
    },
    {
     "name": "stdout",
     "output_type": "stream",
     "text": [
      "step = 1100: loss = -0.02009693719446659, reward = 0.06107410043478012\n"
     ]
    },
    {
     "name": "stderr",
     "output_type": "stream",
     "text": [
      " 12%|█▏        | 1201/10000 [11:01<6:13:26,  2.55s/it]"
     ]
    },
    {
     "name": "stdout",
     "output_type": "stream",
     "text": [
      "step = 1200: loss = -0.03956253081560135, reward = -0.14187034964561462\n"
     ]
    },
    {
     "name": "stderr",
     "output_type": "stream",
     "text": [
      " 13%|█▎        | 1301/10000 [11:52<6:09:56,  2.55s/it]"
     ]
    },
    {
     "name": "stdout",
     "output_type": "stream",
     "text": [
      "step = 1300: loss = 0.006894805934280157, reward = -0.08655361086130142\n"
     ]
    },
    {
     "name": "stderr",
     "output_type": "stream",
     "text": [
      " 14%|█▍        | 1401/10000 [12:41<6:05:52,  2.55s/it]"
     ]
    },
    {
     "name": "stdout",
     "output_type": "stream",
     "text": [
      "step = 1400: loss = -0.011612087488174438, reward = 0.08446063101291656\n"
     ]
    },
    {
     "name": "stderr",
     "output_type": "stream",
     "text": [
      " 15%|█▌        | 1501/10000 [13:32<6:04:33,  2.57s/it]"
     ]
    },
    {
     "name": "stdout",
     "output_type": "stream",
     "text": [
      "step = 1500: loss = 0.13603658974170685, reward = -0.004821706563234329\n"
     ]
    },
    {
     "name": "stderr",
     "output_type": "stream",
     "text": [
      " 16%|█▌        | 1601/10000 [14:24<6:06:23,  2.62s/it]"
     ]
    },
    {
     "name": "stdout",
     "output_type": "stream",
     "text": [
      "step = 1600: loss = -0.026009418070316315, reward = 0.095827117562294\n"
     ]
    },
    {
     "name": "stderr",
     "output_type": "stream",
     "text": [
      " 17%|█▋        | 1701/10000 [15:13<5:53:48,  2.56s/it]"
     ]
    },
    {
     "name": "stdout",
     "output_type": "stream",
     "text": [
      "step = 1700: loss = -0.002900458872318268, reward = 0.02800840511918068\n"
     ]
    },
    {
     "name": "stderr",
     "output_type": "stream",
     "text": [
      " 18%|█▊        | 1801/10000 [16:02<5:48:56,  2.55s/it]"
     ]
    },
    {
     "name": "stdout",
     "output_type": "stream",
     "text": [
      "step = 1800: loss = -0.0037551005370914936, reward = 0.07382015883922577\n"
     ]
    },
    {
     "name": "stderr",
     "output_type": "stream",
     "text": [
      " 19%|█▉        | 1901/10000 [16:53<6:16:09,  2.79s/it]"
     ]
    },
    {
     "name": "stdout",
     "output_type": "stream",
     "text": [
      "step = 1900: loss = 0.003202388994395733, reward = 0.04558534920215607\n"
     ]
    },
    {
     "name": "stderr",
     "output_type": "stream",
     "text": [
      " 20%|██        | 2001/10000 [17:45<5:43:12,  2.57s/it]"
     ]
    },
    {
     "name": "stdout",
     "output_type": "stream",
     "text": [
      "step = 2000: loss = -0.01820695959031582, reward = 0.07326477766036987\n"
     ]
    },
    {
     "name": "stderr",
     "output_type": "stream",
     "text": [
      " 21%|██        | 2101/10000 [18:38<5:53:28,  2.68s/it]"
     ]
    },
    {
     "name": "stdout",
     "output_type": "stream",
     "text": [
      "step = 2100: loss = -0.020956963300704956, reward = 0.05151586979627609\n"
     ]
    },
    {
     "name": "stderr",
     "output_type": "stream",
     "text": [
      " 22%|██▏       | 2201/10000 [19:28<5:44:00,  2.65s/it]"
     ]
    },
    {
     "name": "stdout",
     "output_type": "stream",
     "text": [
      "step = 2200: loss = -0.02764793112874031, reward = 0.08506140112876892\n"
     ]
    },
    {
     "name": "stderr",
     "output_type": "stream",
     "text": [
      " 23%|██▎       | 2301/10000 [20:18<5:59:03,  2.80s/it]"
     ]
    },
    {
     "name": "stdout",
     "output_type": "stream",
     "text": [
      "step = 2300: loss = 0.001491648145020008, reward = 0.10345141589641571\n"
     ]
    },
    {
     "name": "stderr",
     "output_type": "stream",
     "text": [
      " 24%|██▍       | 2401/10000 [21:08<5:45:57,  2.73s/it]"
     ]
    },
    {
     "name": "stdout",
     "output_type": "stream",
     "text": [
      "step = 2400: loss = -0.0023741128388792276, reward = 0.05721893161535263\n"
     ]
    },
    {
     "name": "stderr",
     "output_type": "stream",
     "text": [
      " 25%|██▌       | 2501/10000 [21:58<5:30:18,  2.64s/it]"
     ]
    },
    {
     "name": "stdout",
     "output_type": "stream",
     "text": [
      "step = 2500: loss = -0.026749931275844574, reward = -0.3260703980922699\n"
     ]
    },
    {
     "name": "stderr",
     "output_type": "stream",
     "text": [
      " 26%|██▌       | 2601/10000 [22:49<5:48:27,  2.83s/it]"
     ]
    },
    {
     "name": "stdout",
     "output_type": "stream",
     "text": [
      "step = 2600: loss = -0.009807603433728218, reward = -0.4977230131626129\n"
     ]
    },
    {
     "name": "stderr",
     "output_type": "stream",
     "text": [
      " 27%|██▋       | 2701/10000 [23:40<5:23:21,  2.66s/it]"
     ]
    },
    {
     "name": "stdout",
     "output_type": "stream",
     "text": [
      "step = 2700: loss = -0.003918954636901617, reward = -0.5366655588150024\n"
     ]
    },
    {
     "name": "stderr",
     "output_type": "stream",
     "text": [
      " 28%|██▊       | 2801/10000 [24:32<5:22:57,  2.69s/it]"
     ]
    },
    {
     "name": "stdout",
     "output_type": "stream",
     "text": [
      "step = 2800: loss = -0.007426843512803316, reward = -0.515765368938446\n"
     ]
    },
    {
     "name": "stderr",
     "output_type": "stream",
     "text": [
      " 29%|██▉       | 2901/10000 [25:23<5:12:43,  2.64s/it]"
     ]
    },
    {
     "name": "stdout",
     "output_type": "stream",
     "text": [
      "step = 2900: loss = -0.027111032977700233, reward = -0.6060086488723755\n"
     ]
    },
    {
     "name": "stderr",
     "output_type": "stream",
     "text": [
      " 30%|███       | 3001/10000 [26:14<5:01:33,  2.59s/it]"
     ]
    },
    {
     "name": "stdout",
     "output_type": "stream",
     "text": [
      "step = 3000: loss = -0.009513258934020996, reward = 0.05808001756668091\n"
     ]
    },
    {
     "name": "stderr",
     "output_type": "stream",
     "text": [
      " 31%|███       | 3101/10000 [27:06<5:15:35,  2.74s/it]"
     ]
    },
    {
     "name": "stdout",
     "output_type": "stream",
     "text": [
      "step = 3100: loss = -0.09422209858894348, reward = -0.010376416146755219\n"
     ]
    },
    {
     "name": "stderr",
     "output_type": "stream",
     "text": [
      " 32%|███▏      | 3201/10000 [28:00<5:23:22,  2.85s/it]"
     ]
    },
    {
     "name": "stdout",
     "output_type": "stream",
     "text": [
      "step = 3200: loss = -0.022492051124572754, reward = -0.1794758141040802\n"
     ]
    },
    {
     "name": "stderr",
     "output_type": "stream",
     "text": [
      " 33%|███▎      | 3301/10000 [28:54<5:09:37,  2.77s/it]"
     ]
    },
    {
     "name": "stdout",
     "output_type": "stream",
     "text": [
      "step = 3300: loss = -0.03663545101881027, reward = -0.08150073885917664\n"
     ]
    },
    {
     "name": "stderr",
     "output_type": "stream",
     "text": [
      " 34%|███▍      | 3401/10000 [29:49<4:57:58,  2.71s/it]"
     ]
    },
    {
     "name": "stdout",
     "output_type": "stream",
     "text": [
      "step = 3400: loss = -0.014627097174525261, reward = -0.14371761679649353\n"
     ]
    },
    {
     "name": "stderr",
     "output_type": "stream",
     "text": [
      " 35%|███▌      | 3501/10000 [30:45<4:53:07,  2.71s/it]"
     ]
    },
    {
     "name": "stdout",
     "output_type": "stream",
     "text": [
      "step = 3500: loss = -0.006813403218984604, reward = -0.16940483450889587\n"
     ]
    },
    {
     "name": "stderr",
     "output_type": "stream",
     "text": [
      " 36%|███▌      | 3601/10000 [31:53<11:02:02,  6.21s/it]"
     ]
    },
    {
     "name": "stdout",
     "output_type": "stream",
     "text": [
      "step = 3600: loss = -0.0007351728272624314, reward = -0.1557752788066864\n"
     ]
    },
    {
     "name": "stderr",
     "output_type": "stream",
     "text": [
      " 37%|███▋      | 3701/10000 [32:53<5:00:30,  2.86s/it] "
     ]
    },
    {
     "name": "stdout",
     "output_type": "stream",
     "text": [
      "step = 3700: loss = 0.0016316949622705579, reward = -0.10929298400878906\n"
     ]
    },
    {
     "name": "stderr",
     "output_type": "stream",
     "text": [
      " 38%|███▊      | 3801/10000 [33:48<4:42:03,  2.73s/it]"
     ]
    },
    {
     "name": "stdout",
     "output_type": "stream",
     "text": [
      "step = 3800: loss = -0.006584027782082558, reward = -0.1447393149137497\n"
     ]
    },
    {
     "name": "stderr",
     "output_type": "stream",
     "text": [
      " 39%|███▉      | 3901/10000 [34:41<4:28:01,  2.64s/it]"
     ]
    },
    {
     "name": "stdout",
     "output_type": "stream",
     "text": [
      "step = 3900: loss = -0.039411235600709915, reward = -0.12452354282140732\n"
     ]
    },
    {
     "name": "stderr",
     "output_type": "stream",
     "text": [
      " 40%|████      | 4001/10000 [35:35<4:22:33,  2.63s/it]"
     ]
    },
    {
     "name": "stdout",
     "output_type": "stream",
     "text": [
      "step = 4000: loss = -0.014827650040388107, reward = -0.1095043420791626\n"
     ]
    },
    {
     "name": "stderr",
     "output_type": "stream",
     "text": [
      " 41%|████      | 4101/10000 [36:29<4:50:42,  2.96s/it]"
     ]
    },
    {
     "name": "stdout",
     "output_type": "stream",
     "text": [
      "step = 4100: loss = -0.013007811270654202, reward = -0.14809484779834747\n"
     ]
    },
    {
     "name": "stderr",
     "output_type": "stream",
     "text": [
      " 42%|████▏     | 4201/10000 [37:38<4:22:12,  2.71s/it]"
     ]
    },
    {
     "name": "stdout",
     "output_type": "stream",
     "text": [
      "step = 4200: loss = -0.006307572592049837, reward = -0.13430342078208923\n"
     ]
    },
    {
     "name": "stderr",
     "output_type": "stream",
     "text": [
      " 43%|████▎     | 4301/10000 [38:30<4:16:43,  2.70s/it]"
     ]
    },
    {
     "name": "stdout",
     "output_type": "stream",
     "text": [
      "step = 4300: loss = 0.003515255870297551, reward = -0.12775585055351257\n"
     ]
    },
    {
     "name": "stderr",
     "output_type": "stream",
     "text": [
      " 44%|████▍     | 4401/10000 [39:23<4:21:52,  2.81s/it]"
     ]
    },
    {
     "name": "stdout",
     "output_type": "stream",
     "text": [
      "step = 4400: loss = 0.004743673373013735, reward = -0.11923233419656754\n"
     ]
    },
    {
     "name": "stderr",
     "output_type": "stream",
     "text": [
      " 45%|████▌     | 4501/10000 [40:19<4:01:43,  2.64s/it]"
     ]
    },
    {
     "name": "stdout",
     "output_type": "stream",
     "text": [
      "step = 4500: loss = 0.005955316126346588, reward = -0.12080593407154083\n"
     ]
    },
    {
     "name": "stderr",
     "output_type": "stream",
     "text": [
      " 46%|████▌     | 4601/10000 [41:11<3:53:44,  2.60s/it]"
     ]
    },
    {
     "name": "stdout",
     "output_type": "stream",
     "text": [
      "step = 4600: loss = -0.05429302901029587, reward = -0.08684021234512329\n"
     ]
    },
    {
     "name": "stderr",
     "output_type": "stream",
     "text": [
      " 47%|████▋     | 4701/10000 [42:00<3:44:05,  2.54s/it]"
     ]
    },
    {
     "name": "stdout",
     "output_type": "stream",
     "text": [
      "step = 4700: loss = 0.005476806312799454, reward = 0.005218320991843939\n"
     ]
    },
    {
     "name": "stderr",
     "output_type": "stream",
     "text": [
      " 48%|████▊     | 4801/10000 [42:51<3:50:34,  2.66s/it]"
     ]
    },
    {
     "name": "stdout",
     "output_type": "stream",
     "text": [
      "step = 4800: loss = 0.002454745350405574, reward = -0.02282392606139183\n"
     ]
    },
    {
     "name": "stderr",
     "output_type": "stream",
     "text": [
      " 49%|████▉     | 4901/10000 [43:41<3:38:04,  2.57s/it]"
     ]
    },
    {
     "name": "stdout",
     "output_type": "stream",
     "text": [
      "step = 4900: loss = 0.00216989335604012, reward = 0.008491285145282745\n"
     ]
    },
    {
     "name": "stderr",
     "output_type": "stream",
     "text": [
      " 50%|█████     | 5001/10000 [44:32<3:33:03,  2.56s/it]"
     ]
    },
    {
     "name": "stdout",
     "output_type": "stream",
     "text": [
      "step = 5000: loss = 0.007778072264045477, reward = -0.05301349237561226\n"
     ]
    },
    {
     "name": "stderr",
     "output_type": "stream",
     "text": [
      " 51%|█████     | 5101/10000 [45:22<3:27:46,  2.54s/it]"
     ]
    },
    {
     "name": "stdout",
     "output_type": "stream",
     "text": [
      "step = 5100: loss = -0.10312110930681229, reward = 0.1318182647228241\n"
     ]
    },
    {
     "name": "stderr",
     "output_type": "stream",
     "text": [
      " 52%|█████▏    | 5201/10000 [46:12<3:24:23,  2.56s/it]"
     ]
    },
    {
     "name": "stdout",
     "output_type": "stream",
     "text": [
      "step = 5200: loss = -0.00267457845620811, reward = -0.1441565603017807\n"
     ]
    },
    {
     "name": "stderr",
     "output_type": "stream",
     "text": [
      " 53%|█████▎    | 5301/10000 [47:02<3:23:29,  2.60s/it]"
     ]
    },
    {
     "name": "stdout",
     "output_type": "stream",
     "text": [
      "step = 5300: loss = -0.009113558568060398, reward = -0.008346456103026867\n"
     ]
    },
    {
     "name": "stderr",
     "output_type": "stream",
     "text": [
      " 54%|█████▍    | 5401/10000 [47:52<3:16:34,  2.56s/it]"
     ]
    },
    {
     "name": "stdout",
     "output_type": "stream",
     "text": [
      "step = 5400: loss = -0.004117089323699474, reward = -0.005369010381400585\n"
     ]
    },
    {
     "name": "stderr",
     "output_type": "stream",
     "text": [
      " 55%|█████▌    | 5501/10000 [48:43<3:11:44,  2.56s/it]"
     ]
    },
    {
     "name": "stdout",
     "output_type": "stream",
     "text": [
      "step = 5500: loss = -0.0033366698771715164, reward = 0.006968374364078045\n"
     ]
    },
    {
     "name": "stderr",
     "output_type": "stream",
     "text": [
      " 56%|█████▌    | 5601/10000 [49:33<3:07:15,  2.55s/it]"
     ]
    },
    {
     "name": "stdout",
     "output_type": "stream",
     "text": [
      "step = 5600: loss = 0.0053539699874818325, reward = -0.3954353928565979\n"
     ]
    },
    {
     "name": "stderr",
     "output_type": "stream",
     "text": [
      " 57%|█████▋    | 5701/10000 [50:23<3:01:32,  2.53s/it]"
     ]
    },
    {
     "name": "stdout",
     "output_type": "stream",
     "text": [
      "step = 5700: loss = -0.005777641199529171, reward = -0.4003916382789612\n"
     ]
    },
    {
     "name": "stderr",
     "output_type": "stream",
     "text": [
      " 58%|█████▊    | 5801/10000 [51:13<2:58:54,  2.56s/it]"
     ]
    },
    {
     "name": "stdout",
     "output_type": "stream",
     "text": [
      "step = 5800: loss = -0.0013245362788438797, reward = -0.08402419835329056\n"
     ]
    },
    {
     "name": "stderr",
     "output_type": "stream",
     "text": [
      " 59%|█████▉    | 5901/10000 [52:03<2:53:27,  2.54s/it]"
     ]
    },
    {
     "name": "stdout",
     "output_type": "stream",
     "text": [
      "step = 5900: loss = 0.004345765803009272, reward = -0.11660643666982651\n"
     ]
    },
    {
     "name": "stderr",
     "output_type": "stream",
     "text": [
      " 60%|██████    | 6001/10000 [52:53<2:50:32,  2.56s/it]"
     ]
    },
    {
     "name": "stdout",
     "output_type": "stream",
     "text": [
      "step = 6000: loss = -0.00141683139372617, reward = -0.37293437123298645\n"
     ]
    },
    {
     "name": "stderr",
     "output_type": "stream",
     "text": [
      " 61%|██████    | 6101/10000 [53:43<2:46:44,  2.57s/it]"
     ]
    },
    {
     "name": "stdout",
     "output_type": "stream",
     "text": [
      "step = 6100: loss = 0.0020304021891206503, reward = -0.46715623140335083\n"
     ]
    },
    {
     "name": "stderr",
     "output_type": "stream",
     "text": [
      " 62%|██████▏   | 6201/10000 [54:33<2:41:45,  2.55s/it]"
     ]
    },
    {
     "name": "stdout",
     "output_type": "stream",
     "text": [
      "step = 6200: loss = 0.002308701630681753, reward = -0.4524999260902405\n"
     ]
    },
    {
     "name": "stderr",
     "output_type": "stream",
     "text": [
      " 63%|██████▎   | 6301/10000 [55:23<2:36:05,  2.53s/it]"
     ]
    },
    {
     "name": "stdout",
     "output_type": "stream",
     "text": [
      "step = 6300: loss = 0.000125030055642128, reward = -0.5659657120704651\n"
     ]
    },
    {
     "name": "stderr",
     "output_type": "stream",
     "text": [
      " 64%|██████▍   | 6401/10000 [56:13<2:32:57,  2.55s/it]"
     ]
    },
    {
     "name": "stdout",
     "output_type": "stream",
     "text": [
      "step = 6400: loss = -0.0006637836340814829, reward = -0.5557823777198792\n"
     ]
    },
    {
     "name": "stderr",
     "output_type": "stream",
     "text": [
      " 65%|██████▌   | 6501/10000 [57:03<2:28:50,  2.55s/it]"
     ]
    },
    {
     "name": "stdout",
     "output_type": "stream",
     "text": [
      "step = 6500: loss = -0.003973644692450762, reward = 0.05257822945713997\n"
     ]
    },
    {
     "name": "stderr",
     "output_type": "stream",
     "text": [
      " 66%|██████▌   | 6601/10000 [57:53<2:24:07,  2.54s/it]"
     ]
    },
    {
     "name": "stdout",
     "output_type": "stream",
     "text": [
      "step = 6600: loss = -0.007424875628203154, reward = 0.02047843299806118\n"
     ]
    },
    {
     "name": "stderr",
     "output_type": "stream",
     "text": [
      " 67%|██████▋   | 6701/10000 [58:43<2:20:26,  2.55s/it]"
     ]
    },
    {
     "name": "stdout",
     "output_type": "stream",
     "text": [
      "step = 6700: loss = -0.03125167265534401, reward = -0.08490550518035889\n"
     ]
    },
    {
     "name": "stderr",
     "output_type": "stream",
     "text": [
      " 68%|██████▊   | 6801/10000 [59:34<2:20:06,  2.63s/it]"
     ]
    },
    {
     "name": "stdout",
     "output_type": "stream",
     "text": [
      "step = 6800: loss = -0.006715892814099789, reward = -0.20727285742759705\n"
     ]
    },
    {
     "name": "stderr",
     "output_type": "stream",
     "text": [
      " 69%|██████▉   | 6901/10000 [1:00:26<2:12:41,  2.57s/it]"
     ]
    },
    {
     "name": "stdout",
     "output_type": "stream",
     "text": [
      "step = 6900: loss = -0.002833651378750801, reward = -0.14743776619434357\n"
     ]
    },
    {
     "name": "stderr",
     "output_type": "stream",
     "text": [
      " 70%|███████   | 7001/10000 [1:01:17<2:11:12,  2.62s/it]"
     ]
    },
    {
     "name": "stdout",
     "output_type": "stream",
     "text": [
      "step = 7000: loss = -0.0018620153423398733, reward = -0.03974051773548126\n"
     ]
    },
    {
     "name": "stderr",
     "output_type": "stream",
     "text": [
      " 71%|███████   | 7101/10000 [1:02:21<2:05:20,  2.59s/it]"
     ]
    },
    {
     "name": "stdout",
     "output_type": "stream",
     "text": [
      "step = 7100: loss = -0.006395635660737753, reward = -0.13103936612606049\n"
     ]
    },
    {
     "name": "stderr",
     "output_type": "stream",
     "text": [
      " 72%|███████▏  | 7201/10000 [1:03:15<2:01:14,  2.60s/it]"
     ]
    },
    {
     "name": "stdout",
     "output_type": "stream",
     "text": [
      "step = 7200: loss = -0.0013959211064502597, reward = -0.09121858328580856\n"
     ]
    },
    {
     "name": "stderr",
     "output_type": "stream",
     "text": [
      " 73%|███████▎  | 7301/10000 [1:04:08<1:56:31,  2.59s/it]"
     ]
    },
    {
     "name": "stdout",
     "output_type": "stream",
     "text": [
      "step = 7300: loss = -0.030369849875569344, reward = -0.13139879703521729\n"
     ]
    },
    {
     "name": "stderr",
     "output_type": "stream",
     "text": [
      " 74%|███████▍  | 7401/10000 [1:05:01<1:52:57,  2.61s/it]"
     ]
    },
    {
     "name": "stdout",
     "output_type": "stream",
     "text": [
      "step = 7400: loss = -0.0003544760402292013, reward = -0.17020411789417267\n"
     ]
    },
    {
     "name": "stderr",
     "output_type": "stream",
     "text": [
      " 75%|███████▌  | 7501/10000 [1:05:54<1:47:44,  2.59s/it]"
     ]
    },
    {
     "name": "stdout",
     "output_type": "stream",
     "text": [
      "step = 7500: loss = -0.0017358472105115652, reward = -0.09534154832363129\n"
     ]
    },
    {
     "name": "stderr",
     "output_type": "stream",
     "text": [
      " 76%|███████▌  | 7601/10000 [1:06:47<1:44:21,  2.61s/it]"
     ]
    },
    {
     "name": "stdout",
     "output_type": "stream",
     "text": [
      "step = 7600: loss = -0.00711114052683115, reward = -0.09150321781635284\n"
     ]
    },
    {
     "name": "stderr",
     "output_type": "stream",
     "text": [
      " 77%|███████▋  | 7701/10000 [1:07:40<1:38:42,  2.58s/it]"
     ]
    },
    {
     "name": "stdout",
     "output_type": "stream",
     "text": [
      "step = 7700: loss = -0.01760304719209671, reward = 0.01841781474649906\n"
     ]
    },
    {
     "name": "stderr",
     "output_type": "stream",
     "text": [
      " 78%|███████▊  | 7801/10000 [1:08:33<1:34:56,  2.59s/it]"
     ]
    },
    {
     "name": "stdout",
     "output_type": "stream",
     "text": [
      "step = 7800: loss = -0.0004201991541776806, reward = 0.11232483386993408\n"
     ]
    },
    {
     "name": "stderr",
     "output_type": "stream",
     "text": [
      " 79%|███████▉  | 7901/10000 [1:09:25<1:30:09,  2.58s/it]"
     ]
    },
    {
     "name": "stdout",
     "output_type": "stream",
     "text": [
      "step = 7900: loss = 0.0022978587076067924, reward = 0.0885215550661087\n"
     ]
    },
    {
     "name": "stderr",
     "output_type": "stream",
     "text": [
      " 80%|████████  | 8001/10000 [1:10:18<1:27:39,  2.63s/it]"
     ]
    },
    {
     "name": "stdout",
     "output_type": "stream",
     "text": [
      "step = 8000: loss = 0.0017010057345032692, reward = 0.06793919205665588\n"
     ]
    },
    {
     "name": "stderr",
     "output_type": "stream",
     "text": [
      " 81%|████████  | 8101/10000 [1:11:10<1:21:48,  2.58s/it]"
     ]
    },
    {
     "name": "stdout",
     "output_type": "stream",
     "text": [
      "step = 8100: loss = 0.0019339965656399727, reward = 0.08732522279024124\n"
     ]
    },
    {
     "name": "stderr",
     "output_type": "stream",
     "text": [
      " 82%|████████▏ | 8201/10000 [1:12:02<1:17:01,  2.57s/it]"
     ]
    },
    {
     "name": "stdout",
     "output_type": "stream",
     "text": [
      "step = 8200: loss = -0.001657668617554009, reward = 0.023821990936994553\n"
     ]
    },
    {
     "name": "stderr",
     "output_type": "stream",
     "text": [
      " 83%|████████▎ | 8301/10000 [1:15:04<1:13:48,  2.61s/it] "
     ]
    },
    {
     "name": "stdout",
     "output_type": "stream",
     "text": [
      "step = 8300: loss = -0.002437570597976446, reward = 0.10907639563083649\n"
     ]
    },
    {
     "name": "stderr",
     "output_type": "stream",
     "text": [
      " 84%|████████▍ | 8401/10000 [1:15:55<1:08:07,  2.56s/it]"
     ]
    },
    {
     "name": "stdout",
     "output_type": "stream",
     "text": [
      "step = 8400: loss = -0.002247120952233672, reward = 0.038752634078264236\n"
     ]
    },
    {
     "name": "stderr",
     "output_type": "stream",
     "text": [
      " 85%|████████▌ | 8501/10000 [1:16:46<1:04:17,  2.57s/it]"
     ]
    },
    {
     "name": "stdout",
     "output_type": "stream",
     "text": [
      "step = 8500: loss = -0.0022757744882255793, reward = 0.06408777832984924\n"
     ]
    },
    {
     "name": "stderr",
     "output_type": "stream",
     "text": [
      " 86%|████████▌ | 8601/10000 [1:17:36<1:00:02,  2.57s/it]"
     ]
    },
    {
     "name": "stdout",
     "output_type": "stream",
     "text": [
      "step = 8600: loss = -0.004113011993467808, reward = -0.0400715097784996\n"
     ]
    },
    {
     "name": "stderr",
     "output_type": "stream",
     "text": [
      " 87%|████████▋ | 8701/10000 [1:18:27<56:11,  2.60s/it]  "
     ]
    },
    {
     "name": "stdout",
     "output_type": "stream",
     "text": [
      "step = 8700: loss = -0.002262270776554942, reward = -0.05166323855519295\n"
     ]
    },
    {
     "name": "stderr",
     "output_type": "stream",
     "text": [
      " 88%|████████▊ | 8801/10000 [1:19:18<51:27,  2.58s/it]"
     ]
    },
    {
     "name": "stdout",
     "output_type": "stream",
     "text": [
      "step = 8800: loss = -0.0010613177437335253, reward = -0.09124276041984558\n"
     ]
    },
    {
     "name": "stderr",
     "output_type": "stream",
     "text": [
      " 89%|████████▉ | 8901/10000 [1:20:09<46:44,  2.55s/it]"
     ]
    },
    {
     "name": "stdout",
     "output_type": "stream",
     "text": [
      "step = 8900: loss = -0.002044474007561803, reward = -0.5163190364837646\n"
     ]
    },
    {
     "name": "stderr",
     "output_type": "stream",
     "text": [
      " 90%|█████████ | 9001/10000 [1:21:00<42:35,  2.56s/it]"
     ]
    },
    {
     "name": "stdout",
     "output_type": "stream",
     "text": [
      "step = 9000: loss = -0.0025240506511181593, reward = -0.572773814201355\n"
     ]
    },
    {
     "name": "stderr",
     "output_type": "stream",
     "text": [
      " 91%|█████████ | 9101/10000 [1:21:51<38:26,  2.57s/it]"
     ]
    },
    {
     "name": "stdout",
     "output_type": "stream",
     "text": [
      "step = 9100: loss = -0.0029183807782828808, reward = -0.5777910947799683\n"
     ]
    },
    {
     "name": "stderr",
     "output_type": "stream",
     "text": [
      " 92%|█████████▏| 9201/10000 [1:22:43<34:21,  2.58s/it]"
     ]
    },
    {
     "name": "stdout",
     "output_type": "stream",
     "text": [
      "step = 9200: loss = -0.0010590116726234555, reward = -0.5694754123687744\n"
     ]
    },
    {
     "name": "stderr",
     "output_type": "stream",
     "text": [
      " 93%|█████████▎| 9301/10000 [1:23:34<29:59,  2.57s/it]"
     ]
    },
    {
     "name": "stdout",
     "output_type": "stream",
     "text": [
      "step = 9300: loss = -0.00102526496630162, reward = 0.052893705666065216\n"
     ]
    },
    {
     "name": "stderr",
     "output_type": "stream",
     "text": [
      " 94%|█████████▍| 9401/10000 [1:24:25<25:38,  2.57s/it]"
     ]
    },
    {
     "name": "stdout",
     "output_type": "stream",
     "text": [
      "step = 9400: loss = -0.0010977387428283691, reward = -0.520660936832428\n"
     ]
    },
    {
     "name": "stderr",
     "output_type": "stream",
     "text": [
      " 95%|█████████▌| 9501/10000 [1:25:17<21:17,  2.56s/it]"
     ]
    },
    {
     "name": "stdout",
     "output_type": "stream",
     "text": [
      "step = 9500: loss = -0.016466550529003143, reward = -0.010863653384149075\n"
     ]
    },
    {
     "name": "stderr",
     "output_type": "stream",
     "text": [
      " 96%|█████████▌| 9601/10000 [1:26:08<16:59,  2.56s/it]"
     ]
    },
    {
     "name": "stdout",
     "output_type": "stream",
     "text": [
      "step = 9600: loss = -0.004927287343889475, reward = 0.09239820390939713\n"
     ]
    },
    {
     "name": "stderr",
     "output_type": "stream",
     "text": [
      " 97%|█████████▋| 9701/10000 [1:26:59<12:47,  2.57s/it]"
     ]
    },
    {
     "name": "stdout",
     "output_type": "stream",
     "text": [
      "step = 9700: loss = -0.05658155307173729, reward = 0.10042295604944229\n"
     ]
    },
    {
     "name": "stderr",
     "output_type": "stream",
     "text": [
      " 98%|█████████▊| 9801/10000 [1:27:50<08:30,  2.56s/it]"
     ]
    },
    {
     "name": "stdout",
     "output_type": "stream",
     "text": [
      "step = 9800: loss = -0.007920180447399616, reward = 0.06870749592781067\n"
     ]
    },
    {
     "name": "stderr",
     "output_type": "stream",
     "text": [
      " 99%|█████████▉| 9901/10000 [1:28:41<04:14,  2.57s/it]"
     ]
    },
    {
     "name": "stdout",
     "output_type": "stream",
     "text": [
      "step = 9900: loss = -0.0016685246955603361, reward = 0.05374101921916008\n"
     ]
    },
    {
     "name": "stderr",
     "output_type": "stream",
     "text": [
      "100%|██████████| 10000/10000 [1:29:25<00:00,  1.86it/s]\n"
     ]
    }
   ],
   "source": [
    "loss, observations, rewards = train(\n",
    "    agent, train_env, test_env, collect_driver, replay_buffer, steps = num_steps, eval_interval=100)"
   ]
  },
  {
   "cell_type": "code",
   "execution_count": 13,
   "metadata": {},
   "outputs": [
    {
     "name": "stderr",
     "output_type": "stream",
     "text": [
      "/Users/ellkrauze/projects/gc-ml/gc-ml-env/lib/python3.8/site-packages/tensorflow/python/saved_model/nested_structure_coder.py:475: UserWarning: Encoding a StructuredValue with type tfp.distributions.Deterministic_ACTTypeSpec; loading this StructuredValue will require that this type be imported and registered.\n",
      "  warnings.warn(\"Encoding a StructuredValue with type %s; loading this \"\n"
     ]
    }
   ],
   "source": [
    "tf_policy_saver.save(policy_dir)"
   ]
  },
  {
   "cell_type": "code",
   "execution_count": 14,
   "metadata": {},
   "outputs": [
    {
     "data": {
      "image/png": "[encoded data removed]",
      "text/plain": [
       "<Figure size 640x480 with 2 Axes>"
      ]
     },
     "metadata": {},
     "output_type": "display_data"
    }
   ],
   "source": [
    "plot_training(loss, rewards, num_steps, 100)"
   ]
  },
  {
   "cell_type": "markdown",
   "metadata": {},
   "source": [
    "### Test"
   ]
  },
  {
   "cell_type": "code",
   "execution_count": 64,
   "metadata": {},
   "outputs": [],
   "source": [
    "def test(env, policy, patience: int=50, verbose: bool=False, num_flags: int=2):\n",
    "    i = 0\n",
    "    _observations = np.array([])\n",
    "    _actions = np.array([])\n",
    "    \n",
    "    time_step = env.reset()\n",
    "    default_state = get_env_state(env)\n",
    "    \n",
    "    while not time_step.is_last():\n",
    "        if i >= patience:\n",
    "            break\n",
    "        \n",
    "        _observations = np.append(_observations, time_step.observation.numpy().squeeze()[:num_flags])\n",
    "        \n",
    "        action_step = policy.action(time_step)\n",
    "        time_step = env.step(action_step.action)\n",
    "        \n",
    "        _actions = np.append(_actions, action_step.action.numpy()[0])\n",
    "\n",
    "        i += 1\n",
    "        \n",
    "    if verbose:\n",
    "        print(\"start:\", *default_state, \n",
    "          \"recommendation:\", *get_env_state(env))\n",
    "    \n",
    "    return _observations, _actions"
   ]
  },
  {
   "cell_type": "code",
   "execution_count": 88,
   "metadata": {},
   "outputs": [
    {
     "name": "stdout",
     "output_type": "stream",
     "text": [
      "Getting 5000 samples...\n"
     ]
    }
   ],
   "source": [
    "# observations = np.array([])\n",
    "# actions = np.array([])\n",
    "observations = []\n",
    "actions = []\n",
    "# flags_num = 2\n",
    "flags_num = 10\n",
    "num_episodes = 500\n",
    "# num_episodes = 1\n",
    "envs = [*batched_env.envs] # , JVMEnv(bm_name=\"h2\", **env_args)\n",
    "\n",
    "print(f\"Getting {num_episodes * len(envs)} samples...\")\n",
    "\n",
    "for env in envs:\n",
    "    # print(env._bm)\n",
    "    env = tf_py_environment.TFPyEnvironment(env)\n",
    "    \n",
    "    for _ in range(num_episodes):\n",
    "        # Get the agent's next recommendation (patience=1)\n",
    "        # based on the input state.\n",
    "        obs, act = test(env, agent.policy, patience=1, verbose=False, num_flags=flags_num)\n",
    "        observations.append(obs)\n",
    "        actions.append(act)\n",
    "        # observations = np.vstack([observations, obs])\n",
    "        # actions = np.vstack([actions, act])\n",
    "    \n",
    "# print(\"Test environments\")\n",
    "# obs, act = test(test_env, agent.policy, patience=1)\n",
    "# observations.append(obs)\n",
    "# actions.append(act)"
   ]
  },
  {
   "cell_type": "code",
   "execution_count": 89,
   "metadata": {},
   "outputs": [
    {
     "data": {
      "text/html": [
       "<div>\n",
       "<style scoped>\n",
       "    .dataframe tbody tr th:only-of-type {\n",
       "        vertical-align: middle;\n",
       "    }\n",
       "\n",
       "    .dataframe tbody tr th {\n",
       "        vertical-align: top;\n",
       "    }\n",
       "\n",
       "    .dataframe thead th {\n",
       "        text-align: right;\n",
       "    }\n",
       "</style>\n",
       "<table border=\"1\" class=\"dataframe\">\n",
       "  <thead>\n",
       "    <tr style=\"text-align: right;\">\n",
       "      <th></th>\n",
       "      <th>observations</th>\n",
       "      <th>actions</th>\n",
       "    </tr>\n",
       "  </thead>\n",
       "  <tbody>\n",
       "    <tr>\n",
       "      <th>0</th>\n",
       "      <td>[13.0, 16.0, 0.009589999914169312, 0.994306325...</td>\n",
       "      <td>[2.0]</td>\n",
       "    </tr>\n",
       "    <tr>\n",
       "      <th>1</th>\n",
       "      <td>[10.0, 20.0, 0.008620000444352627, 0.992601871...</td>\n",
       "      <td>[2.0]</td>\n",
       "    </tr>\n",
       "    <tr>\n",
       "      <th>2</th>\n",
       "      <td>[13.0, 16.0, 0.009589999914169312, 0.994306325...</td>\n",
       "      <td>[2.0]</td>\n",
       "    </tr>\n",
       "    <tr>\n",
       "      <th>3</th>\n",
       "      <td>[7.0, 16.0, 0.008170000277459621, 0.9922335147...</td>\n",
       "      <td>[0.0]</td>\n",
       "    </tr>\n",
       "    <tr>\n",
       "      <th>4</th>\n",
       "      <td>[13.0, 12.0, 0.00880999956279993, 0.9933167695...</td>\n",
       "      <td>[0.0]</td>\n",
       "    </tr>\n",
       "    <tr>\n",
       "      <th>5</th>\n",
       "      <td>[7.0, 4.0, 0.010130000300705433, 0.99206787347...</td>\n",
       "      <td>[2.0]</td>\n",
       "    </tr>\n",
       "    <tr>\n",
       "      <th>6</th>\n",
       "      <td>[10.0, 8.0, 0.00839999970048666, 0.99285924434...</td>\n",
       "      <td>[0.0]</td>\n",
       "    </tr>\n",
       "    <tr>\n",
       "      <th>7</th>\n",
       "      <td>[1.0, 12.0, 0.0072200000286102295, 0.992177724...</td>\n",
       "      <td>[0.0]</td>\n",
       "    </tr>\n",
       "    <tr>\n",
       "      <th>8</th>\n",
       "      <td>[13.0, 8.0, 0.009399999864399433, 0.9920404553...</td>\n",
       "      <td>[0.0]</td>\n",
       "    </tr>\n",
       "    <tr>\n",
       "      <th>9</th>\n",
       "      <td>[13.0, 20.0, 0.010130000300705433, 0.992835521...</td>\n",
       "      <td>[2.0]</td>\n",
       "    </tr>\n",
       "  </tbody>\n",
       "</table>\n",
       "</div>"
      ],
      "text/plain": [
       "                                        observations actions\n",
       "0  [13.0, 16.0, 0.009589999914169312, 0.994306325...   [2.0]\n",
       "1  [10.0, 20.0, 0.008620000444352627, 0.992601871...   [2.0]\n",
       "2  [13.0, 16.0, 0.009589999914169312, 0.994306325...   [2.0]\n",
       "3  [7.0, 16.0, 0.008170000277459621, 0.9922335147...   [0.0]\n",
       "4  [13.0, 12.0, 0.00880999956279993, 0.9933167695...   [0.0]\n",
       "5  [7.0, 4.0, 0.010130000300705433, 0.99206787347...   [2.0]\n",
       "6  [10.0, 8.0, 0.00839999970048666, 0.99285924434...   [0.0]\n",
       "7  [1.0, 12.0, 0.0072200000286102295, 0.992177724...   [0.0]\n",
       "8  [13.0, 8.0, 0.009399999864399433, 0.9920404553...   [0.0]\n",
       "9  [13.0, 20.0, 0.010130000300705433, 0.992835521...   [2.0]"
      ]
     },
     "metadata": {},
     "output_type": "display_data"
    }
   ],
   "source": [
    "df = pd.DataFrame(data={\n",
    "    \"observations\": observations,\n",
    "    \"actions\": actions,\n",
    "})\n",
    "# df[[\"MaxTenuringThreshold\", \"ParallelGCThreads\"]] = df[\"observations\"].apply(pd.Series)\n",
    "# df = df.drop(columns=[\"observations\"])\n",
    "display(df[:10])"
   ]
  },
  {
   "cell_type": "markdown",
   "metadata": {},
   "source": [
    "Here we transform the input data X by PCA into Xt. We consider only the first two columns, which contain the most information, and plot it in two dimensional. "
   ]
  },
  {
   "cell_type": "code",
   "execution_count": 90,
   "metadata": {},
   "outputs": [
    {
     "data": {
      "image/png": "[encoded data removed]",
      "text/plain": [
       "<Figure size 500x500 with 1 Axes>"
      ]
     },
     "metadata": {},
     "output_type": "display_data"
    }
   ],
   "source": [
    "import seaborn as sns\n",
    "from sklearn.decomposition import PCA\n",
    "from sklearn.manifold import TSNE\n",
    "from sklearn.cluster import KMeans\n",
    "from sklearn.preprocessing import StandardScaler\n",
    "\n",
    "fig = plt.figure(figsize=(5, 5))\n",
    "X, y = df[\"observations\"].apply(pd.Series), df[\"actions\"]\n",
    "\n",
    "Xt = StandardScaler().fit_transform(X) # normalizing the features\n",
    "\n",
    "Xt = TSNE().fit_transform(X)\n",
    "\n",
    "plot = plt.scatter(Xt[:,0], Xt[:,1], c=y)\n",
    "\n",
    "# plot = plt.scatter(X[0], X[1], c=y)\n",
    "target_names = [\n",
    "    \"decrease_MaxTenuringThreshold\", \n",
    "    \"increase_MaxTenuringThreshold\", \n",
    "    \"decrease_ParallelGCThreads\", \n",
    "    \"increase_ParallelGCThreads\"\n",
    "]\n",
    "# plt.legend(handles=plot.legend_elements()[0], labels=target_names)\n",
    "plt.legend(\n",
    "    handles=plot.legend_elements()[0], labels=target_names,  bbox_to_anchor=(1.1, 1.0))\n",
    "# plt.xlabel(\"MaxTenuringThreshold\")\n",
    "# plt.ylabel(\"ParallelGCThreads\")\n",
    "plt.xlabel(\"Principal Component 1\")\n",
    "plt.ylabel(\"Principal Component 2\")\n",
    "plt.grid()\n",
    "plt.show()"
   ]
  },
  {
   "cell_type": "code",
   "execution_count": 93,
   "metadata": {},
   "outputs": [
    {
     "data": {
      "image/png": "[encoded data removed]",
      "text/plain": [
       "<Figure size 500x500 with 1 Axes>"
      ]
     },
     "metadata": {},
     "output_type": "display_data"
    }
   ],
   "source": [
    "from sklearn.decomposition import PCA\n",
    "from sklearn.preprocessing import StandardScaler\n",
    "\n",
    "fig = plt.figure(figsize=(5, 5))\n",
    "X, y = df[\"observations\"].apply(pd.Series), df[\"actions\"]\n",
    "\n",
    "X = StandardScaler().fit_transform(X) # normalizing the features\n",
    "\n",
    "# pca = PCA()\n",
    "# Xt = pca.fit_transform(X)\n",
    "\n",
    "# plot = plt.scatter(Xt[:,0], Xt[:,1], c=y)\n",
    "# plot = plt.scatter(X[0], X[1], c=y)\n",
    "plot = plt.scatter(X[:, 0], X[:, 1], c=y)\n",
    "target_names = [\n",
    "    \"decrease_MaxTenuringThreshold\", \n",
    "    \"increase_MaxTenuringThreshold\", \n",
    "    \"decrease_ParallelGCThreads\", \n",
    "    \"increase_ParallelGCThreads\"\n",
    "]\n",
    "\n",
    "plt.legend(\n",
    "    handles=plot.legend_elements()[0], labels=target_names,  bbox_to_anchor=(1.1, 1.0))\n",
    "plt.xlabel(\"MaxTenuringThreshold\")\n",
    "plt.ylabel(\"ParallelGCThreads\")\n",
    "# plt.xlabel(\"Principal Component 1\")\n",
    "# plt.ylabel(\"Principal Component 2\")\n",
    "plt.grid()\n",
    "plt.show()"
   ]
  },
  {
   "cell_type": "code",
   "execution_count": 154,
   "metadata": {},
   "outputs": [
    {
     "ename": "KeyError",
     "evalue": "(slice(None, None, None), 0)",
     "output_type": "error",
     "traceback": [
      "\u001b[0;31m---------------------------------------------------------------------------\u001b[0m",
      "\u001b[0;31mKeyError\u001b[0m                                  Traceback (most recent call last)",
      "Cell \u001b[0;32mIn[154], line 1\u001b[0m\n\u001b[0;32m----> 1\u001b[0m \u001b[43mX\u001b[49m\u001b[43m[\u001b[49m\u001b[43m:\u001b[49m\u001b[43m,\u001b[49m\u001b[43m \u001b[49m\u001b[38;5;241;43m0\u001b[39;49m\u001b[43m]\u001b[49m\n",
      "File \u001b[0;32m~/projects/gc-ml/gc-ml-env/lib/python3.8/site-packages/pandas/core/frame.py:3761\u001b[0m, in \u001b[0;36mDataFrame.__getitem__\u001b[0;34m(self, key)\u001b[0m\n\u001b[1;32m   3759\u001b[0m \u001b[38;5;28;01mif\u001b[39;00m \u001b[38;5;28mself\u001b[39m\u001b[38;5;241m.\u001b[39mcolumns\u001b[38;5;241m.\u001b[39mnlevels \u001b[38;5;241m>\u001b[39m \u001b[38;5;241m1\u001b[39m:\n\u001b[1;32m   3760\u001b[0m     \u001b[38;5;28;01mreturn\u001b[39;00m \u001b[38;5;28mself\u001b[39m\u001b[38;5;241m.\u001b[39m_getitem_multilevel(key)\n\u001b[0;32m-> 3761\u001b[0m indexer \u001b[38;5;241m=\u001b[39m \u001b[38;5;28;43mself\u001b[39;49m\u001b[38;5;241;43m.\u001b[39;49m\u001b[43mcolumns\u001b[49m\u001b[38;5;241;43m.\u001b[39;49m\u001b[43mget_loc\u001b[49m\u001b[43m(\u001b[49m\u001b[43mkey\u001b[49m\u001b[43m)\u001b[49m\n\u001b[1;32m   3762\u001b[0m \u001b[38;5;28;01mif\u001b[39;00m is_integer(indexer):\n\u001b[1;32m   3763\u001b[0m     indexer \u001b[38;5;241m=\u001b[39m [indexer]\n",
      "File \u001b[0;32m~/projects/gc-ml/gc-ml-env/lib/python3.8/site-packages/pandas/core/indexes/range.py:349\u001b[0m, in \u001b[0;36mRangeIndex.get_loc\u001b[0;34m(self, key)\u001b[0m\n\u001b[1;32m    347\u001b[0m         \u001b[38;5;28;01mraise\u001b[39;00m \u001b[38;5;167;01mKeyError\u001b[39;00m(key) \u001b[38;5;28;01mfrom\u001b[39;00m \u001b[38;5;21;01merr\u001b[39;00m\n\u001b[1;32m    348\u001b[0m \u001b[38;5;28;01mif\u001b[39;00m \u001b[38;5;28misinstance\u001b[39m(key, Hashable):\n\u001b[0;32m--> 349\u001b[0m     \u001b[38;5;28;01mraise\u001b[39;00m \u001b[38;5;167;01mKeyError\u001b[39;00m(key)\n\u001b[1;32m    350\u001b[0m \u001b[38;5;28mself\u001b[39m\u001b[38;5;241m.\u001b[39m_check_indexing_error(key)\n\u001b[1;32m    351\u001b[0m \u001b[38;5;28;01mraise\u001b[39;00m \u001b[38;5;167;01mKeyError\u001b[39;00m(key)\n",
      "\u001b[0;31mKeyError\u001b[0m: (slice(None, None, None), 0)"
     ]
    }
   ],
   "source": [
    "X[:, 0]"
   ]
  },
  {
   "cell_type": "code",
   "execution_count": 16,
   "metadata": {},
   "outputs": [
    {
     "name": "stdout",
     "output_type": "stream",
     "text": [
      "0.011308405\n"
     ]
    }
   ],
   "source": [
    "print(compute_avg_return_episodic(test_env, agent.policy, num_episodes=50))\n",
    "# print(compute_avg_return_episodic(test_env_2, agent.policy, num_episodes=50))"
   ]
  },
  {
   "cell_type": "markdown",
   "metadata": {},
   "source": [
    "### PCA Visualization"
   ]
  },
  {
   "cell_type": "code",
   "execution_count": null,
   "metadata": {},
   "outputs": [],
   "source": []
  },
  {
   "cell_type": "code",
   "execution_count": null,
   "metadata": {},
   "outputs": [],
   "source": [
    "# Save the progress.\n",
    "train_checkpointer.save(global_step)\n",
    "tf_policy_saver.save(policy_dir)"
   ]
  },
  {
   "cell_type": "code",
   "execution_count": 12,
   "metadata": {},
   "outputs": [],
   "source": [
    "train_checkpointer.initialize_or_restore()\n",
    "global_step = tf.compat.v1.train.get_global_step()\n",
    "saved_policy = tf.saved_model.load(policy_dir)"
   ]
  },
  {
   "cell_type": "code",
   "execution_count": 13,
   "metadata": {},
   "outputs": [
    {
     "name": "stdout",
     "output_type": "stream",
     "text": [
      "Successfully initialized a JVM Environment!\n",
      " JDK: jdk-11.0.20.1.jdk/bin,\n",
      " Benchmark: test (dacapo-bench.jar),\n",
      " Number of iterations: 5,\n",
      " Goal: avgGCPause,\n",
      " Number of JVM options: 2,\n",
      " JVM options: {'MaxTenuringThreshold': {'min': 1, 'max': 16}, 'ParallelGCThreads': {'min': 4, 'max': 24}},\n",
      " Env. default state: [list([7, 12]) 0.57],\n",
      " Env. default goal value: 0.57,\n",
      "\n",
      "Successfully initialized a JVM Environment!\n",
      " JDK: jdk-11.0.20.1.jdk/bin,\n",
      " Benchmark: test (dacapo-bench.jar),\n",
      " Number of iterations: 5,\n",
      " Goal: avgGCPause,\n",
      " Number of JVM options: 2,\n",
      " JVM options: {'MaxTenuringThreshold': {'min': 1, 'max': 16}, 'ParallelGCThreads': {'min': 4, 'max': 24}},\n",
      " Env. default state: [list([7, 12]) 0.57],\n",
      " Env. default goal value: 0.57,\n",
      "\n"
     ]
    }
   ],
   "source": [
    "test_env = get_tf_env(\"test\", env_args)\n",
    "test_env_copy = get_tf_env(\"test\", env_args)"
   ]
  },
  {
   "cell_type": "code",
   "execution_count": 14,
   "metadata": {},
   "outputs": [
    {
     "name": "stderr",
     "output_type": "stream",
     "text": [
      "100%|██████████| 50/50 [00:16<00:00,  3.06it/s]\n"
     ]
    },
    {
     "data": {
      "text/plain": [
       "-0.122350894"
      ]
     },
     "execution_count": 14,
     "metadata": {},
     "output_type": "execute_result"
    }
   ],
   "source": [
    "compute_avg_return_episodic(test_env, agent.policy, num_episodes=50)"
   ]
  },
  {
   "cell_type": "code",
   "execution_count": 30,
   "metadata": {},
   "outputs": [
    {
     "name": "stderr",
     "output_type": "stream",
     "text": [
      "100%|██████████| 20/20 [00:06<00:00,  3.02it/s]\n",
      "  0%|          | 3/5000 [00:06<2:29:07,  1.79s/it]"
     ]
    },
    {
     "name": "stdout",
     "output_type": "stream",
     "text": [
      "step = 0: loss = -0.08275873959064484, reward = 0.15449999272823334\n"
     ]
    },
    {
     "name": "stderr",
     "output_type": "stream",
     "text": [
      "100%|██████████| 20/20 [00:06<00:00,  3.06it/s]s] \n",
      "  2%|▏         | 103/5000 [00:20<1:01:50,  1.32it/s]"
     ]
    },
    {
     "name": "stdout",
     "output_type": "stream",
     "text": [
      "step = 100: loss = 0.027595680207014084, reward = 0.15449999272823334\n"
     ]
    },
    {
     "name": "stderr",
     "output_type": "stream",
     "text": [
      "100%|██████████| 20/20 [00:06<00:00,  3.07it/s]/s]  \n",
      "  4%|▍         | 203/5000 [00:33<1:00:14,  1.33it/s]"
     ]
    },
    {
     "name": "stdout",
     "output_type": "stream",
     "text": [
      "step = 200: loss = 0.01597478985786438, reward = 0.15449999272823334\n"
     ]
    },
    {
     "name": "stderr",
     "output_type": "stream",
     "text": [
      "100%|██████████| 20/20 [00:06<00:00,  3.03it/s]/s]  \n",
      "  6%|▌         | 303/5000 [00:47<59:38,  1.31it/s]  "
     ]
    },
    {
     "name": "stdout",
     "output_type": "stream",
     "text": [
      "step = 300: loss = 0.07849355041980743, reward = 0.15449999272823334\n"
     ]
    },
    {
     "name": "stderr",
     "output_type": "stream",
     "text": [
      "100%|██████████| 20/20 [00:06<00:00,  3.05it/s]/s]\n",
      "  8%|▊         | 403/5000 [01:00<57:59,  1.32it/s]  "
     ]
    },
    {
     "name": "stdout",
     "output_type": "stream",
     "text": [
      "step = 400: loss = 0.07866153120994568, reward = 0.15449999272823334\n"
     ]
    },
    {
     "name": "stderr",
     "output_type": "stream",
     "text": [
      "100%|██████████| 20/20 [00:06<00:00,  3.06it/s]/s]\n",
      " 10%|█         | 503/5000 [01:13<56:36,  1.32it/s]  "
     ]
    },
    {
     "name": "stdout",
     "output_type": "stream",
     "text": [
      "step = 500: loss = 0.0788775384426117, reward = 0.15449999272823334\n"
     ]
    },
    {
     "name": "stderr",
     "output_type": "stream",
     "text": [
      "100%|██████████| 20/20 [00:06<00:00,  3.06it/s]/s]\n",
      " 12%|█▏        | 603/5000 [01:27<55:18,  1.33it/s]  "
     ]
    },
    {
     "name": "stdout",
     "output_type": "stream",
     "text": [
      "step = 600: loss = 0.03862088546156883, reward = 0.15449999272823334\n"
     ]
    },
    {
     "name": "stderr",
     "output_type": "stream",
     "text": [
      "100%|██████████| 20/20 [00:06<00:00,  3.03it/s]/s]\n",
      " 14%|█▍        | 703/5000 [01:40<54:29,  1.31it/s]  "
     ]
    },
    {
     "name": "stdout",
     "output_type": "stream",
     "text": [
      "step = 700: loss = 0.020812472328543663, reward = 0.15449999272823334\n"
     ]
    },
    {
     "name": "stderr",
     "output_type": "stream",
     "text": [
      "100%|██████████| 20/20 [00:06<00:00,  3.05it/s]/s]\n",
      " 16%|█▌        | 803/5000 [01:54<52:54,  1.32it/s]  "
     ]
    },
    {
     "name": "stdout",
     "output_type": "stream",
     "text": [
      "step = 800: loss = 0.030953237786889076, reward = 0.15449999272823334\n"
     ]
    },
    {
     "name": "stderr",
     "output_type": "stream",
     "text": [
      "100%|██████████| 20/20 [00:06<00:00,  3.05it/s]/s]\n",
      " 18%|█▊        | 903/5000 [02:07<51:42,  1.32it/s]  "
     ]
    },
    {
     "name": "stdout",
     "output_type": "stream",
     "text": [
      "step = 900: loss = -0.07765475660562515, reward = 0.15449999272823334\n"
     ]
    },
    {
     "name": "stderr",
     "output_type": "stream",
     "text": [
      "100%|██████████| 20/20 [00:06<00:00,  2.88it/s]/s]\n",
      " 20%|██        | 1003/5000 [02:21<53:21,  1.25it/s]  "
     ]
    },
    {
     "name": "stdout",
     "output_type": "stream",
     "text": [
      "step = 1000: loss = 0.06647924333810806, reward = 0.15449999272823334\n"
     ]
    },
    {
     "name": "stderr",
     "output_type": "stream",
     "text": [
      "100%|██████████| 20/20 [00:06<00:00,  2.98it/s]t/s]\n",
      " 22%|██▏       | 1103/5000 [02:34<50:21,  1.29it/s]  "
     ]
    },
    {
     "name": "stdout",
     "output_type": "stream",
     "text": [
      "step = 1100: loss = 0.07829032093286514, reward = 0.15449999272823334\n"
     ]
    },
    {
     "name": "stderr",
     "output_type": "stream",
     "text": [
      "100%|██████████| 20/20 [00:06<00:00,  3.08it/s]t/s]\n",
      " 24%|██▍       | 1203/5000 [02:48<47:26,  1.33it/s]  "
     ]
    },
    {
     "name": "stdout",
     "output_type": "stream",
     "text": [
      "step = 1200: loss = 0.07940496504306793, reward = 0.15449999272823334\n"
     ]
    },
    {
     "name": "stderr",
     "output_type": "stream",
     "text": [
      "100%|██████████| 20/20 [00:06<00:00,  3.09it/s]t/s]\n",
      " 26%|██▌       | 1303/5000 [03:01<45:59,  1.34it/s]  "
     ]
    },
    {
     "name": "stdout",
     "output_type": "stream",
     "text": [
      "step = 1300: loss = 0.03141622990369797, reward = 0.15449999272823334\n"
     ]
    },
    {
     "name": "stderr",
     "output_type": "stream",
     "text": [
      "100%|██████████| 20/20 [00:06<00:00,  3.09it/s]t/s]\n",
      " 28%|██▊       | 1403/5000 [03:14<44:50,  1.34it/s]  "
     ]
    },
    {
     "name": "stdout",
     "output_type": "stream",
     "text": [
      "step = 1400: loss = 0.055435724556446075, reward = 0.15449999272823334\n"
     ]
    },
    {
     "name": "stderr",
     "output_type": "stream",
     "text": [
      "100%|██████████| 20/20 [00:06<00:00,  3.10it/s]t/s]\n",
      " 30%|███       | 1503/5000 [03:27<43:22,  1.34it/s]  "
     ]
    },
    {
     "name": "stdout",
     "output_type": "stream",
     "text": [
      "step = 1500: loss = 0.06776073575019836, reward = 0.15449999272823334\n"
     ]
    },
    {
     "name": "stderr",
     "output_type": "stream",
     "text": [
      "100%|██████████| 20/20 [00:06<00:00,  3.10it/s]t/s]\n",
      " 32%|███▏      | 1603/5000 [03:41<42:07,  1.34it/s]"
     ]
    },
    {
     "name": "stdout",
     "output_type": "stream",
     "text": [
      "step = 1600: loss = 0.0697450116276741, reward = 0.15449999272823334\n"
     ]
    },
    {
     "name": "stderr",
     "output_type": "stream",
     "text": [
      "100%|██████████| 20/20 [00:06<00:00,  2.94it/s]t/s]\n",
      " 34%|███▍      | 1703/5000 [03:54<43:14,  1.27it/s]  "
     ]
    },
    {
     "name": "stdout",
     "output_type": "stream",
     "text": [
      "step = 1700: loss = 0.0339801087975502, reward = 0.15449999272823334\n"
     ]
    },
    {
     "name": "stderr",
     "output_type": "stream",
     "text": [
      "100%|██████████| 20/20 [00:06<00:00,  2.95it/s]t/s]\n",
      " 36%|███▌      | 1803/5000 [04:08<41:34,  1.28it/s]"
     ]
    },
    {
     "name": "stdout",
     "output_type": "stream",
     "text": [
      "step = 1800: loss = 0.06431885808706284, reward = 0.15449999272823334\n"
     ]
    },
    {
     "name": "stderr",
     "output_type": "stream",
     "text": [
      "100%|██████████| 20/20 [00:06<00:00,  2.86it/s]t/s]\n",
      " 38%|███▊      | 1903/5000 [04:22<41:33,  1.24it/s]"
     ]
    },
    {
     "name": "stdout",
     "output_type": "stream",
     "text": [
      "step = 1900: loss = 0.0638260543346405, reward = 0.15449999272823334\n"
     ]
    },
    {
     "name": "stderr",
     "output_type": "stream",
     "text": [
      "100%|██████████| 20/20 [00:06<00:00,  2.88it/s]t/s]\n",
      " 40%|████      | 2003/5000 [04:36<39:58,  1.25it/s]"
     ]
    },
    {
     "name": "stdout",
     "output_type": "stream",
     "text": [
      "step = 2000: loss = -0.06647807359695435, reward = 0.15449999272823334\n"
     ]
    },
    {
     "name": "stderr",
     "output_type": "stream",
     "text": [
      "100%|██████████| 20/20 [00:06<00:00,  2.97it/s]t/s]\n",
      " 42%|████▏     | 2103/5000 [04:50<37:27,  1.29it/s]"
     ]
    },
    {
     "name": "stdout",
     "output_type": "stream",
     "text": [
      "step = 2100: loss = 0.06989308446645737, reward = 0.15449999272823334\n"
     ]
    },
    {
     "name": "stderr",
     "output_type": "stream",
     "text": [
      "100%|██████████| 20/20 [00:06<00:00,  3.04it/s]t/s]\n",
      " 44%|████▍     | 2203/5000 [05:03<35:25,  1.32it/s]"
     ]
    },
    {
     "name": "stdout",
     "output_type": "stream",
     "text": [
      "step = 2200: loss = 0.07144589722156525, reward = 0.15449999272823334\n"
     ]
    },
    {
     "name": "stderr",
     "output_type": "stream",
     "text": [
      "100%|██████████| 20/20 [00:06<00:00,  3.05it/s]t/s]\n",
      " 46%|████▌     | 2303/5000 [05:16<34:00,  1.32it/s]"
     ]
    },
    {
     "name": "stdout",
     "output_type": "stream",
     "text": [
      "step = 2300: loss = 0.017992911860346794, reward = 0.15449999272823334\n"
     ]
    },
    {
     "name": "stderr",
     "output_type": "stream",
     "text": [
      "100%|██████████| 20/20 [00:06<00:00,  3.05it/s]t/s]\n",
      " 48%|████▊     | 2403/5000 [05:30<32:49,  1.32it/s]"
     ]
    },
    {
     "name": "stdout",
     "output_type": "stream",
     "text": [
      "step = 2400: loss = 0.06617488712072372, reward = 0.15449999272823334\n"
     ]
    },
    {
     "name": "stderr",
     "output_type": "stream",
     "text": [
      "100%|██████████| 20/20 [00:06<00:00,  3.05it/s]t/s]\n",
      " 50%|█████     | 2503/5000 [05:43<31:27,  1.32it/s]"
     ]
    },
    {
     "name": "stdout",
     "output_type": "stream",
     "text": [
      "step = 2500: loss = 0.06551690399646759, reward = 0.15449999272823334\n"
     ]
    },
    {
     "name": "stderr",
     "output_type": "stream",
     "text": [
      "100%|██████████| 20/20 [00:06<00:00,  3.04it/s]t/s]\n",
      " 52%|█████▏    | 2603/5000 [05:57<30:18,  1.32it/s]"
     ]
    },
    {
     "name": "stdout",
     "output_type": "stream",
     "text": [
      "step = 2600: loss = 0.06771502643823624, reward = 0.15449999272823334\n"
     ]
    },
    {
     "name": "stderr",
     "output_type": "stream",
     "text": [
      "100%|██████████| 20/20 [00:06<00:00,  2.98it/s]t/s]\n",
      " 54%|█████▍    | 2703/5000 [06:10<29:36,  1.29it/s]"
     ]
    },
    {
     "name": "stdout",
     "output_type": "stream",
     "text": [
      "step = 2700: loss = 0.01253617275506258, reward = 0.15449999272823334\n"
     ]
    },
    {
     "name": "stderr",
     "output_type": "stream",
     "text": [
      "100%|██████████| 20/20 [00:06<00:00,  3.04it/s]t/s]\n",
      " 56%|█████▌    | 2803/5000 [06:24<27:46,  1.32it/s]"
     ]
    },
    {
     "name": "stdout",
     "output_type": "stream",
     "text": [
      "step = 2800: loss = 0.0662756860256195, reward = 0.15449999272823334\n"
     ]
    },
    {
     "name": "stderr",
     "output_type": "stream",
     "text": [
      "100%|██████████| 20/20 [00:06<00:00,  3.02it/s]t/s]\n",
      " 58%|█████▊    | 2903/5000 [06:37<26:43,  1.31it/s]"
     ]
    },
    {
     "name": "stdout",
     "output_type": "stream",
     "text": [
      "step = 2900: loss = 0.06570452451705933, reward = 0.15449999272823334\n"
     ]
    },
    {
     "name": "stderr",
     "output_type": "stream",
     "text": [
      "100%|██████████| 20/20 [00:06<00:00,  3.04it/s]t/s]\n",
      " 60%|██████    | 3003/5000 [06:50<25:14,  1.32it/s]"
     ]
    },
    {
     "name": "stdout",
     "output_type": "stream",
     "text": [
      "step = 3000: loss = 0.0676717460155487, reward = 0.15449999272823334\n"
     ]
    },
    {
     "name": "stderr",
     "output_type": "stream",
     "text": [
      "100%|██████████| 20/20 [00:06<00:00,  3.06it/s]t/s]\n",
      " 62%|██████▏   | 3103/5000 [07:04<23:52,  1.32it/s]"
     ]
    },
    {
     "name": "stdout",
     "output_type": "stream",
     "text": [
      "step = 3100: loss = 0.015165931545197964, reward = 0.15449999272823334\n"
     ]
    },
    {
     "name": "stderr",
     "output_type": "stream",
     "text": [
      "100%|██████████| 20/20 [00:06<00:00,  3.06it/s]t/s]\n",
      " 64%|██████▍   | 3203/5000 [07:17<22:37,  1.32it/s]"
     ]
    },
    {
     "name": "stdout",
     "output_type": "stream",
     "text": [
      "step = 3200: loss = 0.06071428209543228, reward = 0.15449999272823334\n"
     ]
    },
    {
     "name": "stderr",
     "output_type": "stream",
     "text": [
      "100%|██████████| 20/20 [00:06<00:00,  3.04it/s]t/s]\n",
      " 66%|██████▌   | 3303/5000 [07:31<21:27,  1.32it/s]"
     ]
    },
    {
     "name": "stdout",
     "output_type": "stream",
     "text": [
      "step = 3300: loss = 0.05883081629872322, reward = 0.15449999272823334\n"
     ]
    },
    {
     "name": "stderr",
     "output_type": "stream",
     "text": [
      "100%|██████████| 20/20 [00:06<00:00,  3.05it/s]t/s]\n",
      " 68%|██████▊   | 3403/5000 [07:44<20:11,  1.32it/s]"
     ]
    },
    {
     "name": "stdout",
     "output_type": "stream",
     "text": [
      "step = 3400: loss = 0.05168354883790016, reward = 0.15449999272823334\n"
     ]
    },
    {
     "name": "stderr",
     "output_type": "stream",
     "text": [
      "100%|██████████| 20/20 [00:06<00:00,  3.06it/s]t/s]\n",
      " 70%|███████   | 3503/5000 [07:57<18:50,  1.32it/s]"
     ]
    },
    {
     "name": "stdout",
     "output_type": "stream",
     "text": [
      "step = 3500: loss = 0.017617255449295044, reward = 0.15449999272823334\n"
     ]
    },
    {
     "name": "stderr",
     "output_type": "stream",
     "text": [
      "100%|██████████| 20/20 [00:06<00:00,  3.03it/s]t/s]\n",
      " 72%|███████▏  | 3603/5000 [08:11<17:45,  1.31it/s]"
     ]
    },
    {
     "name": "stdout",
     "output_type": "stream",
     "text": [
      "step = 3600: loss = 0.054672833532094955, reward = 0.15449999272823334\n"
     ]
    },
    {
     "name": "stderr",
     "output_type": "stream",
     "text": [
      "100%|██████████| 20/20 [00:06<00:00,  3.04it/s]t/s]\n",
      " 74%|███████▍  | 3703/5000 [08:24<16:22,  1.32it/s]"
     ]
    },
    {
     "name": "stdout",
     "output_type": "stream",
     "text": [
      "step = 3700: loss = 0.07289864867925644, reward = 0.15449999272823334\n"
     ]
    },
    {
     "name": "stderr",
     "output_type": "stream",
     "text": [
      "100%|██████████| 20/20 [00:06<00:00,  3.05it/s]t/s]\n",
      " 76%|███████▌  | 3803/5000 [08:38<15:06,  1.32it/s]"
     ]
    },
    {
     "name": "stdout",
     "output_type": "stream",
     "text": [
      "step = 3800: loss = 0.06126633659005165, reward = 0.15449999272823334\n"
     ]
    },
    {
     "name": "stderr",
     "output_type": "stream",
     "text": [
      "100%|██████████| 20/20 [00:06<00:00,  3.05it/s]t/s]\n",
      " 78%|███████▊  | 3903/5000 [08:51<13:51,  1.32it/s]"
     ]
    },
    {
     "name": "stdout",
     "output_type": "stream",
     "text": [
      "step = 3900: loss = 0.012533322907984257, reward = 0.15449999272823334\n"
     ]
    },
    {
     "name": "stderr",
     "output_type": "stream",
     "text": [
      "100%|██████████| 20/20 [00:06<00:00,  3.06it/s]t/s]\n",
      " 80%|████████  | 4003/5000 [09:05<12:33,  1.32it/s]"
     ]
    },
    {
     "name": "stdout",
     "output_type": "stream",
     "text": [
      "step = 4000: loss = 0.0729455053806305, reward = 0.15449999272823334\n"
     ]
    },
    {
     "name": "stderr",
     "output_type": "stream",
     "text": [
      "100%|██████████| 20/20 [00:06<00:00,  3.03it/s]t/s]\n",
      " 82%|████████▏ | 4103/5000 [09:18<11:23,  1.31it/s]"
     ]
    },
    {
     "name": "stdout",
     "output_type": "stream",
     "text": [
      "step = 4100: loss = 0.060445066541433334, reward = 0.15449999272823334\n"
     ]
    },
    {
     "name": "stderr",
     "output_type": "stream",
     "text": [
      "100%|██████████| 20/20 [00:06<00:00,  3.06it/s]t/s]\n",
      " 84%|████████▍ | 4203/5000 [09:31<10:01,  1.33it/s]"
     ]
    },
    {
     "name": "stdout",
     "output_type": "stream",
     "text": [
      "step = 4200: loss = -0.08400257676839828, reward = 0.15449999272823334\n"
     ]
    },
    {
     "name": "stderr",
     "output_type": "stream",
     "text": [
      "100%|██████████| 20/20 [00:06<00:00,  3.04it/s]t/s]\n",
      " 86%|████████▌ | 4303/5000 [09:45<08:49,  1.32it/s]"
     ]
    },
    {
     "name": "stdout",
     "output_type": "stream",
     "text": [
      "step = 4300: loss = 0.0662526786327362, reward = 0.15449999272823334\n"
     ]
    },
    {
     "name": "stderr",
     "output_type": "stream",
     "text": [
      "100%|██████████| 20/20 [00:06<00:00,  3.06it/s]t/s]\n",
      " 88%|████████▊ | 4403/5000 [09:58<07:31,  1.32it/s]"
     ]
    },
    {
     "name": "stdout",
     "output_type": "stream",
     "text": [
      "step = 4400: loss = 0.0637577548623085, reward = 0.15449999272823334\n"
     ]
    },
    {
     "name": "stderr",
     "output_type": "stream",
     "text": [
      "100%|██████████| 20/20 [00:06<00:00,  2.87it/s]t/s]\n",
      " 90%|█████████ | 4503/5000 [10:12<06:38,  1.25it/s]"
     ]
    },
    {
     "name": "stdout",
     "output_type": "stream",
     "text": [
      "step = 4500: loss = 0.05468904227018356, reward = 0.15449999272823334\n"
     ]
    },
    {
     "name": "stderr",
     "output_type": "stream",
     "text": [
      "100%|██████████| 20/20 [00:06<00:00,  3.00it/s]t/s]\n",
      " 92%|█████████▏| 4603/5000 [10:26<05:05,  1.30it/s]"
     ]
    },
    {
     "name": "stdout",
     "output_type": "stream",
     "text": [
      "step = 4600: loss = 0.010259442031383514, reward = 0.15449999272823334\n"
     ]
    },
    {
     "name": "stderr",
     "output_type": "stream",
     "text": [
      "100%|██████████| 20/20 [00:06<00:00,  3.05it/s]t/s]\n",
      " 94%|█████████▍| 4703/5000 [10:39<03:45,  1.32it/s]"
     ]
    },
    {
     "name": "stdout",
     "output_type": "stream",
     "text": [
      "step = 4700: loss = 0.008904497139155865, reward = 0.15449999272823334\n"
     ]
    },
    {
     "name": "stderr",
     "output_type": "stream",
     "text": [
      "100%|██████████| 20/20 [00:06<00:00,  3.03it/s]t/s]\n",
      " 96%|█████████▌| 4803/5000 [10:52<02:29,  1.31it/s]"
     ]
    },
    {
     "name": "stdout",
     "output_type": "stream",
     "text": [
      "step = 4800: loss = -0.07732591032981873, reward = 0.15449999272823334\n"
     ]
    },
    {
     "name": "stderr",
     "output_type": "stream",
     "text": [
      "100%|██████████| 20/20 [00:06<00:00,  3.03it/s]t/s]\n",
      " 98%|█████████▊| 4903/5000 [11:06<01:13,  1.31it/s]"
     ]
    },
    {
     "name": "stdout",
     "output_type": "stream",
     "text": [
      "step = 4900: loss = 0.06026251241564751, reward = 0.15449999272823334\n"
     ]
    },
    {
     "name": "stderr",
     "output_type": "stream",
     "text": [
      "100%|██████████| 5000/5000 [11:12<00:00,  7.43it/s]\n"
     ]
    }
   ],
   "source": [
    "num_steps=5000\n",
    "_loss_test, _, _rewards_test = train(\n",
    "    agent, test_env, test_env, replay_buffer, collect_driver, steps = num_steps, eval_interval=100)"
   ]
  },
  {
   "cell_type": "code",
   "execution_count": 31,
   "metadata": {},
   "outputs": [
    {
     "data": {
      "image/png": "[encoded data removed]",
      "text/plain": [
       "<Figure size 640x480 with 2 Axes>"
      ]
     },
     "metadata": {},
     "output_type": "display_data"
    }
   ],
   "source": [
    "plot_training(_loss_test, _rewards_test, num_steps, 100)"
   ]
  },
  {
   "cell_type": "code",
   "execution_count": null,
   "metadata": {},
   "outputs": [],
   "source": [
    "compute_avg_return_episodic(test_env, agent.policy, num_episodes=50)"
   ]
  },
  {
   "cell_type": "markdown",
   "metadata": {},
   "source": [
    "Save to checkpoint."
   ]
  },
  {
   "cell_type": "code",
   "execution_count": null,
   "metadata": {},
   "outputs": [],
   "source": [
    "# train_checkpointer.save(global_step)"
   ]
  },
  {
   "cell_type": "markdown",
   "metadata": {},
   "source": [
    "# WandB"
   ]
  },
  {
   "cell_type": "code",
   "execution_count": 9,
   "metadata": {},
   "outputs": [
    {
     "name": "stderr",
     "output_type": "stream",
     "text": [
      "ERROR:wandb.jupyter:Failed to detect the name of this notebook, you can set it manually with the WANDB_NOTEBOOK_NAME environment variable to enable code saving.\n"
     ]
    },
    {
     "name": "stdout",
     "output_type": "stream",
     "text": [
      "Create sweep with ID: srh8mikx\n",
      "Sweep URL: https://wandb.ai/cold-machines/Reinforcement%20Learning%20%28DQN%29%20-%20JVM-GC/sweeps/srh8mikx\n"
     ]
    },
    {
     "name": "stderr",
     "output_type": "stream",
     "text": [
      "\u001b[34m\u001b[1mwandb\u001b[0m: Agent Starting Run: 86wuplng with config:\n",
      "\u001b[34m\u001b[1mwandb\u001b[0m: \tepsilon_greedy: 0.7\n",
      "\u001b[34m\u001b[1mwandb\u001b[0m: \tgamma: 0.1\n",
      "\u001b[34m\u001b[1mwandb\u001b[0m: \tlearning_rate: 0.009081865474555018\n",
      "\u001b[34m\u001b[1mwandb\u001b[0m: \ttarget_update_period: 100\n",
      "ERROR:wandb.jupyter:Failed to detect the name of this notebook, you can set it manually with the WANDB_NOTEBOOK_NAME environment variable to enable code saving.\n",
      "\u001b[34m\u001b[1mwandb\u001b[0m: Currently logged in as: \u001b[33mvaleriia-sakovskaia\u001b[0m (\u001b[33mcold-machines\u001b[0m). Use \u001b[1m`wandb login --relogin`\u001b[0m to force relogin\n"
     ]
    },
    {
     "data": {
      "text/html": [
       "Tracking run with wandb version 0.15.12"
      ],
      "text/plain": [
       "<IPython.core.display.HTML object>"
      ]
     },
     "metadata": {},
     "output_type": "display_data"
    },
    {
     "data": {
      "text/html": [
       "Run data is saved locally in <code>/home/vsakovskaya/gc-ml/wandb/run-20231031_074257-86wuplng</code>"
      ],
      "text/plain": [
       "<IPython.core.display.HTML object>"
      ]
     },
     "metadata": {},
     "output_type": "display_data"
    },
    {
     "data": {
      "text/html": [
       "Syncing run <strong><a href='https://wandb.ai/cold-machines/Reinforcement%20Learning%20%28DQN%29%20-%20JVM-GC/runs/86wuplng' target=\"_blank\">rare-sweep-1</a></strong> to <a href='https://wandb.ai/cold-machines/Reinforcement%20Learning%20%28DQN%29%20-%20JVM-GC' target=\"_blank\">Weights & Biases</a> (<a href='https://wandb.me/run' target=\"_blank\">docs</a>)<br/>Sweep page: <a href='https://wandb.ai/cold-machines/Reinforcement%20Learning%20%28DQN%29%20-%20JVM-GC/sweeps/srh8mikx' target=\"_blank\">https://wandb.ai/cold-machines/Reinforcement%20Learning%20%28DQN%29%20-%20JVM-GC/sweeps/srh8mikx</a>"
      ],
      "text/plain": [
       "<IPython.core.display.HTML object>"
      ]
     },
     "metadata": {},
     "output_type": "display_data"
    },
    {
     "data": {
      "text/html": [
       " View project at <a href='https://wandb.ai/cold-machines/Reinforcement%20Learning%20%28DQN%29%20-%20JVM-GC' target=\"_blank\">https://wandb.ai/cold-machines/Reinforcement%20Learning%20%28DQN%29%20-%20JVM-GC</a>"
      ],
      "text/plain": [
       "<IPython.core.display.HTML object>"
      ]
     },
     "metadata": {},
     "output_type": "display_data"
    },
    {
     "data": {
      "text/html": [
       " View sweep at <a href='https://wandb.ai/cold-machines/Reinforcement%20Learning%20%28DQN%29%20-%20JVM-GC/sweeps/srh8mikx' target=\"_blank\">https://wandb.ai/cold-machines/Reinforcement%20Learning%20%28DQN%29%20-%20JVM-GC/sweeps/srh8mikx</a>"
      ],
      "text/plain": [
       "<IPython.core.display.HTML object>"
      ]
     },
     "metadata": {},
     "output_type": "display_data"
    },
    {
     "data": {
      "text/html": [
       " View run at <a href='https://wandb.ai/cold-machines/Reinforcement%20Learning%20%28DQN%29%20-%20JVM-GC/runs/86wuplng' target=\"_blank\">https://wandb.ai/cold-machines/Reinforcement%20Learning%20%28DQN%29%20-%20JVM-GC/runs/86wuplng</a>"
      ],
      "text/plain": [
       "<IPython.core.display.HTML object>"
      ]
     },
     "metadata": {},
     "output_type": "display_data"
    },
    {
     "name": "stderr",
     "output_type": "stream",
     "text": [
      "100%|██████████| 50/50 [00:00<00:00, 149.90it/s]\n",
      "  0%|          | 0/5000 [00:00<?, ?it/s]"
     ]
    },
    {
     "name": "stdout",
     "output_type": "stream",
     "text": [
      "WARNING:tensorflow:From /home/vsakovskaya/my-env/lib/python3.9/site-packages/tensorflow/python/util/dispatch.py:1176: calling foldr_v2 (from tensorflow.python.ops.functional_ops) with back_prop=False is deprecated and will be removed in a future version.\n",
      "Instructions for updating:\n",
      "back_prop=False is deprecated. Consider using tf.stop_gradient instead.\n",
      "Instead of:\n",
      "results = tf.foldr(fn, elems, back_prop=False)\n",
      "Use:\n",
      "results = tf.nest.map_structure(tf.stop_gradient, tf.foldr(fn, elems))\n"
     ]
    },
    {
     "name": "stderr",
     "output_type": "stream",
     "text": [
      "WARNING:tensorflow:From /home/vsakovskaya/my-env/lib/python3.9/site-packages/tensorflow/python/util/dispatch.py:1176: calling foldr_v2 (from tensorflow.python.ops.functional_ops) with back_prop=False is deprecated and will be removed in a future version.\n",
      "Instructions for updating:\n",
      "back_prop=False is deprecated. Consider using tf.stop_gradient instead.\n",
      "Instead of:\n",
      "results = tf.foldr(fn, elems, back_prop=False)\n",
      "Use:\n",
      "results = tf.nest.map_structure(tf.stop_gradient, tf.foldr(fn, elems))\n",
      "100%|██████████| 50/50 [00:00<00:00, 138.65it/s]] \n",
      "  2%|▏         | 101/5000 [00:16<18:44,  4.36it/s]"
     ]
    },
    {
     "name": "stdout",
     "output_type": "stream",
     "text": [
      "step = 100: loss = 0.051988594233989716, reward = -0.05968308076262474\n"
     ]
    },
    {
     "name": "stderr",
     "output_type": "stream",
     "text": [
      "100%|██████████| 50/50 [00:00<00:00, 142.71it/s]s]\n",
      "  4%|▍         | 201/5000 [00:32<17:56,  4.46it/s]"
     ]
    },
    {
     "name": "stdout",
     "output_type": "stream",
     "text": [
      "step = 200: loss = 0.04959993064403534, reward = -0.05968308076262474\n"
     ]
    },
    {
     "name": "stderr",
     "output_type": "stream",
     "text": [
      "100%|██████████| 50/50 [00:00<00:00, 150.07it/s]s]\n",
      "  6%|▌         | 301/5000 [00:48<17:17,  4.53it/s]"
     ]
    },
    {
     "name": "stdout",
     "output_type": "stream",
     "text": [
      "step = 300: loss = 0.05310416966676712, reward = -0.05968308076262474\n"
     ]
    },
    {
     "name": "stderr",
     "output_type": "stream",
     "text": [
      "100%|██████████| 50/50 [00:00<00:00, 149.06it/s]s]\n",
      "  8%|▊         | 401/5000 [01:04<21:05,  3.64it/s]"
     ]
    },
    {
     "name": "stdout",
     "output_type": "stream",
     "text": [
      "step = 400: loss = 0.07190939784049988, reward = -0.05968308076262474\n"
     ]
    },
    {
     "name": "stderr",
     "output_type": "stream",
     "text": [
      "100%|██████████| 50/50 [00:00<00:00, 149.21it/s]s]\n",
      " 10%|█         | 501/5000 [01:20<16:40,  4.50it/s]"
     ]
    },
    {
     "name": "stdout",
     "output_type": "stream",
     "text": [
      "step = 500: loss = 0.06140190362930298, reward = -0.05968308076262474\n"
     ]
    },
    {
     "name": "stderr",
     "output_type": "stream",
     "text": [
      "100%|██████████| 50/50 [00:00<00:00, 145.06it/s]s]\n",
      " 12%|█▏        | 601/5000 [01:36<16:26,  4.46it/s]"
     ]
    },
    {
     "name": "stdout",
     "output_type": "stream",
     "text": [
      "step = 600: loss = 0.07814410328865051, reward = -0.05968308076262474\n"
     ]
    },
    {
     "name": "stderr",
     "output_type": "stream",
     "text": [
      "100%|██████████| 50/50 [00:00<00:00, 142.03it/s]s]\n",
      " 14%|█▍        | 701/5000 [01:53<16:30,  4.34it/s]"
     ]
    },
    {
     "name": "stdout",
     "output_type": "stream",
     "text": [
      "step = 700: loss = 0.05395403504371643, reward = -0.05968308076262474\n"
     ]
    },
    {
     "name": "stderr",
     "output_type": "stream",
     "text": [
      "100%|██████████| 50/50 [00:00<00:00, 148.61it/s]s]\n",
      " 16%|█▌        | 801/5000 [02:08<15:39,  4.47it/s]"
     ]
    },
    {
     "name": "stdout",
     "output_type": "stream",
     "text": [
      "step = 800: loss = 0.05778862535953522, reward = -0.05968308076262474\n"
     ]
    },
    {
     "name": "stderr",
     "output_type": "stream",
     "text": [
      "100%|██████████| 50/50 [00:00<00:00, 149.60it/s]s]\n",
      " 18%|█▊        | 901/5000 [02:25<14:59,  4.56it/s]"
     ]
    },
    {
     "name": "stdout",
     "output_type": "stream",
     "text": [
      "step = 900: loss = 0.05692460760474205, reward = -0.05968308076262474\n"
     ]
    },
    {
     "name": "stderr",
     "output_type": "stream",
     "text": [
      "100%|██████████| 50/50 [00:00<00:00, 148.17it/s]s]\n",
      " 20%|██        | 1001/5000 [02:41<15:17,  4.36it/s]"
     ]
    },
    {
     "name": "stdout",
     "output_type": "stream",
     "text": [
      "step = 1000: loss = 0.059485163539648056, reward = -0.05968308076262474\n"
     ]
    },
    {
     "name": "stderr",
     "output_type": "stream",
     "text": [
      "100%|██████████| 50/50 [00:00<00:00, 144.85it/s]/s]\n",
      " 22%|██▏       | 1101/5000 [02:57<14:36,  4.45it/s]"
     ]
    },
    {
     "name": "stdout",
     "output_type": "stream",
     "text": [
      "step = 1100: loss = 0.07164233177900314, reward = -0.05968308076262474\n"
     ]
    },
    {
     "name": "stderr",
     "output_type": "stream",
     "text": [
      "100%|██████████| 50/50 [00:00<00:00, 139.96it/s]/s]\n",
      " 24%|██▍       | 1201/5000 [03:14<14:20,  4.41it/s]"
     ]
    },
    {
     "name": "stdout",
     "output_type": "stream",
     "text": [
      "step = 1200: loss = 0.04963871091604233, reward = -0.05968308076262474\n"
     ]
    },
    {
     "name": "stderr",
     "output_type": "stream",
     "text": [
      "100%|██████████| 50/50 [00:00<00:00, 151.36it/s]/s]\n",
      " 26%|██▌       | 1301/5000 [03:30<14:23,  4.28it/s]"
     ]
    },
    {
     "name": "stdout",
     "output_type": "stream",
     "text": [
      "step = 1300: loss = 0.05595877766609192, reward = -0.05968308076262474\n"
     ]
    },
    {
     "name": "stderr",
     "output_type": "stream",
     "text": [
      "100%|██████████| 50/50 [00:00<00:00, 146.66it/s]/s]\n",
      " 28%|██▊       | 1401/5000 [03:46<13:25,  4.47it/s]"
     ]
    },
    {
     "name": "stdout",
     "output_type": "stream",
     "text": [
      "step = 1400: loss = 0.05879542976617813, reward = -0.05968308076262474\n"
     ]
    },
    {
     "name": "stderr",
     "output_type": "stream",
     "text": [
      "100%|██████████| 50/50 [00:00<00:00, 149.67it/s]/s]\n",
      " 30%|███       | 1501/5000 [04:02<12:52,  4.53it/s]"
     ]
    },
    {
     "name": "stdout",
     "output_type": "stream",
     "text": [
      "step = 1500: loss = 0.06716286391019821, reward = -0.05968308076262474\n"
     ]
    },
    {
     "name": "stderr",
     "output_type": "stream",
     "text": [
      "100%|██████████| 50/50 [00:00<00:00, 131.84it/s]/s]\n",
      " 32%|███▏      | 1601/5000 [04:18<13:14,  4.28it/s]"
     ]
    },
    {
     "name": "stdout",
     "output_type": "stream",
     "text": [
      "step = 1600: loss = 0.05800986662507057, reward = -0.05968308076262474\n"
     ]
    },
    {
     "name": "stderr",
     "output_type": "stream",
     "text": [
      "100%|██████████| 50/50 [00:00<00:00, 145.37it/s]/s]\n",
      " 34%|███▍      | 1701/5000 [04:35<12:29,  4.40it/s]"
     ]
    },
    {
     "name": "stdout",
     "output_type": "stream",
     "text": [
      "step = 1700: loss = 0.06368903815746307, reward = -0.05968308076262474\n"
     ]
    },
    {
     "name": "stderr",
     "output_type": "stream",
     "text": [
      "100%|██████████| 50/50 [00:00<00:00, 139.72it/s]/s]\n",
      " 36%|███▌      | 1801/5000 [04:51<12:38,  4.22it/s]"
     ]
    },
    {
     "name": "stdout",
     "output_type": "stream",
     "text": [
      "step = 1800: loss = 0.05840213596820831, reward = -0.05968308076262474\n"
     ]
    },
    {
     "name": "stderr",
     "output_type": "stream",
     "text": [
      "100%|██████████| 50/50 [00:00<00:00, 144.50it/s]/s]\n",
      " 38%|███▊      | 1901/5000 [05:07<11:47,  4.38it/s]"
     ]
    },
    {
     "name": "stdout",
     "output_type": "stream",
     "text": [
      "step = 1900: loss = 0.06790091097354889, reward = -0.05968308076262474\n"
     ]
    },
    {
     "name": "stderr",
     "output_type": "stream",
     "text": [
      "100%|██████████| 50/50 [00:00<00:00, 148.98it/s]/s]\n",
      " 40%|████      | 2001/5000 [05:24<11:03,  4.52it/s]"
     ]
    },
    {
     "name": "stdout",
     "output_type": "stream",
     "text": [
      "step = 2000: loss = 0.05456307530403137, reward = -0.05968308076262474\n"
     ]
    },
    {
     "name": "stderr",
     "output_type": "stream",
     "text": [
      "100%|██████████| 50/50 [00:00<00:00, 147.69it/s]/s]\n",
      " 42%|████▏     | 2101/5000 [05:39<10:43,  4.51it/s]"
     ]
    },
    {
     "name": "stdout",
     "output_type": "stream",
     "text": [
      "step = 2100: loss = 0.05199477821588516, reward = -0.05968308076262474\n"
     ]
    },
    {
     "name": "stderr",
     "output_type": "stream",
     "text": [
      "100%|██████████| 50/50 [00:00<00:00, 146.01it/s]/s]\n",
      " 44%|████▍     | 2201/5000 [05:56<10:51,  4.30it/s]"
     ]
    },
    {
     "name": "stdout",
     "output_type": "stream",
     "text": [
      "step = 2200: loss = 0.046316057443618774, reward = -0.05968308076262474\n"
     ]
    },
    {
     "name": "stderr",
     "output_type": "stream",
     "text": [
      "100%|██████████| 50/50 [00:00<00:00, 151.46it/s]/s]\n",
      " 46%|████▌     | 2301/5000 [06:12<09:51,  4.56it/s]"
     ]
    },
    {
     "name": "stdout",
     "output_type": "stream",
     "text": [
      "step = 2300: loss = 0.0451720654964447, reward = -0.05968308076262474\n"
     ]
    },
    {
     "name": "stderr",
     "output_type": "stream",
     "text": [
      "100%|██████████| 50/50 [00:00<00:00, 139.11it/s]/s]\n",
      " 48%|████▊     | 2401/5000 [06:28<09:59,  4.34it/s]"
     ]
    },
    {
     "name": "stdout",
     "output_type": "stream",
     "text": [
      "step = 2400: loss = 0.05063679814338684, reward = -0.05968308076262474\n"
     ]
    },
    {
     "name": "stderr",
     "output_type": "stream",
     "text": [
      "100%|██████████| 50/50 [00:00<00:00, 149.10it/s]/s]\n",
      " 50%|█████     | 2501/5000 [06:44<09:13,  4.51it/s]"
     ]
    },
    {
     "name": "stdout",
     "output_type": "stream",
     "text": [
      "step = 2500: loss = 0.05682305246591568, reward = -0.05968308076262474\n"
     ]
    },
    {
     "name": "stderr",
     "output_type": "stream",
     "text": [
      "100%|██████████| 50/50 [00:00<00:00, 151.48it/s]/s]\n",
      " 52%|█████▏    | 2601/5000 [07:01<08:57,  4.46it/s]"
     ]
    },
    {
     "name": "stdout",
     "output_type": "stream",
     "text": [
      "step = 2600: loss = 0.057316817343235016, reward = -0.05968308076262474\n"
     ]
    },
    {
     "name": "stderr",
     "output_type": "stream",
     "text": [
      "100%|██████████| 50/50 [00:00<00:00, 148.48it/s]/s]\n",
      " 54%|█████▍    | 2701/5000 [07:17<08:40,  4.42it/s]"
     ]
    },
    {
     "name": "stdout",
     "output_type": "stream",
     "text": [
      "step = 2700: loss = 0.06233186647295952, reward = -0.05968308076262474\n"
     ]
    },
    {
     "name": "stderr",
     "output_type": "stream",
     "text": [
      "100%|██████████| 50/50 [00:00<00:00, 147.44it/s]/s]\n",
      " 56%|█████▌    | 2801/5000 [07:34<08:08,  4.50it/s]"
     ]
    },
    {
     "name": "stdout",
     "output_type": "stream",
     "text": [
      "step = 2800: loss = 0.030263567343354225, reward = -0.05968308076262474\n"
     ]
    },
    {
     "name": "stderr",
     "output_type": "stream",
     "text": [
      "100%|██████████| 50/50 [00:00<00:00, 150.17it/s]/s]\n",
      " 58%|█████▊    | 2901/5000 [07:49<07:45,  4.51it/s]"
     ]
    },
    {
     "name": "stdout",
     "output_type": "stream",
     "text": [
      "step = 2900: loss = 0.12275780737400055, reward = -0.05968308076262474\n"
     ]
    },
    {
     "name": "stderr",
     "output_type": "stream",
     "text": [
      "100%|██████████| 50/50 [00:00<00:00, 145.94it/s]/s]\n",
      " 60%|██████    | 3001/5000 [08:06<07:35,  4.39it/s]"
     ]
    },
    {
     "name": "stdout",
     "output_type": "stream",
     "text": [
      "step = 3000: loss = 0.0640171468257904, reward = -0.05968308076262474\n"
     ]
    },
    {
     "name": "stderr",
     "output_type": "stream",
     "text": [
      "100%|██████████| 50/50 [00:00<00:00, 145.29it/s]/s]\n",
      " 62%|██████▏   | 3101/5000 [08:22<07:06,  4.45it/s]"
     ]
    },
    {
     "name": "stdout",
     "output_type": "stream",
     "text": [
      "step = 3100: loss = 0.06743437051773071, reward = -0.05968308076262474\n"
     ]
    },
    {
     "name": "stderr",
     "output_type": "stream",
     "text": [
      "100%|██████████| 50/50 [00:00<00:00, 142.10it/s]/s]\n",
      " 64%|██████▍   | 3201/5000 [08:39<07:00,  4.27it/s]"
     ]
    },
    {
     "name": "stdout",
     "output_type": "stream",
     "text": [
      "step = 3200: loss = 0.07279805094003677, reward = -0.05968308076262474\n"
     ]
    },
    {
     "name": "stderr",
     "output_type": "stream",
     "text": [
      "100%|██████████| 50/50 [00:00<00:00, 145.21it/s]/s]\n",
      " 66%|██████▌   | 3301/5000 [08:55<06:22,  4.45it/s]"
     ]
    },
    {
     "name": "stdout",
     "output_type": "stream",
     "text": [
      "step = 3300: loss = 0.03942070156335831, reward = -0.05968308076262474\n"
     ]
    },
    {
     "name": "stderr",
     "output_type": "stream",
     "text": [
      "100%|██████████| 50/50 [00:00<00:00, 148.63it/s]/s]\n",
      " 68%|██████▊   | 3401/5000 [09:12<06:25,  4.14it/s]"
     ]
    },
    {
     "name": "stdout",
     "output_type": "stream",
     "text": [
      "step = 3400: loss = 0.06413926929235458, reward = -0.05968308076262474\n"
     ]
    },
    {
     "name": "stderr",
     "output_type": "stream",
     "text": [
      "100%|██████████| 50/50 [00:00<00:00, 138.84it/s]/s]\n",
      " 70%|███████   | 3501/5000 [09:27<05:42,  4.38it/s]"
     ]
    },
    {
     "name": "stdout",
     "output_type": "stream",
     "text": [
      "step = 3500: loss = 0.04303019493818283, reward = -0.05968308076262474\n"
     ]
    },
    {
     "name": "stderr",
     "output_type": "stream",
     "text": [
      "100%|██████████| 50/50 [00:00<00:00, 151.39it/s]/s]\n",
      " 72%|███████▏  | 3601/5000 [09:43<05:13,  4.46it/s]"
     ]
    },
    {
     "name": "stdout",
     "output_type": "stream",
     "text": [
      "step = 3600: loss = 0.0326034352183342, reward = -0.05968308076262474\n"
     ]
    },
    {
     "name": "stderr",
     "output_type": "stream",
     "text": [
      "100%|██████████| 50/50 [00:00<00:00, 145.81it/s]/s]\n",
      " 74%|███████▍  | 3701/5000 [10:00<04:56,  4.38it/s]"
     ]
    },
    {
     "name": "stdout",
     "output_type": "stream",
     "text": [
      "step = 3700: loss = 0.06070145219564438, reward = -0.05968308076262474\n"
     ]
    },
    {
     "name": "stderr",
     "output_type": "stream",
     "text": [
      "100%|██████████| 50/50 [00:00<00:00, 147.19it/s]/s]\n",
      " 76%|███████▌  | 3801/5000 [10:16<04:34,  4.37it/s]"
     ]
    },
    {
     "name": "stdout",
     "output_type": "stream",
     "text": [
      "step = 3800: loss = 0.05568353831768036, reward = -0.05968308076262474\n"
     ]
    },
    {
     "name": "stderr",
     "output_type": "stream",
     "text": [
      "100%|██████████| 50/50 [00:00<00:00, 145.26it/s]/s]\n",
      " 78%|███████▊  | 3901/5000 [10:33<04:09,  4.40it/s]"
     ]
    },
    {
     "name": "stdout",
     "output_type": "stream",
     "text": [
      "step = 3900: loss = 0.0671439915895462, reward = -0.05968308076262474\n"
     ]
    },
    {
     "name": "stderr",
     "output_type": "stream",
     "text": [
      "100%|██████████| 50/50 [00:00<00:00, 146.18it/s]/s]\n",
      " 80%|████████  | 4001/5000 [10:49<03:42,  4.49it/s]"
     ]
    },
    {
     "name": "stdout",
     "output_type": "stream",
     "text": [
      "step = 4000: loss = 0.07973361760377884, reward = -0.05968308076262474\n"
     ]
    },
    {
     "name": "stderr",
     "output_type": "stream",
     "text": [
      "100%|██████████| 50/50 [00:00<00:00, 147.49it/s]/s]\n",
      " 82%|████████▏ | 4101/5000 [11:06<03:38,  4.11it/s]"
     ]
    },
    {
     "name": "stdout",
     "output_type": "stream",
     "text": [
      "step = 4100: loss = 0.05744113028049469, reward = -0.05968308076262474\n"
     ]
    },
    {
     "name": "stderr",
     "output_type": "stream",
     "text": [
      "100%|██████████| 50/50 [00:00<00:00, 145.54it/s]/s]\n",
      " 84%|████████▍ | 4201/5000 [11:22<03:00,  4.44it/s]"
     ]
    },
    {
     "name": "stdout",
     "output_type": "stream",
     "text": [
      "step = 4200: loss = 0.04437218979001045, reward = -0.05968308076262474\n"
     ]
    },
    {
     "name": "stderr",
     "output_type": "stream",
     "text": [
      "100%|██████████| 50/50 [00:00<00:00, 149.76it/s]/s]\n",
      " 86%|████████▌ | 4301/5000 [11:37<02:34,  4.51it/s]"
     ]
    },
    {
     "name": "stdout",
     "output_type": "stream",
     "text": [
      "step = 4300: loss = 0.06655722111463547, reward = -0.05968308076262474\n"
     ]
    },
    {
     "name": "stderr",
     "output_type": "stream",
     "text": [
      "100%|██████████| 50/50 [00:00<00:00, 149.96it/s]/s]\n",
      " 88%|████████▊ | 4401/5000 [11:55<02:13,  4.49it/s]"
     ]
    },
    {
     "name": "stdout",
     "output_type": "stream",
     "text": [
      "step = 4400: loss = 0.054657574743032455, reward = -0.05968308076262474\n"
     ]
    },
    {
     "name": "stderr",
     "output_type": "stream",
     "text": [
      "100%|██████████| 50/50 [00:00<00:00, 150.15it/s]/s]\n",
      " 90%|█████████ | 4501/5000 [12:10<01:51,  4.49it/s]"
     ]
    },
    {
     "name": "stdout",
     "output_type": "stream",
     "text": [
      "step = 4500: loss = 0.05559392273426056, reward = -0.05968308076262474\n"
     ]
    },
    {
     "name": "stderr",
     "output_type": "stream",
     "text": [
      "100%|██████████| 50/50 [00:00<00:00, 151.40it/s]/s]\n",
      " 92%|█████████▏| 4601/5000 [12:27<01:32,  4.31it/s]"
     ]
    },
    {
     "name": "stdout",
     "output_type": "stream",
     "text": [
      "step = 4600: loss = 0.062225304543972015, reward = -0.05968308076262474\n"
     ]
    },
    {
     "name": "stderr",
     "output_type": "stream",
     "text": [
      " 94%|█████████▎| 4678/5000 [12:39<00:49,  6.51it/s]"
     ]
    }
   ],
   "source": [
    "# Set this to True when you want to run hyperparameter tuning\n",
    "hyperparameter_tuning = True\n",
    "\n",
    "def main():\n",
    "    run = wandb.init(config = config)\n",
    "    \n",
    "    agent_args = {\n",
    "        \"q_network\":            get_q_net(action_spec, fc_layer_params),\n",
    "        \"optimizer\":            tf.compat.v1.train.AdamOptimizer(\n",
    "                                    learning_rate=run.config.learning_rate),\n",
    "        \"n_step_update\":        n_step_update, \n",
    "        \"td_errors_loss_fn\":    tf.keras.losses.MeanSquaredError(),\n",
    "        \"epsilon_greedy\":       run.config.epsilon_greedy,\n",
    "        \"target_update_period\": run.config.target_update_period,\n",
    "        \"gamma\":                run.config.gamma,\n",
    "        \"gradient_clipping\":    1,\n",
    "        \"train_step_counter\":   tf.compat.v1.train.get_or_create_global_step(),\n",
    "    }\n",
    "        \n",
    "    _agent = dqn_agent.DqnAgent(\n",
    "        time_step_spec,\n",
    "        action_spec,\n",
    "        **agent_args\n",
    "    )\n",
    "\n",
    "    loss, _, rewards = train(_agent, train_env, train_env_copy, steps = 5000, use_wandb = True)\n",
    "    \n",
    "    wandb.log({'avg_loss': np.mean(loss), 'avg_reward': np.mean(rewards)})\n",
    "\n",
    "    del _agent\n",
    "    return\n",
    "\n",
    "# Define sweep config\n",
    "sweep_configuration = {\n",
    "    'method': 'random',\n",
    "    'name': 'rl_greed',\n",
    "    \"metric\": {\n",
    "        \"name\" : \"avg_reward\",\n",
    "        \"goal\": \"maximize\"\n",
    "    },\n",
    "    \"parameters\" : {\n",
    "        \"learning_rate\": {\n",
    "            \"min\": 0.0001,\n",
    "            \"max\": 0.01\n",
    "        },\n",
    "        \"epsilon_greedy\": {'values': [0.1, 0.3, 0.5, 0.7, 0.9]},\n",
    "        \"target_update_period\": {'values': [1, 10, 100, 1000, 10000]},\n",
    "        \"gamma\": {'values': [0.1, 0.3, 0.5, 0.7, 0.9]},\n",
    "    },\n",
    "    'run_cap' : 32\n",
    "}\n",
    "\n",
    "if hyperparameter_tuning:\n",
    "    ! export WANDB_NOTEBOOK_NAME=\"main.ipynb\"\n",
    "    # Initialize sweep by passing in config. (Optional) Provide a name of the project.\n",
    "    sweep_id = wandb.sweep(sweep=sweep_configuration, project=PROJECT_NAME,)\n",
    "\n",
    "    # Start sweep job.\n",
    "    wandb.agent(sweep_id, function=main)"
   ]
  },
  {
   "cell_type": "markdown",
   "metadata": {},
   "source": [
    "### Restore checkpoint"
   ]
  },
  {
   "cell_type": "code",
   "execution_count": null,
   "metadata": {},
   "outputs": [],
   "source": [
    "def test(policy, test_env, num_episodes: int=10000):\n",
    "    rewards = []\n",
    "    log_interval = 100\n",
    "    time_step = test_env.reset()\n",
    "    total_return = 0.0\n",
    "    for i in tqdm(range(10000)):\n",
    "        policy_state = policy.action(time_step)\n",
    "        time_step = test_env.step(policy_state.action)\n",
    "        reward = time_step.reward.numpy()[0]\n",
    "        total_return += reward # Calculate a sum of rewards\n",
    "\n",
    "        if i % log_interval == 0:\n",
    "            # avg_return = compute_avg_return(train_env_copy, agent.policy, 10)\n",
    "            avg_return = total_return / eval_interval\n",
    "            print('step = {0}: Average reward = {1:.5f}'.format(step, avg_return))\n",
    "            rewards.append(avg_return)\n",
    "            total_return = 0.0 # reset\n",
    "    return rewards\n",
    "\n",
    "# test(agent.policy, test_env)"
   ]
  },
  {
   "cell_type": "markdown",
   "metadata": {},
   "source": [
    "# Episodic Memory"
   ]
  },
  {
   "cell_type": "code",
   "execution_count": 70,
   "metadata": {},
   "outputs": [],
   "source": [
    "from util import episodic_memory\n",
    "from sklearn.mixture import GaussianMixture\n",
    "\n",
    "def embedding_similarity(x1, x2):\n",
    "    assert x1.shape[0] == x2.shape[0]\n",
    "    epsilon = 1e-6\n",
    "\n",
    "    # Inner product between the embeddings in x1\n",
    "    # and the embeddings in x2.\n",
    "    s = np.sum(x1 * x2, axis=-1)\n",
    "\n",
    "    s = s / (np.linalg.norm(x1, axis=-1) * np.linalg.norm(x2, axis=-1) + epsilon)\n",
    "    return 0.5 * (s + 1.0)\n"
   ]
  },
  {
   "cell_type": "code",
   "execution_count": 66,
   "metadata": {},
   "outputs": [],
   "source": [
    "observations = replay_buffer.gather_all()[1].numpy().squeeze()\n",
    "actions = replay_buffer.gather_all()[2].numpy().squeeze()\n",
    "size = 15\n",
    "\n",
    "memory_buffer = np.array([[*observations[i], actions[i]] for i in range(size)])"
   ]
  },
  {
   "cell_type": "code",
   "execution_count": 82,
   "metadata": {},
   "outputs": [
    {
     "data": {
      "text/plain": [
       "(15, 3)"
      ]
     },
     "execution_count": 82,
     "metadata": {},
     "output_type": "execute_result"
    }
   ],
   "source": [
    "memory_buffer.squeeze().shape"
   ]
  },
  {
   "cell_type": "code",
   "execution_count": 76,
   "metadata": {},
   "outputs": [],
   "source": [
    "gm = GaussianMixture(n_components=memory_buffer.shape[1])"
   ]
  },
  {
   "cell_type": "code",
   "execution_count": 77,
   "metadata": {},
   "outputs": [
    {
     "data": {
      "text/html": [
       "<style>#sk-container-id-1 {color: black;}#sk-container-id-1 pre{padding: 0;}#sk-container-id-1 div.sk-toggleable {background-color: white;}#sk-container-id-1 label.sk-toggleable__label {cursor: pointer;display: block;width: 100%;margin-bottom: 0;padding: 0.3em;box-sizing: border-box;text-align: center;}#sk-container-id-1 label.sk-toggleable__label-arrow:before {content: \"▸\";float: left;margin-right: 0.25em;color: #696969;}#sk-container-id-1 label.sk-toggleable__label-arrow:hover:before {color: black;}#sk-container-id-1 div.sk-estimator:hover label.sk-toggleable__label-arrow:before {color: black;}#sk-container-id-1 div.sk-toggleable__content {max-height: 0;max-width: 0;overflow: hidden;text-align: left;background-color: #f0f8ff;}#sk-container-id-1 div.sk-toggleable__content pre {margin: 0.2em;color: black;border-radius: 0.25em;background-color: #f0f8ff;}#sk-container-id-1 input.sk-toggleable__control:checked~div.sk-toggleable__content {max-height: 200px;max-width: 100%;overflow: auto;}#sk-container-id-1 input.sk-toggleable__control:checked~label.sk-toggleable__label-arrow:before {content: \"▾\";}#sk-container-id-1 div.sk-estimator input.sk-toggleable__control:checked~label.sk-toggleable__label {background-color: #d4ebff;}#sk-container-id-1 div.sk-label input.sk-toggleable__control:checked~label.sk-toggleable__label {background-color: #d4ebff;}#sk-container-id-1 input.sk-hidden--visually {border: 0;clip: rect(1px 1px 1px 1px);clip: rect(1px, 1px, 1px, 1px);height: 1px;margin: -1px;overflow: hidden;padding: 0;position: absolute;width: 1px;}#sk-container-id-1 div.sk-estimator {font-family: monospace;background-color: #f0f8ff;border: 1px dotted black;border-radius: 0.25em;box-sizing: border-box;margin-bottom: 0.5em;}#sk-container-id-1 div.sk-estimator:hover {background-color: #d4ebff;}#sk-container-id-1 div.sk-parallel-item::after {content: \"\";width: 100%;border-bottom: 1px solid gray;flex-grow: 1;}#sk-container-id-1 div.sk-label:hover label.sk-toggleable__label {background-color: #d4ebff;}#sk-container-id-1 div.sk-serial::before {content: \"\";position: absolute;border-left: 1px solid gray;box-sizing: border-box;top: 0;bottom: 0;left: 50%;z-index: 0;}#sk-container-id-1 div.sk-serial {display: flex;flex-direction: column;align-items: center;background-color: white;padding-right: 0.2em;padding-left: 0.2em;position: relative;}#sk-container-id-1 div.sk-item {position: relative;z-index: 1;}#sk-container-id-1 div.sk-parallel {display: flex;align-items: stretch;justify-content: center;background-color: white;position: relative;}#sk-container-id-1 div.sk-item::before, #sk-container-id-1 div.sk-parallel-item::before {content: \"\";position: absolute;border-left: 1px solid gray;box-sizing: border-box;top: 0;bottom: 0;left: 50%;z-index: -1;}#sk-container-id-1 div.sk-parallel-item {display: flex;flex-direction: column;z-index: 1;position: relative;background-color: white;}#sk-container-id-1 div.sk-parallel-item:first-child::after {align-self: flex-end;width: 50%;}#sk-container-id-1 div.sk-parallel-item:last-child::after {align-self: flex-start;width: 50%;}#sk-container-id-1 div.sk-parallel-item:only-child::after {width: 0;}#sk-container-id-1 div.sk-dashed-wrapped {border: 1px dashed gray;margin: 0 0.4em 0.5em 0.4em;box-sizing: border-box;padding-bottom: 0.4em;background-color: white;}#sk-container-id-1 div.sk-label label {font-family: monospace;font-weight: bold;display: inline-block;line-height: 1.2em;}#sk-container-id-1 div.sk-label-container {text-align: center;}#sk-container-id-1 div.sk-container {/* jupyter's `normalize.less` sets `[hidden] { display: none; }` but bootstrap.min.css set `[hidden] { display: none !important; }` so we also need the `!important` here to be able to override the default hidden behavior on the sphinx rendered scikit-learn.org. See: https://github.com/scikit-learn/scikit-learn/issues/21755 */display: inline-block !important;position: relative;}#sk-container-id-1 div.sk-text-repr-fallback {display: none;}</style><div id=\"sk-container-id-1\" class=\"sk-top-container\"><div class=\"sk-text-repr-fallback\"><pre>GaussianMixture(n_components=3)</pre><b>In a Jupyter environment, please rerun this cell to show the HTML representation or trust the notebook. <br />On GitHub, the HTML representation is unable to render, please try loading this page with nbviewer.org.</b></div><div class=\"sk-container\" hidden><div class=\"sk-item\"><div class=\"sk-estimator sk-toggleable\"><input class=\"sk-toggleable__control sk-hidden--visually\" id=\"sk-estimator-id-1\" type=\"checkbox\" checked><label for=\"sk-estimator-id-1\" class=\"sk-toggleable__label sk-toggleable__label-arrow\">GaussianMixture</label><div class=\"sk-toggleable__content\"><pre>GaussianMixture(n_components=3)</pre></div></div></div></div></div>"
      ],
      "text/plain": [
       "GaussianMixture(n_components=3)"
      ]
     },
     "execution_count": 77,
     "metadata": {},
     "output_type": "execute_result"
    }
   ],
   "source": [
    "gm.fit(memory_buffer)"
   ]
  },
  {
   "cell_type": "code",
   "execution_count": 84,
   "metadata": {},
   "outputs": [
    {
     "data": {
      "text/plain": [
       "array([[0.00000000e+00, 9.99999917e-01, 8.31505676e-08]])"
      ]
     },
     "execution_count": 84,
     "metadata": {},
     "output_type": "execute_result"
    }
   ],
   "source": [
    "gm.predict_proba([[7, 12, 0]])"
   ]
  },
  {
   "cell_type": "code",
   "execution_count": 62,
   "metadata": {},
   "outputs": [
    {
     "name": "stdout",
     "output_type": "stream",
     "text": [
      "df size: 36\n",
      "[[ 4 24  3]\n",
      " [ 4 24  1]\n",
      " [ 7 24  2]\n",
      " [ 7 20  2]\n",
      " [ 7 16  3]\n",
      " [ 7 20  0]\n",
      " [ 4 20  3]\n",
      " [ 4 24  2]\n",
      " [ 4 20  2]\n",
      " [ 4 16  2]\n",
      " [ 4 12  1]\n",
      " [ 7 12  0]\n",
      " [ 4 12  1]\n",
      " [ 7 12  3]\n",
      " [ 7 16  2]]\n"
     ]
    }
   ],
   "source": [
    "df = pd.read_csv(f\"avrora_synthetic_saved_states.csv\")\n",
    "print(\"df size:\", len(df))\n",
    "states  = {}\n",
    "size = 15 \n",
    "# replay_buffer.capacity\n",
    "for i in range(size):\n",
    "    states [i] = {\"args\": [df[\"MaxTenuringThreshold\"].values[i], df[\"ParallelGCThreads\"].values[i]], \"goal\": df[\"Average GC Pause\"].values[i]}\n",
    "\n",
    "# memory_buffer = np.array([states[i][\"args\"] for i in states.keys()])\n",
    "memory_buffer = np.array([[*observations[i], actions[i]] for i in range(size)])\n",
    "print(memory_buffer)"
   ]
  },
  {
   "cell_type": "code",
   "execution_count": 92,
   "metadata": {},
   "outputs": [
    {
     "name": "stdout",
     "output_type": "stream",
     "text": [
      "{0: {'args': [7, 12], 'goal': 0.47, 'count': 2}}\n"
     ]
    }
   ],
   "source": [
    "perf_states = {}\n",
    "perf_states[0] = {\"args\": [7, 12], \"goal\": 0.47, \"count\": 1} \n",
    "saved_states = [perf_states[i][\"args\"] for i in perf_states.keys()]\n",
    "flags = [7, 12]\n",
    "if flags in saved_states:\n",
    "    for i in perf_states.keys():\n",
    "        \"\"\" \n",
    "        If current state is stored in a cache,\n",
    "        update the state goal value.\n",
    "        \"\"\"\n",
    "        if flags == perf_states[i][\"args\"]:\n",
    "            goal = perf_states[i][\"goal\"]\n",
    "            perf_states[i][\"count\"] += 1\n",
    "\n",
    "print(perf_states)"
   ]
  },
  {
   "cell_type": "code",
   "execution_count": 97,
   "metadata": {},
   "outputs": [
    {
     "name": "stdout",
     "output_type": "stream",
     "text": [
      "2\n"
     ]
    }
   ],
   "source": [
    "for i in perf_states.keys():\n",
    "    if [7, 12] == perf_states[i][\"args\"]:\n",
    "        print(perf_states[i][\"count\"])"
   ]
  },
  {
   "cell_type": "code",
   "execution_count": 15,
   "metadata": {},
   "outputs": [
    {
     "data": {
      "text/plain": [
       "0.9975155087566253"
      ]
     },
     "execution_count": 15,
     "metadata": {},
     "output_type": "execute_result"
    }
   ],
   "source": [
    "(1 + 0.01)**(-1/4)"
   ]
  },
  {
   "cell_type": "code",
   "execution_count": 63,
   "metadata": {},
   "outputs": [
    {
     "data": {
      "text/plain": [
       "array([0.96638056, 0.96084794, 0.98113075, 0.98760397, 0.99632883,\n",
       "       0.97980966, 0.97269349, 0.9640097 , 0.97034901, 0.97857303,\n",
       "       0.98519848, 0.98873447, 0.98519848, 1.        , 0.99432438])"
      ]
     },
     "execution_count": 63,
     "metadata": {},
     "output_type": "execute_result"
    }
   ],
   "source": [
    "observation = np.array([[7, 12, 3]] * size)\n",
    "similarity = embedding_similarity(observation, memory_buffer[:size])\n",
    "similarity"
   ]
  },
  {
   "cell_type": "code",
   "execution_count": 48,
   "metadata": {},
   "outputs": [
    {
     "data": {
      "text/plain": [
       "Trajectory(\n",
       "{'action': <tf.Tensor: shape=(1,), dtype=int32, numpy=array([0], dtype=int32)>,\n",
       " 'discount': <tf.Tensor: shape=(1,), dtype=float32, numpy=array([0.5], dtype=float32)>,\n",
       " 'next_step_type': <tf.Tensor: shape=(1,), dtype=int32, numpy=array([1], dtype=int32)>,\n",
       " 'observation': <tf.Tensor: shape=(1, 2), dtype=int64, numpy=array([[ 7, 12]])>,\n",
       " 'policy_info': (),\n",
       " 'reward': <tf.Tensor: shape=(1,), dtype=float32, numpy=array([-1.], dtype=float32)>,\n",
       " 'step_type': <tf.Tensor: shape=(1,), dtype=int32, numpy=array([0], dtype=int32)>})"
      ]
     },
     "execution_count": 48,
     "metadata": {},
     "output_type": "execute_result"
    }
   ],
   "source": [
    "traj"
   ]
  },
  {
   "cell_type": "code",
   "execution_count": 47,
   "metadata": {},
   "outputs": [
    {
     "data": {
      "text/plain": [
       "-11.512925464970229"
      ]
     },
     "execution_count": 47,
     "metadata": {},
     "output_type": "execute_result"
    }
   ],
   "source": [
    "import math\n",
    "\n",
    "math.log(0.00001)"
   ]
  },
  {
   "cell_type": "code",
   "execution_count": 7,
   "metadata": {},
   "outputs": [
    {
     "name": "stdout",
     "output_type": "stream",
     "text": [
      "WARNING:tensorflow:From /var/folders/dn/p1_3j9fs78g4wn8r0hcrqks40000gn/T/ipykernel_2341/2210688016.py:1: ReplayBuffer.gather_all (from tf_agents.replay_buffers.replay_buffer) is deprecated and will be removed in a future version.\n",
      "Instructions for updating:\n",
      "Use `as_dataset(..., single_deterministic_pass=True)` instead.\n"
     ]
    },
    {
     "name": "stderr",
     "output_type": "stream",
     "text": [
      "WARNING:tensorflow:From /var/folders/dn/p1_3j9fs78g4wn8r0hcrqks40000gn/T/ipykernel_2341/2210688016.py:1: ReplayBuffer.gather_all (from tf_agents.replay_buffers.replay_buffer) is deprecated and will be removed in a future version.\n",
      "Instructions for updating:\n",
      "Use `as_dataset(..., single_deterministic_pass=True)` instead.\n"
     ]
    },
    {
     "name": "stdout",
     "output_type": "stream",
     "text": [
      "10000\n",
      "[0] [ 7 12]\n",
      "[10] [ 7 16]\n",
      "[15] [4 8]\n",
      "[2] [10  8]\n",
      "[4] [ 4 12]\n"
     ]
    }
   ],
   "source": [
    "observations = replay_buffer.gather_all()[1].numpy().squeeze()\n",
    "print(len(observations))\n",
    "# for i in range(100):\n",
    "#     print(f\"[{i}] {observations[i]}\")\n",
    "\n",
    "print(f\"[{0}] {observations[0]}\")\n",
    "print(f\"[{10}] {observations[10]}\")\n",
    "print(f\"[{15}] {observations[15]}\")\n",
    "print(f\"[{2}] {observations[2]}\")\n",
    "print(f\"[{4}] {observations[4]}\")"
   ]
  },
  {
   "cell_type": "code",
   "execution_count": 10,
   "metadata": {},
   "outputs": [],
   "source": [
    "observation_shape = [2]\n",
    "memory = episodic_memory.EpisodicMemory(\n",
    "    observation_shape=observation_shape,\n",
    "    observation_compare_fn=embedding_similarity,\n",
    "    capacity=150)\n",
    "\n",
    "memory.add(observation=observations[0], info=dict())\n",
    "memory.add(observation=observations[10], info=dict())\n",
    "memory.add(observation=observations[15], info=dict())\n",
    "memory.add(observation=observations[2], info=dict())\n",
    "memory.add(observation=observations[4], info=dict())"
   ]
  },
  {
   "cell_type": "code",
   "execution_count": 35,
   "metadata": {},
   "outputs": [
    {
     "name": "stdout",
     "output_type": "stream",
     "text": [
      "[1.         0.99556546 0.99941687 1.         1.        ]\n"
     ]
    }
   ],
   "source": [
    "similarities = memory.similarity(observations[0])\n",
    "print(similarities)"
   ]
  },
  {
   "cell_type": "code",
   "execution_count": 54,
   "metadata": {},
   "outputs": [
    {
     "data": {
      "text/plain": [
       "0.4711529108389231"
      ]
     },
     "execution_count": 54,
     "metadata": {},
     "output_type": "execute_result"
    }
   ],
   "source": []
  },
  {
   "cell_type": "code",
   "execution_count": 56,
   "metadata": {},
   "outputs": [
    {
     "data": {
      "text/plain": [
       "0.4711529108389231"
      ]
     },
     "execution_count": 56,
     "metadata": {},
     "output_type": "execute_result"
    }
   ],
   "source": [
    "new_df = pd.read_csv(f\"avrora_synthetic_saved_states.csv\")\n",
    "perf_states  = {}\n",
    "flags = [7, 12]\n",
    "def synthethic_run(flags):\n",
    "    assert len(flags) == 2, \"Amount of flags is not 2\"\n",
    "    row = new_df[((new_df[\"MaxTenuringThreshold\"] == flags[0]) & (new_df[\"ParallelGCThreads\"] == flags[1]))].values.squeeze()\n",
    "    goal = row[2]\n",
    "    return goal\n",
    "\n",
    "synthethic_run(flags)"
   ]
  }
 ],
 "metadata": {
  "kernelspec": {
   "display_name": "my-env",
   "language": "python",
   "name": "python3"
  },
  "language_info": {
   "codemirror_mode": {
    "name": "ipython",
    "version": 3
   },
   "file_extension": ".py",
   "mimetype": "text/x-python",
   "name": "python",
   "nbconvert_exporter": "python",
   "pygments_lexer": "ipython3",
   "version": "3.8.17"
  },
  "orig_nbformat": 4
 },
 "nbformat": 4,
 "nbformat_minor": 2
}
