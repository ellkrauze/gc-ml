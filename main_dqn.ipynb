{
 "cells": [
  {
   "cell_type": "code",
   "execution_count": 1,
   "metadata": {},
   "outputs": [],
   "source": [
    "import os\n",
    "import numpy as np\n",
    "import tensorflow as tf\n",
    "import matplotlib.pyplot as plt\n",
    "import pandas as pd\n",
    "from tqdm import tqdm\n",
    "\n",
    "from tf_agents.agents.dqn import dqn_agent\n",
    "from tf_agents.environments import tf_py_environment\n",
    "from tf_agents.networks import sequential\n",
    "from tf_agents.policies import random_tf_policy\n",
    "from tf_agents.replay_buffers import tf_uniform_replay_buffer\n",
    "from tf_agents.trajectories import trajectory\n",
    "from tf_agents.utils import common\n",
    "from tf_agents.specs import tensor_spec, from_spec\n",
    "from tf_agents import trajectories\n",
    "\n",
    "# from env.PyEnvironments import CurveEnv, CurveMultipleEnv, JVMEnv\n",
    "# from env.PyEnvironments import JVMEnv\n",
    "from env.PyEnvironmentsTest import JVMEnv # !!!"
   ]
  },
  {
   "cell_type": "code",
   "execution_count": 2,
   "metadata": {},
   "outputs": [
    {
     "name": "stdout",
     "output_type": "stream",
     "text": [
      "Successfully initialized a JVM Environment!\n",
      " JDK: /Users/ellkrauze/projects/gc-ml/jdk-11.0.20.1.jdk/bin,\n",
      " Benchmark: avrora (/Users/ellkrauze/projects/gc-ml/dacapo-bench.jar),\n",
      " Number of iterations: 5,\n",
      " Goal: avgGCPause,\n",
      " Number of JVM options: 2,\n",
      " JVM options: {'MaxTenuringThreshold': {'min': 1, 'max': 16}, 'ParallelGCThreads': {'min': 4, 'max': 24}},\n",
      " Env. default state: [list([7, 12]) 0.47],\n",
      " Env. default goal value: 0.47,\n",
      "\n",
      "Successfully initialized a JVM Environment!\n",
      " JDK: /Users/ellkrauze/projects/gc-ml/jdk-11.0.20.1.jdk/bin,\n",
      " Benchmark: kafka (/Users/ellkrauze/projects/gc-ml/dacapo-bench.jar),\n",
      " Number of iterations: 5,\n",
      " Goal: avgGCPause,\n",
      " Number of JVM options: 2,\n",
      " JVM options: {'MaxTenuringThreshold': {'min': 1, 'max': 16}, 'ParallelGCThreads': {'min': 4, 'max': 24}},\n",
      " Env. default state: [list([7, 12]) 0.34],\n",
      " Env. default goal value: 0.34,\n",
      "\n"
     ]
    }
   ],
   "source": [
    "TEST_JDK_PATH = \"/Users/ellkrauze/projects/gc-ml/jdk-11.0.20.1.jdk\"\n",
    "BM = \"avrora\"\n",
    "BM_TEST = \"kafka\"\n",
    "BM_PATH = \"/Users/ellkrauze/projects/gc-ml/dacapo-bench.jar\"\n",
    "CALLBACK_PATH = \"/home/vsakovskaya/gc-ml/dacapo/DacapoCallback/DacapoChopin/VMStatCallback.java\"\n",
    "dataset_path = \"dataset/data\"\n",
    "tempdir = \"tmp\"\n",
    "checkpoint_dir = os.path.join(tempdir, 'checkpoint')\n",
    "policy_dir = os.path.join(tempdir, 'policy')\n",
    "\n",
    "env = JVMEnv(jdk=TEST_JDK_PATH, bm_path=BM_PATH, \n",
    "    callback_path=CALLBACK_PATH, bm=BM, verbose=True)\n",
    "\n",
    "env_test = JVMEnv(jdk=TEST_JDK_PATH, bm_path=BM_PATH, \n",
    "        callback_path=CALLBACK_PATH, bm=BM_TEST, verbose=True)\n",
    "\n",
    "train_env = tf_py_environment.TFPyEnvironment(env, isolation=True)\n",
    "eval_env = tf_py_environment.TFPyEnvironment(env, isolation=True)\n",
    "test_env = tf_py_environment.TFPyEnvironment(env_test)\n",
    "\n",
    "action_spec = from_spec(train_env.action_spec())\n",
    "observation_spec = from_spec(train_env.observation_spec())\n",
    "reward_spec = from_spec(train_env.reward_spec())\n",
    "time_step_spec = trajectories.time_step_spec(observation_spec, reward_spec)"
   ]
  },
  {
   "cell_type": "markdown",
   "metadata": {},
   "source": [
    "### WandB"
   ]
  },
  {
   "cell_type": "code",
   "execution_count": 3,
   "metadata": {},
   "outputs": [],
   "source": [
    "! export WANDB_NOTEBOOK_NAME=\"main.ipynb\"\n",
    "import wandb\n",
    "\n",
    "PROJECT_NAME = \"Reinforcement Learning (DQN) - JVM-GC\"\n",
    "WANDB_KEY = \"4b077df3688052b0f43705d6b4d712c05fb979b7\"\n",
    "config = dict(\n",
    "    competition = PROJECT_NAME,\n",
    "    _wandb_kernel = 'lemon',\n",
    "    seed = 42,\n",
    ")"
   ]
  },
  {
   "cell_type": "code",
   "execution_count": 14,
   "metadata": {},
   "outputs": [],
   "source": [
    "def get_q_net(action_spec, fc_layer_params = (100, 75, 50)):\n",
    "    action_tensor_spec = tensor_spec.from_spec(action_spec)\n",
    "    num_actions = action_tensor_spec.maximum - action_tensor_spec.minimum + 1\n",
    "\n",
    "    def dense_layer(num_units):\n",
    "        \"\"\"\n",
    "        Define a helper function to create Dense layers configured \n",
    "        with the right activation and kernel initializer.\n",
    "        \"\"\"\n",
    "        return tf.keras.layers.Dense(\n",
    "            num_units,\n",
    "            activation=tf.keras.activations.relu,\n",
    "            kernel_initializer=tf.keras.initializers.VarianceScaling(\n",
    "                scale=2.0, mode='fan_in', distribution='truncated_normal'))\n",
    "\n",
    "    # QNetwork consists of a sequence of Dense layers followed by a dense layer\n",
    "    # with `num_actions` units to generate one q_value per available action as\n",
    "    # its output.\n",
    "    dense_layers = [dense_layer(num_units) for num_units in fc_layer_params]\n",
    "    q_values_layer = tf.keras.layers.Dense(\n",
    "        num_actions,\n",
    "        activation=None,\n",
    "        kernel_initializer=tf.keras.initializers.RandomUniform(\n",
    "            minval=-0.03, maxval=0.03),\n",
    "        bias_initializer=tf.keras.initializers.Constant(-0.2))\n",
    "    q_net = sequential.Sequential(dense_layers + [q_values_layer])\n",
    "    return q_net\n",
    "\n",
    "def collect_step(environment, policy, replay_buffer):\n",
    "    time_step = environment.current_time_step()\n",
    "    action_step = policy.action(time_step)\n",
    "\n",
    "    next_time_step = environment.step(action_step.action)\n",
    "    # reward = next_time_step.reward\n",
    "    traj = trajectory.from_transition(time_step, action_step, next_time_step)\n",
    "    return traj\n",
    "\n",
    "def save_dataset(data, path):\n",
    "    step_counter = tf.Variable(0, trainable=False)\n",
    "    checkpoint_prefix = \"checkpoint\"\n",
    "    checkpoint_args = {\n",
    "        \"checkpoint_interval\": 50,\n",
    "        \"step_counter\": step_counter,\n",
    "        \"directory\": checkpoint_prefix,\n",
    "        \"max_to_keep\": 3,\n",
    "    }\n",
    "    try:\n",
    "        data.save(path, checkpoint_args=checkpoint_args)\n",
    "    except:\n",
    "        pass\n",
    "\n",
    "def save_rb(replay_buffer, path):\n",
    "    tf.train.Checkpoint(rb = replay_buffer).save(path)\n",
    "\n",
    "def restore_rb(replay_buffer, path):\n",
    "    tf.train.Checkpoint(rb = replay_buffer).restore(path)\n",
    "\n",
    "def get_dataset(replay_buffer, size, batch_size, collect_data_spec, n_step_update, create: bool = True, save: bool = False):\n",
    "    \n",
    "    replay_buffer = tf_uniform_replay_buffer.TFUniformReplayBuffer(\n",
    "        data_spec=collect_data_spec, # agent.collect_data_spec\n",
    "        batch_size=1, # train_env.batch_size\n",
    "        max_length=size) # capacity\n",
    "\n",
    "    if create:\n",
    "        for _ in tqdm(range(size)):\n",
    "            traj = collect_step(train_env, random_policy, replay_buffer)\n",
    "            replay_buffer.add_batch(traj)\n",
    "\n",
    "        if save: save_rb(replay_buffer, dataset_path)\n",
    "    else: \n",
    "        restore_rb(replay_buffer, dataset_path+'-1')\n",
    "\n",
    "    dataset = replay_buffer.as_dataset(\n",
    "        num_parallel_calls=3, \n",
    "        sample_batch_size=batch_size,\n",
    "        num_steps=n_step_update + 1, \n",
    "        single_deterministic_pass=False).prefetch(3)\n",
    "    # iterator = iter(dataset)\n",
    "    return dataset\n",
    "    \n",
    "def compute_avg_return(environment, policy, num_episodes=50):\n",
    "    \"\"\"\n",
    "    Computes the average return of a policy, \n",
    "    given the policy, environment, and a number of episodes.\n",
    "\n",
    "    Note: for non-episodic tasks.\n",
    "    \"\"\"\n",
    "    total_return = 0.0\n",
    "    time_step = environment.reset()\n",
    "    for _ in tqdm(range(num_episodes)):\n",
    "        action_step = policy.action(time_step, seed=42)\n",
    "        time_step = environment.step(action_step.action)\n",
    "        total_return += time_step.reward\n",
    "\n",
    "    avg_return = total_return / num_episodes\n",
    "    return avg_return.numpy()[0]\n",
    "\n",
    "def compute_avg_return_episodic(environment, policy, num_episodes=10, patience=20):\n",
    "    \"\"\"\n",
    "    Computes the average return of a policy, \n",
    "    given the policy, environment, and a number of episodes.\n",
    "\n",
    "    Note: for episodic tasks.\n",
    "    \"\"\"\n",
    "    total_return = 0.0\n",
    "    for _ in tqdm(range(num_episodes)):\n",
    "\n",
    "        time_step = environment.reset()\n",
    "        episode_return = 0.0\n",
    "        i = 0\n",
    "        while not time_step.is_last():\n",
    "            if i >= patience:\n",
    "                break\n",
    "\n",
    "            action_step = policy.action(time_step)\n",
    "            time_step = environment.step(action_step.action)\n",
    "            # print(\"time step:\", action_step)\n",
    "            # print(\"action:\", action_step.action)\n",
    "            episode_return += time_step.reward\n",
    "            i += 1\n",
    "        total_return += episode_return\n",
    "\n",
    "    avg_return = total_return / num_episodes\n",
    "    return avg_return.numpy()[0]"
   ]
  },
  {
   "cell_type": "code",
   "execution_count": 7,
   "metadata": {},
   "outputs": [],
   "source": [
    "collect_steps_per_iteration = 1\n",
    "dataset_size = 10000\n",
    "fc_layer_params = (100, 75, 50)\n",
    "\n",
    "# batch_size = 128\n",
    "batch_size = 24\n",
    "# batch_size = 20\n",
    "learning_rate = 1e-3\n",
    "\n",
    "num_eval_episodes = 10  # @param {type:\"integer\"}\n",
    "eval_interval = 100  # @param {type:\"integer\"}\n",
    "n_step_update = 10\n",
    "\n",
    "initial_learning_rate = 0.1\n",
    "final_learning_rate = 0.0001\n",
    "\n",
    "epochs = 5000\n",
    "learning_rate_decay_factor = (final_learning_rate / initial_learning_rate)**(1/epochs)\n",
    "steps_per_epoch = 1\n",
    "\n",
    "lr_schedule = tf.keras.optimizers.schedules.ExponentialDecay(\n",
    "                initial_learning_rate=initial_learning_rate,\n",
    "                decay_steps=steps_per_epoch,\n",
    "                decay_rate=learning_rate_decay_factor,\n",
    "                staircase=True)\n",
    "\n",
    "agent_args = {\n",
    "    \"q_network\": \n",
    "        get_q_net(action_spec, fc_layer_params),\n",
    "    # \"optimizer\": tf.compat.v1.train.AdamOptimizer(learning_rate=learning_rate),\n",
    "    \"optimizer\": tf.keras.optimizers.legacy.SGD(learning_rate=lr_schedule),\n",
    "    \"n_step_update\": n_step_update, \n",
    "    \"td_errors_loss_fn\": tf.keras.losses.MeanSquaredError(),\n",
    "    # \"epsilon_greedy\": 0.9,  # Probability of choosing a random action\n",
    "    \"epsilon_greedy\": None,  # Probability of choosing a random action\n",
    "    \"boltzmann_temperature\": 0.9,\n",
    "    \"target_update_period\": 1000,\n",
    "    \"gamma\": 0.9999,        # The importance of future rewards\n",
    "    \"gradient_clipping\": 1,\n",
    "    \"train_step_counter\": \n",
    "        tf.compat.v1.train.get_or_create_global_step(),\n",
    "}"
   ]
  },
  {
   "cell_type": "code",
   "execution_count": 8,
   "metadata": {},
   "outputs": [
    {
     "name": "stderr",
     "output_type": "stream",
     "text": [
      "  0%|          | 0/10000 [00:00<?, ?it/s]"
     ]
    },
    {
     "name": "stderr",
     "output_type": "stream",
     "text": [
      "100%|██████████| 10000/10000 [00:14<00:00, 675.97it/s]\n"
     ]
    }
   ],
   "source": [
    "agent = dqn_agent.DqnAgent(\n",
    "  time_step_spec,\n",
    "  action_spec,\n",
    "  **agent_args\n",
    ")\n",
    "\n",
    "agent.initialize()\n",
    "\n",
    "random_policy = random_tf_policy.RandomTFPolicy(\n",
    "  time_step_spec = time_step_spec,\n",
    "  action_spec = action_spec,\n",
    "  automatic_state_reset=True,\n",
    "  clip=False\n",
    ")\n",
    "\n",
    "replay_buffer = tf_uniform_replay_buffer.TFUniformReplayBuffer(\n",
    "    data_spec=agent.collect_data_spec, # agent.collect_data_spec\n",
    "    batch_size=train_env.batch_size, # train_env.batch_size\n",
    "    max_length=dataset_size) # capacity\n",
    "\n",
    "create = True\n",
    "save = False\n",
    "if create:\n",
    "    for _ in tqdm(range(dataset_size)):\n",
    "        traj = collect_step(train_env, random_policy, replay_buffer)\n",
    "        replay_buffer.add_batch(traj)\n",
    "    if save: save_rb(replay_buffer, dataset_path)\n",
    "else: \n",
    "    restore_rb(replay_buffer, dataset_path+'-1')\n",
    "\n",
    "dataset = replay_buffer.as_dataset(\n",
    "    num_parallel_calls=3, \n",
    "    sample_batch_size=batch_size,\n",
    "    num_steps=n_step_update + 1, \n",
    "    single_deterministic_pass=False).prefetch(3)\n",
    "\n",
    "iterator = iter(dataset)"
   ]
  },
  {
   "cell_type": "code",
   "execution_count": 9,
   "metadata": {},
   "outputs": [
    {
     "name": "stdout",
     "output_type": "stream",
     "text": [
      "WARNING:tensorflow:From /Users/ellkrauze/projects/gc-ml/util/plots_util.py:15: ReplayBuffer.gather_all (from tf_agents.replay_buffers.replay_buffer) is deprecated and will be removed in a future version.\n",
      "Instructions for updating:\n",
      "Use `as_dataset(..., single_deterministic_pass=True)` instead.\n"
     ]
    },
    {
     "name": "stderr",
     "output_type": "stream",
     "text": [
      "WARNING:tensorflow:From /Users/ellkrauze/projects/gc-ml/util/plots_util.py:15: ReplayBuffer.gather_all (from tf_agents.replay_buffers.replay_buffer) is deprecated and will be removed in a future version.\n",
      "Instructions for updating:\n",
      "Use `as_dataset(..., single_deterministic_pass=True)` instead.\n"
     ]
    },
    {
     "data": {
      "image/png": "[encoded data removed]",
      "text/plain": [
       "<Figure size 500x500 with 2 Axes>"
      ]
     },
     "metadata": {},
     "output_type": "display_data"
    }
   ],
   "source": [
    "from util.plots_util import plot_dataset, plot_goal_heatmap\n",
    "\n",
    "plot_dataset(replay_buffer)\n",
    "# plot_goal_heatmap(env)"
   ]
  },
  {
   "cell_type": "markdown",
   "metadata": {},
   "source": [
    "## Agent Training"
   ]
  },
  {
   "cell_type": "code",
   "execution_count": 15,
   "metadata": {},
   "outputs": [],
   "source": [
    "def train(_agent, _env_train, _env_val, \n",
    "          steps: int = 5000, \n",
    "          use_wandb: bool = False,\n",
    "          eval_interval: int=100):\n",
    "    \"\"\"\n",
    "    Train reinforcement learning agent and evaluate\n",
    "    performance on a separate environment.\n",
    "    \"\"\"\n",
    "    seed = 42\n",
    "    total_return = 0.0\n",
    "\n",
    "    _env_train.reset()\n",
    "    _env_val.reset()\n",
    "    \n",
    "    _agent.train = common.function(_agent.train)\n",
    "    _agent.train_step_counter.assign(0)\n",
    "    _agent.initialize()\n",
    "    time_step = _env_val.reset()\n",
    "    policy_state = _agent.collect_policy.get_initial_state(_env_train.batch_size)\n",
    "\n",
    "    loss = []\n",
    "    observations = []\n",
    "\n",
    "    rewards = []\n",
    "    # avg_reward = compute_avg_return(_env_val, _agent.policy, num_episodes=50)\n",
    "    # rewards = [avg_reward]\n",
    "\n",
    "    for _ in tqdm(range(steps)):\n",
    "\n",
    "        # Add new trajectory to buffer with agent's collect_policy.\n",
    "        for _ in range(collect_steps_per_iteration):\n",
    "            traj = collect_step(_env_train, _agent.collect_policy, replay_buffer)\n",
    "            replay_buffer.add_batch(traj)\n",
    "\n",
    "        # Update the dataset.\n",
    "        _dataset = replay_buffer.as_dataset(\n",
    "            num_parallel_calls=3, \n",
    "            sample_batch_size=batch_size,\n",
    "            num_steps=n_step_update + 1, \n",
    "            single_deterministic_pass=False).prefetch(3)\n",
    "\n",
    "        _iterator = iter(_dataset)\n",
    "\n",
    "        # Iterate through the dataset, get a trajectory to learn.\n",
    "        experience, _ = next(_iterator)\n",
    "        train_loss = _agent.train(experience)\n",
    "\n",
    "        # Calculate a reward on evaluation environment\n",
    "        policy_step = _agent.policy.action(time_step, seed=seed)\n",
    "        time_step = _env_val.step(policy_step.action)\n",
    "        rwd = time_step.reward.numpy()[0]\n",
    "        obs = time_step.observation.numpy()[0]\n",
    "        total_return += rwd # Calculate a sum of rewards\n",
    "\n",
    "        step = _agent.train_step_counter.numpy()\n",
    "\n",
    "        if step % eval_interval == 0:\n",
    "            # avg_reward = total_return / eval_interval\n",
    "            # avg_reward = compute_avg_return(_env_val, _agent.policy, num_episodes=50)\n",
    "            avg_reward = compute_avg_return_episodic(_env_val, _agent.policy, num_episodes=50)\n",
    "            total_return = 0.0 # reset\n",
    "\n",
    "            loss.append(train_loss.loss.numpy())\n",
    "            observations.append(obs)\n",
    "            rewards.append(avg_reward)\n",
    "\n",
    "            # wandb logger for tuning hyperparameters\n",
    "            if use_wandb:\n",
    "                wandb.log({'loss': train_loss.loss, 'reward': avg_reward})\n",
    "\n",
    "            print(f\"step = {step}: loss = {train_loss.loss}, reward = {avg_reward}\")\n",
    "    \n",
    "    return loss, observations, rewards"
   ]
  },
  {
   "cell_type": "code",
   "execution_count": 16,
   "metadata": {},
   "outputs": [
    {
     "name": "stderr",
     "output_type": "stream",
     "text": [
      "  0%|          | 0/5000 [00:00<?, ?it/s]"
     ]
    },
    {
     "name": "stderr",
     "output_type": "stream",
     "text": [
      "100%|██████████| 50/50 [00:02<00:00, 18.40it/s]s]\n",
      "  2%|▏         | 102/5000 [00:11<30:13,  2.70it/s]"
     ]
    },
    {
     "name": "stdout",
     "output_type": "stream",
     "text": [
      "step = 100: loss = 0.15524066984653473, reward = 11.989802360534668\n"
     ]
    },
    {
     "name": "stderr",
     "output_type": "stream",
     "text": [
      "100%|██████████| 50/50 [00:02<00:00, 19.00it/s]/s]\n",
      "  4%|▍         | 202/5000 [00:23<30:39,  2.61it/s]"
     ]
    },
    {
     "name": "stdout",
     "output_type": "stream",
     "text": [
      "step = 200: loss = 0.0840921476483345, reward = 11.978577613830566\n"
     ]
    },
    {
     "name": "stderr",
     "output_type": "stream",
     "text": [
      "100%|██████████| 50/50 [00:02<00:00, 17.92it/s]/s]\n",
      "  6%|▌         | 301/5000 [00:35<40:04,  1.95it/s]"
     ]
    },
    {
     "name": "stdout",
     "output_type": "stream",
     "text": [
      "step = 300: loss = 0.15571193397045135, reward = 11.968605995178223\n"
     ]
    },
    {
     "name": "stderr",
     "output_type": "stream",
     "text": [
      "100%|██████████| 50/50 [00:02<00:00, 19.31it/s]/s]\n",
      "  8%|▊         | 401/5000 [00:46<36:09,  2.12it/s]"
     ]
    },
    {
     "name": "stdout",
     "output_type": "stream",
     "text": [
      "step = 400: loss = 0.1489579826593399, reward = 11.96014404296875\n"
     ]
    },
    {
     "name": "stderr",
     "output_type": "stream",
     "text": [
      "100%|██████████| 50/50 [00:02<00:00, 19.57it/s]/s]\n",
      " 10%|█         | 502/5000 [00:57<26:22,  2.84it/s]"
     ]
    },
    {
     "name": "stdout",
     "output_type": "stream",
     "text": [
      "step = 500: loss = 0.17857547104358673, reward = 11.952518463134766\n"
     ]
    },
    {
     "name": "stderr",
     "output_type": "stream",
     "text": [
      "100%|██████████| 50/50 [00:02<00:00, 19.05it/s]/s]\n",
      " 12%|█▏        | 602/5000 [01:09<26:31,  2.76it/s]"
     ]
    },
    {
     "name": "stdout",
     "output_type": "stream",
     "text": [
      "step = 600: loss = 0.1740656942129135, reward = 11.945574760437012\n"
     ]
    },
    {
     "name": "stderr",
     "output_type": "stream",
     "text": [
      "100%|██████████| 50/50 [00:02<00:00, 18.87it/s]/s]\n",
      " 14%|█▍        | 702/5000 [01:21<26:07,  2.74it/s]"
     ]
    },
    {
     "name": "stdout",
     "output_type": "stream",
     "text": [
      "step = 700: loss = 0.14874297380447388, reward = 11.939336776733398\n"
     ]
    },
    {
     "name": "stderr",
     "output_type": "stream",
     "text": [
      "100%|██████████| 50/50 [00:02<00:00, 18.57it/s]/s]\n",
      " 16%|█▌        | 801/5000 [01:33<29:46,  2.35it/s]"
     ]
    },
    {
     "name": "stdout",
     "output_type": "stream",
     "text": [
      "step = 800: loss = 0.19293558597564697, reward = 11.933523178100586\n"
     ]
    },
    {
     "name": "stderr",
     "output_type": "stream",
     "text": [
      "100%|██████████| 50/50 [00:02<00:00, 18.72it/s]/s]\n",
      " 18%|█▊        | 901/5000 [01:45<33:39,  2.03it/s]"
     ]
    },
    {
     "name": "stdout",
     "output_type": "stream",
     "text": [
      "step = 900: loss = 0.1699562519788742, reward = 11.928423881530762\n"
     ]
    },
    {
     "name": "stderr",
     "output_type": "stream",
     "text": [
      "100%|██████████| 50/50 [00:02<00:00, 18.40it/s]/s]\n",
      " 20%|██        | 1001/5000 [01:57<28:50,  2.31it/s]"
     ]
    },
    {
     "name": "stdout",
     "output_type": "stream",
     "text": [
      "step = 1000: loss = 0.2110428363084793, reward = 11.923633575439453\n"
     ]
    },
    {
     "name": "stderr",
     "output_type": "stream",
     "text": [
      "100%|██████████| 50/50 [00:02<00:00, 17.78it/s]t/s]\n",
      " 22%|██▏       | 1101/5000 [02:10<33:08,  1.96it/s]"
     ]
    },
    {
     "name": "stdout",
     "output_type": "stream",
     "text": [
      "step = 1100: loss = 0.2395891398191452, reward = 11.919183731079102\n"
     ]
    },
    {
     "name": "stderr",
     "output_type": "stream",
     "text": [
      "100%|██████████| 50/50 [00:02<00:00, 17.26it/s]t/s]\n",
      " 24%|██▍       | 1201/5000 [02:23<28:38,  2.21it/s]"
     ]
    },
    {
     "name": "stdout",
     "output_type": "stream",
     "text": [
      "step = 1200: loss = 0.14192913472652435, reward = 11.915157318115234\n"
     ]
    },
    {
     "name": "stderr",
     "output_type": "stream",
     "text": [
      "100%|██████████| 50/50 [00:03<00:00, 15.94it/s]t/s]\n",
      " 26%|██▌       | 1301/5000 [02:36<30:05,  2.05it/s]"
     ]
    },
    {
     "name": "stdout",
     "output_type": "stream",
     "text": [
      "step = 1300: loss = 0.11254499107599258, reward = 11.911437034606934\n"
     ]
    },
    {
     "name": "stderr",
     "output_type": "stream",
     "text": [
      "100%|██████████| 50/50 [00:02<00:00, 17.92it/s]t/s]\n",
      " 28%|██▊       | 1401/5000 [02:49<30:22,  1.97it/s]"
     ]
    },
    {
     "name": "stdout",
     "output_type": "stream",
     "text": [
      "step = 1400: loss = 0.21589238941669464, reward = 11.907937049865723\n"
     ]
    },
    {
     "name": "stderr",
     "output_type": "stream",
     "text": [
      "100%|██████████| 50/50 [00:03<00:00, 15.07it/s]t/s]\n",
      " 30%|███       | 1501/5000 [03:01<29:18,  1.99it/s]"
     ]
    },
    {
     "name": "stdout",
     "output_type": "stream",
     "text": [
      "step = 1500: loss = 0.2813939154148102, reward = 11.904711723327637\n"
     ]
    },
    {
     "name": "stderr",
     "output_type": "stream",
     "text": [
      "100%|██████████| 50/50 [00:02<00:00, 19.00it/s]t/s]\n",
      " 32%|███▏      | 1602/5000 [03:15<21:02,  2.69it/s]"
     ]
    },
    {
     "name": "stdout",
     "output_type": "stream",
     "text": [
      "step = 1600: loss = 0.10100006312131882, reward = 11.901647567749023\n"
     ]
    },
    {
     "name": "stderr",
     "output_type": "stream",
     "text": [
      "100%|██████████| 50/50 [00:02<00:00, 17.23it/s]t/s]\n",
      " 34%|███▍      | 1701/5000 [03:28<29:37,  1.86it/s]"
     ]
    },
    {
     "name": "stdout",
     "output_type": "stream",
     "text": [
      "step = 1700: loss = 0.16122904419898987, reward = 11.898828506469727\n"
     ]
    },
    {
     "name": "stderr",
     "output_type": "stream",
     "text": [
      "100%|██████████| 50/50 [00:02<00:00, 19.12it/s]t/s]\n",
      " 36%|███▌      | 1802/5000 [03:40<19:17,  2.76it/s]"
     ]
    },
    {
     "name": "stdout",
     "output_type": "stream",
     "text": [
      "step = 1800: loss = 0.09726575016975403, reward = 11.896161079406738\n"
     ]
    },
    {
     "name": "stderr",
     "output_type": "stream",
     "text": [
      "100%|██████████| 50/50 [00:02<00:00, 19.09it/s]t/s]\n",
      " 38%|███▊      | 1902/5000 [03:53<18:46,  2.75it/s]"
     ]
    },
    {
     "name": "stdout",
     "output_type": "stream",
     "text": [
      "step = 1900: loss = 0.07150854915380478, reward = 11.893571853637695\n"
     ]
    },
    {
     "name": "stderr",
     "output_type": "stream",
     "text": [
      "100%|██████████| 50/50 [00:02<00:00, 18.69it/s]t/s]\n",
      " 40%|████      | 2002/5000 [04:04<18:52,  2.65it/s]"
     ]
    },
    {
     "name": "stdout",
     "output_type": "stream",
     "text": [
      "step = 2000: loss = 0.19435246288776398, reward = 11.891142845153809\n"
     ]
    },
    {
     "name": "stderr",
     "output_type": "stream",
     "text": [
      "100%|██████████| 50/50 [00:02<00:00, 16.90it/s]t/s]\n",
      " 42%|████▏     | 2101/5000 [04:18<36:02,  1.34it/s]"
     ]
    },
    {
     "name": "stdout",
     "output_type": "stream",
     "text": [
      "step = 2100: loss = 0.14243020117282867, reward = 11.888810157775879\n"
     ]
    },
    {
     "name": "stderr",
     "output_type": "stream",
     "text": [
      "100%|██████████| 50/50 [00:02<00:00, 19.12it/s]t/s]\n",
      " 44%|████▍     | 2202/5000 [04:29<16:49,  2.77it/s]"
     ]
    },
    {
     "name": "stdout",
     "output_type": "stream",
     "text": [
      "step = 2200: loss = 0.10555724054574966, reward = 11.88662338256836\n"
     ]
    },
    {
     "name": "stderr",
     "output_type": "stream",
     "text": [
      "100%|██████████| 50/50 [00:02<00:00, 18.40it/s]t/s]\n",
      " 46%|████▌     | 2302/5000 [04:42<19:14,  2.34it/s]"
     ]
    },
    {
     "name": "stdout",
     "output_type": "stream",
     "text": [
      "step = 2300: loss = 0.062179457396268845, reward = 11.884521484375\n"
     ]
    },
    {
     "name": "stderr",
     "output_type": "stream",
     "text": [
      "100%|██████████| 50/50 [00:02<00:00, 18.96it/s]t/s]\n",
      " 48%|████▊     | 2401/5000 [04:55<18:42,  2.32it/s]"
     ]
    },
    {
     "name": "stdout",
     "output_type": "stream",
     "text": [
      "step = 2400: loss = 0.26490846276283264, reward = 11.882529258728027\n"
     ]
    },
    {
     "name": "stderr",
     "output_type": "stream",
     "text": [
      "100%|██████████| 50/50 [00:02<00:00, 19.20it/s]t/s]\n",
      " 50%|█████     | 2501/5000 [05:08<19:53,  2.09it/s]"
     ]
    },
    {
     "name": "stdout",
     "output_type": "stream",
     "text": [
      "step = 2500: loss = 0.12100610882043839, reward = 11.880606651306152\n"
     ]
    },
    {
     "name": "stderr",
     "output_type": "stream",
     "text": [
      "100%|██████████| 50/50 [00:00<00:00, 66.98it/s]t/s]\n",
      " 52%|█████▏    | 2602/5000 [05:18<07:44,  5.16it/s]"
     ]
    },
    {
     "name": "stdout",
     "output_type": "stream",
     "text": [
      "step = 2600: loss = 0.11991270631551743, reward = 4.122697830200195\n"
     ]
    },
    {
     "name": "stderr",
     "output_type": "stream",
     "text": [
      "100%|██████████| 50/50 [00:00<00:00, 84.61it/s]t/s]\n",
      " 54%|█████▍    | 2701/5000 [05:29<07:50,  4.88it/s]"
     ]
    },
    {
     "name": "stdout",
     "output_type": "stream",
     "text": [
      "step = 2700: loss = 0.10168454796075821, reward = 4.121768951416016\n"
     ]
    },
    {
     "name": "stderr",
     "output_type": "stream",
     "text": [
      "100%|██████████| 50/50 [00:00<00:00, 90.93it/s]t/s]\n",
      " 56%|█████▌    | 2802/5000 [05:39<06:19,  5.80it/s]"
     ]
    },
    {
     "name": "stdout",
     "output_type": "stream",
     "text": [
      "step = 2800: loss = 0.18007953464984894, reward = 4.12086820602417\n"
     ]
    },
    {
     "name": "stderr",
     "output_type": "stream",
     "text": [
      "100%|██████████| 50/50 [00:00<00:00, 90.57it/s]t/s]\n",
      " 58%|█████▊    | 2901/5000 [05:50<06:02,  5.79it/s]"
     ]
    },
    {
     "name": "stdout",
     "output_type": "stream",
     "text": [
      "step = 2900: loss = 0.10984056442975998, reward = 4.120026111602783\n"
     ]
    },
    {
     "name": "stderr",
     "output_type": "stream",
     "text": [
      "100%|██████████| 50/50 [00:00<00:00, 87.65it/s]t/s]\n",
      " 60%|██████    | 3001/5000 [06:02<06:09,  5.41it/s]"
     ]
    },
    {
     "name": "stdout",
     "output_type": "stream",
     "text": [
      "step = 3000: loss = 0.13239674270153046, reward = 4.1191253662109375\n"
     ]
    },
    {
     "name": "stderr",
     "output_type": "stream",
     "text": [
      "100%|██████████| 50/50 [00:00<00:00, 89.26it/s]t/s]\n",
      " 62%|██████▏   | 3101/5000 [06:12<05:53,  5.37it/s]"
     ]
    },
    {
     "name": "stdout",
     "output_type": "stream",
     "text": [
      "step = 3100: loss = 0.25683507323265076, reward = 4.118366241455078\n"
     ]
    },
    {
     "name": "stderr",
     "output_type": "stream",
     "text": [
      "100%|██████████| 50/50 [00:00<00:00, 91.62it/s]t/s]\n",
      " 64%|██████▍   | 3202/5000 [06:22<04:20,  6.91it/s]"
     ]
    },
    {
     "name": "stdout",
     "output_type": "stream",
     "text": [
      "step = 3200: loss = 0.16931742429733276, reward = 4.117570877075195\n"
     ]
    },
    {
     "name": "stderr",
     "output_type": "stream",
     "text": [
      "100%|██████████| 50/50 [00:00<00:00, 91.42it/s]t/s]\n",
      " 66%|██████▌   | 3301/5000 [06:33<04:55,  5.76it/s]"
     ]
    },
    {
     "name": "stdout",
     "output_type": "stream",
     "text": [
      "step = 3300: loss = 0.1502377837896347, reward = 4.1168317794799805\n"
     ]
    },
    {
     "name": "stderr",
     "output_type": "stream",
     "text": [
      "100%|██████████| 50/50 [00:00<00:00, 88.89it/s]t/s]\n",
      " 68%|██████▊   | 3401/5000 [06:42<05:00,  5.32it/s]"
     ]
    },
    {
     "name": "stdout",
     "output_type": "stream",
     "text": [
      "step = 3400: loss = 0.09375574439764023, reward = 4.1161417961120605\n"
     ]
    },
    {
     "name": "stderr",
     "output_type": "stream",
     "text": [
      "100%|██████████| 50/50 [00:00<00:00, 91.27it/s]t/s]\n",
      " 70%|███████   | 3501/5000 [06:52<04:17,  5.82it/s]"
     ]
    },
    {
     "name": "stdout",
     "output_type": "stream",
     "text": [
      "step = 3500: loss = 0.10210023075342178, reward = 4.115473747253418\n"
     ]
    },
    {
     "name": "stderr",
     "output_type": "stream",
     "text": [
      "100%|██████████| 50/50 [00:00<00:00, 91.74it/s]t/s]\n",
      " 72%|███████▏  | 3600/5000 [07:04<04:06,  5.69it/s]"
     ]
    },
    {
     "name": "stdout",
     "output_type": "stream",
     "text": [
      "step = 3600: loss = 0.1640099138021469, reward = 4.114868640899658\n"
     ]
    },
    {
     "name": "stderr",
     "output_type": "stream",
     "text": [
      "100%|██████████| 50/50 [00:00<00:00, 90.76it/s]t/s]\n",
      " 74%|███████▍  | 3702/5000 [07:14<03:11,  6.79it/s]"
     ]
    },
    {
     "name": "stdout",
     "output_type": "stream",
     "text": [
      "step = 3700: loss = 0.13673539459705353, reward = 4.114370346069336\n"
     ]
    },
    {
     "name": "stderr",
     "output_type": "stream",
     "text": [
      "100%|██████████| 50/50 [00:00<00:00, 92.36it/s]t/s]\n",
      " 76%|███████▌  | 3802/5000 [07:24<03:09,  6.31it/s]"
     ]
    },
    {
     "name": "stdout",
     "output_type": "stream",
     "text": [
      "step = 3800: loss = 0.1478184312582016, reward = 4.113801002502441\n"
     ]
    },
    {
     "name": "stderr",
     "output_type": "stream",
     "text": [
      "100%|██████████| 50/50 [00:00<00:00, 91.20it/s]t/s]\n",
      " 78%|███████▊  | 3900/5000 [07:36<03:18,  5.55it/s]"
     ]
    },
    {
     "name": "stdout",
     "output_type": "stream",
     "text": [
      "step = 3900: loss = 0.193813756108284, reward = 4.113282680511475\n"
     ]
    },
    {
     "name": "stderr",
     "output_type": "stream",
     "text": [
      "100%|██████████| 50/50 [00:00<00:00, 90.13it/s]t/s]\n",
      " 80%|████████  | 4001/5000 [07:46<02:55,  5.71it/s]"
     ]
    },
    {
     "name": "stdout",
     "output_type": "stream",
     "text": [
      "step = 4000: loss = 0.1775280088186264, reward = 4.112780570983887\n"
     ]
    },
    {
     "name": "stderr",
     "output_type": "stream",
     "text": [
      "100%|██████████| 50/50 [00:00<00:00, 84.32it/s]t/s]\n",
      " 82%|████████▏ | 4101/5000 [07:56<02:50,  5.27it/s]"
     ]
    },
    {
     "name": "stdout",
     "output_type": "stream",
     "text": [
      "step = 4100: loss = 0.1389385312795639, reward = 4.112266540527344\n"
     ]
    },
    {
     "name": "stderr",
     "output_type": "stream",
     "text": [
      "100%|██████████| 50/50 [00:00<00:00, 90.36it/s]t/s]\n",
      " 84%|████████▍ | 4201/5000 [08:08<02:28,  5.39it/s]"
     ]
    },
    {
     "name": "stdout",
     "output_type": "stream",
     "text": [
      "step = 4200: loss = 0.3191501796245575, reward = 4.111846923828125\n"
     ]
    },
    {
     "name": "stderr",
     "output_type": "stream",
     "text": [
      "100%|██████████| 50/50 [00:00<00:00, 77.99it/s]t/s]\n",
      " 86%|████████▌ | 4301/5000 [08:19<02:49,  4.13it/s]"
     ]
    },
    {
     "name": "stdout",
     "output_type": "stream",
     "text": [
      "step = 4300: loss = 0.17619948089122772, reward = 4.111364364624023\n"
     ]
    },
    {
     "name": "stderr",
     "output_type": "stream",
     "text": [
      "100%|██████████| 50/50 [00:00<00:00, 71.83it/s]t/s]\n",
      " 88%|████████▊ | 4402/5000 [08:29<01:39,  6.03it/s]"
     ]
    },
    {
     "name": "stdout",
     "output_type": "stream",
     "text": [
      "step = 4400: loss = 0.24093137681484222, reward = 4.110896110534668\n"
     ]
    },
    {
     "name": "stderr",
     "output_type": "stream",
     "text": [
      "100%|██████████| 50/50 [00:00<00:00, 70.49it/s]t/s]\n",
      " 90%|█████████ | 4501/5000 [08:40<02:54,  2.87it/s]"
     ]
    },
    {
     "name": "stdout",
     "output_type": "stream",
     "text": [
      "step = 4500: loss = 0.09015157073736191, reward = 4.11052942276001\n"
     ]
    },
    {
     "name": "stderr",
     "output_type": "stream",
     "text": [
      "100%|██████████| 50/50 [00:00<00:00, 68.96it/s]t/s]\n",
      " 92%|█████████▏| 4602/5000 [08:51<01:15,  5.27it/s]"
     ]
    },
    {
     "name": "stdout",
     "output_type": "stream",
     "text": [
      "step = 4600: loss = 0.2335057258605957, reward = 4.110128879547119\n"
     ]
    },
    {
     "name": "stderr",
     "output_type": "stream",
     "text": [
      "100%|██████████| 50/50 [00:00<00:00, 91.90it/s]t/s]\n",
      " 94%|█████████▍| 4702/5000 [09:00<00:43,  6.82it/s]"
     ]
    },
    {
     "name": "stdout",
     "output_type": "stream",
     "text": [
      "step = 4700: loss = 0.23590831458568573, reward = 4.1097235679626465\n"
     ]
    },
    {
     "name": "stderr",
     "output_type": "stream",
     "text": [
      "100%|██████████| 50/50 [00:00<00:00, 86.48it/s]t/s]\n",
      " 96%|█████████▌| 4801/5000 [09:11<00:32,  6.06it/s]"
     ]
    },
    {
     "name": "stdout",
     "output_type": "stream",
     "text": [
      "step = 4800: loss = 0.18132583796977997, reward = 4.109341144561768\n"
     ]
    },
    {
     "name": "stderr",
     "output_type": "stream",
     "text": [
      "100%|██████████| 50/50 [00:00<00:00, 90.98it/s]t/s]\n",
      " 98%|█████████▊| 4901/5000 [09:23<00:17,  5.65it/s]"
     ]
    },
    {
     "name": "stdout",
     "output_type": "stream",
     "text": [
      "step = 4900: loss = 0.21041379868984222, reward = 4.108991622924805\n"
     ]
    },
    {
     "name": "stderr",
     "output_type": "stream",
     "text": [
      "100%|██████████| 50/50 [00:00<00:00, 81.51it/s]t/s]\n",
      "100%|██████████| 5000/5000 [09:32<00:00,  8.73it/s]"
     ]
    },
    {
     "name": "stdout",
     "output_type": "stream",
     "text": [
      "step = 5000: loss = 0.12847886979579926, reward = 4.108616352081299\n"
     ]
    },
    {
     "name": "stderr",
     "output_type": "stream",
     "text": [
      "\n"
     ]
    }
   ],
   "source": [
    "# num_steps = 20000\n",
    "num_steps = 5000\n",
    "loss, observations, rewards = train(agent, train_env, eval_env, steps = num_steps)"
   ]
  },
  {
   "cell_type": "code",
   "execution_count": 17,
   "metadata": {},
   "outputs": [
    {
     "data": {
      "image/png": "[encoded data removed]",
      "text/plain": [
       "<Figure size 640x480 with 2 Axes>"
      ]
     },
     "metadata": {},
     "output_type": "display_data"
    }
   ],
   "source": [
    "fig, ax1 = plt.subplots()\n",
    "\n",
    "steps = [step for step in range(0, num_steps, 100)]\n",
    "color = 'tab:red'\n",
    "ax1.set_xlabel('steps')\n",
    "ax1.set_ylabel('loss', color=color)\n",
    "ax1.plot(steps, loss, color=color)\n",
    "ax1.tick_params(axis='y', labelcolor=color)\n",
    "\n",
    "ax2 = ax1.twinx()  # instantiate a second axes that shares the same x-axis\n",
    "\n",
    "color = 'tab:blue'\n",
    "ax2.set_ylabel('rewards', color=color)  # we already handled the x-label with ax1\n",
    "ax2.plot(steps, rewards, color=color)\n",
    "ax2.tick_params(axis='y', labelcolor=color)\n",
    "\n",
    "fig.tight_layout()  # otherwise the right y-label is slightly clipped\n",
    "plt.show()"
   ]
  },
  {
   "cell_type": "code",
   "execution_count": null,
   "metadata": {},
   "outputs": [
    {
     "ename": "NameError",
     "evalue": "name 'plt' is not defined",
     "output_type": "error",
     "traceback": [
      "\u001b[0;31m---------------------------------------------------------------------------\u001b[0m",
      "\u001b[0;31mNameError\u001b[0m                                 Traceback (most recent call last)",
      "\u001b[1;32m/Users/ellkrauze/projects/gc-ml/main_dqn.ipynb Cell 28\u001b[0m line \u001b[0;36m1\n\u001b[0;32m----> <a href='vscode-notebook-cell:/Users/ellkrauze/projects/gc-ml/main_dqn.ipynb#X36sZmlsZQ%3D%3D?line=0'>1</a>\u001b[0m plt\u001b[39m.\u001b[39mplot(rewards, label\u001b[39m=\u001b[39m\u001b[39m\"\u001b[39m\u001b[39mRewards\u001b[39m\u001b[39m\"\u001b[39m)\n\u001b[1;32m      <a href='vscode-notebook-cell:/Users/ellkrauze/projects/gc-ml/main_dqn.ipynb#X36sZmlsZQ%3D%3D?line=1'>2</a>\u001b[0m plt\u001b[39m.\u001b[39mxlabel(\u001b[39m'\u001b[39m\u001b[39mStep\u001b[39m\u001b[39m'\u001b[39m)\n\u001b[1;32m      <a href='vscode-notebook-cell:/Users/ellkrauze/projects/gc-ml/main_dqn.ipynb#X36sZmlsZQ%3D%3D?line=2'>3</a>\u001b[0m plt\u001b[39m.\u001b[39mlegend()\n",
      "\u001b[0;31mNameError\u001b[0m: name 'plt' is not defined"
     ]
    }
   ],
   "source": [
    "plt.plot(rewards, label=\"Rewards\")\n",
    "plt.xlabel('Step')\n",
    "plt.legend()\n",
    "plt.show()"
   ]
  },
  {
   "cell_type": "code",
   "execution_count": 12,
   "metadata": {},
   "outputs": [
    {
     "data": {
      "image/png": "[encoded data removed]",
      "text/plain": [
       "<Figure size 640x480 with 1 Axes>"
      ]
     },
     "metadata": {},
     "output_type": "display_data"
    }
   ],
   "source": [
    "plt.plot(loss, label=\"Loss\", c='r')\n",
    "# plt.plot(rewards, label=\"Rewards\")\n",
    "plt.xlabel('Step')\n",
    "plt.legend()\n",
    "plt.show()"
   ]
  },
  {
   "cell_type": "markdown",
   "metadata": {},
   "source": [
    "Save to checkpoint."
   ]
  },
  {
   "cell_type": "code",
   "execution_count": null,
   "metadata": {},
   "outputs": [],
   "source": [
    "# train_checkpointer.save(global_step)"
   ]
  },
  {
   "cell_type": "markdown",
   "metadata": {},
   "source": [
    "# WandB"
   ]
  },
  {
   "cell_type": "code",
   "execution_count": 9,
   "metadata": {},
   "outputs": [
    {
     "name": "stderr",
     "output_type": "stream",
     "text": [
      "ERROR:wandb.jupyter:Failed to detect the name of this notebook, you can set it manually with the WANDB_NOTEBOOK_NAME environment variable to enable code saving.\n"
     ]
    },
    {
     "name": "stdout",
     "output_type": "stream",
     "text": [
      "Create sweep with ID: srh8mikx\n",
      "Sweep URL: https://wandb.ai/cold-machines/Reinforcement%20Learning%20%28DQN%29%20-%20JVM-GC/sweeps/srh8mikx\n"
     ]
    },
    {
     "name": "stderr",
     "output_type": "stream",
     "text": [
      "\u001b[34m\u001b[1mwandb\u001b[0m: Agent Starting Run: 86wuplng with config:\n",
      "\u001b[34m\u001b[1mwandb\u001b[0m: \tepsilon_greedy: 0.7\n",
      "\u001b[34m\u001b[1mwandb\u001b[0m: \tgamma: 0.1\n",
      "\u001b[34m\u001b[1mwandb\u001b[0m: \tlearning_rate: 0.009081865474555018\n",
      "\u001b[34m\u001b[1mwandb\u001b[0m: \ttarget_update_period: 100\n",
      "ERROR:wandb.jupyter:Failed to detect the name of this notebook, you can set it manually with the WANDB_NOTEBOOK_NAME environment variable to enable code saving.\n",
      "\u001b[34m\u001b[1mwandb\u001b[0m: Currently logged in as: \u001b[33mvaleriia-sakovskaia\u001b[0m (\u001b[33mcold-machines\u001b[0m). Use \u001b[1m`wandb login --relogin`\u001b[0m to force relogin\n"
     ]
    },
    {
     "data": {
      "text/html": [
       "Tracking run with wandb version 0.15.12"
      ],
      "text/plain": [
       "<IPython.core.display.HTML object>"
      ]
     },
     "metadata": {},
     "output_type": "display_data"
    },
    {
     "data": {
      "text/html": [
       "Run data is saved locally in <code>/home/vsakovskaya/gc-ml/wandb/run-20231031_074257-86wuplng</code>"
      ],
      "text/plain": [
       "<IPython.core.display.HTML object>"
      ]
     },
     "metadata": {},
     "output_type": "display_data"
    },
    {
     "data": {
      "text/html": [
       "Syncing run <strong><a href='https://wandb.ai/cold-machines/Reinforcement%20Learning%20%28DQN%29%20-%20JVM-GC/runs/86wuplng' target=\"_blank\">rare-sweep-1</a></strong> to <a href='https://wandb.ai/cold-machines/Reinforcement%20Learning%20%28DQN%29%20-%20JVM-GC' target=\"_blank\">Weights & Biases</a> (<a href='https://wandb.me/run' target=\"_blank\">docs</a>)<br/>Sweep page: <a href='https://wandb.ai/cold-machines/Reinforcement%20Learning%20%28DQN%29%20-%20JVM-GC/sweeps/srh8mikx' target=\"_blank\">https://wandb.ai/cold-machines/Reinforcement%20Learning%20%28DQN%29%20-%20JVM-GC/sweeps/srh8mikx</a>"
      ],
      "text/plain": [
       "<IPython.core.display.HTML object>"
      ]
     },
     "metadata": {},
     "output_type": "display_data"
    },
    {
     "data": {
      "text/html": [
       " View project at <a href='https://wandb.ai/cold-machines/Reinforcement%20Learning%20%28DQN%29%20-%20JVM-GC' target=\"_blank\">https://wandb.ai/cold-machines/Reinforcement%20Learning%20%28DQN%29%20-%20JVM-GC</a>"
      ],
      "text/plain": [
       "<IPython.core.display.HTML object>"
      ]
     },
     "metadata": {},
     "output_type": "display_data"
    },
    {
     "data": {
      "text/html": [
       " View sweep at <a href='https://wandb.ai/cold-machines/Reinforcement%20Learning%20%28DQN%29%20-%20JVM-GC/sweeps/srh8mikx' target=\"_blank\">https://wandb.ai/cold-machines/Reinforcement%20Learning%20%28DQN%29%20-%20JVM-GC/sweeps/srh8mikx</a>"
      ],
      "text/plain": [
       "<IPython.core.display.HTML object>"
      ]
     },
     "metadata": {},
     "output_type": "display_data"
    },
    {
     "data": {
      "text/html": [
       " View run at <a href='https://wandb.ai/cold-machines/Reinforcement%20Learning%20%28DQN%29%20-%20JVM-GC/runs/86wuplng' target=\"_blank\">https://wandb.ai/cold-machines/Reinforcement%20Learning%20%28DQN%29%20-%20JVM-GC/runs/86wuplng</a>"
      ],
      "text/plain": [
       "<IPython.core.display.HTML object>"
      ]
     },
     "metadata": {},
     "output_type": "display_data"
    },
    {
     "name": "stderr",
     "output_type": "stream",
     "text": [
      "100%|██████████| 50/50 [00:00<00:00, 149.90it/s]\n",
      "  0%|          | 0/5000 [00:00<?, ?it/s]"
     ]
    },
    {
     "name": "stdout",
     "output_type": "stream",
     "text": [
      "WARNING:tensorflow:From /home/vsakovskaya/my-env/lib/python3.9/site-packages/tensorflow/python/util/dispatch.py:1176: calling foldr_v2 (from tensorflow.python.ops.functional_ops) with back_prop=False is deprecated and will be removed in a future version.\n",
      "Instructions for updating:\n",
      "back_prop=False is deprecated. Consider using tf.stop_gradient instead.\n",
      "Instead of:\n",
      "results = tf.foldr(fn, elems, back_prop=False)\n",
      "Use:\n",
      "results = tf.nest.map_structure(tf.stop_gradient, tf.foldr(fn, elems))\n"
     ]
    },
    {
     "name": "stderr",
     "output_type": "stream",
     "text": [
      "WARNING:tensorflow:From /home/vsakovskaya/my-env/lib/python3.9/site-packages/tensorflow/python/util/dispatch.py:1176: calling foldr_v2 (from tensorflow.python.ops.functional_ops) with back_prop=False is deprecated and will be removed in a future version.\n",
      "Instructions for updating:\n",
      "back_prop=False is deprecated. Consider using tf.stop_gradient instead.\n",
      "Instead of:\n",
      "results = tf.foldr(fn, elems, back_prop=False)\n",
      "Use:\n",
      "results = tf.nest.map_structure(tf.stop_gradient, tf.foldr(fn, elems))\n",
      "100%|██████████| 50/50 [00:00<00:00, 138.65it/s]] \n",
      "  2%|▏         | 101/5000 [00:16<18:44,  4.36it/s]"
     ]
    },
    {
     "name": "stdout",
     "output_type": "stream",
     "text": [
      "step = 100: loss = 0.051988594233989716, reward = -0.05968308076262474\n"
     ]
    },
    {
     "name": "stderr",
     "output_type": "stream",
     "text": [
      "100%|██████████| 50/50 [00:00<00:00, 142.71it/s]s]\n",
      "  4%|▍         | 201/5000 [00:32<17:56,  4.46it/s]"
     ]
    },
    {
     "name": "stdout",
     "output_type": "stream",
     "text": [
      "step = 200: loss = 0.04959993064403534, reward = -0.05968308076262474\n"
     ]
    },
    {
     "name": "stderr",
     "output_type": "stream",
     "text": [
      "100%|██████████| 50/50 [00:00<00:00, 150.07it/s]s]\n",
      "  6%|▌         | 301/5000 [00:48<17:17,  4.53it/s]"
     ]
    },
    {
     "name": "stdout",
     "output_type": "stream",
     "text": [
      "step = 300: loss = 0.05310416966676712, reward = -0.05968308076262474\n"
     ]
    },
    {
     "name": "stderr",
     "output_type": "stream",
     "text": [
      "100%|██████████| 50/50 [00:00<00:00, 149.06it/s]s]\n",
      "  8%|▊         | 401/5000 [01:04<21:05,  3.64it/s]"
     ]
    },
    {
     "name": "stdout",
     "output_type": "stream",
     "text": [
      "step = 400: loss = 0.07190939784049988, reward = -0.05968308076262474\n"
     ]
    },
    {
     "name": "stderr",
     "output_type": "stream",
     "text": [
      "100%|██████████| 50/50 [00:00<00:00, 149.21it/s]s]\n",
      " 10%|█         | 501/5000 [01:20<16:40,  4.50it/s]"
     ]
    },
    {
     "name": "stdout",
     "output_type": "stream",
     "text": [
      "step = 500: loss = 0.06140190362930298, reward = -0.05968308076262474\n"
     ]
    },
    {
     "name": "stderr",
     "output_type": "stream",
     "text": [
      "100%|██████████| 50/50 [00:00<00:00, 145.06it/s]s]\n",
      " 12%|█▏        | 601/5000 [01:36<16:26,  4.46it/s]"
     ]
    },
    {
     "name": "stdout",
     "output_type": "stream",
     "text": [
      "step = 600: loss = 0.07814410328865051, reward = -0.05968308076262474\n"
     ]
    },
    {
     "name": "stderr",
     "output_type": "stream",
     "text": [
      "100%|██████████| 50/50 [00:00<00:00, 142.03it/s]s]\n",
      " 14%|█▍        | 701/5000 [01:53<16:30,  4.34it/s]"
     ]
    },
    {
     "name": "stdout",
     "output_type": "stream",
     "text": [
      "step = 700: loss = 0.05395403504371643, reward = -0.05968308076262474\n"
     ]
    },
    {
     "name": "stderr",
     "output_type": "stream",
     "text": [
      "100%|██████████| 50/50 [00:00<00:00, 148.61it/s]s]\n",
      " 16%|█▌        | 801/5000 [02:08<15:39,  4.47it/s]"
     ]
    },
    {
     "name": "stdout",
     "output_type": "stream",
     "text": [
      "step = 800: loss = 0.05778862535953522, reward = -0.05968308076262474\n"
     ]
    },
    {
     "name": "stderr",
     "output_type": "stream",
     "text": [
      "100%|██████████| 50/50 [00:00<00:00, 149.60it/s]s]\n",
      " 18%|█▊        | 901/5000 [02:25<14:59,  4.56it/s]"
     ]
    },
    {
     "name": "stdout",
     "output_type": "stream",
     "text": [
      "step = 900: loss = 0.05692460760474205, reward = -0.05968308076262474\n"
     ]
    },
    {
     "name": "stderr",
     "output_type": "stream",
     "text": [
      "100%|██████████| 50/50 [00:00<00:00, 148.17it/s]s]\n",
      " 20%|██        | 1001/5000 [02:41<15:17,  4.36it/s]"
     ]
    },
    {
     "name": "stdout",
     "output_type": "stream",
     "text": [
      "step = 1000: loss = 0.059485163539648056, reward = -0.05968308076262474\n"
     ]
    },
    {
     "name": "stderr",
     "output_type": "stream",
     "text": [
      "100%|██████████| 50/50 [00:00<00:00, 144.85it/s]/s]\n",
      " 22%|██▏       | 1101/5000 [02:57<14:36,  4.45it/s]"
     ]
    },
    {
     "name": "stdout",
     "output_type": "stream",
     "text": [
      "step = 1100: loss = 0.07164233177900314, reward = -0.05968308076262474\n"
     ]
    },
    {
     "name": "stderr",
     "output_type": "stream",
     "text": [
      "100%|██████████| 50/50 [00:00<00:00, 139.96it/s]/s]\n",
      " 24%|██▍       | 1201/5000 [03:14<14:20,  4.41it/s]"
     ]
    },
    {
     "name": "stdout",
     "output_type": "stream",
     "text": [
      "step = 1200: loss = 0.04963871091604233, reward = -0.05968308076262474\n"
     ]
    },
    {
     "name": "stderr",
     "output_type": "stream",
     "text": [
      "100%|██████████| 50/50 [00:00<00:00, 151.36it/s]/s]\n",
      " 26%|██▌       | 1301/5000 [03:30<14:23,  4.28it/s]"
     ]
    },
    {
     "name": "stdout",
     "output_type": "stream",
     "text": [
      "step = 1300: loss = 0.05595877766609192, reward = -0.05968308076262474\n"
     ]
    },
    {
     "name": "stderr",
     "output_type": "stream",
     "text": [
      "100%|██████████| 50/50 [00:00<00:00, 146.66it/s]/s]\n",
      " 28%|██▊       | 1401/5000 [03:46<13:25,  4.47it/s]"
     ]
    },
    {
     "name": "stdout",
     "output_type": "stream",
     "text": [
      "step = 1400: loss = 0.05879542976617813, reward = -0.05968308076262474\n"
     ]
    },
    {
     "name": "stderr",
     "output_type": "stream",
     "text": [
      "100%|██████████| 50/50 [00:00<00:00, 149.67it/s]/s]\n",
      " 30%|███       | 1501/5000 [04:02<12:52,  4.53it/s]"
     ]
    },
    {
     "name": "stdout",
     "output_type": "stream",
     "text": [
      "step = 1500: loss = 0.06716286391019821, reward = -0.05968308076262474\n"
     ]
    },
    {
     "name": "stderr",
     "output_type": "stream",
     "text": [
      "100%|██████████| 50/50 [00:00<00:00, 131.84it/s]/s]\n",
      " 32%|███▏      | 1601/5000 [04:18<13:14,  4.28it/s]"
     ]
    },
    {
     "name": "stdout",
     "output_type": "stream",
     "text": [
      "step = 1600: loss = 0.05800986662507057, reward = -0.05968308076262474\n"
     ]
    },
    {
     "name": "stderr",
     "output_type": "stream",
     "text": [
      "100%|██████████| 50/50 [00:00<00:00, 145.37it/s]/s]\n",
      " 34%|███▍      | 1701/5000 [04:35<12:29,  4.40it/s]"
     ]
    },
    {
     "name": "stdout",
     "output_type": "stream",
     "text": [
      "step = 1700: loss = 0.06368903815746307, reward = -0.05968308076262474\n"
     ]
    },
    {
     "name": "stderr",
     "output_type": "stream",
     "text": [
      "100%|██████████| 50/50 [00:00<00:00, 139.72it/s]/s]\n",
      " 36%|███▌      | 1801/5000 [04:51<12:38,  4.22it/s]"
     ]
    },
    {
     "name": "stdout",
     "output_type": "stream",
     "text": [
      "step = 1800: loss = 0.05840213596820831, reward = -0.05968308076262474\n"
     ]
    },
    {
     "name": "stderr",
     "output_type": "stream",
     "text": [
      "100%|██████████| 50/50 [00:00<00:00, 144.50it/s]/s]\n",
      " 38%|███▊      | 1901/5000 [05:07<11:47,  4.38it/s]"
     ]
    },
    {
     "name": "stdout",
     "output_type": "stream",
     "text": [
      "step = 1900: loss = 0.06790091097354889, reward = -0.05968308076262474\n"
     ]
    },
    {
     "name": "stderr",
     "output_type": "stream",
     "text": [
      "100%|██████████| 50/50 [00:00<00:00, 148.98it/s]/s]\n",
      " 40%|████      | 2001/5000 [05:24<11:03,  4.52it/s]"
     ]
    },
    {
     "name": "stdout",
     "output_type": "stream",
     "text": [
      "step = 2000: loss = 0.05456307530403137, reward = -0.05968308076262474\n"
     ]
    },
    {
     "name": "stderr",
     "output_type": "stream",
     "text": [
      "100%|██████████| 50/50 [00:00<00:00, 147.69it/s]/s]\n",
      " 42%|████▏     | 2101/5000 [05:39<10:43,  4.51it/s]"
     ]
    },
    {
     "name": "stdout",
     "output_type": "stream",
     "text": [
      "step = 2100: loss = 0.05199477821588516, reward = -0.05968308076262474\n"
     ]
    },
    {
     "name": "stderr",
     "output_type": "stream",
     "text": [
      "100%|██████████| 50/50 [00:00<00:00, 146.01it/s]/s]\n",
      " 44%|████▍     | 2201/5000 [05:56<10:51,  4.30it/s]"
     ]
    },
    {
     "name": "stdout",
     "output_type": "stream",
     "text": [
      "step = 2200: loss = 0.046316057443618774, reward = -0.05968308076262474\n"
     ]
    },
    {
     "name": "stderr",
     "output_type": "stream",
     "text": [
      "100%|██████████| 50/50 [00:00<00:00, 151.46it/s]/s]\n",
      " 46%|████▌     | 2301/5000 [06:12<09:51,  4.56it/s]"
     ]
    },
    {
     "name": "stdout",
     "output_type": "stream",
     "text": [
      "step = 2300: loss = 0.0451720654964447, reward = -0.05968308076262474\n"
     ]
    },
    {
     "name": "stderr",
     "output_type": "stream",
     "text": [
      "100%|██████████| 50/50 [00:00<00:00, 139.11it/s]/s]\n",
      " 48%|████▊     | 2401/5000 [06:28<09:59,  4.34it/s]"
     ]
    },
    {
     "name": "stdout",
     "output_type": "stream",
     "text": [
      "step = 2400: loss = 0.05063679814338684, reward = -0.05968308076262474\n"
     ]
    },
    {
     "name": "stderr",
     "output_type": "stream",
     "text": [
      "100%|██████████| 50/50 [00:00<00:00, 149.10it/s]/s]\n",
      " 50%|█████     | 2501/5000 [06:44<09:13,  4.51it/s]"
     ]
    },
    {
     "name": "stdout",
     "output_type": "stream",
     "text": [
      "step = 2500: loss = 0.05682305246591568, reward = -0.05968308076262474\n"
     ]
    },
    {
     "name": "stderr",
     "output_type": "stream",
     "text": [
      "100%|██████████| 50/50 [00:00<00:00, 151.48it/s]/s]\n",
      " 52%|█████▏    | 2601/5000 [07:01<08:57,  4.46it/s]"
     ]
    },
    {
     "name": "stdout",
     "output_type": "stream",
     "text": [
      "step = 2600: loss = 0.057316817343235016, reward = -0.05968308076262474\n"
     ]
    },
    {
     "name": "stderr",
     "output_type": "stream",
     "text": [
      "100%|██████████| 50/50 [00:00<00:00, 148.48it/s]/s]\n",
      " 54%|█████▍    | 2701/5000 [07:17<08:40,  4.42it/s]"
     ]
    },
    {
     "name": "stdout",
     "output_type": "stream",
     "text": [
      "step = 2700: loss = 0.06233186647295952, reward = -0.05968308076262474\n"
     ]
    },
    {
     "name": "stderr",
     "output_type": "stream",
     "text": [
      "100%|██████████| 50/50 [00:00<00:00, 147.44it/s]/s]\n",
      " 56%|█████▌    | 2801/5000 [07:34<08:08,  4.50it/s]"
     ]
    },
    {
     "name": "stdout",
     "output_type": "stream",
     "text": [
      "step = 2800: loss = 0.030263567343354225, reward = -0.05968308076262474\n"
     ]
    },
    {
     "name": "stderr",
     "output_type": "stream",
     "text": [
      "100%|██████████| 50/50 [00:00<00:00, 150.17it/s]/s]\n",
      " 58%|█████▊    | 2901/5000 [07:49<07:45,  4.51it/s]"
     ]
    },
    {
     "name": "stdout",
     "output_type": "stream",
     "text": [
      "step = 2900: loss = 0.12275780737400055, reward = -0.05968308076262474\n"
     ]
    },
    {
     "name": "stderr",
     "output_type": "stream",
     "text": [
      "100%|██████████| 50/50 [00:00<00:00, 145.94it/s]/s]\n",
      " 60%|██████    | 3001/5000 [08:06<07:35,  4.39it/s]"
     ]
    },
    {
     "name": "stdout",
     "output_type": "stream",
     "text": [
      "step = 3000: loss = 0.0640171468257904, reward = -0.05968308076262474\n"
     ]
    },
    {
     "name": "stderr",
     "output_type": "stream",
     "text": [
      "100%|██████████| 50/50 [00:00<00:00, 145.29it/s]/s]\n",
      " 62%|██████▏   | 3101/5000 [08:22<07:06,  4.45it/s]"
     ]
    },
    {
     "name": "stdout",
     "output_type": "stream",
     "text": [
      "step = 3100: loss = 0.06743437051773071, reward = -0.05968308076262474\n"
     ]
    },
    {
     "name": "stderr",
     "output_type": "stream",
     "text": [
      "100%|██████████| 50/50 [00:00<00:00, 142.10it/s]/s]\n",
      " 64%|██████▍   | 3201/5000 [08:39<07:00,  4.27it/s]"
     ]
    },
    {
     "name": "stdout",
     "output_type": "stream",
     "text": [
      "step = 3200: loss = 0.07279805094003677, reward = -0.05968308076262474\n"
     ]
    },
    {
     "name": "stderr",
     "output_type": "stream",
     "text": [
      "100%|██████████| 50/50 [00:00<00:00, 145.21it/s]/s]\n",
      " 66%|██████▌   | 3301/5000 [08:55<06:22,  4.45it/s]"
     ]
    },
    {
     "name": "stdout",
     "output_type": "stream",
     "text": [
      "step = 3300: loss = 0.03942070156335831, reward = -0.05968308076262474\n"
     ]
    },
    {
     "name": "stderr",
     "output_type": "stream",
     "text": [
      "100%|██████████| 50/50 [00:00<00:00, 148.63it/s]/s]\n",
      " 68%|██████▊   | 3401/5000 [09:12<06:25,  4.14it/s]"
     ]
    },
    {
     "name": "stdout",
     "output_type": "stream",
     "text": [
      "step = 3400: loss = 0.06413926929235458, reward = -0.05968308076262474\n"
     ]
    },
    {
     "name": "stderr",
     "output_type": "stream",
     "text": [
      "100%|██████████| 50/50 [00:00<00:00, 138.84it/s]/s]\n",
      " 70%|███████   | 3501/5000 [09:27<05:42,  4.38it/s]"
     ]
    },
    {
     "name": "stdout",
     "output_type": "stream",
     "text": [
      "step = 3500: loss = 0.04303019493818283, reward = -0.05968308076262474\n"
     ]
    },
    {
     "name": "stderr",
     "output_type": "stream",
     "text": [
      "100%|██████████| 50/50 [00:00<00:00, 151.39it/s]/s]\n",
      " 72%|███████▏  | 3601/5000 [09:43<05:13,  4.46it/s]"
     ]
    },
    {
     "name": "stdout",
     "output_type": "stream",
     "text": [
      "step = 3600: loss = 0.0326034352183342, reward = -0.05968308076262474\n"
     ]
    },
    {
     "name": "stderr",
     "output_type": "stream",
     "text": [
      "100%|██████████| 50/50 [00:00<00:00, 145.81it/s]/s]\n",
      " 74%|███████▍  | 3701/5000 [10:00<04:56,  4.38it/s]"
     ]
    },
    {
     "name": "stdout",
     "output_type": "stream",
     "text": [
      "step = 3700: loss = 0.06070145219564438, reward = -0.05968308076262474\n"
     ]
    },
    {
     "name": "stderr",
     "output_type": "stream",
     "text": [
      "100%|██████████| 50/50 [00:00<00:00, 147.19it/s]/s]\n",
      " 76%|███████▌  | 3801/5000 [10:16<04:34,  4.37it/s]"
     ]
    },
    {
     "name": "stdout",
     "output_type": "stream",
     "text": [
      "step = 3800: loss = 0.05568353831768036, reward = -0.05968308076262474\n"
     ]
    },
    {
     "name": "stderr",
     "output_type": "stream",
     "text": [
      "100%|██████████| 50/50 [00:00<00:00, 145.26it/s]/s]\n",
      " 78%|███████▊  | 3901/5000 [10:33<04:09,  4.40it/s]"
     ]
    },
    {
     "name": "stdout",
     "output_type": "stream",
     "text": [
      "step = 3900: loss = 0.0671439915895462, reward = -0.05968308076262474\n"
     ]
    },
    {
     "name": "stderr",
     "output_type": "stream",
     "text": [
      "100%|██████████| 50/50 [00:00<00:00, 146.18it/s]/s]\n",
      " 80%|████████  | 4001/5000 [10:49<03:42,  4.49it/s]"
     ]
    },
    {
     "name": "stdout",
     "output_type": "stream",
     "text": [
      "step = 4000: loss = 0.07973361760377884, reward = -0.05968308076262474\n"
     ]
    },
    {
     "name": "stderr",
     "output_type": "stream",
     "text": [
      "100%|██████████| 50/50 [00:00<00:00, 147.49it/s]/s]\n",
      " 82%|████████▏ | 4101/5000 [11:06<03:38,  4.11it/s]"
     ]
    },
    {
     "name": "stdout",
     "output_type": "stream",
     "text": [
      "step = 4100: loss = 0.05744113028049469, reward = -0.05968308076262474\n"
     ]
    },
    {
     "name": "stderr",
     "output_type": "stream",
     "text": [
      "100%|██████████| 50/50 [00:00<00:00, 145.54it/s]/s]\n",
      " 84%|████████▍ | 4201/5000 [11:22<03:00,  4.44it/s]"
     ]
    },
    {
     "name": "stdout",
     "output_type": "stream",
     "text": [
      "step = 4200: loss = 0.04437218979001045, reward = -0.05968308076262474\n"
     ]
    },
    {
     "name": "stderr",
     "output_type": "stream",
     "text": [
      "100%|██████████| 50/50 [00:00<00:00, 149.76it/s]/s]\n",
      " 86%|████████▌ | 4301/5000 [11:37<02:34,  4.51it/s]"
     ]
    },
    {
     "name": "stdout",
     "output_type": "stream",
     "text": [
      "step = 4300: loss = 0.06655722111463547, reward = -0.05968308076262474\n"
     ]
    },
    {
     "name": "stderr",
     "output_type": "stream",
     "text": [
      "100%|██████████| 50/50 [00:00<00:00, 149.96it/s]/s]\n",
      " 88%|████████▊ | 4401/5000 [11:55<02:13,  4.49it/s]"
     ]
    },
    {
     "name": "stdout",
     "output_type": "stream",
     "text": [
      "step = 4400: loss = 0.054657574743032455, reward = -0.05968308076262474\n"
     ]
    },
    {
     "name": "stderr",
     "output_type": "stream",
     "text": [
      "100%|██████████| 50/50 [00:00<00:00, 150.15it/s]/s]\n",
      " 90%|█████████ | 4501/5000 [12:10<01:51,  4.49it/s]"
     ]
    },
    {
     "name": "stdout",
     "output_type": "stream",
     "text": [
      "step = 4500: loss = 0.05559392273426056, reward = -0.05968308076262474\n"
     ]
    },
    {
     "name": "stderr",
     "output_type": "stream",
     "text": [
      "100%|██████████| 50/50 [00:00<00:00, 151.40it/s]/s]\n",
      " 92%|█████████▏| 4601/5000 [12:27<01:32,  4.31it/s]"
     ]
    },
    {
     "name": "stdout",
     "output_type": "stream",
     "text": [
      "step = 4600: loss = 0.062225304543972015, reward = -0.05968308076262474\n"
     ]
    },
    {
     "name": "stderr",
     "output_type": "stream",
     "text": [
      " 94%|█████████▎| 4678/5000 [12:39<00:49,  6.51it/s]"
     ]
    }
   ],
   "source": [
    "# Set this to True when you want to run hyperparameter tuning\n",
    "hyperparameter_tuning = True\n",
    "\n",
    "def main():\n",
    "    run = wandb.init(config = config)\n",
    "    \n",
    "    agent_args = {\n",
    "        \"q_network\":            get_q_net(action_spec, fc_layer_params),\n",
    "        \"optimizer\":            tf.compat.v1.train.AdamOptimizer(\n",
    "                                    learning_rate=run.config.learning_rate),\n",
    "        \"n_step_update\":        n_step_update, \n",
    "        \"td_errors_loss_fn\":    tf.keras.losses.MeanSquaredError(),\n",
    "        \"epsilon_greedy\":       run.config.epsilon_greedy,\n",
    "        \"target_update_period\": run.config.target_update_period,\n",
    "        \"gamma\":                run.config.gamma,\n",
    "        \"gradient_clipping\":    1,\n",
    "        \"train_step_counter\":   tf.compat.v1.train.get_or_create_global_step(),\n",
    "    }\n",
    "        \n",
    "    _agent = dqn_agent.DqnAgent(\n",
    "        time_step_spec,\n",
    "        action_spec,\n",
    "        **agent_args\n",
    "    )\n",
    "\n",
    "    loss, _, rewards = train(_agent, train_env, eval_env, steps = 5000, use_wandb = True)\n",
    "    \n",
    "    wandb.log({'avg_loss': np.mean(loss), 'avg_reward': np.mean(rewards)})\n",
    "\n",
    "    del _agent\n",
    "    return\n",
    "\n",
    "# Define sweep config\n",
    "sweep_configuration = {\n",
    "    'method': 'random',\n",
    "    'name': 'rl_greed',\n",
    "    \"metric\": {\n",
    "        \"name\" : \"avg_reward\",\n",
    "        \"goal\": \"maximize\"\n",
    "    },\n",
    "    \"parameters\" : {\n",
    "        \"learning_rate\": {\n",
    "            \"min\": 0.0001,\n",
    "            \"max\": 0.01\n",
    "        },\n",
    "        \"epsilon_greedy\": {'values': [0.1, 0.3, 0.5, 0.7, 0.9]},\n",
    "        \"target_update_period\": {'values': [1, 10, 100, 1000, 10000]},\n",
    "        \"gamma\": {'values': [0.1, 0.3, 0.5, 0.7, 0.9]},\n",
    "    },\n",
    "    'run_cap' : 32\n",
    "}\n",
    "\n",
    "if hyperparameter_tuning:\n",
    "    ! export WANDB_NOTEBOOK_NAME=\"main.ipynb\"\n",
    "    # Initialize sweep by passing in config. (Optional) Provide a name of the project.\n",
    "    sweep_id = wandb.sweep(sweep=sweep_configuration, project=PROJECT_NAME,)\n",
    "\n",
    "    # Start sweep job.\n",
    "    wandb.agent(sweep_id, function=main)"
   ]
  },
  {
   "cell_type": "markdown",
   "metadata": {},
   "source": [
    "### Restore checkpoint"
   ]
  },
  {
   "cell_type": "code",
   "execution_count": null,
   "metadata": {},
   "outputs": [],
   "source": [
    "def test(policy, test_env, num_episodes: int=10000):\n",
    "    rewards = []\n",
    "    log_interval = 100\n",
    "    time_step = test_env.reset()\n",
    "    total_return = 0.0\n",
    "    for i in tqdm(range(10000)):\n",
    "        policy_state = policy.action(time_step)\n",
    "        time_step = test_env.step(policy_state.action)\n",
    "        reward = time_step.reward.numpy()[0]\n",
    "        total_return += reward # Calculate a sum of rewards\n",
    "\n",
    "        if i % log_interval == 0:\n",
    "            # avg_return = compute_avg_return(eval_env, agent.policy, 10)\n",
    "            avg_return = total_return / eval_interval\n",
    "            print('step = {0}: Average reward = {1:.5f}'.format(step, avg_return))\n",
    "            rewards.append(avg_return)\n",
    "            total_return = 0.0 # reset\n",
    "    return rewards\n",
    "\n",
    "# test(agent.policy, test_env)"
   ]
  },
  {
   "cell_type": "markdown",
   "metadata": {},
   "source": [
    "# Episodic Memory"
   ]
  },
  {
   "cell_type": "code",
   "execution_count": 70,
   "metadata": {},
   "outputs": [],
   "source": [
    "from util import episodic_memory\n",
    "from sklearn.mixture import GaussianMixture\n",
    "\n",
    "def embedding_similarity(x1, x2):\n",
    "    assert x1.shape[0] == x2.shape[0]\n",
    "    epsilon = 1e-6\n",
    "\n",
    "    # Inner product between the embeddings in x1\n",
    "    # and the embeddings in x2.\n",
    "    s = np.sum(x1 * x2, axis=-1)\n",
    "\n",
    "    s = s / (np.linalg.norm(x1, axis=-1) * np.linalg.norm(x2, axis=-1) + epsilon)\n",
    "    return 0.5 * (s + 1.0)\n"
   ]
  },
  {
   "cell_type": "code",
   "execution_count": 66,
   "metadata": {},
   "outputs": [],
   "source": [
    "observations = replay_buffer.gather_all()[1].numpy().squeeze()\n",
    "actions = replay_buffer.gather_all()[2].numpy().squeeze()\n",
    "size = 15\n",
    "\n",
    "memory_buffer = np.array([[*observations[i], actions[i]] for i in range(size)])"
   ]
  },
  {
   "cell_type": "code",
   "execution_count": 82,
   "metadata": {},
   "outputs": [
    {
     "data": {
      "text/plain": [
       "(15, 3)"
      ]
     },
     "execution_count": 82,
     "metadata": {},
     "output_type": "execute_result"
    }
   ],
   "source": [
    "memory_buffer.squeeze().shape"
   ]
  },
  {
   "cell_type": "code",
   "execution_count": 76,
   "metadata": {},
   "outputs": [],
   "source": [
    "gm = GaussianMixture(n_components=memory_buffer.shape[1])"
   ]
  },
  {
   "cell_type": "code",
   "execution_count": 77,
   "metadata": {},
   "outputs": [
    {
     "data": {
      "text/html": [
       "<style>#sk-container-id-1 {color: black;}#sk-container-id-1 pre{padding: 0;}#sk-container-id-1 div.sk-toggleable {background-color: white;}#sk-container-id-1 label.sk-toggleable__label {cursor: pointer;display: block;width: 100%;margin-bottom: 0;padding: 0.3em;box-sizing: border-box;text-align: center;}#sk-container-id-1 label.sk-toggleable__label-arrow:before {content: \"▸\";float: left;margin-right: 0.25em;color: #696969;}#sk-container-id-1 label.sk-toggleable__label-arrow:hover:before {color: black;}#sk-container-id-1 div.sk-estimator:hover label.sk-toggleable__label-arrow:before {color: black;}#sk-container-id-1 div.sk-toggleable__content {max-height: 0;max-width: 0;overflow: hidden;text-align: left;background-color: #f0f8ff;}#sk-container-id-1 div.sk-toggleable__content pre {margin: 0.2em;color: black;border-radius: 0.25em;background-color: #f0f8ff;}#sk-container-id-1 input.sk-toggleable__control:checked~div.sk-toggleable__content {max-height: 200px;max-width: 100%;overflow: auto;}#sk-container-id-1 input.sk-toggleable__control:checked~label.sk-toggleable__label-arrow:before {content: \"▾\";}#sk-container-id-1 div.sk-estimator input.sk-toggleable__control:checked~label.sk-toggleable__label {background-color: #d4ebff;}#sk-container-id-1 div.sk-label input.sk-toggleable__control:checked~label.sk-toggleable__label {background-color: #d4ebff;}#sk-container-id-1 input.sk-hidden--visually {border: 0;clip: rect(1px 1px 1px 1px);clip: rect(1px, 1px, 1px, 1px);height: 1px;margin: -1px;overflow: hidden;padding: 0;position: absolute;width: 1px;}#sk-container-id-1 div.sk-estimator {font-family: monospace;background-color: #f0f8ff;border: 1px dotted black;border-radius: 0.25em;box-sizing: border-box;margin-bottom: 0.5em;}#sk-container-id-1 div.sk-estimator:hover {background-color: #d4ebff;}#sk-container-id-1 div.sk-parallel-item::after {content: \"\";width: 100%;border-bottom: 1px solid gray;flex-grow: 1;}#sk-container-id-1 div.sk-label:hover label.sk-toggleable__label {background-color: #d4ebff;}#sk-container-id-1 div.sk-serial::before {content: \"\";position: absolute;border-left: 1px solid gray;box-sizing: border-box;top: 0;bottom: 0;left: 50%;z-index: 0;}#sk-container-id-1 div.sk-serial {display: flex;flex-direction: column;align-items: center;background-color: white;padding-right: 0.2em;padding-left: 0.2em;position: relative;}#sk-container-id-1 div.sk-item {position: relative;z-index: 1;}#sk-container-id-1 div.sk-parallel {display: flex;align-items: stretch;justify-content: center;background-color: white;position: relative;}#sk-container-id-1 div.sk-item::before, #sk-container-id-1 div.sk-parallel-item::before {content: \"\";position: absolute;border-left: 1px solid gray;box-sizing: border-box;top: 0;bottom: 0;left: 50%;z-index: -1;}#sk-container-id-1 div.sk-parallel-item {display: flex;flex-direction: column;z-index: 1;position: relative;background-color: white;}#sk-container-id-1 div.sk-parallel-item:first-child::after {align-self: flex-end;width: 50%;}#sk-container-id-1 div.sk-parallel-item:last-child::after {align-self: flex-start;width: 50%;}#sk-container-id-1 div.sk-parallel-item:only-child::after {width: 0;}#sk-container-id-1 div.sk-dashed-wrapped {border: 1px dashed gray;margin: 0 0.4em 0.5em 0.4em;box-sizing: border-box;padding-bottom: 0.4em;background-color: white;}#sk-container-id-1 div.sk-label label {font-family: monospace;font-weight: bold;display: inline-block;line-height: 1.2em;}#sk-container-id-1 div.sk-label-container {text-align: center;}#sk-container-id-1 div.sk-container {/* jupyter's `normalize.less` sets `[hidden] { display: none; }` but bootstrap.min.css set `[hidden] { display: none !important; }` so we also need the `!important` here to be able to override the default hidden behavior on the sphinx rendered scikit-learn.org. See: https://github.com/scikit-learn/scikit-learn/issues/21755 */display: inline-block !important;position: relative;}#sk-container-id-1 div.sk-text-repr-fallback {display: none;}</style><div id=\"sk-container-id-1\" class=\"sk-top-container\"><div class=\"sk-text-repr-fallback\"><pre>GaussianMixture(n_components=3)</pre><b>In a Jupyter environment, please rerun this cell to show the HTML representation or trust the notebook. <br />On GitHub, the HTML representation is unable to render, please try loading this page with nbviewer.org.</b></div><div class=\"sk-container\" hidden><div class=\"sk-item\"><div class=\"sk-estimator sk-toggleable\"><input class=\"sk-toggleable__control sk-hidden--visually\" id=\"sk-estimator-id-1\" type=\"checkbox\" checked><label for=\"sk-estimator-id-1\" class=\"sk-toggleable__label sk-toggleable__label-arrow\">GaussianMixture</label><div class=\"sk-toggleable__content\"><pre>GaussianMixture(n_components=3)</pre></div></div></div></div></div>"
      ],
      "text/plain": [
       "GaussianMixture(n_components=3)"
      ]
     },
     "execution_count": 77,
     "metadata": {},
     "output_type": "execute_result"
    }
   ],
   "source": [
    "gm.fit(memory_buffer)"
   ]
  },
  {
   "cell_type": "code",
   "execution_count": 84,
   "metadata": {},
   "outputs": [
    {
     "data": {
      "text/plain": [
       "array([[0.00000000e+00, 9.99999917e-01, 8.31505676e-08]])"
      ]
     },
     "execution_count": 84,
     "metadata": {},
     "output_type": "execute_result"
    }
   ],
   "source": [
    "gm.predict_proba([[7, 12, 0]])"
   ]
  },
  {
   "cell_type": "code",
   "execution_count": 62,
   "metadata": {},
   "outputs": [
    {
     "name": "stdout",
     "output_type": "stream",
     "text": [
      "df size: 36\n",
      "[[ 4 24  3]\n",
      " [ 4 24  1]\n",
      " [ 7 24  2]\n",
      " [ 7 20  2]\n",
      " [ 7 16  3]\n",
      " [ 7 20  0]\n",
      " [ 4 20  3]\n",
      " [ 4 24  2]\n",
      " [ 4 20  2]\n",
      " [ 4 16  2]\n",
      " [ 4 12  1]\n",
      " [ 7 12  0]\n",
      " [ 4 12  1]\n",
      " [ 7 12  3]\n",
      " [ 7 16  2]]\n"
     ]
    }
   ],
   "source": [
    "df = pd.read_csv(f\"avrora_synthetic_saved_states.csv\")\n",
    "print(\"df size:\", len(df))\n",
    "states  = {}\n",
    "size = 15 \n",
    "# replay_buffer.capacity\n",
    "for i in range(size):\n",
    "    states [i] = {\"args\": [df[\"MaxTenuringThreshold\"].values[i], df[\"ParallelGCThreads\"].values[i]], \"goal\": df[\"Average GC Pause\"].values[i]}\n",
    "\n",
    "# memory_buffer = np.array([states[i][\"args\"] for i in states.keys()])\n",
    "memory_buffer = np.array([[*observations[i], actions[i]] for i in range(size)])\n",
    "print(memory_buffer)"
   ]
  },
  {
   "cell_type": "code",
   "execution_count": 92,
   "metadata": {},
   "outputs": [
    {
     "name": "stdout",
     "output_type": "stream",
     "text": [
      "{0: {'args': [7, 12], 'goal': 0.47, 'count': 2}}\n"
     ]
    }
   ],
   "source": [
    "perf_states = {}\n",
    "perf_states[0] = {\"args\": [7, 12], \"goal\": 0.47, \"count\": 1} \n",
    "saved_states = [perf_states[i][\"args\"] for i in perf_states.keys()]\n",
    "flags = [7, 12]\n",
    "if flags in saved_states:\n",
    "    for i in perf_states.keys():\n",
    "        \"\"\" \n",
    "        If current state is stored in a cache,\n",
    "        update the state goal value.\n",
    "        \"\"\"\n",
    "        if flags == perf_states[i][\"args\"]:\n",
    "            goal = perf_states[i][\"goal\"]\n",
    "            perf_states[i][\"count\"] += 1\n",
    "\n",
    "print(perf_states)"
   ]
  },
  {
   "cell_type": "code",
   "execution_count": 97,
   "metadata": {},
   "outputs": [
    {
     "name": "stdout",
     "output_type": "stream",
     "text": [
      "2\n"
     ]
    }
   ],
   "source": [
    "for i in perf_states.keys():\n",
    "    if [7, 12] == perf_states[i][\"args\"]:\n",
    "        print(perf_states[i][\"count\"])"
   ]
  },
  {
   "cell_type": "code",
   "execution_count": 15,
   "metadata": {},
   "outputs": [
    {
     "data": {
      "text/plain": [
       "0.9975155087566253"
      ]
     },
     "execution_count": 15,
     "metadata": {},
     "output_type": "execute_result"
    }
   ],
   "source": [
    "(1 + 0.01)**(-1/4)"
   ]
  },
  {
   "cell_type": "code",
   "execution_count": 63,
   "metadata": {},
   "outputs": [
    {
     "data": {
      "text/plain": [
       "array([0.96638056, 0.96084794, 0.98113075, 0.98760397, 0.99632883,\n",
       "       0.97980966, 0.97269349, 0.9640097 , 0.97034901, 0.97857303,\n",
       "       0.98519848, 0.98873447, 0.98519848, 1.        , 0.99432438])"
      ]
     },
     "execution_count": 63,
     "metadata": {},
     "output_type": "execute_result"
    }
   ],
   "source": [
    "observation = np.array([[7, 12, 3]] * size)\n",
    "similarity = embedding_similarity(observation, memory_buffer[:size])\n",
    "similarity"
   ]
  },
  {
   "cell_type": "code",
   "execution_count": 48,
   "metadata": {},
   "outputs": [
    {
     "data": {
      "text/plain": [
       "Trajectory(\n",
       "{'action': <tf.Tensor: shape=(1,), dtype=int32, numpy=array([0], dtype=int32)>,\n",
       " 'discount': <tf.Tensor: shape=(1,), dtype=float32, numpy=array([0.5], dtype=float32)>,\n",
       " 'next_step_type': <tf.Tensor: shape=(1,), dtype=int32, numpy=array([1], dtype=int32)>,\n",
       " 'observation': <tf.Tensor: shape=(1, 2), dtype=int64, numpy=array([[ 7, 12]])>,\n",
       " 'policy_info': (),\n",
       " 'reward': <tf.Tensor: shape=(1,), dtype=float32, numpy=array([-1.], dtype=float32)>,\n",
       " 'step_type': <tf.Tensor: shape=(1,), dtype=int32, numpy=array([0], dtype=int32)>})"
      ]
     },
     "execution_count": 48,
     "metadata": {},
     "output_type": "execute_result"
    }
   ],
   "source": [
    "traj"
   ]
  },
  {
   "cell_type": "code",
   "execution_count": 47,
   "metadata": {},
   "outputs": [
    {
     "data": {
      "text/plain": [
       "-11.512925464970229"
      ]
     },
     "execution_count": 47,
     "metadata": {},
     "output_type": "execute_result"
    }
   ],
   "source": [
    "import math\n",
    "\n",
    "math.log(0.00001)"
   ]
  },
  {
   "cell_type": "code",
   "execution_count": 7,
   "metadata": {},
   "outputs": [
    {
     "name": "stdout",
     "output_type": "stream",
     "text": [
      "WARNING:tensorflow:From /var/folders/dn/p1_3j9fs78g4wn8r0hcrqks40000gn/T/ipykernel_2341/2210688016.py:1: ReplayBuffer.gather_all (from tf_agents.replay_buffers.replay_buffer) is deprecated and will be removed in a future version.\n",
      "Instructions for updating:\n",
      "Use `as_dataset(..., single_deterministic_pass=True)` instead.\n"
     ]
    },
    {
     "name": "stderr",
     "output_type": "stream",
     "text": [
      "WARNING:tensorflow:From /var/folders/dn/p1_3j9fs78g4wn8r0hcrqks40000gn/T/ipykernel_2341/2210688016.py:1: ReplayBuffer.gather_all (from tf_agents.replay_buffers.replay_buffer) is deprecated and will be removed in a future version.\n",
      "Instructions for updating:\n",
      "Use `as_dataset(..., single_deterministic_pass=True)` instead.\n"
     ]
    },
    {
     "name": "stdout",
     "output_type": "stream",
     "text": [
      "10000\n",
      "[0] [ 7 12]\n",
      "[10] [ 7 16]\n",
      "[15] [4 8]\n",
      "[2] [10  8]\n",
      "[4] [ 4 12]\n"
     ]
    }
   ],
   "source": [
    "observations = replay_buffer.gather_all()[1].numpy().squeeze()\n",
    "print(len(observations))\n",
    "# for i in range(100):\n",
    "#     print(f\"[{i}] {observations[i]}\")\n",
    "\n",
    "print(f\"[{0}] {observations[0]}\")\n",
    "print(f\"[{10}] {observations[10]}\")\n",
    "print(f\"[{15}] {observations[15]}\")\n",
    "print(f\"[{2}] {observations[2]}\")\n",
    "print(f\"[{4}] {observations[4]}\")"
   ]
  },
  {
   "cell_type": "code",
   "execution_count": 10,
   "metadata": {},
   "outputs": [],
   "source": [
    "observation_shape = [2]\n",
    "memory = episodic_memory.EpisodicMemory(\n",
    "    observation_shape=observation_shape,\n",
    "    observation_compare_fn=embedding_similarity,\n",
    "    capacity=150)\n",
    "\n",
    "memory.add(observation=observations[0], info=dict())\n",
    "memory.add(observation=observations[10], info=dict())\n",
    "memory.add(observation=observations[15], info=dict())\n",
    "memory.add(observation=observations[2], info=dict())\n",
    "memory.add(observation=observations[4], info=dict())"
   ]
  },
  {
   "cell_type": "code",
   "execution_count": 35,
   "metadata": {},
   "outputs": [
    {
     "name": "stdout",
     "output_type": "stream",
     "text": [
      "[1.         0.99556546 0.99941687 1.         1.        ]\n"
     ]
    }
   ],
   "source": [
    "similarities = memory.similarity(observations[0])\n",
    "print(similarities)"
   ]
  },
  {
   "cell_type": "code",
   "execution_count": 54,
   "metadata": {},
   "outputs": [
    {
     "data": {
      "text/plain": [
       "0.4711529108389231"
      ]
     },
     "execution_count": 54,
     "metadata": {},
     "output_type": "execute_result"
    }
   ],
   "source": []
  },
  {
   "cell_type": "code",
   "execution_count": 56,
   "metadata": {},
   "outputs": [
    {
     "data": {
      "text/plain": [
       "0.4711529108389231"
      ]
     },
     "execution_count": 56,
     "metadata": {},
     "output_type": "execute_result"
    }
   ],
   "source": [
    "new_df = pd.read_csv(f\"avrora_synthetic_saved_states.csv\")\n",
    "perf_states  = {}\n",
    "flags = [7, 12]\n",
    "def synthethic_run(flags):\n",
    "    assert len(flags) == 2, \"Amount of flags is not 2\"\n",
    "    row = new_df[((new_df[\"MaxTenuringThreshold\"] == flags[0]) & (new_df[\"ParallelGCThreads\"] == flags[1]))].values.squeeze()\n",
    "    goal = row[2]\n",
    "    return goal\n",
    "\n",
    "synthethic_run(flags)"
   ]
  }
 ],
 "metadata": {
  "kernelspec": {
   "display_name": "my-env",
   "language": "python",
   "name": "python3"
  },
  "language_info": {
   "codemirror_mode": {
    "name": "ipython",
    "version": 3
   },
   "file_extension": ".py",
   "mimetype": "text/x-python",
   "name": "python",
   "nbconvert_exporter": "python",
   "pygments_lexer": "ipython3",
   "version": "3.8.18"
  },
  "orig_nbformat": 4
 },
 "nbformat": 4,
 "nbformat_minor": 2
}
