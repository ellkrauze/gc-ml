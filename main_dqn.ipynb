{
 "cells": [
  {
   "cell_type": "code",
   "execution_count": 1,
   "metadata": {},
   "outputs": [],
   "source": [
    "import os\n",
    "import numpy as np\n",
    "import tensorflow as tf\n",
    "import matplotlib.pyplot as plt\n",
    "import pandas as pd\n",
    "from tqdm import tqdm\n",
    "\n",
    "from tf_agents.agents.dqn import dqn_agent\n",
    "from tf_agents.environments import tf_py_environment\n",
    "from tf_agents.networks import sequential\n",
    "from tf_agents.policies import random_tf_policy\n",
    "from tf_agents.replay_buffers import tf_uniform_replay_buffer\n",
    "from tf_agents.trajectories import trajectory\n",
    "from tf_agents.utils import common\n",
    "from tf_agents.specs import tensor_spec, from_spec\n",
    "from tf_agents import trajectories\n",
    "\n",
    "# from env.PyEnvironments import CurveEnv, CurveMultipleEnv, JVMEnv\n",
    "# from env.PyEnvironments import JVMEnv\n",
    "from env.PyEnvironmentsTest import JVMEnv # !!!"
   ]
  },
  {
   "cell_type": "code",
   "execution_count": 2,
   "metadata": {},
   "outputs": [
    {
     "name": "stdout",
     "output_type": "stream",
     "text": [
      "Successfully initialized a JVM Environment!\n",
      " JDK: /Users/ellkrauze/projects/gc-ml/jdk-11.0.20.1.jdk/bin,\n",
      " Benchmark: avrora (/Users/ellkrauze/projects/gc-ml/dacapo-bench.jar),\n",
      " Number of iterations: 5,\n",
      " Goal: avgGCPause,\n",
      " Number of JVM options: 2,\n",
      " JVM options: {'MaxTenuringThreshold': {'min': 1, 'max': 16}, 'ParallelGCThreads': {'min': 4, 'max': 24}},\n",
      " Env. default state: [list([7, 12]) 0.47],\n",
      " Env. default goal value: 0.47,\n",
      "\n",
      "Successfully initialized a JVM Environment!\n",
      " JDK: /Users/ellkrauze/projects/gc-ml/jdk-11.0.20.1.jdk/bin,\n",
      " Benchmark: kafka (/Users/ellkrauze/projects/gc-ml/dacapo-bench.jar),\n",
      " Number of iterations: 5,\n",
      " Goal: avgGCPause,\n",
      " Number of JVM options: 2,\n",
      " JVM options: {'MaxTenuringThreshold': {'min': 1, 'max': 16}, 'ParallelGCThreads': {'min': 4, 'max': 24}},\n",
      " Env. default state: [list([7, 12]) 0.34],\n",
      " Env. default goal value: 0.34,\n",
      "\n"
     ]
    }
   ],
   "source": [
    "TEST_JDK_PATH = \"/Users/ellkrauze/projects/gc-ml/jdk-11.0.20.1.jdk\"\n",
    "BM = \"avrora\"\n",
    "BM_TEST = \"kafka\"\n",
    "BM_PATH = \"/Users/ellkrauze/projects/gc-ml/dacapo-bench.jar\"\n",
    "CALLBACK_PATH = \"/home/vsakovskaya/gc-ml/dacapo/DacapoCallback/DacapoChopin/VMStatCallback.java\"\n",
    "dataset_path = \"dataset/data\"\n",
    "tempdir = \"tmp\"\n",
    "checkpoint_dir = os.path.join(tempdir, 'checkpoint')\n",
    "policy_dir = os.path.join(tempdir, 'policy')\n",
    "\n",
    "env = JVMEnv(jdk=TEST_JDK_PATH, bm_path=BM_PATH, \n",
    "    callback_path=CALLBACK_PATH, bm=BM, verbose=True)\n",
    "\n",
    "env_test = JVMEnv(jdk=TEST_JDK_PATH, bm_path=BM_PATH, \n",
    "        callback_path=CALLBACK_PATH, bm=BM_TEST, verbose=True)\n",
    "\n",
    "train_env = tf_py_environment.TFPyEnvironment(env, isolation=True)\n",
    "eval_env = tf_py_environment.TFPyEnvironment(env, isolation=True)\n",
    "test_env = tf_py_environment.TFPyEnvironment(env_test)\n",
    "\n",
    "action_spec = from_spec(train_env.action_spec())\n",
    "observation_spec = from_spec(train_env.observation_spec())\n",
    "reward_spec = from_spec(train_env.reward_spec())\n",
    "time_step_spec = trajectories.time_step_spec(observation_spec, reward_spec)"
   ]
  },
  {
   "cell_type": "markdown",
   "metadata": {},
   "source": [
    "### WandB"
   ]
  },
  {
   "cell_type": "code",
   "execution_count": 3,
   "metadata": {},
   "outputs": [],
   "source": [
    "! export WANDB_NOTEBOOK_NAME=\"main.ipynb\"\n",
    "import wandb\n",
    "\n",
    "PROJECT_NAME = \"Reinforcement Learning (DQN) - JVM-GC\"\n",
    "WANDB_KEY = \"4b077df3688052b0f43705d6b4d712c05fb979b7\"\n",
    "config = dict(\n",
    "    competition = PROJECT_NAME,\n",
    "    _wandb_kernel = 'lemon',\n",
    "    seed = 42,\n",
    ")"
   ]
  },
  {
   "cell_type": "code",
   "execution_count": 4,
   "metadata": {},
   "outputs": [],
   "source": [
    "def get_q_net(action_spec, fc_layer_params = (100, 75, 50)):\n",
    "    action_tensor_spec = tensor_spec.from_spec(action_spec)\n",
    "    num_actions = action_tensor_spec.maximum - action_tensor_spec.minimum + 1\n",
    "\n",
    "    def dense_layer(num_units):\n",
    "        \"\"\"\n",
    "        Define a helper function to create Dense layers configured \n",
    "        with the right activation and kernel initializer.\n",
    "        \"\"\"\n",
    "        return tf.keras.layers.Dense(\n",
    "            num_units,\n",
    "            activation=tf.keras.activations.relu,\n",
    "            kernel_initializer=tf.keras.initializers.VarianceScaling(\n",
    "                scale=2.0, mode='fan_in', distribution='truncated_normal'))\n",
    "\n",
    "    # QNetwork consists of a sequence of Dense layers followed by a dense layer\n",
    "    # with `num_actions` units to generate one q_value per available action as\n",
    "    # its output.\n",
    "    dense_layers = [dense_layer(num_units) for num_units in fc_layer_params]\n",
    "    q_values_layer = tf.keras.layers.Dense(\n",
    "        num_actions,\n",
    "        activation=None,\n",
    "        kernel_initializer=tf.keras.initializers.RandomUniform(\n",
    "            minval=-0.03, maxval=0.03),\n",
    "        bias_initializer=tf.keras.initializers.Constant(-0.2))\n",
    "    q_net = sequential.Sequential(dense_layers + [q_values_layer])\n",
    "    return q_net\n",
    "\n",
    "def collect_step(environment, policy, replay_buffer):\n",
    "    time_step = environment.current_time_step()\n",
    "    action_step = policy.action(time_step)\n",
    "\n",
    "    next_time_step = environment.step(action_step.action)\n",
    "    # reward = next_time_step.reward\n",
    "    traj = trajectory.from_transition(time_step, action_step, next_time_step)\n",
    "    return traj\n",
    "\n",
    "def save_dataset(data, path):\n",
    "    step_counter = tf.Variable(0, trainable=False)\n",
    "    checkpoint_prefix = \"checkpoint\"\n",
    "    checkpoint_args = {\n",
    "        \"checkpoint_interval\": 50,\n",
    "        \"step_counter\": step_counter,\n",
    "        \"directory\": checkpoint_prefix,\n",
    "        \"max_to_keep\": 3,\n",
    "    }\n",
    "    try:\n",
    "        data.save(path, checkpoint_args=checkpoint_args)\n",
    "    except:\n",
    "        pass\n",
    "\n",
    "def save_rb(replay_buffer, path):\n",
    "    tf.train.Checkpoint(rb = replay_buffer).save(path)\n",
    "\n",
    "def restore_rb(replay_buffer, path):\n",
    "    tf.train.Checkpoint(rb = replay_buffer).restore(path)\n",
    "\n",
    "def get_dataset(replay_buffer, size, batch_size, collect_data_spec, n_step_update, create: bool = True, save: bool = False):\n",
    "    \n",
    "    replay_buffer = tf_uniform_replay_buffer.TFUniformReplayBuffer(\n",
    "        data_spec=collect_data_spec, # agent.collect_data_spec\n",
    "        batch_size=1, # train_env.batch_size\n",
    "        max_length=size) # capacity\n",
    "\n",
    "    if create:\n",
    "        for _ in tqdm(range(size)):\n",
    "            traj = collect_step(train_env, random_policy, replay_buffer)\n",
    "            replay_buffer.add_batch(traj)\n",
    "\n",
    "        if save: save_rb(replay_buffer, dataset_path)\n",
    "    else: \n",
    "        restore_rb(replay_buffer, dataset_path+'-1')\n",
    "\n",
    "    dataset = replay_buffer.as_dataset(\n",
    "        num_parallel_calls=3, \n",
    "        sample_batch_size=batch_size,\n",
    "        num_steps=n_step_update + 1, \n",
    "        single_deterministic_pass=False).prefetch(3)\n",
    "    # iterator = iter(dataset)\n",
    "    return dataset\n",
    "    \n",
    "def compute_avg_return(environment, policy, num_episodes=50):\n",
    "    \"\"\"\n",
    "    Computes the average return of a policy, \n",
    "    given the policy, environment, and a number of episodes.\n",
    "\n",
    "    Note: for non-episodic tasks.\n",
    "    \"\"\"\n",
    "    total_return = 0.0\n",
    "    time_step = environment.reset()\n",
    "    for _ in tqdm(range(num_episodes)):\n",
    "        action_step = policy.action(time_step, seed=42)\n",
    "        time_step = environment.step(action_step.action)\n",
    "        total_return += time_step.reward\n",
    "\n",
    "    avg_return = total_return / num_episodes\n",
    "    return avg_return.numpy()[0]\n",
    "\n",
    "def compute_avg_return_episodic(environment, policy, num_episodes=10):\n",
    "    \"\"\"\n",
    "    Computes the average return of a policy, \n",
    "    given the policy, environment, and a number of episodes.\n",
    "\n",
    "    Note: for episodic tasks.\n",
    "    \"\"\"\n",
    "    total_return = 0.0\n",
    "    for _ in tqdm(range(num_episodes)):\n",
    "\n",
    "        time_step = environment.reset()\n",
    "        episode_return = 0.0\n",
    "\n",
    "        while not time_step.is_last():\n",
    "            action_step = policy.action(time_step)\n",
    "            time_step = environment.step(action_step.action)\n",
    "            # print(\"time step:\", action_step)\n",
    "            # print(\"action:\", action_step.action)\n",
    "            episode_return += time_step.reward\n",
    "        total_return += episode_return\n",
    "\n",
    "    avg_return = total_return / num_episodes\n",
    "    return avg_return.numpy()[0]"
   ]
  },
  {
   "cell_type": "code",
   "execution_count": 5,
   "metadata": {},
   "outputs": [],
   "source": [
    "collect_steps_per_iteration = 1\n",
    "dataset_size = 10000\n",
    "fc_layer_params = (100, 75, 50)\n",
    "\n",
    "batch_size = 128\n",
    "learning_rate = 1e-3\n",
    "\n",
    "num_eval_episodes = 10  # @param {type:\"integer\"}\n",
    "eval_interval = 100  # @param {type:\"integer\"}\n",
    "n_step_update = 10\n",
    "\n",
    "agent_args = {\n",
    "    \"q_network\": \n",
    "        get_q_net(action_spec, fc_layer_params),\n",
    "    \"optimizer\": \n",
    "        tf.compat.v1.train.AdamOptimizer(learning_rate=learning_rate),\n",
    "    \"n_step_update\": n_step_update, \n",
    "    \"td_errors_loss_fn\": tf.keras.losses.MeanSquaredError(),\n",
    "    \"epsilon_greedy\": 0.9,  # Probability of choosing a random action\n",
    "    \"target_update_period\": 1000,\n",
    "    \"gamma\": 0.9999,        # The importance of future rewards\n",
    "    \"gradient_clipping\": 1,\n",
    "    \"train_step_counter\": \n",
    "        tf.compat.v1.train.get_or_create_global_step(),\n",
    "}"
   ]
  },
  {
   "cell_type": "code",
   "execution_count": 6,
   "metadata": {},
   "outputs": [
    {
     "name": "stderr",
     "output_type": "stream",
     "text": [
      "100%|██████████| 10000/10000 [00:15<00:00, 655.04it/s]"
     ]
    },
    {
     "name": "stdout",
     "output_type": "stream",
     "text": [
      "WARNING:tensorflow:From /Users/ellkrauze/projects/gc-ml/gc-ml-env/lib/python3.8/site-packages/tf_agents/replay_buffers/tf_uniform_replay_buffer.py:342: CounterV2 (from tensorflow.python.data.experimental.ops.counter) is deprecated and will be removed in a future version.\n",
      "Instructions for updating:\n",
      "Use `tf.data.Dataset.counter(...)` instead.\n"
     ]
    },
    {
     "name": "stderr",
     "output_type": "stream",
     "text": [
      "\n",
      "WARNING:tensorflow:From /Users/ellkrauze/projects/gc-ml/gc-ml-env/lib/python3.8/site-packages/tf_agents/replay_buffers/tf_uniform_replay_buffer.py:342: CounterV2 (from tensorflow.python.data.experimental.ops.counter) is deprecated and will be removed in a future version.\n",
      "Instructions for updating:\n",
      "Use `tf.data.Dataset.counter(...)` instead.\n"
     ]
    },
    {
     "name": "stdout",
     "output_type": "stream",
     "text": [
      "WARNING:tensorflow:From /Users/ellkrauze/projects/gc-ml/gc-ml-env/lib/python3.8/site-packages/tensorflow/python/autograph/impl/api.py:377: ReplayBuffer.get_next (from tf_agents.replay_buffers.replay_buffer) is deprecated and will be removed in a future version.\n",
      "Instructions for updating:\n",
      "Use `as_dataset(..., single_deterministic_pass=False) instead.\n"
     ]
    },
    {
     "name": "stderr",
     "output_type": "stream",
     "text": [
      "WARNING:tensorflow:From /Users/ellkrauze/projects/gc-ml/gc-ml-env/lib/python3.8/site-packages/tensorflow/python/autograph/impl/api.py:377: ReplayBuffer.get_next (from tf_agents.replay_buffers.replay_buffer) is deprecated and will be removed in a future version.\n",
      "Instructions for updating:\n",
      "Use `as_dataset(..., single_deterministic_pass=False) instead.\n"
     ]
    }
   ],
   "source": [
    "agent = dqn_agent.DqnAgent(\n",
    "  time_step_spec,\n",
    "  action_spec,\n",
    "  **agent_args\n",
    ")\n",
    "\n",
    "agent.initialize()\n",
    "\n",
    "random_policy = random_tf_policy.RandomTFPolicy(\n",
    "  time_step_spec = time_step_spec,\n",
    "  action_spec = action_spec,\n",
    "  automatic_state_reset=True,\n",
    "  clip=False\n",
    ")\n",
    "\n",
    "replay_buffer = tf_uniform_replay_buffer.TFUniformReplayBuffer(\n",
    "    data_spec=agent.collect_data_spec, # agent.collect_data_spec\n",
    "    batch_size=train_env.batch_size, # train_env.batch_size\n",
    "    max_length=dataset_size) # capacity\n",
    "\n",
    "create = True\n",
    "save = False\n",
    "if create:\n",
    "    for _ in tqdm(range(dataset_size)):\n",
    "        traj = collect_step(train_env, random_policy, replay_buffer)\n",
    "        replay_buffer.add_batch(traj)\n",
    "    if save: save_rb(replay_buffer, dataset_path)\n",
    "else: \n",
    "    restore_rb(replay_buffer, dataset_path+'-1')\n",
    "\n",
    "dataset = replay_buffer.as_dataset(\n",
    "    num_parallel_calls=3, \n",
    "    sample_batch_size=batch_size,\n",
    "    num_steps=n_step_update + 1, \n",
    "    single_deterministic_pass=False).prefetch(3)\n",
    "\n",
    "iterator = iter(dataset)"
   ]
  },
  {
   "cell_type": "code",
   "execution_count": 7,
   "metadata": {},
   "outputs": [],
   "source": [
    "from util.plots_util import plot_dataset, plot_goal_heatmap\n",
    "\n",
    "# plot_dataset(replay_buffer)\n",
    "# plot_goal_heatmap(env)"
   ]
  },
  {
   "cell_type": "markdown",
   "metadata": {},
   "source": [
    "## Agent Training"
   ]
  },
  {
   "cell_type": "code",
   "execution_count": 8,
   "metadata": {},
   "outputs": [],
   "source": [
    "def train(_agent, _env_train, _env_val, \n",
    "          steps: int = 5000, \n",
    "          use_wandb: bool = False,\n",
    "          eval_interval: int=100):\n",
    "    \"\"\"\n",
    "    Train reinforcement learning agent and evaluate\n",
    "    performance on a separate environment.\n",
    "    \"\"\"\n",
    "    seed = 42\n",
    "    total_return = 0.0\n",
    "\n",
    "    _env_train.reset()\n",
    "    _env_val.reset()\n",
    "    \n",
    "    _agent.train = common.function(_agent.train)\n",
    "    _agent.train_step_counter.assign(0)\n",
    "    _agent.initialize()\n",
    "    time_step = _env_val.reset()\n",
    "    policy_state = _agent.collect_policy.get_initial_state(_env_train.batch_size)\n",
    "\n",
    "    loss = []\n",
    "    observations = []\n",
    "\n",
    "    rewards = []\n",
    "    # avg_reward = compute_avg_return(_env_val, _agent.policy, num_episodes=50)\n",
    "    # rewards = [avg_reward]\n",
    "\n",
    "    for _ in tqdm(range(steps)):\n",
    "\n",
    "        # Add new trajectory to buffer with agent's collect_policy.\n",
    "        for _ in range(collect_steps_per_iteration):\n",
    "            traj = collect_step(_env_train, _agent.collect_policy, replay_buffer)\n",
    "            replay_buffer.add_batch(traj)\n",
    "\n",
    "        # Update the dataset.\n",
    "        _dataset = replay_buffer.as_dataset(\n",
    "            num_parallel_calls=3, \n",
    "            sample_batch_size=batch_size,\n",
    "            num_steps=n_step_update + 1, \n",
    "            single_deterministic_pass=False).prefetch(3)\n",
    "\n",
    "        _iterator = iter(_dataset)\n",
    "\n",
    "        # Iterate through the dataset, get a trajectory to learn.\n",
    "        experience, _ = next(_iterator)\n",
    "        train_loss = _agent.train(experience)\n",
    "\n",
    "        # Calculate a reward on evaluation environment\n",
    "        policy_step = _agent.policy.action(time_step, seed=seed)\n",
    "        time_step = _env_val.step(policy_step.action)\n",
    "        rwd = time_step.reward.numpy()[0]\n",
    "        obs = time_step.observation.numpy()[0]\n",
    "        total_return += rwd # Calculate a sum of rewards\n",
    "\n",
    "        step = _agent.train_step_counter.numpy()\n",
    "\n",
    "        if step % eval_interval == 0:\n",
    "            avg_reward = total_return / eval_interval\n",
    "            # avg_reward = compute_avg_return(_env_val, _agent.policy, num_episodes=50)\n",
    "            # avg_reward = compute_avg_return_episodic(_env_val, _agent.policy, num_episodes=50)\n",
    "            total_return = 0.0 # reset\n",
    "\n",
    "            loss.append(train_loss.loss.numpy())\n",
    "            observations.append(obs)\n",
    "            rewards.append(avg_reward)\n",
    "\n",
    "            # wandb logger for tuning hyperparameters\n",
    "            if use_wandb:\n",
    "                wandb.log({'loss': train_loss.loss, 'reward': avg_reward})\n",
    "\n",
    "            print(f\"step = {step}: loss = {train_loss.loss}, reward = {avg_reward}\")\n",
    "    \n",
    "    return loss, observations, rewards"
   ]
  },
  {
   "cell_type": "code",
   "execution_count": 9,
   "metadata": {},
   "outputs": [
    {
     "name": "stderr",
     "output_type": "stream",
     "text": [
      "  0%|          | 0/15000 [00:00<?, ?it/s]"
     ]
    },
    {
     "name": "stdout",
     "output_type": "stream",
     "text": [
      "WARNING:tensorflow:From /Users/ellkrauze/projects/gc-ml/gc-ml-env/lib/python3.8/site-packages/tensorflow/python/util/dispatch.py:1176: calling foldr_v2 (from tensorflow.python.ops.functional_ops) with back_prop=False is deprecated and will be removed in a future version.\n",
      "Instructions for updating:\n",
      "back_prop=False is deprecated. Consider using tf.stop_gradient instead.\n",
      "Instead of:\n",
      "results = tf.foldr(fn, elems, back_prop=False)\n",
      "Use:\n",
      "results = tf.nest.map_structure(tf.stop_gradient, tf.foldr(fn, elems))\n"
     ]
    },
    {
     "name": "stderr",
     "output_type": "stream",
     "text": [
      "WARNING:tensorflow:From /Users/ellkrauze/projects/gc-ml/gc-ml-env/lib/python3.8/site-packages/tensorflow/python/util/dispatch.py:1176: calling foldr_v2 (from tensorflow.python.ops.functional_ops) with back_prop=False is deprecated and will be removed in a future version.\n",
      "Instructions for updating:\n",
      "back_prop=False is deprecated. Consider using tf.stop_gradient instead.\n",
      "Instead of:\n",
      "results = tf.foldr(fn, elems, back_prop=False)\n",
      "Use:\n",
      "results = tf.nest.map_structure(tf.stop_gradient, tf.foldr(fn, elems))\n",
      "  1%|          | 101/15000 [00:09<21:59, 11.29it/s]"
     ]
    },
    {
     "name": "stdout",
     "output_type": "stream",
     "text": [
      "step = 100: loss = 0.3693423867225647, reward = 0.5624884206056595\n"
     ]
    },
    {
     "name": "stderr",
     "output_type": "stream",
     "text": [
      "  1%|▏         | 202/15000 [00:19<20:51, 11.82it/s]"
     ]
    },
    {
     "name": "stdout",
     "output_type": "stream",
     "text": [
      "step = 200: loss = 0.30360138416290283, reward = 0.7460294365882874\n"
     ]
    },
    {
     "name": "stderr",
     "output_type": "stream",
     "text": [
      "  2%|▏         | 302/15000 [00:28<25:05,  9.76it/s]"
     ]
    },
    {
     "name": "stdout",
     "output_type": "stream",
     "text": [
      "step = 300: loss = 0.3717433214187622, reward = 0.7460294365882874\n"
     ]
    },
    {
     "name": "stderr",
     "output_type": "stream",
     "text": [
      "  3%|▎         | 402/15000 [00:36<20:32, 11.84it/s]"
     ]
    },
    {
     "name": "stdout",
     "output_type": "stream",
     "text": [
      "step = 400: loss = 0.5029381513595581, reward = 0.7460294365882874\n"
     ]
    },
    {
     "name": "stderr",
     "output_type": "stream",
     "text": [
      "  3%|▎         | 502/15000 [00:45<20:18, 11.90it/s]"
     ]
    },
    {
     "name": "stdout",
     "output_type": "stream",
     "text": [
      "step = 500: loss = 0.47046446800231934, reward = 0.7460294365882874\n"
     ]
    },
    {
     "name": "stderr",
     "output_type": "stream",
     "text": [
      "  4%|▍         | 600/15000 [00:54<20:57, 11.45it/s]"
     ]
    },
    {
     "name": "stdout",
     "output_type": "stream",
     "text": [
      "step = 600: loss = 0.4083470404148102, reward = 0.7460294365882874\n"
     ]
    },
    {
     "name": "stderr",
     "output_type": "stream",
     "text": [
      "  5%|▍         | 702/15000 [01:04<27:40,  8.61it/s]"
     ]
    },
    {
     "name": "stdout",
     "output_type": "stream",
     "text": [
      "step = 700: loss = 0.4560762643814087, reward = 0.7460294365882874\n"
     ]
    },
    {
     "name": "stderr",
     "output_type": "stream",
     "text": [
      "  5%|▌         | 800/15000 [01:12<21:30, 11.00it/s]"
     ]
    },
    {
     "name": "stdout",
     "output_type": "stream",
     "text": [
      "step = 800: loss = 0.4569583833217621, reward = 0.7460294365882874\n"
     ]
    },
    {
     "name": "stderr",
     "output_type": "stream",
     "text": [
      "  6%|▌         | 901/15000 [01:22<20:05, 11.70it/s]"
     ]
    },
    {
     "name": "stdout",
     "output_type": "stream",
     "text": [
      "step = 900: loss = 0.36106806993484497, reward = 0.7460294365882874\n"
     ]
    },
    {
     "name": "stderr",
     "output_type": "stream",
     "text": [
      "  7%|▋         | 1001/15000 [01:31<21:01, 11.09it/s]"
     ]
    },
    {
     "name": "stdout",
     "output_type": "stream",
     "text": [
      "step = 1000: loss = 0.31711044907569885, reward = 0.7460294365882874\n"
     ]
    },
    {
     "name": "stderr",
     "output_type": "stream",
     "text": [
      "  7%|▋         | 1101/15000 [01:39<21:08, 10.95it/s]"
     ]
    },
    {
     "name": "stdout",
     "output_type": "stream",
     "text": [
      "step = 1100: loss = 0.38015156984329224, reward = 0.7460294365882874\n"
     ]
    },
    {
     "name": "stderr",
     "output_type": "stream",
     "text": [
      "  8%|▊         | 1201/15000 [01:48<19:27, 11.81it/s]"
     ]
    },
    {
     "name": "stdout",
     "output_type": "stream",
     "text": [
      "step = 1200: loss = 0.26019954681396484, reward = 0.7460294365882874\n"
     ]
    },
    {
     "name": "stderr",
     "output_type": "stream",
     "text": [
      "  9%|▊         | 1301/15000 [01:57<23:45,  9.61it/s]"
     ]
    },
    {
     "name": "stdout",
     "output_type": "stream",
     "text": [
      "step = 1300: loss = 0.3091014623641968, reward = 0.7460294365882874\n"
     ]
    },
    {
     "name": "stderr",
     "output_type": "stream",
     "text": [
      "  9%|▉         | 1401/15000 [02:06<19:08, 11.84it/s]"
     ]
    },
    {
     "name": "stdout",
     "output_type": "stream",
     "text": [
      "step = 1400: loss = 0.28922927379608154, reward = 0.7460294365882874\n"
     ]
    },
    {
     "name": "stderr",
     "output_type": "stream",
     "text": [
      " 10%|█         | 1501/15000 [02:15<19:25, 11.58it/s]"
     ]
    },
    {
     "name": "stdout",
     "output_type": "stream",
     "text": [
      "step = 1500: loss = 0.35970333218574524, reward = 0.7460294365882874\n"
     ]
    },
    {
     "name": "stderr",
     "output_type": "stream",
     "text": [
      " 11%|█         | 1601/15000 [02:24<19:00, 11.75it/s]"
     ]
    },
    {
     "name": "stdout",
     "output_type": "stream",
     "text": [
      "step = 1600: loss = 0.3519707918167114, reward = 0.7460294365882874\n"
     ]
    },
    {
     "name": "stderr",
     "output_type": "stream",
     "text": [
      " 11%|█▏        | 1702/15000 [02:33<18:46, 11.80it/s]"
     ]
    },
    {
     "name": "stdout",
     "output_type": "stream",
     "text": [
      "step = 1700: loss = 0.3878314793109894, reward = 0.7460294365882874\n"
     ]
    },
    {
     "name": "stderr",
     "output_type": "stream",
     "text": [
      " 12%|█▏        | 1802/15000 [02:42<19:32, 11.26it/s]"
     ]
    },
    {
     "name": "stdout",
     "output_type": "stream",
     "text": [
      "step = 1800: loss = 0.393320769071579, reward = 0.7460294365882874\n"
     ]
    },
    {
     "name": "stderr",
     "output_type": "stream",
     "text": [
      " 13%|█▎        | 1902/15000 [02:50<18:20, 11.90it/s]"
     ]
    },
    {
     "name": "stdout",
     "output_type": "stream",
     "text": [
      "step = 1900: loss = 0.2907811999320984, reward = 0.7460294365882874\n"
     ]
    },
    {
     "name": "stderr",
     "output_type": "stream",
     "text": [
      " 13%|█▎        | 2002/15000 [03:00<19:01, 11.38it/s]"
     ]
    },
    {
     "name": "stdout",
     "output_type": "stream",
     "text": [
      "step = 2000: loss = 0.31892430782318115, reward = 0.7460294365882874\n"
     ]
    },
    {
     "name": "stderr",
     "output_type": "stream",
     "text": [
      " 14%|█▍        | 2102/15000 [03:08<18:03, 11.90it/s]"
     ]
    },
    {
     "name": "stdout",
     "output_type": "stream",
     "text": [
      "step = 2100: loss = 0.345316618680954, reward = 0.7460294365882874\n"
     ]
    },
    {
     "name": "stderr",
     "output_type": "stream",
     "text": [
      " 15%|█▍        | 2202/15000 [03:17<18:36, 11.47it/s]"
     ]
    },
    {
     "name": "stdout",
     "output_type": "stream",
     "text": [
      "step = 2200: loss = 0.22625723481178284, reward = 0.7460294365882874\n"
     ]
    },
    {
     "name": "stderr",
     "output_type": "stream",
     "text": [
      " 15%|█▌        | 2302/15000 [03:26<17:52, 11.84it/s]"
     ]
    },
    {
     "name": "stdout",
     "output_type": "stream",
     "text": [
      "step = 2300: loss = 0.29642897844314575, reward = 0.7460294365882874\n"
     ]
    },
    {
     "name": "stderr",
     "output_type": "stream",
     "text": [
      " 16%|█▌        | 2402/15000 [03:35<18:22, 11.43it/s]"
     ]
    },
    {
     "name": "stdout",
     "output_type": "stream",
     "text": [
      "step = 2400: loss = 0.2860887050628662, reward = 0.7460294365882874\n"
     ]
    },
    {
     "name": "stderr",
     "output_type": "stream",
     "text": [
      " 17%|█▋        | 2502/15000 [03:44<18:03, 11.53it/s]"
     ]
    },
    {
     "name": "stdout",
     "output_type": "stream",
     "text": [
      "step = 2500: loss = 0.38658618927001953, reward = 0.7460294365882874\n"
     ]
    },
    {
     "name": "stderr",
     "output_type": "stream",
     "text": [
      " 17%|█▋        | 2601/15000 [03:53<18:04, 11.44it/s]"
     ]
    },
    {
     "name": "stdout",
     "output_type": "stream",
     "text": [
      "step = 2600: loss = 0.31580451130867004, reward = 0.7460294365882874\n"
     ]
    },
    {
     "name": "stderr",
     "output_type": "stream",
     "text": [
      " 18%|█▊        | 2701/15000 [04:02<17:35, 11.65it/s]"
     ]
    },
    {
     "name": "stdout",
     "output_type": "stream",
     "text": [
      "step = 2700: loss = 0.34535419940948486, reward = 0.7460294365882874\n"
     ]
    },
    {
     "name": "stderr",
     "output_type": "stream",
     "text": [
      " 19%|█▊        | 2802/15000 [04:12<17:38, 11.52it/s]"
     ]
    },
    {
     "name": "stdout",
     "output_type": "stream",
     "text": [
      "step = 2800: loss = 0.31390008330345154, reward = 0.7460294365882874\n"
     ]
    },
    {
     "name": "stderr",
     "output_type": "stream",
     "text": [
      " 19%|█▉        | 2902/15000 [04:21<17:27, 11.55it/s]"
     ]
    },
    {
     "name": "stdout",
     "output_type": "stream",
     "text": [
      "step = 2900: loss = 0.3218103349208832, reward = 0.7460294365882874\n"
     ]
    },
    {
     "name": "stderr",
     "output_type": "stream",
     "text": [
      " 20%|██        | 3001/15000 [04:30<17:37, 11.35it/s]"
     ]
    },
    {
     "name": "stdout",
     "output_type": "stream",
     "text": [
      "step = 3000: loss = 0.3130868673324585, reward = 0.7460294365882874\n"
     ]
    },
    {
     "name": "stderr",
     "output_type": "stream",
     "text": [
      " 21%|██        | 3101/15000 [04:39<18:36, 10.66it/s]"
     ]
    },
    {
     "name": "stdout",
     "output_type": "stream",
     "text": [
      "step = 3100: loss = 0.3197837471961975, reward = 0.7460294365882874\n"
     ]
    },
    {
     "name": "stderr",
     "output_type": "stream",
     "text": [
      " 21%|██▏       | 3201/15000 [04:49<17:10, 11.45it/s]"
     ]
    },
    {
     "name": "stdout",
     "output_type": "stream",
     "text": [
      "step = 3200: loss = 0.19990691542625427, reward = 0.7460294365882874\n"
     ]
    },
    {
     "name": "stderr",
     "output_type": "stream",
     "text": [
      " 22%|██▏       | 3301/15000 [04:58<17:02, 11.44it/s]"
     ]
    },
    {
     "name": "stdout",
     "output_type": "stream",
     "text": [
      "step = 3300: loss = 0.20711258053779602, reward = 0.7460294365882874\n"
     ]
    },
    {
     "name": "stderr",
     "output_type": "stream",
     "text": [
      " 23%|██▎       | 3401/15000 [05:08<17:03, 11.33it/s]"
     ]
    },
    {
     "name": "stdout",
     "output_type": "stream",
     "text": [
      "step = 3400: loss = 0.21915307641029358, reward = 0.7460294365882874\n"
     ]
    },
    {
     "name": "stderr",
     "output_type": "stream",
     "text": [
      " 23%|██▎       | 3501/15000 [05:17<16:44, 11.44it/s]"
     ]
    },
    {
     "name": "stdout",
     "output_type": "stream",
     "text": [
      "step = 3500: loss = 0.2914503812789917, reward = 0.7460294365882874\n"
     ]
    },
    {
     "name": "stderr",
     "output_type": "stream",
     "text": [
      " 24%|██▍       | 3601/15000 [05:27<16:51, 11.27it/s]"
     ]
    },
    {
     "name": "stdout",
     "output_type": "stream",
     "text": [
      "step = 3600: loss = 0.3649202585220337, reward = 0.7460294365882874\n"
     ]
    },
    {
     "name": "stderr",
     "output_type": "stream",
     "text": [
      " 25%|██▍       | 3701/15000 [05:35<16:57, 11.10it/s]"
     ]
    },
    {
     "name": "stdout",
     "output_type": "stream",
     "text": [
      "step = 3700: loss = 0.3344314992427826, reward = 0.7460294365882874\n"
     ]
    },
    {
     "name": "stderr",
     "output_type": "stream",
     "text": [
      " 25%|██▌       | 3802/15000 [05:45<17:45, 10.51it/s]"
     ]
    },
    {
     "name": "stdout",
     "output_type": "stream",
     "text": [
      "step = 3800: loss = 0.2328544557094574, reward = 0.7460294365882874\n"
     ]
    },
    {
     "name": "stderr",
     "output_type": "stream",
     "text": [
      " 26%|██▌       | 3902/15000 [05:54<16:16, 11.36it/s]"
     ]
    },
    {
     "name": "stdout",
     "output_type": "stream",
     "text": [
      "step = 3900: loss = 0.16707411408424377, reward = 0.7460294365882874\n"
     ]
    },
    {
     "name": "stderr",
     "output_type": "stream",
     "text": [
      " 27%|██▋       | 4002/15000 [06:03<15:52, 11.55it/s]"
     ]
    },
    {
     "name": "stdout",
     "output_type": "stream",
     "text": [
      "step = 4000: loss = 0.29428964853286743, reward = 0.7460294365882874\n"
     ]
    },
    {
     "name": "stderr",
     "output_type": "stream",
     "text": [
      " 27%|██▋       | 4101/15000 [06:13<16:19, 11.13it/s]"
     ]
    },
    {
     "name": "stdout",
     "output_type": "stream",
     "text": [
      "step = 4100: loss = 0.3597753643989563, reward = 0.7460294365882874\n"
     ]
    },
    {
     "name": "stderr",
     "output_type": "stream",
     "text": [
      " 28%|██▊       | 4201/15000 [06:22<15:35, 11.55it/s]"
     ]
    },
    {
     "name": "stdout",
     "output_type": "stream",
     "text": [
      "step = 4200: loss = 0.13591104745864868, reward = 0.7460294365882874\n"
     ]
    },
    {
     "name": "stderr",
     "output_type": "stream",
     "text": [
      " 29%|██▊       | 4301/15000 [06:32<16:21, 10.90it/s]"
     ]
    },
    {
     "name": "stdout",
     "output_type": "stream",
     "text": [
      "step = 4300: loss = 0.22202429175376892, reward = 0.7460294365882874\n"
     ]
    },
    {
     "name": "stderr",
     "output_type": "stream",
     "text": [
      " 29%|██▉       | 4401/15000 [06:41<15:49, 11.16it/s]"
     ]
    },
    {
     "name": "stdout",
     "output_type": "stream",
     "text": [
      "step = 4400: loss = 0.17287902534008026, reward = 0.7460294365882874\n"
     ]
    },
    {
     "name": "stderr",
     "output_type": "stream",
     "text": [
      " 30%|███       | 4501/15000 [06:49<15:02, 11.64it/s]"
     ]
    },
    {
     "name": "stdout",
     "output_type": "stream",
     "text": [
      "step = 4500: loss = 0.1645905077457428, reward = 0.7460294365882874\n"
     ]
    },
    {
     "name": "stderr",
     "output_type": "stream",
     "text": [
      " 31%|███       | 4602/15000 [07:00<15:18, 11.32it/s]"
     ]
    },
    {
     "name": "stdout",
     "output_type": "stream",
     "text": [
      "step = 4600: loss = 0.2585236430168152, reward = 0.7460294365882874\n"
     ]
    },
    {
     "name": "stderr",
     "output_type": "stream",
     "text": [
      " 31%|███▏      | 4702/15000 [07:09<14:50, 11.56it/s]"
     ]
    },
    {
     "name": "stdout",
     "output_type": "stream",
     "text": [
      "step = 4700: loss = 0.2511977255344391, reward = 0.7460294365882874\n"
     ]
    },
    {
     "name": "stderr",
     "output_type": "stream",
     "text": [
      " 32%|███▏      | 4802/15000 [07:22<17:08,  9.91it/s]  "
     ]
    },
    {
     "name": "stdout",
     "output_type": "stream",
     "text": [
      "step = 4800: loss = 0.15221214294433594, reward = 0.7460294365882874\n"
     ]
    },
    {
     "name": "stderr",
     "output_type": "stream",
     "text": [
      " 33%|███▎      | 4902/15000 [07:32<15:06, 11.14it/s]"
     ]
    },
    {
     "name": "stdout",
     "output_type": "stream",
     "text": [
      "step = 4900: loss = 0.11581572890281677, reward = 0.7460294365882874\n"
     ]
    },
    {
     "name": "stderr",
     "output_type": "stream",
     "text": [
      " 33%|███▎      | 5002/15000 [07:41<15:19, 10.88it/s]"
     ]
    },
    {
     "name": "stdout",
     "output_type": "stream",
     "text": [
      "step = 5000: loss = 0.24615266919136047, reward = 0.7460294365882874\n"
     ]
    },
    {
     "name": "stderr",
     "output_type": "stream",
     "text": [
      " 34%|███▍      | 5102/15000 [07:52<15:31, 10.63it/s]"
     ]
    },
    {
     "name": "stdout",
     "output_type": "stream",
     "text": [
      "step = 5100: loss = 0.11618880927562714, reward = 0.7460294365882874\n"
     ]
    },
    {
     "name": "stderr",
     "output_type": "stream",
     "text": [
      " 35%|███▍      | 5201/15000 [08:01<15:42, 10.40it/s]"
     ]
    },
    {
     "name": "stdout",
     "output_type": "stream",
     "text": [
      "step = 5200: loss = 0.09962610900402069, reward = 0.7460294365882874\n"
     ]
    },
    {
     "name": "stderr",
     "output_type": "stream",
     "text": [
      " 35%|███▌      | 5301/15000 [08:13<20:33,  7.86it/s]"
     ]
    },
    {
     "name": "stdout",
     "output_type": "stream",
     "text": [
      "step = 5300: loss = 0.22576671838760376, reward = 0.7460294365882874\n"
     ]
    },
    {
     "name": "stderr",
     "output_type": "stream",
     "text": [
      " 36%|███▌      | 5402/15000 [08:22<15:05, 10.60it/s]"
     ]
    },
    {
     "name": "stdout",
     "output_type": "stream",
     "text": [
      "step = 5400: loss = 0.28952741622924805, reward = 0.7460294365882874\n"
     ]
    },
    {
     "name": "stderr",
     "output_type": "stream",
     "text": [
      " 37%|███▋      | 5502/15000 [08:32<15:21, 10.31it/s]"
     ]
    },
    {
     "name": "stdout",
     "output_type": "stream",
     "text": [
      "step = 5500: loss = 0.14047108590602875, reward = 0.7460294365882874\n"
     ]
    },
    {
     "name": "stderr",
     "output_type": "stream",
     "text": [
      " 37%|███▋      | 5602/15000 [08:43<15:03, 10.40it/s]"
     ]
    },
    {
     "name": "stdout",
     "output_type": "stream",
     "text": [
      "step = 5600: loss = 0.3344714343547821, reward = 0.7460294365882874\n"
     ]
    },
    {
     "name": "stderr",
     "output_type": "stream",
     "text": [
      " 38%|███▊      | 5702/15000 [08:52<14:14, 10.88it/s]"
     ]
    },
    {
     "name": "stdout",
     "output_type": "stream",
     "text": [
      "step = 5700: loss = 0.24167117476463318, reward = 0.7460294365882874\n"
     ]
    },
    {
     "name": "stderr",
     "output_type": "stream",
     "text": [
      " 39%|███▊      | 5802/15000 [09:01<13:58, 10.97it/s]"
     ]
    },
    {
     "name": "stdout",
     "output_type": "stream",
     "text": [
      "step = 5800: loss = 0.15608087182044983, reward = 0.7460294365882874\n"
     ]
    },
    {
     "name": "stderr",
     "output_type": "stream",
     "text": [
      " 39%|███▉      | 5901/15000 [09:12<14:45, 10.27it/s]"
     ]
    },
    {
     "name": "stdout",
     "output_type": "stream",
     "text": [
      "step = 5900: loss = 0.20832446217536926, reward = 0.7460294365882874\n"
     ]
    },
    {
     "name": "stderr",
     "output_type": "stream",
     "text": [
      " 40%|████      | 6002/15000 [09:21<13:31, 11.08it/s]"
     ]
    },
    {
     "name": "stdout",
     "output_type": "stream",
     "text": [
      "step = 6000: loss = 0.24379515647888184, reward = 0.7460294365882874\n"
     ]
    },
    {
     "name": "stderr",
     "output_type": "stream",
     "text": [
      " 41%|████      | 6101/15000 [09:31<15:20,  9.67it/s]"
     ]
    },
    {
     "name": "stdout",
     "output_type": "stream",
     "text": [
      "step = 6100: loss = 0.10190697014331818, reward = 0.7460294365882874\n"
     ]
    },
    {
     "name": "stderr",
     "output_type": "stream",
     "text": [
      " 41%|████▏     | 6201/15000 [09:43<15:17,  9.59it/s]"
     ]
    },
    {
     "name": "stdout",
     "output_type": "stream",
     "text": [
      "step = 6200: loss = 0.11356708407402039, reward = 0.7460294365882874\n"
     ]
    },
    {
     "name": "stderr",
     "output_type": "stream",
     "text": [
      " 42%|████▏     | 6302/15000 [09:53<13:19, 10.87it/s]"
     ]
    },
    {
     "name": "stdout",
     "output_type": "stream",
     "text": [
      "step = 6300: loss = 0.10284268856048584, reward = 0.7460294365882874\n"
     ]
    },
    {
     "name": "stderr",
     "output_type": "stream",
     "text": [
      " 43%|████▎     | 6402/15000 [10:03<14:01, 10.22it/s]"
     ]
    },
    {
     "name": "stdout",
     "output_type": "stream",
     "text": [
      "step = 6400: loss = 0.13325953483581543, reward = 0.7460294365882874\n"
     ]
    },
    {
     "name": "stderr",
     "output_type": "stream",
     "text": [
      " 43%|████▎     | 6502/15000 [10:15<14:08, 10.02it/s]"
     ]
    },
    {
     "name": "stdout",
     "output_type": "stream",
     "text": [
      "step = 6500: loss = 0.2262561321258545, reward = 0.7460294365882874\n"
     ]
    },
    {
     "name": "stderr",
     "output_type": "stream",
     "text": [
      " 44%|████▍     | 6602/15000 [10:25<12:31, 11.18it/s]"
     ]
    },
    {
     "name": "stdout",
     "output_type": "stream",
     "text": [
      "step = 6600: loss = 0.06417526304721832, reward = 0.7460294365882874\n"
     ]
    },
    {
     "name": "stderr",
     "output_type": "stream",
     "text": [
      " 45%|████▍     | 6702/15000 [10:34<12:43, 10.87it/s]"
     ]
    },
    {
     "name": "stdout",
     "output_type": "stream",
     "text": [
      "step = 6700: loss = 0.09892827272415161, reward = 0.7460294365882874\n"
     ]
    },
    {
     "name": "stderr",
     "output_type": "stream",
     "text": [
      " 45%|████▌     | 6801/15000 [10:45<12:45, 10.71it/s]"
     ]
    },
    {
     "name": "stdout",
     "output_type": "stream",
     "text": [
      "step = 6800: loss = 0.27030396461486816, reward = 0.7460294365882874\n"
     ]
    },
    {
     "name": "stderr",
     "output_type": "stream",
     "text": [
      " 46%|████▌     | 6901/15000 [10:54<12:30, 10.79it/s]"
     ]
    },
    {
     "name": "stdout",
     "output_type": "stream",
     "text": [
      "step = 6900: loss = 0.13259100914001465, reward = 0.7460294365882874\n"
     ]
    },
    {
     "name": "stderr",
     "output_type": "stream",
     "text": [
      " 47%|████▋     | 7001/15000 [11:03<12:01, 11.08it/s]"
     ]
    },
    {
     "name": "stdout",
     "output_type": "stream",
     "text": [
      "step = 7000: loss = 0.07871091365814209, reward = 0.7460294365882874\n"
     ]
    },
    {
     "name": "stderr",
     "output_type": "stream",
     "text": [
      " 47%|████▋     | 7101/15000 [11:14<16:56,  7.77it/s]"
     ]
    },
    {
     "name": "stdout",
     "output_type": "stream",
     "text": [
      "step = 7100: loss = 0.21634060144424438, reward = 0.7460294365882874\n"
     ]
    },
    {
     "name": "stderr",
     "output_type": "stream",
     "text": [
      " 48%|████▊     | 7201/15000 [11:25<13:04,  9.94it/s]"
     ]
    },
    {
     "name": "stdout",
     "output_type": "stream",
     "text": [
      "step = 7200: loss = 0.09297925233840942, reward = 0.7460294365882874\n"
     ]
    },
    {
     "name": "stderr",
     "output_type": "stream",
     "text": [
      " 49%|████▊     | 7301/15000 [11:34<11:27, 11.19it/s]"
     ]
    },
    {
     "name": "stdout",
     "output_type": "stream",
     "text": [
      "step = 7300: loss = 0.04382067918777466, reward = 0.7460294365882874\n"
     ]
    },
    {
     "name": "stderr",
     "output_type": "stream",
     "text": [
      " 49%|████▉     | 7401/15000 [11:43<11:23, 11.12it/s]"
     ]
    },
    {
     "name": "stdout",
     "output_type": "stream",
     "text": [
      "step = 7400: loss = 0.047240935266017914, reward = 0.7460294365882874\n"
     ]
    },
    {
     "name": "stderr",
     "output_type": "stream",
     "text": [
      " 50%|█████     | 7501/15000 [11:54<11:45, 10.63it/s]"
     ]
    },
    {
     "name": "stdout",
     "output_type": "stream",
     "text": [
      "step = 7500: loss = 0.06462394446134567, reward = 0.7460294365882874\n"
     ]
    },
    {
     "name": "stderr",
     "output_type": "stream",
     "text": [
      " 51%|█████     | 7601/15000 [12:04<11:24, 10.82it/s]"
     ]
    },
    {
     "name": "stdout",
     "output_type": "stream",
     "text": [
      "step = 7600: loss = 0.07678322494029999, reward = 0.7460294365882874\n"
     ]
    },
    {
     "name": "stderr",
     "output_type": "stream",
     "text": [
      " 51%|█████▏    | 7701/15000 [12:12<10:49, 11.23it/s]"
     ]
    },
    {
     "name": "stdout",
     "output_type": "stream",
     "text": [
      "step = 7700: loss = 0.08854389935731888, reward = 0.7460294365882874\n"
     ]
    },
    {
     "name": "stderr",
     "output_type": "stream",
     "text": [
      " 52%|█████▏    | 7801/15000 [12:23<11:18, 10.62it/s]"
     ]
    },
    {
     "name": "stdout",
     "output_type": "stream",
     "text": [
      "step = 7800: loss = 0.12291595339775085, reward = 0.7460294365882874\n"
     ]
    },
    {
     "name": "stderr",
     "output_type": "stream",
     "text": [
      " 53%|█████▎    | 7901/15000 [12:33<11:26, 10.34it/s]"
     ]
    },
    {
     "name": "stdout",
     "output_type": "stream",
     "text": [
      "step = 7900: loss = 0.03483280539512634, reward = 0.7460294365882874\n"
     ]
    },
    {
     "name": "stderr",
     "output_type": "stream",
     "text": [
      " 53%|█████▎    | 8001/15000 [12:42<10:17, 11.34it/s]"
     ]
    },
    {
     "name": "stdout",
     "output_type": "stream",
     "text": [
      "step = 8000: loss = 0.07541562616825104, reward = 0.7460294365882874\n"
     ]
    },
    {
     "name": "stderr",
     "output_type": "stream",
     "text": [
      " 54%|█████▍    | 8102/15000 [12:52<10:24, 11.05it/s]"
     ]
    },
    {
     "name": "stdout",
     "output_type": "stream",
     "text": [
      "step = 8100: loss = 0.10515768080949783, reward = 0.7460294365882874\n"
     ]
    },
    {
     "name": "stderr",
     "output_type": "stream",
     "text": [
      " 55%|█████▍    | 8201/15000 [13:04<11:43,  9.67it/s]"
     ]
    },
    {
     "name": "stdout",
     "output_type": "stream",
     "text": [
      "step = 8200: loss = 0.0351838618516922, reward = 0.7460294365882874\n"
     ]
    },
    {
     "name": "stderr",
     "output_type": "stream",
     "text": [
      " 55%|█████▌    | 8302/15000 [13:14<10:17, 10.85it/s]"
     ]
    },
    {
     "name": "stdout",
     "output_type": "stream",
     "text": [
      "step = 8300: loss = 0.02001769281923771, reward = 0.7460294365882874\n"
     ]
    },
    {
     "name": "stderr",
     "output_type": "stream",
     "text": [
      " 56%|█████▌    | 8402/15000 [13:23<10:13, 10.76it/s]"
     ]
    },
    {
     "name": "stdout",
     "output_type": "stream",
     "text": [
      "step = 8400: loss = 0.09837234020233154, reward = 0.7460294365882874\n"
     ]
    },
    {
     "name": "stderr",
     "output_type": "stream",
     "text": [
      " 57%|█████▋    | 8502/15000 [13:34<10:54,  9.93it/s]"
     ]
    },
    {
     "name": "stdout",
     "output_type": "stream",
     "text": [
      "step = 8500: loss = 0.10732485353946686, reward = 0.7460294365882874\n"
     ]
    },
    {
     "name": "stderr",
     "output_type": "stream",
     "text": [
      " 57%|█████▋    | 8601/15000 [13:44<10:40,  9.98it/s]"
     ]
    },
    {
     "name": "stdout",
     "output_type": "stream",
     "text": [
      "step = 8600: loss = 0.03630029782652855, reward = 0.7460294365882874\n"
     ]
    },
    {
     "name": "stderr",
     "output_type": "stream",
     "text": [
      " 58%|█████▊    | 8700/15000 [13:54<11:49,  8.88it/s]"
     ]
    },
    {
     "name": "stdout",
     "output_type": "stream",
     "text": [
      "step = 8700: loss = 0.10031688958406448, reward = 0.7460294365882874\n"
     ]
    },
    {
     "name": "stderr",
     "output_type": "stream",
     "text": [
      " 59%|█████▊    | 8801/15000 [14:04<10:34,  9.76it/s]"
     ]
    },
    {
     "name": "stdout",
     "output_type": "stream",
     "text": [
      "step = 8800: loss = 0.039262644946575165, reward = 0.7460294365882874\n"
     ]
    },
    {
     "name": "stderr",
     "output_type": "stream",
     "text": [
      " 59%|█████▉    | 8902/15000 [14:17<10:08, 10.02it/s]"
     ]
    },
    {
     "name": "stdout",
     "output_type": "stream",
     "text": [
      "step = 8900: loss = 0.04507610201835632, reward = 0.7460294365882874\n"
     ]
    },
    {
     "name": "stderr",
     "output_type": "stream",
     "text": [
      " 60%|██████    | 9002/15000 [14:28<09:28, 10.55it/s]"
     ]
    },
    {
     "name": "stdout",
     "output_type": "stream",
     "text": [
      "step = 9000: loss = 0.01816784217953682, reward = 0.7460294365882874\n"
     ]
    },
    {
     "name": "stderr",
     "output_type": "stream",
     "text": [
      " 61%|██████    | 9100/15000 [14:37<10:31,  9.34it/s]"
     ]
    },
    {
     "name": "stdout",
     "output_type": "stream",
     "text": [
      "step = 9100: loss = 0.01936229132115841, reward = 0.7460294365882874\n"
     ]
    },
    {
     "name": "stderr",
     "output_type": "stream",
     "text": [
      " 61%|██████▏   | 9201/15000 [14:47<09:21, 10.32it/s]"
     ]
    },
    {
     "name": "stdout",
     "output_type": "stream",
     "text": [
      "step = 9200: loss = 0.04372763633728027, reward = 0.7460294365882874\n"
     ]
    },
    {
     "name": "stderr",
     "output_type": "stream",
     "text": [
      " 62%|██████▏   | 9301/15000 [15:01<12:17,  7.72it/s]"
     ]
    },
    {
     "name": "stdout",
     "output_type": "stream",
     "text": [
      "step = 9300: loss = 0.0595860555768013, reward = 0.7460294365882874\n"
     ]
    },
    {
     "name": "stderr",
     "output_type": "stream",
     "text": [
      " 63%|██████▎   | 9401/15000 [15:13<11:05,  8.41it/s]"
     ]
    },
    {
     "name": "stdout",
     "output_type": "stream",
     "text": [
      "step = 9400: loss = 0.00832421239465475, reward = 0.7460294365882874\n"
     ]
    },
    {
     "name": "stderr",
     "output_type": "stream",
     "text": [
      " 63%|██████▎   | 9502/15000 [15:23<08:48, 10.41it/s]"
     ]
    },
    {
     "name": "stdout",
     "output_type": "stream",
     "text": [
      "step = 9500: loss = 0.0299319289624691, reward = 0.7460294365882874\n"
     ]
    },
    {
     "name": "stderr",
     "output_type": "stream",
     "text": [
      " 64%|██████▍   | 9601/15000 [15:33<08:23, 10.71it/s]"
     ]
    },
    {
     "name": "stdout",
     "output_type": "stream",
     "text": [
      "step = 9600: loss = 0.006775491405278444, reward = 0.7460294365882874\n"
     ]
    },
    {
     "name": "stderr",
     "output_type": "stream",
     "text": [
      " 65%|██████▍   | 9702/15000 [15:47<08:42, 10.14it/s]  "
     ]
    },
    {
     "name": "stdout",
     "output_type": "stream",
     "text": [
      "step = 9700: loss = 0.006102211773395538, reward = 0.7460294365882874\n"
     ]
    },
    {
     "name": "stderr",
     "output_type": "stream",
     "text": [
      " 65%|██████▌   | 9802/15000 [15:57<08:20, 10.38it/s]"
     ]
    },
    {
     "name": "stdout",
     "output_type": "stream",
     "text": [
      "step = 9800: loss = 0.0030094513203948736, reward = 0.7460294365882874\n"
     ]
    },
    {
     "name": "stderr",
     "output_type": "stream",
     "text": [
      " 66%|██████▌   | 9902/15000 [16:07<09:10,  9.26it/s]"
     ]
    },
    {
     "name": "stdout",
     "output_type": "stream",
     "text": [
      "step = 9900: loss = 0.014023805037140846, reward = 0.7460294365882874\n"
     ]
    },
    {
     "name": "stderr",
     "output_type": "stream",
     "text": [
      " 67%|██████▋   | 10001/15000 [16:17<09:01,  9.23it/s]"
     ]
    },
    {
     "name": "stdout",
     "output_type": "stream",
     "text": [
      "step = 10000: loss = 3.695956547744572e-05, reward = 0.7460294365882874\n"
     ]
    },
    {
     "name": "stderr",
     "output_type": "stream",
     "text": [
      " 67%|██████▋   | 10101/15000 [16:32<11:18,  7.22it/s]  "
     ]
    },
    {
     "name": "stdout",
     "output_type": "stream",
     "text": [
      "step = 10100: loss = 4.301710543330728e-09, reward = 0.7460294365882874\n"
     ]
    },
    {
     "name": "stderr",
     "output_type": "stream",
     "text": [
      " 68%|██████▊   | 10201/15000 [16:43<08:30,  9.39it/s]"
     ]
    },
    {
     "name": "stdout",
     "output_type": "stream",
     "text": [
      "step = 10200: loss = 1.2192052922799235e-12, reward = 0.7460294365882874\n"
     ]
    },
    {
     "name": "stderr",
     "output_type": "stream",
     "text": [
      " 69%|██████▊   | 10300/15000 [16:53<07:58,  9.82it/s]"
     ]
    },
    {
     "name": "stdout",
     "output_type": "stream",
     "text": [
      "step = 10300: loss = 1.8386681066573374e-13, reward = 0.7460294365882874\n"
     ]
    },
    {
     "name": "stderr",
     "output_type": "stream",
     "text": [
      " 69%|██████▉   | 10401/15000 [17:03<07:44,  9.91it/s]"
     ]
    },
    {
     "name": "stdout",
     "output_type": "stream",
     "text": [
      "step = 10400: loss = 1.1726362936226309e-11, reward = 0.7460294365882874\n"
     ]
    },
    {
     "name": "stderr",
     "output_type": "stream",
     "text": [
      " 70%|███████   | 10501/15000 [17:18<08:35,  8.72it/s]"
     ]
    },
    {
     "name": "stdout",
     "output_type": "stream",
     "text": [
      "step = 10500: loss = 7.37149230545242e-12, reward = 0.7460294365882874\n"
     ]
    },
    {
     "name": "stderr",
     "output_type": "stream",
     "text": [
      " 71%|███████   | 10601/15000 [17:28<07:01, 10.43it/s]"
     ]
    },
    {
     "name": "stdout",
     "output_type": "stream",
     "text": [
      "step = 10600: loss = 1.3255931075040195e-11, reward = 0.7460294365882874\n"
     ]
    },
    {
     "name": "stderr",
     "output_type": "stream",
     "text": [
      " 71%|███████▏  | 10702/15000 [17:38<07:00, 10.21it/s]"
     ]
    },
    {
     "name": "stdout",
     "output_type": "stream",
     "text": [
      "step = 10700: loss = 9.37324523553329e-12, reward = 0.7460294365882874\n"
     ]
    },
    {
     "name": "stderr",
     "output_type": "stream",
     "text": [
      " 72%|███████▏  | 10801/15000 [17:48<06:48, 10.27it/s]"
     ]
    },
    {
     "name": "stdout",
     "output_type": "stream",
     "text": [
      "step = 10800: loss = 5.951697468198347e-13, reward = 0.7460294365882874\n"
     ]
    },
    {
     "name": "stderr",
     "output_type": "stream",
     "text": [
      " 73%|███████▎  | 10901/15000 [18:01<08:24,  8.13it/s]"
     ]
    },
    {
     "name": "stdout",
     "output_type": "stream",
     "text": [
      "step = 10900: loss = 7.77213881519856e-06, reward = 0.7460294365882874\n"
     ]
    },
    {
     "name": "stderr",
     "output_type": "stream",
     "text": [
      " 73%|███████▎  | 11001/15000 [18:11<07:34,  8.80it/s]"
     ]
    },
    {
     "name": "stdout",
     "output_type": "stream",
     "text": [
      "step = 11000: loss = 8.692250617059472e-07, reward = 0.7460294365882874\n"
     ]
    },
    {
     "name": "stderr",
     "output_type": "stream",
     "text": [
      " 74%|███████▍  | 11101/15000 [18:21<06:08, 10.58it/s]"
     ]
    },
    {
     "name": "stdout",
     "output_type": "stream",
     "text": [
      "step = 11100: loss = 9.427865006728098e-05, reward = 0.7460294365882874\n"
     ]
    },
    {
     "name": "stderr",
     "output_type": "stream",
     "text": [
      " 75%|███████▍  | 11201/15000 [18:31<06:20,  9.97it/s]"
     ]
    },
    {
     "name": "stdout",
     "output_type": "stream",
     "text": [
      "step = 11200: loss = 0.00012762326514348388, reward = 0.7460294365882874\n"
     ]
    },
    {
     "name": "stderr",
     "output_type": "stream",
     "text": [
      " 75%|███████▌  | 11301/15000 [18:41<05:45, 10.71it/s]"
     ]
    },
    {
     "name": "stdout",
     "output_type": "stream",
     "text": [
      "step = 11300: loss = 0.0003154432342853397, reward = 0.7460294365882874\n"
     ]
    },
    {
     "name": "stderr",
     "output_type": "stream",
     "text": [
      " 76%|███████▌  | 11401/15000 [18:54<06:01,  9.97it/s]"
     ]
    },
    {
     "name": "stdout",
     "output_type": "stream",
     "text": [
      "step = 11400: loss = 8.034947285295857e-08, reward = 0.7460294365882874\n"
     ]
    },
    {
     "name": "stderr",
     "output_type": "stream",
     "text": [
      " 77%|███████▋  | 11501/15000 [19:04<05:42, 10.20it/s]"
     ]
    },
    {
     "name": "stdout",
     "output_type": "stream",
     "text": [
      "step = 11500: loss = 0.00023872687597759068, reward = 0.7460294365882874\n"
     ]
    },
    {
     "name": "stderr",
     "output_type": "stream",
     "text": [
      " 77%|███████▋  | 11600/15000 [19:14<05:18, 10.69it/s]"
     ]
    },
    {
     "name": "stdout",
     "output_type": "stream",
     "text": [
      "step = 11600: loss = 0.00029190772329457104, reward = 0.7460294365882874\n"
     ]
    },
    {
     "name": "stderr",
     "output_type": "stream",
     "text": [
      " 78%|███████▊  | 11702/15000 [19:23<05:10, 10.61it/s]"
     ]
    },
    {
     "name": "stdout",
     "output_type": "stream",
     "text": [
      "step = 11700: loss = 3.495441342238337e-05, reward = 0.7460294365882874\n"
     ]
    },
    {
     "name": "stderr",
     "output_type": "stream",
     "text": [
      " 79%|███████▊  | 11801/15000 [19:36<06:04,  8.77it/s]"
     ]
    },
    {
     "name": "stdout",
     "output_type": "stream",
     "text": [
      "step = 11800: loss = 4.6907666728657205e-06, reward = 0.7460294365882874\n"
     ]
    },
    {
     "name": "stderr",
     "output_type": "stream",
     "text": [
      " 79%|███████▉  | 11901/15000 [19:45<04:49, 10.72it/s]"
     ]
    },
    {
     "name": "stdout",
     "output_type": "stream",
     "text": [
      "step = 11900: loss = 2.7645381123875268e-05, reward = 0.7460294365882874\n"
     ]
    },
    {
     "name": "stderr",
     "output_type": "stream",
     "text": [
      " 80%|████████  | 12002/15000 [19:55<04:49, 10.36it/s]"
     ]
    },
    {
     "name": "stdout",
     "output_type": "stream",
     "text": [
      "step = 12000: loss = 1.7411677617928945e-05, reward = 0.7460294365882874\n"
     ]
    },
    {
     "name": "stderr",
     "output_type": "stream",
     "text": [
      " 81%|████████  | 12102/15000 [20:05<06:36,  7.31it/s]"
     ]
    },
    {
     "name": "stdout",
     "output_type": "stream",
     "text": [
      "step = 12100: loss = 1.572715433439953e-07, reward = 0.7460294365882874\n"
     ]
    },
    {
     "name": "stderr",
     "output_type": "stream",
     "text": [
      " 81%|████████▏ | 12200/15000 [20:15<04:23, 10.61it/s]"
     ]
    },
    {
     "name": "stdout",
     "output_type": "stream",
     "text": [
      "step = 12200: loss = 0.00044814051943831146, reward = 0.7460294365882874\n"
     ]
    },
    {
     "name": "stderr",
     "output_type": "stream",
     "text": [
      " 82%|████████▏ | 12300/15000 [20:30<04:48,  9.35it/s]"
     ]
    },
    {
     "name": "stdout",
     "output_type": "stream",
     "text": [
      "step = 12300: loss = 9.78040861809859e-06, reward = 0.7460294365882874\n"
     ]
    },
    {
     "name": "stderr",
     "output_type": "stream",
     "text": [
      " 83%|████████▎ | 12401/15000 [20:40<04:22,  9.88it/s]"
     ]
    },
    {
     "name": "stdout",
     "output_type": "stream",
     "text": [
      "step = 12400: loss = 0.0005489480099640787, reward = 0.7460294365882874\n"
     ]
    },
    {
     "name": "stderr",
     "output_type": "stream",
     "text": [
      " 83%|████████▎ | 12500/15000 [20:50<04:09, 10.01it/s]"
     ]
    },
    {
     "name": "stdout",
     "output_type": "stream",
     "text": [
      "step = 12500: loss = 0.00043387970072217286, reward = 0.7460294365882874\n"
     ]
    },
    {
     "name": "stderr",
     "output_type": "stream",
     "text": [
      " 84%|████████▍ | 12600/15000 [21:00<03:57, 10.12it/s]"
     ]
    },
    {
     "name": "stdout",
     "output_type": "stream",
     "text": [
      "step = 12600: loss = 1.8507773347664624e-05, reward = 0.7460294365882874\n"
     ]
    },
    {
     "name": "stderr",
     "output_type": "stream",
     "text": [
      " 85%|████████▍ | 12701/15000 [21:11<03:54,  9.81it/s]"
     ]
    },
    {
     "name": "stdout",
     "output_type": "stream",
     "text": [
      "step = 12700: loss = 1.602602242201101e-05, reward = 0.7460294365882874\n"
     ]
    },
    {
     "name": "stderr",
     "output_type": "stream",
     "text": [
      " 85%|████████▌ | 12801/15000 [21:26<03:56,  9.31it/s]"
     ]
    },
    {
     "name": "stdout",
     "output_type": "stream",
     "text": [
      "step = 12800: loss = 0.0001262047589989379, reward = 0.7460294365882874\n"
     ]
    },
    {
     "name": "stderr",
     "output_type": "stream",
     "text": [
      " 86%|████████▌ | 12900/15000 [21:47<03:44,  9.36it/s]  "
     ]
    },
    {
     "name": "stdout",
     "output_type": "stream",
     "text": [
      "step = 12900: loss = 4.48054306616541e-05, reward = 0.7460294365882874\n"
     ]
    },
    {
     "name": "stderr",
     "output_type": "stream",
     "text": [
      " 87%|████████▋ | 13001/15000 [21:58<03:34,  9.31it/s]"
     ]
    },
    {
     "name": "stdout",
     "output_type": "stream",
     "text": [
      "step = 13000: loss = 1.6516281675649225e-07, reward = 0.7460294365882874\n"
     ]
    },
    {
     "name": "stderr",
     "output_type": "stream",
     "text": [
      " 87%|████████▋ | 13102/15000 [22:08<03:04, 10.30it/s]"
     ]
    },
    {
     "name": "stdout",
     "output_type": "stream",
     "text": [
      "step = 13100: loss = 6.72529698597657e-10, reward = 0.7460294365882874\n"
     ]
    },
    {
     "name": "stderr",
     "output_type": "stream",
     "text": [
      " 88%|████████▊ | 13202/15000 [22:18<02:52, 10.42it/s]"
     ]
    },
    {
     "name": "stdout",
     "output_type": "stream",
     "text": [
      "step = 13200: loss = 0.0004562733229249716, reward = 0.7460294365882874\n"
     ]
    },
    {
     "name": "stderr",
     "output_type": "stream",
     "text": [
      " 89%|████████▊ | 13301/15000 [22:34<03:01,  9.35it/s]"
     ]
    },
    {
     "name": "stdout",
     "output_type": "stream",
     "text": [
      "step = 13300: loss = 1.7771395732779638e-07, reward = 0.7460294365882874\n"
     ]
    },
    {
     "name": "stderr",
     "output_type": "stream",
     "text": [
      " 89%|████████▉ | 13402/15000 [22:44<02:32, 10.48it/s]"
     ]
    },
    {
     "name": "stdout",
     "output_type": "stream",
     "text": [
      "step = 13400: loss = 1.207842159622885e-11, reward = 0.7460294365882874\n"
     ]
    },
    {
     "name": "stderr",
     "output_type": "stream",
     "text": [
      " 90%|█████████ | 13500/15000 [22:54<02:24, 10.37it/s]"
     ]
    },
    {
     "name": "stdout",
     "output_type": "stream",
     "text": [
      "step = 13500: loss = 7.087365416769131e-12, reward = 0.7460294365882874\n"
     ]
    },
    {
     "name": "stderr",
     "output_type": "stream",
     "text": [
      " 91%|█████████ | 13601/15000 [23:03<02:07, 10.97it/s]"
     ]
    },
    {
     "name": "stdout",
     "output_type": "stream",
     "text": [
      "step = 13600: loss = 5.678096881567285e-14, reward = 0.7460294365882874\n"
     ]
    },
    {
     "name": "stderr",
     "output_type": "stream",
     "text": [
      " 91%|█████████▏| 13701/15000 [23:12<02:00, 10.75it/s]"
     ]
    },
    {
     "name": "stdout",
     "output_type": "stream",
     "text": [
      "step = 13700: loss = 3.8691272408186705e-14, reward = 0.7460294365882874\n"
     ]
    },
    {
     "name": "stderr",
     "output_type": "stream",
     "text": [
      " 92%|█████████▏| 13800/15000 [23:25<01:56, 10.34it/s]"
     ]
    },
    {
     "name": "stdout",
     "output_type": "stream",
     "text": [
      "step = 13800: loss = 6.00908212078366e-15, reward = 0.7460294365882874\n"
     ]
    },
    {
     "name": "stderr",
     "output_type": "stream",
     "text": [
      " 93%|█████████▎| 13901/15000 [23:35<01:45, 10.39it/s]"
     ]
    },
    {
     "name": "stdout",
     "output_type": "stream",
     "text": [
      "step = 13900: loss = 3.58046925441613e-15, reward = 0.7460294365882874\n"
     ]
    },
    {
     "name": "stderr",
     "output_type": "stream",
     "text": [
      " 93%|█████████▎| 14002/15000 [23:45<01:34, 10.59it/s]"
     ]
    },
    {
     "name": "stdout",
     "output_type": "stream",
     "text": [
      "step = 14000: loss = 3.066991105526995e-15, reward = 0.7460294365882874\n"
     ]
    },
    {
     "name": "stderr",
     "output_type": "stream",
     "text": [
      " 94%|█████████▍| 14102/15000 [23:54<01:24, 10.58it/s]"
     ]
    },
    {
     "name": "stdout",
     "output_type": "stream",
     "text": [
      "step = 14100: loss = 4.36736736446619e-05, reward = 0.7460294365882874\n"
     ]
    },
    {
     "name": "stderr",
     "output_type": "stream",
     "text": [
      " 95%|█████████▍| 14202/15000 [24:04<01:13, 10.82it/s]"
     ]
    },
    {
     "name": "stdout",
     "output_type": "stream",
     "text": [
      "step = 14200: loss = 6.634318765463831e-07, reward = 0.7460294365882874\n"
     ]
    },
    {
     "name": "stderr",
     "output_type": "stream",
     "text": [
      " 95%|█████████▌| 14301/15000 [24:19<01:31,  7.68it/s]"
     ]
    },
    {
     "name": "stdout",
     "output_type": "stream",
     "text": [
      "step = 14300: loss = 2.077443241432775e-06, reward = 0.7460294365882874\n"
     ]
    },
    {
     "name": "stderr",
     "output_type": "stream",
     "text": [
      " 96%|█████████▌| 14401/15000 [24:29<01:00,  9.98it/s]"
     ]
    },
    {
     "name": "stdout",
     "output_type": "stream",
     "text": [
      "step = 14400: loss = 0.00013485118688549846, reward = 0.7460294365882874\n"
     ]
    },
    {
     "name": "stderr",
     "output_type": "stream",
     "text": [
      " 97%|█████████▋| 14502/15000 [24:39<00:48, 10.33it/s]"
     ]
    },
    {
     "name": "stdout",
     "output_type": "stream",
     "text": [
      "step = 14500: loss = 6.227570992223264e-08, reward = 0.7460294365882874\n"
     ]
    },
    {
     "name": "stderr",
     "output_type": "stream",
     "text": [
      " 97%|█████████▋| 14602/15000 [24:49<00:37, 10.67it/s]"
     ]
    },
    {
     "name": "stdout",
     "output_type": "stream",
     "text": [
      "step = 14600: loss = 1.0238916658966701e-10, reward = 0.7460294365882874\n"
     ]
    },
    {
     "name": "stderr",
     "output_type": "stream",
     "text": [
      " 98%|█████████▊| 14702/15000 [24:58<00:28, 10.64it/s]"
     ]
    },
    {
     "name": "stdout",
     "output_type": "stream",
     "text": [
      "step = 14700: loss = 7.055784428944278e-11, reward = 0.7460294365882874\n"
     ]
    },
    {
     "name": "stderr",
     "output_type": "stream",
     "text": [
      " 99%|█████████▊| 14802/15000 [25:08<00:18, 10.83it/s]"
     ]
    },
    {
     "name": "stdout",
     "output_type": "stream",
     "text": [
      "step = 14800: loss = 3.034701023807429e-07, reward = 0.7460294365882874\n"
     ]
    },
    {
     "name": "stderr",
     "output_type": "stream",
     "text": [
      " 99%|█████████▉| 14902/15000 [25:24<00:09, 10.18it/s]"
     ]
    },
    {
     "name": "stdout",
     "output_type": "stream",
     "text": [
      "step = 14900: loss = 8.003844413906336e-06, reward = 0.7460294365882874\n"
     ]
    },
    {
     "name": "stderr",
     "output_type": "stream",
     "text": [
      "100%|██████████| 15000/15000 [25:33<00:00,  9.78it/s]"
     ]
    },
    {
     "name": "stdout",
     "output_type": "stream",
     "text": [
      "step = 15000: loss = 8.81141826170051e-09, reward = 0.7460294365882874\n"
     ]
    },
    {
     "name": "stderr",
     "output_type": "stream",
     "text": [
      "\n"
     ]
    }
   ],
   "source": [
    "num_steps = 15000\n",
    "loss, observations, rewards = train(agent, train_env, eval_env, steps = num_steps)"
   ]
  },
  {
   "cell_type": "code",
   "execution_count": 13,
   "metadata": {},
   "outputs": [
    {
     "data": {
      "image/png": "[encoded data removed]",
      "text/plain": [
       "<Figure size 640x480 with 2 Axes>"
      ]
     },
     "metadata": {},
     "output_type": "display_data"
    }
   ],
   "source": [
    "fig, ax1 = plt.subplots()\n",
    "\n",
    "steps = [step for step in range(0, 15000, 100)]\n",
    "color = 'tab:red'\n",
    "ax1.set_xlabel('steps')\n",
    "ax1.set_ylabel('loss', color=color)\n",
    "ax1.plot(steps, loss, color=color)\n",
    "ax1.tick_params(axis='y', labelcolor=color)\n",
    "\n",
    "ax2 = ax1.twinx()  # instantiate a second axes that shares the same x-axis\n",
    "\n",
    "color = 'tab:blue'\n",
    "ax2.set_ylabel('rewards', color=color)  # we already handled the x-label with ax1\n",
    "ax2.plot(steps, rewards, color=color)\n",
    "ax2.tick_params(axis='y', labelcolor=color)\n",
    "\n",
    "fig.tight_layout()  # otherwise the right y-label is slightly clipped\n",
    "plt.show()"
   ]
  },
  {
   "cell_type": "code",
   "execution_count": null,
   "metadata": {},
   "outputs": [
    {
     "ename": "NameError",
     "evalue": "name 'plt' is not defined",
     "output_type": "error",
     "traceback": [
      "\u001b[0;31m---------------------------------------------------------------------------\u001b[0m",
      "\u001b[0;31mNameError\u001b[0m                                 Traceback (most recent call last)",
      "\u001b[1;32m/Users/ellkrauze/projects/gc-ml/main_dqn.ipynb Cell 28\u001b[0m line \u001b[0;36m1\n\u001b[0;32m----> <a href='vscode-notebook-cell:/Users/ellkrauze/projects/gc-ml/main_dqn.ipynb#X36sZmlsZQ%3D%3D?line=0'>1</a>\u001b[0m plt\u001b[39m.\u001b[39mplot(rewards, label\u001b[39m=\u001b[39m\u001b[39m\"\u001b[39m\u001b[39mRewards\u001b[39m\u001b[39m\"\u001b[39m)\n\u001b[1;32m      <a href='vscode-notebook-cell:/Users/ellkrauze/projects/gc-ml/main_dqn.ipynb#X36sZmlsZQ%3D%3D?line=1'>2</a>\u001b[0m plt\u001b[39m.\u001b[39mxlabel(\u001b[39m'\u001b[39m\u001b[39mStep\u001b[39m\u001b[39m'\u001b[39m)\n\u001b[1;32m      <a href='vscode-notebook-cell:/Users/ellkrauze/projects/gc-ml/main_dqn.ipynb#X36sZmlsZQ%3D%3D?line=2'>3</a>\u001b[0m plt\u001b[39m.\u001b[39mlegend()\n",
      "\u001b[0;31mNameError\u001b[0m: name 'plt' is not defined"
     ]
    }
   ],
   "source": [
    "plt.plot(rewards, label=\"Rewards\")\n",
    "plt.xlabel('Step')\n",
    "plt.legend()\n",
    "plt.show()"
   ]
  },
  {
   "cell_type": "code",
   "execution_count": 12,
   "metadata": {},
   "outputs": [
    {
     "data": {
      "image/png": "[encoded data removed]",
      "text/plain": [
       "<Figure size 640x480 with 1 Axes>"
      ]
     },
     "metadata": {},
     "output_type": "display_data"
    }
   ],
   "source": [
    "plt.plot(loss, label=\"Loss\", c='r')\n",
    "# plt.plot(rewards, label=\"Rewards\")\n",
    "plt.xlabel('Step')\n",
    "plt.legend()\n",
    "plt.show()"
   ]
  },
  {
   "cell_type": "markdown",
   "metadata": {},
   "source": [
    "Save to checkpoint."
   ]
  },
  {
   "cell_type": "code",
   "execution_count": null,
   "metadata": {},
   "outputs": [],
   "source": [
    "# train_checkpointer.save(global_step)"
   ]
  },
  {
   "cell_type": "markdown",
   "metadata": {},
   "source": [
    "# WandB"
   ]
  },
  {
   "cell_type": "code",
   "execution_count": 9,
   "metadata": {},
   "outputs": [
    {
     "name": "stderr",
     "output_type": "stream",
     "text": [
      "ERROR:wandb.jupyter:Failed to detect the name of this notebook, you can set it manually with the WANDB_NOTEBOOK_NAME environment variable to enable code saving.\n"
     ]
    },
    {
     "name": "stdout",
     "output_type": "stream",
     "text": [
      "Create sweep with ID: srh8mikx\n",
      "Sweep URL: https://wandb.ai/cold-machines/Reinforcement%20Learning%20%28DQN%29%20-%20JVM-GC/sweeps/srh8mikx\n"
     ]
    },
    {
     "name": "stderr",
     "output_type": "stream",
     "text": [
      "\u001b[34m\u001b[1mwandb\u001b[0m: Agent Starting Run: 86wuplng with config:\n",
      "\u001b[34m\u001b[1mwandb\u001b[0m: \tepsilon_greedy: 0.7\n",
      "\u001b[34m\u001b[1mwandb\u001b[0m: \tgamma: 0.1\n",
      "\u001b[34m\u001b[1mwandb\u001b[0m: \tlearning_rate: 0.009081865474555018\n",
      "\u001b[34m\u001b[1mwandb\u001b[0m: \ttarget_update_period: 100\n",
      "ERROR:wandb.jupyter:Failed to detect the name of this notebook, you can set it manually with the WANDB_NOTEBOOK_NAME environment variable to enable code saving.\n",
      "\u001b[34m\u001b[1mwandb\u001b[0m: Currently logged in as: \u001b[33mvaleriia-sakovskaia\u001b[0m (\u001b[33mcold-machines\u001b[0m). Use \u001b[1m`wandb login --relogin`\u001b[0m to force relogin\n"
     ]
    },
    {
     "data": {
      "text/html": [
       "Tracking run with wandb version 0.15.12"
      ],
      "text/plain": [
       "<IPython.core.display.HTML object>"
      ]
     },
     "metadata": {},
     "output_type": "display_data"
    },
    {
     "data": {
      "text/html": [
       "Run data is saved locally in <code>/home/vsakovskaya/gc-ml/wandb/run-20231031_074257-86wuplng</code>"
      ],
      "text/plain": [
       "<IPython.core.display.HTML object>"
      ]
     },
     "metadata": {},
     "output_type": "display_data"
    },
    {
     "data": {
      "text/html": [
       "Syncing run <strong><a href='https://wandb.ai/cold-machines/Reinforcement%20Learning%20%28DQN%29%20-%20JVM-GC/runs/86wuplng' target=\"_blank\">rare-sweep-1</a></strong> to <a href='https://wandb.ai/cold-machines/Reinforcement%20Learning%20%28DQN%29%20-%20JVM-GC' target=\"_blank\">Weights & Biases</a> (<a href='https://wandb.me/run' target=\"_blank\">docs</a>)<br/>Sweep page: <a href='https://wandb.ai/cold-machines/Reinforcement%20Learning%20%28DQN%29%20-%20JVM-GC/sweeps/srh8mikx' target=\"_blank\">https://wandb.ai/cold-machines/Reinforcement%20Learning%20%28DQN%29%20-%20JVM-GC/sweeps/srh8mikx</a>"
      ],
      "text/plain": [
       "<IPython.core.display.HTML object>"
      ]
     },
     "metadata": {},
     "output_type": "display_data"
    },
    {
     "data": {
      "text/html": [
       " View project at <a href='https://wandb.ai/cold-machines/Reinforcement%20Learning%20%28DQN%29%20-%20JVM-GC' target=\"_blank\">https://wandb.ai/cold-machines/Reinforcement%20Learning%20%28DQN%29%20-%20JVM-GC</a>"
      ],
      "text/plain": [
       "<IPython.core.display.HTML object>"
      ]
     },
     "metadata": {},
     "output_type": "display_data"
    },
    {
     "data": {
      "text/html": [
       " View sweep at <a href='https://wandb.ai/cold-machines/Reinforcement%20Learning%20%28DQN%29%20-%20JVM-GC/sweeps/srh8mikx' target=\"_blank\">https://wandb.ai/cold-machines/Reinforcement%20Learning%20%28DQN%29%20-%20JVM-GC/sweeps/srh8mikx</a>"
      ],
      "text/plain": [
       "<IPython.core.display.HTML object>"
      ]
     },
     "metadata": {},
     "output_type": "display_data"
    },
    {
     "data": {
      "text/html": [
       " View run at <a href='https://wandb.ai/cold-machines/Reinforcement%20Learning%20%28DQN%29%20-%20JVM-GC/runs/86wuplng' target=\"_blank\">https://wandb.ai/cold-machines/Reinforcement%20Learning%20%28DQN%29%20-%20JVM-GC/runs/86wuplng</a>"
      ],
      "text/plain": [
       "<IPython.core.display.HTML object>"
      ]
     },
     "metadata": {},
     "output_type": "display_data"
    },
    {
     "name": "stderr",
     "output_type": "stream",
     "text": [
      "100%|██████████| 50/50 [00:00<00:00, 149.90it/s]\n",
      "  0%|          | 0/5000 [00:00<?, ?it/s]"
     ]
    },
    {
     "name": "stdout",
     "output_type": "stream",
     "text": [
      "WARNING:tensorflow:From /home/vsakovskaya/my-env/lib/python3.9/site-packages/tensorflow/python/util/dispatch.py:1176: calling foldr_v2 (from tensorflow.python.ops.functional_ops) with back_prop=False is deprecated and will be removed in a future version.\n",
      "Instructions for updating:\n",
      "back_prop=False is deprecated. Consider using tf.stop_gradient instead.\n",
      "Instead of:\n",
      "results = tf.foldr(fn, elems, back_prop=False)\n",
      "Use:\n",
      "results = tf.nest.map_structure(tf.stop_gradient, tf.foldr(fn, elems))\n"
     ]
    },
    {
     "name": "stderr",
     "output_type": "stream",
     "text": [
      "WARNING:tensorflow:From /home/vsakovskaya/my-env/lib/python3.9/site-packages/tensorflow/python/util/dispatch.py:1176: calling foldr_v2 (from tensorflow.python.ops.functional_ops) with back_prop=False is deprecated and will be removed in a future version.\n",
      "Instructions for updating:\n",
      "back_prop=False is deprecated. Consider using tf.stop_gradient instead.\n",
      "Instead of:\n",
      "results = tf.foldr(fn, elems, back_prop=False)\n",
      "Use:\n",
      "results = tf.nest.map_structure(tf.stop_gradient, tf.foldr(fn, elems))\n",
      "100%|██████████| 50/50 [00:00<00:00, 138.65it/s]] \n",
      "  2%|▏         | 101/5000 [00:16<18:44,  4.36it/s]"
     ]
    },
    {
     "name": "stdout",
     "output_type": "stream",
     "text": [
      "step = 100: loss = 0.051988594233989716, reward = -0.05968308076262474\n"
     ]
    },
    {
     "name": "stderr",
     "output_type": "stream",
     "text": [
      "100%|██████████| 50/50 [00:00<00:00, 142.71it/s]s]\n",
      "  4%|▍         | 201/5000 [00:32<17:56,  4.46it/s]"
     ]
    },
    {
     "name": "stdout",
     "output_type": "stream",
     "text": [
      "step = 200: loss = 0.04959993064403534, reward = -0.05968308076262474\n"
     ]
    },
    {
     "name": "stderr",
     "output_type": "stream",
     "text": [
      "100%|██████████| 50/50 [00:00<00:00, 150.07it/s]s]\n",
      "  6%|▌         | 301/5000 [00:48<17:17,  4.53it/s]"
     ]
    },
    {
     "name": "stdout",
     "output_type": "stream",
     "text": [
      "step = 300: loss = 0.05310416966676712, reward = -0.05968308076262474\n"
     ]
    },
    {
     "name": "stderr",
     "output_type": "stream",
     "text": [
      "100%|██████████| 50/50 [00:00<00:00, 149.06it/s]s]\n",
      "  8%|▊         | 401/5000 [01:04<21:05,  3.64it/s]"
     ]
    },
    {
     "name": "stdout",
     "output_type": "stream",
     "text": [
      "step = 400: loss = 0.07190939784049988, reward = -0.05968308076262474\n"
     ]
    },
    {
     "name": "stderr",
     "output_type": "stream",
     "text": [
      "100%|██████████| 50/50 [00:00<00:00, 149.21it/s]s]\n",
      " 10%|█         | 501/5000 [01:20<16:40,  4.50it/s]"
     ]
    },
    {
     "name": "stdout",
     "output_type": "stream",
     "text": [
      "step = 500: loss = 0.06140190362930298, reward = -0.05968308076262474\n"
     ]
    },
    {
     "name": "stderr",
     "output_type": "stream",
     "text": [
      "100%|██████████| 50/50 [00:00<00:00, 145.06it/s]s]\n",
      " 12%|█▏        | 601/5000 [01:36<16:26,  4.46it/s]"
     ]
    },
    {
     "name": "stdout",
     "output_type": "stream",
     "text": [
      "step = 600: loss = 0.07814410328865051, reward = -0.05968308076262474\n"
     ]
    },
    {
     "name": "stderr",
     "output_type": "stream",
     "text": [
      "100%|██████████| 50/50 [00:00<00:00, 142.03it/s]s]\n",
      " 14%|█▍        | 701/5000 [01:53<16:30,  4.34it/s]"
     ]
    },
    {
     "name": "stdout",
     "output_type": "stream",
     "text": [
      "step = 700: loss = 0.05395403504371643, reward = -0.05968308076262474\n"
     ]
    },
    {
     "name": "stderr",
     "output_type": "stream",
     "text": [
      "100%|██████████| 50/50 [00:00<00:00, 148.61it/s]s]\n",
      " 16%|█▌        | 801/5000 [02:08<15:39,  4.47it/s]"
     ]
    },
    {
     "name": "stdout",
     "output_type": "stream",
     "text": [
      "step = 800: loss = 0.05778862535953522, reward = -0.05968308076262474\n"
     ]
    },
    {
     "name": "stderr",
     "output_type": "stream",
     "text": [
      "100%|██████████| 50/50 [00:00<00:00, 149.60it/s]s]\n",
      " 18%|█▊        | 901/5000 [02:25<14:59,  4.56it/s]"
     ]
    },
    {
     "name": "stdout",
     "output_type": "stream",
     "text": [
      "step = 900: loss = 0.05692460760474205, reward = -0.05968308076262474\n"
     ]
    },
    {
     "name": "stderr",
     "output_type": "stream",
     "text": [
      "100%|██████████| 50/50 [00:00<00:00, 148.17it/s]s]\n",
      " 20%|██        | 1001/5000 [02:41<15:17,  4.36it/s]"
     ]
    },
    {
     "name": "stdout",
     "output_type": "stream",
     "text": [
      "step = 1000: loss = 0.059485163539648056, reward = -0.05968308076262474\n"
     ]
    },
    {
     "name": "stderr",
     "output_type": "stream",
     "text": [
      "100%|██████████| 50/50 [00:00<00:00, 144.85it/s]/s]\n",
      " 22%|██▏       | 1101/5000 [02:57<14:36,  4.45it/s]"
     ]
    },
    {
     "name": "stdout",
     "output_type": "stream",
     "text": [
      "step = 1100: loss = 0.07164233177900314, reward = -0.05968308076262474\n"
     ]
    },
    {
     "name": "stderr",
     "output_type": "stream",
     "text": [
      "100%|██████████| 50/50 [00:00<00:00, 139.96it/s]/s]\n",
      " 24%|██▍       | 1201/5000 [03:14<14:20,  4.41it/s]"
     ]
    },
    {
     "name": "stdout",
     "output_type": "stream",
     "text": [
      "step = 1200: loss = 0.04963871091604233, reward = -0.05968308076262474\n"
     ]
    },
    {
     "name": "stderr",
     "output_type": "stream",
     "text": [
      "100%|██████████| 50/50 [00:00<00:00, 151.36it/s]/s]\n",
      " 26%|██▌       | 1301/5000 [03:30<14:23,  4.28it/s]"
     ]
    },
    {
     "name": "stdout",
     "output_type": "stream",
     "text": [
      "step = 1300: loss = 0.05595877766609192, reward = -0.05968308076262474\n"
     ]
    },
    {
     "name": "stderr",
     "output_type": "stream",
     "text": [
      "100%|██████████| 50/50 [00:00<00:00, 146.66it/s]/s]\n",
      " 28%|██▊       | 1401/5000 [03:46<13:25,  4.47it/s]"
     ]
    },
    {
     "name": "stdout",
     "output_type": "stream",
     "text": [
      "step = 1400: loss = 0.05879542976617813, reward = -0.05968308076262474\n"
     ]
    },
    {
     "name": "stderr",
     "output_type": "stream",
     "text": [
      "100%|██████████| 50/50 [00:00<00:00, 149.67it/s]/s]\n",
      " 30%|███       | 1501/5000 [04:02<12:52,  4.53it/s]"
     ]
    },
    {
     "name": "stdout",
     "output_type": "stream",
     "text": [
      "step = 1500: loss = 0.06716286391019821, reward = -0.05968308076262474\n"
     ]
    },
    {
     "name": "stderr",
     "output_type": "stream",
     "text": [
      "100%|██████████| 50/50 [00:00<00:00, 131.84it/s]/s]\n",
      " 32%|███▏      | 1601/5000 [04:18<13:14,  4.28it/s]"
     ]
    },
    {
     "name": "stdout",
     "output_type": "stream",
     "text": [
      "step = 1600: loss = 0.05800986662507057, reward = -0.05968308076262474\n"
     ]
    },
    {
     "name": "stderr",
     "output_type": "stream",
     "text": [
      "100%|██████████| 50/50 [00:00<00:00, 145.37it/s]/s]\n",
      " 34%|███▍      | 1701/5000 [04:35<12:29,  4.40it/s]"
     ]
    },
    {
     "name": "stdout",
     "output_type": "stream",
     "text": [
      "step = 1700: loss = 0.06368903815746307, reward = -0.05968308076262474\n"
     ]
    },
    {
     "name": "stderr",
     "output_type": "stream",
     "text": [
      "100%|██████████| 50/50 [00:00<00:00, 139.72it/s]/s]\n",
      " 36%|███▌      | 1801/5000 [04:51<12:38,  4.22it/s]"
     ]
    },
    {
     "name": "stdout",
     "output_type": "stream",
     "text": [
      "step = 1800: loss = 0.05840213596820831, reward = -0.05968308076262474\n"
     ]
    },
    {
     "name": "stderr",
     "output_type": "stream",
     "text": [
      "100%|██████████| 50/50 [00:00<00:00, 144.50it/s]/s]\n",
      " 38%|███▊      | 1901/5000 [05:07<11:47,  4.38it/s]"
     ]
    },
    {
     "name": "stdout",
     "output_type": "stream",
     "text": [
      "step = 1900: loss = 0.06790091097354889, reward = -0.05968308076262474\n"
     ]
    },
    {
     "name": "stderr",
     "output_type": "stream",
     "text": [
      "100%|██████████| 50/50 [00:00<00:00, 148.98it/s]/s]\n",
      " 40%|████      | 2001/5000 [05:24<11:03,  4.52it/s]"
     ]
    },
    {
     "name": "stdout",
     "output_type": "stream",
     "text": [
      "step = 2000: loss = 0.05456307530403137, reward = -0.05968308076262474\n"
     ]
    },
    {
     "name": "stderr",
     "output_type": "stream",
     "text": [
      "100%|██████████| 50/50 [00:00<00:00, 147.69it/s]/s]\n",
      " 42%|████▏     | 2101/5000 [05:39<10:43,  4.51it/s]"
     ]
    },
    {
     "name": "stdout",
     "output_type": "stream",
     "text": [
      "step = 2100: loss = 0.05199477821588516, reward = -0.05968308076262474\n"
     ]
    },
    {
     "name": "stderr",
     "output_type": "stream",
     "text": [
      "100%|██████████| 50/50 [00:00<00:00, 146.01it/s]/s]\n",
      " 44%|████▍     | 2201/5000 [05:56<10:51,  4.30it/s]"
     ]
    },
    {
     "name": "stdout",
     "output_type": "stream",
     "text": [
      "step = 2200: loss = 0.046316057443618774, reward = -0.05968308076262474\n"
     ]
    },
    {
     "name": "stderr",
     "output_type": "stream",
     "text": [
      "100%|██████████| 50/50 [00:00<00:00, 151.46it/s]/s]\n",
      " 46%|████▌     | 2301/5000 [06:12<09:51,  4.56it/s]"
     ]
    },
    {
     "name": "stdout",
     "output_type": "stream",
     "text": [
      "step = 2300: loss = 0.0451720654964447, reward = -0.05968308076262474\n"
     ]
    },
    {
     "name": "stderr",
     "output_type": "stream",
     "text": [
      "100%|██████████| 50/50 [00:00<00:00, 139.11it/s]/s]\n",
      " 48%|████▊     | 2401/5000 [06:28<09:59,  4.34it/s]"
     ]
    },
    {
     "name": "stdout",
     "output_type": "stream",
     "text": [
      "step = 2400: loss = 0.05063679814338684, reward = -0.05968308076262474\n"
     ]
    },
    {
     "name": "stderr",
     "output_type": "stream",
     "text": [
      "100%|██████████| 50/50 [00:00<00:00, 149.10it/s]/s]\n",
      " 50%|█████     | 2501/5000 [06:44<09:13,  4.51it/s]"
     ]
    },
    {
     "name": "stdout",
     "output_type": "stream",
     "text": [
      "step = 2500: loss = 0.05682305246591568, reward = -0.05968308076262474\n"
     ]
    },
    {
     "name": "stderr",
     "output_type": "stream",
     "text": [
      "100%|██████████| 50/50 [00:00<00:00, 151.48it/s]/s]\n",
      " 52%|█████▏    | 2601/5000 [07:01<08:57,  4.46it/s]"
     ]
    },
    {
     "name": "stdout",
     "output_type": "stream",
     "text": [
      "step = 2600: loss = 0.057316817343235016, reward = -0.05968308076262474\n"
     ]
    },
    {
     "name": "stderr",
     "output_type": "stream",
     "text": [
      "100%|██████████| 50/50 [00:00<00:00, 148.48it/s]/s]\n",
      " 54%|█████▍    | 2701/5000 [07:17<08:40,  4.42it/s]"
     ]
    },
    {
     "name": "stdout",
     "output_type": "stream",
     "text": [
      "step = 2700: loss = 0.06233186647295952, reward = -0.05968308076262474\n"
     ]
    },
    {
     "name": "stderr",
     "output_type": "stream",
     "text": [
      "100%|██████████| 50/50 [00:00<00:00, 147.44it/s]/s]\n",
      " 56%|█████▌    | 2801/5000 [07:34<08:08,  4.50it/s]"
     ]
    },
    {
     "name": "stdout",
     "output_type": "stream",
     "text": [
      "step = 2800: loss = 0.030263567343354225, reward = -0.05968308076262474\n"
     ]
    },
    {
     "name": "stderr",
     "output_type": "stream",
     "text": [
      "100%|██████████| 50/50 [00:00<00:00, 150.17it/s]/s]\n",
      " 58%|█████▊    | 2901/5000 [07:49<07:45,  4.51it/s]"
     ]
    },
    {
     "name": "stdout",
     "output_type": "stream",
     "text": [
      "step = 2900: loss = 0.12275780737400055, reward = -0.05968308076262474\n"
     ]
    },
    {
     "name": "stderr",
     "output_type": "stream",
     "text": [
      "100%|██████████| 50/50 [00:00<00:00, 145.94it/s]/s]\n",
      " 60%|██████    | 3001/5000 [08:06<07:35,  4.39it/s]"
     ]
    },
    {
     "name": "stdout",
     "output_type": "stream",
     "text": [
      "step = 3000: loss = 0.0640171468257904, reward = -0.05968308076262474\n"
     ]
    },
    {
     "name": "stderr",
     "output_type": "stream",
     "text": [
      "100%|██████████| 50/50 [00:00<00:00, 145.29it/s]/s]\n",
      " 62%|██████▏   | 3101/5000 [08:22<07:06,  4.45it/s]"
     ]
    },
    {
     "name": "stdout",
     "output_type": "stream",
     "text": [
      "step = 3100: loss = 0.06743437051773071, reward = -0.05968308076262474\n"
     ]
    },
    {
     "name": "stderr",
     "output_type": "stream",
     "text": [
      "100%|██████████| 50/50 [00:00<00:00, 142.10it/s]/s]\n",
      " 64%|██████▍   | 3201/5000 [08:39<07:00,  4.27it/s]"
     ]
    },
    {
     "name": "stdout",
     "output_type": "stream",
     "text": [
      "step = 3200: loss = 0.07279805094003677, reward = -0.05968308076262474\n"
     ]
    },
    {
     "name": "stderr",
     "output_type": "stream",
     "text": [
      "100%|██████████| 50/50 [00:00<00:00, 145.21it/s]/s]\n",
      " 66%|██████▌   | 3301/5000 [08:55<06:22,  4.45it/s]"
     ]
    },
    {
     "name": "stdout",
     "output_type": "stream",
     "text": [
      "step = 3300: loss = 0.03942070156335831, reward = -0.05968308076262474\n"
     ]
    },
    {
     "name": "stderr",
     "output_type": "stream",
     "text": [
      "100%|██████████| 50/50 [00:00<00:00, 148.63it/s]/s]\n",
      " 68%|██████▊   | 3401/5000 [09:12<06:25,  4.14it/s]"
     ]
    },
    {
     "name": "stdout",
     "output_type": "stream",
     "text": [
      "step = 3400: loss = 0.06413926929235458, reward = -0.05968308076262474\n"
     ]
    },
    {
     "name": "stderr",
     "output_type": "stream",
     "text": [
      "100%|██████████| 50/50 [00:00<00:00, 138.84it/s]/s]\n",
      " 70%|███████   | 3501/5000 [09:27<05:42,  4.38it/s]"
     ]
    },
    {
     "name": "stdout",
     "output_type": "stream",
     "text": [
      "step = 3500: loss = 0.04303019493818283, reward = -0.05968308076262474\n"
     ]
    },
    {
     "name": "stderr",
     "output_type": "stream",
     "text": [
      "100%|██████████| 50/50 [00:00<00:00, 151.39it/s]/s]\n",
      " 72%|███████▏  | 3601/5000 [09:43<05:13,  4.46it/s]"
     ]
    },
    {
     "name": "stdout",
     "output_type": "stream",
     "text": [
      "step = 3600: loss = 0.0326034352183342, reward = -0.05968308076262474\n"
     ]
    },
    {
     "name": "stderr",
     "output_type": "stream",
     "text": [
      "100%|██████████| 50/50 [00:00<00:00, 145.81it/s]/s]\n",
      " 74%|███████▍  | 3701/5000 [10:00<04:56,  4.38it/s]"
     ]
    },
    {
     "name": "stdout",
     "output_type": "stream",
     "text": [
      "step = 3700: loss = 0.06070145219564438, reward = -0.05968308076262474\n"
     ]
    },
    {
     "name": "stderr",
     "output_type": "stream",
     "text": [
      "100%|██████████| 50/50 [00:00<00:00, 147.19it/s]/s]\n",
      " 76%|███████▌  | 3801/5000 [10:16<04:34,  4.37it/s]"
     ]
    },
    {
     "name": "stdout",
     "output_type": "stream",
     "text": [
      "step = 3800: loss = 0.05568353831768036, reward = -0.05968308076262474\n"
     ]
    },
    {
     "name": "stderr",
     "output_type": "stream",
     "text": [
      "100%|██████████| 50/50 [00:00<00:00, 145.26it/s]/s]\n",
      " 78%|███████▊  | 3901/5000 [10:33<04:09,  4.40it/s]"
     ]
    },
    {
     "name": "stdout",
     "output_type": "stream",
     "text": [
      "step = 3900: loss = 0.0671439915895462, reward = -0.05968308076262474\n"
     ]
    },
    {
     "name": "stderr",
     "output_type": "stream",
     "text": [
      "100%|██████████| 50/50 [00:00<00:00, 146.18it/s]/s]\n",
      " 80%|████████  | 4001/5000 [10:49<03:42,  4.49it/s]"
     ]
    },
    {
     "name": "stdout",
     "output_type": "stream",
     "text": [
      "step = 4000: loss = 0.07973361760377884, reward = -0.05968308076262474\n"
     ]
    },
    {
     "name": "stderr",
     "output_type": "stream",
     "text": [
      "100%|██████████| 50/50 [00:00<00:00, 147.49it/s]/s]\n",
      " 82%|████████▏ | 4101/5000 [11:06<03:38,  4.11it/s]"
     ]
    },
    {
     "name": "stdout",
     "output_type": "stream",
     "text": [
      "step = 4100: loss = 0.05744113028049469, reward = -0.05968308076262474\n"
     ]
    },
    {
     "name": "stderr",
     "output_type": "stream",
     "text": [
      "100%|██████████| 50/50 [00:00<00:00, 145.54it/s]/s]\n",
      " 84%|████████▍ | 4201/5000 [11:22<03:00,  4.44it/s]"
     ]
    },
    {
     "name": "stdout",
     "output_type": "stream",
     "text": [
      "step = 4200: loss = 0.04437218979001045, reward = -0.05968308076262474\n"
     ]
    },
    {
     "name": "stderr",
     "output_type": "stream",
     "text": [
      "100%|██████████| 50/50 [00:00<00:00, 149.76it/s]/s]\n",
      " 86%|████████▌ | 4301/5000 [11:37<02:34,  4.51it/s]"
     ]
    },
    {
     "name": "stdout",
     "output_type": "stream",
     "text": [
      "step = 4300: loss = 0.06655722111463547, reward = -0.05968308076262474\n"
     ]
    },
    {
     "name": "stderr",
     "output_type": "stream",
     "text": [
      "100%|██████████| 50/50 [00:00<00:00, 149.96it/s]/s]\n",
      " 88%|████████▊ | 4401/5000 [11:55<02:13,  4.49it/s]"
     ]
    },
    {
     "name": "stdout",
     "output_type": "stream",
     "text": [
      "step = 4400: loss = 0.054657574743032455, reward = -0.05968308076262474\n"
     ]
    },
    {
     "name": "stderr",
     "output_type": "stream",
     "text": [
      "100%|██████████| 50/50 [00:00<00:00, 150.15it/s]/s]\n",
      " 90%|█████████ | 4501/5000 [12:10<01:51,  4.49it/s]"
     ]
    },
    {
     "name": "stdout",
     "output_type": "stream",
     "text": [
      "step = 4500: loss = 0.05559392273426056, reward = -0.05968308076262474\n"
     ]
    },
    {
     "name": "stderr",
     "output_type": "stream",
     "text": [
      "100%|██████████| 50/50 [00:00<00:00, 151.40it/s]/s]\n",
      " 92%|█████████▏| 4601/5000 [12:27<01:32,  4.31it/s]"
     ]
    },
    {
     "name": "stdout",
     "output_type": "stream",
     "text": [
      "step = 4600: loss = 0.062225304543972015, reward = -0.05968308076262474\n"
     ]
    },
    {
     "name": "stderr",
     "output_type": "stream",
     "text": [
      " 94%|█████████▎| 4678/5000 [12:39<00:49,  6.51it/s]"
     ]
    }
   ],
   "source": [
    "# Set this to True when you want to run hyperparameter tuning\n",
    "hyperparameter_tuning = True\n",
    "\n",
    "def main():\n",
    "    run = wandb.init(config = config)\n",
    "    \n",
    "    agent_args = {\n",
    "        \"q_network\":            get_q_net(action_spec, fc_layer_params),\n",
    "        \"optimizer\":            tf.compat.v1.train.AdamOptimizer(\n",
    "                                    learning_rate=run.config.learning_rate),\n",
    "        \"n_step_update\":        n_step_update, \n",
    "        \"td_errors_loss_fn\":    tf.keras.losses.MeanSquaredError(),\n",
    "        \"epsilon_greedy\":       run.config.epsilon_greedy,\n",
    "        \"target_update_period\": run.config.target_update_period,\n",
    "        \"gamma\":                run.config.gamma,\n",
    "        \"gradient_clipping\":    1,\n",
    "        \"train_step_counter\":   tf.compat.v1.train.get_or_create_global_step(),\n",
    "    }\n",
    "        \n",
    "    _agent = dqn_agent.DqnAgent(\n",
    "        time_step_spec,\n",
    "        action_spec,\n",
    "        **agent_args\n",
    "    )\n",
    "\n",
    "    loss, _, rewards = train(_agent, train_env, eval_env, steps = 5000, use_wandb = True)\n",
    "    \n",
    "    wandb.log({'avg_loss': np.mean(loss), 'avg_reward': np.mean(rewards)})\n",
    "\n",
    "    del _agent\n",
    "    return\n",
    "\n",
    "# Define sweep config\n",
    "sweep_configuration = {\n",
    "    'method': 'random',\n",
    "    'name': 'rl_greed',\n",
    "    \"metric\": {\n",
    "        \"name\" : \"avg_reward\",\n",
    "        \"goal\": \"maximize\"\n",
    "    },\n",
    "    \"parameters\" : {\n",
    "        \"learning_rate\": {\n",
    "            \"min\": 0.0001,\n",
    "            \"max\": 0.01\n",
    "        },\n",
    "        \"epsilon_greedy\": {'values': [0.1, 0.3, 0.5, 0.7, 0.9]},\n",
    "        \"target_update_period\": {'values': [1, 10, 100, 1000, 10000]},\n",
    "        \"gamma\": {'values': [0.1, 0.3, 0.5, 0.7, 0.9]},\n",
    "    },\n",
    "    'run_cap' : 32\n",
    "}\n",
    "\n",
    "if hyperparameter_tuning:\n",
    "    ! export WANDB_NOTEBOOK_NAME=\"main.ipynb\"\n",
    "    # Initialize sweep by passing in config. (Optional) Provide a name of the project.\n",
    "    sweep_id = wandb.sweep(sweep=sweep_configuration, project=PROJECT_NAME,)\n",
    "\n",
    "    # Start sweep job.\n",
    "    wandb.agent(sweep_id, function=main)"
   ]
  },
  {
   "cell_type": "markdown",
   "metadata": {},
   "source": [
    "### Restore checkpoint"
   ]
  },
  {
   "cell_type": "code",
   "execution_count": null,
   "metadata": {},
   "outputs": [],
   "source": [
    "def test(policy, test_env, num_episodes: int=10000):\n",
    "    rewards = []\n",
    "    log_interval = 100\n",
    "    time_step = test_env.reset()\n",
    "    total_return = 0.0\n",
    "    for i in tqdm(range(10000)):\n",
    "        policy_state = policy.action(time_step)\n",
    "        time_step = test_env.step(policy_state.action)\n",
    "        reward = time_step.reward.numpy()[0]\n",
    "        total_return += reward # Calculate a sum of rewards\n",
    "\n",
    "        if i % log_interval == 0:\n",
    "            # avg_return = compute_avg_return(eval_env, agent.policy, 10)\n",
    "            avg_return = total_return / eval_interval\n",
    "            print('step = {0}: Average reward = {1:.5f}'.format(step, avg_return))\n",
    "            rewards.append(avg_return)\n",
    "            total_return = 0.0 # reset\n",
    "    return rewards\n",
    "\n",
    "# test(agent.policy, test_env)"
   ]
  }
 ],
 "metadata": {
  "kernelspec": {
   "display_name": "my-env",
   "language": "python",
   "name": "python3"
  },
  "language_info": {
   "codemirror_mode": {
    "name": "ipython",
    "version": 3
   },
   "file_extension": ".py",
   "mimetype": "text/x-python",
   "name": "python",
   "nbconvert_exporter": "python",
   "pygments_lexer": "ipython3",
   "version": "3.8.17"
  },
  "orig_nbformat": 4
 },
 "nbformat": 4,
 "nbformat_minor": 2
}
