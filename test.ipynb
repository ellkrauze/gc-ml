{
 "cells": [
  {
   "cell_type": "code",
   "execution_count": 7,
   "metadata": {},
   "outputs": [],
   "source": [
    "goal = \"avgFullGCPauseEr\"\n",
    "sep = ';'\n",
    "with open(\"summary.csv\", \"+r\") as summary_file:\n",
    "    for line in summary_file.readlines():\n",
    "        if goal+sep in line:\n",
    "            print(line.split(sep)[1])"
   ]
  },
  {
   "cell_type": "code",
   "execution_count": 42,
   "metadata": {},
   "outputs": [
    {
     "data": {
      "text/plain": [
       "0.6666666666666666"
      ]
     },
     "execution_count": 42,
     "metadata": {},
     "output_type": "execute_result"
    }
   ],
   "source": [
    "current_state = 0.06\n",
    "next_state = 0.02\n",
    "\n",
    "reward = abs(next_state - current_state) / current_state\n",
    "reward"
   ]
  },
  {
   "cell_type": "code",
   "execution_count": 33,
   "metadata": {},
   "outputs": [
    {
     "data": {
      "text/plain": [
       "array([list([1, 2]), 3], dtype=object)"
      ]
     },
     "execution_count": 33,
     "metadata": {},
     "output_type": "execute_result"
    }
   ],
   "source": [
    "import numpy as np\n",
    "state = np.array([list([1, 1]), 3], dtype=object)\n",
    "state[0][1] += 1\n",
    "state"
   ]
  },
  {
   "cell_type": "code",
   "execution_count": 29,
   "metadata": {},
   "outputs": [
    {
     "name": "stdout",
     "output_type": "stream",
     "text": [
      "Command failed with return code 255\n",
      "Aug 29, 2023 2:31:59 PM com.tagtraum.perf.gcviewer.GCViewer doMain\n",
      "INFO: GCViewer command line mode\n",
      "Aug 29, 2023 2:31:59 PM com.tagtraum.perf.gcviewer.imp.DataReaderFacade loadModel\n",
      "INFO: GCViewer version 1.36 (2019-11-30T21:36:26+0000)\n",
      "Aug 29, 2023 2:31:59 PM com.tagtraum.perf.gcviewer.imp.DataReaderFacade loadModel\n",
      "WARNING: Failed to read file.\n",
      "java.io.FileNotFoundException: /Users/ellkrauze/projects/gc-ml/gc-xalan.txt (No such file or directory) /Users/ellkrauze/projects/gc-ml/gc-xalan.txt (No such file or directory)\n",
      "Aug 29, 2023 2:31:59 PM com.tagtraum.perf.gcviewer.GCViewer doMain\n",
      "SEVERE: Error during report generation\n",
      "com.tagtraum.perf.gcviewer.imp.DataReaderException\n",
      "\tat com.tagtraum.perf.gcviewer.imp.DataReaderFacade.loadModel(DataReaderFacade.java:61)\n",
      "\tat com.tagtraum.perf.gcviewer.GCViewer.export(GCViewer.java:92)\n",
      "\tat com.tagtraum.perf.gcviewer.GCViewer.doMain(GCViewer.java:73)\n",
      "\tat com.tagtraum.perf.gcviewer.GCViewer.main(GCViewer.java:43)\n",
      "Caused by: java.io.FileNotFoundException: /Users/ellkrauze/projects/gc-ml/gc-xalan.txt (No such file or directory)\n",
      "\tat java.base/java.io.FileInputStream.open0(Native Method)\n",
      "\tat java.base/java.io.FileInputStream.open(FileInputStream.java:219)\n",
      "\tat java.base/java.io.FileInputStream.<init>(FileInputStream.java:157)\n",
      "\tat java.base/java.io.FileInputStream.<init>(FileInputStream.java:112)\n",
      "\tat java.base/sun.net.www.protocol.file.FileURLConnection.connect(FileURLConnection.java:86)\n",
      "\tat java.base/sun.net.www.protocol.file.FileURLConnection.getInputStream(FileURLConnection.java:184)\n",
      "\tat java.base/java.net.URL.openStream(URL.java:1165)\n",
      "\tat com.tagtraum.perf.gcviewer.imp.DataReaderFacade.readModel(DataReaderFacade.java:117)\n",
      "\tat com.tagtraum.perf.gcviewer.imp.DataReaderFacade.loadModel(DataReaderFacade.java:68)\n",
      "\t... 3 more\n",
      "\n",
      "\n"
     ]
    }
   ],
   "source": [
    "import os\n",
    "import subprocess\n",
    "\n",
    "goal = \"maxFullGCPause\"\n",
    "sep = ';'\n",
    "jdk = \"/Users/ellkrauze/projects/gc-ml/jdk-11.0.20.1.jdk\"\n",
    "\n",
    "env = os.environ.copy()\n",
    "env[\"PATH\"] = f\"{jdk}/bin:{env['PATH']}\"\n",
    "\n",
    "try:\n",
    "    output = subprocess.check_output(\n",
    "        [\"java\",\n",
    "        \"-cp\", \"gcviewer-1.36.jar\",\n",
    "        \"com.tagtraum.perf.gcviewer.GCViewer\",\n",
    "        \"gc-xalan.txt\",\n",
    "        \"summary.csv\", \n",
    "        \"-t\", \"SUMMARY\"],\n",
    "        stderr=subprocess.STDOUT,\n",
    "        text = True,\n",
    "        env=env)\n",
    "    print(output)\n",
    "except subprocess.CalledProcessError as e:\n",
    "    print(\"Command failed with return code\", e.returncode)\n",
    "    print(e.output)\n"
   ]
  },
  {
   "cell_type": "code",
   "execution_count": 23,
   "metadata": {},
   "outputs": [
    {
     "ename": "ValueError",
     "evalue": "I/O operation on closed file.",
     "output_type": "error",
     "traceback": [
      "\u001b[0;31m---------------------------------------------------------------------------\u001b[0m",
      "\u001b[0;31mValueError\u001b[0m                                Traceback (most recent call last)",
      "Cell \u001b[0;32mIn[23], line 1\u001b[0m\n\u001b[0;32m----> 1\u001b[0m summary_file\u001b[39m.\u001b[39;49mreadlines()\n",
      "\u001b[0;31mValueError\u001b[0m: I/O operation on closed file."
     ]
    }
   ],
   "source": [
    "summary_file.readlines()"
   ]
  },
  {
   "cell_type": "code",
   "execution_count": null,
   "metadata": {},
   "outputs": [],
   "source": [
    "import subprocess\n",
    "\n",
    "flags_process = subprocess.Popen(\n",
    "    [\"java\", \"-XX:+PrintFlagsFinal\", \"-version\"],\n",
    "    stdout=subprocess.PIPE,\n",
    "    text=True,\n",
    "    env=self._env)\n",
    "\n",
    "grep_process = subprocess.Popen(\n",
    "    [\"grep\", opt, \"-m\", \"1\"],\n",
    "    stdin=flags_process.stdout,\n",
    "    stdout=subprocess.PIPE,\n",
    "    text=True)\n",
    "\n",
    "output, error = grep_process.communicate()\n",
    "result = re.findall(\"\\d+\", output)[0]"
   ]
  },
  {
   "cell_type": "code",
   "execution_count": 2,
   "metadata": {},
   "outputs": [
    {
     "name": "stdout",
     "output_type": "stream",
     "text": [
      "[array([-0.,  1.]) -2.0]\n"
     ]
    }
   ],
   "source": [
    "import scipy.optimize as optimize\n",
    "import numpy as np\n",
    "\n",
    "def _y(params):\n",
    "    x, y = params\n",
    "    # z_min = z(0; 1) = -2\n",
    "    return 3*x**2 + x*y + 2*y**2 - x - 4*y\n",
    "\n",
    "initial_guess = [1, 1]\n",
    "result = optimize.minimize(_y, initial_guess)\n",
    "if result.success:\n",
    "    target_arg = np.round(result.x, 5)\n",
    "    target_f = np.round(result.fun, 5)\n",
    "    # returns np.array([[x, y], z], dtype=np.int32)\n",
    "    state = np.array([target_arg, target_f], dtype=object)\n",
    "    print(state)\n",
    "else:\n",
    "    raise ValueError(result.message)"
   ]
  },
  {
   "cell_type": "code",
   "execution_count": 4,
   "metadata": {},
   "outputs": [
    {
     "name": "stdout",
     "output_type": "stream",
     "text": [
      "Action 2, state [list([5, 6]) 10]\n",
      "[list([5, 5]) 10]\n"
     ]
    }
   ],
   "source": [
    "def transform_action(action):\n",
    "    # Convert action from [0, 1] to [-1, 1]\n",
    "    return 2 * action - 1\n",
    "\n",
    "_state = np.array([[5, 6], 10], dtype=object)\n",
    "\n",
    "def _decrease_x():\n",
    "    _state[0][0] -= 1\n",
    "\n",
    "def _increase_x():\n",
    "    _state[0][0] += 1\n",
    "\n",
    "def _decrease_y():\n",
    "    _state[0][1] -= 1\n",
    "\n",
    "def _increase_y():\n",
    "    _state[0][1] += 1\n",
    "\n",
    "\n",
    "action_mapping = {\n",
    "    0: _decrease_x,\n",
    "    1: _increase_x,\n",
    "    2: _decrease_y,\n",
    "    3: _increase_y,\n",
    "}\n",
    "\n",
    "action_arr = [0, 1, 2, 3]\n",
    "random_action = np.random.choice(action_arr)\n",
    "# print(random_action)\n",
    "# print(_state)\n",
    "print(f\"Action {random_action}, state {_state}\")\n",
    "action_mapping.get(random_action)()\n",
    "print(_state)\n",
    "# for action in action_arr:\n",
    "#     variable = action_arr.index(action)\n",
    "#     result_action = transform_action(variable % 2)\n",
    "#     print(f\"Variable {variable}, action {result_action}\")\n",
    "    \n",
    "# action_arr.index(5) % 2"
   ]
  },
  {
   "cell_type": "code",
   "execution_count": null,
   "metadata": {},
   "outputs": [],
   "source": [
    "def _get_JVM_opt_value(self, opt: str):\n",
    "    \"\"\"\n",
    "    Get the defaul JVM option value from environment\n",
    "    by parsing java PrintFlagsFinal output.\n",
    "\n",
    "    Parameters:\n",
    "    opt (str): JVM option name\n",
    "\n",
    "    Returns:\n",
    "    (int) Default JVM option value\n",
    "    \"\"\"\n",
    "    flags_process = subprocess.Popen(\n",
    "        [\"java\", \"-XX:+PrintFlagsFinal\", \"-version\"],\n",
    "        stdout=subprocess.PIPE,\n",
    "        text=True,\n",
    "        env=env)\n",
    "\n",
    "    grep_process = subprocess.Popen(\n",
    "        [\"grep\", opt, \"-m\", \"1\"],\n",
    "        stdin=flags_process.stdout,\n",
    "        stdout=subprocess.PIPE,\n",
    "        text=True)\n",
    "\n",
    "    output, error = grep_process.communicate()\n",
    "    result = re.findall(\"\\d+\", output)[0]\n",
    "\n",
    "    return int(result)"
   ]
  },
  {
   "cell_type": "code",
   "execution_count": 29,
   "metadata": {},
   "outputs": [
    {
     "data": {
      "text/plain": [
       "4"
      ]
     },
     "execution_count": 29,
     "metadata": {},
     "output_type": "execute_result"
    }
   ],
   "source": [
    "len(list(_action_mapping.keys()))"
   ]
  },
  {
   "cell_type": "code",
   "execution_count": 30,
   "metadata": {},
   "outputs": [
    {
     "data": {
      "text/plain": [
       "array([list([100, 200]), 300], dtype=object)"
      ]
     },
     "execution_count": 30,
     "metadata": {},
     "output_type": "execute_result"
    }
   ],
   "source": [
    "state "
   ]
  },
  {
   "cell_type": "code",
   "execution_count": 31,
   "metadata": {},
   "outputs": [
    {
     "data": {
      "text/plain": [
       "array([list([100, 200]), 300], dtype=object)"
      ]
     },
     "execution_count": 31,
     "metadata": {},
     "output_type": "execute_result"
    }
   ],
   "source": [
    "new_state = np.copy(state)\n",
    "new_state"
   ]
  },
  {
   "cell_type": "code",
   "execution_count": 28,
   "metadata": {},
   "outputs": [
    {
     "ename": "AssertionError",
     "evalue": "",
     "output_type": "error",
     "traceback": [
      "\u001b[0;31m---------------------------------------------------------------------------\u001b[0m",
      "\u001b[0;31mAssertionError\u001b[0m                            Traceback (most recent call last)",
      "Cell \u001b[0;32mIn[28], line 13\u001b[0m\n\u001b[1;32m      2\u001b[0m _flags \u001b[39m=\u001b[39m {\n\u001b[1;32m      3\u001b[0m     \u001b[39m\"\u001b[39m\u001b[39mMaxHeapSize\u001b[39m\u001b[39m\"\u001b[39m: {\u001b[39m\"\u001b[39m\u001b[39mmin\u001b[39m\u001b[39m\"\u001b[39m: \u001b[39m2.68e+8\u001b[39m, \u001b[39m\"\u001b[39m\u001b[39mmax\u001b[39m\u001b[39m\"\u001b[39m: \u001b[39m4.29e+9\u001b[39m},\n\u001b[1;32m      4\u001b[0m     \u001b[39m\"\u001b[39m\u001b[39mInitialHeapSize\u001b[39m\u001b[39m\"\u001b[39m: {\u001b[39m\"\u001b[39m\u001b[39mmin\u001b[39m\u001b[39m\"\u001b[39m: \u001b[39m1.25e+8\u001b[39m, \u001b[39m\"\u001b[39m\u001b[39mmax\u001b[39m\u001b[39m\"\u001b[39m: \u001b[39m2.5e+8\u001b[39m},\n\u001b[1;32m      5\u001b[0m }\n\u001b[1;32m      6\u001b[0m _action_mapping \u001b[39m=\u001b[39m {\n\u001b[1;32m      7\u001b[0m     \u001b[39m0\u001b[39m: \u001b[39m1\u001b[39m,\n\u001b[1;32m      8\u001b[0m     \u001b[39m1\u001b[39m: \u001b[39m2\u001b[39m,\n\u001b[1;32m      9\u001b[0m     \u001b[39m2\u001b[39m: \u001b[39m3\u001b[39m,\n\u001b[1;32m     10\u001b[0m     \u001b[39m3\u001b[39m: \u001b[39m4\u001b[39m,\n\u001b[1;32m     11\u001b[0m }\n\u001b[0;32m---> 13\u001b[0m \u001b[39massert\u001b[39;00m \u001b[39mlen\u001b[39m(\u001b[39mlist\u001b[39m(_action_mapping\u001b[39m.\u001b[39mkeys())) \u001b[39m==\u001b[39m \u001b[39m2\u001b[39m\u001b[39m*\u001b[39m_num_variables \u001b[39m-\u001b[39m \u001b[39m1\u001b[39m\n",
      "\u001b[0;31mAssertionError\u001b[0m: "
     ]
    }
   ],
   "source": [
    "_num_variables = 2\n",
    "_flags = {\n",
    "    \"MaxHeapSize\": {\"min\": 2.68e+8, \"max\": 4.29e+9},\n",
    "    \"InitialHeapSize\": {\"min\": 1.25e+8, \"max\": 2.5e+8},\n",
    "}\n",
    "_action_mapping = {\n",
    "    0: 1,\n",
    "    1: 2,\n",
    "    2: 3,\n",
    "    3: 4,\n",
    "}\n",
    "\n",
    "assert len(list(_action_mapping.keys())) == 2*_num_variables - 1"
   ]
  },
  {
   "cell_type": "markdown",
   "metadata": {},
   "source": []
  },
  {
   "cell_type": "code",
   "execution_count": 24,
   "metadata": {},
   "outputs": [
    {
     "name": "stdout",
     "output_type": "stream",
     "text": [
      "['-XX:MaxHeapSize=100']\n",
      "['-XX:MaxHeapSize=100', '-XX:InitialHeapSize=200']\n"
     ]
    }
   ],
   "source": [
    "flags = {\n",
    "    \"MaxHeapSize\": {\"min\": 268435456, \"max\": 4294967296},\n",
    "    \"InitialHeapSize\": {\"min\": 20, \"max\": 200},\n",
    "}\n",
    "\n",
    "state = np.array([[100, 200], 300], dtype=object)\n",
    "\n",
    "jvm_opts = []\n",
    "for flag_name in flags.keys():\n",
    "    i = list(flags.keys()).index(flag_name)\n",
    "    flag_value = state[0][i]\n",
    "    jvm_opt = f\"-XX:{flag_name}={flag_value}\"\n",
    "    jvm_opts.append(jvm_opt)\n",
    "    print(jvm_opts)"
   ]
  },
  {
   "cell_type": "code",
   "execution_count": 11,
   "metadata": {},
   "outputs": [
    {
     "name": "stdout",
     "output_type": "stream",
     "text": [
      "<class 'int'>\n"
     ]
    }
   ],
   "source": [
    "print(type(int(np.array(0))))"
   ]
  },
  {
   "cell_type": "code",
   "execution_count": 88,
   "metadata": {},
   "outputs": [],
   "source": [
    "num_variables = 2\n",
    "min_action_values = {\n",
    "            \"x\": -2,\n",
    "            \"y\": -10,\n",
    "        }\n",
    "max_action_values = {\n",
    "            \"x\": 2,\n",
    "            \"y\": 10,\n",
    "        }\n",
    "def _y(params):\n",
    "    x, y = params\n",
    "    # z_min = z(0; 1) = -2\n",
    "    return 3*x**2 + x*y + 2*y**2 - x - 4*y\n",
    "\n",
    "def _get_target():\n",
    "    initial_guess = [1, 1]\n",
    "    result = optimize.minimize(_y, initial_guess)\n",
    "    if result.success:\n",
    "        target_arg = np.round(result.x, 5)\n",
    "        target_f = np.round(result.fun, 5)\n",
    "        # returns np.array([[x, y], z], dtype=np.int32)\n",
    "        return np.array([target_arg, target_f], dtype=object)\n",
    "    else:\n",
    "        raise ValueError(result.message)\n",
    "\n",
    "def _get_initial_state():\n",
    "    state_args = np.random.randint(\n",
    "        list(min_action_values.values()), \n",
    "        list(max_action_values.values()),\n",
    "        size=(num_variables,)\n",
    "    )\n",
    "    state_f = _y(state_args)\n",
    "    return np.array([state_args, state_f], dtype=object)\n",
    "\n",
    "_target_location = _get_target()\n",
    "_state = _get_initial_state()\n",
    "\n",
    "# We will sample agent's location until \n",
    "# it does not coincide with the target location\n",
    "# while np.isclose(_state, _target_location): \n",
    "#     _state = _get_initial_state()\n",
    "# np.random.randint(list(min_action_values.values()), list(max_action_values.values()), size=(num_variables,), dtype=np.int32)"
   ]
  },
  {
   "cell_type": "code",
   "execution_count": 90,
   "metadata": {},
   "outputs": [
    {
     "data": {
      "text/plain": [
       "array([array([0, 4]), 16], dtype=object)"
      ]
     },
     "execution_count": 90,
     "metadata": {},
     "output_type": "execute_result"
    }
   ],
   "source": [
    "_state"
   ]
  },
  {
   "cell_type": "code",
   "execution_count": 91,
   "metadata": {},
   "outputs": [
    {
     "data": {
      "text/plain": [
       "array([array([-0.,  1.]), -2.0], dtype=object)"
      ]
     },
     "execution_count": 91,
     "metadata": {},
     "output_type": "execute_result"
    }
   ],
   "source": [
    "_target_location"
   ]
  },
  {
   "cell_type": "code",
   "execution_count": 100,
   "metadata": {},
   "outputs": [
    {
     "data": {
      "text/plain": [
       "False"
      ]
     },
     "execution_count": 100,
     "metadata": {},
     "output_type": "execute_result"
    }
   ],
   "source": [
    "np.allclose(_state[0], _target_location[0])"
   ]
  },
  {
   "cell_type": "code",
   "execution_count": 84,
   "metadata": {},
   "outputs": [
    {
     "data": {
      "text/plain": [
       "array([-0.,  1.])"
      ]
     },
     "execution_count": 84,
     "metadata": {},
     "output_type": "execute_result"
    }
   ],
   "source": [
    "initial_guess = [1, 1]\n",
    "result = optimize.minimize(_y, initial_guess)\n",
    "\n",
    "target_arg = np.round(result.x, 5)\n",
    "target_f = np.round(result.fun, 5)\n",
    "# returns np.array([[x, y], z], dtype=np.int32)\n",
    "# print(np.array([target_arg, target_f], dtype=object)) \n",
    "\n",
    "target_arg"
   ]
  },
  {
   "cell_type": "code",
   "execution_count": 86,
   "metadata": {},
   "outputs": [
    {
     "data": {
      "text/plain": [
       "array([array([1, 1]), 1], dtype=object)"
      ]
     },
     "execution_count": 86,
     "metadata": {},
     "output_type": "execute_result"
    }
   ],
   "source": [
    "_state"
   ]
  },
  {
   "cell_type": "code",
   "execution_count": 82,
   "metadata": {},
   "outputs": [
    {
     "data": {
      "text/plain": [
       "array([array([-0.,  1.]), -2.0], dtype=object)"
      ]
     },
     "execution_count": 82,
     "metadata": {},
     "output_type": "execute_result"
    }
   ],
   "source": [
    "_target_location"
   ]
  },
  {
   "cell_type": "code",
   "execution_count": 24,
   "metadata": {},
   "outputs": [
    {
     "data": {
      "text/plain": [
       "[-9.556824811227972e-09, 0.9999999906776661]"
      ]
     },
     "execution_count": 24,
     "metadata": {},
     "output_type": "execute_result"
    }
   ],
   "source": [
    "list(result.x)"
   ]
  },
  {
   "cell_type": "code",
   "execution_count": 12,
   "metadata": {},
   "outputs": [
    {
     "data": {
      "text/plain": [
       "[-2, -10]"
      ]
     },
     "execution_count": 12,
     "metadata": {},
     "output_type": "execute_result"
    }
   ],
   "source": [
    "min_action_values = {\"x\": -2, \"y\": -10}\n",
    "list(min_action_values.values())"
   ]
  },
  {
   "cell_type": "code",
   "execution_count": 6,
   "metadata": {},
   "outputs": [
    {
     "data": {
      "text/plain": [
       "array([-3, -5])"
      ]
     },
     "execution_count": 6,
     "metadata": {},
     "output_type": "execute_result"
    }
   ],
   "source": [
    "np.random.randint(-5, 5, size=(2,), dtype=int)"
   ]
  },
  {
   "cell_type": "code",
   "execution_count": 7,
   "metadata": {},
   "outputs": [
    {
     "data": {
      "text/plain": [
       "142"
      ]
     },
     "execution_count": 7,
     "metadata": {},
     "output_type": "execute_result"
    }
   ],
   "source": [
    "def _y(params):\n",
    "    x, y = params\n",
    "    # z_min = z(0; 1) = -2\n",
    "    return 3*x**2 + x*y + 2*y**2 - x - 4*y\n",
    "\n",
    "_y(np.random.randint(-5, 5, size=(2,), dtype=int))"
   ]
  },
  {
   "cell_type": "code",
   "execution_count": 1,
   "metadata": {},
   "outputs": [],
   "source": [
    "from scipy.optimize import basinhopping\n",
    "import math\n",
    "\n",
    "def _y(x):\n",
    "        return 2*math.pow(x, 3) - 3*math.pow(x, 2) - 12 * x + 1\n",
    "\n",
    "x0 = [1.]\n",
    "minimizer_kwargs = {\"method\": \"BFGS\"}\n",
    "solution = basinhopping(_y, x0, minimizer_kwargs=minimizer_kwargs,\n",
    "            niter=200)"
   ]
  },
  {
   "cell_type": "code",
   "execution_count": 1,
   "metadata": {},
   "outputs": [
    {
     "ename": "NameError",
     "evalue": "name 'solution' is not defined",
     "output_type": "error",
     "traceback": [
      "\u001b[0;31m---------------------------------------------------------------------------\u001b[0m",
      "\u001b[0;31mNameError\u001b[0m                                 Traceback (most recent call last)",
      "Cell \u001b[0;32mIn[1], line 1\u001b[0m\n\u001b[0;32m----> 1\u001b[0m \u001b[39mtype\u001b[39m(solution\u001b[39m.\u001b[39mx)\n",
      "\u001b[0;31mNameError\u001b[0m: name 'solution' is not defined"
     ]
    }
   ],
   "source": [
    "type(solution.x)"
   ]
  },
  {
   "cell_type": "markdown",
   "metadata": {},
   "source": [
    "### Save animation "
   ]
  },
  {
   "cell_type": "code",
   "execution_count": 6,
   "metadata": {},
   "outputs": [
    {
     "data": {
      "image/png": "[encoded data removed]",
      "text/plain": [
       "<Figure size 640x480 with 1 Axes>"
      ]
     },
     "metadata": {},
     "output_type": "display_data"
    },
    {
     "data": {
      "image/png": "[encoded data removed]",
      "text/plain": [
       "<Figure size 640x480 with 1 Axes>"
      ]
     },
     "metadata": {},
     "output_type": "display_data"
    }
   ],
   "source": [
    "from matplotlib.animation import FuncAnimation\n",
    "\n",
    "def animate_curve_nav(env, steps):\n",
    "    fig, ax = plt.subplots()\n",
    "    env.ax = ax  # Set the environment's ax to the animation's ax\n",
    "    \n",
    "    def animate(frame):\n",
    "        env.step(env.action_space.sample())  # Sample random action\n",
    "        env.render()\n",
    "    \n",
    "    anim = FuncAnimation(fig, animate, frames=steps, interval=100)\n",
    "    anim.save('curve_nav_animation.gif', writer='imagemagick', fps=10)  # Save as GIF\n",
    "\n",
    "# Call animate_curve_nav with the environment and number of steps\n",
    "animate_curve_nav(env, steps=200)"
   ]
  },
  {
   "cell_type": "code",
   "execution_count": 3,
   "metadata": {},
   "outputs": [
    {
     "data": {
      "image/png": "[encoded data removed]",
      "text/plain": [
       "<Figure size 640x480 with 1 Axes>"
      ]
     },
     "metadata": {},
     "output_type": "display_data"
    }
   ],
   "source": [
    "# plt.close('all') # close all previous plots\n",
    "\n",
    "fig, ax = plt.subplots()\n",
    "ax.set_xlim([-50, 50])\n",
    "ax.set_ylim([-2500, 100])\n",
    "\n",
    "# create a random line to plot\n",
    "#------------------------------------------------------------------------------\n",
    "\n",
    "def f(x):\n",
    "    # return np.sin(np.divide(x, 100)) * 100 * 2\n",
    "    return - x**2\n",
    "\n",
    "x = np.arange(-50, 50)\n",
    "y = [f(x) for x in x]\n",
    "# print(x)\n",
    "# print(y)\n",
    "\n",
    "scat = ax.scatter(1, 0)\n",
    "ax.plot(x, y, c='k')\n",
    "ax.scatter(0, 0, c='r')\n",
    "def animate(i):\n",
    "    scat.set_offsets((x[i], y[i]))\n",
    "    return scat,\n",
    "\n",
    "anim = FuncAnimation(\n",
    "    fig, \n",
    "    animate, \n",
    "    repeat=True,\n",
    "    frames=len(x) - 1, \n",
    "    interval=50\n",
    ")\n",
    "\n",
    "\n",
    "# To save the animation using Pillow as a gif\n",
    "writer = PillowWriter(\n",
    "    fps=15,\n",
    "    metadata=dict(artist='Me'),\n",
    "    bitrate=1800\n",
    ")\n",
    "anim.save('scatter.gif', writer=writer)\n",
    "\n",
    "plt.show()"
   ]
  },
  {
   "cell_type": "code",
   "execution_count": 20,
   "metadata": {},
   "outputs": [
    {
     "name": "stdout",
     "output_type": "stream",
     "text": [
      "-54.27504386670905\n",
      "-294578.03867331916\n"
     ]
    },
    {
     "ename": "TypeError",
     "evalue": "set_offsets() takes 2 positional arguments but 3 were given",
     "output_type": "error",
     "traceback": [
      "\u001b[0;31m---------------------------------------------------------------------------\u001b[0m",
      "\u001b[0;31mTypeError\u001b[0m                                 Traceback (most recent call last)",
      "Cell \u001b[0;32mIn[20], line 20\u001b[0m\n\u001b[1;32m     18\u001b[0m     \u001b[39mprint\u001b[39m(new_y)\n\u001b[1;32m     19\u001b[0m     \u001b[39m# ax.scatter(new_x, new_y)\u001b[39;00m\n\u001b[0;32m---> 20\u001b[0m     scat\u001b[39m.\u001b[39;49mset_offsets(new_x, new_y)\n\u001b[1;32m     21\u001b[0m     fig\u001b[39m.\u001b[39mcanvas\u001b[39m.\u001b[39mflush_events()\n\u001b[1;32m     23\u001b[0m \u001b[39m# anim = ArtistAnimation(fig, images) \u001b[39;00m\n\u001b[1;32m     24\u001b[0m \u001b[39m# anim.save(name, writer = 'imagemagic', fps = fps)\u001b[39;00m\n",
      "\u001b[0;31mTypeError\u001b[0m: set_offsets() takes 2 positional arguments but 3 were given"
     ]
    },
    {
     "data": {
      "image/png": "[encoded data removed]",
      "text/plain": [
       "<Figure size 640x480 with 1 Axes>"
      ]
     },
     "metadata": {},
     "output_type": "display_data"
    }
   ],
   "source": [
    "plt.close('all')\n",
    "\n",
    "fig, ax = plt.subplots()\n",
    "\n",
    "def y(x):\n",
    "    # return np.sin(np.divide(x, 100)) * 100 * 2\n",
    "    return -100 * x**2\n",
    "\n",
    "line_x = np.arange(low, high, 0.1)\n",
    "# line_y = [y(x) for x in np.arange(low, high, 0.1)]\n",
    "\n",
    "# ax.plot(line_x, y(line_x), color='k')\n",
    "scat = ax.scatter([], [], color='k')\n",
    "\n",
    "for frame in range(100):\n",
    "    new_x = np.random.uniform(low, high, size=None)\n",
    "    new_y = y(new_x)\n",
    "    # ax.cla()\n",
    "    print(new_x)\n",
    "    print(new_y)\n",
    "    # ax.scatter(new_x, new_y)\n",
    "    scat.set_offsets(new_x, new_y)\n",
    "    fig.canvas.flush_events()\n",
    "\n",
    "# anim = ArtistAnimation(fig, images) \n",
    "# anim.save(name, writer = 'imagemagic', fps = fps)\n",
    "\n",
    "plt.show()"
   ]
  },
  {
   "cell_type": "code",
   "execution_count": 6,
   "metadata": {},
   "outputs": [
    {
     "data": {
      "text/plain": [
       "2.1949014865547394"
      ]
     },
     "execution_count": 6,
     "metadata": {},
     "output_type": "execute_result"
    }
   ],
   "source": [
    "x = np.random.uniform(low, high, size=None)\n",
    "np.sin(np.divide(x, 100)) * 100 * 2"
   ]
  },
  {
   "cell_type": "code",
   "execution_count": 1,
   "metadata": {},
   "outputs": [
    {
     "name": "stdout",
     "output_type": "stream",
     "text": [
      "pygame 2.5.1 (SDL 2.28.2, Python 3.8.10)\n",
      "Hello from the pygame community. https://www.pygame.org/contribute.html\n"
     ]
    },
    {
     "ename": "",
     "evalue": "",
     "output_type": "error",
     "traceback": [
      "\u001b[1;31mThe Kernel crashed while executing code in the the current cell or a previous cell. Please review the code in the cell(s) to identify a possible cause of the failure. Click <a href='https://aka.ms/vscodeJupyterKernelCrash'>here</a> for more info. View Jupyter <a href='command:jupyter.viewOutput'>log</a> for further details."
     ]
    }
   ],
   "source": [
    "import pygame\n",
    "\n",
    "\n",
    "window_size = 512\n",
    "size = 10\n",
    "\n",
    "pygame.init()\n",
    "pygame.display.init()\n",
    "window = pygame.display.set_mode((window_size, window_size))\n",
    "\n",
    "canvas = pygame.Surface((window_size, window_size))\n",
    "canvas.fill((255, 255, 255))\n",
    "\n",
    "pix_square_size = (\n",
    "    window_size / size\n",
    ") \n",
    "\n",
    "pygame.draw.circle(window, 'red', (x, y), 10)\n",
    "\n",
    "pygame.draw.circle(window, 'red', (x, y), 10)\n",
    "\n",
    "# The following line copies our drawings from `canvas` to the visible window\n",
    "window.blit(canvas, canvas.get_rect())\n",
    "pygame.event.pump()\n",
    "pygame.display.update()"
   ]
  },
  {
   "cell_type": "code",
   "execution_count": 14,
   "metadata": {},
   "outputs": [
    {
     "ename": "AttributeError",
     "evalue": "'function' object has no attribute 'uniform'",
     "output_type": "error",
     "traceback": [
      "\u001b[0;31m---------------------------------------------------------------------------\u001b[0m",
      "\u001b[0;31mAttributeError\u001b[0m                            Traceback (most recent call last)",
      "Cell \u001b[0;32mIn[14], line 1\u001b[0m\n\u001b[0;32m----> 1\u001b[0m gym\u001b[39m.\u001b[39;49mutils\u001b[39m.\u001b[39;49mseeding\u001b[39m.\u001b[39;49mnp_random\u001b[39m.\u001b[39;49muniform(\u001b[39m10\u001b[39m, \u001b[39m100\u001b[39m, size\u001b[39m=\u001b[39m\u001b[39m1\u001b[39m)\n",
      "\u001b[0;31mAttributeError\u001b[0m: 'function' object has no attribute 'uniform'"
     ]
    }
   ],
   "source": [
    "gym.utils.seeding.np_random.uniform(10, 100, size=1)"
   ]
  },
  {
   "cell_type": "code",
   "execution_count": 7,
   "metadata": {},
   "outputs": [
    {
     "name": "stdout",
     "output_type": "stream",
     "text": [
      "4\n"
     ]
    }
   ],
   "source": [
    "\n",
    "x = 6\n",
    "print(np.clip(x, low, high))"
   ]
  },
  {
   "cell_type": "code",
   "execution_count": 8,
   "metadata": {},
   "outputs": [
    {
     "data": {
      "text/plain": [
       "False"
      ]
     },
     "execution_count": 8,
     "metadata": {},
     "output_type": "execute_result"
    }
   ],
   "source": [
    "import math\n",
    "\n",
    "math.isclose(np.cos(np.divide(100039.76979446411, 100)), 0)"
   ]
  },
  {
   "cell_type": "code",
   "execution_count": 5,
   "metadata": {},
   "outputs": [
    {
     "data": {
      "text/plain": [
       "-0.013424798221964197"
      ]
     },
     "execution_count": 5,
     "metadata": {},
     "output_type": "execute_result"
    }
   ],
   "source": [
    "np.cos(np.divide(8638.03727722168, 100))"
   ]
  },
  {
   "cell_type": "code",
   "execution_count": 5,
   "metadata": {},
   "outputs": [
    {
     "name": "stdout",
     "output_type": "stream",
     "text": [
      "6283067392\n"
     ]
    }
   ],
   "source": [
    "\n",
    "jdk = \"/home/ellkrauze/projects/gc-ml/jdk-11.0.20\"\n",
    "\n",
    "def get_JVM_opt_value(opt: str):\n",
    "    \"\"\"\n",
    "    Get the defaul JVM option value from environment\n",
    "    by parsing java PrintFlagsFinal output.\n",
    "\n",
    "    Parameters:\n",
    "    opt (str): JVM option name\n",
    "\n",
    "    Returns:\n",
    "    (int) Default JVM option value\n",
    "    \"\"\"\n",
    "    env = os.environ.copy()\n",
    "    env[\"PATH\"] = f\"{jdk}/bin:{env['PATH']}\"\n",
    "    \n",
    "    flags_process = subprocess.Popen(\n",
    "        [\"java\", \"-XX:+PrintFlagsFinal\", \"-version\"],\n",
    "        stdout=subprocess.PIPE,\n",
    "        env = env,\n",
    "        text=True)\n",
    "\n",
    "    grep_process = subprocess.Popen(\n",
    "        [\"grep\", opt, \"-m\", \"1\"],\n",
    "        stdin=flags_process.stdout,\n",
    "        stdout=subprocess.PIPE,\n",
    "        text=True)\n",
    "\n",
    "    output, error = grep_process.communicate()\n",
    "    result = re.findall(\"\\d+\", output)[0]\n",
    "\n",
    "    return int(result)\n",
    "\n",
    "\n",
    "result = get_JVM_opt_value(\"MaxHeapSize\")\n",
    "print(result)"
   ]
  },
  {
   "cell_type": "code",
   "execution_count": 12,
   "metadata": {},
   "outputs": [
    {
     "data": {
      "text/plain": [
       "False"
      ]
     },
     "execution_count": 12,
     "metadata": {},
     "output_type": "execute_result"
    }
   ],
   "source": [
    "np.array_equal((1, 3), (1, 2))"
   ]
  },
  {
   "cell_type": "code",
   "execution_count": 9,
   "metadata": {},
   "outputs": [
    {
     "name": "stdout",
     "output_type": "stream",
     "text": [
      "(2,)\n",
      "3\n"
     ]
    }
   ],
   "source": [
    "env = JVMEnvTest()\n",
    "\n",
    "states = env.observation_space.shape\n",
    "actions = env.action_space.n\n",
    "\n",
    "print(states)\n",
    "print(actions)\n"
   ]
  },
  {
   "cell_type": "code",
   "execution_count": 7,
   "metadata": {},
   "outputs": [
    {
     "data": {
      "text/plain": [
       "(2,)"
      ]
     },
     "execution_count": 7,
     "metadata": {},
     "output_type": "execute_result"
    }
   ],
   "source": [
    "np.array([1, 2]).shape"
   ]
  },
  {
   "cell_type": "code",
   "execution_count": null,
   "metadata": {},
   "outputs": [],
   "source": []
  }
 ],
 "metadata": {
  "kernelspec": {
   "display_name": "Python 3 (ipykernel)",
   "language": "python",
   "name": "python3"
  },
  "language_info": {
   "codemirror_mode": {
    "name": "ipython",
    "version": 3
   },
   "file_extension": ".py",
   "mimetype": "text/x-python",
   "name": "python",
   "nbconvert_exporter": "python",
   "pygments_lexer": "ipython3",
   "version": "3.8.17"
  }
 },
 "nbformat": 4,
 "nbformat_minor": 4
}
